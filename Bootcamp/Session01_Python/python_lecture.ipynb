{
 "cells": [
  {
   "cell_type": "markdown",
   "metadata": {},
   "source": [
    "# PyRosetta Python Lecture #"
   ]
  },
  {
   "cell_type": "markdown",
   "metadata": {},
   "source": [
    "# Setting up with Python\n",
    "\n",
    "We're going to use Python 3 and [Jupyter](https://jupyter.org/) notebooks this week.  To start up a notebook, from a terminal, `cd` to the directory you want to be in, and start up a notebook server using `jupyter notebook`.\n",
    "\n",
    "If you're using a terminal, you may also want to try `ipython` or `ipython3` which will give you things like tab-completion and syntax highlighting\n",
    "\n",
    "You should have already installed the necessary items here based on Shourya's email - if things aren't working, just follow along with a partner for now."
   ]
  },
  {
   "cell_type": "markdown",
   "metadata": {},
   "source": [
    "# Topics #"
   ]
  },
  {
   "cell_type": "markdown",
   "metadata": {},
   "source": [
    "* Control Flow\n",
    "* String operations\n",
    "* Functions\n",
    "* Data structures: lists, dicts, when to use what\n",
    "* Classes\n",
    "* Numpy\n",
    "* Plotting\n",
    "* PEP-8\n",
    "* Virtual environments"
   ]
  },
  {
   "cell_type": "markdown",
   "metadata": {},
   "source": [
    "# Basics\n",
    "\n",
    "### Booleans, comparison/ arithmetic operators, strings, control flow ###\n",
    "\n",
    "Here are some basic string operations:"
   ]
  },
  {
   "cell_type": "code",
   "execution_count": 2,
   "metadata": {},
   "outputs": [
    {
     "name": "stdout",
     "output_type": "stream",
     "text": [
      "String1String2\n",
      "float 1.00 3.142\n",
      "integer 2\n"
     ]
    }
   ],
   "source": [
    "str1 = \"String1\" \n",
    "str2 = \"String2\"\n",
    "print(str1 + str2)\n",
    "str1 = \"float %.2f %.3f\" % (1.0, 3.141592)\n",
    "print(str1)\n",
    "str2 = \"integer %d\" % 2\n",
    "print(str2)"
   ]
  },
  {
   "cell_type": "markdown",
   "metadata": {},
   "source": [
    "Control flow with: **if**, **else**, **for**, **while**"
   ]
  },
  {
   "cell_type": "code",
   "execution_count": null,
   "metadata": {},
   "outputs": [],
   "source": [
    "x = 25\n",
    "if (x < 15):\n",
    "    print(\"Less\")\n",
    "    x += 1\n",
    "elif (x < 20):\n",
    "    print(\"More\")\n",
    "else:\n",
    "    print(\"Most\")"
   ]
  },
  {
   "cell_type": "markdown",
   "metadata": {},
   "source": [
    "**for** loops are good for iterating through a range of values, or for going through lists (later)"
   ]
  },
  {
   "cell_type": "code",
   "execution_count": null,
   "metadata": {},
   "outputs": [],
   "source": [
    "print(\"loop 1\")\n",
    "for i in range(5):\n",
    "    print(i)\n",
    "    \n",
    "print(\"\\nloop 2\")\n",
    "for i in range(10,2,-2):\n",
    "    print(i)"
   ]
  },
  {
   "cell_type": "markdown",
   "metadata": {},
   "source": [
    "**while** loops are good when the iteration pattern isn't as simple"
   ]
  },
  {
   "cell_type": "code",
   "execution_count": null,
   "metadata": {},
   "outputs": [],
   "source": [
    "i = 1\n",
    "while i < 100:\n",
    "    if i < 10:\n",
    "        i += 2\n",
    "    elif i % 3 == 1:\n",
    "        i += 4\n",
    "    else:\n",
    "        i += 20\n",
    "    print(i)"
   ]
  },
  {
   "cell_type": "markdown",
   "metadata": {},
   "source": [
    "**continue** for passing a loop iteration, **break** for skipping the rest of a loop"
   ]
  },
  {
   "cell_type": "code",
   "execution_count": null,
   "metadata": {},
   "outputs": [],
   "source": [
    "for i in range(10):\n",
    "    if i % 4 == 0:\n",
    "        continue\n",
    "    print(\"Current number: {0}\".format(i))"
   ]
  },
  {
   "cell_type": "code",
   "execution_count": null,
   "metadata": {
    "scrolled": true
   },
   "outputs": [],
   "source": [
    "for i in range(10):\n",
    "    if i % 4 == 0:\n",
    "        continue\n",
    "    print(\"Current number: {0}\".format(i))\n",
    "    for j in range(i % 4):\n",
    "        if j > 1:\n",
    "            break\n",
    "        print(\"Counting remainders: {0}\".format(j + 1))"
   ]
  },
  {
   "cell_type": "markdown",
   "metadata": {},
   "source": [
    "Various installed **modules** give you additional functionality when you **import** them. One very useful one is `math`."
   ]
  },
  {
   "cell_type": "code",
   "execution_count": null,
   "metadata": {},
   "outputs": [],
   "source": [
    "import math\n",
    "\n",
    "math.sqrt(50)"
   ]
  },
  {
   "cell_type": "markdown",
   "metadata": {},
   "source": [
    "Here's a useful one for string manipulation you used on the homework: `re`. \n",
    "\n",
    "Useful functions include searching for patterns in strings and substituting patterns. To find particular patterns in strings, you use **regex** searches."
   ]
  },
  {
   "cell_type": "code",
   "execution_count": 3,
   "metadata": {},
   "outputs": [
    {
     "name": "stdout",
     "output_type": "stream",
     "text": [
      "What a_e we hiding f_om this message?\n",
      "What are we _ from this message?\n",
      "What _ we hiding _ this message?\n",
      "None\n",
      "<re.Match object; span=(12, 18), match='hiding'>\n"
     ]
    }
   ],
   "source": [
    "import re \n",
    "\n",
    "text = \"What are we hiding from this message?\"\n",
    "\n",
    "print(re.sub(r\"r\", '_', text))\n",
    "print(re.sub(r\" h(\\w+)\", ' _', text))\n",
    "print(re.sub(r\"(\\w+)r(\\w+)\", '_', text))\n",
    "\n",
    "print(re.match(r\"hiding\", text))\n",
    "print(re.search(r\"hiding\", text))"
   ]
  },
  {
   "cell_type": "markdown",
   "metadata": {},
   "source": [
    "Another very useful one is `antigravity`."
   ]
  },
  {
   "cell_type": "code",
   "execution_count": null,
   "metadata": {},
   "outputs": [],
   "source": [
    "import antigravity"
   ]
  },
  {
   "cell_type": "markdown",
   "metadata": {},
   "source": [
    "# Functions"
   ]
  },
  {
   "cell_type": "code",
   "execution_count": null,
   "metadata": {},
   "outputs": [],
   "source": [
    "x = 25\n",
    "if (x < 15):\n",
    "    print(\"Less\")\n",
    "elif (x < 20):\n",
    "    print(\"More\")\n",
    "else:\n",
    "    print(\"Most\")\n",
    "\n",
    "x = 10\n",
    "if (x < 16):\n",
    "    print(\"Lest\")\n",
    "elif (x < 20):\n",
    "    print(\"More\")\n",
    "else:\n",
    "    print(\"Most\")\n",
    "\n",
    "x = 18\n",
    "if (x < 15):\n",
    "    print(\"Less\")\n",
    "elif (x < 20):\n",
    "    print(\"More\")\n",
    "else:\n",
    "    print(\"Most\")"
   ]
  },
  {
   "cell_type": "markdown",
   "metadata": {},
   "source": [
    "**Functions** improve readability, conciseness, and code maintenance"
   ]
  },
  {
   "cell_type": "code",
   "execution_count": null,
   "metadata": {},
   "outputs": [],
   "source": [
    "def double(x):\n",
    "    return 2 * x\n",
    "\n",
    "double(2)"
   ]
  },
  {
   "cell_type": "code",
   "execution_count": null,
   "metadata": {},
   "outputs": [],
   "source": [
    "def less_more_most(x):\n",
    "    if (x < 15):\n",
    "        print(\"Less\")\n",
    "    elif (x < 20):\n",
    "        print(\"More\")\n",
    "    else:\n",
    "        print(\"Most\")\n",
    "\n",
    "less_more_most(25)\n",
    "less_more_most(10)\n",
    "less_more_most(18)"
   ]
  },
  {
   "cell_type": "markdown",
   "metadata": {},
   "source": [
    "### Scope ##\n",
    "Which version of a variable does a function recognize? What is the scope of a function's changes?"
   ]
  },
  {
   "cell_type": "code",
   "execution_count": null,
   "metadata": {
    "scrolled": true
   },
   "outputs": [],
   "source": [
    "x = 10\n",
    "a = \"A\"\n",
    "def less_more_most(x, y):\n",
    "    if (x < 15):\n",
    "        print(\"Less\")\n",
    "    elif (x < 20):\n",
    "        print(\"More\")\n",
    "    else:\n",
    "        print(\"Most\")\n",
    "    print(a)\n",
    "    x = 15\n",
    "    y = 30\n",
    "\n",
    "y = 20\n",
    "less_more_most(25, y)\n",
    "less_more_most(10, y)\n",
    "less_more_most(18, y)\n",
    "print(x)\n",
    "print(y)"
   ]
  },
  {
   "cell_type": "code",
   "execution_count": null,
   "metadata": {},
   "outputs": [],
   "source": []
  },
  {
   "cell_type": "markdown",
   "metadata": {},
   "source": [
    "### More advanced functions: ###\n",
    "  * Using functions as variables\n",
    "  * Variable number of arguments: ***argv** and ***kwargs**\n",
    "  * **lambda functions**"
   ]
  },
  {
   "cell_type": "code",
   "execution_count": 4,
   "metadata": {},
   "outputs": [
    {
     "name": "stdout",
     "output_type": "stream",
     "text": [
      "48\n",
      "8\n",
      "4\n"
     ]
    }
   ],
   "source": [
    "def mult(*argv):\n",
    "    ans = 1\n",
    "    for arg in argv:\n",
    "        ans *= arg\n",
    "    return ans\n",
    "\n",
    "def remainder(x, y):\n",
    "    return x % y\n",
    "\n",
    "def double(x):\n",
    "    return 2 * x\n",
    "        \n",
    "def compose(a, b, *argv):\n",
    "    return a(b(*argv))\n",
    "\n",
    "print(compose(double, mult, 2, 3, 4))\n",
    "print(compose(double, double, 2))\n",
    "print(compose(double, remainder, 5, 3))"
   ]
  },
  {
   "cell_type": "code",
   "execution_count": 6,
   "metadata": {},
   "outputs": [
    {
     "name": "stdout",
     "output_type": "stream",
     "text": [
      "[(1, 2), (3, 5, 89), (4, 8)]\n"
     ]
    }
   ],
   "source": [
    "my_tups = [(4,8), (3,5,89), (1,2)]\n",
    "sorted_tups = sorted(my_tups, key = lambda x: x[1])\n",
    "print(sorted_tups)"
   ]
  },
  {
   "cell_type": "code",
   "execution_count": 7,
   "metadata": {},
   "outputs": [
    {
     "name": "stdout",
     "output_type": "stream",
     "text": [
      "AATCGTTA\n",
      "AAUCGUUA\n"
     ]
    }
   ],
   "source": [
    "import re\n",
    "\n",
    "def make_subst(find, repl):\n",
    "    return lambda text : re.sub(find, repl, text)\n",
    "\n",
    "dna_conv = make_subst(\"U\", \"T\")\n",
    "rna_conv = make_subst(\"T\", \"U\")\n",
    "\n",
    "print(dna_conv(\"AAUCGUUA\"))\n",
    "print(rna_conv(\"AATCGTTA\"))"
   ]
  },
  {
   "cell_type": "markdown",
   "metadata": {},
   "source": [
    "# Data Structures\n",
    "\n",
    "### Lists ### \n"
   ]
  },
  {
   "cell_type": "code",
   "execution_count": null,
   "metadata": {},
   "outputs": [],
   "source": [
    "a = [1, 2, 3] # dynamic array\n",
    "print(a)"
   ]
  },
  {
   "cell_type": "markdown",
   "metadata": {},
   "source": [
    "Iterating over lists and accessing list elements:"
   ]
  },
  {
   "cell_type": "code",
   "execution_count": null,
   "metadata": {},
   "outputs": [],
   "source": [
    "for value in a:\n",
    "    print(value)\n",
    "    \n",
    "print(a[0])"
   ]
  },
  {
   "cell_type": "markdown",
   "metadata": {},
   "source": [
    "You can append to lists using `.append()` or by doing list concatenations."
   ]
  },
  {
   "cell_type": "code",
   "execution_count": null,
   "metadata": {},
   "outputs": [],
   "source": [
    "a.append(5)\n",
    "print(a)\n",
    "\n",
    "b = a + [10]\n",
    "print(a)\n",
    "print(b)"
   ]
  },
  {
   "cell_type": "markdown",
   "metadata": {},
   "source": [
    "Other operations include `push()`, `pop()`, `insert()`, etc."
   ]
  },
  {
   "cell_type": "code",
   "execution_count": null,
   "metadata": {
    "scrolled": true
   },
   "outputs": [],
   "source": [
    "while len(a) > 0 :\n",
    "    print(a.pop())\n",
    "print(a)"
   ]
  },
  {
   "cell_type": "markdown",
   "metadata": {},
   "source": [
    "A mistake that can be easy to make..."
   ]
  },
  {
   "cell_type": "code",
   "execution_count": null,
   "metadata": {},
   "outputs": [],
   "source": [
    "a = [1, 2, 4, 5]\n",
    "for value in a:\n",
    "    if value % 2 == 0:\n",
    "        a.remove(value)\n",
    "    print(\"Current value: {0}\".format(value))\n",
    "print(a) # Why did this not get rid of all the even values in the list?"
   ]
  },
  {
   "cell_type": "markdown",
   "metadata": {},
   "source": [
    "### List Comprehensions ###\n",
    "\n",
    "Python's list comprehensions let you create lists based on other lists."
   ]
  },
  {
   "cell_type": "code",
   "execution_count": 8,
   "metadata": {},
   "outputs": [
    {
     "name": "stdout",
     "output_type": "stream",
     "text": [
      "[1, 5]\n"
     ]
    }
   ],
   "source": [
    "a = [1, 2, 4, 5]\n",
    "b = [x for x in a if x % 2 != 0]\n",
    "print(b)"
   ]
  },
  {
   "cell_type": "markdown",
   "metadata": {},
   "source": [
    "You can achieve something similar to set notation.\n",
    "\n",
    "$$ S = \\{ x ~\\mid~ 0 \\le x \\le 20, x\\mod 3 = 0\\}$$"
   ]
  },
  {
   "cell_type": "code",
   "execution_count": 9,
   "metadata": {},
   "outputs": [
    {
     "data": {
      "text/plain": [
       "[0, 3, 6, 9, 12, 15, 18]"
      ]
     },
     "execution_count": 9,
     "metadata": {},
     "output_type": "execute_result"
    }
   ],
   "source": [
    "S = [x for x in range(21) if x % 3 == 0]\n",
    "S"
   ]
  },
  {
   "cell_type": "markdown",
   "metadata": {},
   "source": [
    "# List comprehensions can elegantly solve problems that might otherwise need a lot of for loops."
   ]
  },
  {
   "cell_type": "code",
   "execution_count": 10,
   "metadata": {},
   "outputs": [
    {
     "data": {
      "text/plain": [
       "[(0, 0, 0),\n",
       " (0, 0, 1),\n",
       " (0, 1, 0),\n",
       " (0, 1, 1),\n",
       " (1, 0, 0),\n",
       " (1, 0, 1),\n",
       " (1, 1, 0),\n",
       " (1, 1, 1)]"
      ]
     },
     "execution_count": 10,
     "metadata": {},
     "output_type": "execute_result"
    }
   ],
   "source": [
    "S = [(i,j,k) for i in range(2) for j in range(2) for k in range(2)]\n",
    "S"
   ]
  },
  {
   "cell_type": "markdown",
   "metadata": {},
   "source": [
    "### Other Collections: Dictionaries, Deque, Sets ###"
   ]
  },
  {
   "cell_type": "markdown",
   "metadata": {},
   "source": [
    "Other collections exist to hold data in various ways. We'll discuss dictionaries and sets."
   ]
  },
  {
   "cell_type": "code",
   "execution_count": 11,
   "metadata": {},
   "outputs": [],
   "source": [
    "animal_legs = {\"snake\": 0, \"dog\": 4, \"duck\": 2}"
   ]
  },
  {
   "cell_type": "code",
   "execution_count": 13,
   "metadata": {},
   "outputs": [
    {
     "name": "stdout",
     "output_type": "stream",
     "text": [
      "snake: 0,23\n",
      "snak\n"
     ]
    }
   ],
   "source": [
    "snake_legs = animal_legs[\"snake\"]\n",
    "print(\"snake: {0},{1}\".format(snake_legs, 23))"
   ]
  },
  {
   "cell_type": "code",
   "execution_count": 14,
   "metadata": {},
   "outputs": [
    {
     "name": "stdout",
     "output_type": "stream",
     "text": [
      "snake: 0\n",
      "dog: 4\n",
      "duck: 2\n",
      "centipede: 100\n"
     ]
    }
   ],
   "source": [
    "animal_legs[\"centipede\"] = 100\n",
    "for k, v in animal_legs.items():\n",
    "    print(\"{0}: {1}\".format(k, v))"
   ]
  },
  {
   "cell_type": "code",
   "execution_count": 15,
   "metadata": {},
   "outputs": [
    {
     "data": {
      "text/plain": [
       "'hello, 100'"
      ]
     },
     "execution_count": 15,
     "metadata": {},
     "output_type": "execute_result"
    }
   ],
   "source": [
    "'hello, %(centipede)d' % animal_legs"
   ]
  },
  {
   "cell_type": "markdown",
   "metadata": {},
   "source": [
    "`defaultdict` lets you elegantly avoid casework for setting initial values for keys."
   ]
  },
  {
   "cell_type": "code",
   "execution_count": null,
   "metadata": {},
   "outputs": [],
   "source": [
    "from collections import defaultdict\n",
    "\n",
    "count_aa = defaultdict(int) # initialize value to be 0 count_aa == 0\n",
    "\n",
    "seq = \"WKKAAGKLKW\"\n",
    "for aa in seq:\n",
    "    count_aa[aa] += 1\n",
    "print(count_aa[\"W\"])"
   ]
  },
  {
   "cell_type": "markdown",
   "metadata": {},
   "source": [
    "`set` is a container that holds unique values. You can make a set out of a list. Note: order is not preserved, will be sorted"
   ]
  },
  {
   "cell_type": "code",
   "execution_count": null,
   "metadata": {},
   "outputs": [],
   "source": [
    "a_list = [1, 2, 6, 1, 3, 2, 4]\n",
    "a_set = set(a_list)\n",
    "print(a_list)\n",
    "print(a_set)"
   ]
  },
  {
   "cell_type": "markdown",
   "metadata": {},
   "source": [
    "### Data Structure Decision Making ###"
   ]
  },
  {
   "cell_type": "markdown",
   "metadata": {},
   "source": [
    "Compare based on properties of how values are stored in each collection.\n",
    "\n",
    "  * `Lists`: ordered, indexed, mutable, duplicates\n",
    "\n",
    "  * `Dict`: unordered, indexed, mutable, duplicates\n",
    "\n",
    "  * `Deque`: ordered, unindexed, mutable, duplicates\n",
    "\n",
    "  * `Set`: unordered, unindexed, immutable, no dupicates\n",
    "\n",
    "  * `Tuple`: ordered, indexed, immutable, duplicates\n",
    "\n",
    "Compare based on how efficient and easy basic operations are with each collection:\n",
    "\n",
    "  * Get an item by index: `Lists` and `Dict` beat `Set` and `Deque`\n",
    "  * Remove the first item in a sorted collection: `Deque` is better than `Lists`\n",
    "  * Check if an item is in the collection: `Set` and `Dict` beats `Lists`\n",
    "  * `Set` gives access to basic set operation implementations"
   ]
  },
  {
   "cell_type": "markdown",
   "metadata": {},
   "source": [
    "**Question 1:** You're the manager of a cluster, assembling a list of Rosetta job submissions. Rosetta is insanely popular, and your list of tasks is very very long. You're going to send off tasks in the order they were submitted. What collection are you using to store the requests?"
   ]
  },
  {
   "cell_type": "markdown",
   "metadata": {},
   "source": [
    "**Question 2:** You've got a blacklist of bad words. You're going to go through the text of the Odyssey, and do some text processing on each word but only if it's not bad. How do you want to store the list of bad words?"
   ]
  },
  {
   "cell_type": "markdown",
   "metadata": {},
   "source": [
    "**Question 3:** You're tallying votes in a recent election for 3 candidates by voter age group (\"Young\", \"Middle\", and \"Old\"). You want to later be able to look up the votes by age group and candidate: for instance, \"Young\" and \"Candidate Martha\". How do you store the vote counts?"
   ]
  },
  {
   "cell_type": "markdown",
   "metadata": {},
   "source": [
    "# Classes"
   ]
  },
  {
   "cell_type": "markdown",
   "metadata": {},
   "source": [
    "Everything is an object in Python - some variables stored in memory somewhere, you can apply functions to them. `id` gets the memory location. `is` checks if two objects are the same."
   ]
  },
  {
   "cell_type": "code",
   "execution_count": null,
   "metadata": {
    "scrolled": true
   },
   "outputs": [],
   "source": [
    "x = \"hi\"\n",
    "print(isinstance(x, object))\n",
    "print(id(x))\n",
    "z = x\n",
    "print(z is x)"
   ]
  },
  {
   "cell_type": "markdown",
   "metadata": {},
   "source": [
    "You can make your own types of objects by making a **class**. You then make objects that are **instances** of your class, and give your class some functions (called **methods**)."
   ]
  },
  {
   "cell_type": "code",
   "execution_count": null,
   "metadata": {},
   "outputs": [],
   "source": [
    "class Teacher:\n",
    "    def __init__(self, name = \"Mrs. Boring\"):\n",
    "        self.name = name\n",
    "        \n",
    "    def __str__(self):\n",
    "        return \"Hi I'm \" + self.name\n",
    "    \n",
    "    def grade_homework(self):\n",
    "        print(\"Grade inflation for all! A.\")\n",
    "\n",
    "teacher = Teacher()\n",
    "print(teacher)\n",
    "teacher = Teacher(\"Ramya\")\n",
    "print(teacher)\n",
    "teacher.grade_homework()"
   ]
  },
  {
   "cell_type": "markdown",
   "metadata": {},
   "source": [
    "This is useful because you are encapsulating member functions so others don't need to know how they work, and you're not cluttering the global namespace. "
   ]
  },
  {
   "cell_type": "markdown",
   "metadata": {},
   "source": [
    "You can also have classes that **inherit** from one another. The base class is the parent class, and classes that inherit from it are child classes."
   ]
  },
  {
   "cell_type": "code",
   "execution_count": null,
   "metadata": {
    "scrolled": false
   },
   "outputs": [],
   "source": [
    "class Teacher:\n",
    "    def __init__(self, name = \"Mrs. Boring\"):\n",
    "        self.name = name\n",
    "        \n",
    "    def __str__(self):\n",
    "        return \"Teacher: \" + self.name\n",
    "    \n",
    "    def give_candy(self):\n",
    "        raise NotImplementedError\n",
    "\n",
    "teacher = Teacher()\n",
    "print(teacher)\n",
    "teacher.give_candy()"
   ]
  },
  {
   "cell_type": "code",
   "execution_count": null,
   "metadata": {
    "scrolled": true
   },
   "outputs": [],
   "source": [
    "class NiceTeacher(Teacher):\n",
    "    def __init__(self ):\n",
    "        Teacher.__init__(self, \"Mrs. Nice\")\n",
    "        \n",
    "    def give_candy(self):\n",
    "        print(\"Here's some candy!!!\")\n",
    "\n",
    "class MeanTeacher(Teacher):\n",
    "    def __init__(self ):\n",
    "        Teacher.__init__(self, \"Mrs. Mean\")\n",
    "        self.ask_count = 0\n",
    "    \n",
    "    def give_candy(self):\n",
    "        if self.ask_count > 1:\n",
    "            print(\"Here's some candy!!!\")\n",
    "            self.ask_count = 0\n",
    "        else:\n",
    "            print(\"Not this time.\")\n",
    "            self.ask_count += 1\n",
    "\n",
    "nice_teacher = NiceTeacher()\n",
    "print(nice_teacher)\n",
    "nice_teacher.give_candy()\n",
    "\n",
    "mean_teacher = MeanTeacher()\n",
    "print(mean_teacher)\n",
    "mean_teacher.give_candy()\n",
    "mean_teacher.give_candy()\n",
    "mean_teacher.give_candy()\n",
    "mean_teacher.give_candy()"
   ]
  },
  {
   "cell_type": "code",
   "execution_count": null,
   "metadata": {
    "scrolled": true
   },
   "outputs": [],
   "source": [
    "all_teachers = [NiceTeacher(), NiceTeacher(), MeanTeacher(), NiceTeacher()]\n",
    "\n",
    "for teacher in all_teachers:\n",
    "    print(teacher)\n",
    "    teacher.give_candy()"
   ]
  },
  {
   "cell_type": "markdown",
   "metadata": {},
   "source": [
    "What we can achieve: *Polymorphism*, *class inheritance*, *encapsulation*"
   ]
  },
  {
   "cell_type": "code",
   "execution_count": null,
   "metadata": {},
   "outputs": [],
   "source": [
    "from abc import ABC, abstractmethod\n",
    "\n",
    "class Teacher(ABC):\n",
    "    def __init__(self, name = \"Mrs. Boring\"):\n",
    "        self.name = name\n",
    "        \n",
    "    def __str__(self):\n",
    "        return \"Teacher: \" + self.name\n",
    "    \n",
    "    @abstractmethod\n",
    "    def give_candy(self):\n",
    "        pass\n",
    "\n",
    "teacher = Teacher()"
   ]
  },
  {
   "cell_type": "code",
   "execution_count": null,
   "metadata": {},
   "outputs": [],
   "source": [
    "class NiceTeacher(Teacher):\n",
    "    def __init__(self ):\n",
    "        Teacher.__init__(self, \"Mrs. Nice\")\n",
    "        \n",
    "    def give_candy(self):\n",
    "        print(\"Here's some candy!!!\")\n",
    "\n",
    "class MeanTeacher(Teacher):\n",
    "    def __init__(self ):\n",
    "        Teacher.__init__(self, \"Mrs. Mean\")\n",
    "        self.ask_count = 0\n",
    "    \n",
    "    def give_candy(self):\n",
    "        if self.ask_count > 1:\n",
    "            print(\"Here's some candy!!!\")\n",
    "            self.ask_count = 0\n",
    "        else:\n",
    "            print(\"Not this time.\")\n",
    "            self.ask_count += 1\n",
    "\n",
    "nice_teacher = NiceTeacher()\n",
    "print(nice_teacher)\n",
    "nice_teacher.give_candy()\n",
    "\n",
    "mean_teacher = MeanTeacher()\n",
    "print(mean_teacher)\n",
    "mean_teacher.give_candy()\n",
    "mean_teacher.give_candy()\n",
    "mean_teacher.give_candy()\n",
    "mean_teacher.give_candy()"
   ]
  },
  {
   "cell_type": "markdown",
   "metadata": {},
   "source": [
    "# Numpy / Scipy"
   ]
  },
  {
   "cell_type": "markdown",
   "metadata": {},
   "source": [
    "`numpy` allows you to easily manipulate arrays of data. Its functions are implemented very efficiently!\n",
    "\n",
    "For this section, if you don't have numpy installed, don't worry about running the code here."
   ]
  },
  {
   "cell_type": "markdown",
   "metadata": {},
   "source": [
    "### Making Arrays ###"
   ]
  },
  {
   "cell_type": "code",
   "execution_count": 17,
   "metadata": {
    "scrolled": true
   },
   "outputs": [
    {
     "name": "stdout",
     "output_type": "stream",
     "text": [
      "[1, 2, 3]\n",
      "[1 2 3]\n",
      "[[0. 0. 0. 0.]\n",
      " [0. 0. 0. 0.]\n",
      " [0. 0. 0. 0.]]\n",
      "[[0 0 0 0 0]\n",
      " [0 0 0 0 0]]\n"
     ]
    }
   ],
   "source": [
    "import numpy as np\n",
    "\n",
    "l = [1, 2, 3]\n",
    "arr = np.array([1, 2, 3])\n",
    "print(l)\n",
    "print(arr) # Not a list!\n",
    "\n",
    "arr2 = np.zeros((3,4))\n",
    "print(arr2)\n",
    "\n",
    "arr3 = np.zeros((2,5), dtype=int)\n",
    "print(arr3)"
   ]
  },
  {
   "cell_type": "markdown",
   "metadata": {},
   "source": [
    "`numpy` lets you easily make multi-dimensional arrays."
   ]
  },
  {
   "cell_type": "code",
   "execution_count": null,
   "metadata": {},
   "outputs": [],
   "source": [
    "# 1-dimensional arrays\n",
    "x = np.linspace(0,10,5) # linear spacing of points\n",
    "print(x)\n",
    "y = np.random.rand(5) # numbers betwen 0 and 1\n",
    "print(y)\n",
    "z = np.random.randn(5) # normal random variables\n",
    "print(z)"
   ]
  },
  {
   "cell_type": "code",
   "execution_count": null,
   "metadata": {},
   "outputs": [],
   "source": [
    "# n-dimensional arrays\n",
    "y = np.random.rand(10,10,5)\n",
    "print(y.shape)"
   ]
  },
  {
   "cell_type": "markdown",
   "metadata": {},
   "source": [
    "### Indexing Arrays ###\n",
    "\n",
    "`x[i,j]` returns value at $i$th row and $j$th column of $x$\n",
    "\n",
    "**slicing**\n",
    "\n",
    "`x[i,:]` returns entire $i$th row\n",
    "\n",
    "`x[:,j]` returns entire $j$th column"
   ]
  },
  {
   "cell_type": "code",
   "execution_count": null,
   "metadata": {},
   "outputs": [],
   "source": [
    "# slices\n",
    "l = [1,2,3,4,5,6,7]\n",
    "print(l[2:4])\n",
    "print(l[-1])\n",
    "print(l[6:])\n",
    "print(l[-3:])\n",
    "print()\n",
    "\n",
    "x = np.arange(9)\n",
    "x = np.resize(x, (3,3))\n",
    "print(x)\n",
    "print(x[0,:])\n",
    "print(x[:,0])\n",
    "print(x[0,1:])\n",
    "print(x[0,-2:])"
   ]
  },
  {
   "cell_type": "code",
   "execution_count": 19,
   "metadata": {},
   "outputs": [
    {
     "name": "stdout",
     "output_type": "stream",
     "text": [
      "[0 1 2 3 4 5 6 7 8 9]\n",
      "[0 2 4 6 8]\n",
      "[0 2 4 6 8]\n",
      "[9 8 7 6 5 4 3 2 1 0]\n"
     ]
    }
   ],
   "source": [
    "y = np.arange(10)\n",
    "print(y)\n",
    "print(y[0:10:2]) \n",
    "print(y[::2])\n",
    "print(y[::-1])"
   ]
  },
  {
   "cell_type": "markdown",
   "metadata": {},
   "source": [
    "### Functions on Arrays ### \n",
    "\n",
    "There are functions that are **vectorized** and can be applied to every item in an array. If you can figure out a way to process your data in this way, do it! It's faster than looping through large Python lists."
   ]
  },
  {
   "cell_type": "code",
   "execution_count": null,
   "metadata": {},
   "outputs": [],
   "source": [
    "x = np.arange(4)\n",
    "print(x)\n",
    "y = np.square(x)\n",
    "print(y)\n",
    "print(x * 3)\n",
    "print(np.dot(x, y))"
   ]
  },
  {
   "cell_type": "markdown",
   "metadata": {},
   "source": [
    "You can make custom vectorized functions."
   ]
  },
  {
   "cell_type": "code",
   "execution_count": null,
   "metadata": {},
   "outputs": [],
   "source": [
    "def f(x):\n",
    "    y = x*x\n",
    "    return y + 2\n",
    "\n",
    "x = np.arange(4)\n",
    "print(x)\n",
    "vf = np.vectorize(f)\n",
    "print(vf(x))\n",
    "\n",
    "print(f(x)) # This function automatically vectorizes nicely"
   ]
  },
  {
   "cell_type": "markdown",
   "metadata": {},
   "source": [
    "# Plotting basics #"
   ]
  },
  {
   "cell_type": "code",
   "execution_count": null,
   "metadata": {},
   "outputs": [],
   "source": [
    "import matplotlib.pyplot as plt\n",
    "\n",
    "# Get a list of evenly spaced numbers from 0 to 1\n",
    "x = [a/100. for a in range(100)]\n",
    "y = [a**2 for a in x]\n",
    "plt.plot(x, y)\n",
    "plt.show()"
   ]
  },
  {
   "cell_type": "code",
   "execution_count": null,
   "metadata": {},
   "outputs": [],
   "source": [
    "import math\n",
    "\n",
    "# Get a list of evenly spaced numbers from 0 to 2pi\n",
    "theta = [a/100. for a in range(int(100*2*math.pi))]\n",
    "x = [math.cos(a) for a in theta]\n",
    "y = [math.sin(a) for a in theta]\n",
    "plt.scatter(x, y)\n",
    "plt.show()"
   ]
  },
  {
   "cell_type": "code",
   "execution_count": null,
   "metadata": {
    "scrolled": true
   },
   "outputs": [],
   "source": [
    "theta = [a/100. for a in range(int(100*2*math.pi))]\n",
    "x = [math.cos(a) for a in theta]\n",
    "plt.hist(x)\n",
    "plt.show()"
   ]
  },
  {
   "cell_type": "markdown",
   "metadata": {},
   "source": [
    "This is really truly the bare bones. if you're interested, ggplot can make nice plots."
   ]
  },
  {
   "cell_type": "markdown",
   "metadata": {},
   "source": [
    "# PEP-8"
   ]
  },
  {
   "cell_type": "markdown",
   "metadata": {},
   "source": [
    "### Code Style Exercise ###\n",
    "The code below works but doesn't look great. What can we do to make it better? Think code style, not function."
   ]
  },
  {
   "cell_type": "code",
   "execution_count": null,
   "metadata": {
    "scrolled": true
   },
   "outputs": [],
   "source": [
    "class_bonus=50\n",
    "class Teacher:\n",
    "    def __init__( self , name=\"Mrs. Boring\" ):\n",
    "        self.name=name\n",
    "        self.test1=95\n",
    "        self.test2=97\n",
    "    def __str__( self ):\n",
    "        return \"Teacher: \"+self.name\n",
    "    def GiveFeedback( self ):\n",
    "        if self.test1>75: print(\"I'm giving lots of feedback because I'm a very good instructor and care a lot about my students.\")\n",
    "    def CalculateGrade( self ):\n",
    "        score1                   = self.test1\n",
    "        score2                   = self.test2\n",
    "        bonus_for_being_in_class = class_bonus\n",
    "        return (score1+score2+bonus_for_being_in_class)/3\n",
    "teacher=Teacher()\n",
    "print(teacher.CalculateGrade())\n",
    "teacher.GiveFeedback()"
   ]
  },
  {
   "cell_type": "markdown",
   "metadata": {},
   "source": [
    "### PEP-8 Basics ###\n",
    "* Spacing: 4 space indents. Vertically align long expressions with hanging indents.\n",
    "* Blank lines: separate functions by blank lines, and classes by two blank lines.\n",
    "* Extra spaces should be avoided\n",
    "* Include spaces between operators (including assignment).\n",
    "* No space for function default argument setting.\n",
    "* Indent if blocks, even if they are one-liners.\n",
    "* Variable names: descriptive. A convention: class name with CapWords, constants with UPPERCASE, methods and functions are lowercase\n",
    "* Line breaks if your line exceeds 80 characters\n",
    "\n",
    "### Revised Code ###"
   ]
  },
  {
   "cell_type": "code",
   "execution_count": null,
   "metadata": {},
   "outputs": [],
   "source": [
    "BONUS=50\n",
    "\n",
    "class Teacher:\n",
    "    def __init__(self, name=\"Mrs. Boring\"):\n",
    "        self.name = name\n",
    "        self.test1 = 95\n",
    "        self.test2 = 97\n",
    "    \n",
    "    def __str__(self):\n",
    "        return \"Teacher: \" + self.name\n",
    "    \n",
    "    def give_feedback(self):\n",
    "        if self.test1 > 75: \n",
    "            print((\"I'm giving lots of feedback because I'm a very \"\n",
    "                   \"good instructor and care a lot about my students.\"))\n",
    "    \n",
    "    def calculate_grade(self ):\n",
    "        score1 = self.test1\n",
    "        score2 = self.test2\n",
    "        bonus_for_being_in_class = BONUS\n",
    "        return (score1 + score2 + bonus_for_being_in_class)/3\n",
    "    \n",
    "    \n",
    "teacher = Teacher()\n",
    "print(teacher.calculate_grade())\n",
    "teacher.give_feedback()"
   ]
  },
  {
   "cell_type": "markdown",
   "metadata": {},
   "source": []
  },
  {
   "cell_type": "code",
   "execution_count": null,
   "metadata": {},
   "outputs": [],
   "source": []
  }
 ],
 "metadata": {
  "kernelspec": {
   "display_name": "Python 3",
   "language": "python",
   "name": "python3"
  },
  "language_info": {
   "codemirror_mode": {
    "name": "ipython",
    "version": 3
   },
   "file_extension": ".py",
   "mimetype": "text/x-python",
   "name": "python",
   "nbconvert_exporter": "python",
   "pygments_lexer": "ipython3",
   "version": "3.7.7"
  }
 },
 "nbformat": 4,
 "nbformat_minor": 2
}
