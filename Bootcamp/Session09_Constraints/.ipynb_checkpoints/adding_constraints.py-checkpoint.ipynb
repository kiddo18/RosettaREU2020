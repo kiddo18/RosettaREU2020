{
 "cells": [
  {
   "cell_type": "markdown",
   "metadata": {},
   "source": [
    "# Adding new constraints"
   ]
  },
  {
   "cell_type": "markdown",
   "metadata": {},
   "source": [
    "We initialize PyRosetta without any command line options."
   ]
  },
  {
   "cell_type": "code",
   "execution_count": 1,
   "metadata": {},
   "outputs": [
    {
     "name": "stdout",
     "output_type": "stream",
     "text": [
      "PyRosetta-4 2020 [Rosetta PyRosetta4.conda.mac.python37.Release 2020.02+release.22ef835b4a2647af94fcd6421a85720f07eddf12 2020-01-05T17:31:56] retrieved from: http://www.pyrosetta.org\n",
      "(C) Copyright Rosetta Commons Member Institutions. Created in JHU by Sergey Lyskov and PyRosetta Team.\n",
      "\u001b[0mcore.init: {0} \u001b[0mChecking for fconfig files in pwd and ./rosetta/flags\n",
      "\u001b[0mcore.init: {0} \u001b[0mRosetta version: PyRosetta4.conda.mac.python37.Release r242 2020.02+release.22ef835b4a2 22ef835b4a2647af94fcd6421a85720f07eddf12 http://www.pyrosetta.org 2020-01-05T17:31:56\n",
      "\u001b[0mcore.init: {0} \u001b[0mcommand: PyRosetta -ex1 -ex2aro -database /Users/paul/anaconda3/envs/pyrosetta_env/lib/python3.7/site-packages/pyrosetta/database\n",
      "\u001b[0mbasic.random.init_random_generator: {0} \u001b[0m'RNG device' seed mode, using '/dev/urandom', seed=-1581345168 seed_offset=0 real_seed=-1581345168 thread_index=0\n",
      "\u001b[0mbasic.random.init_random_generator: {0} \u001b[0mRandomGenerator:init: Normal mode, seed=-1581345168 RG_type=mt19937\n"
     ]
    }
   ],
   "source": [
    "from pyrosetta import *\n",
    "init()"
   ]
  },
  {
   "cell_type": "markdown",
   "metadata": {},
   "source": [
    "Initiliazing pose and score function."
   ]
  },
  {
   "cell_type": "code",
   "execution_count": 2,
   "metadata": {},
   "outputs": [
    {
     "name": "stdout",
     "output_type": "stream",
     "text": [
      "\u001b[0mcore.chemical.GlobalResidueTypeSet: {0} \u001b[0mFinished initializing fa_standard residue type set.  Created 980 residue types\n",
      "\u001b[0mcore.chemical.GlobalResidueTypeSet: {0} \u001b[0mTotal time to initialize 1.07971 seconds.\n",
      "\u001b[0mcore.import_pose.import_pose: {0} \u001b[0mFile '1ubq.pdb' automatically determined to be of type PDB\n",
      "\u001b[0mcore.scoring.ScoreFunctionFactory: {0} \u001b[0mSCOREFUNCTION: \u001b[32mref2015\u001b[0m\n",
      "\u001b[0mcore.scoring.etable: {0} \u001b[0mStarting energy table calculation\n",
      "\u001b[0mcore.scoring.etable: {0} \u001b[0msmooth_etable: changing atr/rep split to bottom of energy well\n",
      "\u001b[0mcore.scoring.etable: {0} \u001b[0msmooth_etable: spline smoothing lj etables (maxdis = 6)\n",
      "\u001b[0mcore.scoring.etable: {0} \u001b[0msmooth_etable: spline smoothing solvation etables (max_dis = 6)\n",
      "\u001b[0mcore.scoring.etable: {0} \u001b[0mFinished calculating energy tables.\n",
      "\u001b[0mbasic.io.database: {0} \u001b[0mDatabase file opened: scoring/score_functions/hbonds/ref2015_params/HBPoly1D.csv\n",
      "\u001b[0mbasic.io.database: {0} \u001b[0mDatabase file opened: scoring/score_functions/hbonds/ref2015_params/HBFadeIntervals.csv\n",
      "\u001b[0mbasic.io.database: {0} \u001b[0mDatabase file opened: scoring/score_functions/hbonds/ref2015_params/HBEval.csv\n",
      "\u001b[0mbasic.io.database: {0} \u001b[0mDatabase file opened: scoring/score_functions/hbonds/ref2015_params/DonStrength.csv\n",
      "\u001b[0mbasic.io.database: {0} \u001b[0mDatabase file opened: scoring/score_functions/hbonds/ref2015_params/AccStrength.csv\n",
      "\u001b[0mbasic.io.database: {0} \u001b[0mDatabase file opened: scoring/score_functions/rama/fd/all.ramaProb\n",
      "\u001b[0mbasic.io.database: {0} \u001b[0mDatabase file opened: scoring/score_functions/rama/fd/prepro.ramaProb\n",
      "\u001b[0mbasic.io.database: {0} \u001b[0mDatabase file opened: scoring/score_functions/omega/omega_ppdep.all.txt\n",
      "\u001b[0mbasic.io.database: {0} \u001b[0mDatabase file opened: scoring/score_functions/omega/omega_ppdep.gly.txt\n",
      "\u001b[0mbasic.io.database: {0} \u001b[0mDatabase file opened: scoring/score_functions/omega/omega_ppdep.pro.txt\n",
      "\u001b[0mbasic.io.database: {0} \u001b[0mDatabase file opened: scoring/score_functions/omega/omega_ppdep.valile.txt\n",
      "\u001b[0mbasic.io.database: {0} \u001b[0mDatabase file opened: scoring/score_functions/P_AA_pp/P_AA\n",
      "\u001b[0mbasic.io.database: {0} \u001b[0mDatabase file opened: scoring/score_functions/P_AA_pp/P_AA_n\n",
      "\u001b[0mcore.scoring.P_AA: {0} \u001b[0mshapovalov_lib::shap_p_aa_pp_smooth_level of 1( aka low_smooth ) got activated.\n",
      "\u001b[0mbasic.io.database: {0} \u001b[0mDatabase file opened: scoring/score_functions/P_AA_pp/shapovalov/10deg/kappa131/a20.prop\n",
      "\u001b[0mbasic.io.database: {0} \u001b[0mDatabase file opened: scoring/score_functions/elec_cp_reps.dat\n",
      "\u001b[0mcore.scoring.elec.util: {0} \u001b[0mRead 40 countpair representative atoms\n",
      "\u001b[0mcore.pack.dunbrack.RotamerLibrary: {0} \u001b[0mshapovalov_lib_fixes_enable option is true.\n",
      "\u001b[0mcore.pack.dunbrack.RotamerLibrary: {0} \u001b[0mshapovalov_lib::shap_dun10_smooth_level of 1( aka lowest_smooth ) got activated.\n",
      "\u001b[0mcore.pack.dunbrack.RotamerLibrary: {0} \u001b[0mBinary rotamer library selected: /Users/paul/anaconda3/envs/pyrosetta_env/lib/python3.7/site-packages/pyrosetta/database/rotamer/shapovalov/StpDwn_0-0-0/Dunbrack10.lib.bin\n",
      "\u001b[0mcore.pack.dunbrack.RotamerLibrary: {0} \u001b[0mUsing Dunbrack library binary file '/Users/paul/anaconda3/envs/pyrosetta_env/lib/python3.7/site-packages/pyrosetta/database/rotamer/shapovalov/StpDwn_0-0-0/Dunbrack10.lib.bin'.\n",
      "\u001b[0mcore.pack.dunbrack.RotamerLibrary: {0} \u001b[0mDunbrack 2010 library took 0.268388 seconds to load from binary\n"
     ]
    },
    {
     "data": {
      "text/plain": [
       "32.67775367351384"
      ]
     },
     "execution_count": 2,
     "metadata": {},
     "output_type": "execute_result"
    }
   ],
   "source": [
    "pose = pose_from_pdb(\"1ubq.pdb\")\n",
    "sfxn = get_fa_scorefxn()\n",
    "sfxn(pose)"
   ]
  },
  {
   "cell_type": "markdown",
   "metadata": {},
   "source": [
    "Let's prime the score function with a constraint score term. Let's also print out the score before we've added any constraints to the pose so we can refer back to it later."
   ]
  },
  {
   "cell_type": "code",
   "execution_count": 3,
   "metadata": {},
   "outputs": [
    {
     "name": "stdout",
     "output_type": "stream",
     "text": [
      "\u001b[0mcore.scoring.ScoreFunction: {0} \u001b[0m\n",
      "------------------------------------------------------------\n",
      " Scores                       Weight   Raw Score Wghtd.Score\n",
      "------------------------------------------------------------\n",
      " fa_atr                       1.000    -397.647    -397.647\n",
      " fa_rep                       0.550     103.707      57.039\n",
      " fa_sol                       1.000     242.952     242.952\n",
      " fa_intra_rep                 0.005     355.469       1.777\n",
      " fa_intra_sol_xover4          1.000      16.826      16.826\n",
      " lk_ball_wtd                  1.000      -8.756      -8.756\n",
      " fa_elec                      1.000    -113.091    -113.091\n",
      " pro_close                    1.250       1.906       2.383\n",
      " hbond_sr_bb                  1.000     -18.828     -18.828\n",
      " hbond_lr_bb                  1.000     -23.132     -23.132\n",
      " hbond_bb_sc                  1.000      -7.389      -7.389\n",
      " hbond_sc                     1.000      -1.549      -1.549\n",
      " dslf_fa13                    1.250       0.000       0.000\n",
      " atom_pair_constraint         1.000       0.000       0.000\n",
      " omega                        0.400       4.284       1.713\n",
      " fa_dun                       0.700     412.284     288.599\n",
      " p_aa_pp                      0.600     -21.346     -12.808\n",
      " yhh_planarity                0.625       0.000       0.000\n",
      " ref                          1.000      11.884      11.884\n",
      " rama_prepro                  0.450     -16.216      -7.297\n",
      "---------------------------------------------------\n",
      " Total weighted score:                       32.678\n"
     ]
    }
   ],
   "source": [
    "from pyrosetta.rosetta.core.scoring import *\n",
    "sfxn.set_weight(atom_pair_constraint, 1.0)\n",
    "sfxn.show(pose)"
   ]
  },
  {
   "cell_type": "markdown",
   "metadata": {},
   "source": [
    "To define where the constraints need to be applied, we will need to use residue selectors. Let's use a `LayerSelector` to select the surface residues."
   ]
  },
  {
   "cell_type": "code",
   "execution_count": 4,
   "metadata": {},
   "outputs": [
    {
     "name": "stdout",
     "output_type": "stream",
     "text": [
      "\u001b[0mcore.select.residue_selector.LayerSelector: {0} \u001b[0mSetting LayerSelector to use sidechain neighbors to determine burial.\n",
      "\u001b[0mcore.select.residue_selector.LayerSelector: {0} \u001b[0mSet cutoffs for core and surface to 5.2 and 2, respectively, in LayerSelector.\n",
      "\u001b[0mcore.select.residue_selector.LayerSelector: {0} \u001b[0mSetting core=false boundary=false surface=true in LayerSelector.\n"
     ]
    }
   ],
   "source": [
    "from pyrosetta.rosetta.core.select.residue_selector import *\n",
    "surface_res = LayerSelector()\n",
    "surface_res.set_layers(False, False, True) # use \"?\" to look at this function arguments"
   ]
  },
  {
   "cell_type": "markdown",
   "metadata": {},
   "source": [
    "To check which residues are selected on the pose, we can apply it. `1` means that the residue has been selected (and is a surface residue), `0` means that it has not."
   ]
  },
  {
   "cell_type": "code",
   "execution_count": 5,
   "metadata": {},
   "outputs": [
    {
     "data": {
      "text/plain": [
       "vector1_bool[0, 1, 0, 1, 0, 1, 1, 1, 1, 1, 1, 1, 0, 1, 0, 1, 0, 1, 1, 1, 0, 1, 0, 1, 0, 0, 0, 1, 0, 0, 1, 1, 0, 0, 1, 0, 1, 0, 1, 1, 0, 1, 0, 1, 0, 1, 1, 1, 1, 0, 1, 1, 1, 0, 1, 0, 1, 0, 0, 1, 0, 1, 1, 1, 0, 1, 0, 1, 0, 1, 1, 1, 1, 1, 1, 1]"
      ]
     },
     "execution_count": 5,
     "metadata": {},
     "output_type": "execute_result"
    }
   ],
   "source": [
    "surface_res.apply(pose)"
   ]
  },
  {
   "cell_type": "markdown",
   "metadata": {},
   "source": [
    "Now let's create atom pair constraints. For this, we use `AtomPairConstraintGenerator`. **By default, it uses the Sum Of Gaussians function to score the distances between atoms.** The \"sum\" part is not really used, because there is just one gaussian. This gaussian turns a distance into a probability, `prob`, and the energy is taken as the `-ln(prob)`.   We will pass the residue selector to the generator, set the maximum distance at under which it will create atom pair constraints (5.0 Ang), the standard deviation of the gaussians, and set the constraints to only be generated between pairs of C-alpha atoms."
   ]
  },
  {
   "cell_type": "code",
   "execution_count": 6,
   "metadata": {},
   "outputs": [],
   "source": [
    "from pyrosetta.rosetta.protocols.constraint_generator import *\n",
    "apcg = AtomPairConstraintGenerator()\n",
    "apcg.set_residue_selector(surface_res)\n",
    "apcg.set_max_distance(5.0)\n",
    "apcg.set_sd(1.0)\n",
    "apcg.set_ca_only(True)"
   ]
  },
  {
   "cell_type": "markdown",
   "metadata": {},
   "source": [
    "While we could directly apply the `AtomPairConstraintGenerator` to the pose, the recommended method is to add it to an `AddConstraints` object. Multiple constraint generators can be added to this. We then apply all the constraints."
   ]
  },
  {
   "cell_type": "code",
   "execution_count": 7,
   "metadata": {},
   "outputs": [
    {
     "name": "stdout",
     "output_type": "stream",
     "text": [
      "\u001b[0mprotocols.constraint_generator.AddConstraints: {0} \u001b[0mAdding 9 constraints generated by ConstraintGenerator named unnamed_constraint_generator\n"
     ]
    }
   ],
   "source": [
    "add_csts = AddConstraints()\n",
    "add_csts.add_generator(apcg)\n",
    "add_csts.apply(pose)"
   ]
  },
  {
   "cell_type": "markdown",
   "metadata": {},
   "source": [
    "Let's check if the constraints were applied."
   ]
  },
  {
   "cell_type": "code",
   "execution_count": 8,
   "metadata": {},
   "outputs": [
    {
     "name": "stdout",
     "output_type": "stream",
     "text": [
      "\u001b[0mcore.scoring.ScoreFunction: {0} \u001b[0m\n",
      "------------------------------------------------------------\n",
      " Scores                       Weight   Raw Score Wghtd.Score\n",
      "------------------------------------------------------------\n",
      " fa_atr                       1.000    -397.647    -397.647\n",
      " fa_rep                       0.550     103.707      57.039\n",
      " fa_sol                       1.000     242.952     242.952\n",
      " fa_intra_rep                 0.005     355.469       1.777\n",
      " fa_intra_sol_xover4          1.000      16.826      16.826\n",
      " lk_ball_wtd                  1.000      -8.756      -8.756\n",
      " fa_elec                      1.000    -113.091    -113.091\n",
      " pro_close                    1.250       1.906       2.383\n",
      " hbond_sr_bb                  1.000     -18.828     -18.828\n",
      " hbond_lr_bb                  1.000     -23.132     -23.132\n",
      " hbond_bb_sc                  1.000      -7.389      -7.389\n",
      " hbond_sc                     1.000      -1.549      -1.549\n",
      " dslf_fa13                    1.250       0.000       0.000\n",
      " atom_pair_constraint         1.000    -129.503    -129.503\n",
      " omega                        0.400       4.284       1.713\n",
      " fa_dun                       0.700     412.284     288.599\n",
      " p_aa_pp                      0.600     -21.346     -12.808\n",
      " yhh_planarity                0.625       0.000       0.000\n",
      " ref                          1.000      11.884      11.884\n",
      " rama_prepro                  0.450     -16.216      -7.297\n",
      "---------------------------------------------------\n",
      " Total weighted score:                      -96.825\n"
     ]
    }
   ],
   "source": [
    "sfxn.show(pose)"
   ]
  },
  {
   "cell_type": "markdown",
   "metadata": {},
   "source": [
    "The sum of gaussians function acts more like a reward. A large neagtive number indicates that all 9 constraints were satisfied. What happens when we disrupt some surface interactions in a perturbed structure?"
   ]
  },
  {
   "cell_type": "code",
   "execution_count": 9,
   "metadata": {},
   "outputs": [],
   "source": [
    "pose_perturbed = pose.clone()  # copy the conformation and the constraints\n",
    "pose_perturbed.set_phi(25, -130)\n",
    "pose_perturbed.set_psi(25,  145)"
   ]
  },
  {
   "cell_type": "code",
   "execution_count": 10,
   "metadata": {},
   "outputs": [
    {
     "name": "stdout",
     "output_type": "stream",
     "text": [
      "\u001b[0mcore.scoring.ScoreFunction: {0} \u001b[0m\n",
      "------------------------------------------------------------\n",
      " Scores                       Weight   Raw Score Wghtd.Score\n",
      "------------------------------------------------------------\n",
      " fa_atr                       1.000    -575.051    -575.051\n",
      " fa_rep                       0.550   55367.773   30452.275\n",
      " fa_sol                       1.000     413.031     413.031\n",
      " fa_intra_rep                 0.005     355.301       1.777\n",
      " fa_intra_sol_xover4          1.000      16.485      16.485\n",
      " lk_ball_wtd                  1.000     -16.198     -16.198\n",
      " fa_elec                      1.000     -84.545     -84.545\n",
      " pro_close                    1.250       1.906       2.383\n",
      " hbond_sr_bb                  1.000     -15.276     -15.276\n",
      " hbond_lr_bb                  1.000     -13.621     -13.621\n",
      " hbond_bb_sc                  1.000      -7.087      -7.087\n",
      " hbond_sc                     1.000      -2.165      -2.165\n",
      " dslf_fa13                    1.250       0.000       0.000\n",
      " atom_pair_constraint         1.000     -63.617     -63.617\n",
      " omega                        0.400       4.164       1.665\n",
      " fa_dun                       0.700     413.041     289.129\n",
      " p_aa_pp                      0.600     -21.221     -12.733\n",
      " yhh_planarity                0.625       0.000       0.000\n",
      " ref                          1.000      11.884      11.884\n",
      " rama_prepro                  0.450     -15.873      -7.143\n",
      "---------------------------------------------------\n",
      " Total weighted score:                    30391.195\n"
     ]
    }
   ],
   "source": [
    "sfxn.show(pose_perturbed)"
   ]
  },
  {
   "cell_type": "markdown",
   "metadata": {},
   "source": [
    "The reward is much smaller owing to the perturbation of the pose."
   ]
  },
  {
   "cell_type": "code",
   "execution_count": null,
   "metadata": {},
   "outputs": [],
   "source": []
  }
 ],
 "metadata": {
  "kernelspec": {
   "display_name": "Python 3",
   "language": "python",
   "name": "python3"
  },
  "language_info": {
   "codemirror_mode": {
    "name": "ipython",
    "version": 3
   },
   "file_extension": ".py",
   "mimetype": "text/x-python",
   "name": "python",
   "nbconvert_exporter": "python",
   "pygments_lexer": "ipython3",
   "version": "3.7.7"
  }
 },
 "nbformat": 4,
 "nbformat_minor": 2
}
