{
 "cells": [
  {
   "cell_type": "markdown",
   "metadata": {},
   "source": [
    "# Adding existing constraints"
   ]
  },
  {
   "cell_type": "markdown",
   "metadata": {},
   "source": [
    "We can pass the constraints file as a command line argument."
   ]
  },
  {
   "cell_type": "code",
   "execution_count": 1,
   "metadata": {},
   "outputs": [
    {
     "name": "stdout",
     "output_type": "stream",
     "text": [
      "PyRosetta-4 2020 [Rosetta PyRosetta4.conda.mac.python37.Release 2020.02+release.22ef835b4a2647af94fcd6421a85720f07eddf12 2020-01-05T17:31:56] retrieved from: http://www.pyrosetta.org\n",
      "(C) Copyright Rosetta Commons Member Institutions. Created in JHU by Sergey Lyskov and PyRosetta Team.\n",
      "\u001b[0mcore.init: {0} \u001b[0mChecking for fconfig files in pwd and ./rosetta/flags\n",
      "\u001b[0mcore.init: {0} \u001b[0mRosetta version: PyRosetta4.conda.mac.python37.Release r242 2020.02+release.22ef835b4a2 22ef835b4a2647af94fcd6421a85720f07eddf12 http://www.pyrosetta.org 2020-01-05T17:31:56\n",
      "\u001b[0mcore.init: {0} \u001b[0mcommand: PyRosetta -constraints:cst_fa_file h_bonds.cst -database /Users/paul/anaconda3/envs/pyrosetta_env/lib/python3.7/site-packages/pyrosetta/database\n",
      "\u001b[0mbasic.random.init_random_generator: {0} \u001b[0m'RNG device' seed mode, using '/dev/urandom', seed=1015834585 seed_offset=0 real_seed=1015834585 thread_index=0\n",
      "\u001b[0mbasic.random.init_random_generator: {0} \u001b[0mRandomGenerator:init: Normal mode, seed=1015834585 RG_type=mt19937\n"
     ]
    }
   ],
   "source": [
    "from pyrosetta import *\n",
    "init(\"-constraints:cst_fa_file h_bonds.cst\")"
   ]
  },
  {
   "cell_type": "markdown",
   "metadata": {},
   "source": [
    "First, define the score function."
   ]
  },
  {
   "cell_type": "code",
   "execution_count": 2,
   "metadata": {},
   "outputs": [
    {
     "name": "stdout",
     "output_type": "stream",
     "text": [
      "\u001b[0mcore.scoring.ScoreFunctionFactory: {0} \u001b[0mSCOREFUNCTION: \u001b[32mref2015\u001b[0m\n",
      "\u001b[0mcore.scoring.etable: {0} \u001b[0mStarting energy table calculation\n",
      "\u001b[0mcore.scoring.etable: {0} \u001b[0msmooth_etable: changing atr/rep split to bottom of energy well\n",
      "\u001b[0mcore.scoring.etable: {0} \u001b[0msmooth_etable: spline smoothing lj etables (maxdis = 6)\n",
      "\u001b[0mcore.scoring.etable: {0} \u001b[0msmooth_etable: spline smoothing solvation etables (max_dis = 6)\n",
      "\u001b[0mcore.scoring.etable: {0} \u001b[0mFinished calculating energy tables.\n",
      "\u001b[0mbasic.io.database: {0} \u001b[0mDatabase file opened: scoring/score_functions/hbonds/ref2015_params/HBPoly1D.csv\n",
      "\u001b[0mbasic.io.database: {0} \u001b[0mDatabase file opened: scoring/score_functions/hbonds/ref2015_params/HBFadeIntervals.csv\n",
      "\u001b[0mbasic.io.database: {0} \u001b[0mDatabase file opened: scoring/score_functions/hbonds/ref2015_params/HBEval.csv\n",
      "\u001b[0mbasic.io.database: {0} \u001b[0mDatabase file opened: scoring/score_functions/hbonds/ref2015_params/DonStrength.csv\n",
      "\u001b[0mbasic.io.database: {0} \u001b[0mDatabase file opened: scoring/score_functions/hbonds/ref2015_params/AccStrength.csv\n",
      "\u001b[0mcore.chemical.GlobalResidueTypeSet: {0} \u001b[0mFinished initializing fa_standard residue type set.  Created 980 residue types\n",
      "\u001b[0mcore.chemical.GlobalResidueTypeSet: {0} \u001b[0mTotal time to initialize 1.09246 seconds.\n",
      "\u001b[0mbasic.io.database: {0} \u001b[0mDatabase file opened: scoring/score_functions/rama/fd/all.ramaProb\n",
      "\u001b[0mbasic.io.database: {0} \u001b[0mDatabase file opened: scoring/score_functions/rama/fd/prepro.ramaProb\n",
      "\u001b[0mbasic.io.database: {0} \u001b[0mDatabase file opened: scoring/score_functions/omega/omega_ppdep.all.txt\n",
      "\u001b[0mbasic.io.database: {0} \u001b[0mDatabase file opened: scoring/score_functions/omega/omega_ppdep.gly.txt\n",
      "\u001b[0mbasic.io.database: {0} \u001b[0mDatabase file opened: scoring/score_functions/omega/omega_ppdep.pro.txt\n",
      "\u001b[0mbasic.io.database: {0} \u001b[0mDatabase file opened: scoring/score_functions/omega/omega_ppdep.valile.txt\n",
      "\u001b[0mbasic.io.database: {0} \u001b[0mDatabase file opened: scoring/score_functions/P_AA_pp/P_AA\n",
      "\u001b[0mbasic.io.database: {0} \u001b[0mDatabase file opened: scoring/score_functions/P_AA_pp/P_AA_n\n",
      "\u001b[0mcore.scoring.P_AA: {0} \u001b[0mshapovalov_lib::shap_p_aa_pp_smooth_level of 1( aka low_smooth ) got activated.\n",
      "\u001b[0mbasic.io.database: {0} \u001b[0mDatabase file opened: scoring/score_functions/P_AA_pp/shapovalov/10deg/kappa131/a20.prop\n"
     ]
    }
   ],
   "source": [
    "sfxn = get_fa_scorefxn()"
   ]
  },
  {
   "cell_type": "markdown",
   "metadata": {},
   "source": [
    "Let's see the effects of constraints on the scoring of ubiquitin."
   ]
  },
  {
   "cell_type": "code",
   "execution_count": 3,
   "metadata": {},
   "outputs": [
    {
     "name": "stdout",
     "output_type": "stream",
     "text": [
      "\u001b[0mcore.import_pose.import_pose: {0} \u001b[0mFile '1ubq.pdb' automatically determined to be of type PDB\n",
      "\u001b[0mbasic.io.database: {0} \u001b[0mDatabase file opened: scoring/score_functions/elec_cp_reps.dat\n",
      "\u001b[0mcore.scoring.elec.util: {0} \u001b[0mRead 40 countpair representative atoms\n",
      "\u001b[0mcore.pack.dunbrack.RotamerLibrary: {0} \u001b[0mshapovalov_lib_fixes_enable option is true.\n",
      "\u001b[0mcore.pack.dunbrack.RotamerLibrary: {0} \u001b[0mshapovalov_lib::shap_dun10_smooth_level of 1( aka lowest_smooth ) got activated.\n",
      "\u001b[0mcore.pack.dunbrack.RotamerLibrary: {0} \u001b[0mBinary rotamer library selected: /Users/paul/anaconda3/envs/pyrosetta_env/lib/python3.7/site-packages/pyrosetta/database/rotamer/shapovalov/StpDwn_0-0-0/Dunbrack10.lib.bin\n",
      "\u001b[0mcore.pack.dunbrack.RotamerLibrary: {0} \u001b[0mUsing Dunbrack library binary file '/Users/paul/anaconda3/envs/pyrosetta_env/lib/python3.7/site-packages/pyrosetta/database/rotamer/shapovalov/StpDwn_0-0-0/Dunbrack10.lib.bin'.\n",
      "\u001b[0mcore.pack.dunbrack.RotamerLibrary: {0} \u001b[0mDunbrack 2010 library took 0.286863 seconds to load from binary\n"
     ]
    },
    {
     "data": {
      "text/plain": [
       "32.67775367351384"
      ]
     },
     "execution_count": 3,
     "metadata": {},
     "output_type": "execute_result"
    }
   ],
   "source": [
    "pose = pose_from_pdb(\"1ubq.pdb\")\n",
    "sfxn(pose)"
   ]
  },
  {
   "cell_type": "markdown",
   "metadata": {},
   "source": [
    "Let's look at the individual terms."
   ]
  },
  {
   "cell_type": "code",
   "execution_count": 4,
   "metadata": {},
   "outputs": [
    {
     "name": "stdout",
     "output_type": "stream",
     "text": [
      "\u001b[0mcore.scoring.ScoreFunction: {0} \u001b[0m\n",
      "------------------------------------------------------------\n",
      " Scores                       Weight   Raw Score Wghtd.Score\n",
      "------------------------------------------------------------\n",
      " fa_atr                       1.000    -397.647    -397.647\n",
      " fa_rep                       0.550     103.707      57.039\n",
      " fa_sol                       1.000     242.952     242.952\n",
      " fa_intra_rep                 0.005     355.469       1.777\n",
      " fa_intra_sol_xover4          1.000      16.826      16.826\n",
      " lk_ball_wtd                  1.000      -8.756      -8.756\n",
      " fa_elec                      1.000    -113.091    -113.091\n",
      " pro_close                    1.250       1.906       2.383\n",
      " hbond_sr_bb                  1.000     -18.828     -18.828\n",
      " hbond_lr_bb                  1.000     -23.132     -23.132\n",
      " hbond_bb_sc                  1.000      -7.389      -7.389\n",
      " hbond_sc                     1.000      -1.549      -1.549\n",
      " dslf_fa13                    1.250       0.000       0.000\n",
      " omega                        0.400       4.284       1.713\n",
      " fa_dun                       0.700     412.284     288.599\n",
      " p_aa_pp                      0.600     -21.346     -12.808\n",
      " yhh_planarity                0.625       0.000       0.000\n",
      " ref                          1.000      11.884      11.884\n",
      " rama_prepro                  0.450     -16.216      -7.297\n",
      "---------------------------------------------------\n",
      " Total weighted score:                       32.678\n"
     ]
    }
   ],
   "source": [
    "sfxn.show(pose)"
   ]
  },
  {
   "cell_type": "markdown",
   "metadata": {},
   "source": [
    "Let's prime the score function with a constraint score term."
   ]
  },
  {
   "cell_type": "code",
   "execution_count": 5,
   "metadata": {},
   "outputs": [],
   "source": [
    "from pyrosetta.rosetta.core.scoring import *\n",
    "sfxn.set_weight(atom_pair_constraint, 1.0)"
   ]
  },
  {
   "cell_type": "markdown",
   "metadata": {},
   "source": [
    "We see the new term added to the score function."
   ]
  },
  {
   "cell_type": "code",
   "execution_count": 6,
   "metadata": {},
   "outputs": [
    {
     "name": "stdout",
     "output_type": "stream",
     "text": [
      "\u001b[0mcore.scoring.ScoreFunction: {0} \u001b[0m\n",
      "------------------------------------------------------------\n",
      " Scores                       Weight   Raw Score Wghtd.Score\n",
      "------------------------------------------------------------\n",
      " fa_atr                       1.000    -397.647    -397.647\n",
      " fa_rep                       0.550     103.707      57.039\n",
      " fa_sol                       1.000     242.952     242.952\n",
      " fa_intra_rep                 0.005     355.469       1.777\n",
      " fa_intra_sol_xover4          1.000      16.826      16.826\n",
      " lk_ball_wtd                  1.000      -8.756      -8.756\n",
      " fa_elec                      1.000    -113.091    -113.091\n",
      " pro_close                    1.250       1.906       2.383\n",
      " hbond_sr_bb                  1.000     -18.828     -18.828\n",
      " hbond_lr_bb                  1.000     -23.132     -23.132\n",
      " hbond_bb_sc                  1.000      -7.389      -7.389\n",
      " hbond_sc                     1.000      -1.549      -1.549\n",
      " dslf_fa13                    1.250       0.000       0.000\n",
      " atom_pair_constraint         1.000       0.000       0.000\n",
      " omega                        0.400       4.284       1.713\n",
      " fa_dun                       0.700     412.284     288.599\n",
      " p_aa_pp                      0.600     -21.346     -12.808\n",
      " yhh_planarity                0.625       0.000       0.000\n",
      " ref                          1.000      11.884      11.884\n",
      " rama_prepro                  0.450     -16.216      -7.297\n",
      "---------------------------------------------------\n",
      " Total weighted score:                       32.678\n"
     ]
    }
   ],
   "source": [
    "sfxn(pose)\n",
    "sfxn.show(pose)"
   ]
  },
  {
   "cell_type": "markdown",
   "metadata": {},
   "source": [
    "But the score of this term is `0.000`. That's because the script doesn't know that it needs to associate the constraint file with this pose. To add the command line constraints to the score function and pose, use:"
   ]
  },
  {
   "cell_type": "code",
   "execution_count": 7,
   "metadata": {},
   "outputs": [
    {
     "name": "stdout",
     "output_type": "stream",
     "text": [
      "\u001b[0mcore.scoring.constraints.util: {0} \u001b[0mConstraint choice: h_bonds.cst\n",
      "\u001b[0mcore.scoring.constraints.ConstraintsIO: {0} \u001b[0mread constraints from h_bonds.cst\n",
      "\u001b[0mcore.scoring.constraints.ConstraintsIO: {0} \u001b[0mRead in 3 constraints\n"
     ]
    }
   ],
   "source": [
    "from pyrosetta.rosetta.core.scoring.constraints import *\n",
    "add_fa_constraints_from_cmdline(pose, sfxn)"
   ]
  },
  {
   "cell_type": "markdown",
   "metadata": {},
   "source": [
    "Let's look at the score now. Is the constraint score still `0.000`?\n",
    "(Note to self: change constraint file and run again.)"
   ]
  },
  {
   "cell_type": "code",
   "execution_count": 8,
   "metadata": {},
   "outputs": [
    {
     "name": "stdout",
     "output_type": "stream",
     "text": [
      "\u001b[0mcore.scoring.ScoreFunction: {0} \u001b[0m\n",
      "------------------------------------------------------------\n",
      " Scores                       Weight   Raw Score Wghtd.Score\n",
      "------------------------------------------------------------\n",
      " fa_atr                       1.000    -397.647    -397.647\n",
      " fa_rep                       0.550     103.707      57.039\n",
      " fa_sol                       1.000     242.952     242.952\n",
      " fa_intra_rep                 0.005     355.469       1.777\n",
      " fa_intra_sol_xover4          1.000      16.826      16.826\n",
      " lk_ball_wtd                  1.000      -8.756      -8.756\n",
      " fa_elec                      1.000    -113.091    -113.091\n",
      " pro_close                    1.250       1.906       2.383\n",
      " hbond_sr_bb                  1.000     -18.828     -18.828\n",
      " hbond_lr_bb                  1.000     -23.132     -23.132\n",
      " hbond_bb_sc                  1.000      -7.389      -7.389\n",
      " hbond_sc                     1.000      -1.549      -1.549\n",
      " dslf_fa13                    1.250       0.000       0.000\n",
      " atom_pair_constraint         1.000       0.000       0.000\n",
      " omega                        0.400       4.284       1.713\n",
      " fa_dun                       0.700     412.284     288.599\n",
      " p_aa_pp                      0.600     -21.346     -12.808\n",
      " yhh_planarity                0.625       0.000       0.000\n",
      " ref                          1.000      11.884      11.884\n",
      " rama_prepro                  0.450     -16.216      -7.297\n",
      "---------------------------------------------------\n",
      " Total weighted score:                       32.678\n"
     ]
    }
   ],
   "source": [
    "sfxn.show(pose)"
   ]
  },
  {
   "cell_type": "markdown",
   "metadata": {},
   "source": [
    "What if we have a mover that completely disrupts the H-bonds?"
   ]
  },
  {
   "cell_type": "code",
   "execution_count": 9,
   "metadata": {},
   "outputs": [
    {
     "name": "stdout",
     "output_type": "stream",
     "text": [
      "\u001b[0mcore.import_pose.import_pose: {0} \u001b[0mFile '1ubq_perturbed.pdb' automatically determined to be of type PDB\n"
     ]
    }
   ],
   "source": [
    "pose_perturbed = pose_from_pdb(\"1ubq_perturbed.pdb\")"
   ]
  },
  {
   "cell_type": "markdown",
   "metadata": {},
   "source": [
    "As the new perturbed pose doesn't yet know about the constraints, we need to add them to the pose."
   ]
  },
  {
   "cell_type": "code",
   "execution_count": 10,
   "metadata": {},
   "outputs": [
    {
     "name": "stdout",
     "output_type": "stream",
     "text": [
      "\u001b[0mcore.scoring.constraints.util: {0} \u001b[0mConstraint choice: h_bonds.cst\n",
      "\u001b[0mcore.scoring.constraints.ConstraintsIO: {0} \u001b[0mread constraints from h_bonds.cst\n",
      "\u001b[0mcore.scoring.constraints.ConstraintsIO: {0} \u001b[0mRead in 3 constraints\n",
      "\u001b[0mcore.scoring.ScoreFunction: {0} \u001b[0m\n",
      "------------------------------------------------------------\n",
      " Scores                       Weight   Raw Score Wghtd.Score\n",
      "------------------------------------------------------------\n",
      " fa_atr                       1.000    -278.300    -278.300\n",
      " fa_rep                       0.550     103.026      56.665\n",
      " fa_sol                       1.000     192.801     192.801\n",
      " fa_intra_rep                 0.005     355.356       1.777\n",
      " fa_intra_sol_xover4          1.000      16.827      16.827\n",
      " lk_ball_wtd                  1.000     -10.735     -10.735\n",
      " fa_elec                      1.000     -60.225     -60.225\n",
      " pro_close                    1.250       1.906       2.383\n",
      " hbond_sr_bb                  1.000     -16.581     -16.581\n",
      " hbond_lr_bb                  1.000      -6.507      -6.507\n",
      " hbond_bb_sc                  1.000      -7.390      -7.390\n",
      " hbond_sc                     1.000      -0.389      -0.389\n",
      " dslf_fa13                    1.250       0.000       0.000\n",
      " atom_pair_constraint         1.000     251.524     251.524\n",
      " omega                        0.400       4.309       1.723\n",
      " fa_dun                       0.700     413.253     289.277\n",
      " p_aa_pp                      0.600     -19.763     -11.858\n",
      " yhh_planarity                0.625       0.000       0.000\n",
      " ref                          1.000      11.884      11.884\n",
      " rama_prepro                  0.450      25.377      11.419\n",
      "---------------------------------------------------\n",
      " Total weighted score:                      444.294\n"
     ]
    }
   ],
   "source": [
    "add_fa_constraints_from_cmdline_to_pose(pose_perturbed)\n",
    "sfxn.show(pose_perturbed)"
   ]
  },
  {
   "cell_type": "markdown",
   "metadata": {},
   "source": [
    "Does this structure have major score penalties?"
   ]
  }
 ],
 "metadata": {
  "kernelspec": {
   "display_name": "Python 3",
   "language": "python",
   "name": "python3"
  },
  "language_info": {
   "codemirror_mode": {
    "name": "ipython",
    "version": 3
   },
   "file_extension": ".py",
   "mimetype": "text/x-python",
   "name": "python",
   "nbconvert_exporter": "python",
   "pygments_lexer": "ipython3",
   "version": "3.7.7"
  }
 },
 "nbformat": 4,
 "nbformat_minor": 2
}
