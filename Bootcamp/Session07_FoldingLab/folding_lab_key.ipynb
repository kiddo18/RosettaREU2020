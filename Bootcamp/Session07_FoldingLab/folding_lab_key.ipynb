{
 "cells": [
  {
   "cell_type": "markdown",
   "metadata": {},
   "source": [
    "# Folding Lab"
   ]
  },
  {
   "cell_type": "markdown",
   "metadata": {},
   "source": [
    "## Building the pose"
   ]
  },
  {
   "cell_type": "markdown",
   "metadata": {},
   "source": [
    "In this lab session, you will be folding a 30 residue protein with basic movers. Start by initializing PyRosetta as usual."
   ]
  },
  {
   "cell_type": "code",
   "execution_count": 1,
   "metadata": {
    "nbgrader": {
     "grade": true,
     "grade_id": "cell-51bf9a2d3d2cf150",
     "locked": false,
     "points": 0,
     "schema_version": 3,
     "solution": true
    }
   },
   "outputs": [
    {
     "name": "stdout",
     "output_type": "stream",
     "text": [
      "PyRosetta-4 2020 [Rosetta PyRosetta4.conda.mac.python37.Release 2020.02+release.22ef835b4a2647af94fcd6421a85720f07eddf12 2020-01-05T17:31:56] retrieved from: http://www.pyrosetta.org\n",
      "(C) Copyright Rosetta Commons Member Institutions. Created in JHU by Sergey Lyskov and PyRosetta Team.\n",
      "\u001b[0mcore.init: {0} \u001b[0mChecking for fconfig files in pwd and ./rosetta/flags\n",
      "\u001b[0mcore.init: {0} \u001b[0mRosetta version: PyRosetta4.conda.mac.python37.Release r242 2020.02+release.22ef835b4a2 22ef835b4a2647af94fcd6421a85720f07eddf12 http://www.pyrosetta.org 2020-01-05T17:31:56\n",
      "\u001b[0mcore.init: {0} \u001b[0mcommand: PyRosetta -ex1 -ex2aro -database /Users/paul/anaconda3/envs/pyrosetta_env/lib/python3.7/site-packages/pyrosetta/database\n",
      "\u001b[0mbasic.random.init_random_generator: {0} \u001b[0m'RNG device' seed mode, using '/dev/urandom', seed=554548529 seed_offset=0 real_seed=554548529 thread_index=0\n",
      "\u001b[0mbasic.random.init_random_generator: {0} \u001b[0mRandomGenerator:init: Normal mode, seed=554548529 RG_type=mt19937\n"
     ]
    }
   ],
   "source": [
    "#1\n",
    "### BEGIN SOLUTION\n",
    "from pyrosetta import *\n",
    "init()\n",
    "### END SOLUTION"
   ]
  },
  {
   "cell_type": "markdown",
   "metadata": {},
   "source": [
    "We would like to visualize folding as it happens. Before starting with the folding protocol, instantiate a PyMOL mover. Make sure you retain history to view the entire folding process. Start a PyMOL session on the side and make sure it says `PyMOL <---> PyRosetta link started!` on its commnad line."
   ]
  },
  {
   "cell_type": "code",
   "execution_count": 2,
   "metadata": {
    "nbgrader": {
     "grade": true,
     "grade_id": "cell-9197e4c46ebbaec4",
     "locked": false,
     "points": 0,
     "schema_version": 3,
     "solution": true
    }
   },
   "outputs": [],
   "source": [
    "#2\n",
    "### BEGIN SOLUTION\n",
    "pmm = PyMOLMover()\n",
    "pmm.keep_history(True) \n",
    "### END SOLUTION"
   ]
  },
  {
   "cell_type": "markdown",
   "metadata": {},
   "source": [
    "Initialize a pose from sequence using the FASTA file given in this folder, `1qgm.fatsa`. Use the PyMOL mover to view the pose. You should see a long thread-like structure. Check the backbone dihedrals of any residue (except the first and last). What are the values of phi and psi dihedrals?"
   ]
  },
  {
   "cell_type": "code",
   "execution_count": 3,
   "metadata": {
    "nbgrader": {
     "grade": true,
     "grade_id": "cell-eb90bf43423cdf64",
     "locked": false,
     "points": 0,
     "schema_version": 3,
     "solution": true
    }
   },
   "outputs": [
    {
     "name": "stdout",
     "output_type": "stream",
     "text": [
      "\u001b[0mcore.chemical.GlobalResidueTypeSet: {0} \u001b[0mFinished initializing fa_standard residue type set.  Created 980 residue types\n",
      "\u001b[0mcore.chemical.GlobalResidueTypeSet: {0} \u001b[0mTotal time to initialize 1.07817 seconds.\n"
     ]
    }
   ],
   "source": [
    "#3\n",
    "### BEGIN SOLUTION\n",
    "start_pose = pose_from_sequence(\"VIHCDAATICPDGTTCSLSPYGVWYCSPFS\")\n",
    "### END SOLUTION"
   ]
  },
  {
   "cell_type": "markdown",
   "metadata": {},
   "source": [
    "Pick any residue in the pose (except for an Ala or Gly) and print out information about it using `pose.residue(resno)`. How many atoms do you see? You might also want to go to PyMOL and take a look at this residue in stick representation"
   ]
  },
  {
   "cell_type": "code",
   "execution_count": 4,
   "metadata": {
    "nbgrader": {
     "grade": true,
     "grade_id": "cell-d5d2de8e79a3a346",
     "locked": false,
     "points": 0,
     "schema_version": 3,
     "solution": true
    }
   },
   "outputs": [
    {
     "name": "stdout",
     "output_type": "stream",
     "text": [
      "Residue 2: ILE (ILE, I):\n",
      "Base: ILE\n",
      " Properties: POLYMER PROTEIN CANONICAL_AA HYDROPHOBIC ALIPHATIC METALBINDING ALPHA_AA L_AA\n",
      " Variant types:\n",
      " Main-chain atoms:  N    CA   C  \n",
      " Backbone atoms:    N    CA   C    O    H    HA \n",
      " Side-chain atoms:  CB   CG1  CG2  CD1  HB  1HG1 2HG1 1HG2 2HG2 3HG2 1HD1 2HD1 3HD1\n",
      "Atom Coordinates:\n",
      "   N  : 3.33248, 1.53597, 1.45999e-16\n",
      "   CA : 3.98759, 2.83851, 1.11973e-17\n",
      "   C  : 5.50383, 2.69251, 3.98699e-16\n",
      "   O  : 6.02992, 1.57957, -5.72105e-07\n",
      "   CB : 3.55155, 3.67262, 1.21844\n",
      "   CG1: 2.55509, 2.8866, 2.07455\n",
      "   CG2: 2.94643, 4.99377, 0.769523\n",
      "   CD1: 2.24058, 1.50953, 1.5361\n",
      "   H  : 3.89946, 0.700128, 2.30928e-07\n",
      "   HA : 3.69688, 3.37162, -0.904386\n",
      "   HB : 4.41682, 3.87565, 1.84868\n",
      "  1HG1: 2.95036, 2.77644, 3.0838\n",
      "  2HG1: 1.62083, 3.44373, 2.14949\n",
      "  1HG2: 2.64312, 5.57044, 1.64304\n",
      "  2HG2: 3.68508, 5.55758, 0.201387\n",
      "  3HG2: 2.07605, 4.80085, 0.142106\n",
      "  1HD1: 1.52766, 1.01475, 2.19615\n",
      "  2HD1: 1.80983, 1.59849, 0.538159\n",
      "  3HD1: 3.15567, 0.921235, 1.48554\n",
      "Mirrored relative to coordinates in ResidueType: FALSE\n",
      "\n"
     ]
    }
   ],
   "source": [
    "#4\n",
    "### BEGIN SOLUTION\n",
    "print(start_pose.residue(2))\n",
    "pmm.apply(start_pose)\n",
    "### END SOLUTION"
   ]
  },
  {
   "cell_type": "markdown",
   "metadata": {},
   "source": [
    "## Using centroid mode"
   ]
  },
  {
   "cell_type": "markdown",
   "metadata": {},
   "source": [
    "In this entire lab, we will work entirely in centroid mode. So inistatiate a `SwitchResidueTypeSetMover` and apply it on the pose. Apply the PyMOL mover again."
   ]
  },
  {
   "cell_type": "code",
   "execution_count": 5,
   "metadata": {
    "nbgrader": {
     "grade": true,
     "grade_id": "cell-2880ed0ff9e0689a",
     "locked": false,
     "points": 0,
     "schema_version": 3,
     "solution": true
    }
   },
   "outputs": [
    {
     "name": "stdout",
     "output_type": "stream",
     "text": [
      "\u001b[0mcore.chemical.GlobalResidueTypeSet: {0} \u001b[0mFinished initializing centroid residue type set.  Created 62 residue types\n",
      "\u001b[0mcore.chemical.GlobalResidueTypeSet: {0} \u001b[0mTotal time to initialize 0.040094 seconds.\n"
     ]
    }
   ],
   "source": [
    "#5\n",
    "### BEGIN SOLUTION\n",
    "pose = Pose(start_pose)\n",
    "switch = SwitchResidueTypeSetMover(\"centroid\")\n",
    "switch.apply(pose)\n",
    "pmm.apply(pose)\n",
    "### END SOLUTION"
   ]
  },
  {
   "cell_type": "markdown",
   "metadata": {},
   "source": [
    "Print out information about the same residue using `pose.residue(resi#)`. How many atoms do you see now? Is there a change in the stick representation of this residue?"
   ]
  },
  {
   "cell_type": "code",
   "execution_count": 6,
   "metadata": {
    "nbgrader": {
     "grade": true,
     "grade_id": "cell-38ba33fc7292b36c",
     "locked": false,
     "points": 0,
     "schema_version": 3,
     "solution": true
    }
   },
   "outputs": [
    {
     "name": "stdout",
     "output_type": "stream",
     "text": [
      "Residue 2: ILE (ILE, I):\n",
      "Base: ILE\n",
      " Properties: POLYMER PROTEIN CANONICAL_AA HYDROPHOBIC ALIPHATIC ALPHA_AA L_AA\n",
      " Variant types:\n",
      " Main-chain atoms:  N    CA   C  \n",
      " Backbone atoms:    N    CA   C    O    H  \n",
      " Side-chain atoms:  CB   CEN\n",
      "Atom Coordinates:\n",
      "   N  : 3.33248, 1.53597, 1.45999e-16\n",
      "   CA : 3.98759, 2.83851, 1.11973e-17\n",
      "   C  : 5.50383, 2.69251, 3.98699e-16\n",
      "   O  : 6.02992, 1.57957, -5.72105e-07\n",
      "   CB : 3.56262, 3.68472, 1.214\n",
      "   CEN: 2.81569, 4.3785, 1.60064\n",
      "   H  : 3.89946, 0.700128, 2.30928e-07\n",
      "Mirrored relative to coordinates in ResidueType: FALSE\n",
      "\n"
     ]
    }
   ],
   "source": [
    "#6\n",
    "### BEGIN SOLUTION\n",
    "print(pose.residue(2))\n",
    "### END SOLUTION"
   ]
  },
  {
   "cell_type": "markdown",
   "metadata": {},
   "source": [
    "Since we are working with a centroid residue type set, `ref2015` can no longer be used as a score function. Nonetheless let's give it a try. Initialize `ref2015` using `get_fa_scorefxn()` and try to score the pose with that. What do you see? Comment this line out (that is add # in front of it) to proceed."
   ]
  },
  {
   "cell_type": "code",
   "execution_count": 7,
   "metadata": {
    "nbgrader": {
     "grade": true,
     "grade_id": "cell-6763ef794721750a",
     "locked": false,
     "points": 0,
     "schema_version": 3,
     "solution": true
    }
   },
   "outputs": [
    {
     "name": "stdout",
     "output_type": "stream",
     "text": [
      "\u001b[0mcore.scoring.ScoreFunctionFactory: {0} \u001b[0mSCOREFUNCTION: \u001b[32mref2015\u001b[0m\n",
      "\u001b[0mcore.scoring.etable: {0} \u001b[0mStarting energy table calculation\n",
      "\u001b[0mcore.scoring.etable: {0} \u001b[0msmooth_etable: changing atr/rep split to bottom of energy well\n",
      "\u001b[0mcore.scoring.etable: {0} \u001b[0msmooth_etable: spline smoothing lj etables (maxdis = 6)\n",
      "\u001b[0mcore.scoring.etable: {0} \u001b[0msmooth_etable: spline smoothing solvation etables (max_dis = 6)\n",
      "\u001b[0mcore.scoring.etable: {0} \u001b[0mFinished calculating energy tables.\n",
      "\u001b[0mbasic.io.database: {0} \u001b[0mDatabase file opened: scoring/score_functions/hbonds/ref2015_params/HBPoly1D.csv\n",
      "\u001b[0mbasic.io.database: {0} \u001b[0mDatabase file opened: scoring/score_functions/hbonds/ref2015_params/HBFadeIntervals.csv\n",
      "\u001b[0mbasic.io.database: {0} \u001b[0mDatabase file opened: scoring/score_functions/hbonds/ref2015_params/HBEval.csv\n",
      "\u001b[0mbasic.io.database: {0} \u001b[0mDatabase file opened: scoring/score_functions/hbonds/ref2015_params/DonStrength.csv\n",
      "\u001b[0mbasic.io.database: {0} \u001b[0mDatabase file opened: scoring/score_functions/hbonds/ref2015_params/AccStrength.csv\n",
      "\u001b[0mbasic.io.database: {0} \u001b[0mDatabase file opened: scoring/score_functions/rama/fd/all.ramaProb\n",
      "\u001b[0mbasic.io.database: {0} \u001b[0mDatabase file opened: scoring/score_functions/rama/fd/prepro.ramaProb\n",
      "\u001b[0mbasic.io.database: {0} \u001b[0mDatabase file opened: scoring/score_functions/omega/omega_ppdep.all.txt\n",
      "\u001b[0mbasic.io.database: {0} \u001b[0mDatabase file opened: scoring/score_functions/omega/omega_ppdep.gly.txt\n",
      "\u001b[0mbasic.io.database: {0} \u001b[0mDatabase file opened: scoring/score_functions/omega/omega_ppdep.pro.txt\n",
      "\u001b[0mbasic.io.database: {0} \u001b[0mDatabase file opened: scoring/score_functions/omega/omega_ppdep.valile.txt\n",
      "\u001b[0mbasic.io.database: {0} \u001b[0mDatabase file opened: scoring/score_functions/P_AA_pp/P_AA\n",
      "\u001b[0mbasic.io.database: {0} \u001b[0mDatabase file opened: scoring/score_functions/P_AA_pp/P_AA_n\n",
      "\u001b[0mcore.scoring.P_AA: {0} \u001b[0mshapovalov_lib::shap_p_aa_pp_smooth_level of 1( aka low_smooth ) got activated.\n",
      "\u001b[0mbasic.io.database: {0} \u001b[0mDatabase file opened: scoring/score_functions/P_AA_pp/shapovalov/10deg/kappa131/a20.prop\n"
     ]
    }
   ],
   "source": [
    "#7\n",
    "### BEGIN SOLUTION\n",
    "sfxn_fa = get_score_function()\n",
    "#sfxn_fa(pose)\n",
    "### END SOLUTION"
   ]
  },
  {
   "cell_type": "markdown",
   "metadata": {},
   "source": [
    "An appropriate score function for the centroid mode is `score3`. You can initialize it using `create_score_function(\"score3\")`. Score the pose with this score function."
   ]
  },
  {
   "cell_type": "code",
   "execution_count": 8,
   "metadata": {
    "nbgrader": {
     "grade": true,
     "grade_id": "cell-f9d50870e758e440",
     "locked": false,
     "points": 0,
     "schema_version": 3,
     "solution": true
    }
   },
   "outputs": [
    {
     "name": "stdout",
     "output_type": "stream",
     "text": [
      "\u001b[0mbasic.io.database: {0} \u001b[0mDatabase file opened: scoring/score_functions/EnvPairPotential/env_log.txt\n",
      "\u001b[0mbasic.io.database: {0} \u001b[0mDatabase file opened: scoring/score_functions/EnvPairPotential/cbeta_den.txt\n",
      "\u001b[0mbasic.io.database: {0} \u001b[0mDatabase file opened: scoring/score_functions/EnvPairPotential/pair_log.txt\n",
      "\u001b[0mbasic.io.database: {0} \u001b[0mDatabase file opened: scoring/score_functions/EnvPairPotential/cenpack_log.txt\n",
      "\u001b[0mbasic.io.database: {0} \u001b[0mDatabase file opened: scoring/score_functions/SecondaryStructurePotential/phi.theta.36.HS.resmooth\n",
      "\u001b[0mbasic.io.database: {0} \u001b[0mDatabase file opened: scoring/score_functions/SecondaryStructurePotential/phi.theta.36.SS.resmooth\n"
     ]
    },
    {
     "data": {
      "text/plain": [
       "156.57643598651632"
      ]
     },
     "execution_count": 8,
     "metadata": {},
     "output_type": "execute_result"
    }
   ],
   "source": [
    "#8\n",
    "### BEGIN SOLUTION\n",
    "sfxn_cen = create_score_function(\"score3\")\n",
    "sfxn_cen(pose)\n",
    "### END SOLUTION"
   ]
  },
  {
   "cell_type": "markdown",
   "metadata": {},
   "source": [
    "## Comparing to native"
   ]
  },
  {
   "cell_type": "markdown",
   "metadata": {},
   "source": [
    "Since the final solution is known to us, let's read in the native file, `1qgm.pdb` and store it in a new pose. For a good comparison, let's also use the swich residue type mover on this. Score this native pose using `score3`. Why do you think the score is like it is? To visualize this pose, use the PyMOL mover again."
   ]
  },
  {
   "cell_type": "code",
   "execution_count": 9,
   "metadata": {
    "nbgrader": {
     "grade": true,
     "grade_id": "cell-dc22bffe75bf95c9",
     "locked": false,
     "points": 0,
     "schema_version": 3,
     "solution": true
    }
   },
   "outputs": [
    {
     "name": "stdout",
     "output_type": "stream",
     "text": [
      "\u001b[0mcore.import_pose.import_pose: {0} \u001b[0mFile '1qgm.pdb' automatically determined to be of type PDB\n",
      "\u001b[0mcore.io.pose_from_sfr.PoseFromSFRBuilder: {0} \u001b[0m\u001b[1m[ WARNING ]\u001b[0m discarding 3 atoms at position 1 in file 1qgm.pdb. Best match rsd_type:  VAL:NtermProteinFull\n",
      "\u001b[0mcore.conformation.Conformation: {0} \u001b[0mFound disulfide between residues 4 16\n",
      "\u001b[0mcore.conformation.Conformation: {0} \u001b[0mcurrent variant for 4 CYS\n",
      "\u001b[0mcore.conformation.Conformation: {0} \u001b[0mcurrent variant for 16 CYS\n",
      "\u001b[0mcore.conformation.Conformation: {0} \u001b[0mcurrent variant for 4 CYD\n",
      "\u001b[0mcore.conformation.Conformation: {0} \u001b[0mcurrent variant for 16 CYD\n",
      "\u001b[0mcore.conformation.Conformation: {0} \u001b[0mFound disulfide between residues 10 26\n",
      "\u001b[0mcore.conformation.Conformation: {0} \u001b[0mcurrent variant for 10 CYS\n",
      "\u001b[0mcore.conformation.Conformation: {0} \u001b[0mcurrent variant for 26 CYS\n",
      "\u001b[0mcore.conformation.Conformation: {0} \u001b[0mcurrent variant for 10 CYD\n",
      "\u001b[0mcore.conformation.Conformation: {0} \u001b[0mcurrent variant for 26 CYD\n"
     ]
    },
    {
     "data": {
      "text/plain": [
       "63.8669820863305"
      ]
     },
     "execution_count": 9,
     "metadata": {},
     "output_type": "execute_result"
    }
   ],
   "source": [
    "native_pose = pose_from_file(\"1qgm.pdb\")\n",
    "native_cen = Pose(native_pose)\n",
    "switch.apply(native_cen)\n",
    "sfxn_cen(native_cen)"
   ]
  },
  {
   "cell_type": "markdown",
   "metadata": {},
   "source": [
    "How far is the pose from the native pose? One classic metric is the C-alpha RMSD. In Rosetta, it is calculated using the `CA_rmsd()` method located in `pyrosetta.rosetta.core.scoring`. What is the starting value?"
   ]
  },
  {
   "cell_type": "code",
   "execution_count": 10,
   "metadata": {
    "nbgrader": {
     "grade": true,
     "grade_id": "cell-3c82cf2032f078ad",
     "locked": false,
     "points": 0,
     "schema_version": 3,
     "solution": true
    }
   },
   "outputs": [
    {
     "name": "stdout",
     "output_type": "stream",
     "text": [
      "ca rmsd: 27.841325759887695\n"
     ]
    }
   ],
   "source": [
    "#9\n",
    "### BEGIN SOLUTION\n",
    "from pyrosetta.rosetta.core.scoring import CA_rmsd\n",
    "ca_rmsd = pyrosetta.rosetta.core.scoring.CA_rmsd(native_cen, pose)\n",
    "print(\"ca rmsd:\", ca_rmsd)\n",
    "### END SOLUTION"
   ]
  },
  {
   "cell_type": "markdown",
   "metadata": {},
   "source": [
    "Now that we know how to calculate this RMSD, we can use it to track if we are getting closer to the native structure."
   ]
  },
  {
   "cell_type": "markdown",
   "metadata": {},
   "source": [
    "## Building a basic folding protocol"
   ]
  },
  {
   "cell_type": "markdown",
   "metadata": {},
   "source": [
    "So finally we can start to fold the protein. The only mobile segment is the backbone. To specify this, make a movemap and set backbone motion to true for all residues, i.e. `set_bb(True)`"
   ]
  },
  {
   "cell_type": "code",
   "execution_count": 11,
   "metadata": {},
   "outputs": [],
   "source": [
    "mm = MoveMap()\n",
    "mm.set_bb(True)"
   ]
  },
  {
   "cell_type": "markdown",
   "metadata": {},
   "source": [
    "Let us try to use some simple movers that we have learnt today to fold the protein. Start by initializing a small mover and a shear mover (located in `pyrosetta.rosetta.protocols.simple_moves`). Set `n_moves = 10` and `kT = 1.0`."
   ]
  },
  {
   "cell_type": "code",
   "execution_count": 12,
   "metadata": {
    "nbgrader": {
     "grade": true,
     "grade_id": "cell-581ead74267e0ad8",
     "locked": false,
     "points": 0,
     "schema_version": 3,
     "solution": true
    }
   },
   "outputs": [],
   "source": [
    "#10\n",
    "### BEGIN SOLUTION\n",
    "small = rosetta.protocols.simple_moves.SmallMover()\n",
    "small.nmoves(10)\n",
    "small.temperature(1.0)\n",
    "\n",
    "shear = rosetta.protocols.simple_moves.ShearMover()\n",
    "shear.nmoves(10)\n",
    "shear.temperature(1.0)\n",
    "### END SOLUTION"
   ]
  },
  {
   "cell_type": "markdown",
   "metadata": {},
   "source": [
    "To apply them one after the other, use a sequence mover (located in `pyrosetta.rosetta.protocols.moves`).\n",
    "\n",
    "The SequenceMover is a mover that holds other movers and applies them \"in sequence.\" I.e. if you have three movers, `m1`, `m2`, and `m3`, and you add them to a SequenceMover in that order, then when you call the SequenceMover's `apply` method, it will first invoke `m1`'s `apply`, then `m2`'s `apply`, and finally `m3`'s `apply`.\n",
    "\n",
    "Add the above two movers to your sequence mover using its `add_mover()` function."
   ]
  },
  {
   "cell_type": "code",
   "execution_count": 13,
   "metadata": {
    "nbgrader": {
     "grade": true,
     "grade_id": "cell-2ec2d06a28cd9bff",
     "locked": false,
     "points": 0,
     "schema_version": 3,
     "solution": true
    }
   },
   "outputs": [],
   "source": [
    "#11\n",
    "### BEGIN SOLUTION\n",
    "\n",
    "seq = pyrosetta.rosetta.protocols.moves.SequenceMover()\n",
    "seq.add_mover(small)\n",
    "seq.add_mover(shear)\n",
    "\n",
    "### END SOLUTION"
   ]
  },
  {
   "cell_type": "markdown",
   "metadata": {},
   "source": [
    "To perform a Monte Carlo simulation, we first need a `MonteCarlo` object. Use the constructor for MonteCarlo that takes as arguments a pose, a score function, and a kT \"temperature\" as its parameters. Use a temperature of 1.\n",
    "\n",
    "You're probably wondering: what score function and what pose should you use? The MonteCarlo object will use the Pose that you give it as it's starting point. It should be the centroid pose that you created from the FASTA sequence. (It should not be the native pose you read in from the PDB file!). We will want the centroid score function to go along with the centroid pose.\n",
    "\n",
    "The way we'll use the MonteCarlo object is that we'll perturb the Pose `p`, and then after the perturbation, ask the MonteCarlo object to accept or reject the perturbation.\n",
    "\n",
    "```\n",
    "   for _ in range(100):\n",
    "       perturber.apply(p)\n",
    "       mc.boltzmann(p) # accept or reject the change to p\n",
    "```\n",
    "Internally, the MonteCarlo object keeps a copy of the pose in its most-recently-accepted conformation so that if the Metropolis criterion calls for the rejection of the perturbation, then the MonteCarlo object can copy the prior conformation back into `p`. I.e., the copying resets `p`'s conformation to how it was before the perturbation took place.\n",
    "\n",
    "The MonteCarlo object is keeping a second copy of the pose that represents the best-ever-seen conformation. We will talk about that copy later.\n",
    "\n",
    "Construct your MonteCarlo object below."
   ]
  },
  {
   "cell_type": "code",
   "execution_count": 14,
   "metadata": {
    "nbgrader": {
     "grade": true,
     "grade_id": "cell-f0d00fd4a6c5fd8b",
     "locked": false,
     "points": 0,
     "schema_version": 3,
     "solution": true
    }
   },
   "outputs": [],
   "source": [
    "#12\n",
    "### BEGIN SOLUTION\n",
    "\n",
    "mc = MonteCarlo(pose, sfxn_cen, 2.0)\n",
    "\n",
    "### END SOLUTION"
   ]
  },
  {
   "cell_type": "markdown",
   "metadata": {},
   "source": [
    "As we are nesting movers, it will be convineint to use a `TrialMover` to invoke some other Mover's apply function, and then invoke the MonteCarlo's boltzmann function. That is, the TrialMover's `apply` function is basically :\n",
    "\n",
    "```\n",
    "class TrialMover(Mover):\n",
    "   def __init__(self, mover: Mover, mc: MonteCarlo):\n",
    "      self.mover = mover\n",
    "      self.mc = mc\n",
    "   def apply(self, p: Pose):\n",
    "      mover.apply(p)\n",
    "      self.botlzmann(p)\n",
    "```\n",
    "\n",
    "(although it is actually implemented in C++)\n",
    "\n",
    "Why create a class to call a function? Why not just call the function? Muse on this.\n",
    "\n",
    "Initialize a `TrialMover` with the sequence mover (the one containing the small and shear movers) and the Monte Carlo object as input."
   ]
  },
  {
   "cell_type": "code",
   "execution_count": 15,
   "metadata": {
    "nbgrader": {
     "grade": true,
     "grade_id": "cell-623cb57a710ae16f",
     "locked": false,
     "points": 0,
     "schema_version": 3,
     "solution": true
    }
   },
   "outputs": [],
   "source": [
    "#13\n",
    "### BEGIN SOLUTION\n",
    "\n",
    "trial = TrialMover(seq, mc)\n",
    "\n",
    "### END SOLUTION"
   ]
  },
  {
   "cell_type": "markdown",
   "metadata": {},
   "source": [
    "Before making any changes, let's keep a copy of the starting pose handy, because we'll need it later. To do so use `pose.clone()`."
   ]
  },
  {
   "cell_type": "code",
   "execution_count": 16,
   "metadata": {
    "nbgrader": {
     "grade": true,
     "grade_id": "cell-10886b5692c58612",
     "locked": false,
     "points": 0,
     "schema_version": 3,
     "solution": true
    }
   },
   "outputs": [],
   "source": [
    "#14\n",
    "# pose_start = ...\n",
    "### BEGIN SOLUTION\n",
    "\n",
    "pose_start = pose.clone()\n",
    "\n",
    "### END SOLUTION"
   ]
  },
  {
   "cell_type": "markdown",
   "metadata": {},
   "source": [
    "## Applying the folding protocol"
   ]
  },
  {
   "cell_type": "markdown",
   "metadata": {},
   "source": [
    "OK!\n",
    "\n",
    "We now have all of the elements we need in order to put together and run our small- and shear-mover-based-folding protocol. Let's assemble them.\n",
    "\n",
    "What we will do is invoke the TrialMover's `apply` method. The TrialMover will invoke the SequenceMover's `apply` method and then invoke the MonteCarlo object's `botlzmann` method. The SequenceMover will invoke the small- and shear Movers in sequence.\n",
    "\n",
    "Just applying the TrialMover once, however, will not be sufficient to fold the protein! Apply this mover 100 times to do so (with a for loop). Inside this loop, also store the score of the pose and the C-alpha RMSD in two `numpy` arrays (look back to Session 1) after every apply of the trial mover. Also use the PyMOL mover to update the pose in PyMOL so that you can create a movie of your protocol.\n",
    "\n",
    "We are going to have you run this cell more than once; to make sure results of previous runs don't bleed through, add a call to MonteCarlo's `reset` function handing it the conformation of the original pose. Also, copy the `pose_start` pose into the working `pose.` "
   ]
  },
  {
   "cell_type": "code",
   "execution_count": 17,
   "metadata": {
    "nbgrader": {
     "grade": true,
     "grade_id": "cell-73b3dbadb52edbd3",
     "locked": false,
     "points": 0,
     "schema_version": 3,
     "solution": true
    }
   },
   "outputs": [
    {
     "name": "stdout",
     "output_type": "stream",
     "text": [
      "\u001b[0mcore.scoring.ramachandran: {0} \u001b[0mshapovalov_lib::shap_rama_smooth_level of 4( aka highest_smooth ) got activated.\n",
      "\u001b[0mbasic.io.database: {0} \u001b[0mDatabase file opened: scoring/score_functions/rama/shapovalov/kappa25/all.ramaProb\n",
      "\u001b[0mbasic.io.database: {0} \u001b[0mDatabase file opened: scoring/score_functions/rama/flat/avg_L_rama.dat\n",
      "\u001b[0mcore.scoring.ramachandran: {0} \u001b[0mReading custom Ramachandran table from scoring/score_functions/rama/flat/avg_L_rama.dat.\n",
      "\u001b[0mbasic.io.database: {0} \u001b[0mDatabase file opened: scoring/score_functions/rama/flat/sym_all_rama.dat\n",
      "\u001b[0mcore.scoring.ramachandran: {0} \u001b[0mReading custom Ramachandran table from scoring/score_functions/rama/flat/sym_all_rama.dat.\n",
      "\u001b[0mbasic.io.database: {0} \u001b[0mDatabase file opened: scoring/score_functions/rama/flat/sym_G_rama.dat\n",
      "\u001b[0mcore.scoring.ramachandran: {0} \u001b[0mReading custom Ramachandran table from scoring/score_functions/rama/flat/sym_G_rama.dat.\n",
      "\u001b[0mbasic.io.database: {0} \u001b[0mDatabase file opened: scoring/score_functions/rama/flat/sym_P_rama.dat\n",
      "\u001b[0mcore.scoring.ramachandran: {0} \u001b[0mReading custom Ramachandran table from scoring/score_functions/rama/flat/sym_P_rama.dat.\n",
      "\u001b[0mbasic.io.database: {0} \u001b[0mDatabase file opened: scoring/score_functions/rama/flat/avg_L_rama_str.dat\n",
      "\u001b[0mcore.scoring.ramachandran: {0} \u001b[0mReading custom Ramachandran table from scoring/score_functions/rama/flat/avg_L_rama_str.dat.\n",
      "\u001b[0mbasic.io.database: {0} \u001b[0mDatabase file opened: scoring/score_functions/rama/flat/sym_all_rama_str.dat\n",
      "\u001b[0mcore.scoring.ramachandran: {0} \u001b[0mReading custom Ramachandran table from scoring/score_functions/rama/flat/sym_all_rama_str.dat.\n",
      "\u001b[0mbasic.io.database: {0} \u001b[0mDatabase file opened: scoring/score_functions/rama/flat/sym_G_rama_str.dat\n",
      "\u001b[0mcore.scoring.ramachandran: {0} \u001b[0mReading custom Ramachandran table from scoring/score_functions/rama/flat/sym_G_rama_str.dat.\n",
      "\u001b[0mbasic.io.database: {0} \u001b[0mDatabase file opened: scoring/score_functions/rama/flat/sym_P_rama_str.dat\n",
      "\u001b[0mcore.scoring.ramachandran: {0} \u001b[0mReading custom Ramachandran table from scoring/score_functions/rama/flat/sym_P_rama_str.dat.\n",
      "27.815967559814453 156.32892280333309\n",
      "27.821609497070312 156.33145739851804\n",
      "27.782455444335938 156.29321151268505\n",
      "27.802080154418945 156.50862903761862\n",
      "27.753732681274414 156.42353852154233\n",
      "27.703907012939453 156.24469036225395\n",
      "27.658042907714844 156.0729130352496\n",
      "27.66314697265625 156.0742537407675\n",
      "27.616924285888672 156.1513721178805\n",
      "27.639799118041992 156.20253281494044\n",
      "27.62373161315918 156.0179010582191\n",
      "27.662065505981445 156.10741127395818\n",
      "27.687942504882812 156.19955442899996\n",
      "27.688819885253906 156.1648930963818\n",
      "27.685834884643555 156.03127319394608\n",
      "27.632946014404297 155.8549577593573\n",
      "27.599992752075195 155.75580492356178\n",
      "27.565946578979492 155.66347603905584\n",
      "27.60748863220215 155.7732430149008\n",
      "27.589500427246094 155.8827146379476\n",
      "27.505813598632812 155.7323412400924\n",
      "27.44487953186035 155.5634007559667\n",
      "27.476238250732422 155.02558253016377\n",
      "27.51981544494629 154.95165581177116\n",
      "27.546419143676758 154.93937915105298\n",
      "27.504791259765625 154.82888290664226\n",
      "27.541582107543945 155.04346329483283\n",
      "27.453702926635742 154.98309496459535\n",
      "27.460731506347656 154.96332247160018\n",
      "27.444721221923828 154.93473728485088\n",
      "27.36174964904785 154.77094952561285\n",
      "27.37750816345215 154.80386740288037\n",
      "27.36351776123047 153.83641722986178\n",
      "27.35859489440918 153.79115653786363\n",
      "27.397443771362305 153.80405756932447\n",
      "27.33708953857422 153.74364998510268\n",
      "27.268781661987305 153.67562073921394\n",
      "27.328577041625977 153.90829072311868\n",
      "27.337263107299805 153.89568667771434\n",
      "27.394405364990234 154.0062571225975\n",
      "27.42179298400879 153.96240046277546\n",
      "27.37442398071289 153.91389289806727\n",
      "27.3955135345459 153.93329713394985\n",
      "27.420013427734375 153.9399605413201\n",
      "27.39242935180664 153.90707087972442\n",
      "27.344200134277344 153.8301230164468\n",
      "27.259408950805664 154.4971115288777\n",
      "27.293346405029297 154.5480508710653\n",
      "27.18319320678711 154.35407414605862\n",
      "27.256587982177734 154.45711356695074\n",
      "27.163537979125977 154.2569472009573\n",
      "27.09221076965332 154.08159646819385\n",
      "27.010190963745117 153.9126631134352\n",
      "27.004352569580078 153.80873289226827\n",
      "27.08428192138672 153.8856594879147\n",
      "27.079378128051758 153.79171005778838\n",
      "27.07242202758789 153.8732676383145\n",
      "27.12596321105957 153.97415645267284\n",
      "27.0476131439209 153.81662925661053\n",
      "27.019142150878906 153.74576050904952\n",
      "27.07065200805664 153.81756473894757\n",
      "27.012605667114258 153.72591255043994\n",
      "27.12622833251953 153.92576080572695\n",
      "27.03857421875 153.80414327654526\n",
      "27.048860549926758 153.81711645429988\n",
      "27.02225685119629 153.77497263698342\n",
      "27.00153350830078 153.72052287500028\n",
      "26.961591720581055 153.6351354999549\n",
      "27.02846908569336 153.77453689759201\n",
      "26.88739013671875 153.48562095769051\n",
      "26.7839412689209 153.21728822253363\n",
      "26.829004287719727 153.30649153774272\n",
      "26.79827117919922 153.2623848674915\n",
      "26.84097671508789 153.12619303120596\n",
      "26.92371368408203 153.0368386624009\n",
      "26.924610137939453 152.98368138715648\n",
      "26.94680404663086 152.98834923928464\n",
      "26.907630920410156 152.89603039983388\n",
      "26.85828399658203 152.67618726232\n",
      "26.8470458984375 152.65466076547995\n",
      "26.92087745666504 152.70639924881883\n",
      "26.919065475463867 152.77477274984386\n",
      "26.863176345825195 152.59743918817452\n",
      "26.80046844482422 152.4588859948231\n",
      "26.78488540649414 152.41597594096635\n",
      "26.764589309692383 152.38817000970877\n",
      "26.81441307067871 152.47504740320466\n",
      "26.826858520507812 152.46829398289137\n",
      "26.761226654052734 152.30190632146537\n",
      "26.7558536529541 153.09209772494137\n",
      "26.712919235229492 152.8772971870718\n",
      "26.76929473876953 153.15822526695285\n",
      "26.72461700439453 152.97044098354635\n",
      "26.688873291015625 152.913342001648\n",
      "26.743999481201172 153.15465204594216\n",
      "26.742921829223633 153.18882853349703\n",
      "26.742921829223633 153.18882853349703\n",
      "26.65635108947754 153.04948058596207\n",
      "26.678985595703125 152.96859965975452\n",
      "26.56642723083496 152.55264246646166\n"
     ]
    }
   ],
   "source": [
    "#15\n",
    "### BEGIN SOLUTION\n",
    "\n",
    "import numpy\n",
    "n_iterations = 100\n",
    "score = numpy.zeros((n_iterations,),dtype=float)\n",
    "ca_rmsd = numpy.zeros((n_iterations,), dtype=float)\n",
    "\n",
    "work_pose = Pose(pose)\n",
    "mc.reset(work_pose)\n",
    "\n",
    "for i in range(n_iterations):\n",
    "    trial.apply(work_pose)\n",
    "    sc = sfxn_cen(work_pose)\n",
    "    score[i] = sc\n",
    "    rmsd = CA_rmsd(native_cen,work_pose)\n",
    "    ca_rmsd[i] = rmsd\n",
    "    pmm.apply(work_pose) # print movie in pyMOL\n",
    "    print(ca_rmsd[i], score[i])\n",
    "### END SOLUTION"
   ]
  },
  {
   "cell_type": "markdown",
   "metadata": {},
   "source": [
    "Now using a loop, print out the scores and the rmsds after every iteration. How close do you get to the native using this folding algorithm? Did you notice your RMSD decrease stalling after a while? Rerun the cell above (but take care that the results of your previous execution don't beeed through) a couple of times. Do you ever go below a certain number? If you \"play\" the states you have in pymol, do your structures look like they are becoming very protein-like?"
   ]
  },
  {
   "cell_type": "code",
   "execution_count": 18,
   "metadata": {
    "nbgrader": {
     "grade": true,
     "grade_id": "cell-72433368f2b5b8cb",
     "locked": false,
     "points": 0,
     "schema_version": 3,
     "solution": true
    }
   },
   "outputs": [
    {
     "name": "stdout",
     "output_type": "stream",
     "text": [
      "sc: 156.32892280333309 rmsd 27.815967559814453\n",
      "sc: 156.33145739851804 rmsd 27.821609497070312\n",
      "sc: 156.29321151268505 rmsd 27.782455444335938\n",
      "sc: 156.50862903761862 rmsd 27.802080154418945\n",
      "sc: 156.42353852154233 rmsd 27.753732681274414\n",
      "sc: 156.24469036225395 rmsd 27.703907012939453\n",
      "sc: 156.0729130352496 rmsd 27.658042907714844\n",
      "sc: 156.0742537407675 rmsd 27.66314697265625\n",
      "sc: 156.1513721178805 rmsd 27.616924285888672\n",
      "sc: 156.20253281494044 rmsd 27.639799118041992\n",
      "sc: 156.0179010582191 rmsd 27.62373161315918\n",
      "sc: 156.10741127395818 rmsd 27.662065505981445\n",
      "sc: 156.19955442899996 rmsd 27.687942504882812\n",
      "sc: 156.1648930963818 rmsd 27.688819885253906\n",
      "sc: 156.03127319394608 rmsd 27.685834884643555\n",
      "sc: 155.8549577593573 rmsd 27.632946014404297\n",
      "sc: 155.75580492356178 rmsd 27.599992752075195\n",
      "sc: 155.66347603905584 rmsd 27.565946578979492\n",
      "sc: 155.7732430149008 rmsd 27.60748863220215\n",
      "sc: 155.8827146379476 rmsd 27.589500427246094\n",
      "sc: 155.7323412400924 rmsd 27.505813598632812\n",
      "sc: 155.5634007559667 rmsd 27.44487953186035\n",
      "sc: 155.02558253016377 rmsd 27.476238250732422\n",
      "sc: 154.95165581177116 rmsd 27.51981544494629\n",
      "sc: 154.93937915105298 rmsd 27.546419143676758\n",
      "sc: 154.82888290664226 rmsd 27.504791259765625\n",
      "sc: 155.04346329483283 rmsd 27.541582107543945\n",
      "sc: 154.98309496459535 rmsd 27.453702926635742\n",
      "sc: 154.96332247160018 rmsd 27.460731506347656\n",
      "sc: 154.93473728485088 rmsd 27.444721221923828\n",
      "sc: 154.77094952561285 rmsd 27.36174964904785\n",
      "sc: 154.80386740288037 rmsd 27.37750816345215\n",
      "sc: 153.83641722986178 rmsd 27.36351776123047\n",
      "sc: 153.79115653786363 rmsd 27.35859489440918\n",
      "sc: 153.80405756932447 rmsd 27.397443771362305\n",
      "sc: 153.74364998510268 rmsd 27.33708953857422\n",
      "sc: 153.67562073921394 rmsd 27.268781661987305\n",
      "sc: 153.90829072311868 rmsd 27.328577041625977\n",
      "sc: 153.89568667771434 rmsd 27.337263107299805\n",
      "sc: 154.0062571225975 rmsd 27.394405364990234\n",
      "sc: 153.96240046277546 rmsd 27.42179298400879\n",
      "sc: 153.91389289806727 rmsd 27.37442398071289\n",
      "sc: 153.93329713394985 rmsd 27.3955135345459\n",
      "sc: 153.9399605413201 rmsd 27.420013427734375\n",
      "sc: 153.90707087972442 rmsd 27.39242935180664\n",
      "sc: 153.8301230164468 rmsd 27.344200134277344\n",
      "sc: 154.4971115288777 rmsd 27.259408950805664\n",
      "sc: 154.5480508710653 rmsd 27.293346405029297\n",
      "sc: 154.35407414605862 rmsd 27.18319320678711\n",
      "sc: 154.45711356695074 rmsd 27.256587982177734\n",
      "sc: 154.2569472009573 rmsd 27.163537979125977\n",
      "sc: 154.08159646819385 rmsd 27.09221076965332\n",
      "sc: 153.9126631134352 rmsd 27.010190963745117\n",
      "sc: 153.80873289226827 rmsd 27.004352569580078\n",
      "sc: 153.8856594879147 rmsd 27.08428192138672\n",
      "sc: 153.79171005778838 rmsd 27.079378128051758\n",
      "sc: 153.8732676383145 rmsd 27.07242202758789\n",
      "sc: 153.97415645267284 rmsd 27.12596321105957\n",
      "sc: 153.81662925661053 rmsd 27.0476131439209\n",
      "sc: 153.74576050904952 rmsd 27.019142150878906\n",
      "sc: 153.81756473894757 rmsd 27.07065200805664\n",
      "sc: 153.72591255043994 rmsd 27.012605667114258\n",
      "sc: 153.92576080572695 rmsd 27.12622833251953\n",
      "sc: 153.80414327654526 rmsd 27.03857421875\n",
      "sc: 153.81711645429988 rmsd 27.048860549926758\n",
      "sc: 153.77497263698342 rmsd 27.02225685119629\n",
      "sc: 153.72052287500028 rmsd 27.00153350830078\n",
      "sc: 153.6351354999549 rmsd 26.961591720581055\n",
      "sc: 153.77453689759201 rmsd 27.02846908569336\n",
      "sc: 153.48562095769051 rmsd 26.88739013671875\n",
      "sc: 153.21728822253363 rmsd 26.7839412689209\n",
      "sc: 153.30649153774272 rmsd 26.829004287719727\n",
      "sc: 153.2623848674915 rmsd 26.79827117919922\n",
      "sc: 153.12619303120596 rmsd 26.84097671508789\n",
      "sc: 153.0368386624009 rmsd 26.92371368408203\n",
      "sc: 152.98368138715648 rmsd 26.924610137939453\n",
      "sc: 152.98834923928464 rmsd 26.94680404663086\n",
      "sc: 152.89603039983388 rmsd 26.907630920410156\n",
      "sc: 152.67618726232 rmsd 26.85828399658203\n",
      "sc: 152.65466076547995 rmsd 26.8470458984375\n",
      "sc: 152.70639924881883 rmsd 26.92087745666504\n",
      "sc: 152.77477274984386 rmsd 26.919065475463867\n",
      "sc: 152.59743918817452 rmsd 26.863176345825195\n",
      "sc: 152.4588859948231 rmsd 26.80046844482422\n",
      "sc: 152.41597594096635 rmsd 26.78488540649414\n",
      "sc: 152.38817000970877 rmsd 26.764589309692383\n",
      "sc: 152.47504740320466 rmsd 26.81441307067871\n",
      "sc: 152.46829398289137 rmsd 26.826858520507812\n",
      "sc: 152.30190632146537 rmsd 26.761226654052734\n",
      "sc: 153.09209772494137 rmsd 26.7558536529541\n",
      "sc: 152.8772971870718 rmsd 26.712919235229492\n",
      "sc: 153.15822526695285 rmsd 26.76929473876953\n",
      "sc: 152.97044098354635 rmsd 26.72461700439453\n",
      "sc: 152.913342001648 rmsd 26.688873291015625\n",
      "sc: 153.15465204594216 rmsd 26.743999481201172\n",
      "sc: 153.18882853349703 rmsd 26.742921829223633\n",
      "sc: 153.18882853349703 rmsd 26.742921829223633\n",
      "sc: 153.04948058596207 rmsd 26.65635108947754\n",
      "sc: 152.96859965975452 rmsd 26.678985595703125\n",
      "sc: 152.55264246646166 rmsd 26.56642723083496\n"
     ]
    }
   ],
   "source": [
    "#16\n",
    "### BEGIN SOLUTION\n",
    "\n",
    "for i in range(n_iterations):\n",
    "    print(\"sc:\", score[i], \"rmsd\", ca_rmsd[i])\n",
    "\n",
    "### END SOLUTION"
   ]
  },
  {
   "cell_type": "markdown",
   "metadata": {},
   "source": [
    "## Increasing move size"
   ]
  },
  {
   "cell_type": "markdown",
   "metadata": {},
   "source": [
    ">If you have less than 30 minutes left, skip this section and proceed directly to the fragment-insertion section"
   ]
  },
  {
   "cell_type": "markdown",
   "metadata": {},
   "source": [
    "One possible reason for this stagnation is that the maximum angle deviation of small movers is very small: 0, 5, and 6 degrees for helices, sheets, and loops, respectively. This approach will likely take forever to fold this protein. What if we introduce larger changes? Let's try larger changes! Use `RandomTorsionMover` (also found in `pyrosetta.rosetta.protocols.simple_moves`) to make larger torsion changes. `RandomTorsionMover` can be initialized with three parameters: `movemap`, `max_angle`, and `num_moves`. Set `max_angle` to 20 (you can try a few values) and `n_moves` to 10."
   ]
  },
  {
   "cell_type": "code",
   "execution_count": 19,
   "metadata": {
    "nbgrader": {
     "grade": true,
     "grade_id": "cell-4633e983aa74e4e1",
     "locked": false,
     "points": 0,
     "schema_version": 3,
     "solution": true
    }
   },
   "outputs": [],
   "source": [
    "#17\n",
    "### BEGIN SOLUTION\n",
    "\n",
    "rtor = pyrosetta.rosetta.protocols.simple_moves.RandomTorsionMover(mm, 20, 10)\n",
    "\n",
    "### END SOLUTION"
   ]
  },
  {
   "cell_type": "markdown",
   "metadata": {},
   "source": [
    "Add this mover to your sequence mover (which still contains the small- and shear- movers)."
   ]
  },
  {
   "cell_type": "code",
   "execution_count": 20,
   "metadata": {
    "nbgrader": {
     "grade": true,
     "grade_id": "cell-ebb67f2c532ef893",
     "locked": false,
     "points": 0,
     "schema_version": 3,
     "solution": true
    }
   },
   "outputs": [],
   "source": [
    "#18\n",
    "### BEGIN SOLUTION\n",
    "seq.add_mover(rtor)\n",
    "### END SOLUTION"
   ]
  },
  {
   "cell_type": "markdown",
   "metadata": {},
   "source": [
    "Now, copy-paste the loop and score printing from above to run the trial mover. Before you run it, however, you might want to clear out your PyMOL session by typing `delete all` in the PyMOL terminal."
   ]
  },
  {
   "cell_type": "code",
   "execution_count": 21,
   "metadata": {
    "nbgrader": {
     "grade": true,
     "grade_id": "cell-dced5417e753bd8c",
     "locked": false,
     "points": 0,
     "schema_version": 3,
     "solution": true
    }
   },
   "outputs": [
    {
     "name": "stdout",
     "output_type": "stream",
     "text": [
      "sc: 155.83710891435132 rmsd 27.37666130065918\n",
      "sc: 155.97121633723128 rmsd 27.443342208862305\n",
      "sc: 155.70910304246863 rmsd 27.318523406982422\n",
      "sc: 155.5425327118656 rmsd 27.226299285888672\n",
      "sc: 154.40197573151906 rmsd 26.840906143188477\n",
      "sc: 154.40197573151906 rmsd 26.840906143188477\n",
      "sc: 154.70860714288682 rmsd 26.961524963378906\n",
      "sc: 155.42932182433054 rmsd 27.441179275512695\n",
      "sc: 155.42932182433054 rmsd 27.441179275512695\n",
      "sc: 155.6404599083312 rmsd 27.54583740234375\n",
      "sc: 155.21323769459855 rmsd 27.32180404663086\n",
      "sc: 155.21323769459855 rmsd 27.32180404663086\n",
      "sc: 155.00432151509227 rmsd 27.234228134155273\n",
      "sc: 154.68867523310522 rmsd 27.047393798828125\n",
      "sc: 154.45299374264823 rmsd 26.897010803222656\n",
      "sc: 155.16288818216793 rmsd 27.17877769470215\n",
      "sc: 154.6343395473952 rmsd 26.972036361694336\n",
      "sc: 154.23970671780543 rmsd 26.88701057434082\n",
      "sc: 154.15147903155741 rmsd 26.97064971923828\n",
      "sc: 154.34541357439872 rmsd 27.04338836669922\n",
      "sc: 153.89983081894607 rmsd 26.820337295532227\n",
      "sc: 153.89983081894607 rmsd 26.820337295532227\n",
      "sc: 153.85240221658847 rmsd 26.785310745239258\n",
      "sc: 153.142934844308 rmsd 26.831037521362305\n",
      "sc: 153.32076925712548 rmsd 26.89148712158203\n",
      "sc: 153.74357366735933 rmsd 27.131948471069336\n",
      "sc: 153.7925408092491 rmsd 27.177276611328125\n",
      "sc: 153.6945558697214 rmsd 27.118793487548828\n",
      "sc: 153.7022553423609 rmsd 27.106704711914062\n",
      "sc: 153.50009548825682 rmsd 26.994905471801758\n",
      "sc: 153.67037504475076 rmsd 27.087623596191406\n",
      "sc: 153.2638934117527 rmsd 26.908931732177734\n",
      "sc: 152.95791840557058 rmsd 26.693357467651367\n",
      "sc: 152.5313589276037 rmsd 26.555973052978516\n",
      "sc: 152.43932582688663 rmsd 26.515209197998047\n",
      "sc: 152.22903285006424 rmsd 26.430517196655273\n",
      "sc: 151.96898699011405 rmsd 26.274656295776367\n",
      "sc: 151.79015395628784 rmsd 26.231830596923828\n",
      "sc: 152.40314993495264 rmsd 26.407621383666992\n",
      "sc: 152.07199314491447 rmsd 26.306171417236328\n",
      "sc: 152.07199314491447 rmsd 26.306171417236328\n",
      "sc: 151.7033947445936 rmsd 26.101560592651367\n",
      "sc: 151.90916619305509 rmsd 26.22134780883789\n",
      "sc: 151.4901283621767 rmsd 26.009801864624023\n",
      "sc: 151.4901283621767 rmsd 26.009801864624023\n",
      "sc: 150.13837677755558 rmsd 25.431663513183594\n",
      "sc: 150.13837677755558 rmsd 25.431663513183594\n",
      "sc: 149.0547935722738 rmsd 24.996124267578125\n",
      "sc: 148.13493227197517 rmsd 24.67148208618164\n",
      "sc: 148.6666037108589 rmsd 24.895597457885742\n",
      "sc: 149.21632083261403 rmsd 25.186933517456055\n",
      "sc: 146.45102196397337 rmsd 24.436418533325195\n",
      "sc: 146.36779790230634 rmsd 24.38726043701172\n",
      "sc: 145.23521440559682 rmsd 24.008176803588867\n",
      "sc: 145.79427969313716 rmsd 24.146699905395508\n",
      "sc: 143.4523661307703 rmsd 23.351688385009766\n",
      "sc: 143.4523661307703 rmsd 23.351688385009766\n",
      "sc: 143.4523661307703 rmsd 23.351688385009766\n",
      "sc: 142.59031369388248 rmsd 23.271102905273438\n",
      "sc: 142.31886730641708 rmsd 23.257925033569336\n",
      "sc: 139.90795869957276 rmsd 22.155099868774414\n",
      "sc: 139.29468093491388 rmsd 22.046506881713867\n",
      "sc: 137.47293934920455 rmsd 21.225522994995117\n",
      "sc: 135.94666775329304 rmsd 20.815227508544922\n",
      "sc: 135.25539988814074 rmsd 20.670177459716797\n",
      "sc: 135.25539988814074 rmsd 20.670177459716797\n",
      "sc: 135.25539988814074 rmsd 20.670177459716797\n",
      "sc: 135.8041011582478 rmsd 20.838613510131836\n",
      "sc: 135.8041011582478 rmsd 20.838613510131836\n",
      "sc: 134.34153133871956 rmsd 20.504243850708008\n",
      "sc: 132.59283385492682 rmsd 20.039094924926758\n",
      "sc: 132.59283385492682 rmsd 20.039094924926758\n",
      "sc: 130.87959411244123 rmsd 19.505245208740234\n",
      "sc: 131.9801851927109 rmsd 19.419504165649414\n",
      "sc: 130.1414748532337 rmsd 18.84268569946289\n",
      "sc: 128.03282863596314 rmsd 18.44550895690918\n",
      "sc: 128.03282863596314 rmsd 18.44550895690918\n",
      "sc: 128.03282863596314 rmsd 18.44550895690918\n",
      "sc: 125.25797767035482 rmsd 17.979246139526367\n",
      "sc: 124.43595320207777 rmsd 17.3216552734375\n",
      "sc: 122.7954974536584 rmsd 16.69860076904297\n",
      "sc: 119.4796567178534 rmsd 16.150938034057617\n",
      "sc: 119.83126958204608 rmsd 16.583850860595703\n",
      "sc: 118.85734309818062 rmsd 16.40412139892578\n",
      "sc: 118.42592084404755 rmsd 16.268178939819336\n",
      "sc: 117.91472345810189 rmsd 16.21277618408203\n",
      "sc: 117.91472345810189 rmsd 16.21277618408203\n",
      "sc: 118.4288433073632 rmsd 16.10643768310547\n",
      "sc: 118.4288433073632 rmsd 16.10643768310547\n",
      "sc: 118.4288433073632 rmsd 16.10643768310547\n",
      "sc: 119.20285376452814 rmsd 16.136188507080078\n",
      "sc: 119.18001527647607 rmsd 15.796854972839355\n",
      "sc: 119.47297586454118 rmsd 15.820162773132324\n",
      "sc: 119.47297586454118 rmsd 15.820162773132324\n",
      "sc: 120.05540119223477 rmsd 15.841531753540039\n",
      "sc: 120.05540119223477 rmsd 15.841531753540039\n",
      "sc: 120.08044628919312 rmsd 15.740702629089355\n",
      "sc: 120.08044628919312 rmsd 15.740702629089355\n",
      "sc: 121.5859801222571 rmsd 16.103389739990234\n",
      "sc: 122.71334771456844 rmsd 16.600034713745117\n"
     ]
    }
   ],
   "source": [
    "#19\n",
    "### BEGIN SOLUTION\n",
    "\n",
    "import numpy\n",
    "n_iterations = 100\n",
    "score = numpy.zeros((n_iterations,),dtype=float)\n",
    "ca_rmsd = numpy.zeros((n_iterations,), dtype=float)\n",
    "\n",
    "work_pose = Pose(pose)\n",
    "mc.reset(work_pose)\n",
    "\n",
    "for i in range(n_iterations):\n",
    "    trial.apply(work_pose)\n",
    "    sc = sfxn_cen(work_pose)\n",
    "    score[i] = sc\n",
    "    rmsd = CA_rmsd(native_cen,work_pose)\n",
    "    ca_rmsd[i] = rmsd\n",
    "    pmm.apply(work_pose)\n",
    "\n",
    "for i in range(n_iterations):\n",
    "    print(\"sc:\", score[i], \"rmsd\", ca_rmsd[i])\n",
    "    \n",
    "### END SOLUTION"
   ]
  },
  {
   "cell_type": "markdown",
   "metadata": {},
   "source": [
    "Do larger moves help? "
   ]
  },
  {
   "cell_type": "markdown",
   "metadata": {},
   "source": [
    "## Fragment insertion"
   ]
  },
  {
   "cell_type": "markdown",
   "metadata": {},
   "source": [
    "As a last part to this exercise, let's try fragment insertion as the first step in the sequence mover. Code to create a fragment set with 3-mer fragments is already written in the cell below. Make another fragment set of length 9 and read in the 9-mer file supplied, `1qgm.9mers`."
   ]
  },
  {
   "cell_type": "code",
   "execution_count": 22,
   "metadata": {
    "nbgrader": {
     "grade": true,
     "grade_id": "cell-8d51eb46dfb25c8d",
     "locked": false,
     "points": 0,
     "schema_version": 3,
     "solution": true
    }
   },
   "outputs": [
    {
     "name": "stdout",
     "output_type": "stream",
     "text": [
      "\u001b[0mcore.fragments.ConstantLengthFragSet: {0} \u001b[0mfinished reading top 200 3mer fragments from file 1qgm.3mers\n",
      "\u001b[0mcore.fragments.ConstantLengthFragSet: {0} \u001b[0mfinished reading top 200 9mer fragments from file 1qgm.9mers\n"
     ]
    }
   ],
   "source": [
    "#20\n",
    "from pyrosetta.rosetta.core.fragment import *\n",
    "fragset3 = ConstantLengthFragSet(3)\n",
    "fragset3.read_fragment_file(\"1qgm.3mers\")\n",
    "\n",
    "### BEGIN SOLUTION\n",
    "fragset9 = ConstantLengthFragSet(9)\n",
    "fragset9.read_fragment_file(\"1qgm.9mers\")\n",
    "### END SOLUTION"
   ]
  },
  {
   "cell_type": "markdown",
   "metadata": {},
   "source": [
    "Construct a 3-mer and a 9-mer fragment set mover. Code for the 3-mer fragment mover is already written in the cell below. Similarly, make a 9-mer fragment mover."
   ]
  },
  {
   "cell_type": "code",
   "execution_count": 23,
   "metadata": {
    "nbgrader": {
     "grade": true,
     "grade_id": "cell-d8446f77909ba4d6",
     "locked": false,
     "points": 0,
     "schema_version": 3,
     "solution": true
    }
   },
   "outputs": [],
   "source": [
    "#21\n",
    "from pyrosetta.rosetta.protocols.simple_moves import ClassicFragmentMover\n",
    "mover_3mer = ClassicFragmentMover(fragset3, mm)\n",
    "\n",
    "### BEGIN SOLUTION\n",
    "mover_9mer = ClassicFragmentMover(fragset9, mm)\n",
    "### END SOLUTION"
   ]
  },
  {
   "cell_type": "markdown",
   "metadata": {},
   "source": [
    "Put the 9-mer mover into a RepeatMover (from `pyrosetta.rosetta.protocols.moves`) which repeats 1 time and the 3-mer mover into a separate RepeatMover to repeat 1 time."
   ]
  },
  {
   "cell_type": "code",
   "execution_count": 24,
   "metadata": {
    "nbgrader": {
     "grade": true,
     "grade_id": "cell-a763092132c11bcc",
     "locked": false,
     "points": 0,
     "schema_version": 3,
     "solution": true
    }
   },
   "outputs": [],
   "source": [
    "#22\n",
    "### BEGIN SOLUTION\n",
    "\n",
    "from pyrosetta.rosetta.protocols.moves import RepeatMover\n",
    "\n",
    "repeat_9mer_frags = RepeatMover(mover_9mer, 1)\n",
    "repeat_3mer_frags = RepeatMover(mover_3mer, 1)\n",
    "\n",
    "\n",
    "### END SOLUTION"
   ]
  },
  {
   "cell_type": "markdown",
   "metadata": {},
   "source": [
    "Just like with the `RandomTorsionMover` above, reassign pose to the `pose_start` conformation and `reset` your MonteCarlo object. Also, clear out your PyMOL session by typing `delete all` in the PyMOL terminal."
   ]
  },
  {
   "cell_type": "code",
   "execution_count": 25,
   "metadata": {
    "nbgrader": {
     "grade": true,
     "grade_id": "cell-3906f21f98a992d6",
     "locked": false,
     "points": 0,
     "schema_version": 3,
     "solution": true
    }
   },
   "outputs": [],
   "source": [
    "#23\n",
    "### BEGIN SOLUTION\n",
    "work_pose.assign(pose_start)\n",
    "mc.reset(work_pose)\n",
    "### END SOLUTION"
   ]
  },
  {
   "cell_type": "markdown",
   "metadata": {},
   "source": [
    "Using the 9-mer `RepeatMover` and your Monte Carlo object, create a new `TrialMover` and apply it to the pose 100 times. Use `PyMOLMover` to visualize the changes. Print out the score and the RMSD after the 9-mer insertions. Does fragment insertion help?\n",
    "\n",
    "Repeat the same steps for the 3-mer `RepeatMover` (picking up from where the 9-mer insertion left off). Is the RMSD lower now than when using the small- and shear-movers?"
   ]
  },
  {
   "cell_type": "code",
   "execution_count": 26,
   "metadata": {
    "nbgrader": {
     "grade": true,
     "grade_id": "cell-a508bf83cbd1cd2d",
     "locked": false,
     "points": 0,
     "schema_version": 3,
     "solution": true
    }
   },
   "outputs": [
    {
     "name": "stdout",
     "output_type": "stream",
     "text": [
      "9mer insertion -- sc: 134.67511687539587 rmsd 21.317359924316406\n",
      "9mer insertion -- sc: 97.40257983020396 rmsd 9.296319961547852\n",
      "9mer insertion -- sc: 97.40257983020396 rmsd 9.296319961547852\n",
      "9mer insertion -- sc: 90.4629502268659 rmsd 9.579957962036133\n",
      "9mer insertion -- sc: 90.4629502268659 rmsd 9.579957962036133\n",
      "9mer insertion -- sc: 90.4629502268659 rmsd 9.579957962036133\n",
      "9mer insertion -- sc: 90.4629502268659 rmsd 9.579957962036133\n",
      "9mer insertion -- sc: 87.7814996143404 rmsd 8.737770080566406\n",
      "9mer insertion -- sc: 87.7814996143404 rmsd 8.737770080566406\n",
      "9mer insertion -- sc: 87.7814996143404 rmsd 8.737770080566406\n",
      "9mer insertion -- sc: 87.7814996143404 rmsd 8.737770080566406\n",
      "9mer insertion -- sc: 81.38453459426358 rmsd 8.150049209594727\n",
      "9mer insertion -- sc: 81.38453459426358 rmsd 8.150049209594727\n",
      "9mer insertion -- sc: 81.38453459426358 rmsd 8.150049209594727\n",
      "9mer insertion -- sc: 81.38453459426358 rmsd 8.150049209594727\n",
      "9mer insertion -- sc: 81.38453459426358 rmsd 8.150049209594727\n",
      "9mer insertion -- sc: 81.38453459426358 rmsd 8.150049209594727\n",
      "9mer insertion -- sc: 81.38453459426358 rmsd 8.150049209594727\n",
      "9mer insertion -- sc: 81.38453459426358 rmsd 8.150049209594727\n",
      "9mer insertion -- sc: 77.82075334627257 rmsd 7.038798809051514\n",
      "9mer insertion -- sc: 75.52427112967487 rmsd 7.104249477386475\n",
      "9mer insertion -- sc: 65.24321400495577 rmsd 6.165337562561035\n",
      "9mer insertion -- sc: 65.24321400495577 rmsd 6.165337562561035\n",
      "9mer insertion -- sc: 65.24321400495577 rmsd 6.165337562561035\n",
      "9mer insertion -- sc: 65.24321400495577 rmsd 6.165337562561035\n",
      "9mer insertion -- sc: 65.24321400495577 rmsd 6.165337562561035\n",
      "9mer insertion -- sc: 65.24321400495577 rmsd 6.165337562561035\n",
      "9mer insertion -- sc: 65.24321400495577 rmsd 6.165337562561035\n",
      "9mer insertion -- sc: 65.24321400495577 rmsd 6.165337562561035\n",
      "9mer insertion -- sc: 65.24321400495577 rmsd 6.165337562561035\n",
      "9mer insertion -- sc: 52.31686410389468 rmsd 5.835058689117432\n",
      "9mer insertion -- sc: 52.31686410389468 rmsd 5.835058689117432\n",
      "9mer insertion -- sc: 52.31686410389468 rmsd 5.835058689117432\n",
      "9mer insertion -- sc: 52.31686410389468 rmsd 5.835058689117432\n",
      "9mer insertion -- sc: 52.31686410389468 rmsd 5.835058689117432\n",
      "9mer insertion -- sc: 52.31686410389468 rmsd 5.835058689117432\n",
      "9mer insertion -- sc: 52.31686410389468 rmsd 5.835058689117432\n",
      "9mer insertion -- sc: 52.31686410389468 rmsd 5.835058689117432\n",
      "9mer insertion -- sc: 52.31686410389468 rmsd 5.835058689117432\n",
      "9mer insertion -- sc: 52.31686410389468 rmsd 5.835058689117432\n",
      "9mer insertion -- sc: 52.31686410389468 rmsd 5.835058689117432\n",
      "9mer insertion -- sc: 52.31686410389468 rmsd 5.835058689117432\n",
      "9mer insertion -- sc: 52.31686410389468 rmsd 5.835058689117432\n",
      "9mer insertion -- sc: 52.31686410389468 rmsd 5.835058689117432\n",
      "9mer insertion -- sc: 52.31686410389468 rmsd 5.835058689117432\n",
      "9mer insertion -- sc: 52.31686410389468 rmsd 5.835058689117432\n",
      "9mer insertion -- sc: 52.31686410389468 rmsd 5.835058689117432\n",
      "9mer insertion -- sc: 52.31686410389468 rmsd 5.835058689117432\n",
      "9mer insertion -- sc: 52.31686410389468 rmsd 5.835058689117432\n",
      "9mer insertion -- sc: 52.31686410389468 rmsd 5.835058689117432\n",
      "9mer insertion -- sc: 52.31686410389468 rmsd 5.835058689117432\n",
      "9mer insertion -- sc: 52.31686410389468 rmsd 5.835058689117432\n",
      "9mer insertion -- sc: 52.31686410389468 rmsd 5.835058689117432\n",
      "9mer insertion -- sc: 52.31686410389468 rmsd 5.835058689117432\n",
      "9mer insertion -- sc: 52.31686410389468 rmsd 5.835058689117432\n",
      "9mer insertion -- sc: 52.31686410389468 rmsd 5.835058689117432\n",
      "9mer insertion -- sc: 52.31686410389468 rmsd 5.835058689117432\n",
      "9mer insertion -- sc: 52.31686410389468 rmsd 5.835058689117432\n",
      "9mer insertion -- sc: 44.65729198862777 rmsd 5.747486114501953\n",
      "9mer insertion -- sc: 44.65729198862776 rmsd 5.747486114501953\n",
      "9mer insertion -- sc: 44.65729198862776 rmsd 5.747486114501953\n",
      "9mer insertion -- sc: 44.65729198862776 rmsd 5.747486114501953\n",
      "9mer insertion -- sc: 44.65729198862776 rmsd 5.747486114501953\n",
      "9mer insertion -- sc: 44.65729198862776 rmsd 5.747486114501953\n",
      "9mer insertion -- sc: 44.65729198862776 rmsd 5.747486114501953\n",
      "9mer insertion -- sc: 44.65729198862776 rmsd 5.747486114501953\n",
      "9mer insertion -- sc: 44.65729198862776 rmsd 5.747486114501953\n",
      "9mer insertion -- sc: 44.65729198862776 rmsd 5.747486114501953\n",
      "9mer insertion -- sc: 44.65729198862776 rmsd 5.747486114501953\n",
      "9mer insertion -- sc: 44.65729198862776 rmsd 5.747486114501953\n",
      "9mer insertion -- sc: 44.65729198862776 rmsd 5.747486114501953\n",
      "9mer insertion -- sc: 44.65729198862776 rmsd 5.747486114501953\n",
      "9mer insertion -- sc: 44.65729198862776 rmsd 5.747486114501953\n",
      "9mer insertion -- sc: 44.65729198862776 rmsd 5.747486114501953\n",
      "9mer insertion -- sc: 44.65729198862776 rmsd 5.747486114501953\n",
      "9mer insertion -- sc: 44.65729198862776 rmsd 5.747486114501953\n",
      "9mer insertion -- sc: 44.65729198862776 rmsd 5.747486114501953\n",
      "9mer insertion -- sc: 44.65729198862776 rmsd 5.747486114501953\n",
      "9mer insertion -- sc: 44.65729198862776 rmsd 5.747486114501953\n",
      "9mer insertion -- sc: 44.65729198862776 rmsd 5.747486114501953\n",
      "9mer insertion -- sc: 44.65729198862776 rmsd 5.747486114501953\n",
      "9mer insertion -- sc: 44.65729198862776 rmsd 5.747486114501953\n",
      "9mer insertion -- sc: 44.65729198862776 rmsd 5.747486114501953\n",
      "9mer insertion -- sc: 44.65729198862776 rmsd 5.747486114501953\n",
      "9mer insertion -- sc: 44.65729198862776 rmsd 5.747486114501953\n",
      "9mer insertion -- sc: 44.65729198862776 rmsd 5.747486114501953\n",
      "9mer insertion -- sc: 43.7082029556933 rmsd 5.412845134735107\n",
      "9mer insertion -- sc: 43.7082029556933 rmsd 5.412845134735107\n",
      "9mer insertion -- sc: 43.7082029556933 rmsd 5.412845134735107\n",
      "9mer insertion -- sc: 43.7082029556933 rmsd 5.412845134735107\n",
      "9mer insertion -- sc: 43.7082029556933 rmsd 5.412845134735107\n",
      "9mer insertion -- sc: 43.7082029556933 rmsd 5.412845134735107\n",
      "9mer insertion -- sc: 43.7082029556933 rmsd 5.412845134735107\n",
      "9mer insertion -- sc: 43.7082029556933 rmsd 5.412845134735107\n",
      "9mer insertion -- sc: 43.7082029556933 rmsd 5.412845134735107\n",
      "9mer insertion -- sc: 43.7082029556933 rmsd 5.412845134735107\n",
      "9mer insertion -- sc: 43.7082029556933 rmsd 5.412845134735107\n",
      "9mer insertion -- sc: 43.7082029556933 rmsd 5.412845134735107\n",
      "9mer insertion -- sc: 39.69930175244345 rmsd 4.402074337005615\n",
      "9mer insertion -- sc: 39.69930175244346 rmsd 4.402074337005615\n",
      "3mer insertion -- sc: 39.69930175244346 rmsd 4.402074337005615\n",
      "3mer insertion -- sc: 39.69930175244346 rmsd 4.402074337005615\n",
      "3mer insertion -- sc: 39.69930175244346 rmsd 4.402074337005615\n",
      "3mer insertion -- sc: 39.69930175244346 rmsd 4.402074337005615\n",
      "3mer insertion -- sc: 40.64723150788732 rmsd 5.2886528968811035\n",
      "3mer insertion -- sc: 40.64723150788732 rmsd 5.2886528968811035\n",
      "3mer insertion -- sc: 40.64723150788732 rmsd 5.2886528968811035\n",
      "3mer insertion -- sc: 40.64723150788732 rmsd 5.2886528968811035\n",
      "3mer insertion -- sc: 40.64723150788732 rmsd 5.2886528968811035\n",
      "3mer insertion -- sc: 40.64723150788732 rmsd 5.2886528968811035\n",
      "3mer insertion -- sc: 40.64723150788732 rmsd 5.2886528968811035\n",
      "3mer insertion -- sc: 40.64723150788732 rmsd 5.2886528968811035\n",
      "3mer insertion -- sc: 40.64723150788732 rmsd 5.2886528968811035\n",
      "3mer insertion -- sc: 40.64723150788732 rmsd 5.2886528968811035\n",
      "3mer insertion -- sc: 40.64723150788732 rmsd 5.2886528968811035\n",
      "3mer insertion -- sc: 40.64723150788732 rmsd 5.2886528968811035\n",
      "3mer insertion -- sc: 40.64723150788732 rmsd 5.2886528968811035\n",
      "3mer insertion -- sc: 40.64723150788732 rmsd 5.2886528968811035\n",
      "3mer insertion -- sc: 40.64723150788732 rmsd 5.2886528968811035\n",
      "3mer insertion -- sc: 40.64723150788732 rmsd 5.2886528968811035\n",
      "3mer insertion -- sc: 40.64723150788732 rmsd 5.2886528968811035\n",
      "3mer insertion -- sc: 40.64723150788732 rmsd 5.2886528968811035\n",
      "3mer insertion -- sc: 40.64723150788732 rmsd 5.2886528968811035\n",
      "3mer insertion -- sc: 40.64723150788732 rmsd 5.2886528968811035\n",
      "3mer insertion -- sc: 40.64723150788732 rmsd 5.2886528968811035\n",
      "3mer insertion -- sc: 40.64723150788732 rmsd 5.2886528968811035\n",
      "3mer insertion -- sc: 40.64723150788732 rmsd 5.2886528968811035\n",
      "3mer insertion -- sc: 40.64723150788732 rmsd 5.2886528968811035\n",
      "3mer insertion -- sc: 40.64723150788732 rmsd 5.2886528968811035\n",
      "3mer insertion -- sc: 40.64723150788732 rmsd 5.2886528968811035\n",
      "3mer insertion -- sc: 40.64723150788732 rmsd 5.2886528968811035\n",
      "3mer insertion -- sc: 40.64723150788732 rmsd 5.2886528968811035\n",
      "3mer insertion -- sc: 41.9774193935356 rmsd 5.266597747802734\n",
      "3mer insertion -- sc: 41.9774193935356 rmsd 5.266597747802734\n",
      "3mer insertion -- sc: 41.9774193935356 rmsd 5.266597747802734\n",
      "3mer insertion -- sc: 41.9774193935356 rmsd 5.266597747802734\n",
      "3mer insertion -- sc: 41.9774193935356 rmsd 5.266597747802734\n",
      "3mer insertion -- sc: 41.9774193935356 rmsd 5.266597747802734\n",
      "3mer insertion -- sc: 41.9774193935356 rmsd 5.266597747802734\n",
      "3mer insertion -- sc: 41.9774193935356 rmsd 5.266597747802734\n",
      "3mer insertion -- sc: 41.9774193935356 rmsd 5.266597747802734\n",
      "3mer insertion -- sc: 40.28732120774856 rmsd 5.740974426269531\n",
      "3mer insertion -- sc: 40.28732120774856 rmsd 5.740974426269531\n",
      "3mer insertion -- sc: 40.28732120774856 rmsd 5.740974426269531\n",
      "3mer insertion -- sc: 40.28732120774856 rmsd 5.740974426269531\n",
      "3mer insertion -- sc: 41.60645548856233 rmsd 5.51711368560791\n",
      "3mer insertion -- sc: 41.60645548856233 rmsd 5.51711368560791\n",
      "3mer insertion -- sc: 41.60645548856233 rmsd 5.51711368560791\n",
      "3mer insertion -- sc: 41.60645548856233 rmsd 5.51711368560791\n",
      "3mer insertion -- sc: 41.60645548856233 rmsd 5.51711368560791\n",
      "3mer insertion -- sc: 41.60645548856233 rmsd 5.51711368560791\n",
      "3mer insertion -- sc: 41.60645548856233 rmsd 5.51711368560791\n",
      "3mer insertion -- sc: 41.60645548856233 rmsd 5.51711368560791\n",
      "3mer insertion -- sc: 40.28732120774856 rmsd 5.740974426269531\n",
      "3mer insertion -- sc: 40.28732120774856 rmsd 5.740974426269531\n",
      "3mer insertion -- sc: 40.28732120774856 rmsd 5.740974426269531\n",
      "3mer insertion -- sc: 40.28732120774856 rmsd 5.740974426269531\n",
      "3mer insertion -- sc: 37.479347233846276 rmsd 4.724350929260254\n",
      "3mer insertion -- sc: 37.479347233846276 rmsd 4.724350929260254\n",
      "3mer insertion -- sc: 37.479347233846276 rmsd 4.724350929260254\n",
      "3mer insertion -- sc: 36.918735388768106 rmsd 4.69094181060791\n",
      "3mer insertion -- sc: 36.73718915921386 rmsd 4.750577926635742\n",
      "3mer insertion -- sc: 36.73718915921386 rmsd 4.750577926635742\n",
      "3mer insertion -- sc: 36.73718915921386 rmsd 4.750577926635742\n",
      "3mer insertion -- sc: 36.73718915921386 rmsd 4.750577926635742\n",
      "3mer insertion -- sc: 36.73718915921386 rmsd 4.750577926635742\n",
      "3mer insertion -- sc: 36.73718915921386 rmsd 4.750577926635742\n",
      "3mer insertion -- sc: 36.73718915921386 rmsd 4.750577926635742\n",
      "3mer insertion -- sc: 36.73718915921386 rmsd 4.750577926635742\n",
      "3mer insertion -- sc: 36.73718915921386 rmsd 4.750577926635742\n",
      "3mer insertion -- sc: 36.73718915921386 rmsd 4.750577926635742\n",
      "3mer insertion -- sc: 36.73718915921386 rmsd 4.750577926635742\n",
      "3mer insertion -- sc: 37.46900596652872 rmsd 5.060070037841797\n",
      "3mer insertion -- sc: 37.728442335618055 rmsd 4.81954288482666\n",
      "3mer insertion -- sc: 37.728442335618055 rmsd 4.81954288482666\n",
      "3mer insertion -- sc: 37.728442335618055 rmsd 4.81954288482666\n",
      "3mer insertion -- sc: 37.728442335618055 rmsd 4.81954288482666\n",
      "3mer insertion -- sc: 37.728442335618055 rmsd 4.81954288482666\n",
      "3mer insertion -- sc: 37.728442335618055 rmsd 4.81954288482666\n",
      "3mer insertion -- sc: 37.728442335618055 rmsd 4.81954288482666\n",
      "3mer insertion -- sc: 37.728442335618055 rmsd 4.81954288482666\n",
      "3mer insertion -- sc: 37.728442335618055 rmsd 4.81954288482666\n",
      "3mer insertion -- sc: 37.728442335618055 rmsd 4.81954288482666\n",
      "3mer insertion -- sc: 37.728442335618055 rmsd 4.81954288482666\n",
      "3mer insertion -- sc: 37.728442335618055 rmsd 4.81954288482666\n",
      "3mer insertion -- sc: 37.728442335618055 rmsd 4.81954288482666\n",
      "3mer insertion -- sc: 37.728442335618055 rmsd 4.81954288482666\n",
      "3mer insertion -- sc: 37.728442335618055 rmsd 4.81954288482666\n",
      "3mer insertion -- sc: 37.728442335618055 rmsd 4.81954288482666\n",
      "3mer insertion -- sc: 37.728442335618055 rmsd 4.81954288482666\n",
      "3mer insertion -- sc: 37.728442335618055 rmsd 4.81954288482666\n",
      "3mer insertion -- sc: 37.728442335618055 rmsd 4.81954288482666\n",
      "3mer insertion -- sc: 37.728442335618055 rmsd 4.81954288482666\n",
      "3mer insertion -- sc: 37.728442335618055 rmsd 4.81954288482666\n",
      "3mer insertion -- sc: 37.728442335618055 rmsd 4.81954288482666\n",
      "3mer insertion -- sc: 37.728442335618055 rmsd 4.81954288482666\n",
      "3mer insertion -- sc: 37.728442335618055 rmsd 4.81954288482666\n",
      "3mer insertion -- sc: 37.728442335618055 rmsd 4.81954288482666\n",
      "3mer insertion -- sc: 37.728442335618055 rmsd 4.81954288482666\n",
      "3mer insertion -- sc: 37.728442335618055 rmsd 4.81954288482666\n"
     ]
    }
   ],
   "source": [
    "#24\n",
    "### BEGIN SOLUTION\n",
    "\n",
    "import numpy\n",
    "n_iterations = 100\n",
    "score = numpy.zeros((n_iterations,),dtype=float)\n",
    "ca_rmsd = numpy.zeros((n_iterations,), dtype=float)\n",
    "\n",
    "work_pose = Pose(pose_start)\n",
    "mc.reset(work_pose)\n",
    "mc.set_temperature(2.0) # I'm not asking the students to do this; I'm just teting stuff\n",
    "\n",
    "trial9 = TrialMover(repeat_9mer_frags, mc)\n",
    "trial3 = TrialMover(repeat_3mer_frags, mc)\n",
    "\n",
    "for i in range(n_iterations):\n",
    "    trial9.apply(work_pose)\n",
    "    sc = sfxn_cen(work_pose)\n",
    "    score[i] = sc\n",
    "    rmsd = CA_rmsd(native_cen,work_pose)\n",
    "    ca_rmsd[i] = rmsd\n",
    "    pmm.apply(work_pose)\n",
    "\n",
    "for i in range(n_iterations):\n",
    "    print(\"9mer insertion -- sc:\", score[i], \"rmsd\", ca_rmsd[i])\n",
    "\n",
    "for i in range(n_iterations):\n",
    "    trial3.apply(work_pose)\n",
    "    sc = sfxn_cen(work_pose)\n",
    "    score[i] = sc\n",
    "    rmsd = CA_rmsd(native_cen,work_pose)\n",
    "    ca_rmsd[i] = rmsd\n",
    "    pmm.apply(work_pose)\n",
    "\n",
    "for i in range(n_iterations):\n",
    "    print(\"3mer insertion -- sc:\", score[i], \"rmsd\", ca_rmsd[i])\n",
    "\n",
    "\n",
    "    \n",
    "### END SOLUTION"
   ]
  },
  {
   "cell_type": "markdown",
   "metadata": {},
   "source": [
    "Let's try to refine the structure that comes out of the 9- and 3-mer fragment insertion stage above. Construct a new sequence mover with just the small mover and the shear movers (i.e. no RandomTorsionMover)."
   ]
  },
  {
   "cell_type": "code",
   "execution_count": 27,
   "metadata": {
    "nbgrader": {
     "grade": true,
     "grade_id": "cell-227f1c100599dfca",
     "locked": false,
     "points": 0,
     "schema_version": 3,
     "solution": true
    }
   },
   "outputs": [],
   "source": [
    "#25\n",
    "### BEGIN SOLUTION\n",
    "\n",
    "seq_ss = pyrosetta.rosetta.protocols.moves.SequenceMover()\n",
    "seq_ss.add_mover(small)\n",
    "seq_ss.add_mover(shear)\n",
    "\n",
    "### END SOLUTION"
   ]
  },
  {
   "cell_type": "markdown",
   "metadata": {},
   "source": [
    "Construct a trial mover with the new sequence mover and the `MonteCarlo` object."
   ]
  },
  {
   "cell_type": "code",
   "execution_count": 28,
   "metadata": {
    "nbgrader": {
     "grade": true,
     "grade_id": "cell-6bf71833feb85906",
     "locked": false,
     "points": 0,
     "schema_version": 3,
     "solution": true
    }
   },
   "outputs": [],
   "source": [
    "#26\n",
    "### BEGIN SOLUTION\n",
    "\n",
    "trial_ss = TrialMover(seq_ss, mc)\n",
    "\n",
    "### END SOLUTION"
   ]
  },
  {
   "cell_type": "markdown",
   "metadata": {},
   "source": [
    "Now, copy-paste the trial-mover loop and score printing from above to run the this refinement stage of the protocol. This time, however, do not reset the MonteCarlo object or reassign your working pose to the `pose_start`."
   ]
  },
  {
   "cell_type": "code",
   "execution_count": 29,
   "metadata": {
    "nbgrader": {
     "grade": true,
     "grade_id": "cell-738b7b4528abac38",
     "locked": false,
     "points": 0,
     "schema_version": 3,
     "solution": true
    }
   },
   "outputs": [
    {
     "name": "stdout",
     "output_type": "stream",
     "text": [
      "small/sheer refinement -- sc: 37.728442335618055 rmsd 4.81954288482666\n",
      "small/sheer refinement -- sc: 37.728442335618055 rmsd 4.81954288482666\n",
      "small/sheer refinement -- sc: 37.728442335618055 rmsd 4.81954288482666\n",
      "small/sheer refinement -- sc: 37.728442335618055 rmsd 4.81954288482666\n",
      "small/sheer refinement -- sc: 37.728442335618055 rmsd 4.81954288482666\n",
      "small/sheer refinement -- sc: 37.728442335618055 rmsd 4.81954288482666\n",
      "small/sheer refinement -- sc: 37.728442335618055 rmsd 4.81954288482666\n",
      "small/sheer refinement -- sc: 37.728442335618055 rmsd 4.81954288482666\n",
      "small/sheer refinement -- sc: 37.728442335618055 rmsd 4.81954288482666\n",
      "small/sheer refinement -- sc: 37.19974132333735 rmsd 4.839699745178223\n",
      "small/sheer refinement -- sc: 37.19974132333735 rmsd 4.839699745178223\n",
      "small/sheer refinement -- sc: 37.19974132333735 rmsd 4.839699745178223\n",
      "small/sheer refinement -- sc: 37.19974132333735 rmsd 4.839699745178223\n",
      "small/sheer refinement -- sc: 37.19974132333735 rmsd 4.839699745178223\n",
      "small/sheer refinement -- sc: 37.19974132333735 rmsd 4.839699745178223\n",
      "small/sheer refinement -- sc: 35.39596940361714 rmsd 4.833935737609863\n",
      "small/sheer refinement -- sc: 35.395969403617144 rmsd 4.833935737609863\n",
      "small/sheer refinement -- sc: 35.395969403617144 rmsd 4.833935737609863\n",
      "small/sheer refinement -- sc: 35.395969403617144 rmsd 4.833935737609863\n",
      "small/sheer refinement -- sc: 35.395969403617144 rmsd 4.833935737609863\n",
      "small/sheer refinement -- sc: 35.395969403617144 rmsd 4.833935737609863\n",
      "small/sheer refinement -- sc: 35.395969403617144 rmsd 4.833935737609863\n",
      "small/sheer refinement -- sc: 35.395969403617144 rmsd 4.833935737609863\n",
      "small/sheer refinement -- sc: 35.395969403617144 rmsd 4.833935737609863\n",
      "small/sheer refinement -- sc: 35.37668517317571 rmsd 4.852880001068115\n",
      "small/sheer refinement -- sc: 35.37668517317571 rmsd 4.852880001068115\n",
      "small/sheer refinement -- sc: 35.37668517317571 rmsd 4.852880001068115\n",
      "small/sheer refinement -- sc: 35.37668517317571 rmsd 4.852880001068115\n",
      "small/sheer refinement -- sc: 35.17193818834525 rmsd 4.878020286560059\n",
      "small/sheer refinement -- sc: 35.17193818834526 rmsd 4.878020286560059\n",
      "small/sheer refinement -- sc: 35.17193818834526 rmsd 4.878020286560059\n",
      "small/sheer refinement -- sc: 35.17193818834526 rmsd 4.878020286560059\n",
      "small/sheer refinement -- sc: 35.17193818834526 rmsd 4.878020286560059\n",
      "small/sheer refinement -- sc: 35.17193818834526 rmsd 4.878020286560059\n",
      "small/sheer refinement -- sc: 35.36515430861113 rmsd 4.802021026611328\n",
      "small/sheer refinement -- sc: 35.36515430861113 rmsd 4.802021026611328\n",
      "small/sheer refinement -- sc: 35.36515430861113 rmsd 4.802021026611328\n",
      "small/sheer refinement -- sc: 35.36515430861113 rmsd 4.802021026611328\n",
      "small/sheer refinement -- sc: 35.36515430861113 rmsd 4.802021026611328\n",
      "small/sheer refinement -- sc: 35.36515430861113 rmsd 4.802021026611328\n",
      "small/sheer refinement -- sc: 35.36515430861113 rmsd 4.802021026611328\n",
      "small/sheer refinement -- sc: 35.36515430861113 rmsd 4.802021026611328\n",
      "small/sheer refinement -- sc: 35.36515430861113 rmsd 4.802021026611328\n",
      "small/sheer refinement -- sc: 35.36515430861113 rmsd 4.802021026611328\n",
      "small/sheer refinement -- sc: 35.36515430861113 rmsd 4.802021026611328\n",
      "small/sheer refinement -- sc: 35.36515430861113 rmsd 4.802021026611328\n",
      "small/sheer refinement -- sc: 35.36515430861113 rmsd 4.802021026611328\n",
      "small/sheer refinement -- sc: 35.36515430861113 rmsd 4.802021026611328\n",
      "small/sheer refinement -- sc: 35.36515430861113 rmsd 4.802021026611328\n",
      "small/sheer refinement -- sc: 35.36515430861113 rmsd 4.802021026611328\n",
      "small/sheer refinement -- sc: 35.36515430861113 rmsd 4.802021026611328\n",
      "small/sheer refinement -- sc: 35.59496712736542 rmsd 4.9069414138793945\n",
      "small/sheer refinement -- sc: 35.59496712736542 rmsd 4.9069414138793945\n",
      "small/sheer refinement -- sc: 35.59496712736542 rmsd 4.9069414138793945\n",
      "small/sheer refinement -- sc: 35.59496712736542 rmsd 4.9069414138793945\n",
      "small/sheer refinement -- sc: 35.59496712736542 rmsd 4.9069414138793945\n",
      "small/sheer refinement -- sc: 35.59496712736542 rmsd 4.9069414138793945\n",
      "small/sheer refinement -- sc: 35.59496712736542 rmsd 4.9069414138793945\n",
      "small/sheer refinement -- sc: 35.59496712736542 rmsd 4.9069414138793945\n",
      "small/sheer refinement -- sc: 35.59496712736542 rmsd 4.9069414138793945\n",
      "small/sheer refinement -- sc: 35.59496712736542 rmsd 4.9069414138793945\n",
      "small/sheer refinement -- sc: 35.413868164939444 rmsd 5.0461273193359375\n",
      "small/sheer refinement -- sc: 35.315842089231055 rmsd 5.022278785705566\n",
      "small/sheer refinement -- sc: 35.315842089231055 rmsd 5.022278785705566\n",
      "small/sheer refinement -- sc: 35.315842089231055 rmsd 5.022278785705566\n",
      "small/sheer refinement -- sc: 35.72762112247717 rmsd 4.867148399353027\n",
      "small/sheer refinement -- sc: 35.72762112247718 rmsd 4.867148399353027\n",
      "small/sheer refinement -- sc: 35.72762112247718 rmsd 4.867148399353027\n",
      "small/sheer refinement -- sc: 35.72762112247718 rmsd 4.867148399353027\n",
      "small/sheer refinement -- sc: 35.72762112247718 rmsd 4.867148399353027\n",
      "small/sheer refinement -- sc: 35.72762112247718 rmsd 4.867148399353027\n",
      "small/sheer refinement -- sc: 35.72762112247718 rmsd 4.867148399353027\n",
      "small/sheer refinement -- sc: 35.72762112247718 rmsd 4.867148399353027\n",
      "small/sheer refinement -- sc: 35.72762112247718 rmsd 4.867148399353027\n",
      "small/sheer refinement -- sc: 35.72762112247718 rmsd 4.867148399353027\n",
      "small/sheer refinement -- sc: 35.72762112247718 rmsd 4.867148399353027\n",
      "small/sheer refinement -- sc: 35.72762112247718 rmsd 4.867148399353027\n",
      "small/sheer refinement -- sc: 35.72762112247718 rmsd 4.867148399353027\n",
      "small/sheer refinement -- sc: 35.72762112247718 rmsd 4.867148399353027\n",
      "small/sheer refinement -- sc: 35.72762112247718 rmsd 4.867148399353027\n",
      "small/sheer refinement -- sc: 35.051313651895896 rmsd 5.0190205574035645\n",
      "small/sheer refinement -- sc: 35.051313651895896 rmsd 5.0190205574035645\n",
      "small/sheer refinement -- sc: 33.492880008158416 rmsd 5.02931022644043\n",
      "small/sheer refinement -- sc: 33.492880008158416 rmsd 5.02931022644043\n",
      "small/sheer refinement -- sc: 33.492880008158416 rmsd 5.02931022644043\n",
      "small/sheer refinement -- sc: 33.492880008158416 rmsd 5.02931022644043\n",
      "small/sheer refinement -- sc: 35.16668938458621 rmsd 5.133101940155029\n",
      "small/sheer refinement -- sc: 34.36264137779873 rmsd 5.039714813232422\n",
      "small/sheer refinement -- sc: 34.36264137779873 rmsd 5.039714813232422\n",
      "small/sheer refinement -- sc: 34.36264137779873 rmsd 5.039714813232422\n",
      "small/sheer refinement -- sc: 34.36264137779873 rmsd 5.039714813232422\n",
      "small/sheer refinement -- sc: 34.36264137779873 rmsd 5.039714813232422\n",
      "small/sheer refinement -- sc: 34.36264137779873 rmsd 5.039714813232422\n",
      "small/sheer refinement -- sc: 34.36264137779873 rmsd 5.039714813232422\n",
      "small/sheer refinement -- sc: 34.36264137779873 rmsd 5.039714813232422\n",
      "small/sheer refinement -- sc: 34.36022519040876 rmsd 4.921414375305176\n",
      "small/sheer refinement -- sc: 34.36022519040876 rmsd 4.921414375305176\n",
      "small/sheer refinement -- sc: 34.402967893322774 rmsd 4.931055068969727\n",
      "small/sheer refinement -- sc: 34.40296789332279 rmsd 4.931055068969727\n",
      "small/sheer refinement -- sc: 36.15213214588093 rmsd 4.8600873947143555\n"
     ]
    }
   ],
   "source": [
    "#27\n",
    "### BEGIN SOLUTION\n",
    "mc.set_temperature(1.0)\n",
    "for i in range(n_iterations):\n",
    "    trial_ss.apply(work_pose)\n",
    "    sc = sfxn_cen(work_pose)\n",
    "    score[i] = sc\n",
    "    rmsd = CA_rmsd(native_cen,work_pose)\n",
    "    ca_rmsd[i] = rmsd\n",
    "    pmm.apply(work_pose)\n",
    "\n",
    "for i in range(n_iterations):\n",
    "    print(\"small/sheer refinement -- sc:\", score[i], \"rmsd\", ca_rmsd[i])\n",
    "\n",
    "\n",
    "### END SOLUTION"
   ]
  },
  {
   "cell_type": "markdown",
   "metadata": {},
   "source": [
    "## Recovering the best structure and minimizing"
   ]
  },
  {
   "cell_type": "markdown",
   "metadata": {},
   "source": [
    "We've run a Monte Carlo simulation, but this doesn't guarantee that the final accepted pose was the best scoring pose that we came across during the simulation. Use MonteCarlo's `recover_low()` function to get the lowest scoring pose. Print the score of this Pose. Does it have a lower score than the score printed for the last step of your fragment insertion code above? How does its score compare to that of the native? What is its CA RMSD?"
   ]
  },
  {
   "cell_type": "code",
   "execution_count": 30,
   "metadata": {
    "nbgrader": {
     "grade": true,
     "grade_id": "cell-4cf703bfec0e792d",
     "locked": false,
     "points": 0,
     "schema_version": 3,
     "solution": true
    }
   },
   "outputs": [
    {
     "name": "stdout",
     "output_type": "stream",
     "text": [
      "best pose score: 33.492880008158416\n",
      "best pose RMSD: 5.02931022644043\n"
     ]
    }
   ],
   "source": [
    "#28\n",
    "### BEGIN SOLUTION\n",
    "best_pose = Pose()\n",
    "mc.recover_low(best_pose)\n",
    "print(\"best pose score:\", sfxn_cen(best_pose))\n",
    "print(\"best pose RMSD:\", CA_rmsd(native_cen,best_pose))\n",
    "### END SOLUTION"
   ]
  },
  {
   "cell_type": "markdown",
   "metadata": {},
   "source": [
    "In this lab, we have only used Monte Carlo and not minimization. As a last step, let's use the MinMover to minimize the pose periodically (located in protocols.minimization_packing). Code for the MinMover is already written in the cell below."
   ]
  },
  {
   "cell_type": "code",
   "execution_count": 31,
   "metadata": {},
   "outputs": [],
   "source": [
    "from pyrosetta.rosetta.protocols.minimization_packing import *\n",
    "min_mover = MinMover()\n",
    "min_mover.set_movemap(mm)\n",
    "min_mover.score_function(sfxn_cen)"
   ]
  },
  {
   "cell_type": "markdown",
   "metadata": {},
   "source": [
    "Apply the `MinMover` on your recovered pose. Send the changes to PyMOL using the pymol mover. Print out the score and the RMSD after minimization. Is the score less, what about the RMSD?"
   ]
  },
  {
   "cell_type": "code",
   "execution_count": 32,
   "metadata": {
    "nbgrader": {
     "grade": true,
     "grade_id": "cell-bf058940ffbe3f84",
     "locked": false,
     "points": 0,
     "schema_version": 3,
     "solution": true
    }
   },
   "outputs": [
    {
     "name": "stdout",
     "output_type": "stream",
     "text": [
      "after minimization: 33.4034475648057 rmsd: 5.031933307647705\n"
     ]
    }
   ],
   "source": [
    "#29\n",
    "### BEGIN SOLUTION\n",
    "min_mover.apply(best_pose)\n",
    "print(\"after minimization:\", sfxn_cen(best_pose), \"rmsd:\", CA_rmsd(native_cen, best_pose))\n",
    "### END SOLUTION"
   ]
  },
  {
   "cell_type": "code",
   "execution_count": null,
   "metadata": {},
   "outputs": [],
   "source": []
  }
 ],
 "metadata": {
  "celltoolbar": "Create Assignment",
  "kernelspec": {
   "display_name": "Python 3",
   "language": "python",
   "name": "python3"
  },
  "language_info": {
   "codemirror_mode": {
    "name": "ipython",
    "version": 3
   },
   "file_extension": ".py",
   "mimetype": "text/x-python",
   "name": "python",
   "nbconvert_exporter": "python",
   "pygments_lexer": "ipython3",
   "version": "3.7.7"
  }
 },
 "nbformat": 4,
 "nbformat_minor": 2
}
