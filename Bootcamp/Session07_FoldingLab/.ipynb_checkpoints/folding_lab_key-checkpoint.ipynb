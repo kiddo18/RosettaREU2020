{
 "cells": [
  {
   "cell_type": "markdown",
   "metadata": {},
   "source": [
    "# Folding Lab"
   ]
  },
  {
   "cell_type": "markdown",
   "metadata": {},
   "source": [
    "## Building the pose"
   ]
  },
  {
   "cell_type": "markdown",
   "metadata": {},
   "source": [
    "In this lab session, you will be folding a 30 residue protein with basic movers. Start by initializing PyRosetta as usual."
   ]
  },
  {
   "cell_type": "code",
   "execution_count": 1,
   "metadata": {
    "nbgrader": {
     "grade": true,
     "grade_id": "cell-51bf9a2d3d2cf150",
     "locked": false,
     "points": 0,
     "schema_version": 3,
     "solution": true
    }
   },
   "outputs": [
    {
     "name": "stdout",
     "output_type": "stream",
     "text": [
      "PyRosetta-4 2020 [Rosetta PyRosetta4.conda.mac.python37.Release 2020.02+release.22ef835b4a2647af94fcd6421a85720f07eddf12 2020-01-05T17:31:56] retrieved from: http://www.pyrosetta.org\n",
      "(C) Copyright Rosetta Commons Member Institutions. Created in JHU by Sergey Lyskov and PyRosetta Team.\n",
      "\u001b[0mcore.init: {0} \u001b[0mChecking for fconfig files in pwd and ./rosetta/flags\n",
      "\u001b[0mcore.init: {0} \u001b[0mRosetta version: PyRosetta4.conda.mac.python37.Release r242 2020.02+release.22ef835b4a2 22ef835b4a2647af94fcd6421a85720f07eddf12 http://www.pyrosetta.org 2020-01-05T17:31:56\n",
      "\u001b[0mcore.init: {0} \u001b[0mcommand: PyRosetta -ex1 -ex2aro -database /Users/paul/anaconda3/envs/pyrosetta_env/lib/python3.7/site-packages/pyrosetta/database\n",
      "\u001b[0mbasic.random.init_random_generator: {0} \u001b[0m'RNG device' seed mode, using '/dev/urandom', seed=1779206707 seed_offset=0 real_seed=1779206707 thread_index=0\n",
      "\u001b[0mbasic.random.init_random_generator: {0} \u001b[0mRandomGenerator:init: Normal mode, seed=1779206707 RG_type=mt19937\n"
     ]
    }
   ],
   "source": [
    "#1\n",
    "### BEGIN SOLUTION\n",
    "from pyrosetta import *\n",
    "init()\n",
    "### END SOLUTION"
   ]
  },
  {
   "cell_type": "markdown",
   "metadata": {},
   "source": [
    "We would like to visualize folding as it happens. Before starting with the folding protocol, instantiate a PyMOL mover. Make sure you retain history to view the entire folding process. Start a PyMOL session on the side and make sure it says `PyMOL <---> PyRosetta link started!` on its commnad line."
   ]
  },
  {
   "cell_type": "code",
   "execution_count": 2,
   "metadata": {
    "nbgrader": {
     "grade": true,
     "grade_id": "cell-9197e4c46ebbaec4",
     "locked": false,
     "points": 0,
     "schema_version": 3,
     "solution": true
    }
   },
   "outputs": [],
   "source": [
    "#2\n",
    "### BEGIN SOLUTION\n",
    "pmm = PyMOLMover()\n",
    "pmm.keep_history(True) \n",
    "### END SOLUTION"
   ]
  },
  {
   "cell_type": "markdown",
   "metadata": {},
   "source": [
    "Initialize a pose from sequence using the FASTA file given in this folder, `1qgm.fatsa`. Use the PyMOL mover to view the pose. You should see a long thread-like structure. Check the backbone dihedrals of any residue (except the first and last). What are the values of phi and psi dihedrals?"
   ]
  },
  {
   "cell_type": "code",
   "execution_count": 3,
   "metadata": {
    "nbgrader": {
     "grade": true,
     "grade_id": "cell-eb90bf43423cdf64",
     "locked": false,
     "points": 0,
     "schema_version": 3,
     "solution": true
    }
   },
   "outputs": [
    {
     "name": "stdout",
     "output_type": "stream",
     "text": [
      "\u001b[0mcore.chemical.GlobalResidueTypeSet: {0} \u001b[0mFinished initializing fa_standard residue type set.  Created 980 residue types\n",
      "\u001b[0mcore.chemical.GlobalResidueTypeSet: {0} \u001b[0mTotal time to initialize 1.08883 seconds.\n"
     ]
    }
   ],
   "source": [
    "#3\n",
    "### BEGIN SOLUTION\n",
    "start_pose = pose_from_sequence(\"VIHCDAATICPDGTTCSLSPYGVWYCSPFS\")\n",
    "### END SOLUTION"
   ]
  },
  {
   "cell_type": "markdown",
   "metadata": {},
   "source": [
    "Pick any residue in the pose (except for an Ala or Gly) and print out information about it using `pose.residue(resno)`. How many atoms do you see? You might also want to go to PyMOL and take a look at this residue in stick representation"
   ]
  },
  {
   "cell_type": "code",
   "execution_count": 4,
   "metadata": {
    "nbgrader": {
     "grade": true,
     "grade_id": "cell-d5d2de8e79a3a346",
     "locked": false,
     "points": 0,
     "schema_version": 3,
     "solution": true
    }
   },
   "outputs": [
    {
     "name": "stdout",
     "output_type": "stream",
     "text": [
      "Residue 2: ILE (ILE, I):\n",
      "Base: ILE\n",
      " Properties: POLYMER PROTEIN CANONICAL_AA HYDROPHOBIC ALIPHATIC METALBINDING ALPHA_AA L_AA\n",
      " Variant types:\n",
      " Main-chain atoms:  N    CA   C  \n",
      " Backbone atoms:    N    CA   C    O    H    HA \n",
      " Side-chain atoms:  CB   CG1  CG2  CD1  HB  1HG1 2HG1 1HG2 2HG2 3HG2 1HD1 2HD1 3HD1\n",
      "Atom Coordinates:\n",
      "   N  : 3.33248, 1.53597, 1.45999e-16\n",
      "   CA : 3.98759, 2.83851, 1.11973e-17\n",
      "   C  : 5.50383, 2.69251, 3.98699e-16\n",
      "   O  : 6.02992, 1.57957, -5.72105e-07\n",
      "   CB : 3.55155, 3.67262, 1.21844\n",
      "   CG1: 2.55509, 2.8866, 2.07455\n",
      "   CG2: 2.94643, 4.99377, 0.769523\n",
      "   CD1: 2.24058, 1.50953, 1.5361\n",
      "   H  : 3.89946, 0.700128, 2.30928e-07\n",
      "   HA : 3.69688, 3.37162, -0.904386\n",
      "   HB : 4.41682, 3.87565, 1.84868\n",
      "  1HG1: 2.95036, 2.77644, 3.0838\n",
      "  2HG1: 1.62083, 3.44373, 2.14949\n",
      "  1HG2: 2.64312, 5.57044, 1.64304\n",
      "  2HG2: 3.68508, 5.55758, 0.201387\n",
      "  3HG2: 2.07605, 4.80085, 0.142106\n",
      "  1HD1: 1.52766, 1.01475, 2.19615\n",
      "  2HD1: 1.80983, 1.59849, 0.538159\n",
      "  3HD1: 3.15567, 0.921235, 1.48554\n",
      "Mirrored relative to coordinates in ResidueType: FALSE\n",
      "\n"
     ]
    }
   ],
   "source": [
    "#4\n",
    "### BEGIN SOLUTION\n",
    "print(start_pose.residue(2))\n",
    "pmm.apply(start_pose)\n",
    "### END SOLUTION"
   ]
  },
  {
   "cell_type": "markdown",
   "metadata": {},
   "source": [
    "## Using centroid mode"
   ]
  },
  {
   "cell_type": "markdown",
   "metadata": {},
   "source": [
    "In this entire lab, we will work entirely in centroid mode. So inistatiate a `SwitchResidueTypeSetMover` and apply it on the pose. Apply the PyMOL mover again."
   ]
  },
  {
   "cell_type": "code",
   "execution_count": 5,
   "metadata": {
    "nbgrader": {
     "grade": true,
     "grade_id": "cell-2880ed0ff9e0689a",
     "locked": false,
     "points": 0,
     "schema_version": 3,
     "solution": true
    }
   },
   "outputs": [
    {
     "name": "stdout",
     "output_type": "stream",
     "text": [
      "\u001b[0mcore.chemical.GlobalResidueTypeSet: {0} \u001b[0mFinished initializing centroid residue type set.  Created 62 residue types\n",
      "\u001b[0mcore.chemical.GlobalResidueTypeSet: {0} \u001b[0mTotal time to initialize 0.045852 seconds.\n"
     ]
    }
   ],
   "source": [
    "#5\n",
    "### BEGIN SOLUTION\n",
    "pose = Pose(start_pose)\n",
    "switch = SwitchResidueTypeSetMover(\"centroid\")\n",
    "switch.apply(pose)\n",
    "pmm.apply(pose)\n",
    "### END SOLUTION"
   ]
  },
  {
   "cell_type": "markdown",
   "metadata": {},
   "source": [
    "Print out information about the same residue using `pose.residue(resi#)`. How many atoms do you see now? Is there a change in the stick representation of this residue?"
   ]
  },
  {
   "cell_type": "code",
   "execution_count": 6,
   "metadata": {
    "nbgrader": {
     "grade": true,
     "grade_id": "cell-38ba33fc7292b36c",
     "locked": false,
     "points": 0,
     "schema_version": 3,
     "solution": true
    }
   },
   "outputs": [
    {
     "name": "stdout",
     "output_type": "stream",
     "text": [
      "Residue 2: ILE (ILE, I):\n",
      "Base: ILE\n",
      " Properties: POLYMER PROTEIN CANONICAL_AA HYDROPHOBIC ALIPHATIC ALPHA_AA L_AA\n",
      " Variant types:\n",
      " Main-chain atoms:  N    CA   C  \n",
      " Backbone atoms:    N    CA   C    O    H  \n",
      " Side-chain atoms:  CB   CEN\n",
      "Atom Coordinates:\n",
      "   N  : 3.33248, 1.53597, 1.45999e-16\n",
      "   CA : 3.98759, 2.83851, 1.11973e-17\n",
      "   C  : 5.50383, 2.69251, 3.98699e-16\n",
      "   O  : 6.02992, 1.57957, -5.72105e-07\n",
      "   CB : 3.56262, 3.68472, 1.214\n",
      "   CEN: 2.81569, 4.3785, 1.60064\n",
      "   H  : 3.89946, 0.700128, 2.30928e-07\n",
      "Mirrored relative to coordinates in ResidueType: FALSE\n",
      "\n"
     ]
    }
   ],
   "source": [
    "#6\n",
    "### BEGIN SOLUTION\n",
    "print(pose.residue(2))\n",
    "### END SOLUTION"
   ]
  },
  {
   "cell_type": "markdown",
   "metadata": {},
   "source": [
    "Since we are working with a centroid residue type set, `ref2015` can no longer be used as a score function. Nonetheless let's give it a try. Initialize `ref2015` using `get_fa_scorefxn()` and try to score the pose with that. What do you see? Comment this line out (that is add # in front of it) to proceed."
   ]
  },
  {
   "cell_type": "code",
   "execution_count": 7,
   "metadata": {
    "nbgrader": {
     "grade": true,
     "grade_id": "cell-6763ef794721750a",
     "locked": false,
     "points": 0,
     "schema_version": 3,
     "solution": true
    }
   },
   "outputs": [
    {
     "name": "stdout",
     "output_type": "stream",
     "text": [
      "\u001b[0mcore.scoring.ScoreFunctionFactory: {0} \u001b[0mSCOREFUNCTION: \u001b[32mref2015\u001b[0m\n",
      "\u001b[0mcore.scoring.etable: {0} \u001b[0mStarting energy table calculation\n",
      "\u001b[0mcore.scoring.etable: {0} \u001b[0msmooth_etable: changing atr/rep split to bottom of energy well\n",
      "\u001b[0mcore.scoring.etable: {0} \u001b[0msmooth_etable: spline smoothing lj etables (maxdis = 6)\n",
      "\u001b[0mcore.scoring.etable: {0} \u001b[0msmooth_etable: spline smoothing solvation etables (max_dis = 6)\n",
      "\u001b[0mcore.scoring.etable: {0} \u001b[0mFinished calculating energy tables.\n",
      "\u001b[0mbasic.io.database: {0} \u001b[0mDatabase file opened: scoring/score_functions/hbonds/ref2015_params/HBPoly1D.csv\n",
      "\u001b[0mbasic.io.database: {0} \u001b[0mDatabase file opened: scoring/score_functions/hbonds/ref2015_params/HBFadeIntervals.csv\n",
      "\u001b[0mbasic.io.database: {0} \u001b[0mDatabase file opened: scoring/score_functions/hbonds/ref2015_params/HBEval.csv\n",
      "\u001b[0mbasic.io.database: {0} \u001b[0mDatabase file opened: scoring/score_functions/hbonds/ref2015_params/DonStrength.csv\n",
      "\u001b[0mbasic.io.database: {0} \u001b[0mDatabase file opened: scoring/score_functions/hbonds/ref2015_params/AccStrength.csv\n",
      "\u001b[0mbasic.io.database: {0} \u001b[0mDatabase file opened: scoring/score_functions/rama/fd/all.ramaProb\n",
      "\u001b[0mbasic.io.database: {0} \u001b[0mDatabase file opened: scoring/score_functions/rama/fd/prepro.ramaProb\n",
      "\u001b[0mbasic.io.database: {0} \u001b[0mDatabase file opened: scoring/score_functions/omega/omega_ppdep.all.txt\n",
      "\u001b[0mbasic.io.database: {0} \u001b[0mDatabase file opened: scoring/score_functions/omega/omega_ppdep.gly.txt\n",
      "\u001b[0mbasic.io.database: {0} \u001b[0mDatabase file opened: scoring/score_functions/omega/omega_ppdep.pro.txt\n",
      "\u001b[0mbasic.io.database: {0} \u001b[0mDatabase file opened: scoring/score_functions/omega/omega_ppdep.valile.txt\n",
      "\u001b[0mbasic.io.database: {0} \u001b[0mDatabase file opened: scoring/score_functions/P_AA_pp/P_AA\n",
      "\u001b[0mbasic.io.database: {0} \u001b[0mDatabase file opened: scoring/score_functions/P_AA_pp/P_AA_n\n",
      "\u001b[0mcore.scoring.P_AA: {0} \u001b[0mshapovalov_lib::shap_p_aa_pp_smooth_level of 1( aka low_smooth ) got activated.\n",
      "\u001b[0mbasic.io.database: {0} \u001b[0mDatabase file opened: scoring/score_functions/P_AA_pp/shapovalov/10deg/kappa131/a20.prop\n"
     ]
    }
   ],
   "source": [
    "#7\n",
    "### BEGIN SOLUTION\n",
    "sfxn_fa = get_score_function()\n",
    "#sfxn_fa(pose)\n",
    "### END SOLUTION"
   ]
  },
  {
   "cell_type": "markdown",
   "metadata": {},
   "source": [
    "An appropriate score function for the centroid mode is `score3`. You can initialize it using `create_score_function(\"score3\")`. Score the pose with this score function."
   ]
  },
  {
   "cell_type": "code",
   "execution_count": 8,
   "metadata": {
    "nbgrader": {
     "grade": true,
     "grade_id": "cell-f9d50870e758e440",
     "locked": false,
     "points": 0,
     "schema_version": 3,
     "solution": true
    }
   },
   "outputs": [
    {
     "name": "stdout",
     "output_type": "stream",
     "text": [
      "\u001b[0mbasic.io.database: {0} \u001b[0mDatabase file opened: scoring/score_functions/EnvPairPotential/env_log.txt\n",
      "\u001b[0mbasic.io.database: {0} \u001b[0mDatabase file opened: scoring/score_functions/EnvPairPotential/cbeta_den.txt\n",
      "\u001b[0mbasic.io.database: {0} \u001b[0mDatabase file opened: scoring/score_functions/EnvPairPotential/pair_log.txt\n",
      "\u001b[0mbasic.io.database: {0} \u001b[0mDatabase file opened: scoring/score_functions/EnvPairPotential/cenpack_log.txt\n",
      "\u001b[0mbasic.io.database: {0} \u001b[0mDatabase file opened: scoring/score_functions/SecondaryStructurePotential/phi.theta.36.HS.resmooth\n",
      "\u001b[0mbasic.io.database: {0} \u001b[0mDatabase file opened: scoring/score_functions/SecondaryStructurePotential/phi.theta.36.SS.resmooth\n"
     ]
    },
    {
     "data": {
      "text/plain": [
       "156.57643598651632"
      ]
     },
     "execution_count": 8,
     "metadata": {},
     "output_type": "execute_result"
    }
   ],
   "source": [
    "#8\n",
    "### BEGIN SOLUTION\n",
    "sfxn_cen = create_score_function(\"score3\")\n",
    "sfxn_cen(pose)\n",
    "### END SOLUTION"
   ]
  },
  {
   "cell_type": "markdown",
   "metadata": {},
   "source": [
    "## Comparing to native"
   ]
  },
  {
   "cell_type": "markdown",
   "metadata": {},
   "source": [
    "Since the final solution is known to us, let's read in the native file, `1qgm.pdb` and store it in a new pose. For a good comparison, let's also use the swich residue type mover on this. Score this native pose using `score3`. Why do you think the score is like it is? To visualize this pose, use the PyMOL mover again."
   ]
  },
  {
   "cell_type": "code",
   "execution_count": 9,
   "metadata": {
    "nbgrader": {
     "grade": true,
     "grade_id": "cell-dc22bffe75bf95c9",
     "locked": false,
     "points": 0,
     "schema_version": 3,
     "solution": true
    }
   },
   "outputs": [
    {
     "name": "stdout",
     "output_type": "stream",
     "text": [
      "\u001b[0mcore.import_pose.import_pose: {0} \u001b[0mFile '1qgm.pdb' automatically determined to be of type PDB\n",
      "\u001b[0mcore.io.pose_from_sfr.PoseFromSFRBuilder: {0} \u001b[0m\u001b[1m[ WARNING ]\u001b[0m discarding 3 atoms at position 1 in file 1qgm.pdb. Best match rsd_type:  VAL:NtermProteinFull\n",
      "\u001b[0mcore.conformation.Conformation: {0} \u001b[0mFound disulfide between residues 4 16\n",
      "\u001b[0mcore.conformation.Conformation: {0} \u001b[0mcurrent variant for 4 CYS\n",
      "\u001b[0mcore.conformation.Conformation: {0} \u001b[0mcurrent variant for 16 CYS\n",
      "\u001b[0mcore.conformation.Conformation: {0} \u001b[0mcurrent variant for 4 CYD\n",
      "\u001b[0mcore.conformation.Conformation: {0} \u001b[0mcurrent variant for 16 CYD\n",
      "\u001b[0mcore.conformation.Conformation: {0} \u001b[0mFound disulfide between residues 10 26\n",
      "\u001b[0mcore.conformation.Conformation: {0} \u001b[0mcurrent variant for 10 CYS\n",
      "\u001b[0mcore.conformation.Conformation: {0} \u001b[0mcurrent variant for 26 CYS\n",
      "\u001b[0mcore.conformation.Conformation: {0} \u001b[0mcurrent variant for 10 CYD\n",
      "\u001b[0mcore.conformation.Conformation: {0} \u001b[0mcurrent variant for 26 CYD\n"
     ]
    },
    {
     "data": {
      "text/plain": [
       "63.8669820863305"
      ]
     },
     "execution_count": 9,
     "metadata": {},
     "output_type": "execute_result"
    }
   ],
   "source": [
    "native_pose = pose_from_file(\"1qgm.pdb\")\n",
    "native_cen = Pose(native_pose)\n",
    "switch.apply(native_cen)\n",
    "sfxn_cen(native_cen)"
   ]
  },
  {
   "cell_type": "markdown",
   "metadata": {},
   "source": [
    "How far is the pose from the native pose? One classic metric is the C-alpha RMSD. In Rosetta, it is calculated using the `CA_rmsd()` method located in `pyrosetta.rosetta.core.scoring`. What is the starting value?"
   ]
  },
  {
   "cell_type": "code",
   "execution_count": 10,
   "metadata": {
    "nbgrader": {
     "grade": true,
     "grade_id": "cell-3c82cf2032f078ad",
     "locked": false,
     "points": 0,
     "schema_version": 3,
     "solution": true
    }
   },
   "outputs": [
    {
     "name": "stdout",
     "output_type": "stream",
     "text": [
      "ca rmsd: 27.841325759887695\n"
     ]
    }
   ],
   "source": [
    "#9\n",
    "### BEGIN SOLUTION\n",
    "from pyrosetta.rosetta.core.scoring import CA_rmsd\n",
    "ca_rmsd = pyrosetta.rosetta.core.scoring.CA_rmsd(native_cen, pose)\n",
    "print(\"ca rmsd:\", ca_rmsd)\n",
    "### END SOLUTION"
   ]
  },
  {
   "cell_type": "markdown",
   "metadata": {},
   "source": [
    "Now that we know how to calculate this RMSD, we can use it to track if we are getting closer to the native structure."
   ]
  },
  {
   "cell_type": "markdown",
   "metadata": {},
   "source": [
    "## Building a basic folding protocol"
   ]
  },
  {
   "cell_type": "markdown",
   "metadata": {},
   "source": [
    "So finally we can start to fold the protein. The only mobile segment is the backbone. To specify this, make a movemap and set backbone motion to true for all residues, i.e. `set_bb(True)`"
   ]
  },
  {
   "cell_type": "code",
   "execution_count": 11,
   "metadata": {},
   "outputs": [],
   "source": [
    "mm = MoveMap()\n",
    "mm.set_bb(True)"
   ]
  },
  {
   "cell_type": "markdown",
   "metadata": {},
   "source": [
    "Let us try to use some simple movers that we have learnt today to fold the protein. Start by initializing a small mover and a shear mover (located in `pyrosetta.rosetta.protocols.simple_moves`). Set `n_moves = 10` and `kT = 1.0`."
   ]
  },
  {
   "cell_type": "code",
   "execution_count": 12,
   "metadata": {
    "nbgrader": {
     "grade": true,
     "grade_id": "cell-581ead74267e0ad8",
     "locked": false,
     "points": 0,
     "schema_version": 3,
     "solution": true
    }
   },
   "outputs": [],
   "source": [
    "#10\n",
    "### BEGIN SOLUTION\n",
    "small = rosetta.protocols.simple_moves.SmallMover()\n",
    "small.nmoves(10)\n",
    "small.temperature(1.0)\n",
    "\n",
    "shear = rosetta.protocols.simple_moves.ShearMover()\n",
    "shear.nmoves(10)\n",
    "shear.temperature(1.0)\n",
    "### END SOLUTION"
   ]
  },
  {
   "cell_type": "markdown",
   "metadata": {},
   "source": [
    "To apply them one after the other, use a sequence mover (located in `pyrosetta.rosetta.protocols.moves`).\n",
    "\n",
    "The SequenceMover is a mover that holds other movers and applies them \"in sequence.\" I.e. if you have three movers, `m1`, `m2`, and `m3`, and you add them to a SequenceMover in that order, then when you call the SequenceMover's `apply` method, it will first invoke `m1`'s `apply`, then `m2`'s `apply`, and finally `m3`'s `apply`.\n",
    "\n",
    "Add the above two movers to your sequence mover using its `add_mover()` function."
   ]
  },
  {
   "cell_type": "code",
   "execution_count": 13,
   "metadata": {
    "nbgrader": {
     "grade": true,
     "grade_id": "cell-2ec2d06a28cd9bff",
     "locked": false,
     "points": 0,
     "schema_version": 3,
     "solution": true
    }
   },
   "outputs": [],
   "source": [
    "#11\n",
    "### BEGIN SOLUTION\n",
    "\n",
    "seq = pyrosetta.rosetta.protocols.moves.SequenceMover()\n",
    "seq.add_mover(small)\n",
    "seq.add_mover(shear)\n",
    "\n",
    "### END SOLUTION"
   ]
  },
  {
   "cell_type": "markdown",
   "metadata": {},
   "source": [
    "To perform a Monte Carlo simulation, we first need a `MonteCarlo` object. Use the constructor for MonteCarlo that takes as arguments a pose, a score function, and a kT \"temperature\" as its parameters. Use a temperature of 1.\n",
    "\n",
    "You're probably wondering: what score function and what pose should you use? The MonteCarlo object will use the Pose that you give it as it's starting point. It should be the centroid pose that you created from the FASTA sequence. (It should not be the native pose you read in from the PDB file!). We will want the centroid score function to go along with the centroid pose.\n",
    "\n",
    "The way we'll use the MonteCarlo object is that we'll perturb the Pose `p`, and then after the perturbation, ask the MonteCarlo object to accept or reject the perturbation.\n",
    "\n",
    "```\n",
    "   for _ in range(100):\n",
    "       perturber.apply(p)\n",
    "       mc.boltzmann(p) # accept or reject the change to p\n",
    "```\n",
    "Internally, the MonteCarlo object keeps a copy of the pose in its most-recently-accepted conformation so that if the Metropolis criterion calls for the rejection of the perturbation, then the MonteCarlo object can copy the prior conformation back into `p`. I.e., the copying resets `p`'s conformation to how it was before the perturbation took place.\n",
    "\n",
    "The MonteCarlo object is keeping a second copy of the pose that represents the best-ever-seen conformation. We will talk about that copy later.\n",
    "\n",
    "Construct your MonteCarlo object below."
   ]
  },
  {
   "cell_type": "code",
   "execution_count": 14,
   "metadata": {
    "nbgrader": {
     "grade": true,
     "grade_id": "cell-f0d00fd4a6c5fd8b",
     "locked": false,
     "points": 0,
     "schema_version": 3,
     "solution": true
    }
   },
   "outputs": [],
   "source": [
    "#12\n",
    "### BEGIN SOLUTION\n",
    "\n",
    "mc = MonteCarlo(pose, sfxn_cen, 2.0)\n",
    "\n",
    "### END SOLUTION"
   ]
  },
  {
   "cell_type": "markdown",
   "metadata": {},
   "source": [
    "As we are nesting movers, it will be convineint to use a `TrialMover` to invoke some other Mover's apply function, and then invoke the MonteCarlo's boltzmann function. That is, the TrialMover's `apply` function is basically :\n",
    "\n",
    "```\n",
    "class TrialMover(Mover):\n",
    "   def __init__(self, mover: Mover, mc: MonteCarlo):\n",
    "      self.mover = mover\n",
    "      self.mc = mc\n",
    "   def apply(self, p: Pose):\n",
    "      mover.apply(p)\n",
    "      self.botlzmann(p)\n",
    "```\n",
    "\n",
    "(although it is actually implemented in C++)\n",
    "\n",
    "Why create a class to call a function? Why not just call the function? Muse on this.\n",
    "\n",
    "Initialize a `TrialMover` with the sequence mover (the one containing the small and shear movers) and the Monte Carlo object as input."
   ]
  },
  {
   "cell_type": "code",
   "execution_count": 15,
   "metadata": {
    "nbgrader": {
     "grade": true,
     "grade_id": "cell-623cb57a710ae16f",
     "locked": false,
     "points": 0,
     "schema_version": 3,
     "solution": true
    }
   },
   "outputs": [],
   "source": [
    "#13\n",
    "### BEGIN SOLUTION\n",
    "\n",
    "trial = TrialMover(seq, mc)\n",
    "\n",
    "### END SOLUTION"
   ]
  },
  {
   "cell_type": "markdown",
   "metadata": {},
   "source": [
    "Before making any changes, let's keep a copy of the starting pose handy, because we'll need it later. To do so use `pose.clone()`."
   ]
  },
  {
   "cell_type": "code",
   "execution_count": 16,
   "metadata": {
    "nbgrader": {
     "grade": true,
     "grade_id": "cell-10886b5692c58612",
     "locked": false,
     "points": 0,
     "schema_version": 3,
     "solution": true
    }
   },
   "outputs": [],
   "source": [
    "#14\n",
    "# pose_start = ...\n",
    "### BEGIN SOLUTION\n",
    "\n",
    "pose_start = pose.clone()\n",
    "\n",
    "### END SOLUTION"
   ]
  },
  {
   "cell_type": "markdown",
   "metadata": {},
   "source": [
    "## Applying the folding protocol"
   ]
  },
  {
   "cell_type": "markdown",
   "metadata": {},
   "source": [
    "OK!\n",
    "\n",
    "We now have all of the elements we need in order to put together and run our small- and shear-mover-based-folding protocol. Let's assemble them.\n",
    "\n",
    "What we will do is invoke the TrialMover's `apply` method. The TrialMover will invoke the SequenceMover's `apply` method and then invoke the MonteCarlo object's `botlzmann` method. The SequenceMover will invoke the small- and shear Movers in sequence.\n",
    "\n",
    "Just applying the TrialMover once, however, will not be sufficient to fold the protein! Apply this mover 100 times to do so (with a for loop). Inside this loop, also store the score of the pose and the C-alpha RMSD in two `numpy` arrays (look back to Session 1) after every apply of the trial mover. Also use the PyMOL mover to update the pose in PyMOL so that you can create a movie of your protocol.\n",
    "\n",
    "We are going to have you run this cell more than once; to make sure results of previous runs don't bleed through, add a call to MonteCarlo's `reset` function handing it the conformation of the original pose. Also, copy the `pose_start` pose into the working `pose.` "
   ]
  },
  {
   "cell_type": "code",
   "execution_count": 17,
   "metadata": {
    "nbgrader": {
     "grade": true,
     "grade_id": "cell-73b3dbadb52edbd3",
     "locked": false,
     "points": 0,
     "schema_version": 3,
     "solution": true
    }
   },
   "outputs": [
    {
     "name": "stdout",
     "output_type": "stream",
     "text": [
      "\u001b[0mcore.scoring.ramachandran: {0} \u001b[0mshapovalov_lib::shap_rama_smooth_level of 4( aka highest_smooth ) got activated.\n",
      "\u001b[0mbasic.io.database: {0} \u001b[0mDatabase file opened: scoring/score_functions/rama/shapovalov/kappa25/all.ramaProb\n",
      "\u001b[0mbasic.io.database: {0} \u001b[0mDatabase file opened: scoring/score_functions/rama/flat/avg_L_rama.dat\n",
      "\u001b[0mcore.scoring.ramachandran: {0} \u001b[0mReading custom Ramachandran table from scoring/score_functions/rama/flat/avg_L_rama.dat.\n",
      "\u001b[0mbasic.io.database: {0} \u001b[0mDatabase file opened: scoring/score_functions/rama/flat/sym_all_rama.dat\n",
      "\u001b[0mcore.scoring.ramachandran: {0} \u001b[0mReading custom Ramachandran table from scoring/score_functions/rama/flat/sym_all_rama.dat.\n",
      "\u001b[0mbasic.io.database: {0} \u001b[0mDatabase file opened: scoring/score_functions/rama/flat/sym_G_rama.dat\n",
      "\u001b[0mcore.scoring.ramachandran: {0} \u001b[0mReading custom Ramachandran table from scoring/score_functions/rama/flat/sym_G_rama.dat.\n",
      "\u001b[0mbasic.io.database: {0} \u001b[0mDatabase file opened: scoring/score_functions/rama/flat/sym_P_rama.dat\n",
      "\u001b[0mcore.scoring.ramachandran: {0} \u001b[0mReading custom Ramachandran table from scoring/score_functions/rama/flat/sym_P_rama.dat.\n",
      "\u001b[0mbasic.io.database: {0} \u001b[0mDatabase file opened: scoring/score_functions/rama/flat/avg_L_rama_str.dat\n",
      "\u001b[0mcore.scoring.ramachandran: {0} \u001b[0mReading custom Ramachandran table from scoring/score_functions/rama/flat/avg_L_rama_str.dat.\n",
      "\u001b[0mbasic.io.database: {0} \u001b[0mDatabase file opened: scoring/score_functions/rama/flat/sym_all_rama_str.dat\n",
      "\u001b[0mcore.scoring.ramachandran: {0} \u001b[0mReading custom Ramachandran table from scoring/score_functions/rama/flat/sym_all_rama_str.dat.\n",
      "\u001b[0mbasic.io.database: {0} \u001b[0mDatabase file opened: scoring/score_functions/rama/flat/sym_G_rama_str.dat\n",
      "\u001b[0mcore.scoring.ramachandran: {0} \u001b[0mReading custom Ramachandran table from scoring/score_functions/rama/flat/sym_G_rama_str.dat.\n",
      "\u001b[0mbasic.io.database: {0} \u001b[0mDatabase file opened: scoring/score_functions/rama/flat/sym_P_rama_str.dat\n",
      "\u001b[0mcore.scoring.ramachandran: {0} \u001b[0mReading custom Ramachandran table from scoring/score_functions/rama/flat/sym_P_rama_str.dat.\n"
     ]
    }
   ],
   "source": [
    "#15\n",
    "### BEGIN SOLUTION\n",
    "\n",
    "import numpy\n",
    "n_iterations = 100\n",
    "score = numpy.zeros((n_iterations,),dtype=float)\n",
    "ca_rmsd = numpy.zeros((n_iterations,), dtype=float)\n",
    "\n",
    "work_pose = Pose(pose)\n",
    "mc.reset(work_pose)\n",
    "\n",
    "for i in range(n_iterations):\n",
    "    trial.apply(work_pose)\n",
    "    sc = sfxn_cen(work_pose)\n",
    "    score[i] = sc\n",
    "    rmsd = CA_rmsd(native_cen,work_pose)\n",
    "    ca_rmsd[i] = rmsd\n",
    "    pmm.apply(work_pose) # print movie in pyMOL\n",
    "    \n",
    "### END SOLUTION"
   ]
  },
  {
   "cell_type": "markdown",
   "metadata": {},
   "source": [
    "Now using a loop, print out the scores and the rmsds after every iteration. How close do you get to the native using this folding algorithm? Did you notice your RMSD decrease stalling after a while? Rerun the cell above (but take care that the results of your previous execution don't beeed through) a couple of times. Do you ever go below a certain number? If you \"play\" the states you have in pymol, do your structures look like they are becoming very protein-like?"
   ]
  },
  {
   "cell_type": "code",
   "execution_count": 18,
   "metadata": {
    "nbgrader": {
     "grade": true,
     "grade_id": "cell-72433368f2b5b8cb",
     "locked": false,
     "points": 0,
     "schema_version": 3,
     "solution": true
    }
   },
   "outputs": [
    {
     "name": "stdout",
     "output_type": "stream",
     "text": [
      "sc: 156.54263225832085 rmsd 27.831462860107422\n",
      "sc: 156.4798854374988 rmsd 27.802583694458008\n",
      "sc: 156.3166538222309 rmsd 27.659217834472656\n",
      "sc: 156.35427056610544 rmsd 27.683290481567383\n",
      "sc: 156.27340453594744 rmsd 27.631250381469727\n",
      "sc: 156.32192697468025 rmsd 27.676462173461914\n",
      "sc: 156.1543439352348 rmsd 27.637428283691406\n",
      "sc: 156.06533789992423 rmsd 27.62175178527832\n",
      "sc: 155.9319830656867 rmsd 27.604629516601562\n",
      "sc: 155.71092878214228 rmsd 27.605571746826172\n",
      "sc: 155.75568393871646 rmsd 27.585433959960938\n",
      "sc: 155.6823249653972 rmsd 27.57094383239746\n",
      "sc: 155.48138664869313 rmsd 27.50649642944336\n",
      "sc: 155.16458581142373 rmsd 27.426105499267578\n",
      "sc: 155.337935539125 rmsd 27.45795249938965\n",
      "sc: 155.55056459896008 rmsd 27.5156307220459\n",
      "sc: 155.84993517903013 rmsd 27.5914306640625\n",
      "sc: 155.9383913800022 rmsd 27.616432189941406\n",
      "sc: 155.88306203864735 rmsd 27.594831466674805\n",
      "sc: 155.8832856842885 rmsd 27.536849975585938\n",
      "sc: 155.72979406732517 rmsd 27.4841251373291\n",
      "sc: 155.90483788129612 rmsd 27.56766128540039\n",
      "sc: 155.82425920281526 rmsd 27.524696350097656\n",
      "sc: 155.7799714324313 rmsd 27.531726837158203\n",
      "sc: 154.83121529317248 rmsd 27.554609298706055\n",
      "sc: 155.00182139997992 rmsd 27.595176696777344\n",
      "sc: 154.97532919426885 rmsd 27.53758430480957\n",
      "sc: 154.80712527670602 rmsd 27.48406982421875\n",
      "sc: 154.59424100110306 rmsd 27.395658493041992\n",
      "sc: 153.98602089356103 rmsd 27.185707092285156\n",
      "sc: 154.28609467635232 rmsd 27.309574127197266\n",
      "sc: 154.5189754087498 rmsd 27.383556365966797\n",
      "sc: 154.5189754087498 rmsd 27.383556365966797\n",
      "sc: 154.35679221287097 rmsd 27.37642478942871\n",
      "sc: 154.32684639097397 rmsd 27.41946029663086\n",
      "sc: 154.3647993072054 rmsd 27.401195526123047\n",
      "sc: 154.12375142766928 rmsd 27.333791732788086\n",
      "sc: 154.11474352199608 rmsd 27.352046966552734\n",
      "sc: 153.93699948184548 rmsd 27.329967498779297\n",
      "sc: 153.80416657951963 rmsd 27.27029800415039\n",
      "sc: 153.71721723393466 rmsd 27.267436981201172\n",
      "sc: 153.63098126173907 rmsd 27.244226455688477\n",
      "sc: 153.7684228834811 rmsd 27.290117263793945\n",
      "sc: 153.4577607044135 rmsd 27.212369918823242\n",
      "sc: 153.16796797158713 rmsd 27.1461124420166\n",
      "sc: 153.18732567225064 rmsd 27.107311248779297\n",
      "sc: 153.35306765427384 rmsd 27.11752700805664\n",
      "sc: 153.33898723122869 rmsd 27.089412689208984\n",
      "sc: 153.50607211360216 rmsd 27.165651321411133\n",
      "sc: 153.60033489382627 rmsd 27.22756004333496\n",
      "sc: 153.40040073356877 rmsd 27.171207427978516\n",
      "sc: 153.0766233507646 rmsd 27.121475219726562\n",
      "sc: 152.85054139177163 rmsd 27.00868034362793\n",
      "sc: 152.90554484941782 rmsd 26.965532302856445\n",
      "sc: 152.8876971620252 rmsd 27.007991790771484\n",
      "sc: 152.92176002501168 rmsd 26.975019454956055\n",
      "sc: 152.79655063732562 rmsd 26.934179306030273\n",
      "sc: 152.79391883110898 rmsd 26.949241638183594\n",
      "sc: 152.54998728358248 rmsd 26.8752384185791\n",
      "sc: 152.48594243809782 rmsd 26.823219299316406\n",
      "sc: 152.45824988925568 rmsd 26.752397537231445\n",
      "sc: 152.52351245450558 rmsd 26.818418502807617\n",
      "sc: 153.30116972981992 rmsd 26.648296356201172\n",
      "sc: 153.23647877173295 rmsd 26.63962173461914\n",
      "sc: 152.58542338628706 rmsd 26.712932586669922\n",
      "sc: 152.42315114628147 rmsd 26.627723693847656\n",
      "sc: 153.41032895534784 rmsd 26.628843307495117\n",
      "sc: 153.39383172461766 rmsd 26.61283302307129\n",
      "sc: 153.39383172461766 rmsd 26.61283302307129\n",
      "sc: 153.5154104984817 rmsd 26.669116973876953\n",
      "sc: 153.51174286423864 rmsd 26.629655838012695\n",
      "sc: 153.85880249726014 rmsd 26.792877197265625\n",
      "sc: 153.8550805115894 rmsd 26.786544799804688\n",
      "sc: 153.5047959892334 rmsd 26.64550018310547\n",
      "sc: 152.89499560501383 rmsd 26.39894676208496\n",
      "sc: 152.69987586810754 rmsd 26.34665298461914\n",
      "sc: 152.39671550402264 rmsd 26.22545051574707\n",
      "sc: 152.69615819877117 rmsd 26.309274673461914\n",
      "sc: 151.67670978923923 rmsd 26.273305892944336\n",
      "sc: 152.0200784564002 rmsd 26.453123092651367\n",
      "sc: 151.39640225707157 rmsd 26.246259689331055\n",
      "sc: 151.81246155759442 rmsd 26.29383659362793\n",
      "sc: 151.46501869029117 rmsd 26.228593826293945\n",
      "sc: 151.4426287632252 rmsd 26.21390151977539\n",
      "sc: 151.68463114819838 rmsd 26.3046932220459\n",
      "sc: 151.5433388220913 rmsd 26.246387481689453\n",
      "sc: 151.70855417597065 rmsd 26.29285430908203\n",
      "sc: 151.55547633288998 rmsd 26.226091384887695\n",
      "sc: 151.30190433365948 rmsd 26.104999542236328\n",
      "sc: 151.5695413993938 rmsd 26.20868682861328\n",
      "sc: 151.39212170717641 rmsd 26.143327713012695\n",
      "sc: 151.45985741172404 rmsd 26.207887649536133\n",
      "sc: 151.69197489640976 rmsd 26.292993545532227\n",
      "sc: 152.8913928507837 rmsd 26.367238998413086\n",
      "sc: 152.7129781163259 rmsd 26.30121421813965\n",
      "sc: 152.77640540395896 rmsd 26.28152084350586\n",
      "sc: 153.00283276627266 rmsd 26.355499267578125\n",
      "sc: 151.8603079808827 rmsd 25.92400550842285\n",
      "sc: 151.95845340185693 rmsd 25.95424461364746\n",
      "sc: 151.95845340185693 rmsd 25.95424461364746\n"
     ]
    }
   ],
   "source": [
    "#16\n",
    "### BEGIN SOLUTION\n",
    "\n",
    "for i in range(n_iterations):\n",
    "    print(\"sc:\", score[i], \"rmsd\", ca_rmsd[i])\n",
    "\n",
    "### END SOLUTION"
   ]
  },
  {
   "cell_type": "markdown",
   "metadata": {},
   "source": [
    "## Increasing move size"
   ]
  },
  {
   "cell_type": "markdown",
   "metadata": {},
   "source": [
    ">If you have less than 30 minutes left, skip this section and proceed directly to the fragment-insertion section"
   ]
  },
  {
   "cell_type": "markdown",
   "metadata": {},
   "source": [
    "One possible reason for this stagnation is that the maximum angle deviation of small movers is very small: 0, 5, and 6 degrees for helices, sheets, and loops, respectively. This approach will likely take forever to fold this protein. What if we introduce larger changes? Let's try larger changes! Use `RandomTorsionMover` (also found in `pyrosetta.rosetta.protocols.simple_moves`) to make larger torsion changes. `RandomTorsionMover` can be initialized with three parameters: `movemap`, `max_angle`, and `num_moves`. Set `max_angle` to 20 (you can try a few values) and `n_moves` to 10."
   ]
  },
  {
   "cell_type": "code",
   "execution_count": 19,
   "metadata": {
    "nbgrader": {
     "grade": true,
     "grade_id": "cell-4633e983aa74e4e1",
     "locked": false,
     "points": 0,
     "schema_version": 3,
     "solution": true
    }
   },
   "outputs": [],
   "source": [
    "#17\n",
    "### BEGIN SOLUTION\n",
    "\n",
    "rtor = pyrosetta.rosetta.protocols.simple_moves.RandomTorsionMover(mm, 20, 10)\n",
    "\n",
    "### END SOLUTION"
   ]
  },
  {
   "cell_type": "markdown",
   "metadata": {},
   "source": [
    "Add this mover to your sequence mover (which still contains the small- and shear- movers)."
   ]
  },
  {
   "cell_type": "code",
   "execution_count": 20,
   "metadata": {
    "nbgrader": {
     "grade": true,
     "grade_id": "cell-ebb67f2c532ef893",
     "locked": false,
     "points": 0,
     "schema_version": 3,
     "solution": true
    }
   },
   "outputs": [],
   "source": [
    "#18\n",
    "### BEGIN SOLUTION\n",
    "seq.add_mover(rtor)\n",
    "### END SOLUTION"
   ]
  },
  {
   "cell_type": "markdown",
   "metadata": {},
   "source": [
    "Now, copy-paste the loop and score printing from above to run the trial mover. Before you run it, however, you might want to clear out your PyMOL session by typing `delete all` in the PyMOL terminal."
   ]
  },
  {
   "cell_type": "code",
   "execution_count": 21,
   "metadata": {
    "nbgrader": {
     "grade": true,
     "grade_id": "cell-dced5417e753bd8c",
     "locked": false,
     "points": 0,
     "schema_version": 3,
     "solution": true
    }
   },
   "outputs": [
    {
     "name": "stdout",
     "output_type": "stream",
     "text": [
      "sc: 156.4132416891977 rmsd 27.72010040283203\n",
      "sc: 155.63814379163327 rmsd 27.34375762939453\n",
      "sc: 155.71572875368682 rmsd 27.38639259338379\n",
      "sc: 155.46887214255574 rmsd 27.33196258544922\n",
      "sc: 155.69620134451412 rmsd 27.425519943237305\n",
      "sc: 154.8510384478845 rmsd 27.042612075805664\n",
      "sc: 155.04538622815159 rmsd 27.084949493408203\n",
      "sc: 154.62801681993176 rmsd 26.922714233398438\n",
      "sc: 154.62801681993176 rmsd 26.922714233398438\n",
      "sc: 153.63291719998952 rmsd 26.54375648498535\n",
      "sc: 152.56922252809983 rmsd 26.1939754486084\n",
      "sc: 152.2651839585605 rmsd 26.174232482910156\n",
      "sc: 153.31724263668752 rmsd 26.522449493408203\n",
      "sc: 152.38099973640234 rmsd 26.153425216674805\n",
      "sc: 152.8680915495562 rmsd 26.30261993408203\n",
      "sc: 151.639159168842 rmsd 25.900663375854492\n",
      "sc: 150.31888278390656 rmsd 25.66568946838379\n",
      "sc: 150.6156249992444 rmsd 25.834178924560547\n",
      "sc: 151.21993378613473 rmsd 25.752994537353516\n",
      "sc: 152.6524336603684 rmsd 26.34030532836914\n",
      "sc: 152.40829991111627 rmsd 26.326181411743164\n",
      "sc: 150.75347691750505 rmsd 25.72525978088379\n",
      "sc: 148.06526119493407 rmsd 24.828739166259766\n",
      "sc: 145.39574777992908 rmsd 23.943382263183594\n",
      "sc: 143.40969061211064 rmsd 23.344032287597656\n",
      "sc: 144.7314619080887 rmsd 23.860593795776367\n",
      "sc: 141.55900856069331 rmsd 22.83316421508789\n",
      "sc: 141.55900856069331 rmsd 22.83316421508789\n",
      "sc: 141.55900856069331 rmsd 22.83316421508789\n",
      "sc: 142.7413379219646 rmsd 23.18988800048828\n",
      "sc: 142.5708633796884 rmsd 23.109691619873047\n",
      "sc: 142.69506825859938 rmsd 23.193368911743164\n",
      "sc: 142.86641707423425 rmsd 23.224029541015625\n",
      "sc: 142.9134495856287 rmsd 23.47907829284668\n",
      "sc: 143.5599792489872 rmsd 23.680404663085938\n",
      "sc: 142.13238672547678 rmsd 23.22710418701172\n",
      "sc: 142.13238672547678 rmsd 23.22710418701172\n",
      "sc: 139.07947627292253 rmsd 22.370834350585938\n",
      "sc: 139.07947627292253 rmsd 22.370834350585938\n",
      "sc: 137.74569547429832 rmsd 22.037324905395508\n",
      "sc: 138.25160281163906 rmsd 22.165241241455078\n",
      "sc: 138.25160281163906 rmsd 22.165241241455078\n",
      "sc: 135.63044170524978 rmsd 21.365629196166992\n",
      "sc: 137.0312201001235 rmsd 21.791969299316406\n",
      "sc: 137.69663524320757 rmsd 22.012786865234375\n",
      "sc: 137.32113037647028 rmsd 21.938369750976562\n",
      "sc: 137.32113037647028 rmsd 21.938369750976562\n",
      "sc: 137.34204425078326 rmsd 21.87529945373535\n",
      "sc: 137.34204425078326 rmsd 21.87529945373535\n",
      "sc: 135.82785464746925 rmsd 21.459810256958008\n",
      "sc: 135.82785464746925 rmsd 21.459810256958008\n",
      "sc: 136.16458547752433 rmsd 21.61996841430664\n",
      "sc: 136.16458547752433 rmsd 21.61996841430664\n",
      "sc: 137.3550458819415 rmsd 22.047531127929688\n",
      "sc: 137.3550458819415 rmsd 22.047531127929688\n",
      "sc: 138.83435549042278 rmsd 22.513765335083008\n",
      "sc: 140.24658383495608 rmsd 22.951541900634766\n",
      "sc: 139.63236797051604 rmsd 22.853851318359375\n",
      "sc: 138.08907544520983 rmsd 22.59699249267578\n",
      "sc: 137.3051970326442 rmsd 22.401308059692383\n",
      "sc: 139.06209559962798 rmsd 22.907581329345703\n",
      "sc: 138.64796379608234 rmsd 22.77765655517578\n",
      "sc: 138.84533338194672 rmsd 22.84977912902832\n",
      "sc: 138.81135002448997 rmsd 22.7880859375\n",
      "sc: 139.47414689821005 rmsd 22.951833724975586\n",
      "sc: 140.28840070959944 rmsd 23.14423942565918\n",
      "sc: 138.73052875046616 rmsd 22.866605758666992\n",
      "sc: 137.64299792091526 rmsd 22.279794692993164\n",
      "sc: 135.90348517401128 rmsd 21.73097801208496\n",
      "sc: 134.37470928738165 rmsd 21.372344970703125\n",
      "sc: 134.37470928738165 rmsd 21.372344970703125\n",
      "sc: 132.75262130414674 rmsd 20.894243240356445\n",
      "sc: 133.27349414171766 rmsd 21.083200454711914\n",
      "sc: 131.5320189384276 rmsd 20.551456451416016\n",
      "sc: 129.1872870794511 rmsd 19.77572250366211\n",
      "sc: 129.29840604378876 rmsd 19.70987319946289\n",
      "sc: 128.00336759215386 rmsd 19.376562118530273\n",
      "sc: 128.00336759215386 rmsd 19.376562118530273\n",
      "sc: 128.00336759215386 rmsd 19.376562118530273\n",
      "sc: 126.47471689580968 rmsd 18.810014724731445\n",
      "sc: 126.91229928448652 rmsd 18.884632110595703\n",
      "sc: 126.91229928448652 rmsd 18.884632110595703\n",
      "sc: 126.91229928448652 rmsd 18.884632110595703\n",
      "sc: 125.81637284537109 rmsd 18.358604431152344\n",
      "sc: 122.6131691566971 rmsd 17.3713321685791\n",
      "sc: 122.6131691566971 rmsd 17.3713321685791\n",
      "sc: 122.6131691566971 rmsd 17.3713321685791\n",
      "sc: 123.86415215575352 rmsd 17.657608032226562\n",
      "sc: 123.86415215575352 rmsd 17.657608032226562\n",
      "sc: 123.63706955199552 rmsd 17.8203182220459\n",
      "sc: 124.18547593535439 rmsd 18.02505874633789\n",
      "sc: 123.2791501963411 rmsd 17.652713775634766\n",
      "sc: 122.47281290492091 rmsd 17.699703216552734\n",
      "sc: 122.24247643478655 rmsd 17.73099136352539\n",
      "sc: 122.07484075386569 rmsd 17.749298095703125\n",
      "sc: 122.07484075386569 rmsd 17.749298095703125\n",
      "sc: 120.47603081775539 rmsd 17.384033203125\n",
      "sc: 120.28037192505607 rmsd 17.282011032104492\n",
      "sc: 119.86494900624183 rmsd 17.146451950073242\n",
      "sc: 119.86494900624183 rmsd 17.146451950073242\n"
     ]
    }
   ],
   "source": [
    "#19\n",
    "### BEGIN SOLUTION\n",
    "\n",
    "import numpy\n",
    "n_iterations = 100\n",
    "score = numpy.zeros((n_iterations,),dtype=float)\n",
    "ca_rmsd = numpy.zeros((n_iterations,), dtype=float)\n",
    "\n",
    "work_pose = Pose(pose)\n",
    "mc.reset(work_pose)\n",
    "\n",
    "for i in range(n_iterations):\n",
    "    trial.apply(work_pose)\n",
    "    sc = sfxn_cen(work_pose)\n",
    "    score[i] = sc\n",
    "    rmsd = CA_rmsd(native_cen,work_pose)\n",
    "    ca_rmsd[i] = rmsd\n",
    "    pmm.apply(work_pose)\n",
    "\n",
    "for i in range(n_iterations):\n",
    "    print(\"sc:\", score[i], \"rmsd\", ca_rmsd[i])\n",
    "    \n",
    "### END SOLUTION"
   ]
  },
  {
   "cell_type": "markdown",
   "metadata": {},
   "source": [
    "Do larger moves help? "
   ]
  },
  {
   "cell_type": "markdown",
   "metadata": {},
   "source": [
    "## Fragment insertion"
   ]
  },
  {
   "cell_type": "markdown",
   "metadata": {},
   "source": [
    "As a last part to this exercise, let's try fragment insertion as the first step in the sequence mover. Code to create a fragment set with 3-mer fragments is already written in the cell below. Make another fragment set of length 9 and read in the 9-mer file supplied, `1qgm.9mers`."
   ]
  },
  {
   "cell_type": "code",
   "execution_count": 22,
   "metadata": {
    "nbgrader": {
     "grade": true,
     "grade_id": "cell-8d51eb46dfb25c8d",
     "locked": false,
     "points": 0,
     "schema_version": 3,
     "solution": true
    }
   },
   "outputs": [
    {
     "name": "stdout",
     "output_type": "stream",
     "text": [
      "\u001b[0mcore.fragments.ConstantLengthFragSet: {0} \u001b[0mfinished reading top 200 3mer fragments from file 1qgm.3mers\n",
      "\u001b[0mcore.fragments.ConstantLengthFragSet: {0} \u001b[0mfinished reading top 200 9mer fragments from file 1qgm.9mers\n"
     ]
    }
   ],
   "source": [
    "#20\n",
    "from pyrosetta.rosetta.core.fragment import *\n",
    "fragset3 = ConstantLengthFragSet(3)\n",
    "fragset3.read_fragment_file(\"1qgm.3mers\")\n",
    "\n",
    "### BEGIN SOLUTION\n",
    "fragset9 = ConstantLengthFragSet(9)\n",
    "fragset9.read_fragment_file(\"1qgm.9mers\")\n",
    "### END SOLUTION"
   ]
  },
  {
   "cell_type": "markdown",
   "metadata": {},
   "source": [
    "Construct a 3-mer and a 9-mer fragment set mover. Code for the 3-mer fragment mover is already written in the cell below. Similarly, make a 9-mer fragment mover."
   ]
  },
  {
   "cell_type": "code",
   "execution_count": 23,
   "metadata": {
    "nbgrader": {
     "grade": true,
     "grade_id": "cell-d8446f77909ba4d6",
     "locked": false,
     "points": 0,
     "schema_version": 3,
     "solution": true
    }
   },
   "outputs": [],
   "source": [
    "#21\n",
    "from pyrosetta.rosetta.protocols.simple_moves import ClassicFragmentMover\n",
    "mover_3mer = ClassicFragmentMover(fragset3, mm)\n",
    "\n",
    "### BEGIN SOLUTION\n",
    "mover_9mer = ClassicFragmentMover(fragset9, mm)\n",
    "### END SOLUTION"
   ]
  },
  {
   "cell_type": "markdown",
   "metadata": {},
   "source": [
    "Put the 9-mer mover into a RepeatMover (from `pyrosetta.rosetta.protocols.moves`) which repeats 1 time and the 3-mer mover into a separate RepeatMover to repeat 1 time."
   ]
  },
  {
   "cell_type": "code",
   "execution_count": 24,
   "metadata": {
    "nbgrader": {
     "grade": true,
     "grade_id": "cell-a763092132c11bcc",
     "locked": false,
     "points": 0,
     "schema_version": 3,
     "solution": true
    }
   },
   "outputs": [],
   "source": [
    "#22\n",
    "### BEGIN SOLUTION\n",
    "\n",
    "from pyrosetta.rosetta.protocols.moves import RepeatMover\n",
    "\n",
    "repeat_9mer_frags = RepeatMover(mover_9mer, 1)\n",
    "repeat_3mer_frags = RepeatMover(mover_3mer, 1)\n",
    "\n",
    "\n",
    "### END SOLUTION"
   ]
  },
  {
   "cell_type": "markdown",
   "metadata": {},
   "source": [
    "Just like with the `RandomTorsionMover` above, reassign pose to the `pose_start` conformation and `reset` your MonteCarlo object. Also, clear out your PyMOL session by typing `delete all` in the PyMOL terminal."
   ]
  },
  {
   "cell_type": "code",
   "execution_count": 25,
   "metadata": {
    "nbgrader": {
     "grade": true,
     "grade_id": "cell-3906f21f98a992d6",
     "locked": false,
     "points": 0,
     "schema_version": 3,
     "solution": true
    }
   },
   "outputs": [],
   "source": [
    "#23\n",
    "### BEGIN SOLUTION\n",
    "work_pose.assign(pose_start)\n",
    "mc.reset(work_pose)\n",
    "### END SOLUTION"
   ]
  },
  {
   "cell_type": "markdown",
   "metadata": {},
   "source": [
    "Using the 9-mer `RepeatMover` and your Monte Carlo object, create a new `TrialMover` and apply it to the pose 100 times. Use `PyMOLMover` to visualize the changes. Print out the score and the RMSD after the 9-mer insertions. Does fragment insertion help?\n",
    "\n",
    "Repeat the same steps for the 3-mer `RepeatMover` (picking up from where the 9-mer insertion left off). Is the RMSD lower now than when using the small- and shear-movers?"
   ]
  },
  {
   "cell_type": "code",
   "execution_count": 26,
   "metadata": {
    "nbgrader": {
     "grade": true,
     "grade_id": "cell-a508bf83cbd1cd2d",
     "locked": false,
     "points": 0,
     "schema_version": 3,
     "solution": true
    }
   },
   "outputs": [
    {
     "name": "stdout",
     "output_type": "stream",
     "text": [
      "9mer insertion -- sc: 143.110972223025 rmsd 22.62807846069336\n",
      "9mer insertion -- sc: 143.110972223025 rmsd 22.62807846069336\n",
      "9mer insertion -- sc: 118.71112863070852 rmsd 17.372215270996094\n",
      "9mer insertion -- sc: 118.71112863070852 rmsd 17.372215270996094\n",
      "9mer insertion -- sc: 112.03214551825808 rmsd 16.744857788085938\n",
      "9mer insertion -- sc: 112.03214551825808 rmsd 16.744857788085938\n",
      "9mer insertion -- sc: 97.35742923156303 rmsd 10.489720344543457\n",
      "9mer insertion -- sc: 97.35742923156303 rmsd 10.489720344543457\n",
      "9mer insertion -- sc: 97.35742923156303 rmsd 10.489720344543457\n",
      "9mer insertion -- sc: 81.77999406370608 rmsd 8.110526084899902\n",
      "9mer insertion -- sc: 81.77999406370608 rmsd 8.110526084899902\n",
      "9mer insertion -- sc: 81.77999406370608 rmsd 8.110526084899902\n",
      "9mer insertion -- sc: 81.77999406370608 rmsd 8.110526084899902\n",
      "9mer insertion -- sc: 81.77999406370608 rmsd 8.110526084899902\n",
      "9mer insertion -- sc: 81.77999406370608 rmsd 8.110526084899902\n",
      "9mer insertion -- sc: 81.77999406370608 rmsd 8.110526084899902\n",
      "9mer insertion -- sc: 81.77999406370608 rmsd 8.110526084899902\n",
      "9mer insertion -- sc: 81.77999406370608 rmsd 8.110526084899902\n",
      "9mer insertion -- sc: 81.77999406370608 rmsd 8.110526084899902\n",
      "9mer insertion -- sc: 81.77999406370608 rmsd 8.110526084899902\n",
      "9mer insertion -- sc: 81.77999406370608 rmsd 8.110526084899902\n",
      "9mer insertion -- sc: 81.77999406370608 rmsd 8.110526084899902\n",
      "9mer insertion -- sc: 80.67141877629928 rmsd 8.912339210510254\n",
      "9mer insertion -- sc: 80.67141877629928 rmsd 8.912339210510254\n",
      "9mer insertion -- sc: 80.67141877629928 rmsd 8.912339210510254\n",
      "9mer insertion -- sc: 80.67141877629928 rmsd 8.912339210510254\n",
      "9mer insertion -- sc: 80.67141877629928 rmsd 8.912339210510254\n",
      "9mer insertion -- sc: 80.67141877629928 rmsd 8.912339210510254\n",
      "9mer insertion -- sc: 80.67141877629928 rmsd 8.912339210510254\n",
      "9mer insertion -- sc: 80.67141877629928 rmsd 8.912339210510254\n",
      "9mer insertion -- sc: 80.67141877629928 rmsd 8.912339210510254\n",
      "9mer insertion -- sc: 80.67141877629928 rmsd 8.912339210510254\n",
      "9mer insertion -- sc: 73.56431810210579 rmsd 8.249939918518066\n",
      "9mer insertion -- sc: 73.56431810210577 rmsd 8.249939918518066\n",
      "9mer insertion -- sc: 51.93055649602064 rmsd 7.074054718017578\n",
      "9mer insertion -- sc: 51.930556496020635 rmsd 7.074054718017578\n",
      "9mer insertion -- sc: 51.930556496020635 rmsd 7.074054718017578\n",
      "9mer insertion -- sc: 51.930556496020635 rmsd 7.074054718017578\n",
      "9mer insertion -- sc: 51.930556496020635 rmsd 7.074054718017578\n",
      "9mer insertion -- sc: 51.930556496020635 rmsd 7.074054718017578\n",
      "9mer insertion -- sc: 51.930556496020635 rmsd 7.074054718017578\n",
      "9mer insertion -- sc: 54.32163592861726 rmsd 7.082363605499268\n",
      "9mer insertion -- sc: 54.32163592861726 rmsd 7.082363605499268\n",
      "9mer insertion -- sc: 54.32163592861726 rmsd 7.082363605499268\n",
      "9mer insertion -- sc: 54.32163592861726 rmsd 7.082363605499268\n",
      "9mer insertion -- sc: 54.32163592861726 rmsd 7.082363605499268\n",
      "9mer insertion -- sc: 54.32163592861726 rmsd 7.082363605499268\n",
      "9mer insertion -- sc: 54.32163592861726 rmsd 7.082363605499268\n",
      "9mer insertion -- sc: 54.32163592861726 rmsd 7.082363605499268\n",
      "9mer insertion -- sc: 54.32163592861726 rmsd 7.082363605499268\n",
      "9mer insertion -- sc: 54.32163592861726 rmsd 7.082363605499268\n",
      "9mer insertion -- sc: 54.32163592861726 rmsd 7.082363605499268\n",
      "9mer insertion -- sc: 54.32163592861726 rmsd 7.082363605499268\n",
      "9mer insertion -- sc: 54.32163592861726 rmsd 7.082363605499268\n",
      "9mer insertion -- sc: 54.32163592861726 rmsd 7.082363605499268\n",
      "9mer insertion -- sc: 54.32163592861726 rmsd 7.082363605499268\n",
      "9mer insertion -- sc: 54.32163592861726 rmsd 7.082363605499268\n",
      "9mer insertion -- sc: 54.32163592861726 rmsd 7.082363605499268\n",
      "9mer insertion -- sc: 54.32163592861726 rmsd 7.082363605499268\n",
      "9mer insertion -- sc: 54.32163592861726 rmsd 7.082363605499268\n",
      "9mer insertion -- sc: 54.32163592861726 rmsd 7.082363605499268\n",
      "9mer insertion -- sc: 54.32163592861726 rmsd 7.082363605499268\n",
      "9mer insertion -- sc: 54.32163592861726 rmsd 7.082363605499268\n",
      "9mer insertion -- sc: 54.32163592861726 rmsd 7.082363605499268\n",
      "9mer insertion -- sc: 54.32163592861726 rmsd 7.082363605499268\n",
      "9mer insertion -- sc: 54.32163592861726 rmsd 7.082363605499268\n",
      "9mer insertion -- sc: 54.32163592861726 rmsd 7.082363605499268\n",
      "9mer insertion -- sc: 54.32163592861726 rmsd 7.082363605499268\n",
      "9mer insertion -- sc: 54.32163592861726 rmsd 7.082363605499268\n",
      "9mer insertion -- sc: 54.32163592861726 rmsd 7.082363605499268\n",
      "9mer insertion -- sc: 54.32163592861726 rmsd 7.082363605499268\n",
      "9mer insertion -- sc: 54.32163592861726 rmsd 7.082363605499268\n",
      "9mer insertion -- sc: 54.32163592861726 rmsd 7.082363605499268\n",
      "9mer insertion -- sc: 54.32163592861726 rmsd 7.082363605499268\n",
      "9mer insertion -- sc: 54.32163592861726 rmsd 7.082363605499268\n",
      "9mer insertion -- sc: 54.32163592861726 rmsd 7.082363605499268\n",
      "9mer insertion -- sc: 54.32163592861726 rmsd 7.082363605499268\n",
      "9mer insertion -- sc: 54.32163592861726 rmsd 7.082363605499268\n",
      "9mer insertion -- sc: 54.32163592861726 rmsd 7.082363605499268\n",
      "9mer insertion -- sc: 54.32163592861726 rmsd 7.082363605499268\n",
      "9mer insertion -- sc: 54.32163592861726 rmsd 7.082363605499268\n",
      "9mer insertion -- sc: 54.32163592861726 rmsd 7.082363605499268\n",
      "9mer insertion -- sc: 54.32163592861726 rmsd 7.082363605499268\n",
      "9mer insertion -- sc: 54.32163592861726 rmsd 7.082363605499268\n",
      "9mer insertion -- sc: 54.32163592861726 rmsd 7.082363605499268\n",
      "9mer insertion -- sc: 54.32163592861726 rmsd 7.082363605499268\n",
      "9mer insertion -- sc: 54.32163592861726 rmsd 7.082363605499268\n",
      "9mer insertion -- sc: 54.32163592861726 rmsd 7.082363605499268\n",
      "9mer insertion -- sc: 54.32163592861726 rmsd 7.082363605499268\n",
      "9mer insertion -- sc: 54.32163592861726 rmsd 7.082363605499268\n",
      "9mer insertion -- sc: 54.32163592861726 rmsd 7.082363605499268\n",
      "9mer insertion -- sc: 54.32163592861726 rmsd 7.082363605499268\n",
      "9mer insertion -- sc: 54.32163592861726 rmsd 7.082363605499268\n",
      "9mer insertion -- sc: 54.32163592861726 rmsd 7.082363605499268\n",
      "9mer insertion -- sc: 54.5327307301275 rmsd 6.756448268890381\n",
      "9mer insertion -- sc: 54.53273073012749 rmsd 6.756448268890381\n",
      "9mer insertion -- sc: 54.53273073012749 rmsd 6.756448268890381\n",
      "9mer insertion -- sc: 54.53273073012749 rmsd 6.756448268890381\n",
      "9mer insertion -- sc: 54.53273073012749 rmsd 6.756448268890381\n",
      "9mer insertion -- sc: 54.53273073012749 rmsd 6.756448268890381\n",
      "3mer insertion -- sc: 54.53273073012749 rmsd 6.756448268890381\n",
      "3mer insertion -- sc: 54.53273073012749 rmsd 6.756448268890381\n",
      "3mer insertion -- sc: 54.53273073012749 rmsd 6.756448268890381\n",
      "3mer insertion -- sc: 54.53273073012749 rmsd 6.756448268890381\n",
      "3mer insertion -- sc: 54.53273073012749 rmsd 6.756448268890381\n",
      "3mer insertion -- sc: 54.53273073012749 rmsd 6.756448268890381\n",
      "3mer insertion -- sc: 54.53273073012749 rmsd 6.756448268890381\n",
      "3mer insertion -- sc: 54.53273073012749 rmsd 6.756448268890381\n",
      "3mer insertion -- sc: 54.53273073012749 rmsd 6.756448268890381\n",
      "3mer insertion -- sc: 54.53273073012749 rmsd 6.756448268890381\n",
      "3mer insertion -- sc: 56.03112094934585 rmsd 7.27032995223999\n",
      "3mer insertion -- sc: 56.03112094934585 rmsd 7.27032995223999\n",
      "3mer insertion -- sc: 56.03112094934585 rmsd 7.27032995223999\n",
      "3mer insertion -- sc: 56.03112094934585 rmsd 7.27032995223999\n",
      "3mer insertion -- sc: 56.03112094934585 rmsd 7.27032995223999\n",
      "3mer insertion -- sc: 56.03112094934585 rmsd 7.27032995223999\n",
      "3mer insertion -- sc: 59.076940074649045 rmsd 7.294966220855713\n",
      "3mer insertion -- sc: 50.52728579068968 rmsd 7.2541351318359375\n",
      "3mer insertion -- sc: 50.52728579068968 rmsd 7.2541351318359375\n",
      "3mer insertion -- sc: 50.52728579068968 rmsd 7.2541351318359375\n",
      "3mer insertion -- sc: 50.52728579068968 rmsd 7.2541351318359375\n",
      "3mer insertion -- sc: 50.52728579068968 rmsd 7.2541351318359375\n",
      "3mer insertion -- sc: 50.52728579068968 rmsd 7.2541351318359375\n",
      "3mer insertion -- sc: 50.52728579068968 rmsd 7.2541351318359375\n",
      "3mer insertion -- sc: 50.52728579068968 rmsd 7.2541351318359375\n",
      "3mer insertion -- sc: 48.31685742896671 rmsd 6.493011951446533\n",
      "3mer insertion -- sc: 48.31685742896671 rmsd 6.493011951446533\n",
      "3mer insertion -- sc: 48.31685742896671 rmsd 6.493011951446533\n",
      "3mer insertion -- sc: 48.31685742896671 rmsd 6.493011951446533\n",
      "3mer insertion -- sc: 48.31685742896671 rmsd 6.493011951446533\n",
      "3mer insertion -- sc: 50.5620172079657 rmsd 6.431695938110352\n",
      "3mer insertion -- sc: 50.5620172079657 rmsd 6.431695938110352\n",
      "3mer insertion -- sc: 50.5620172079657 rmsd 6.431695938110352\n",
      "3mer insertion -- sc: 50.5620172079657 rmsd 6.431695938110352\n",
      "3mer insertion -- sc: 50.5620172079657 rmsd 6.431695938110352\n",
      "3mer insertion -- sc: 45.00998191437761 rmsd 6.709072589874268\n",
      "3mer insertion -- sc: 43.90854465021178 rmsd 6.646031856536865\n",
      "3mer insertion -- sc: 43.90854465021178 rmsd 6.646031856536865\n",
      "3mer insertion -- sc: 43.90854465021178 rmsd 6.646031856536865\n",
      "3mer insertion -- sc: 43.90854465021178 rmsd 6.646031856536865\n",
      "3mer insertion -- sc: 43.90854465021178 rmsd 6.646031856536865\n",
      "3mer insertion -- sc: 43.90854465021178 rmsd 6.646031856536865\n",
      "3mer insertion -- sc: 43.90854465021178 rmsd 6.646031856536865\n",
      "3mer insertion -- sc: 43.90854465021178 rmsd 6.646031856536865\n",
      "3mer insertion -- sc: 43.90854465021178 rmsd 6.646031856536865\n",
      "3mer insertion -- sc: 43.90854465021178 rmsd 6.646031856536865\n",
      "3mer insertion -- sc: 43.90854465021178 rmsd 6.646031856536865\n",
      "3mer insertion -- sc: 43.90854465021178 rmsd 6.646031856536865\n",
      "3mer insertion -- sc: 43.90854465021178 rmsd 6.646031856536865\n",
      "3mer insertion -- sc: 43.90854465021178 rmsd 6.646031856536865\n",
      "3mer insertion -- sc: 43.90854465021178 rmsd 6.646031856536865\n",
      "3mer insertion -- sc: 43.90854465021178 rmsd 6.646031856536865\n",
      "3mer insertion -- sc: 43.90854465021178 rmsd 6.646031856536865\n",
      "3mer insertion -- sc: 43.90854465021178 rmsd 6.646031856536865\n",
      "3mer insertion -- sc: 43.90854465021178 rmsd 6.646031856536865\n",
      "3mer insertion -- sc: 43.90854465021178 rmsd 6.646031856536865\n",
      "3mer insertion -- sc: 43.90854465021178 rmsd 6.646031856536865\n",
      "3mer insertion -- sc: 43.90854465021178 rmsd 6.646031856536865\n",
      "3mer insertion -- sc: 43.90854465021178 rmsd 6.646031856536865\n",
      "3mer insertion -- sc: 43.90854465021178 rmsd 6.646031856536865\n",
      "3mer insertion -- sc: 44.399763534569146 rmsd 6.817151069641113\n",
      "3mer insertion -- sc: 44.399763534569146 rmsd 6.817151069641113\n",
      "3mer insertion -- sc: 44.399763534569146 rmsd 6.817151069641113\n",
      "3mer insertion -- sc: 44.399763534569146 rmsd 6.817151069641113\n",
      "3mer insertion -- sc: 44.399763534569146 rmsd 6.817151069641113\n",
      "3mer insertion -- sc: 44.399763534569146 rmsd 6.817151069641113\n",
      "3mer insertion -- sc: 44.399763534569146 rmsd 6.817151069641113\n",
      "3mer insertion -- sc: 44.399763534569146 rmsd 6.817151069641113\n",
      "3mer insertion -- sc: 44.399763534569146 rmsd 6.817151069641113\n",
      "3mer insertion -- sc: 44.399763534569146 rmsd 6.817151069641113\n",
      "3mer insertion -- sc: 44.399763534569146 rmsd 6.817151069641113\n",
      "3mer insertion -- sc: 44.399763534569146 rmsd 6.817151069641113\n",
      "3mer insertion -- sc: 44.399763534569146 rmsd 6.817151069641113\n",
      "3mer insertion -- sc: 44.399763534569146 rmsd 6.817151069641113\n",
      "3mer insertion -- sc: 44.399763534569146 rmsd 6.817151069641113\n",
      "3mer insertion -- sc: 44.399763534569146 rmsd 6.817151069641113\n",
      "3mer insertion -- sc: 44.399763534569146 rmsd 6.817151069641113\n",
      "3mer insertion -- sc: 44.399763534569146 rmsd 6.817151069641113\n",
      "3mer insertion -- sc: 44.399763534569146 rmsd 6.817151069641113\n",
      "3mer insertion -- sc: 44.399763534569146 rmsd 6.817151069641113\n",
      "3mer insertion -- sc: 44.399763534569146 rmsd 6.817151069641113\n",
      "3mer insertion -- sc: 44.399763534569146 rmsd 6.817151069641113\n",
      "3mer insertion -- sc: 44.399763534569146 rmsd 6.817151069641113\n",
      "3mer insertion -- sc: 44.399763534569146 rmsd 6.817151069641113\n",
      "3mer insertion -- sc: 44.399763534569146 rmsd 6.817151069641113\n",
      "3mer insertion -- sc: 44.399763534569146 rmsd 6.817151069641113\n",
      "3mer insertion -- sc: 44.399763534569146 rmsd 6.817151069641113\n",
      "3mer insertion -- sc: 44.399763534569146 rmsd 6.817151069641113\n",
      "3mer insertion -- sc: 44.399763534569146 rmsd 6.817151069641113\n",
      "3mer insertion -- sc: 44.399763534569146 rmsd 6.817151069641113\n",
      "3mer insertion -- sc: 44.399763534569146 rmsd 6.817151069641113\n",
      "3mer insertion -- sc: 44.399763534569146 rmsd 6.817151069641113\n",
      "3mer insertion -- sc: 44.399763534569146 rmsd 6.817151069641113\n",
      "3mer insertion -- sc: 40.93180871351793 rmsd 6.253345966339111\n",
      "3mer insertion -- sc: 40.93180871351793 rmsd 6.253345966339111\n",
      "3mer insertion -- sc: 40.93180871351793 rmsd 6.253345966339111\n",
      "3mer insertion -- sc: 40.93180871351793 rmsd 6.253345966339111\n",
      "3mer insertion -- sc: 38.15118176181351 rmsd 6.149461269378662\n",
      "3mer insertion -- sc: 38.15118176181351 rmsd 6.149461269378662\n",
      "3mer insertion -- sc: 38.15118176181351 rmsd 6.149461269378662\n"
     ]
    }
   ],
   "source": [
    "#24\n",
    "### BEGIN SOLUTION\n",
    "\n",
    "import numpy\n",
    "n_iterations = 100\n",
    "score = numpy.zeros((n_iterations,),dtype=float)\n",
    "ca_rmsd = numpy.zeros((n_iterations,), dtype=float)\n",
    "\n",
    "work_pose = Pose(pose_start)\n",
    "mc.reset(work_pose)\n",
    "mc.set_temperature(2.0) # I'm not asking the students to do this; I'm just teting stuff\n",
    "\n",
    "trial9 = TrialMover(repeat_9mer_frags, mc)\n",
    "trial3 = TrialMover(repeat_3mer_frags, mc)\n",
    "\n",
    "for i in range(n_iterations):\n",
    "    trial9.apply(work_pose)\n",
    "    sc = sfxn_cen(work_pose)\n",
    "    score[i] = sc\n",
    "    rmsd = CA_rmsd(native_cen,work_pose)\n",
    "    ca_rmsd[i] = rmsd\n",
    "    pmm.apply(work_pose)\n",
    "\n",
    "for i in range(n_iterations):\n",
    "    print(\"9mer insertion -- sc:\", score[i], \"rmsd\", ca_rmsd[i])\n",
    "\n",
    "for i in range(n_iterations):\n",
    "    trial3.apply(work_pose)\n",
    "    sc = sfxn_cen(work_pose)\n",
    "    score[i] = sc\n",
    "    rmsd = CA_rmsd(native_cen,work_pose)\n",
    "    ca_rmsd[i] = rmsd\n",
    "    pmm.apply(work_pose)\n",
    "\n",
    "for i in range(n_iterations):\n",
    "    print(\"3mer insertion -- sc:\", score[i], \"rmsd\", ca_rmsd[i])\n",
    "\n",
    "\n",
    "    \n",
    "### END SOLUTION"
   ]
  },
  {
   "cell_type": "markdown",
   "metadata": {},
   "source": [
    "Let's try to refine the structure that comes out of the 9- and 3-mer fragment insertion stage above. Construct a new sequence mover with just the small mover and the shear movers (i.e. no RandomTorsionMover)."
   ]
  },
  {
   "cell_type": "code",
   "execution_count": 27,
   "metadata": {
    "nbgrader": {
     "grade": true,
     "grade_id": "cell-227f1c100599dfca",
     "locked": false,
     "points": 0,
     "schema_version": 3,
     "solution": true
    }
   },
   "outputs": [],
   "source": [
    "#25\n",
    "### BEGIN SOLUTION\n",
    "\n",
    "seq_ss = pyrosetta.rosetta.protocols.moves.SequenceMover()\n",
    "seq_ss.add_mover(small)\n",
    "seq_ss.add_mover(shear)\n",
    "\n",
    "### END SOLUTION"
   ]
  },
  {
   "cell_type": "markdown",
   "metadata": {},
   "source": [
    "Construct a trial mover with the new sequence mover and the `MonteCarlo` object."
   ]
  },
  {
   "cell_type": "code",
   "execution_count": 28,
   "metadata": {
    "nbgrader": {
     "grade": true,
     "grade_id": "cell-6bf71833feb85906",
     "locked": false,
     "points": 0,
     "schema_version": 3,
     "solution": true
    }
   },
   "outputs": [],
   "source": [
    "#26\n",
    "### BEGIN SOLUTION\n",
    "\n",
    "trial_ss = TrialMover(seq_ss, mc)\n",
    "\n",
    "### END SOLUTION"
   ]
  },
  {
   "cell_type": "markdown",
   "metadata": {},
   "source": [
    "Now, copy-paste the trial-mover loop and score printing from above to run the this refinement stage of the protocol. This time, however, do not reset the MonteCarlo object or reassign your working pose to the `pose_start`."
   ]
  },
  {
   "cell_type": "code",
   "execution_count": 29,
   "metadata": {
    "nbgrader": {
     "grade": true,
     "grade_id": "cell-738b7b4528abac38",
     "locked": false,
     "points": 0,
     "schema_version": 3,
     "solution": true
    }
   },
   "outputs": [
    {
     "name": "stdout",
     "output_type": "stream",
     "text": [
      "small/sheer refinement -- sc: 38.15118176181351 rmsd 6.149461269378662\n",
      "small/sheer refinement -- sc: 38.15118176181351 rmsd 6.149461269378662\n",
      "small/sheer refinement -- sc: 38.15118176181351 rmsd 6.149461269378662\n",
      "small/sheer refinement -- sc: 38.15118176181351 rmsd 6.149461269378662\n",
      "small/sheer refinement -- sc: 38.15118176181351 rmsd 6.149461269378662\n",
      "small/sheer refinement -- sc: 38.15118176181351 rmsd 6.149461269378662\n",
      "small/sheer refinement -- sc: 38.058913748859005 rmsd 6.186352729797363\n",
      "small/sheer refinement -- sc: 38.058913748859005 rmsd 6.186352729797363\n",
      "small/sheer refinement -- sc: 37.19698522249699 rmsd 6.097635269165039\n",
      "small/sheer refinement -- sc: 37.19698522249699 rmsd 6.097635269165039\n",
      "small/sheer refinement -- sc: 37.19698522249699 rmsd 6.097635269165039\n",
      "small/sheer refinement -- sc: 37.19698522249699 rmsd 6.097635269165039\n",
      "small/sheer refinement -- sc: 37.19698522249699 rmsd 6.097635269165039\n",
      "small/sheer refinement -- sc: 37.19698522249699 rmsd 6.097635269165039\n",
      "small/sheer refinement -- sc: 37.19698522249699 rmsd 6.097635269165039\n",
      "small/sheer refinement -- sc: 37.19698522249699 rmsd 6.097635269165039\n",
      "small/sheer refinement -- sc: 37.19698522249699 rmsd 6.097635269165039\n",
      "small/sheer refinement -- sc: 37.19698522249699 rmsd 6.097635269165039\n",
      "small/sheer refinement -- sc: 36.89036933380776 rmsd 6.139828681945801\n",
      "small/sheer refinement -- sc: 36.884848315810686 rmsd 6.100398063659668\n",
      "small/sheer refinement -- sc: 36.884848315810686 rmsd 6.100398063659668\n",
      "small/sheer refinement -- sc: 35.69540395630706 rmsd 6.154469966888428\n",
      "small/sheer refinement -- sc: 35.69540395630706 rmsd 6.154469966888428\n",
      "small/sheer refinement -- sc: 36.96404939574204 rmsd 6.166815757751465\n",
      "small/sheer refinement -- sc: 37.34936432867734 rmsd 6.110259532928467\n",
      "small/sheer refinement -- sc: 37.34936432867734 rmsd 6.110259532928467\n",
      "small/sheer refinement -- sc: 36.240176814453726 rmsd 6.152027606964111\n",
      "small/sheer refinement -- sc: 36.00564888316801 rmsd 6.160391807556152\n",
      "small/sheer refinement -- sc: 35.71164663259741 rmsd 6.1754655838012695\n",
      "small/sheer refinement -- sc: 35.71164663259741 rmsd 6.1754655838012695\n",
      "small/sheer refinement -- sc: 35.470098111823894 rmsd 6.246448993682861\n",
      "small/sheer refinement -- sc: 37.98524725663042 rmsd 6.18660306930542\n",
      "small/sheer refinement -- sc: 37.98524725663042 rmsd 6.18660306930542\n",
      "small/sheer refinement -- sc: 37.98524725663042 rmsd 6.18660306930542\n",
      "small/sheer refinement -- sc: 37.98524725663042 rmsd 6.18660306930542\n",
      "small/sheer refinement -- sc: 37.93487080335681 rmsd 6.1727614402771\n",
      "small/sheer refinement -- sc: 37.93487080335681 rmsd 6.1727614402771\n",
      "small/sheer refinement -- sc: 37.93487080335681 rmsd 6.1727614402771\n",
      "small/sheer refinement -- sc: 37.93487080335681 rmsd 6.1727614402771\n",
      "small/sheer refinement -- sc: 37.93487080335681 rmsd 6.1727614402771\n",
      "small/sheer refinement -- sc: 36.53455190927938 rmsd 6.159709453582764\n",
      "small/sheer refinement -- sc: 37.58996744780201 rmsd 6.287914752960205\n",
      "small/sheer refinement -- sc: 36.215175364059725 rmsd 6.256096363067627\n",
      "small/sheer refinement -- sc: 36.215175364059725 rmsd 6.256096363067627\n",
      "small/sheer refinement -- sc: 36.215175364059725 rmsd 6.256096363067627\n",
      "small/sheer refinement -- sc: 36.56900849900262 rmsd 6.219119548797607\n",
      "small/sheer refinement -- sc: 36.56900849900263 rmsd 6.219119548797607\n",
      "small/sheer refinement -- sc: 36.56900849900263 rmsd 6.219119548797607\n",
      "small/sheer refinement -- sc: 36.56900849900263 rmsd 6.219119548797607\n",
      "small/sheer refinement -- sc: 36.56900849900263 rmsd 6.219119548797607\n",
      "small/sheer refinement -- sc: 36.39083212837024 rmsd 6.248622417449951\n",
      "small/sheer refinement -- sc: 36.39083212837024 rmsd 6.248622417449951\n",
      "small/sheer refinement -- sc: 36.41564096219584 rmsd 6.305543899536133\n",
      "small/sheer refinement -- sc: 35.62745480485387 rmsd 6.2507405281066895\n",
      "small/sheer refinement -- sc: 36.577746711931525 rmsd 6.279819488525391\n",
      "small/sheer refinement -- sc: 36.577746711931525 rmsd 6.279819488525391\n",
      "small/sheer refinement -- sc: 36.577746711931525 rmsd 6.279819488525391\n",
      "small/sheer refinement -- sc: 36.577746711931525 rmsd 6.279819488525391\n",
      "small/sheer refinement -- sc: 36.577746711931525 rmsd 6.279819488525391\n",
      "small/sheer refinement -- sc: 36.577746711931525 rmsd 6.279819488525391\n",
      "small/sheer refinement -- sc: 36.577746711931525 rmsd 6.279819488525391\n",
      "small/sheer refinement -- sc: 36.577746711931525 rmsd 6.279819488525391\n",
      "small/sheer refinement -- sc: 36.577746711931525 rmsd 6.279819488525391\n",
      "small/sheer refinement -- sc: 34.77065995669742 rmsd 6.285458564758301\n",
      "small/sheer refinement -- sc: 34.77065995669742 rmsd 6.285458564758301\n",
      "small/sheer refinement -- sc: 36.65452070968222 rmsd 6.3707661628723145\n",
      "small/sheer refinement -- sc: 36.65452070968222 rmsd 6.3707661628723145\n",
      "small/sheer refinement -- sc: 35.055546346346006 rmsd 6.254278182983398\n",
      "small/sheer refinement -- sc: 35.055546346346006 rmsd 6.254278182983398\n",
      "small/sheer refinement -- sc: 35.055546346346006 rmsd 6.254278182983398\n",
      "small/sheer refinement -- sc: 35.055546346346006 rmsd 6.254278182983398\n",
      "small/sheer refinement -- sc: 35.055546346346006 rmsd 6.254278182983398\n",
      "small/sheer refinement -- sc: 35.055546346346006 rmsd 6.254278182983398\n",
      "small/sheer refinement -- sc: 35.055546346346006 rmsd 6.254278182983398\n",
      "small/sheer refinement -- sc: 35.055546346346006 rmsd 6.254278182983398\n",
      "small/sheer refinement -- sc: 35.055546346346006 rmsd 6.254278182983398\n",
      "small/sheer refinement -- sc: 35.055546346346006 rmsd 6.254278182983398\n",
      "small/sheer refinement -- sc: 35.055546346346006 rmsd 6.254278182983398\n",
      "small/sheer refinement -- sc: 35.055546346346006 rmsd 6.254278182983398\n",
      "small/sheer refinement -- sc: 35.055546346346006 rmsd 6.254278182983398\n",
      "small/sheer refinement -- sc: 35.055546346346006 rmsd 6.254278182983398\n",
      "small/sheer refinement -- sc: 35.055546346346006 rmsd 6.254278182983398\n",
      "small/sheer refinement -- sc: 35.055546346346006 rmsd 6.254278182983398\n",
      "small/sheer refinement -- sc: 35.055546346346006 rmsd 6.254278182983398\n",
      "small/sheer refinement -- sc: 35.055546346346006 rmsd 6.254278182983398\n",
      "small/sheer refinement -- sc: 35.055546346346006 rmsd 6.254278182983398\n",
      "small/sheer refinement -- sc: 35.055546346346006 rmsd 6.254278182983398\n",
      "small/sheer refinement -- sc: 35.055546346346006 rmsd 6.254278182983398\n",
      "small/sheer refinement -- sc: 35.055546346346006 rmsd 6.254278182983398\n",
      "small/sheer refinement -- sc: 35.055546346346006 rmsd 6.254278182983398\n",
      "small/sheer refinement -- sc: 35.055546346346006 rmsd 6.254278182983398\n",
      "small/sheer refinement -- sc: 35.055546346346006 rmsd 6.254278182983398\n",
      "small/sheer refinement -- sc: 35.055546346346006 rmsd 6.254278182983398\n",
      "small/sheer refinement -- sc: 35.055546346346006 rmsd 6.254278182983398\n",
      "small/sheer refinement -- sc: 35.055546346346006 rmsd 6.254278182983398\n",
      "small/sheer refinement -- sc: 35.055546346346006 rmsd 6.254278182983398\n",
      "small/sheer refinement -- sc: 35.055546346346006 rmsd 6.254278182983398\n",
      "small/sheer refinement -- sc: 35.055546346346006 rmsd 6.254278182983398\n",
      "small/sheer refinement -- sc: 35.055546346346006 rmsd 6.254278182983398\n",
      "small/sheer refinement -- sc: 35.055546346346006 rmsd 6.254278182983398\n"
     ]
    }
   ],
   "source": [
    "#27\n",
    "### BEGIN SOLUTION\n",
    "mc.set_temperature(1.0)\n",
    "for i in range(n_iterations):\n",
    "    trial_ss.apply(work_pose)\n",
    "    sc = sfxn_cen(work_pose)\n",
    "    score[i] = sc\n",
    "    rmsd = CA_rmsd(native_cen,work_pose)\n",
    "    ca_rmsd[i] = rmsd\n",
    "    pmm.apply(work_pose)\n",
    "\n",
    "for i in range(n_iterations):\n",
    "    print(\"small/sheer refinement -- sc:\", score[i], \"rmsd\", ca_rmsd[i])\n",
    "\n",
    "\n",
    "### END SOLUTION"
   ]
  },
  {
   "cell_type": "markdown",
   "metadata": {},
   "source": [
    "## Recovering the best structure and minimizing"
   ]
  },
  {
   "cell_type": "markdown",
   "metadata": {},
   "source": [
    "We've run a Monte Carlo simulation, but this doesn't guarantee that the final accepted pose was the best scoring pose that we came across during the simulation. Use MonteCarlo's `recover_low()` function to get the lowest scoring pose. Print the score of this Pose. Does it have a lower score than the score printed for the last step of your fragment insertion code above? How does its score compare to that of the native? What is its CA RMSD?"
   ]
  },
  {
   "cell_type": "code",
   "execution_count": 30,
   "metadata": {
    "nbgrader": {
     "grade": true,
     "grade_id": "cell-4cf703bfec0e792d",
     "locked": false,
     "points": 0,
     "schema_version": 3,
     "solution": true
    }
   },
   "outputs": [
    {
     "name": "stdout",
     "output_type": "stream",
     "text": [
      "best pose score: 34.77065995669742\n",
      "best pose RMSD: 6.285458564758301\n"
     ]
    }
   ],
   "source": [
    "#28\n",
    "### BEGIN SOLUTION\n",
    "best_pose = Pose()\n",
    "mc.recover_low(best_pose)\n",
    "print(\"best pose score:\", sfxn_cen(best_pose))\n",
    "print(\"best pose RMSD:\", CA_rmsd(native_cen,best_pose))\n",
    "### END SOLUTION"
   ]
  },
  {
   "cell_type": "markdown",
   "metadata": {},
   "source": [
    "In this lab, we have only used Monte Carlo and not minimization. As a last step, let's use the MinMover to minimize the pose periodically (located in protocols.minimization_packing). Code for the MinMover is already written in the cell below."
   ]
  },
  {
   "cell_type": "code",
   "execution_count": 31,
   "metadata": {},
   "outputs": [],
   "source": [
    "from pyrosetta.rosetta.protocols.minimization_packing import *\n",
    "min_mover = MinMover()\n",
    "min_mover.set_movemap(mm)\n",
    "min_mover.score_function(sfxn_cen)"
   ]
  },
  {
   "cell_type": "markdown",
   "metadata": {},
   "source": [
    "Apply the `MinMover` on your recovered pose. Send the changes to PyMOL using the pymol mover. Print out the score and the RMSD after minimization. Is the score less, what about the RMSD?"
   ]
  },
  {
   "cell_type": "code",
   "execution_count": 32,
   "metadata": {
    "nbgrader": {
     "grade": true,
     "grade_id": "cell-bf058940ffbe3f84",
     "locked": false,
     "points": 0,
     "schema_version": 3,
     "solution": true
    }
   },
   "outputs": [
    {
     "name": "stdout",
     "output_type": "stream",
     "text": [
      "after minimization: 34.00173730587509 rmsd: 6.265566825866699\n"
     ]
    }
   ],
   "source": [
    "#29\n",
    "### BEGIN SOLUTION\n",
    "min_mover.apply(best_pose)\n",
    "print(\"after minimization:\", sfxn_cen(best_pose), \"rmsd:\", CA_rmsd(native_cen, best_pose))\n",
    "### END SOLUTION"
   ]
  },
  {
   "cell_type": "code",
   "execution_count": null,
   "metadata": {},
   "outputs": [],
   "source": []
  }
 ],
 "metadata": {
  "celltoolbar": "Create Assignment",
  "kernelspec": {
   "display_name": "Python 3",
   "language": "python",
   "name": "python3"
  },
  "language_info": {
   "codemirror_mode": {
    "name": "ipython",
    "version": 3
   },
   "file_extension": ".py",
   "mimetype": "text/x-python",
   "name": "python",
   "nbconvert_exporter": "python",
   "pygments_lexer": "ipython3",
   "version": "3.7.7"
  }
 },
 "nbformat": 4,
 "nbformat_minor": 2
}
