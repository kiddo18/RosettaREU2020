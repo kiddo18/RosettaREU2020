{
 "cells": [
  {
   "cell_type": "markdown",
   "metadata": {},
   "source": [
    "# Folding Lab"
   ]
  },
  {
   "cell_type": "markdown",
   "metadata": {},
   "source": [
    "## Building the pose"
   ]
  },
  {
   "cell_type": "markdown",
   "metadata": {},
   "source": [
    "In this lab session, you will be folding a 30 residue protein with basic movers. Start by initializing PyRosetta as usual."
   ]
  },
  {
   "cell_type": "code",
   "execution_count": 1,
   "metadata": {
    "deletable": false,
    "nbgrader": {
     "cell_type": "code",
     "checksum": "cafb1316f472433c5c343e35daf91dc2",
     "grade": true,
     "grade_id": "cell-51bf9a2d3d2cf150",
     "locked": false,
     "points": 0,
     "schema_version": 3,
     "solution": true
    }
   },
   "outputs": [
    {
     "name": "stdout",
     "output_type": "stream",
     "text": [
      "PyRosetta-4 2020 [Rosetta PyRosetta4.conda.mac.python37.Release 2020.02+release.22ef835b4a2647af94fcd6421a85720f07eddf12 2020-01-05T17:31:56] retrieved from: http://www.pyrosetta.org\n",
      "(C) Copyright Rosetta Commons Member Institutions. Created in JHU by Sergey Lyskov and PyRosetta Team.\n",
      "\u001b[0mcore.init: {0} \u001b[0mChecking for fconfig files in pwd and ./rosetta/flags\n",
      "\u001b[0mcore.init: {0} \u001b[0mRosetta version: PyRosetta4.conda.mac.python37.Release r242 2020.02+release.22ef835b4a2 22ef835b4a2647af94fcd6421a85720f07eddf12 http://www.pyrosetta.org 2020-01-05T17:31:56\n",
      "\u001b[0mcore.init: {0} \u001b[0mcommand: PyRosetta -ex1 -ex2aro -database /Users/paul/anaconda3/envs/pyrosetta_env/lib/python3.7/site-packages/pyrosetta/database\n",
      "\u001b[0mbasic.random.init_random_generator: {0} \u001b[0m'RNG device' seed mode, using '/dev/urandom', seed=1531610209 seed_offset=0 real_seed=1531610209 thread_index=0\n",
      "\u001b[0mbasic.random.init_random_generator: {0} \u001b[0mRandomGenerator:init: Normal mode, seed=1531610209 RG_type=mt19937\n"
     ]
    }
   ],
   "source": [
    "#1\n",
    "# YOUR CODE HERE\n",
    "from pyrosetta import *\n",
    "init()"
   ]
  },
  {
   "cell_type": "markdown",
   "metadata": {},
   "source": [
    "We would like to visualize folding as it happens. Before starting with the folding protocol, instantiate a PyMOL mover. Make sure you retain history to view the entire folding process. Start a PyMOL session on the side and make sure it says `PyMOL <---> PyRosetta link started!` on its commnad line."
   ]
  },
  {
   "cell_type": "code",
   "execution_count": 2,
   "metadata": {
    "deletable": false,
    "nbgrader": {
     "cell_type": "code",
     "checksum": "7b8d95e8450f4f7a27977e938142dfca",
     "grade": true,
     "grade_id": "cell-9197e4c46ebbaec4",
     "locked": false,
     "points": 0,
     "schema_version": 3,
     "solution": true
    }
   },
   "outputs": [],
   "source": [
    "#2\n",
    "# YOUR CODE HERE\n",
    "#pmm = pyrosetta.PyMOLMover()"
   ]
  },
  {
   "cell_type": "markdown",
   "metadata": {},
   "source": [
    "Initialize a pose from sequence using the FASTA file given in this folder, `1qgm.fatsa`. Use the PyMOL mover to view the pose. You should see a long thread-like structure. Check the backbone dihedrals of any residue (except the first and last). What are the values of phi and psi dihedrals?"
   ]
  },
  {
   "cell_type": "code",
   "execution_count": 3,
   "metadata": {
    "deletable": false,
    "nbgrader": {
     "cell_type": "code",
     "checksum": "cab9df7effcb3df2566c1e05d82853a4",
     "grade": true,
     "grade_id": "cell-eb90bf43423cdf64",
     "locked": false,
     "points": 0,
     "schema_version": 3,
     "solution": true
    }
   },
   "outputs": [
    {
     "name": "stdout",
     "output_type": "stream",
     "text": [
      "\u001b[0mcore.chemical.GlobalResidueTypeSet: {0} \u001b[0mFinished initializing fa_standard residue type set.  Created 980 residue types\n",
      "\u001b[0mcore.chemical.GlobalResidueTypeSet: {0} \u001b[0mTotal time to initialize 1.03042 seconds.\n",
      "PDB file name: VIHCDAAT\n",
      "Total residues: 30\n",
      "Sequence: VIHCDAATICPDGTTCSLSPYGVWYCSPFS\n",
      "Fold tree:\n",
      "FOLD_TREE  EDGE 1 30 -1 \n"
     ]
    }
   ],
   "source": [
    "#3\n",
    "# YOUR CODE HERE\n",
    "#VIHCDAATICPDGTTCSLSPYGVWYCSPFS\n",
    "seq = pyrosetta.rosetta.core.sequence.read_fasta_file_return_str('1qgm.fasta')\n",
    "pose = pose_from_sequence('VIHCDAATICPDGTTCSLSPYGVWYCSPFS')\n",
    "print(pose)"
   ]
  },
  {
   "cell_type": "code",
   "execution_count": 4,
   "metadata": {},
   "outputs": [],
   "source": [
    "pmm = pyrosetta.PyMOLMover()\n",
    "pmm.apply(pose)"
   ]
  },
  {
   "cell_type": "markdown",
   "metadata": {},
   "source": [
    "Pick any residue in the pose (except for an Ala or Gly) and print out information about it using `pose.residue(resno)`. How many atoms do you see? You might also want to go to PyMOL and take a look at this residue in stick representation"
   ]
  },
  {
   "cell_type": "code",
   "execution_count": 5,
   "metadata": {
    "deletable": false,
    "nbgrader": {
     "cell_type": "code",
     "checksum": "a05b89364b53cf5772391b5aa0fecf8f",
     "grade": true,
     "grade_id": "cell-d5d2de8e79a3a346",
     "locked": false,
     "points": 0,
     "schema_version": 3,
     "solution": true
    }
   },
   "outputs": [
    {
     "name": "stdout",
     "output_type": "stream",
     "text": [
      "Residue 4: CYS (CYS, C):\n",
      "Base: CYS\n",
      " Properties: POLYMER PROTEIN CANONICAL_AA SC_ORBITALS METALBINDING SIDECHAIN_THIOL ALPHA_AA L_AA\n",
      " Variant types:\n",
      " Main-chain atoms:  N    CA   C  \n",
      " Backbone atoms:    N    CA   C    O    H    HA \n",
      " Side-chain atoms:  CB   SG  1HB  2HB   HG \n",
      "Atom Coordinates:\n",
      "   N  : 9.5345, 5.35895, 5.86727e-16\n",
      "   CA : 10.1896, 6.66148, -2.44224e-17\n",
      "   C  : 11.7059, 6.51548, 9.3584e-16\n",
      "   O  : 12.2319, 5.40254, 1.59757e-15\n",
      "   CB : 9.76138, 7.47898, 1.21891\n",
      "   SG : 8.58811, 6.62992, 2.30256\n",
      "   H  : 10.1015, 4.5231, 1.31674e-15\n",
      "   HA : 9.89167, 7.19849, -0.900599\n",
      "  1HB : 10.6399, 7.73826, 1.81014\n",
      "  2HB : 9.30234, 8.41073, 0.88903\n",
      "   HG : 8.47609, 7.61688, 3.18607\n",
      "Mirrored relative to coordinates in ResidueType: FALSE\n",
      "\n",
      "Total number of res = 30\n"
     ]
    }
   ],
   "source": [
    "#4\n",
    "# YOUR CODE HERE\n",
    "resno = 4\n",
    "res = pose.residue(resno)\n",
    "print(res)\n",
    "print(\"Total number of res =\", pose.total_residue())\n",
    "# 11 atoms on full-atom res"
   ]
  },
  {
   "cell_type": "markdown",
   "metadata": {},
   "source": [
    "## Using centroid mode"
   ]
  },
  {
   "cell_type": "markdown",
   "metadata": {},
   "source": [
    "In this entire lab, we will work entirely in centroid mode. So inistatiate a `SwitchResidueTypeSetMover` and apply it on the pose. Apply the PyMOL mover again."
   ]
  },
  {
   "cell_type": "code",
   "execution_count": 6,
   "metadata": {
    "deletable": false,
    "nbgrader": {
     "cell_type": "code",
     "checksum": "f2e2a51ef68420cca12e4382d14efac4",
     "grade": true,
     "grade_id": "cell-2880ed0ff9e0689a",
     "locked": false,
     "points": 0,
     "schema_version": 3,
     "solution": true
    }
   },
   "outputs": [
    {
     "name": "stdout",
     "output_type": "stream",
     "text": [
      "\u001b[0mcore.chemical.GlobalResidueTypeSet: {0} \u001b[0mFinished initializing centroid residue type set.  Created 62 residue types\n",
      "\u001b[0mcore.chemical.GlobalResidueTypeSet: {0} \u001b[0mTotal time to initialize 0.042272 seconds.\n"
     ]
    }
   ],
   "source": [
    "#5\n",
    "# YOUR CODE HERE\n",
    "switchMover = SwitchResidueTypeSetMover('centroid')\n",
    "switchMover.apply(pose)"
   ]
  },
  {
   "cell_type": "code",
   "execution_count": 7,
   "metadata": {},
   "outputs": [],
   "source": [
    "unfolded_pose = pose.clone()"
   ]
  },
  {
   "cell_type": "code",
   "execution_count": 8,
   "metadata": {},
   "outputs": [
    {
     "name": "stdout",
     "output_type": "stream",
     "text": [
      "Help on class SwitchResidueTypeSetMover in module pyrosetta.rosetta.protocols.simple_moves:\n",
      "\n",
      "class SwitchResidueTypeSetMover(pyrosetta.rosetta.protocols.moves.Mover)\n",
      " |  A mover that switches a pose between residue type sets (e.g. centroid and fullatom)\n",
      " |  \n",
      " |  examples:\n",
      " |      switch = protocols::simple_moves::SwitchResidueTypeSetMover(\"centroid\")\n",
      " |  See also:\n",
      " |      Pose\n",
      " |      Residue\n",
      " |      ResidueType\n",
      " |      ResidueTypeSet\n",
      " |  \n",
      " |  Method resolution order:\n",
      " |      SwitchResidueTypeSetMover\n",
      " |      pyrosetta.rosetta.protocols.moves.Mover\n",
      " |      pybind11_builtins.pybind11_object\n",
      " |      builtins.object\n",
      " |  \n",
      " |  Methods defined here:\n",
      " |  \n",
      " |  __init__(...)\n",
      " |      __init__(*args, **kwargs)\n",
      " |      Overloaded function.\n",
      " |      \n",
      " |      1. __init__(self: pyrosetta.rosetta.protocols.simple_moves.SwitchResidueTypeSetMover) -> None\n",
      " |      \n",
      " |      2. __init__(self: pyrosetta.rosetta.protocols.simple_moves.SwitchResidueTypeSetMover, : str) -> None\n",
      " |      \n",
      " |      3. __init__(self: pyrosetta.rosetta.protocols.simple_moves.SwitchResidueTypeSetMover, arg0: pyrosetta.rosetta.protocols.simple_moves.SwitchResidueTypeSetMover) -> None\n",
      " |      \n",
      " |      4. __init__(self: pyrosetta.rosetta.protocols.simple_moves.SwitchResidueTypeSetMover, arg0: pyrosetta.rosetta.protocols.simple_moves.SwitchResidueTypeSetMover) -> None\n",
      " |  \n",
      " |  __str__(...)\n",
      " |      __str__(self: pyrosetta.rosetta.protocols.simple_moves.SwitchResidueTypeSetMover) -> str\n",
      " |  \n",
      " |  apply(...)\n",
      " |      apply(self: pyrosetta.rosetta.protocols.simple_moves.SwitchResidueTypeSetMover, pose: pyrosetta.rosetta.core.pose.Pose) -> None\n",
      " |      \n",
      " |      Applies ResidueTypeSet converion on the pose\n",
      " |       \n",
      " |      \n",
      " |      : a single protocols::moves::Mover only converts in ONE direction e.g. to centroid\n",
      " |      \n",
      " |      C++: protocols::simple_moves::SwitchResidueTypeSetMover::apply(class core::pose::Pose &) --> void\n",
      " |  \n",
      " |  assign(...)\n",
      " |      assign(self: pyrosetta.rosetta.protocols.simple_moves.SwitchResidueTypeSetMover, : pyrosetta.rosetta.protocols.simple_moves.SwitchResidueTypeSetMover) -> pyrosetta.rosetta.protocols.simple_moves.SwitchResidueTypeSetMover\n",
      " |      \n",
      " |      C++: protocols::simple_moves::SwitchResidueTypeSetMover::operator=(const class protocols::simple_moves::SwitchResidueTypeSetMover &) --> class protocols::simple_moves::SwitchResidueTypeSetMover &\n",
      " |  \n",
      " |  clone(...)\n",
      " |      clone(self: pyrosetta.rosetta.protocols.simple_moves.SwitchResidueTypeSetMover) -> pyrosetta.rosetta.protocols.moves.Mover\n",
      " |      \n",
      " |      C++: protocols::simple_moves::SwitchResidueTypeSetMover::clone() const --> class std::shared_ptr<class protocols::moves::Mover>\n",
      " |  \n",
      " |  fresh_instance(...)\n",
      " |      fresh_instance(self: pyrosetta.rosetta.protocols.simple_moves.SwitchResidueTypeSetMover) -> pyrosetta.rosetta.protocols.moves.Mover\n",
      " |      \n",
      " |      C++: protocols::simple_moves::SwitchResidueTypeSetMover::fresh_instance() const --> class std::shared_ptr<class protocols::moves::Mover>\n",
      " |  \n",
      " |  get_name(...)\n",
      " |      get_name(self: pyrosetta.rosetta.protocols.simple_moves.SwitchResidueTypeSetMover) -> str\n",
      " |      \n",
      " |      C++: protocols::simple_moves::SwitchResidueTypeSetMover::get_name() const --> std::string\n",
      " |  \n",
      " |  get_residue_type_set(...)\n",
      " |      get_residue_type_set(self: pyrosetta.rosetta.protocols.simple_moves.SwitchResidueTypeSetMover) -> str\n",
      " |      \n",
      " |      C++: protocols::simple_moves::SwitchResidueTypeSetMover::get_residue_type_set() const --> std::string\n",
      " |  \n",
      " |  parse_my_tag(...)\n",
      " |      parse_my_tag(self: pyrosetta.rosetta.protocols.simple_moves.SwitchResidueTypeSetMover, tag: pyrosetta.rosetta.utility.tag.Tag, data: pyrosetta.rosetta.basic.datacache.DataMap, filters: pyrosetta.rosetta.std.map_std_string_std_shared_ptr_protocols_filters_Filter_t, movers: pyrosetta.rosetta.std.map_const_std_string_std_shared_ptr_protocols_moves_Mover_t, pose: pyrosetta.rosetta.core.pose.Pose) -> None\n",
      " |      \n",
      " |      C++: protocols::simple_moves::SwitchResidueTypeSetMover::parse_my_tag(class std::shared_ptr<const class utility::tag::Tag>, class basic::datacache::DataMap &, const class std::map<std::string, class std::shared_ptr<class protocols::filters::Filter>, struct std::less<std::string >, class std::allocator<struct std::pair<const std::string, class std::shared_ptr<class protocols::filters::Filter> > > > &, const class std::map<const std::string, class std::shared_ptr<class protocols::moves::Mover>, struct std::less<const std::string >, class std::allocator<struct std::pair<const std::string, class std::shared_ptr<class protocols::moves::Mover> > > > &, const class core::pose::Pose &) --> void\n",
      " |  \n",
      " |  show(...)\n",
      " |      show(*args, **kwargs)\n",
      " |      Overloaded function.\n",
      " |      \n",
      " |      1. show(self: pyrosetta.rosetta.protocols.simple_moves.SwitchResidueTypeSetMover) -> None\n",
      " |      \n",
      " |      2. show(self: pyrosetta.rosetta.protocols.simple_moves.SwitchResidueTypeSetMover, output: pyrosetta.rosetta.std.ostream) -> None\n",
      " |      \n",
      " |      C++: protocols::simple_moves::SwitchResidueTypeSetMover::show(std::ostream &) const --> void\n",
      " |  \n",
      " |  type_set_tag(...)\n",
      " |      type_set_tag(self: pyrosetta.rosetta.protocols.simple_moves.SwitchResidueTypeSetMover, type_set_tag_in: str) -> None\n",
      " |      \n",
      " |      C++: protocols::simple_moves::SwitchResidueTypeSetMover::type_set_tag(const std::string &) --> void\n",
      " |  \n",
      " |  ----------------------------------------------------------------------\n",
      " |  Static methods defined here:\n",
      " |  \n",
      " |  mover_name(...) from builtins.PyCapsule\n",
      " |      mover_name() -> str\n",
      " |      \n",
      " |      C++: protocols::simple_moves::SwitchResidueTypeSetMover::mover_name() --> std::string\n",
      " |  \n",
      " |  provide_xml_schema(...) from builtins.PyCapsule\n",
      " |      provide_xml_schema(xsd: pyrosetta.rosetta.utility.tag.XMLSchemaDefinition) -> None\n",
      " |      \n",
      " |      C++: protocols::simple_moves::SwitchResidueTypeSetMover::provide_xml_schema(class utility::tag::XMLSchemaDefinition &) --> void\n",
      " |  \n",
      " |  ----------------------------------------------------------------------\n",
      " |  Methods inherited from pyrosetta.rosetta.protocols.moves.Mover:\n",
      " |  \n",
      " |  clear_info(...)\n",
      " |      clear_info(self: pyrosetta.rosetta.protocols.moves.Mover) -> None\n",
      " |      \n",
      " |      Strings container can be used to return miscellaneous info (as std::string) from a mover, such as notes about the results of apply(). The job distributor (Apr 09 vintage) will check this function to see if your protocol wants to add string info to the Job that ran this mover. One way this can be useful is that later, a JobOutputter may include/append this info to an output file.\n",
      " |       \n",
      " |      \n",
      " |       clear_info is called by jd2 before calling apply\n",
      " |      \n",
      " |      C++: protocols::moves::Mover::clear_info() --> void\n",
      " |  \n",
      " |  create(...)\n",
      " |      create(self: pyrosetta.rosetta.protocols.moves.Mover) -> pyrosetta.rosetta.protocols.moves.Mover\n",
      " |      \n",
      " |      C++: protocols::moves::Mover::create() --> class std::shared_ptr<class protocols::moves::Mover>\n",
      " |  \n",
      " |  get_additional_output(...)\n",
      " |      get_additional_output(self: pyrosetta.rosetta.protocols.moves.Mover) -> pyrosetta.rosetta.core.pose.Pose\n",
      " |      \n",
      " |      fpd\n",
      " |       \n",
      " |      \n",
      " |       Mechanism by which a mover may return multiple output poses from a single input pose.\n",
      " |      \n",
      " |       \n",
      " |      \n",
      " |        Supported in JD2.  Will attempt to grab additional poses until a nullptr is returned.\n",
      " |      \n",
      " |      C++: protocols::moves::Mover::get_additional_output() --> class std::shared_ptr<class core::pose::Pose>\n",
      " |  \n",
      " |  get_current_job(...)\n",
      " |      get_current_job(self: pyrosetta.rosetta.protocols.moves.Mover) -> protocols::jobdist::BasicJob\n",
      " |      \n",
      " |      C++: protocols::moves::Mover::get_current_job() const --> class std::shared_ptr<const class protocols::jobdist::BasicJob>\n",
      " |  \n",
      " |  get_current_tag(...)\n",
      " |      get_current_tag(self: pyrosetta.rosetta.protocols.moves.Mover) -> str\n",
      " |      \n",
      " |      A tag is a unique identifier used to identify structures produced\n",
      " |       by this Mover. get_current_tag() returns the tag, and set_current_tag( std::string tag )\n",
      " |       sets the tag.  This functionality is not intended for use with the 2008 job distributor.\n",
      " |      \n",
      " |      C++: protocols::moves::Mover::get_current_tag() const --> std::string\n",
      " |  \n",
      " |  get_input_pose(...)\n",
      " |      get_input_pose(self: pyrosetta.rosetta.protocols.moves.Mover) -> pyrosetta.rosetta.core.pose.Pose\n",
      " |      \n",
      " |      C++: protocols::moves::Mover::get_input_pose() const --> class std::shared_ptr<const class core::pose::Pose>\n",
      " |  \n",
      " |  get_last_move_status(...)\n",
      " |      get_last_move_status(self: pyrosetta.rosetta.protocols.moves.Mover) -> pyrosetta.rosetta.protocols.moves.MoverStatus\n",
      " |      \n",
      " |      returns status after an apply().  The job distributor (august 08 vintage) will check this function to see if your protocol wants to filter its results - if your protocol wants to say \"that run was no good, skip it\" then use the protected last_move_status(MoverStatus) to change the value that this function will return.\n",
      " |      \n",
      " |      C++: protocols::moves::Mover::get_last_move_status() const --> enum protocols::moves::MoverStatus\n",
      " |  \n",
      " |  get_native_pose(...)\n",
      " |      get_native_pose(self: pyrosetta.rosetta.protocols.moves.Mover) -> pyrosetta.rosetta.core.pose.Pose\n",
      " |      \n",
      " |      C++: protocols::moves::Mover::get_native_pose() const --> class std::shared_ptr<const class core::pose::Pose>\n",
      " |  \n",
      " |  get_self_ptr(...)\n",
      " |      get_self_ptr(self: pyrosetta.rosetta.protocols.moves.Mover) -> pyrosetta.rosetta.protocols.moves.Mover\n",
      " |      \n",
      " |      C++: protocols::moves::Mover::get_self_ptr() --> class std::shared_ptr<class protocols::moves::Mover>\n",
      " |  \n",
      " |  get_self_weak_ptr(...)\n",
      " |      get_self_weak_ptr(self: pyrosetta.rosetta.protocols.moves.Mover) -> pyrosetta.rosetta.std.weak_ptr_protocols_moves_Mover_t\n",
      " |      \n",
      " |      C++: protocols::moves::Mover::get_self_weak_ptr() --> class std::weak_ptr<class protocols::moves::Mover>\n",
      " |  \n",
      " |  get_type(...)\n",
      " |      get_type(self: pyrosetta.rosetta.protocols.moves.Mover) -> str\n",
      " |      \n",
      " |      C++: protocols::moves::Mover::get_type() const --> std::string\n",
      " |  \n",
      " |  info(...)\n",
      " |      info(self: pyrosetta.rosetta.protocols.moves.Mover) -> pyrosetta.rosetta.std.list_std_string_std_allocator_std_string_t\n",
      " |      \n",
      " |      non-const accessor\n",
      " |      \n",
      " |      C++: protocols::moves::Mover::info() --> class std::list<std::string, class std::allocator<std::string > > &\n",
      " |  \n",
      " |  last_proposal_density_ratio(...)\n",
      " |      last_proposal_density_ratio(self: pyrosetta.rosetta.protocols.moves.Mover) -> float\n",
      " |      \n",
      " |      /////////////////////////////////////////////////////////////////////\n",
      " |      ////       Etc.\n",
      " |      ////\n",
      " |      \n",
      " |      C++: protocols::moves::Mover::last_proposal_density_ratio() --> double\n",
      " |  \n",
      " |  reinitialize_for_each_job(...)\n",
      " |      reinitialize_for_each_job(self: pyrosetta.rosetta.protocols.moves.Mover) -> bool\n",
      " |      \n",
      " |      Inform the Job Distributor (August '08 vintage) whether this object needs to be freshly regenerated on\n",
      " |       each use.\n",
      " |      \n",
      " |      C++: protocols::moves::Mover::reinitialize_for_each_job() const --> bool\n",
      " |  \n",
      " |  reinitialize_for_new_input(...)\n",
      " |      reinitialize_for_new_input(self: pyrosetta.rosetta.protocols.moves.Mover) -> bool\n",
      " |      \n",
      " |      Inform the Job Distributor (August '08 vintage) whether this object needs to be regenerated when the input\n",
      " |       pose is about to change, (for example, if the Mover has special code on the first apply() that is only valid for\n",
      " |       that one input pose).\n",
      " |      \n",
      " |      C++: protocols::moves::Mover::reinitialize_for_new_input() const --> bool\n",
      " |  \n",
      " |  reset_status(...)\n",
      " |      reset_status(self: pyrosetta.rosetta.protocols.moves.Mover) -> None\n",
      " |      \n",
      " |      resets status to SUCCESS, meant to be used before an apply().  The job distributor (august 08 vintage) uses this to ensure non-accumulation of status across apply()s.\n",
      " |      \n",
      " |      C++: protocols::moves::Mover::reset_status() --> void\n",
      " |  \n",
      " |  set_current_job(...)\n",
      " |      set_current_job(self: pyrosetta.rosetta.protocols.moves.Mover, job: protocols::jobdist::BasicJob) -> None\n",
      " |      \n",
      " |      ///////////////////////////////////////////////////////////////////\n",
      " |      ////       Deprecated (but still present) JD Interface\n",
      " |      ////\n",
      " |      \n",
      " |      C++: protocols::moves::Mover::set_current_job(class std::shared_ptr<const class protocols::jobdist::BasicJob>) --> void\n",
      " |  \n",
      " |  set_current_tag(...)\n",
      " |      set_current_tag(self: pyrosetta.rosetta.protocols.moves.Mover, new_tag: str) -> None\n",
      " |      \n",
      " |      C++: protocols::moves::Mover::set_current_tag(const std::string &) --> void\n",
      " |  \n",
      " |  set_input_pose(...)\n",
      " |      set_input_pose(self: pyrosetta.rosetta.protocols.moves.Mover, pose: pyrosetta.rosetta.core.pose.Pose) -> None\n",
      " |      \n",
      " |      setter for poses contained for rms\n",
      " |      \n",
      " |      C++: protocols::moves::Mover::set_input_pose(class std::shared_ptr<const class core::pose::Pose>) --> void\n",
      " |  \n",
      " |  set_native_pose(...)\n",
      " |      set_native_pose(self: pyrosetta.rosetta.protocols.moves.Mover, pose: pyrosetta.rosetta.core.pose.Pose) -> None\n",
      " |      \n",
      " |      setter for native poses contained for rms ---- we should get rid of this method? it is widely used, but a bit unsafe\n",
      " |      \n",
      " |      C++: protocols::moves::Mover::set_native_pose(class std::shared_ptr<const class core::pose::Pose>) --> void\n",
      " |  \n",
      " |  set_type(...)\n",
      " |      set_type(self: pyrosetta.rosetta.protocols.moves.Mover, setting: str) -> None\n",
      " |      \n",
      " |      Set the 'type' string\n",
      " |      \n",
      " |      C++: protocols::moves::Mover::set_type(const std::string &) --> void\n",
      " |  \n",
      " |  test_move(...)\n",
      " |      test_move(self: pyrosetta.rosetta.protocols.moves.Mover, pose: pyrosetta.rosetta.core.pose.Pose) -> None\n",
      " |      \n",
      " |      : Unit test support function.  Apply one move to a given pose.\n",
      " |            Allows extra test specific functions to be called before applying\n",
      " |      \n",
      " |      C++: protocols::moves::Mover::test_move(class core::pose::Pose &) --> void\n",
      " |  \n",
      " |  type(...)\n",
      " |      type(*args, **kwargs)\n",
      " |      Overloaded function.\n",
      " |      \n",
      " |      1. type(self: pyrosetta.rosetta.protocols.moves.Mover, type_in: str) -> None\n",
      " |      \n",
      " |      Set the 'type' string\n",
      " |      \n",
      " |      C++: protocols::moves::Mover::type(const std::string &) --> void\n",
      " |      \n",
      " |      2. type(self: pyrosetta.rosetta.protocols.moves.Mover) -> str\n",
      " |      \n",
      " |      Get the set 'type' string\n",
      " |      \n",
      " |      C++: protocols::moves::Mover::type() const --> const std::string &\n",
      " |  \n",
      " |  ----------------------------------------------------------------------\n",
      " |  Static methods inherited from pyrosetta.rosetta.protocols.moves.Mover:\n",
      " |  \n",
      " |  name(...) from builtins.PyCapsule\n",
      " |      name() -> str\n",
      " |      \n",
      " |      C++: protocols::moves::Mover::name() --> std::string\n",
      " |  \n",
      " |  register_options(...) from builtins.PyCapsule\n",
      " |      register_options() -> None\n",
      " |      \n",
      " |      Overload this static method if you access options within the mover.\n",
      " |       \n",
      " |      \n",
      " |       These options will end up in -help of your application if users of this mover call register_options.\n",
      " |       Do this recursively!\n",
      " |       If you use movers within your mover, call their register_options in your register_options() method.\n",
      " |      \n",
      " |      C++: protocols::moves::Mover::register_options() --> void\n",
      " |  \n",
      " |  ----------------------------------------------------------------------\n",
      " |  Static methods inherited from pybind11_builtins.pybind11_object:\n",
      " |  \n",
      " |  __new__(*args, **kwargs) from pybind11_builtins.pybind11_type\n",
      " |      Create and return a new object.  See help(type) for accurate signature.\n",
      "\n"
     ]
    }
   ],
   "source": [
    "help(SwitchResidueTypeSetMover)"
   ]
  },
  {
   "cell_type": "markdown",
   "metadata": {},
   "source": [
    "Print out information about the same residue using `pose.residue(resi#)`. How many atoms do you see now? Is there a change in the stick representation of this residue?"
   ]
  },
  {
   "cell_type": "code",
   "execution_count": 9,
   "metadata": {
    "deletable": false,
    "nbgrader": {
     "cell_type": "code",
     "checksum": "b37de1a7de6d998e3d7f0233726fe8cd",
     "grade": true,
     "grade_id": "cell-38ba33fc7292b36c",
     "locked": false,
     "points": 0,
     "schema_version": 3,
     "solution": true
    }
   },
   "outputs": [
    {
     "name": "stdout",
     "output_type": "stream",
     "text": [
      "Residue 4: CYS (CYS, C):\n",
      "Base: CYS\n",
      " Properties: POLYMER PROTEIN CANONICAL_AA SIDECHAIN_THIOL ALPHA_AA L_AA\n",
      " Variant types:\n",
      " Main-chain atoms:  N    CA   C  \n",
      " Backbone atoms:    N    CA   C    O    H  \n",
      " Side-chain atoms:  CB   CEN\n",
      "Atom Coordinates:\n",
      "   N  : 9.5345, 5.35895, 5.86727e-16\n",
      "   CA : 10.1896, 6.66148, -2.44224e-17\n",
      "   C  : 11.7059, 6.51548, 9.3584e-16\n",
      "   O  : 12.2319, 5.40254, 1.59757e-15\n",
      "   CB : 9.70832, 7.28151, 1.312\n",
      "   CEN: 9.0524, 8.0536, 1.47384\n",
      "   H  : 10.1015, 4.5231, 1.31674e-15\n",
      "Mirrored relative to coordinates in ResidueType: FALSE\n",
      "\n"
     ]
    }
   ],
   "source": [
    "#6\n",
    "# YOUR CODE HERE\n",
    "print(pose.residue(resno))\n",
    "# 7 atoms on centroid res 4"
   ]
  },
  {
   "cell_type": "markdown",
   "metadata": {},
   "source": [
    "Since we are working with a centroid residue type set, `ref2015` can no longer be used as a score function. Nonetheless let's give it a try. Initialize `ref2015` using `get_fa_scorefxn()` and try to score the pose with that. What do you see? Comment this line out (that is add # in front of it) to proceed."
   ]
  },
  {
   "cell_type": "code",
   "execution_count": 10,
   "metadata": {
    "deletable": false,
    "nbgrader": {
     "cell_type": "code",
     "checksum": "38858ca747f3fd97c239eb8044f1d9d6",
     "grade": true,
     "grade_id": "cell-6763ef794721750a",
     "locked": false,
     "points": 0,
     "schema_version": 3,
     "solution": true
    }
   },
   "outputs": [
    {
     "name": "stdout",
     "output_type": "stream",
     "text": [
      "\u001b[0mcore.scoring.ScoreFunctionFactory: {0} \u001b[0mSCOREFUNCTION: \u001b[32mref2015\u001b[0m\n",
      "\u001b[0mcore.scoring.etable: {0} \u001b[0mStarting energy table calculation\n",
      "\u001b[0mcore.scoring.etable: {0} \u001b[0msmooth_etable: changing atr/rep split to bottom of energy well\n",
      "\u001b[0mcore.scoring.etable: {0} \u001b[0msmooth_etable: spline smoothing lj etables (maxdis = 6)\n",
      "\u001b[0mcore.scoring.etable: {0} \u001b[0msmooth_etable: spline smoothing solvation etables (max_dis = 6)\n",
      "\u001b[0mcore.scoring.etable: {0} \u001b[0mFinished calculating energy tables.\n",
      "\u001b[0mbasic.io.database: {0} \u001b[0mDatabase file opened: scoring/score_functions/hbonds/ref2015_params/HBPoly1D.csv\n",
      "\u001b[0mbasic.io.database: {0} \u001b[0mDatabase file opened: scoring/score_functions/hbonds/ref2015_params/HBFadeIntervals.csv\n",
      "\u001b[0mbasic.io.database: {0} \u001b[0mDatabase file opened: scoring/score_functions/hbonds/ref2015_params/HBEval.csv\n",
      "\u001b[0mbasic.io.database: {0} \u001b[0mDatabase file opened: scoring/score_functions/hbonds/ref2015_params/DonStrength.csv\n",
      "\u001b[0mbasic.io.database: {0} \u001b[0mDatabase file opened: scoring/score_functions/hbonds/ref2015_params/AccStrength.csv\n",
      "\u001b[0mbasic.io.database: {0} \u001b[0mDatabase file opened: scoring/score_functions/rama/fd/all.ramaProb\n",
      "\u001b[0mbasic.io.database: {0} \u001b[0mDatabase file opened: scoring/score_functions/rama/fd/prepro.ramaProb\n",
      "\u001b[0mbasic.io.database: {0} \u001b[0mDatabase file opened: scoring/score_functions/omega/omega_ppdep.all.txt\n",
      "\u001b[0mbasic.io.database: {0} \u001b[0mDatabase file opened: scoring/score_functions/omega/omega_ppdep.gly.txt\n",
      "\u001b[0mbasic.io.database: {0} \u001b[0mDatabase file opened: scoring/score_functions/omega/omega_ppdep.pro.txt\n",
      "\u001b[0mbasic.io.database: {0} \u001b[0mDatabase file opened: scoring/score_functions/omega/omega_ppdep.valile.txt\n",
      "\u001b[0mbasic.io.database: {0} \u001b[0mDatabase file opened: scoring/score_functions/P_AA_pp/P_AA\n",
      "\u001b[0mbasic.io.database: {0} \u001b[0mDatabase file opened: scoring/score_functions/P_AA_pp/P_AA_n\n",
      "\u001b[0mcore.scoring.P_AA: {0} \u001b[0mshapovalov_lib::shap_p_aa_pp_smooth_level of 1( aka low_smooth ) got activated.\n",
      "\u001b[0mbasic.io.database: {0} \u001b[0mDatabase file opened: scoring/score_functions/P_AA_pp/shapovalov/10deg/kappa131/a20.prop\n"
     ]
    }
   ],
   "source": [
    "#7\n",
    "# YOUR CODE HERE\n",
    "sxfn2015 = get_fa_scorefxn()\n",
    "#print(sxfn2015(pose))\n",
    "\n",
    "#Error\n",
    "#Illegal attempt to score with non-identical atom set between pose and etable\n",
    "#\tpose   atom_type_set: 'centroid'\n",
    "#\tetable atom_type_set: 'fa_standard'"
   ]
  },
  {
   "cell_type": "markdown",
   "metadata": {},
   "source": [
    "An appropriate score function for the centroid mode is `score3`. You can initialize it using `create_score_function(\"score3\")`. Score the pose with this score function."
   ]
  },
  {
   "cell_type": "code",
   "execution_count": 11,
   "metadata": {
    "deletable": false,
    "nbgrader": {
     "cell_type": "code",
     "checksum": "80ac582cf0c28d51c047223166321a4c",
     "grade": true,
     "grade_id": "cell-f9d50870e758e440",
     "locked": false,
     "points": 0,
     "schema_version": 3,
     "solution": true
    }
   },
   "outputs": [
    {
     "name": "stdout",
     "output_type": "stream",
     "text": [
      "\u001b[0mbasic.io.database: {0} \u001b[0mDatabase file opened: scoring/score_functions/EnvPairPotential/env_log.txt\n",
      "\u001b[0mbasic.io.database: {0} \u001b[0mDatabase file opened: scoring/score_functions/EnvPairPotential/cbeta_den.txt\n",
      "\u001b[0mbasic.io.database: {0} \u001b[0mDatabase file opened: scoring/score_functions/EnvPairPotential/pair_log.txt\n",
      "\u001b[0mbasic.io.database: {0} \u001b[0mDatabase file opened: scoring/score_functions/EnvPairPotential/cenpack_log.txt\n",
      "\u001b[0mbasic.io.database: {0} \u001b[0mDatabase file opened: scoring/score_functions/SecondaryStructurePotential/phi.theta.36.HS.resmooth\n",
      "\u001b[0mbasic.io.database: {0} \u001b[0mDatabase file opened: scoring/score_functions/SecondaryStructurePotential/phi.theta.36.SS.resmooth\n",
      "Centroid score = 156.57643598651632\n"
     ]
    }
   ],
   "source": [
    "#8\n",
    "# YOUR CODE HERE\n",
    "sxfn = create_score_function('score3')\n",
    "print('Centroid score =', sxfn(pose))"
   ]
  },
  {
   "cell_type": "markdown",
   "metadata": {},
   "source": [
    "## Comparing to native"
   ]
  },
  {
   "cell_type": "markdown",
   "metadata": {},
   "source": [
    "Since the final solution is known to us, let's read in the native file, `1qgm.pdb` and store it in a new pose. For a good comparison, let's also use the swich residue type mover on this. Score this native pose using `score3`. Why do you think the score is like it is? To visualize this pose, use the PyMOL mover again."
   ]
  },
  {
   "cell_type": "code",
   "execution_count": 12,
   "metadata": {
    "deletable": false,
    "nbgrader": {
     "cell_type": "code",
     "checksum": "60925a33c79d646dfa23c771fafda7ba",
     "grade": true,
     "grade_id": "cell-dc22bffe75bf95c9",
     "locked": false,
     "points": 0,
     "schema_version": 3,
     "solution": true
    }
   },
   "outputs": [
    {
     "name": "stdout",
     "output_type": "stream",
     "text": [
      "\u001b[0mcore.import_pose.import_pose: {0} \u001b[0mFile '1qgm.pdb' automatically determined to be of type PDB\n",
      "\u001b[0mcore.io.pose_from_sfr.PoseFromSFRBuilder: {0} \u001b[0m\u001b[1m[ WARNING ]\u001b[0m discarding 3 atoms at position 1 in file 1qgm.pdb. Best match rsd_type:  VAL:NtermProteinFull\n",
      "\u001b[0mcore.conformation.Conformation: {0} \u001b[0mFound disulfide between residues 4 16\n",
      "\u001b[0mcore.conformation.Conformation: {0} \u001b[0mcurrent variant for 4 CYS\n",
      "\u001b[0mcore.conformation.Conformation: {0} \u001b[0mcurrent variant for 16 CYS\n",
      "\u001b[0mcore.conformation.Conformation: {0} \u001b[0mcurrent variant for 4 CYD\n",
      "\u001b[0mcore.conformation.Conformation: {0} \u001b[0mcurrent variant for 16 CYD\n",
      "\u001b[0mcore.conformation.Conformation: {0} \u001b[0mFound disulfide between residues 10 26\n",
      "\u001b[0mcore.conformation.Conformation: {0} \u001b[0mcurrent variant for 10 CYS\n",
      "\u001b[0mcore.conformation.Conformation: {0} \u001b[0mcurrent variant for 26 CYS\n",
      "\u001b[0mcore.conformation.Conformation: {0} \u001b[0mcurrent variant for 10 CYD\n",
      "\u001b[0mcore.conformation.Conformation: {0} \u001b[0mcurrent variant for 26 CYD\n"
     ]
    }
   ],
   "source": [
    "pose_native = pose_from_file('1qgm.pdb')"
   ]
  },
  {
   "cell_type": "code",
   "execution_count": 13,
   "metadata": {},
   "outputs": [],
   "source": [
    "# Score\n",
    "switchMover.apply(pose_native)"
   ]
  },
  {
   "cell_type": "code",
   "execution_count": 14,
   "metadata": {},
   "outputs": [
    {
     "name": "stdout",
     "output_type": "stream",
     "text": [
      "Centroid score = 63.8669820863305\n"
     ]
    }
   ],
   "source": [
    "# Score native pose\n",
    "#sxfn = create_score_function('score3')\n",
    "print('Centroid score =', sxfn(pose_native))"
   ]
  },
  {
   "cell_type": "code",
   "execution_count": 15,
   "metadata": {},
   "outputs": [],
   "source": [
    "# PyMOL mover\n",
    "pmm.apply(pose_native)"
   ]
  },
  {
   "cell_type": "markdown",
   "metadata": {},
   "source": [
    "How far is the pose from the native pose? One classic metric is the C-alpha RMSD. In Rosetta, it is calculated using the `CA_rmsd()` method located in `pyrosetta.rosetta.core.scoring`. What is the starting value?"
   ]
  },
  {
   "cell_type": "code",
   "execution_count": 16,
   "metadata": {
    "deletable": false,
    "nbgrader": {
     "cell_type": "code",
     "checksum": "d90411c9f6190f172674dc4c95cee229",
     "grade": true,
     "grade_id": "cell-3c82cf2032f078ad",
     "locked": false,
     "points": 0,
     "schema_version": 3,
     "solution": true
    }
   },
   "outputs": [
    {
     "name": "stdout",
     "output_type": "stream",
     "text": [
      "27.841325759887695\n"
     ]
    }
   ],
   "source": [
    "#9\n",
    "# YOUR CODE HERE\n",
    "from pyrosetta.rosetta.core.scoring import CA_rmsd\n",
    "\n",
    "print(CA_rmsd(pose, pose_native))"
   ]
  },
  {
   "cell_type": "markdown",
   "metadata": {},
   "source": [
    "Now that we know how to calculate this RMSD, we can use it to track if we are getting closer to the native structure."
   ]
  },
  {
   "cell_type": "markdown",
   "metadata": {},
   "source": [
    "## Building a basic folding protocol"
   ]
  },
  {
   "cell_type": "markdown",
   "metadata": {},
   "source": [
    "So finally we can start to fold the protein. The only mobile segment is the backbone. To specify this, make a movemap and set backbone motion to true for all residues, i.e. `set_bb(True)`"
   ]
  },
  {
   "cell_type": "code",
   "execution_count": 17,
   "metadata": {},
   "outputs": [],
   "source": [
    "mm = MoveMap()\n",
    "mm.set_bb(True)"
   ]
  },
  {
   "cell_type": "markdown",
   "metadata": {},
   "source": [
    "Let us try to use some simple movers that we have learnt today to fold the protein. Start by initializing a small mover and a shear mover (located in `pyrosetta.rosetta.protocols.simple_moves`). Set `n_moves = 10` and `kT = 1.0`."
   ]
  },
  {
   "cell_type": "code",
   "execution_count": 18,
   "metadata": {
    "deletable": false,
    "nbgrader": {
     "cell_type": "code",
     "checksum": "6a911a42667e6331121322e4147fbf9e",
     "grade": true,
     "grade_id": "cell-581ead74267e0ad8",
     "locked": false,
     "points": 0,
     "schema_version": 3,
     "solution": true
    }
   },
   "outputs": [],
   "source": [
    "#10\n",
    "# YOUR CODE HERE\n",
    "from pyrosetta.rosetta.protocols.simple_moves import SmallMover, ShearMover\n",
    "n_moves = 10\n",
    "kT = 1.\n",
    "# Initalize backbone movers\n",
    "small_mover = SmallMover()\n",
    "small_mover.nmoves(n_moves)\n",
    "small_mover.temperature(kT)\n",
    "\n",
    "shear_mover = ShearMover()\n",
    "shear_mover.nmoves(n_moves)\n",
    "shear_mover.temperature(kT)"
   ]
  },
  {
   "cell_type": "markdown",
   "metadata": {},
   "source": [
    "To apply them one after the other, use a sequence mover (located in `pyrosetta.rosetta.protocols.moves`).\n",
    "\n",
    "The SequenceMover is a mover that holds other movers and applies them \"in sequence.\" I.e. if you have three movers, `m1`, `m2`, and `m3`, and you add them to a SequenceMover in that order, then when you call the SequenceMover's `apply` method, it will first invoke `m1`'s `apply`, then `m2`'s `apply`, and finally `m3`'s `apply`.\n",
    "\n",
    "Add the above two movers to your sequence mover using its `add_mover()` function."
   ]
  },
  {
   "cell_type": "code",
   "execution_count": 19,
   "metadata": {
    "deletable": false,
    "nbgrader": {
     "cell_type": "code",
     "checksum": "36b2369715a9cbe724acaf9476ced017",
     "grade": true,
     "grade_id": "cell-2ec2d06a28cd9bff",
     "locked": false,
     "points": 0,
     "schema_version": 3,
     "solution": true
    }
   },
   "outputs": [],
   "source": [
    "#11\n",
    "# YOUR CODE HERE\n",
    "sequence_mover = pyrosetta.rosetta.protocols.moves.SequenceMover()\n",
    "\n",
    "sequence_mover.add_mover(small_mover)\n",
    "sequence_mover.add_mover(shear_mover)"
   ]
  },
  {
   "cell_type": "markdown",
   "metadata": {},
   "source": [
    "To perform a Monte Carlo simulation, we first need a `MonteCarlo` object. Use the constructor for MonteCarlo that takes as arguments a pose, a score function, and a kT \"temperature\" as its parameters. Use a temperature of 1.\n",
    "\n",
    "You're probably wondering: what score function and what pose should you use? The MonteCarlo object will use the Pose that you give it as it's starting point. It should be the centroid pose that you created from the FASTA sequence. (It should not be the native pose you read in from the PDB file!). We will want the centroid score function to go along with the centroid pose.\n",
    "\n",
    "The way we'll use the MonteCarlo object is that we'll perturb the Pose `p`, and then after the perturbation, ask the MonteCarlo object to accept or reject the perturbation.\n",
    "\n",
    "```\n",
    "   for _ in range(100):\n",
    "       perturber.apply(p)\n",
    "       mc.boltzmann(p) # accept or reject the change to p\n",
    "```\n",
    "Internally, the MonteCarlo object keeps a copy of the pose in its most-recently-accepted conformation so that if the Metropolis criterion calls for the rejection of the perturbation, then the MonteCarlo object can copy the prior conformation back into `p`. I.e., the copying resets `p`'s conformation to how it was before the perturbation took place.\n",
    "\n",
    "The MonteCarlo object is keeping a second copy of the pose that represents the best-ever-seen conformation. We will talk about that copy later.\n",
    "\n",
    "Construct your MonteCarlo object below."
   ]
  },
  {
   "cell_type": "code",
   "execution_count": 20,
   "metadata": {
    "deletable": false,
    "nbgrader": {
     "cell_type": "code",
     "checksum": "01cdab432f6462f9fc9cc67825158196",
     "grade": true,
     "grade_id": "cell-f0d00fd4a6c5fd8b",
     "locked": false,
     "points": 0,
     "schema_version": 3,
     "solution": true
    }
   },
   "outputs": [],
   "source": [
    "#12\n",
    "# YOUR CODE HERE\n",
    "kT = 2.0\n",
    "mc = MonteCarlo(pose,sxfn,kT)"
   ]
  },
  {
   "cell_type": "markdown",
   "metadata": {},
   "source": [
    "As we are nesting movers, it will be convineint to use a `TrialMover` to invoke some other Mover's apply function, and then invoke the MonteCarlo's boltzmann function. That is, the TrialMover's `apply` function is basically :\n",
    "\n",
    "```\n",
    "class TrialMover(Mover):\n",
    "   def __init__(self, mover: Mover, mc: MonteCarlo):\n",
    "      self.mover = mover\n",
    "      self.mc = mc\n",
    "   def apply(self, p: Pose):\n",
    "      mover.apply(p)\n",
    "      self.botlzmann(p)\n",
    "```\n",
    "\n",
    "(although it is actually implemented in C++)\n",
    "\n",
    "Why create a class to call a function? Why not just call the function? Muse on this.\n",
    "\n",
    "Initialize a `TrialMover` with the sequence mover (the one containing the small and shear movers) and the Monte Carlo object as input."
   ]
  },
  {
   "cell_type": "code",
   "execution_count": 21,
   "metadata": {
    "deletable": false,
    "nbgrader": {
     "cell_type": "code",
     "checksum": "dbcdb5ec1f2805b970a2dd84e7effcff",
     "grade": true,
     "grade_id": "cell-623cb57a710ae16f",
     "locked": false,
     "points": 0,
     "schema_version": 3,
     "solution": true
    }
   },
   "outputs": [],
   "source": [
    "#13\n",
    "# YOUR CODE HERE\n",
    "# Init trial_mover obj\n",
    "trial_mover = pyrosetta.rosetta.protocols.moves.TrialMover(sequence_mover, mc)"
   ]
  },
  {
   "cell_type": "markdown",
   "metadata": {},
   "source": [
    "Before making any changes, let's keep a copy of the starting pose handy, because we'll need it later. To do so use `pose.clone()`."
   ]
  },
  {
   "cell_type": "code",
   "execution_count": 22,
   "metadata": {
    "deletable": false,
    "nbgrader": {
     "cell_type": "code",
     "checksum": "301e49ec6e111b6528e974046265e0cd",
     "grade": true,
     "grade_id": "cell-10886b5692c58612",
     "locked": false,
     "points": 0,
     "schema_version": 3,
     "solution": true
    }
   },
   "outputs": [],
   "source": [
    "#14\n",
    "pose_start = pose.clone()"
   ]
  },
  {
   "cell_type": "markdown",
   "metadata": {},
   "source": [
    "## Applying the folding protocol"
   ]
  },
  {
   "cell_type": "markdown",
   "metadata": {},
   "source": [
    "OK!\n",
    "\n",
    "We now have all of the elements we need in order to put together and run our small- and shear-mover-based-folding protocol. Let's assemble them.\n",
    "\n",
    "What we will do is invoke the TrialMover's `apply` method. The TrialMover will invoke the SequenceMover's `apply` method and then invoke the MonteCarlo object's `botlzmann` method. The SequenceMover will invoke the small- and shear Movers in sequence.\n",
    "\n",
    "Just applying the TrialMover once, however, will not be sufficient to fold the protein! Apply this mover 100 times to do so (with a for loop). Inside this loop, also store the score of the pose and the C-alpha RMSD in two `numpy` arrays (look back to Session 1) after every apply of the trial mover. Also use the PyMOL mover to update the pose in PyMOL so that you can create a movie of your protocol.\n",
    "\n",
    "We are going to have you run this cell more than once; to make sure results of previous runs don't bleed through, add a call to MonteCarlo's `reset` function handing it the conformation of the original pose. Also, copy the `pose_start` pose into the working `pose.` "
   ]
  },
  {
   "cell_type": "code",
   "execution_count": 23,
   "metadata": {},
   "outputs": [],
   "source": [
    "import numpy as np"
   ]
  },
  {
   "cell_type": "code",
   "execution_count": 24,
   "metadata": {
    "deletable": false,
    "nbgrader": {
     "cell_type": "code",
     "checksum": "237f1345d5e77d9d6a0716ea78a850e0",
     "grade": true,
     "grade_id": "cell-73b3dbadb52edbd3",
     "locked": false,
     "points": 0,
     "schema_version": 3,
     "solution": true
    }
   },
   "outputs": [
    {
     "name": "stdout",
     "output_type": "stream",
     "text": [
      "\u001b[0mcore.scoring.ramachandran: {0} \u001b[0mshapovalov_lib::shap_rama_smooth_level of 4( aka highest_smooth ) got activated.\n",
      "\u001b[0mbasic.io.database: {0} \u001b[0mDatabase file opened: scoring/score_functions/rama/shapovalov/kappa25/all.ramaProb\n",
      "\u001b[0mbasic.io.database: {0} \u001b[0mDatabase file opened: scoring/score_functions/rama/flat/avg_L_rama.dat\n",
      "\u001b[0mcore.scoring.ramachandran: {0} \u001b[0mReading custom Ramachandran table from scoring/score_functions/rama/flat/avg_L_rama.dat.\n",
      "\u001b[0mbasic.io.database: {0} \u001b[0mDatabase file opened: scoring/score_functions/rama/flat/sym_all_rama.dat\n",
      "\u001b[0mcore.scoring.ramachandran: {0} \u001b[0mReading custom Ramachandran table from scoring/score_functions/rama/flat/sym_all_rama.dat.\n",
      "\u001b[0mbasic.io.database: {0} \u001b[0mDatabase file opened: scoring/score_functions/rama/flat/sym_G_rama.dat\n",
      "\u001b[0mcore.scoring.ramachandran: {0} \u001b[0mReading custom Ramachandran table from scoring/score_functions/rama/flat/sym_G_rama.dat.\n",
      "\u001b[0mbasic.io.database: {0} \u001b[0mDatabase file opened: scoring/score_functions/rama/flat/sym_P_rama.dat\n",
      "\u001b[0mcore.scoring.ramachandran: {0} \u001b[0mReading custom Ramachandran table from scoring/score_functions/rama/flat/sym_P_rama.dat.\n",
      "\u001b[0mbasic.io.database: {0} \u001b[0mDatabase file opened: scoring/score_functions/rama/flat/avg_L_rama_str.dat\n",
      "\u001b[0mcore.scoring.ramachandran: {0} \u001b[0mReading custom Ramachandran table from scoring/score_functions/rama/flat/avg_L_rama_str.dat.\n",
      "\u001b[0mbasic.io.database: {0} \u001b[0mDatabase file opened: scoring/score_functions/rama/flat/sym_all_rama_str.dat\n",
      "\u001b[0mcore.scoring.ramachandran: {0} \u001b[0mReading custom Ramachandran table from scoring/score_functions/rama/flat/sym_all_rama_str.dat.\n",
      "\u001b[0mbasic.io.database: {0} \u001b[0mDatabase file opened: scoring/score_functions/rama/flat/sym_G_rama_str.dat\n",
      "\u001b[0mcore.scoring.ramachandran: {0} \u001b[0mReading custom Ramachandran table from scoring/score_functions/rama/flat/sym_G_rama_str.dat.\n",
      "\u001b[0mbasic.io.database: {0} \u001b[0mDatabase file opened: scoring/score_functions/rama/flat/sym_P_rama_str.dat\n",
      "\u001b[0mcore.scoring.ramachandran: {0} \u001b[0mReading custom Ramachandran table from scoring/score_functions/rama/flat/sym_P_rama_str.dat.\n",
      "score: 156.5516249381239 rmsd: 27.826932907104492\n",
      "score: 156.51218507904161 rmsd: 27.795902252197266\n",
      "score: 156.48561806925534 rmsd: 27.765254974365234\n",
      "score: 156.42756490324703 rmsd: 27.764240264892578\n",
      "score: 156.3186785830049 rmsd: 27.723413467407227\n",
      "score: 156.20082830973593 rmsd: 27.646259307861328\n",
      "score: 156.29044830066272 rmsd: 27.694255828857422\n",
      "score: 156.25017682685728 rmsd: 27.712312698364258\n",
      "score: 156.1876647925268 rmsd: 27.661561965942383\n",
      "score: 156.23148837504732 rmsd: 27.680612564086914\n",
      "score: 156.28921241618897 rmsd: 27.661142349243164\n",
      "score: 156.21645698391998 rmsd: 27.610477447509766\n",
      "score: 156.11827926641743 rmsd: 27.601741790771484\n",
      "score: 156.08459684665414 rmsd: 27.594810485839844\n",
      "score: 156.08629492612283 rmsd: 27.65723419189453\n",
      "score: 156.0487802873251 rmsd: 27.587190628051758\n",
      "score: 156.09646821575868 rmsd: 27.609878540039062\n",
      "score: 156.04892607915244 rmsd: 27.6369686126709\n",
      "score: 156.00353599688128 rmsd: 27.617944717407227\n",
      "score: 156.02342958764092 rmsd: 27.63619613647461\n",
      "score: 155.95499346868303 rmsd: 27.62987518310547\n",
      "score: 155.8866474333919 rmsd: 27.589508056640625\n",
      "score: 155.83702797556847 rmsd: 27.58709716796875\n",
      "score: 155.75615768539816 rmsd: 27.49047088623047\n",
      "score: 155.60037501209084 rmsd: 27.488996505737305\n",
      "score: 155.572087888387 rmsd: 27.450082778930664\n",
      "score: 155.41389096965096 rmsd: 27.352270126342773\n",
      "score: 155.54082498960486 rmsd: 27.39246940612793\n",
      "score: 155.53612304842042 rmsd: 27.389543533325195\n",
      "score: 155.59599435288237 rmsd: 27.377195358276367\n",
      "score: 155.63713396196363 rmsd: 27.430404663085938\n",
      "score: 155.5368632814201 rmsd: 27.40771484375\n",
      "score: 155.40100240132023 rmsd: 27.320415496826172\n",
      "score: 155.41610806987893 rmsd: 27.308523178100586\n",
      "score: 155.50027434215698 rmsd: 27.34366226196289\n",
      "score: 155.51816106891442 rmsd: 27.39922332763672\n",
      "score: 155.3555782689271 rmsd: 27.3543701171875\n",
      "score: 155.4733033645332 rmsd: 27.375886917114258\n",
      "score: 155.38931152976375 rmsd: 27.349246978759766\n",
      "score: 155.48006683702172 rmsd: 27.36089324951172\n",
      "score: 155.4719800664431 rmsd: 27.382545471191406\n",
      "score: 155.10055360155695 rmsd: 27.24643325805664\n",
      "score: 155.09219891672672 rmsd: 27.226173400878906\n",
      "score: 154.93406679357602 rmsd: 27.145734786987305\n",
      "score: 154.81438094278093 rmsd: 27.099029541015625\n",
      "score: 154.9799968095869 rmsd: 27.18626594543457\n",
      "score: 155.0883443429582 rmsd: 27.248313903808594\n",
      "score: 154.9635265559966 rmsd: 27.15378189086914\n",
      "score: 154.78569213344903 rmsd: 27.091276168823242\n",
      "score: 154.67750577922703 rmsd: 27.06705093383789\n",
      "score: 154.46304320302715 rmsd: 26.999935150146484\n",
      "score: 154.2966321642281 rmsd: 26.939220428466797\n",
      "score: 154.27920761986536 rmsd: 26.902568817138672\n",
      "score: 154.27841398485617 rmsd: 26.943618774414062\n",
      "score: 153.99513002421662 rmsd: 26.85065460205078\n",
      "score: 154.05039658203273 rmsd: 26.89510154724121\n",
      "score: 153.50235537171218 rmsd: 26.67666244506836\n",
      "score: 153.6716115929547 rmsd: 26.739248275756836\n",
      "score: 154.0981208425604 rmsd: 26.96034049987793\n",
      "score: 154.09722639879197 rmsd: 26.959836959838867\n",
      "score: 154.30099825034063 rmsd: 27.052690505981445\n",
      "score: 154.18756536653262 rmsd: 26.985004425048828\n",
      "score: 154.27026742826237 rmsd: 26.973237991333008\n",
      "score: 154.24300782696704 rmsd: 26.959421157836914\n",
      "score: 154.44364385271723 rmsd: 27.032089233398438\n",
      "score: 153.537482488327 rmsd: 27.06586265563965\n",
      "score: 153.41442022028662 rmsd: 26.99947738647461\n",
      "score: 153.06932466687692 rmsd: 26.87881851196289\n",
      "score: 153.06932466687692 rmsd: 26.87881851196289\n",
      "score: 152.91962920509974 rmsd: 26.79531478881836\n",
      "score: 153.67756603991143 rmsd: 26.706422805786133\n",
      "score: 153.2848323078453 rmsd: 26.557884216308594\n",
      "score: 153.03086272522535 rmsd: 26.447067260742188\n",
      "score: 153.20928592058266 rmsd: 26.532812118530273\n",
      "score: 153.59922099113393 rmsd: 26.732425689697266\n",
      "score: 153.59922099113393 rmsd: 26.732425689697266\n",
      "score: 153.47784619460964 rmsd: 26.684415817260742\n",
      "score: 154.15402268610708 rmsd: 26.917877197265625\n",
      "score: 154.27789011950796 rmsd: 26.957612991333008\n",
      "score: 154.3802378545857 rmsd: 27.05016326904297\n",
      "score: 154.3802378545857 rmsd: 27.05016326904297\n",
      "score: 154.57459274608658 rmsd: 27.079601287841797\n",
      "score: 154.57657372343274 rmsd: 27.02715301513672\n",
      "score: 154.6839771183245 rmsd: 27.11532211303711\n",
      "score: 154.67164761323576 rmsd: 27.10439682006836\n",
      "score: 154.70570169595354 rmsd: 27.146305084228516\n",
      "score: 154.70570169595354 rmsd: 27.146305084228516\n",
      "score: 154.7543379821904 rmsd: 27.25014877319336\n",
      "score: 154.58618223693952 rmsd: 27.185911178588867\n",
      "score: 154.471245083037 rmsd: 27.180572509765625\n",
      "score: 154.40501378166718 rmsd: 27.160104751586914\n",
      "score: 154.09056170069726 rmsd: 27.045759201049805\n",
      "score: 154.06268647040764 rmsd: 27.023731231689453\n",
      "score: 154.11856446191823 rmsd: 27.077686309814453\n",
      "score: 154.6301466022089 rmsd: 27.230546951293945\n",
      "score: 154.6829492504164 rmsd: 27.222658157348633\n",
      "score: 154.6829492504164 rmsd: 27.222658157348633\n",
      "score: 154.62852998102457 rmsd: 27.220661163330078\n",
      "score: 154.4527417592922 rmsd: 27.19062042236328\n",
      "score: 154.4781249158948 rmsd: 27.23158836364746\n"
     ]
    }
   ],
   "source": [
    "#15\n",
    "# YOUR CODE HERE\n",
    "movemap = MoveMap()\n",
    "movemap.set_bb(True)\n",
    "\n",
    "n_iteration = 100\n",
    "pose_score = np.zeros((n_iteration,), dtype='float')\n",
    "CA_rmsd_array = np.zeros((n_iteration,), dtype='float')\n",
    "\n",
    "work_pose = Pose(pose_start)\n",
    "mc.reset(work_pose)\n",
    "\n",
    "# Loop\n",
    "for i in range(n_iteration):\n",
    "    trial_mover.apply(work_pose)\n",
    "    pose_score[i] = sxfn(work_pose)\n",
    "    CA_rmsd_array[i] = CA_rmsd(work_pose, pose_native) \n",
    "    print('score:', pose_score[i], 'rmsd:', CA_rmsd_array[i])"
   ]
  },
  {
   "cell_type": "markdown",
   "metadata": {},
   "source": [
    "Now using a loop, print out the scores and the rmsds after every iteration. How close do you get to the native using this folding algorithm? Did you notice your RMSD decrease stalling after a while? Rerun the cell above (but take care that the results of your previous execution don't beeed through) a couple of times. Do you ever go below a certain number? If you \"play\" the states you have in pymol, do your structures look like they are becoming very protein-like?"
   ]
  },
  {
   "cell_type": "code",
   "execution_count": 25,
   "metadata": {
    "deletable": false,
    "nbgrader": {
     "cell_type": "code",
     "checksum": "c8e5115f5d55ac20db0c2c493a4bfc73",
     "grade": true,
     "grade_id": "cell-72433368f2b5b8cb",
     "locked": false,
     "points": 0,
     "schema_version": 3,
     "solution": true
    }
   },
   "outputs": [],
   "source": [
    "#16\n",
    "# YOUR CODE HERE\n",
    "pmm.apply(work_pose)"
   ]
  },
  {
   "cell_type": "markdown",
   "metadata": {},
   "source": [
    "## Increasing move size"
   ]
  },
  {
   "cell_type": "markdown",
   "metadata": {},
   "source": [
    ">If you have less than 30 minutes left, skip this section and proceed directly to the fragment-insertion section"
   ]
  },
  {
   "cell_type": "markdown",
   "metadata": {},
   "source": [
    "One possible reason for this stagnation is that the maximum angle deviation of small movers is very small: 0, 5, and 6 degrees for helices, sheets, and loops, respectively. This approach will likely take forever to fold this protein. What if we introduce larger changes? Let's try larger changes! Use `RandomTorsionMover` (also found in `pyrosetta.rosetta.protocols.simple_moves`) to make larger torsion changes. `RandomTorsionMover` can be initialized with three parameters: `movemap`, `max_angle`, and `num_moves`. Set `max_angle` to 20 (you can try a few values) and `n_moves` to 10."
   ]
  },
  {
   "cell_type": "code",
   "execution_count": 26,
   "metadata": {
    "deletable": false,
    "nbgrader": {
     "cell_type": "code",
     "checksum": "a706538a27370d79fc518984588e2bc7",
     "grade": true,
     "grade_id": "cell-4633e983aa74e4e1",
     "locked": false,
     "points": 0,
     "schema_version": 3,
     "solution": true
    }
   },
   "outputs": [],
   "source": [
    "#17\n",
    "# YOUR CODE HERE\n",
    "movemap = MoveMap()\n",
    "movemap.set_bb(True)\n",
    "\n",
    "max_angle = 20\n",
    "n_moves = 10\n",
    "random_torsion_mover = pyrosetta.rosetta.protocols.simple_moves.RandomTorsionMover(movemap, max_angle, n_moves)"
   ]
  },
  {
   "cell_type": "markdown",
   "metadata": {},
   "source": [
    "Add this mover to your sequence mover (which still contains the small- and shear- movers)."
   ]
  },
  {
   "cell_type": "code",
   "execution_count": 27,
   "metadata": {
    "deletable": false,
    "nbgrader": {
     "cell_type": "code",
     "checksum": "fbe1956321bca71c3f4ad15f92e32f31",
     "grade": true,
     "grade_id": "cell-ebb67f2c532ef893",
     "locked": false,
     "points": 0,
     "schema_version": 3,
     "solution": true
    }
   },
   "outputs": [],
   "source": [
    "#18\n",
    "# YOUR CODE HERE\n",
    "sequence_mover.add_mover(random_torsion_mover)\n",
    "\n",
    "trial_mover = pyrosetta.rosetta.protocols.moves.TrialMover(sequence_mover, mc)"
   ]
  },
  {
   "cell_type": "markdown",
   "metadata": {},
   "source": [
    "Now, copy-paste the loop and score printing from above to run the trial mover. Before you run it, however, you might want to clear out your PyMOL session by typing `delete all` in the PyMOL terminal."
   ]
  },
  {
   "cell_type": "code",
   "execution_count": 28,
   "metadata": {
    "deletable": false,
    "nbgrader": {
     "cell_type": "code",
     "checksum": "b2c7508781ad1a8b69e5f38977ac68e5",
     "grade": true,
     "grade_id": "cell-dced5417e753bd8c",
     "locked": false,
     "points": 0,
     "schema_version": 3,
     "solution": true
    }
   },
   "outputs": [
    {
     "name": "stdout",
     "output_type": "stream",
     "text": [
      "[27.68357277 27.51980591 27.47325516 27.39761925 27.18251419 26.643116\n",
      " 26.67430305 26.69020653 26.52354431 25.77178001 25.33015251 25.60272026\n",
      " 26.00553131 25.41796875 25.43510628 25.00482368 24.80314445 24.72152901\n",
      " 24.72152901 24.72152901 25.24711418 25.02639961 25.40847397 25.4579277\n",
      " 25.38396645 24.84935379 23.90630913 23.856287   22.67801285 22.45601654\n",
      " 22.45601654 20.98574257 21.39917183 21.79724693 21.9245491  21.20833397\n",
      " 21.23514366 21.88498497 20.85892677 21.03007126 21.42713165 20.76374435\n",
      " 20.90421677 21.02792931 20.60367966 20.60367966 20.75211334 20.75211334\n",
      " 20.78311539 21.28763199 21.55399895 20.38925171 20.09889221 20.55014229\n",
      " 20.36945534 20.1437912  20.203825   20.203825   19.80945206 19.80945206\n",
      " 20.00008583 20.37793922 20.96925545 20.96925545 19.91837502 19.91837502\n",
      " 19.48837662 18.74079704 18.68639565 18.72855568 19.09550285 18.74419022\n",
      " 18.85618973 18.85618973 18.85618973 18.85618973 18.78295708 18.24315262\n",
      " 18.29317284 17.82403374 17.25905991 17.43937492 17.70076942 17.70076942\n",
      " 16.58227539 16.58227539 16.51550293 16.04388046 16.04388046 16.04816055\n",
      " 16.04816055 16.3868084  16.40270042 16.35515404 16.35515404 16.30881691\n",
      " 16.8141098  16.49197006 16.29390526 16.29390526]\n"
     ]
    }
   ],
   "source": [
    "#19\n",
    "# YOUR CODE HERE (COPIED FROM 15)\n",
    "n_iteration = 100\n",
    "pose_score = np.zeros((n_iteration,), dtype='float')\n",
    "CA_rmsd_array = np.zeros((n_iteration,), dtype='float')\n",
    "\n",
    "work_pose = Pose(unfolded_pose)\n",
    "mc.reset(work_pose)\n",
    "\n",
    "# Loop\n",
    "for i in range(n_iteration):\n",
    "    trial_mover.apply(work_pose)\n",
    "    pose_score[i] = sxfn(work_pose)\n",
    "    CA_rmsd_array[i] = CA_rmsd(work_pose, pose_native) \n",
    "    \n",
    "print(CA_rmsd_array)"
   ]
  },
  {
   "cell_type": "code",
   "execution_count": 29,
   "metadata": {},
   "outputs": [],
   "source": [
    "pmm.apply(work_pose)"
   ]
  },
  {
   "cell_type": "markdown",
   "metadata": {},
   "source": [
    "Do larger moves help? \n",
    "--> I don't know. not really for me"
   ]
  },
  {
   "cell_type": "markdown",
   "metadata": {},
   "source": [
    "## Fragment insertion"
   ]
  },
  {
   "cell_type": "markdown",
   "metadata": {},
   "source": [
    "As a last part to this exercise, let's try fragment insertion as the first step in the sequence mover. Code to create a fragment set with 3-mer fragments is already written in the cell below. Make another fragment set of length 9 and read in the 9-mer file supplied, `1qgm.9mers`."
   ]
  },
  {
   "cell_type": "code",
   "execution_count": 30,
   "metadata": {
    "deletable": false,
    "nbgrader": {
     "cell_type": "code",
     "checksum": "3b25b22b1b0c0eebe37c684e62006ff8",
     "grade": true,
     "grade_id": "cell-8d51eb46dfb25c8d",
     "locked": false,
     "points": 0,
     "schema_version": 3,
     "solution": true
    }
   },
   "outputs": [
    {
     "name": "stdout",
     "output_type": "stream",
     "text": [
      "\u001b[0mcore.fragments.ConstantLengthFragSet: {0} \u001b[0mfinished reading top 200 3mer fragments from file 1qgm.3mers\n",
      "\u001b[0mcore.fragments.ConstantLengthFragSet: {0} \u001b[0mfinished reading top 200 9mer fragments from file 1qgm.9mers\n"
     ]
    }
   ],
   "source": [
    "#20\n",
    "from pyrosetta.rosetta.core.fragment import *\n",
    "fragset3 = ConstantLengthFragSet(3)\n",
    "fragset3.read_fragment_file(\"1qgm.3mers\")\n",
    "\n",
    "# YOUR CODE HERE\n",
    "fragset9 = ConstantLengthFragSet(9)\n",
    "fragset9.read_fragment_file(\"1qgm.9mers\")"
   ]
  },
  {
   "cell_type": "markdown",
   "metadata": {},
   "source": [
    "Construct a 3-mer and a 9-mer fragment set mover. Code for the 3-mer fragment mover is already written in the cell below. Similarly, make a 9-mer fragment mover."
   ]
  },
  {
   "cell_type": "code",
   "execution_count": 31,
   "metadata": {
    "deletable": false,
    "nbgrader": {
     "cell_type": "code",
     "checksum": "55b187d592cd4dcc4f195afe2677f84d",
     "grade": true,
     "grade_id": "cell-d8446f77909ba4d6",
     "locked": false,
     "points": 0,
     "schema_version": 3,
     "solution": true
    }
   },
   "outputs": [],
   "source": [
    "#21\n",
    "from pyrosetta.rosetta.protocols.simple_moves import ClassicFragmentMover\n",
    "mover_3mer = ClassicFragmentMover(fragset3, mm)\n",
    "\n",
    "# YOUR CODE HERE\n",
    "mover_9mer = ClassicFragmentMover(fragset9, mm)"
   ]
  },
  {
   "cell_type": "markdown",
   "metadata": {},
   "source": [
    "Put the 9-mer mover into a RepeatMover (from `pyrosetta.rosetta.protocols.moves`) which repeats 1 time and the 3-mer mover into a separate RepeatMover to repeat 1 time."
   ]
  },
  {
   "cell_type": "code",
   "execution_count": 32,
   "metadata": {
    "deletable": false,
    "nbgrader": {
     "cell_type": "code",
     "checksum": "644574c107294d27d9125c55ff9ffc7a",
     "grade": true,
     "grade_id": "cell-a763092132c11bcc",
     "locked": false,
     "points": 0,
     "schema_version": 3,
     "solution": true
    }
   },
   "outputs": [],
   "source": [
    "#22\n",
    "# YOUR CODE HERE\n",
    "from pyrosetta.rosetta.protocols.moves import RepeatMover\n",
    "repeat_mover_9mer = RepeatMover(mover_9mer, 1)\n",
    "repeat_mover_3mer = RepeatMover(mover_3mer, 1)"
   ]
  },
  {
   "cell_type": "markdown",
   "metadata": {},
   "source": [
    "Just like with the `RandomTorsionMover` above, reassign pose to the `pose_start` conformation and `reset` your MonteCarlo object. Also, clear out your PyMOL session by typing `delete all` in the PyMOL terminal."
   ]
  },
  {
   "cell_type": "code",
   "execution_count": 33,
   "metadata": {
    "deletable": false,
    "nbgrader": {
     "cell_type": "code",
     "checksum": "97900f014775976f9fc4382bd95e27b5",
     "grade": true,
     "grade_id": "cell-3906f21f98a992d6",
     "locked": false,
     "points": 0,
     "schema_version": 3,
     "solution": true
    }
   },
   "outputs": [],
   "source": [
    "#23\n",
    "# YOUR CODE HERE\n",
    "work_pose = Pose(unfolded_pose)\n",
    "mc.reset(work_pose)"
   ]
  },
  {
   "cell_type": "code",
   "execution_count": 34,
   "metadata": {},
   "outputs": [
    {
     "name": "stdout",
     "output_type": "stream",
     "text": [
      "PDB file name: VIHCDAAT\n",
      "Total residues: 30\n",
      "Sequence: VIHCDAATICPDGTTCSLSPYGVWYCSPFS\n",
      "Fold tree:\n",
      "FOLD_TREE  EDGE 1 30 -1 \n"
     ]
    }
   ],
   "source": [
    "print(work_pose)"
   ]
  },
  {
   "cell_type": "markdown",
   "metadata": {},
   "source": [
    "Using the 9-mer `RepeatMover` and your Monte Carlo object, create a new `TrialMover` and apply it to the pose 100 times. Use `PyMOLMover` to visualize the changes. Print out the score and the RMSD after the 9-mer insertions. Does fragment insertion help?\n",
    "\n",
    "Repeat the same steps for the 3-mer `RepeatMover` (picking up from where the 9-mer insertion left off). Is the RMSD lower now than when using the small- and shear-movers?"
   ]
  },
  {
   "cell_type": "code",
   "execution_count": 35,
   "metadata": {
    "deletable": false,
    "nbgrader": {
     "cell_type": "code",
     "checksum": "cb227ea00461a7009dc8ca46f214fa16",
     "grade": true,
     "grade_id": "cell-a508bf83cbd1cd2d",
     "locked": false,
     "points": 0,
     "schema_version": 3,
     "solution": true
    }
   },
   "outputs": [],
   "source": [
    "#24\n",
    "# YOUR CODE HERE\n",
    "trial_mover_9 = pyrosetta.rosetta.protocols.moves.TrialMover(repeat_mover_9mer, mc)\n",
    "trial_mover_3 = pyrosetta.rosetta.protocols.moves.TrialMover(repeat_mover_3mer, mc)"
   ]
  },
  {
   "cell_type": "code",
   "execution_count": 36,
   "metadata": {},
   "outputs": [
    {
     "name": "stdout",
     "output_type": "stream",
     "text": [
      "9mer score 153.3361590319783 rmsd 25.25547981262207\n",
      "9mer score 121.03221984312606 rmsd 18.48982048034668\n",
      "9mer score 121.26053925488073 rmsd 17.870283126831055\n",
      "9mer score 109.70785867580234 rmsd 16.325658798217773\n",
      "9mer score 109.70785867580234 rmsd 16.325658798217773\n",
      "9mer score 102.93226257940212 rmsd 12.183347702026367\n",
      "9mer score 97.30412746082597 rmsd 11.967729568481445\n",
      "9mer score 87.90091162643367 rmsd 10.718454360961914\n",
      "9mer score 87.90091162643367 rmsd 10.718454360961914\n",
      "9mer score 87.90091162643367 rmsd 10.718454360961914\n",
      "9mer score 87.90091162643367 rmsd 10.718454360961914\n",
      "9mer score 87.90091162643367 rmsd 10.718454360961914\n",
      "9mer score 87.90091162643367 rmsd 10.718454360961914\n",
      "9mer score 79.71628097826758 rmsd 10.306827545166016\n",
      "9mer score 79.71628097826758 rmsd 10.306827545166016\n",
      "9mer score 49.232756963274234 rmsd 5.581231117248535\n",
      "9mer score 49.232756963274234 rmsd 5.581231117248535\n",
      "9mer score 49.232756963274234 rmsd 5.581231117248535\n",
      "9mer score 49.232756963274234 rmsd 5.581231117248535\n",
      "9mer score 49.232756963274234 rmsd 5.581231117248535\n",
      "9mer score 49.232756963274234 rmsd 5.581231117248535\n",
      "9mer score 49.232756963274234 rmsd 5.581231117248535\n",
      "9mer score 49.232756963274234 rmsd 5.581231117248535\n",
      "9mer score 49.232756963274234 rmsd 5.581231117248535\n",
      "9mer score 49.232756963274234 rmsd 5.581231117248535\n",
      "9mer score 49.232756963274234 rmsd 5.581231117248535\n",
      "9mer score 49.232756963274234 rmsd 5.581231117248535\n",
      "9mer score 49.232756963274234 rmsd 5.581231117248535\n",
      "9mer score 49.232756963274234 rmsd 5.581231117248535\n",
      "9mer score 49.232756963274234 rmsd 5.581231117248535\n",
      "9mer score 49.232756963274234 rmsd 5.581231117248535\n",
      "9mer score 49.232756963274234 rmsd 5.581231117248535\n",
      "9mer score 49.232756963274234 rmsd 5.581231117248535\n",
      "9mer score 49.232756963274234 rmsd 5.581231117248535\n",
      "9mer score 49.232756963274234 rmsd 5.581231117248535\n",
      "9mer score 49.232756963274234 rmsd 5.581231117248535\n",
      "9mer score 49.232756963274234 rmsd 5.581231117248535\n",
      "9mer score 49.232756963274234 rmsd 5.581231117248535\n",
      "9mer score 49.232756963274234 rmsd 5.581231117248535\n",
      "9mer score 49.232756963274234 rmsd 5.581231117248535\n",
      "9mer score 49.232756963274234 rmsd 5.581231117248535\n",
      "9mer score 49.232756963274234 rmsd 5.581231117248535\n",
      "9mer score 49.232756963274234 rmsd 5.581231117248535\n",
      "9mer score 49.232756963274234 rmsd 5.581231117248535\n",
      "9mer score 49.232756963274234 rmsd 5.581231117248535\n",
      "9mer score 49.232756963274234 rmsd 5.581231117248535\n",
      "9mer score 49.232756963274234 rmsd 5.581231117248535\n",
      "9mer score 49.232756963274234 rmsd 5.581231117248535\n",
      "9mer score 49.69686472401362 rmsd 6.294092655181885\n",
      "9mer score 49.69686472401362 rmsd 6.294092655181885\n",
      "9mer score 49.69686472401362 rmsd 6.294092655181885\n",
      "9mer score 49.69686472401362 rmsd 6.294092655181885\n",
      "9mer score 49.69686472401362 rmsd 6.294092655181885\n",
      "9mer score 49.69686472401362 rmsd 6.294092655181885\n",
      "9mer score 49.69686472401362 rmsd 6.294092655181885\n",
      "9mer score 49.69686472401362 rmsd 6.294092655181885\n",
      "9mer score 49.69686472401362 rmsd 6.294092655181885\n",
      "9mer score 49.69686472401362 rmsd 6.294092655181885\n",
      "9mer score 49.69686472401362 rmsd 6.294092655181885\n",
      "9mer score 49.69686472401362 rmsd 6.294092655181885\n",
      "9mer score 49.69686472401362 rmsd 6.294092655181885\n",
      "9mer score 49.69686472401362 rmsd 6.294092655181885\n",
      "9mer score 49.69686472401362 rmsd 6.294092655181885\n",
      "9mer score 49.69686472401362 rmsd 6.294092655181885\n",
      "9mer score 49.69686472401362 rmsd 6.294092655181885\n",
      "9mer score 49.69686472401362 rmsd 6.294092655181885\n",
      "9mer score 49.69686472401362 rmsd 6.294092655181885\n",
      "9mer score 49.69686472401362 rmsd 6.294092655181885\n",
      "9mer score 49.69686472401362 rmsd 6.294092655181885\n",
      "9mer score 49.69686472401362 rmsd 6.294092655181885\n",
      "9mer score 49.69686472401362 rmsd 6.294092655181885\n",
      "9mer score 49.69686472401362 rmsd 6.294092655181885\n",
      "9mer score 49.69686472401362 rmsd 6.294092655181885\n",
      "9mer score 49.69686472401362 rmsd 6.294092655181885\n",
      "9mer score 49.69686472401362 rmsd 6.294092655181885\n",
      "9mer score 49.69686472401362 rmsd 6.294092655181885\n",
      "9mer score 49.69686472401362 rmsd 6.294092655181885\n",
      "9mer score 49.19922864525626 rmsd 5.761148452758789\n",
      "9mer score 49.19922864525626 rmsd 5.761148452758789\n",
      "9mer score 49.19922864525626 rmsd 5.761148452758789\n",
      "9mer score 49.19922864525626 rmsd 5.761148452758789\n",
      "9mer score 49.19922864525626 rmsd 5.761148452758789\n",
      "9mer score 49.19922864525626 rmsd 5.761148452758789\n",
      "9mer score 49.19922864525626 rmsd 5.761148452758789\n",
      "9mer score 49.19922864525626 rmsd 5.761148452758789\n",
      "9mer score 49.19922864525626 rmsd 5.761148452758789\n",
      "9mer score 49.19922864525626 rmsd 5.761148452758789\n",
      "9mer score 49.19922864525626 rmsd 5.761148452758789\n",
      "9mer score 49.19922864525626 rmsd 5.761148452758789\n",
      "9mer score 49.19922864525626 rmsd 5.761148452758789\n",
      "9mer score 49.19922864525626 rmsd 5.761148452758789\n",
      "9mer score 49.19922864525626 rmsd 5.761148452758789\n",
      "9mer score 49.19922864525626 rmsd 5.761148452758789\n",
      "9mer score 49.19922864525626 rmsd 5.761148452758789\n",
      "9mer score 49.19922864525626 rmsd 5.761148452758789\n",
      "9mer score 49.19922864525626 rmsd 5.761148452758789\n",
      "9mer score 49.19922864525626 rmsd 5.761148452758789\n",
      "9mer score 49.19922864525626 rmsd 5.761148452758789\n",
      "9mer score 49.19922864525626 rmsd 5.761148452758789\n",
      "9mer score 49.19922864525626 rmsd 5.761148452758789\n",
      "3mer score 49.19922864525626 rmsd 5.761148452758789\n",
      "3mer score 49.19922864525626 rmsd 5.761148452758789\n",
      "3mer score 49.19922864525626 rmsd 5.761148452758789\n",
      "3mer score 49.19922864525626 rmsd 5.761148452758789\n",
      "3mer score 49.19922864525626 rmsd 5.761148452758789\n",
      "3mer score 49.19922864525626 rmsd 5.761148452758789\n",
      "3mer score 49.19922864525626 rmsd 5.761148452758789\n",
      "3mer score 49.19922864525626 rmsd 5.761148452758789\n",
      "3mer score 49.19922864525626 rmsd 5.761148452758789\n",
      "3mer score 49.19922864525626 rmsd 5.761148452758789\n",
      "3mer score 49.30949753178553 rmsd 5.776271343231201\n",
      "3mer score 49.30949753178553 rmsd 5.776271343231201\n",
      "3mer score 49.30949753178553 rmsd 5.776271343231201\n",
      "3mer score 52.617480484630775 rmsd 5.405733585357666\n",
      "3mer score 52.61748048463078 rmsd 5.405733585357666\n",
      "3mer score 52.61748048463078 rmsd 5.405733585357666\n",
      "3mer score 54.96390019884107 rmsd 5.751215934753418\n",
      "3mer score 54.96390019884107 rmsd 5.751215934753418\n",
      "3mer score 54.96390019884107 rmsd 5.751215934753418\n",
      "3mer score 54.96390019884107 rmsd 5.751215934753418\n",
      "3mer score 54.96390019884107 rmsd 5.751215934753418\n",
      "3mer score 54.96390019884107 rmsd 5.751215934753418\n",
      "3mer score 54.96390019884107 rmsd 5.751215934753418\n",
      "3mer score 54.96390019884107 rmsd 5.751215934753418\n",
      "3mer score 54.96390019884107 rmsd 5.751215934753418\n",
      "3mer score 48.64028649590216 rmsd 4.8936638832092285\n",
      "3mer score 48.640286495902174 rmsd 4.8936638832092285\n",
      "3mer score 48.640286495902174 rmsd 4.8936638832092285\n",
      "3mer score 48.640286495902174 rmsd 4.8936638832092285\n",
      "3mer score 48.640286495902174 rmsd 4.8936638832092285\n",
      "3mer score 48.640286495902174 rmsd 4.8936638832092285\n",
      "3mer score 48.60281965809369 rmsd 4.917355060577393\n",
      "3mer score 48.60281965809369 rmsd 4.917355060577393\n",
      "3mer score 48.60281965809369 rmsd 4.917355060577393\n",
      "3mer score 48.60281965809369 rmsd 4.917355060577393\n",
      "3mer score 48.60281965809369 rmsd 4.917355060577393\n",
      "3mer score 48.60281965809369 rmsd 4.917355060577393\n",
      "3mer score 48.34776333753227 rmsd 5.114871501922607\n",
      "3mer score 48.34776333753227 rmsd 5.114871501922607\n",
      "3mer score 48.34776333753227 rmsd 5.114871501922607\n",
      "3mer score 48.34776333753227 rmsd 5.114871501922607\n",
      "3mer score 48.34776333753227 rmsd 5.114871501922607\n",
      "3mer score 48.34776333753227 rmsd 5.114871501922607\n",
      "3mer score 48.34776333753227 rmsd 5.114871501922607\n",
      "3mer score 48.34776333753227 rmsd 5.114871501922607\n",
      "3mer score 48.34776333753227 rmsd 5.114871501922607\n",
      "3mer score 48.34776333753227 rmsd 5.114871501922607\n",
      "3mer score 48.34776333753227 rmsd 5.114871501922607\n",
      "3mer score 48.34776333753227 rmsd 5.114871501922607\n",
      "3mer score 48.34776333753227 rmsd 5.114871501922607\n",
      "3mer score 48.34776333753227 rmsd 5.114871501922607\n",
      "3mer score 45.956011523944284 rmsd 4.5886759757995605\n",
      "3mer score 45.956011523944284 rmsd 4.5886759757995605\n",
      "3mer score 45.956011523944284 rmsd 4.5886759757995605\n",
      "3mer score 45.956011523944284 rmsd 4.5886759757995605\n",
      "3mer score 45.956011523944284 rmsd 4.5886759757995605\n",
      "3mer score 45.956011523944284 rmsd 4.5886759757995605\n",
      "3mer score 45.956011523944284 rmsd 4.5886759757995605\n",
      "3mer score 45.956011523944284 rmsd 4.5886759757995605\n",
      "3mer score 45.956011523944284 rmsd 4.5886759757995605\n",
      "3mer score 45.956011523944284 rmsd 4.5886759757995605\n",
      "3mer score 45.956011523944284 rmsd 4.5886759757995605\n",
      "3mer score 45.956011523944284 rmsd 4.5886759757995605\n",
      "3mer score 45.956011523944284 rmsd 4.5886759757995605\n",
      "3mer score 45.956011523944284 rmsd 4.5886759757995605\n",
      "3mer score 45.956011523944284 rmsd 4.5886759757995605\n",
      "3mer score 45.956011523944284 rmsd 4.5886759757995605\n",
      "3mer score 45.956011523944284 rmsd 4.5886759757995605\n",
      "3mer score 45.956011523944284 rmsd 4.5886759757995605\n",
      "3mer score 45.956011523944284 rmsd 4.5886759757995605\n",
      "3mer score 45.956011523944284 rmsd 4.5886759757995605\n",
      "3mer score 45.956011523944284 rmsd 4.5886759757995605\n",
      "3mer score 45.956011523944284 rmsd 4.5886759757995605\n",
      "3mer score 45.956011523944284 rmsd 4.5886759757995605\n",
      "3mer score 45.956011523944284 rmsd 4.5886759757995605\n",
      "3mer score 45.956011523944284 rmsd 4.5886759757995605\n",
      "3mer score 45.956011523944284 rmsd 4.5886759757995605\n",
      "3mer score 45.956011523944284 rmsd 4.5886759757995605\n",
      "3mer score 45.956011523944284 rmsd 4.5886759757995605\n",
      "3mer score 45.956011523944284 rmsd 4.5886759757995605\n",
      "3mer score 45.956011523944284 rmsd 4.5886759757995605\n",
      "3mer score 45.956011523944284 rmsd 4.5886759757995605\n",
      "3mer score 45.956011523944284 rmsd 4.5886759757995605\n",
      "3mer score 45.956011523944284 rmsd 4.5886759757995605\n",
      "3mer score 45.956011523944284 rmsd 4.5886759757995605\n",
      "3mer score 45.956011523944284 rmsd 4.5886759757995605\n",
      "3mer score 45.956011523944284 rmsd 4.5886759757995605\n",
      "3mer score 45.956011523944284 rmsd 4.5886759757995605\n",
      "3mer score 45.956011523944284 rmsd 4.5886759757995605\n",
      "3mer score 45.956011523944284 rmsd 4.5886759757995605\n",
      "3mer score 45.956011523944284 rmsd 4.5886759757995605\n",
      "3mer score 45.956011523944284 rmsd 4.5886759757995605\n",
      "3mer score 45.956011523944284 rmsd 4.5886759757995605\n",
      "3mer score 45.956011523944284 rmsd 4.5886759757995605\n",
      "3mer score 45.956011523944284 rmsd 4.5886759757995605\n",
      "3mer score 45.956011523944284 rmsd 4.5886759757995605\n",
      "3mer score 45.956011523944284 rmsd 4.5886759757995605\n",
      "3mer score 45.956011523944284 rmsd 4.5886759757995605\n",
      "3mer score 45.956011523944284 rmsd 4.5886759757995605\n",
      "3mer score 45.956011523944284 rmsd 4.5886759757995605\n"
     ]
    }
   ],
   "source": [
    "CA_rmsd_array = np.zeros((n_iteration,), dtype='float')\n",
    "pose_score = np.zeros((n_iteration,), dtype='float')\n",
    "\n",
    "# Loop\n",
    "n_iteration = 100\n",
    "for i in range(n_iteration):\n",
    "    trial_mover_9.apply(work_pose)\n",
    "    pose_score[i] = sxfn(work_pose)\n",
    "    CA_rmsd_array[i] = CA_rmsd(work_pose, pose_native)\n",
    "    print('9mer score', pose_score[i], 'rmsd', CA_rmsd_array[i])\n",
    "\n",
    "\n",
    "for i in range(n_iteration):\n",
    "    trial_mover_3.apply(work_pose)\n",
    "    pose_score[i] = sxfn(work_pose)\n",
    "    CA_rmsd_array[i] = CA_rmsd(work_pose, pose_native)\n",
    "    \n",
    "    print('3mer score', pose_score[i], 'rmsd', CA_rmsd_array[i])"
   ]
  },
  {
   "cell_type": "markdown",
   "metadata": {},
   "source": [
    "Let's try to refine the structure that comes out of the 9- and 3-mer fragment insertion stage above. Construct a new sequence mover with just the small mover and the shear movers (i.e. no RandomTorsionMover)."
   ]
  },
  {
   "cell_type": "code",
   "execution_count": 37,
   "metadata": {
    "deletable": false,
    "nbgrader": {
     "cell_type": "code",
     "checksum": "7e49415352a41794c793965dbe5f4a3d",
     "grade": true,
     "grade_id": "cell-227f1c100599dfca",
     "locked": false,
     "points": 0,
     "schema_version": 3,
     "solution": true
    }
   },
   "outputs": [],
   "source": [
    "#25\n",
    "# YOUR CODE HERE\n",
    "sequence_mover_2 = pyrosetta.rosetta.protocols.moves.SequenceMover()\n",
    "\n",
    "sequence_mover_2.add_mover(small_mover)\n",
    "sequence_mover_2.add_mover(shear_mover)"
   ]
  },
  {
   "cell_type": "markdown",
   "metadata": {},
   "source": [
    "Construct a trial mover with the new sequence mover and the `MonteCarlo` object."
   ]
  },
  {
   "cell_type": "code",
   "execution_count": 38,
   "metadata": {
    "deletable": false,
    "nbgrader": {
     "cell_type": "code",
     "checksum": "a1e60cfd16cdec840ca8a42018ea3c2f",
     "grade": true,
     "grade_id": "cell-6bf71833feb85906",
     "locked": false,
     "points": 0,
     "schema_version": 3,
     "solution": true
    }
   },
   "outputs": [],
   "source": [
    "#26\n",
    "# YOUR CODE HERE\n",
    "trial_mover_2 = pyrosetta.rosetta.protocols.moves.TrialMover(sequence_mover_2, mc)"
   ]
  },
  {
   "cell_type": "markdown",
   "metadata": {},
   "source": [
    "Now, copy-paste the trial-mover loop and score printing from above to run the this refinement stage of the protocol. This time, however, do not reset the MonteCarlo object or reassign your working pose to the `pose_start`."
   ]
  },
  {
   "cell_type": "code",
   "execution_count": 39,
   "metadata": {
    "deletable": false,
    "nbgrader": {
     "cell_type": "code",
     "checksum": "7bbd9c180ba91f988029d01072601c28",
     "grade": true,
     "grade_id": "cell-738b7b4528abac38",
     "locked": false,
     "points": 0,
     "schema_version": 3,
     "solution": true
    }
   },
   "outputs": [
    {
     "name": "stdout",
     "output_type": "stream",
     "text": [
      "score 44.72576385688422 rmsd 4.576930046081543\n",
      "score 44.58585665861669 rmsd 4.561782360076904\n",
      "score 44.58585665861669 rmsd 4.561782360076904\n",
      "score 42.95287626312666 rmsd 4.553153038024902\n",
      "score 42.95287626312666 rmsd 4.553153038024902\n",
      "score 42.18257942598374 rmsd 4.492093086242676\n",
      "score 42.18257942598375 rmsd 4.492093086242676\n",
      "score 42.18257942598375 rmsd 4.492093086242676\n",
      "score 43.30152587941009 rmsd 4.531303405761719\n",
      "score 43.17243438822205 rmsd 4.484631538391113\n",
      "score 43.17243438822205 rmsd 4.484631538391113\n",
      "score 43.17243438822205 rmsd 4.484631538391113\n",
      "score 42.29408783527037 rmsd 4.519283771514893\n",
      "score 42.294087835270375 rmsd 4.519283771514893\n",
      "score 42.294087835270375 rmsd 4.519283771514893\n",
      "score 42.294087835270375 rmsd 4.519283771514893\n",
      "score 42.294087835270375 rmsd 4.519283771514893\n",
      "score 38.43692600188429 rmsd 4.505205154418945\n",
      "score 37.51565105159728 rmsd 4.454853057861328\n",
      "score 37.51565105159728 rmsd 4.454853057861328\n",
      "score 37.51565105159728 rmsd 4.454853057861328\n",
      "score 37.26509916433085 rmsd 4.429833889007568\n",
      "score 39.697760228026475 rmsd 4.4237189292907715\n",
      "score 39.697760228026475 rmsd 4.4237189292907715\n",
      "score 39.697760228026475 rmsd 4.4237189292907715\n",
      "score 39.697760228026475 rmsd 4.4237189292907715\n",
      "score 39.697760228026475 rmsd 4.4237189292907715\n",
      "score 39.697760228026475 rmsd 4.4237189292907715\n",
      "score 39.697760228026475 rmsd 4.4237189292907715\n",
      "score 38.859690887097614 rmsd 4.390069961547852\n",
      "score 38.859690887097614 rmsd 4.390069961547852\n",
      "score 38.859690887097614 rmsd 4.390069961547852\n",
      "score 38.859690887097614 rmsd 4.390069961547852\n",
      "score 38.859690887097614 rmsd 4.390069961547852\n",
      "score 38.859690887097614 rmsd 4.390069961547852\n",
      "score 39.79027241594465 rmsd 4.359470367431641\n",
      "score 38.66268802837026 rmsd 4.35715389251709\n",
      "score 38.662688028370255 rmsd 4.35715389251709\n",
      "score 38.78025518496591 rmsd 4.332191467285156\n",
      "score 38.98075732309703 rmsd 4.332162380218506\n",
      "score 38.98075732309703 rmsd 4.332162380218506\n",
      "score 38.98075732309703 rmsd 4.332162380218506\n",
      "score 38.98075732309703 rmsd 4.332162380218506\n",
      "score 41.17478521919784 rmsd 4.243778705596924\n",
      "score 40.748356196909675 rmsd 4.217957496643066\n",
      "score 40.748356196909675 rmsd 4.217957496643066\n",
      "score 40.748356196909675 rmsd 4.217957496643066\n",
      "score 40.748356196909675 rmsd 4.217957496643066\n",
      "score 40.748356196909675 rmsd 4.217957496643066\n",
      "score 40.748356196909675 rmsd 4.217957496643066\n",
      "score 39.03111770219792 rmsd 4.263123512268066\n",
      "score 39.03111770219792 rmsd 4.263123512268066\n",
      "score 37.63800502696091 rmsd 4.2741498947143555\n",
      "score 37.63800502696091 rmsd 4.2741498947143555\n",
      "score 37.63800502696091 rmsd 4.2741498947143555\n",
      "score 38.16758972225201 rmsd 4.311553955078125\n",
      "score 37.68938163428817 rmsd 4.375546932220459\n",
      "score 37.68938163428817 rmsd 4.375546932220459\n",
      "score 37.68938163428817 rmsd 4.375546932220459\n",
      "score 37.68938163428817 rmsd 4.375546932220459\n",
      "score 38.087711883255004 rmsd 4.407626152038574\n",
      "score 38.48690786569717 rmsd 4.329342842102051\n",
      "score 37.069098863270305 rmsd 4.325833320617676\n",
      "score 37.069098863270305 rmsd 4.325833320617676\n",
      "score 37.069098863270305 rmsd 4.325833320617676\n",
      "score 37.069098863270305 rmsd 4.325833320617676\n",
      "score 37.069098863270305 rmsd 4.325833320617676\n",
      "score 37.86150668405633 rmsd 4.326995849609375\n",
      "score 35.34515668676799 rmsd 4.331004619598389\n",
      "score 36.82331424715911 rmsd 4.373234748840332\n",
      "score 36.82331424715911 rmsd 4.373234748840332\n",
      "score 34.754988661619315 rmsd 4.40966796875\n",
      "score 34.754988661619315 rmsd 4.40966796875\n",
      "score 34.754988661619315 rmsd 4.40966796875\n",
      "score 34.754988661619315 rmsd 4.40966796875\n",
      "score 34.754988661619315 rmsd 4.40966796875\n",
      "score 34.754988661619315 rmsd 4.40966796875\n",
      "score 34.754988661619315 rmsd 4.40966796875\n",
      "score 34.754988661619315 rmsd 4.40966796875\n",
      "score 34.754988661619315 rmsd 4.40966796875\n",
      "score 36.101319995466696 rmsd 4.30721378326416\n",
      "score 33.604221784639265 rmsd 4.418140411376953\n",
      "score 33.604221784639265 rmsd 4.418140411376953\n",
      "score 33.604221784639265 rmsd 4.418140411376953\n",
      "score 36.46853687773759 rmsd 4.400487899780273\n",
      "score 36.46853687773759 rmsd 4.400487899780273\n",
      "score 36.46853687773759 rmsd 4.400487899780273\n",
      "score 36.46853687773759 rmsd 4.400487899780273\n",
      "score 36.46853687773759 rmsd 4.400487899780273\n",
      "score 36.46853687773759 rmsd 4.400487899780273\n",
      "score 36.46853687773759 rmsd 4.400487899780273\n",
      "score 36.46853687773759 rmsd 4.400487899780273\n",
      "score 36.46853687773759 rmsd 4.400487899780273\n",
      "score 36.46853687773759 rmsd 4.400487899780273\n",
      "score 36.25595087514176 rmsd 4.388718128204346\n",
      "score 36.25595087514176 rmsd 4.388718128204346\n",
      "score 36.25595087514176 rmsd 4.388718128204346\n",
      "score 36.25595087514176 rmsd 4.388718128204346\n",
      "score 36.25595087514176 rmsd 4.388718128204346\n",
      "score 36.25595087514176 rmsd 4.388718128204346\n"
     ]
    }
   ],
   "source": [
    "#27 jsfjielfjpajfeijfjacngieowpqfjdidinnerbreakiwoefindthepalindromeraceewafejafracecar\n",
    "# YOUR CODE HERE\n",
    "mc.set_temperature(1.0)\n",
    "CA_rmsd_array = np.zeros((n_iteration,), dtype='float')\n",
    "pose_score = np.zeros((n_iteration,), dtype='float')\n",
    "\n",
    "# Loop\n",
    "n_iteration = 100\n",
    "for i in range(n_iteration):\n",
    "    trial_mover_2.apply(work_pose)\n",
    "    pose_score[i] = sxfn(work_pose)\n",
    "    CA_rmsd_array[i] = CA_rmsd(work_pose, pose_native)\n",
    "    print('score', pose_score[i], 'rmsd', CA_rmsd_array[i])"
   ]
  },
  {
   "cell_type": "markdown",
   "metadata": {},
   "source": [
    "## Recovering the best structure and minimizing"
   ]
  },
  {
   "cell_type": "markdown",
   "metadata": {},
   "source": [
    "We've run a Monte Carlo simulation, but this doesn't guarantee that the final accepted pose was the best scoring pose that we came across during the simulation. Use MonteCarlo's `recover_low()` function to get the lowest scoring pose. Print the score of this Pose. Does it have a lower score than the score printed for the last step of your fragment insertion code above? How does its score compare to that of the native? What is its CA RMSD?"
   ]
  },
  {
   "cell_type": "code",
   "execution_count": 44,
   "metadata": {
    "deletable": false,
    "nbgrader": {
     "cell_type": "code",
     "checksum": "d0a3a13ce0a1640fa1b5af5537eb8232",
     "grade": true,
     "grade_id": "cell-4cf703bfec0e792d",
     "locked": false,
     "points": 0,
     "schema_version": 3,
     "solution": true
    }
   },
   "outputs": [
    {
     "name": "stdout",
     "output_type": "stream",
     "text": [
      "best pose score: 33.604221784639265\n",
      "best pose RMSD: 4.418140411376953\n"
     ]
    }
   ],
   "source": [
    "#28\n",
    "# YOUR CODE HERE\n",
    "#mc.recover_low(work_pose)\n",
    "best_pose = Pose()\n",
    "mc.recover_low(best_pose)\n",
    "print(\"best pose score:\", sxfn(best_pose))\n",
    "print(\"best pose RMSD:\", CA_rmsd(pose_native,best_pose))"
   ]
  },
  {
   "cell_type": "markdown",
   "metadata": {},
   "source": [
    "In this lab, we have only used Monte Carlo and not minimization. As a last step, let's use the MinMover to minimize the pose periodically (located in protocols.minimization_packing). Code for the MinMover is already written in the cell below."
   ]
  },
  {
   "cell_type": "code",
   "execution_count": 45,
   "metadata": {},
   "outputs": [],
   "source": [
    "from pyrosetta.rosetta.protocols.minimization_packing import *\n",
    "min_mover = MinMover()\n",
    "min_mover.set_movemap(mm)\n",
    "\n",
    "sxfn = create_score_function('score3') # centroid score function\n",
    "min_mover.score_function(sxfn) "
   ]
  },
  {
   "cell_type": "markdown",
   "metadata": {},
   "source": [
    "Apply the `MinMover` on your recovered pose. Send the changes to PyMOL using the pymol mover. Print out the score and the RMSD after minimization. Is the score less, what about the RMSD?"
   ]
  },
  {
   "cell_type": "code",
   "execution_count": 47,
   "metadata": {
    "deletable": false,
    "nbgrader": {
     "cell_type": "code",
     "checksum": "f8667f6b3d539363723ef30d72f4ec4b",
     "grade": true,
     "grade_id": "cell-bf058940ffbe3f84",
     "locked": false,
     "points": 0,
     "schema_version": 3,
     "solution": true
    }
   },
   "outputs": [
    {
     "name": "stdout",
     "output_type": "stream",
     "text": [
      "Score = 34.67902440093992\n",
      "RMSD = 4.405145645141602\n"
     ]
    }
   ],
   "source": [
    "#29\n",
    "# YOUR CODE HERE\n",
    "min_mover.apply(best_pose)\n",
    "print('Score =', sxfn(best_pose))\n",
    "print('RMSD =', CA_rmsd(best_pose, pose_native))"
   ]
  },
  {
   "cell_type": "code",
   "execution_count": null,
   "metadata": {},
   "outputs": [],
   "source": []
  }
 ],
 "metadata": {
  "kernelspec": {
   "display_name": "Python 3",
   "language": "python",
   "name": "python3"
  },
  "language_info": {
   "codemirror_mode": {
    "name": "ipython",
    "version": 3
   },
   "file_extension": ".py",
   "mimetype": "text/x-python",
   "name": "python",
   "nbconvert_exporter": "python",
   "pygments_lexer": "ipython3",
   "version": "3.7.7"
  }
 },
 "nbformat": 4,
 "nbformat_minor": 2
}
