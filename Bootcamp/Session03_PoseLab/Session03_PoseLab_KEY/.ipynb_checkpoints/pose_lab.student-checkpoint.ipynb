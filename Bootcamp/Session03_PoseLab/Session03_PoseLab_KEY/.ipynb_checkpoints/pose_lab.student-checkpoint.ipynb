{
 "cells": [
  {
   "cell_type": "markdown",
   "metadata": {},
   "source": [
    "# Pose Lab"
   ]
  },
  {
   "cell_type": "markdown",
   "metadata": {},
   "source": [
    "In this lab, we will get practice working with the `Pose` class in PyRosetta. We will load in a protein from a PDB files, use the `Pose` class to learn about the geometry of the protein, make changes to this geometry, and visualize the changes easily with `PyMOL` and PyRosetta's `PyMOLMover`. \n",
    "\n",
    "On the attached cheatsheet you will find various useful commands to interrogate poses; these may come in handy for the exercises.\n",
    "\n",
    "**PyRosetta Installation:**\n",
    "The following two lines will load in the PyRosetta library and load in database files. If this does not work, you may have to revisit your PyRosetta installation."
   ]
  },
  {
   "cell_type": "code",
   "execution_count": null,
   "metadata": {
    "scrolled": true
   },
   "outputs": [],
   "source": [
    "from pyrosetta import *\n",
    "init()"
   ]
  },
  {
   "cell_type": "markdown",
   "metadata": {},
   "source": [
    "## Loading in a PDB File ##"
   ]
  },
  {
   "cell_type": "markdown",
   "metadata": {},
   "source": [
    "We will spend some time today looking at the crystal structure for the protein **PafA** (PDB ID: 5tj3) using Pyrosetta and PyMOL. PafA is an alkaline phosphatase, which removes a phosphate group from a phosphate monoester. In this structure, a modified amino acid, phosphothreonine, is used to mimic the substrate in the active site. Let's load in this structure with PyRosetta:"
   ]
  },
  {
   "cell_type": "code",
   "execution_count": null,
   "metadata": {
    "scrolled": true
   },
   "outputs": [],
   "source": [
    "pose = pose_from_pdb(\"5tj3.pdb\")"
   ]
  },
  {
   "cell_type": "markdown",
   "metadata": {},
   "source": [
    "We can take a look at the sequence with the following command."
   ]
  },
  {
   "cell_type": "code",
   "execution_count": null,
   "metadata": {
    "scrolled": true
   },
   "outputs": [],
   "source": [
    "pose.sequence()"
   ]
  },
  {
   "cell_type": "markdown",
   "metadata": {},
   "source": [
    "Sometimes PDB files do not conform to standards and need to be cleaned to be loaded successfully with PyRosetta. One way to make sure the file is loaded successfully is to only ATOM lines from the PDB file. Alternatively, you could use the cleanATOM function in pyrosetta.toolbox to achieve the same: "
   ]
  },
  {
   "cell_type": "code",
   "execution_count": null,
   "metadata": {},
   "outputs": [],
   "source": [
    "from pyrosetta.toolbox import cleanATOM\n",
    "cleanATOM(\"5tj3.pdb\")"
   ]
  },
  {
   "cell_type": "code",
   "execution_count": null,
   "metadata": {},
   "outputs": [],
   "source": [
    "pose_clean = pose_from_pdb(\"5tj3.clean.pdb\")"
   ]
  },
  {
   "cell_type": "markdown",
   "metadata": {},
   "source": [
    "In our case, we could load in the PDB file for 5tj3 without cleaning it. In fact, we've lost some residues when cleaning the PDB file with cleanATOM. What is the difference in the sequence of the pose now, compared to before?"
   ]
  },
  {
   "cell_type": "code",
   "execution_count": null,
   "metadata": {},
   "outputs": [],
   "source": [
    "pose_clean.sequence()"
   ]
  },
  {
   "cell_type": "markdown",
   "metadata": {},
   "source": [
    "Write code below to find the difference(s) between the pose_clean.sequence() and pose.sequence():"
   ]
  },
  {
   "cell_type": "code",
   "execution_count": null,
   "metadata": {},
   "outputs": [],
   "source": []
  },
  {
   "cell_type": "markdown",
   "metadata": {},
   "source": [
    "With the function annotated_sequence below, we can start to see in more detail what the differences are. Note that non-canonical amino acids and hetatms are spelled out more explicitly now."
   ]
  },
  {
   "cell_type": "code",
   "execution_count": null,
   "metadata": {},
   "outputs": [],
   "source": [
    "pose.annotated_sequence()"
   ]
  },
  {
   "cell_type": "code",
   "execution_count": null,
   "metadata": {
    "scrolled": true
   },
   "outputs": [],
   "source": [
    "pose_clean.annotated_sequence()"
   ]
  },
  {
   "cell_type": "markdown",
   "metadata": {},
   "source": [
    "Because this PDB file was able to load into PyRosetta successfully without the cleanATOM method, we're going to stick with this slightly larger `pose` through the rest of this lab."
   ]
  },
  {
   "cell_type": "markdown",
   "metadata": {},
   "source": [
    "## Working with Pose residues ##"
   ]
  },
  {
   "cell_type": "markdown",
   "metadata": {},
   "source": [
    "   We can use methods in `Pose` to count residues and pick out residues from the pose. Remember that `Pose` is a python class, and to access methods it implements, you need an instance of the class (here `pose` or `pose_clean`) and you then use a dot after the instance. Here's a couple examples."
   ]
  },
  {
   "cell_type": "code",
   "execution_count": null,
   "metadata": {
    "scrolled": true
   },
   "outputs": [],
   "source": [
    "print(pose.total_residue())\n",
    "print(pose_clean.total_residue())\n",
    "# Did you catch all the missing residues before?"
   ]
  },
  {
   "cell_type": "code",
   "execution_count": null,
   "metadata": {},
   "outputs": [],
   "source": [
    "res = pose.residue(24)\n",
    "print(res.name())"
   ]
  },
  {
   "cell_type": "markdown",
   "metadata": {},
   "source": [
    "What is the 24th residue of the protein pose? What is the 24th residue in the PDB file (look in the PDB file)?\n",
    "\n",
    "We can immediately see that the numbering Pyrosetta internally uses for pose residues is different from the PDB file. The information corresponding to the PDB file can be accessed through the `pose.pdb_info()` object."
   ]
  },
  {
   "cell_type": "code",
   "execution_count": null,
   "metadata": {},
   "outputs": [],
   "source": [
    "print(pose.pdb_info().chain(24))\n",
    "print(pose.pdb_info().number(24))"
   ]
  },
  {
   "cell_type": "code",
   "execution_count": null,
   "metadata": {
    "scrolled": false
   },
   "outputs": [],
   "source": [
    "print(pose.pdb_info().pose2pdb(24))"
   ]
  },
  {
   "cell_type": "code",
   "execution_count": null,
   "metadata": {},
   "outputs": [],
   "source": [
    "print(pose.pdb_info().pdb2pose('A', 24))"
   ]
  },
  {
   "cell_type": "markdown",
   "metadata": {},
   "source": [
    "Note that Rosetta counts from 1. Lots of programming languages encourage developers to count from 0, including python. This will come up any time you try to use the `range` function in a for loop. If you write:\n",
    "```\n",
    "    for i in range(4):\n",
    "        print(i)\n",
    "```\n",
    "then it will output numbers 0, 1, 2, and 3. In order to iterate from 1 to 4, you have to write:\n",
    "```\n",
    "    for i in range(1,4+1):\n",
    "        print(i)\n",
    "```\n",
    "which is ever so slightly annoying. If you want to iterate over all of the residues in a Pose, you will need to construct your range like this:\n",
    "```\n",
    "    for i in range(1,pose.total_residue()+1):\n",
    "        # whatever you were going to do\n",
    "        pass\n",
    "```\n",
    "You will use this for-loop construct in this lab.\n",
    "\n",
    "===\n",
    "\n",
    "Now we can see how to examine the identity of a residue by PDB chain and residue number.\n",
    "\n",
    "Once we get a residue, there are various methods in the `Residue` class that might be for running analysis. We can get instances of the `Residue` class from `Pose`. For instance, we can do the following:"
   ]
  },
  {
   "cell_type": "code",
   "execution_count": null,
   "metadata": {},
   "outputs": [],
   "source": [
    "res_24 = pose.residue(24)\n",
    "print(res_24.name())\n",
    "print(res_24.is_charged())"
   ]
  },
  {
   "cell_type": "markdown",
   "metadata": {},
   "source": [
    "## Accessing PyRosetta Documentation ##"
   ]
  },
  {
   "cell_type": "markdown",
   "metadata": {},
   "source": [
    "One benefit of working within Jupyter notebooks is that we can make use of its autocomplete features. To see an example, try typing `res.is_` and pressing `tab` to find other features of residues you can examine. Note that you can scroll down to see more features."
   ]
  },
  {
   "cell_type": "code",
   "execution_count": null,
   "metadata": {},
   "outputs": [],
   "source": [
    "res.is_"
   ]
  },
  {
   "cell_type": "markdown",
   "metadata": {},
   "source": [
    "Some atom-level information is described by funtions starting with `atom_is_`. Press tab to find these functions\n"
   ]
  },
  {
   "cell_type": "code",
   "execution_count": null,
   "metadata": {},
   "outputs": [],
   "source": [
    "res.atom_is_"
   ]
  },
  {
   "cell_type": "markdown",
   "metadata": {},
   "source": [
    "Now that we've looked through those functions, we know how to confirm that PyRosetta has loaded in the zinc ions as metal ions. "
   ]
  },
  {
   "cell_type": "code",
   "execution_count": null,
   "metadata": {
    "scrolled": true
   },
   "outputs": [],
   "source": [
    "zn_resid = pose.pdb_info().pdb2pose('A', 601)\n",
    "res_zn = pose.residue(zn_resid) \n",
    "res_zn.is_metal() "
   ]
  },
  {
   "cell_type": "markdown",
   "metadata": {},
   "source": [
    "We can also explore documentation for objects and methods from Jupyter notebooks. Say you wanted to find out more about the Pose object. Try typing in `Pose?`, `?Pose` or `help(Pose)`."
   ]
  },
  {
   "cell_type": "code",
   "execution_count": null,
   "metadata": {},
   "outputs": [],
   "source": [
    "Pose?"
   ]
  },
  {
   "cell_type": "markdown",
   "metadata": {},
   "source": [
    "By the way, now if you ever go on to develop some PyRosetta functions, you can see the importance of docstrings!\n",
    "\n",
    "This works for PyRosetta methods as well:"
   ]
  },
  {
   "cell_type": "code",
   "execution_count": null,
   "metadata": {},
   "outputs": [],
   "source": [
    "res_24 = pose.residue(24)\n",
    "res_24.atom_index?"
   ]
  },
  {
   "cell_type": "markdown",
   "metadata": {},
   "source": [
    "Now use the method below to find out whether the \"CA\" atom in res_24 is a backbone atom. "
   ]
  },
  {
   "cell_type": "code",
   "execution_count": null,
   "metadata": {},
   "outputs": [],
   "source": [
    "res_24.atom_is_backbone(res_24.atom_index(\"CA\"))"
   ]
  },
  {
   "cell_type": "markdown",
   "metadata": {},
   "source": [
    "## Getting spatial features from a Pose ## "
   ]
  },
  {
   "cell_type": "markdown",
   "metadata": {},
   "source": [
    "`Pose` objects make it easy to access angles, distances, and torsions for analysis. Lets take a look at how to get backbone torsions first."
   ]
  },
  {
   "cell_type": "code",
   "execution_count": null,
   "metadata": {},
   "outputs": [],
   "source": [
    "resid = pose.pdb_info().pdb2pose('A', 28)\n",
    "print(pose.phi(resid))\n",
    "print(pose.psi(resid))\n",
    "print(pose.chi(1, resid))"
   ]
  },
  {
   "cell_type": "markdown",
   "metadata": {},
   "source": [
    "Say we want to find the length of the $N$-$C_\\alpha$ and $C_\\alpha$-$C$ bonds for residue A:28 from the PDB file. We can use a couple approaches. The first involves using the bond length in the `Conformation` class, which stores some info on protein geometry. Take a look at some of the methods in the `Conformation` class using tab completion."
   ]
  },
  {
   "cell_type": "code",
   "execution_count": null,
   "metadata": {},
   "outputs": [],
   "source": [
    "conformation = pose.conformation()"
   ]
  },
  {
   "cell_type": "markdown",
   "metadata": {},
   "source": [
    "Look at the documentation for the method `conformation.bond_length` below."
   ]
  },
  {
   "cell_type": "code",
   "execution_count": null,
   "metadata": {},
   "outputs": [],
   "source": [
    "conformation.bond_length?"
   ]
  },
  {
   "cell_type": "markdown",
   "metadata": {},
   "source": [
    "To use the bond_length method in the `Conformation` class, it looks like we'll need to make `AtomID` objects. We can do this using an atom index and residue ID as follows:"
   ]
  },
  {
   "cell_type": "code",
   "execution_count": null,
   "metadata": {},
   "outputs": [],
   "source": [
    "res_28 = pose.residue(resid)\n",
    "N28 = AtomID(res_28.atom_index(\"N\"), resid)\n",
    "CA28 = AtomID(res_28.atom_index(\"CA\"), resid)\n",
    "C28 = AtomID(res_28.atom_index(\"C\"), resid)"
   ]
  },
  {
   "cell_type": "markdown",
   "metadata": {},
   "source": [
    "As usual, if you did not know how to construct an `AtomID`, you could check the documentation using `?AtomID`.\n",
    "\n",
    "Now we can compute the bond lengths:"
   ]
  },
  {
   "cell_type": "code",
   "execution_count": null,
   "metadata": {},
   "outputs": [],
   "source": [
    "print(pose.conformation().bond_length(N28, CA28))\n",
    "print(pose.conformation().bond_length(CA28, C28))"
   ]
  },
  {
   "cell_type": "markdown",
   "metadata": {},
   "source": [
    "Alternatively, we can compute bond lengths ourselves starting from the xyz coordinates of the atoms. \n",
    "\n",
    "The method `xyz` of `Residue` returns a `Vector` class. The `Vector` class has various useful builtin methods including computing dot products, cross products, and norms. Through operator overloading in the `Vector` class, you can just subtract and add vector objects and they will manipulate the corresponding vectors appropriately."
   ]
  },
  {
   "cell_type": "code",
   "execution_count": null,
   "metadata": {},
   "outputs": [],
   "source": [
    "N_xyz = res_28.xyz(\"N\")\n",
    "CA_xyz = res_28.xyz(\"CA\")\n",
    "C_xyz = res_28.xyz(\"C\")\n",
    "print((CA_xyz - N_xyz).norm())\n",
    "print((CA_xyz - C_xyz).norm())"
   ]
  },
  {
   "cell_type": "markdown",
   "metadata": {},
   "source": [
    "Thankfully, the two approaches for computing distances check out!\n",
    "\n",
    "**Note**: Not all bond lengths, angles, and torsions will be accessible using the `Conformation` object. That is because the `Conformation` object stores only the subset it needs to generate xyz locations for the atoms in the pose. The most stable way to get this information is to compute it using the xyz Cartesian coordinate vectors as a starting point."
   ]
  },
  {
   "cell_type": "markdown",
   "metadata": {},
   "source": [
    "Let's take a look at Rosetta's ideal values for this amino acid's bond lengths and see how these values compare. First find Pyrosetta's database directory on your computer (hint: it should have shown up when you ran `init()` at the beginning of this Jupyter notebook.) Head to the subdirectory `chemical/residue_type_sets/fa_standard/` to find the residue you're looking at. Residue `A:28` can be found in the `l-caa` folder, since it is a standard amino acid. The `ICOOR_INTERNAL` lines will provide torsion angles, bond angles, and bond lengths between subsequent atoms in this residue. From this you should be able to deduce Rosetta's ideal $N$-$C_\\alpha$ and $C_\\alpha$-$C$ bond lengths.\n",
    "\n",
    "These ideal values would for instance be used if we generated a new pose from an amino acid sequence. In fact, let's try that here:"
   ]
  },
  {
   "cell_type": "code",
   "execution_count": null,
   "metadata": {},
   "outputs": [],
   "source": [
    "tiny_seq = res_28.name1()\n",
    "pose_tiny = pose_from_sequence(tiny_seq)\n",
    "print(pose_tiny.sequence())"
   ]
  },
  {
   "cell_type": "code",
   "execution_count": null,
   "metadata": {},
   "outputs": [],
   "source": [
    "N_xyz = pose_tiny.residue(1).xyz(\"N\")\n",
    "CA_xyz = pose_tiny.residue(1).xyz(\"CA\")\n",
    "C_xyz = pose_tiny.residue(1).xyz(\"C\")\n",
    "print((CA_xyz - N_xyz).norm())\n",
    "print((CA_xyz - C_xyz).norm())"
   ]
  },
  {
   "cell_type": "markdown",
   "metadata": {},
   "source": [
    "Efficiency Tip:\n",
    "\n",
    "When you are computing the distance between two points, you use\n",
    "\\begin{equation}\n",
    "    dist = \\sqrt{ (x_1-x_2)^2 + (y_1-y_2)^2 + (z_1-z_2)^2 }\n",
    "\\end{equation}\n",
    "which requires the somwhat slow evaluation of a square root. If you are computing the distance between two points to learn whether or not they are closer than some threshold, $\\tau$, you can actually avoid that square root.\n",
    "\n",
    "\\begin{align}\n",
    "    \\sqrt{ (x_1-x_2)^2 + (y_1-y_2)^2 + (z_1-z_2)^2 }     <= \\tau     \\\\\n",
    "    \\sqrt{ (x_1-x_2)^2 + (y_1-y_2)^2 + (z_1-z_2)^2 } ^ 2 <= \\tau ^ 2 \\\\\n",
    "           (x_1-x_2)^2 + (y_1-y_2)^2 + (z_1-z_2)^2       <= \\tau ^ 2 \\\\\n",
    "\\end{align}\n",
    "\n",
    "The inequality holds when you square both sides. So instead of comparing a distance to a threshold distance, compare a square distance against a squared threshold distance. Squaring a distance is fast; squarerooting a squared distance is slow. Use square distances instead of distances when you can.\n",
    "\n",
    "(That said: you're using python, even if the distance functions themselves are written in C++. The overhead of calling the C++ function from python dwarfs the cost of a square root. If you're using vector operations in numpy, then the sqrt can make a difference, but if you're writing python for loops to iterate over atom pairs, you're already spending vastly more time in the python layer than you are down in the actual calculations.)\n",
    "\n",
    "===\n",
    "\n",
    "Now lets figure out how to get angles in the protein. If the `Conformation` class has the angle we're looking for, we can use the AtomID objects we've already created:"
   ]
  },
  {
   "cell_type": "code",
   "execution_count": null,
   "metadata": {},
   "outputs": [],
   "source": [
    "angle = pose.conformation().bond_angle(N28, CA28, C28)\n",
    "print(angle)\n"
   ]
  },
  {
   "cell_type": "markdown",
   "metadata": {},
   "source": [
    "We can compute the above angle in degrees:"
   ]
  },
  {
   "cell_type": "code",
   "execution_count": null,
   "metadata": {},
   "outputs": [],
   "source": [
    "import math\n",
    "angle*180/math.pi"
   ]
  },
  {
   "cell_type": "markdown",
   "metadata": {},
   "source": [
    "Note how this compares to the expected angle based on a tetrahedral geometry for the $C_\\alpha$ carbon."
   ]
  },
  {
   "cell_type": "markdown",
   "metadata": {},
   "source": [
    "**Problem:** Try to calculate this angle using the xyz atom positions for N, CA, and C of residue A:28 in the protein. You can use the `Vector` function `v3 = v1.dot(v2)` along with `v1.norm()`. The vector angle between two vectors BA and BC is $arccos(\\frac{BA \\cdot BC}{|BA| |BC|})$."
   ]
  },
  {
   "cell_type": "code",
   "execution_count": null,
   "metadata": {},
   "outputs": [],
   "source": []
  },
  {
   "cell_type": "markdown",
   "metadata": {},
   "source": [
    "## Pose Scoring"
   ]
  },
  {
   "cell_type": "markdown",
   "metadata": {},
   "source": [
    "The `Pose` class not only contains information about pose geometry, but also contains information about the energy, or score, of the conformation. The energy stored in a Pose object reflects the last time it was scored.\n",
    "\n",
    "Below, we show how to get Rosetta's default score function (which has the weights of different types of energy terms already set). Then we score a pose, which will update its energy values. We can see the energy function used along with the score in Rosetta Energy Units."
   ]
  },
  {
   "cell_type": "code",
   "execution_count": null,
   "metadata": {},
   "outputs": [],
   "source": [
    "sf = get_fa_scorefxn()\n",
    "sf(pose)"
   ]
  },
  {
   "cell_type": "markdown",
   "metadata": {},
   "source": [
    "The `Pose` object can then be the gateway to all sorts of useful energy information. Here we're printing out a pretty cryptic set of energy information for the 5th residue in the protein."
   ]
  },
  {
   "cell_type": "code",
   "execution_count": null,
   "metadata": {},
   "outputs": [],
   "source": [
    "energy = pose.energies()\n",
    "print(energy.residue_total_energies(5))"
   ]
  },
  {
   "cell_type": "markdown",
   "metadata": {},
   "source": [
    "Scoring will be covered in much more detail in a subsequent lecture.\n",
    "\n",
    "Various score terms pertain to hydrogen bonds between residues. After you have scored it, the `Pose` object can also give you easy access to the hydrogen bonds in the protein, including donor and acceptor atoms / residues."
   ]
  },
  {
   "cell_type": "markdown",
   "metadata": {},
   "source": [
    "The following gives information about all the hydrogen bonds in a pose:"
   ]
  },
  {
   "cell_type": "code",
   "execution_count": null,
   "metadata": {
    "scrolled": true
   },
   "outputs": [],
   "source": [
    "hbond_set = pose.get_hbonds()"
   ]
  },
  {
   "cell_type": "markdown",
   "metadata": {},
   "source": [
    "Look at the list of functions that hbond_set offers:"
   ]
  },
  {
   "cell_type": "code",
   "execution_count": null,
   "metadata": {},
   "outputs": [],
   "source": [
    "hbond_set."
   ]
  },
  {
   "cell_type": "markdown",
   "metadata": {},
   "source": [
    "We can then access all the hydrogen bonds that involve a particular residue, below residue 5 in the pose's numbering scheme."
   ]
  },
  {
   "cell_type": "code",
   "execution_count": null,
   "metadata": {},
   "outputs": [],
   "source": [
    "res_hbonds = hbond_set.residue_hbonds(5, False)"
   ]
  },
  {
   "cell_type": "markdown",
   "metadata": {},
   "source": [
    "Lets take a look at the first hydrogen bond this residue forms."
   ]
  },
  {
   "cell_type": "code",
   "execution_count": null,
   "metadata": {},
   "outputs": [],
   "source": [
    "res_hbond = res_hbonds[1]\n",
    "don_res = res_hbond.don_res()\n",
    "acc_res = res_hbond.acc_res()\n",
    "don_hatm = res_hbond.don_hatm()\n",
    "acc_atm = res_hbond.acc_atm()\n",
    "print(don_res)\n",
    "print(don_hatm)\n",
    "print(acc_res)\n",
    "print(acc_atm)"
   ]
  },
  {
   "cell_type": "markdown",
   "metadata": {},
   "source": [
    "Can you figure out the atom names for the donor and acceptor atoms for the hydrogen bond above?"
   ]
  },
  {
   "cell_type": "code",
   "execution_count": null,
   "metadata": {},
   "outputs": [],
   "source": []
  },
  {
   "cell_type": "markdown",
   "metadata": {},
   "source": [
    "## Exercises ##"
   ]
  },
  {
   "cell_type": "markdown",
   "metadata": {},
   "source": [
    "The following exercises are meant to get you more comfortable with `Pose` methods and python coding. Many will require looping through the residues in a pose. As you find residues that answer these questions, zoom in on them in PyMOL to check your work.\n",
    "\n",
    "**PyMOL Instructios:** View the protein in PyMOL, view as cartoon, view Zn2+ atoms as spheres, and color the substrate mimic residue distinctly.\n",
    "```\n",
    "show cartoon; show spheres, resn zn; color orange, resn tpo\n",
    "```"
   ]
  },
  {
   "cell_type": "markdown",
   "metadata": {},
   "source": [
    "### Active Site Residues"
   ]
  },
  {
   "cell_type": "markdown",
   "metadata": {},
   "source": [
    "1. Find all residues that have any side-chain atoms in hydrogen bonding distance (< 2.5 A) to the active site. Find all residues that coordinate with the Zn2+ atoms (< 2.3 A). These residues may have a role in catalysis.\n",
    "\n",
    "Hint: iterate across all residues, and then across all atoms"
   ]
  },
  {
   "cell_type": "code",
   "execution_count": null,
   "metadata": {},
   "outputs": [],
   "source": []
  },
  {
   "cell_type": "markdown",
   "metadata": {},
   "source": [
    "2. Get all residue types within 8 A of the active site. Are there any patterns in terms of residue types here?"
   ]
  },
  {
   "cell_type": "code",
   "execution_count": null,
   "metadata": {},
   "outputs": [],
   "source": []
  },
  {
   "cell_type": "markdown",
   "metadata": {},
   "source": [
    "### Checking Protein Structure"
   ]
  },
  {
   "cell_type": "markdown",
   "metadata": {},
   "source": [
    "1. Get the cartesian distances for all hbond donor and acceptor residues in the protein, and plot with matplotlib in a histogram. Does this align with your expectation?"
   ]
  },
  {
   "cell_type": "code",
   "execution_count": null,
   "metadata": {},
   "outputs": [],
   "source": []
  },
  {
   "cell_type": "markdown",
   "metadata": {},
   "source": [
    "2. Check all $N$-$C_\\alpha$-$C$ bond angles in the protein to make sure they are reasonable.\n",
    "\n",
    "(Not all residues have an $N$, $C_\\alpha$, and $C$ atoms. You can ask a `Residue` if it has an atom, by name, with the `has` method)"
   ]
  },
  {
   "cell_type": "code",
   "execution_count": null,
   "metadata": {},
   "outputs": [],
   "source": []
  },
  {
   "cell_type": "markdown",
   "metadata": {},
   "source": [
    "3. Plot the Ramachandran map for the protein to check that it makes sense. Are there any phi/psi where they shouldn't be?"
   ]
  },
  {
   "cell_type": "code",
   "execution_count": null,
   "metadata": {},
   "outputs": [],
   "source": []
  },
  {
   "cell_type": "markdown",
   "metadata": {},
   "source": [
    "### Analyzing Amino Acid Patterns"
   ]
  },
  {
   "cell_type": "markdown",
   "metadata": {},
   "source": [
    "1. Using PyMOL, find all the polar amino acids in the protein. Do you see a pattern here?"
   ]
  },
  {
   "cell_type": "code",
   "execution_count": null,
   "metadata": {},
   "outputs": [],
   "source": []
  },
  {
   "cell_type": "markdown",
   "metadata": {},
   "source": [
    "2. For each side chain, find its closest side-chain neighbor in 3D space. Plot a histogram of these distances. Which amino acids have side chains that are the furthest from another side chain? Where are they located in the protein?\n",
    "\n",
    "Note: in `Residue`, each atom is either a backbone atom or it is a side-chain atom."
   ]
  },
  {
   "cell_type": "code",
   "execution_count": null,
   "metadata": {},
   "outputs": [],
   "source": []
  },
  {
   "cell_type": "markdown",
   "metadata": {},
   "source": [
    "## Manipulating Protein Geometry"
   ]
  },
  {
   "cell_type": "markdown",
   "metadata": {},
   "source": [
    "We can also easily alter protein geometry using the Pose object. First, let's make a copy of the Pose object we loaded in initially so that we don't mess it up."
   ]
  },
  {
   "cell_type": "code",
   "execution_count": null,
   "metadata": {},
   "outputs": [],
   "source": [
    "pose_change = Pose()\n",
    "pose_change.assign(pose)"
   ]
  },
  {
   "cell_type": "markdown",
   "metadata": {},
   "source": [
    "Let's check that it looks the same."
   ]
  },
  {
   "cell_type": "code",
   "execution_count": null,
   "metadata": {},
   "outputs": [],
   "source": [
    "pose_change.sequence()"
   ]
  },
  {
   "cell_type": "markdown",
   "metadata": {},
   "source": [
    "**Note**: It would not be correct above to just write `pose_change = pose`. That would make a new pointer to the same instance of `Pose`, and changing `pose_change` would also change `pose`. Variables in Python are all pointers except for \"primatives\": ints, floats, etc. `Pose::assign` is a function you will use a lot this week."
   ]
  },
  {
   "cell_type": "code",
   "execution_count": null,
   "metadata": {},
   "outputs": [],
   "source": [
    "resid = pose_change.pdb_info().pdb2pose('A', 28)\n",
    "res_28 = pose_change.residue(resid)\n",
    "N28 = AtomID(res_28.atom_index(\"N\"), resid)\n",
    "CA28 = AtomID(res_28.atom_index(\"CA\"), resid)\n",
    "C28 = AtomID(res_28.atom_index(\"C\"), resid)"
   ]
  },
  {
   "cell_type": "code",
   "execution_count": null,
   "metadata": {},
   "outputs": [],
   "source": [
    "print(pose_change.conformation().bond_length(N28, CA28))"
   ]
  },
  {
   "cell_type": "code",
   "execution_count": null,
   "metadata": {},
   "outputs": [],
   "source": [
    "pose_change.conformation().set_bond_length(N28, CA28, 1.5)"
   ]
  },
  {
   "cell_type": "code",
   "execution_count": null,
   "metadata": {},
   "outputs": [],
   "source": [
    "print(pose_change.conformation().bond_length(N28, CA28))"
   ]
  },
  {
   "cell_type": "markdown",
   "metadata": {},
   "source": [
    "Again not all arbitrary bond lengths, angles, and torsions are available in the `Conformation` object. You can also set xyz coordinates for pose residues directly. \n",
    "\n",
    "Changing torsion angles for residues is also easy:"
   ]
  },
  {
   "cell_type": "code",
   "execution_count": null,
   "metadata": {},
   "outputs": [],
   "source": [
    "pose_change.set_phi(resid, -60)\n",
    "pose_change.set_psi(resid, -43)"
   ]
  },
  {
   "cell_type": "markdown",
   "metadata": {},
   "source": [
    "To understand what these changes are doing, we are going to briefly look at the **fold tree** for PafA."
   ]
  },
  {
   "cell_type": "code",
   "execution_count": null,
   "metadata": {
    "scrolled": true
   },
   "outputs": [],
   "source": [
    "print(pose_change.fold_tree())\n",
    "fold_tree = pose_change.fold_tree()"
   ]
  },
  {
   "cell_type": "markdown",
   "metadata": {},
   "source": [
    "This looks a bit cryptic. The -1 edges indicate continuous stretches of bonded residues, and the numbered edges (here 1, 2, 3, 4) indicate non-bonded jumps from one residue to another. In this case, what are identities of residues 521, 522, 523, and 524? Why are these jump residues?"
   ]
  },
  {
   "cell_type": "code",
   "execution_count": null,
   "metadata": {},
   "outputs": [],
   "source": [
    "    "
   ]
  },
  {
   "cell_type": "markdown",
   "metadata": {},
   "source": [
    "We can see that the whole protein is in a single chain from residue 1 to 520. The fold tree controls how changes to residue geometry propagate through the protein (left to right in the fold tree chain.) Based on the fold tree setup above, if you changed a torsion angle for residue 5, would the Cartesian coordinaes for residue 7 change? What about the coordinates for residue 3?"
   ]
  },
  {
   "cell_type": "markdown",
   "metadata": {},
   "source": [
    "Lets test it out."
   ]
  },
  {
   "cell_type": "code",
   "execution_count": null,
   "metadata": {
    "scrolled": true
   },
   "outputs": [],
   "source": [
    "print(pose_change.residue(3).xyz(\"CA\"))\n",
    "print(pose_change.residue(7).xyz(\"CA\"))"
   ]
  },
  {
   "cell_type": "code",
   "execution_count": null,
   "metadata": {},
   "outputs": [],
   "source": [
    "pose_change.set_phi(resid, -30)"
   ]
  },
  {
   "cell_type": "code",
   "execution_count": null,
   "metadata": {},
   "outputs": [],
   "source": [
    "print(pose_change.residue(3).xyz(\"CA\"))\n",
    "print(pose_change.residue(7).xyz(\"CA\"))"
   ]
  },
  {
   "cell_type": "markdown",
   "metadata": {},
   "source": [
    "In a later lecture, we will learn more about the FoldTree and we will see how and why you might change a FoldTree."
   ]
  },
  {
   "cell_type": "markdown",
   "metadata": {},
   "source": [
    "## PyMOL Mover"
   ]
  },
  {
   "cell_type": "markdown",
   "metadata": {},
   "source": [
    "Download the `PyMOLPyRosettaServer.python3.py`) script from the google drive to some reasonable location on your computer (e.g. `/Users/andrew/rosetta/pymol_setup/`).\n",
    "\n",
    "Add the following line to the file `.pymolrc` in your home directory (or create it if it doesn't exist yet): \n",
    "\n",
    "`run /Users/andrew/rosetta/pymol_setup/PyMOLPyRosettaServer.python3.py` (or wherever you stored it)\n",
    "\n",
    "\n",
    "\n",
    "To check that these commands are run by PyMOL, open up PyMOL and check for a message like `PyMOL <--> PyRosetta link started!` in the dialog box. PyMOL is now listening for updates from PyRosetta on port 127.0.0.1 by default."
   ]
  },
  {
   "cell_type": "markdown",
   "metadata": {},
   "source": [
    "The `PyMOLMover` class will let us send information from PyRosetta to PyMOL for quick visualization. First we're going to make an instance of PyMOLMover."
   ]
  },
  {
   "cell_type": "code",
   "execution_count": null,
   "metadata": {},
   "outputs": [],
   "source": [
    "from pyrosetta import PyMOLMover\n",
    "pmm = PyMOLMover()"
   ]
  },
  {
   "cell_type": "markdown",
   "metadata": {},
   "source": [
    "To view the pose, you can use the apply method on your pose."
   ]
  },
  {
   "cell_type": "code",
   "execution_count": null,
   "metadata": {},
   "outputs": [],
   "source": [
    "pmm.apply(pose)"
   ]
  },
  {
   "cell_type": "markdown",
   "metadata": {},
   "source": [
    "The PyMOLMover has useful helper functions. For example, you can visualize all the hydrogen bonds in your protein with the following:"
   ]
  },
  {
   "cell_type": "code",
   "execution_count": null,
   "metadata": {},
   "outputs": [],
   "source": [
    "pmm.send_hbonds(pose)"
   ]
  },
  {
   "cell_type": "markdown",
   "metadata": {},
   "source": [
    "Just deselect the hydrogen bonds in PyMOL if you want to hide them temporarily. You can also color the pose based on energies of each residue **after** scoring the pose."
   ]
  },
  {
   "cell_type": "code",
   "execution_count": null,
   "metadata": {},
   "outputs": [],
   "source": [
    "sf = get_fa_scorefxn()\n",
    "sf(pose)"
   ]
  },
  {
   "cell_type": "code",
   "execution_count": null,
   "metadata": {},
   "outputs": [],
   "source": [
    "pmm.send_energy(pose)"
   ]
  },
  {
   "cell_type": "markdown",
   "metadata": {},
   "source": [
    "The structure colored from blue (low / favorable energy) to red (high / unfavorable energy). You can also color based on a specific energy term, for instsance the solvation energy below."
   ]
  },
  {
   "cell_type": "code",
   "execution_count": null,
   "metadata": {},
   "outputs": [],
   "source": [
    "pmm.send_energy(pose, \"fa_sol\")"
   ]
  },
  {
   "cell_type": "markdown",
   "metadata": {},
   "source": [
    "Which buried residues have high solvation energies?\n",
    "\n",
    "Instead of calling `send_energy` every time, if you activate `update_energy`, the coloring will be updated every time you call the PyMOLMover's `apply` method."
   ]
  },
  {
   "cell_type": "code",
   "execution_count": null,
   "metadata": {
    "scrolled": true
   },
   "outputs": [],
   "source": [
    "pmm.update_energy(True) \n",
    "pmm.apply(pose)"
   ]
  },
  {
   "cell_type": "markdown",
   "metadata": {},
   "source": [
    "The method `keep_history`, if set to True, allows you to load in structures with the same name into states of the same object in PyMOL. This is the starting point for creating a PyMOL movie of your structure, and allows you to loop through structures in different geometries efficiently."
   ]
  },
  {
   "cell_type": "code",
   "execution_count": null,
   "metadata": {},
   "outputs": [],
   "source": [
    "pmm.keep_history(True) \n",
    "pmm.apply(pose_change)\n",
    "pose_change.set_phi(5, -90)\n",
    "pmm.apply(pose_change)"
   ]
  },
  {
   "cell_type": "markdown",
   "metadata": {},
   "source": [
    "## Exercises"
   ]
  },
  {
   "cell_type": "markdown",
   "metadata": {},
   "source": [
    "1. View PafA using the PyMOL mover apply function. Color the structure by VDW score (use fa_rep as your score term). Set the torsion angle of residue 28 to make some clashes. View the structure colored by VDW score again."
   ]
  },
  {
   "cell_type": "code",
   "execution_count": null,
   "metadata": {},
   "outputs": [],
   "source": []
  },
  {
   "cell_type": "markdown",
   "metadata": {},
   "source": [
    "2. Make an ideal helix consisting of 12 A residues by setting torsion angles. View the structure in PyMOL using the PyMOL mover. Bonus: Make a PyMOL movie that shows the Pose shifting from its starting configuration to its final ideal helix step by step, with one residue changing its torsion angles at a time."
   ]
  },
  {
   "cell_type": "code",
   "execution_count": null,
   "metadata": {},
   "outputs": [],
   "source": []
  },
  {
   "cell_type": "markdown",
   "metadata": {},
   "source": [
    "## References\n",
    "This notebook includes some concepts and exercises from:\n",
    "\n",
    "\"Workshop #2: PyRosetta\" in the PyRosetta workbook: https://graylab.jhu.edu/pyrosetta/downloads/documentation/pyrosetta4_online_format/PyRosetta4_Workshop2_PyRosetta.pdf\n",
    "\n",
    "\"Workshop #4.1: PyMOL_Mover\" in the PyRosetta workbook: \n",
    "http://www.pyrosetta.org/pymol_mover-tutorial"
   ]
  }
 ],
 "metadata": {
  "kernelspec": {
   "display_name": "Python 3",
   "language": "python",
   "name": "python3"
  },
  "language_info": {
   "codemirror_mode": {
    "name": "ipython",
    "version": 3
   },
   "file_extension": ".py",
   "mimetype": "text/x-python",
   "name": "python",
   "nbconvert_exporter": "python",
   "pygments_lexer": "ipython3",
   "version": "3.6.8"
  }
 },
 "nbformat": 4,
 "nbformat_minor": 2
}
