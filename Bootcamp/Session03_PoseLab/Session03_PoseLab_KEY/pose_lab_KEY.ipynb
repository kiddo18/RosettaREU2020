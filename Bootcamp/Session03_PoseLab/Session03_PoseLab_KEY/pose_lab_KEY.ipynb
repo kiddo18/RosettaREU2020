{
 "cells": [
  {
   "cell_type": "markdown",
   "metadata": {},
   "source": [
    "# Pose Lab"
   ]
  },
  {
   "cell_type": "markdown",
   "metadata": {},
   "source": [
    "In this lab, we will get practice working with the `Pose` class in PyRosetta. We will load in a protein from a PDB files, use the `Pose` class to learn about the geometry of the protein, make changes to this geometry, and visualize the changes easily with `PyMOL` and PyRosetta's `PyMOLMover`. \n",
    "\n",
    "On the attached cheatsheet you will find various useful commands to interrogate poses; these may come in handy for the exercises.\n",
    "\n",
    "**PyRosetta Installation:**\n",
    "The following two lines will load in the PyRosetta library and load in database files. If this does not work, you may have to revisit your PyRosetta installation."
   ]
  },
  {
   "cell_type": "code",
   "execution_count": 1,
   "metadata": {
    "scrolled": true
   },
   "outputs": [
    {
     "name": "stdout",
     "output_type": "stream",
     "text": [
      "PyRosetta-4 2020 [Rosetta PyRosetta4.conda.mac.python37.Release 2020.02+release.22ef835b4a2647af94fcd6421a85720f07eddf12 2020-01-05T17:31:56] retrieved from: http://www.pyrosetta.org\n",
      "(C) Copyright Rosetta Commons Member Institutions. Created in JHU by Sergey Lyskov and PyRosetta Team.\n",
      "\u001b[0mcore.init: {0} \u001b[0mChecking for fconfig files in pwd and ./rosetta/flags\n",
      "\u001b[0mcore.init: {0} \u001b[0mRosetta version: PyRosetta4.conda.mac.python37.Release r242 2020.02+release.22ef835b4a2 22ef835b4a2647af94fcd6421a85720f07eddf12 http://www.pyrosetta.org 2020-01-05T17:31:56\n",
      "\u001b[0mcore.init: {0} \u001b[0mcommand: PyRosetta -ex1 -ex2aro -database /Users/paul/anaconda3/envs/pyrosetta_env/lib/python3.7/site-packages/pyrosetta/database\n",
      "\u001b[0mbasic.random.init_random_generator: {0} \u001b[0m'RNG device' seed mode, using '/dev/urandom', seed=1747986707 seed_offset=0 real_seed=1747986707 thread_index=0\n",
      "\u001b[0mbasic.random.init_random_generator: {0} \u001b[0mRandomGenerator:init: Normal mode, seed=1747986707 RG_type=mt19937\n"
     ]
    }
   ],
   "source": [
    "from pyrosetta import *\n",
    "init()"
   ]
  },
  {
   "cell_type": "markdown",
   "metadata": {},
   "source": [
    "## Loading in a PDB File ##"
   ]
  },
  {
   "cell_type": "markdown",
   "metadata": {},
   "source": [
    "We will spend some time today looking at the crystal structure for the protein **PafA** (PDB ID: 5tj3) using Pyrosetta and PyMOL. PafA is an alkaline phosphatase, which removes a phosphate group from a phosphate monoester. In this structure, a modified amino acid, phosphothreonine, is used to mimic the substrate in the active site. Let's load in this structure with PyRosetta:"
   ]
  },
  {
   "cell_type": "code",
   "execution_count": 2,
   "metadata": {
    "scrolled": true
   },
   "outputs": [
    {
     "name": "stdout",
     "output_type": "stream",
     "text": [
      "\u001b[0mcore.chemical.GlobalResidueTypeSet: {0} \u001b[0mFinished initializing fa_standard residue type set.  Created 980 residue types\n",
      "\u001b[0mcore.chemical.GlobalResidueTypeSet: {0} \u001b[0mTotal time to initialize 0.975732 seconds.\n",
      "\u001b[0mcore.import_pose.import_pose: {0} \u001b[0mFile '5tj3.pdb' automatically determined to be of type PDB\n",
      "\u001b[0mcore.conformation.Conformation: {0} \u001b[0m\u001b[1m[ WARNING ]\u001b[0m missing heavyatom:  CG  on residue LYS 233\n",
      "\u001b[0mcore.conformation.Conformation: {0} \u001b[0m\u001b[1m[ WARNING ]\u001b[0m missing heavyatom:  CD  on residue LYS 233\n",
      "\u001b[0mcore.conformation.Conformation: {0} \u001b[0m\u001b[1m[ WARNING ]\u001b[0m missing heavyatom:  CE  on residue LYS 233\n",
      "\u001b[0mcore.conformation.Conformation: {0} \u001b[0m\u001b[1m[ WARNING ]\u001b[0m missing heavyatom:  NZ  on residue LYS 233\n",
      "\u001b[0mcore.conformation.Conformation: {0} \u001b[0m\u001b[1m[ WARNING ]\u001b[0m missing heavyatom:  CG  on residue ASP 350\n",
      "\u001b[0mcore.conformation.Conformation: {0} \u001b[0m\u001b[1m[ WARNING ]\u001b[0m missing heavyatom:  OD1 on residue ASP 350\n",
      "\u001b[0mcore.conformation.Conformation: {0} \u001b[0m\u001b[1m[ WARNING ]\u001b[0m missing heavyatom:  OD2 on residue ASP 350\n",
      "\u001b[0mcore.conformation.Conformation: {0} \u001b[0m\u001b[1m[ WARNING ]\u001b[0m missing heavyatom:  CG  on residue LYS 353\n",
      "\u001b[0mcore.conformation.Conformation: {0} \u001b[0m\u001b[1m[ WARNING ]\u001b[0m missing heavyatom:  CD  on residue LYS 353\n",
      "\u001b[0mcore.conformation.Conformation: {0} \u001b[0m\u001b[1m[ WARNING ]\u001b[0m missing heavyatom:  CE  on residue LYS 353\n",
      "\u001b[0mcore.conformation.Conformation: {0} \u001b[0m\u001b[1m[ WARNING ]\u001b[0m missing heavyatom:  NZ  on residue LYS 353\n",
      "\u001b[0mcore.conformation.Conformation: {0} \u001b[0m\u001b[1m[ WARNING ]\u001b[0m missing heavyatom:  CG  on residue GLU 354\n",
      "\u001b[0mcore.conformation.Conformation: {0} \u001b[0m\u001b[1m[ WARNING ]\u001b[0m missing heavyatom:  CD  on residue GLU 354\n",
      "\u001b[0mcore.conformation.Conformation: {0} \u001b[0m\u001b[1m[ WARNING ]\u001b[0m missing heavyatom:  OE1 on residue GLU 354\n",
      "\u001b[0mcore.conformation.Conformation: {0} \u001b[0m\u001b[1m[ WARNING ]\u001b[0m missing heavyatom:  OE2 on residue GLU 354\n",
      "\u001b[0mcore.conformation.Conformation: {0} \u001b[0m\u001b[1m[ WARNING ]\u001b[0m missing heavyatom:  CG  on residue LYS 382\n",
      "\u001b[0mcore.conformation.Conformation: {0} \u001b[0m\u001b[1m[ WARNING ]\u001b[0m missing heavyatom:  CD  on residue LYS 382\n",
      "\u001b[0mcore.conformation.Conformation: {0} \u001b[0m\u001b[1m[ WARNING ]\u001b[0m missing heavyatom:  CE  on residue LYS 382\n",
      "\u001b[0mcore.conformation.Conformation: {0} \u001b[0m\u001b[1m[ WARNING ]\u001b[0m missing heavyatom:  NZ  on residue LYS 382\n",
      "\u001b[0mcore.conformation.Conformation: {0} \u001b[0m\u001b[1m[ WARNING ]\u001b[0m missing heavyatom:  CG  on residue TYR 454\n",
      "\u001b[0mcore.conformation.Conformation: {0} \u001b[0m\u001b[1m[ WARNING ]\u001b[0m missing heavyatom:  CD1 on residue TYR 454\n",
      "\u001b[0mcore.conformation.Conformation: {0} \u001b[0m\u001b[1m[ WARNING ]\u001b[0m missing heavyatom:  CD2 on residue TYR 454\n",
      "\u001b[0mcore.conformation.Conformation: {0} \u001b[0m\u001b[1m[ WARNING ]\u001b[0m missing heavyatom:  CE1 on residue TYR 454\n",
      "\u001b[0mcore.conformation.Conformation: {0} \u001b[0m\u001b[1m[ WARNING ]\u001b[0m missing heavyatom:  CE2 on residue TYR 454\n",
      "\u001b[0mcore.conformation.Conformation: {0} \u001b[0m\u001b[1m[ WARNING ]\u001b[0m missing heavyatom:  CZ  on residue TYR 454\n",
      "\u001b[0mcore.conformation.Conformation: {0} \u001b[0m\u001b[1m[ WARNING ]\u001b[0m missing heavyatom:  OH  on residue TYR 454\n",
      "\u001b[0mcore.conformation.Conformation: {0} \u001b[0m\u001b[1m[ WARNING ]\u001b[0m missing heavyatom:  OXT on residue GLY:CtermProteinFull 520\n",
      "\u001b[0mcore.pack.pack_missing_sidechains: {0} \u001b[0mpacking residue number 233 because of missing atom number 6 atom name  CG\n",
      "\u001b[0mcore.pack.pack_missing_sidechains: {0} \u001b[0mpacking residue number 350 because of missing atom number 6 atom name  CG\n",
      "\u001b[0mcore.pack.pack_missing_sidechains: {0} \u001b[0mpacking residue number 353 because of missing atom number 6 atom name  CG\n",
      "\u001b[0mcore.pack.pack_missing_sidechains: {0} \u001b[0mpacking residue number 354 because of missing atom number 6 atom name  CG\n",
      "\u001b[0mcore.pack.pack_missing_sidechains: {0} \u001b[0mpacking residue number 382 because of missing atom number 6 atom name  CG\n",
      "\u001b[0mcore.pack.pack_missing_sidechains: {0} \u001b[0mpacking residue number 454 because of missing atom number 6 atom name  CG\n",
      "\u001b[0mcore.pack.task: {0} \u001b[0mPacker task: initialize from command line()\n",
      "\u001b[0mcore.scoring.ScoreFunctionFactory: {0} \u001b[0mSCOREFUNCTION: \u001b[32mref2015\u001b[0m\n",
      "\u001b[0mcore.scoring.etable: {0} \u001b[0mStarting energy table calculation\n",
      "\u001b[0mcore.scoring.etable: {0} \u001b[0msmooth_etable: changing atr/rep split to bottom of energy well\n",
      "\u001b[0mcore.scoring.etable: {0} \u001b[0msmooth_etable: spline smoothing lj etables (maxdis = 6)\n",
      "\u001b[0mcore.scoring.etable: {0} \u001b[0msmooth_etable: spline smoothing solvation etables (max_dis = 6)\n",
      "\u001b[0mcore.scoring.etable: {0} \u001b[0mFinished calculating energy tables.\n",
      "\u001b[0mbasic.io.database: {0} \u001b[0mDatabase file opened: scoring/score_functions/hbonds/ref2015_params/HBPoly1D.csv\n",
      "\u001b[0mbasic.io.database: {0} \u001b[0mDatabase file opened: scoring/score_functions/hbonds/ref2015_params/HBFadeIntervals.csv\n",
      "\u001b[0mbasic.io.database: {0} \u001b[0mDatabase file opened: scoring/score_functions/hbonds/ref2015_params/HBEval.csv\n",
      "\u001b[0mbasic.io.database: {0} \u001b[0mDatabase file opened: scoring/score_functions/hbonds/ref2015_params/DonStrength.csv\n",
      "\u001b[0mbasic.io.database: {0} \u001b[0mDatabase file opened: scoring/score_functions/hbonds/ref2015_params/AccStrength.csv\n",
      "\u001b[0mbasic.io.database: {0} \u001b[0mDatabase file opened: scoring/score_functions/rama/fd/all.ramaProb\n",
      "\u001b[0mbasic.io.database: {0} \u001b[0mDatabase file opened: scoring/score_functions/rama/fd/prepro.ramaProb\n",
      "\u001b[0mbasic.io.database: {0} \u001b[0mDatabase file opened: scoring/score_functions/omega/omega_ppdep.all.txt\n",
      "\u001b[0mbasic.io.database: {0} \u001b[0mDatabase file opened: scoring/score_functions/omega/omega_ppdep.gly.txt\n",
      "\u001b[0mbasic.io.database: {0} \u001b[0mDatabase file opened: scoring/score_functions/omega/omega_ppdep.pro.txt\n",
      "\u001b[0mbasic.io.database: {0} \u001b[0mDatabase file opened: scoring/score_functions/omega/omega_ppdep.valile.txt\n",
      "\u001b[0mbasic.io.database: {0} \u001b[0mDatabase file opened: scoring/score_functions/P_AA_pp/P_AA\n",
      "\u001b[0mbasic.io.database: {0} \u001b[0mDatabase file opened: scoring/score_functions/P_AA_pp/P_AA_n\n",
      "\u001b[0mcore.scoring.P_AA: {0} \u001b[0mshapovalov_lib::shap_p_aa_pp_smooth_level of 1( aka low_smooth ) got activated.\n",
      "\u001b[0mbasic.io.database: {0} \u001b[0mDatabase file opened: scoring/score_functions/P_AA_pp/shapovalov/10deg/kappa131/a20.prop\n",
      "\u001b[0mbasic.io.database: {0} \u001b[0mDatabase file opened: scoring/score_functions/elec_cp_reps.dat\n",
      "\u001b[0mcore.scoring.elec.util: {0} \u001b[0mRead 40 countpair representative atoms\n",
      "\u001b[0mcore.pack.dunbrack.RotamerLibrary: {0} \u001b[0mshapovalov_lib_fixes_enable option is true.\n",
      "\u001b[0mcore.pack.dunbrack.RotamerLibrary: {0} \u001b[0mshapovalov_lib::shap_dun10_smooth_level of 1( aka lowest_smooth ) got activated.\n",
      "\u001b[0mcore.pack.dunbrack.RotamerLibrary: {0} \u001b[0mBinary rotamer library selected: /Users/paul/anaconda3/envs/pyrosetta_env/lib/python3.7/site-packages/pyrosetta/database/rotamer/shapovalov/StpDwn_0-0-0/Dunbrack10.lib.bin\n",
      "\u001b[0mcore.pack.dunbrack.RotamerLibrary: {0} \u001b[0mUsing Dunbrack library binary file '/Users/paul/anaconda3/envs/pyrosetta_env/lib/python3.7/site-packages/pyrosetta/database/rotamer/shapovalov/StpDwn_0-0-0/Dunbrack10.lib.bin'.\n",
      "\u001b[0mcore.pack.dunbrack.RotamerLibrary: {0} \u001b[0mDunbrack 2010 library took 0.22327 seconds to load from binary\n",
      "\u001b[0mcore.pack.pack_rotamers: {0} \u001b[0mbuilt 90 rotamers at 6 positions.\n",
      "\u001b[0mcore.pack.pack_rotamers: {0} \u001b[0mRequesting all available threads for interaction graph computation.\n",
      "\u001b[0mcore.pack.interaction_graph.interaction_graph_factory: {0} \u001b[0mInstantiating DensePDInteractionGraph\n",
      "\u001b[0mbasic.thread_manager.RosettaThreadManager: {?} \u001b[0mCreating a thread pool of 8 threads.\n",
      "\u001b[0mbasic.thread_manager.RosettaThread: {?} \u001b[0mLaunching thread 3.\n",
      "\u001b[0mbasic.thread_manager.RosettaThread: {?} \u001b[0mLaunching thread 2.\n",
      "\u001b[0mbasic.thread_manager.RosettaThread: {?} \u001b[0mLaunching thread 4.\n",
      "\u001b[0mbasic.thread_manager.RosettaThread: {?} \u001b[0mLaunching thread 5.\n",
      "\u001b[0mbasic.thread_manager.RosettaThread: {?} \u001b[0mLaunching thread 6.\n",
      "\u001b[0mbasic.thread_manager.RosettaThread: {?} \u001b[0mLaunching thread 1.\n",
      "\u001b[0mbasic.thread_manager.RosettaThread: {?} \u001b[0mLaunching thread 7.\n",
      "\u001b[0mbasic.thread_manager.RosettaThreadPool: {?} \u001b[0mLaunched 7 new threads.\n",
      "\u001b[0mbasic.random.init_random_generator: {3} \u001b[0m'RNG device' seed mode, using '/dev/urandom', seed=1906283846 seed_offset=0 real_seed=1906283849 thread_index=3\n",
      "\u001b[0mbasic.random.init_random_generator: {3} \u001b[0mRandomGenerator:init: Normal mode, seed=1906283849 RG_type=mt19937\n"
     ]
    },
    {
     "name": "stdout",
     "output_type": "stream",
     "text": [
      "\u001b[0mbasic.random.init_random_generator: {2} \u001b[0m'RNG device' seed mode, using '/dev/urandom', seed=1506755719 seed_offset=0 real_seed=1506755721 thread_index=2\n",
      "\u001b[0mbasic.random.init_random_generator: {2} \u001b[0mRandomGenerator:init: Normal mode, seed=1506755721 RG_type=mt19937\n",
      "\u001b[0mbasic.random.init_random_generator: {4} \u001b[0m'RNG device' seed mode, using '/dev/urandom', seed=-424132909 seed_offset=0 real_seed=-424132905 thread_index=4\n",
      "\u001b[0mbasic.random.init_random_generator: {4} \u001b[0mRandomGenerator:init: Normal mode, seed=-424132905 RG_type=mt19937\n",
      "\u001b[0mbasic.thread_manager.RosettaThreadManager: {2} \u001b[0mThread 2 completed 5 of 14 work units.\n",
      "\u001b[0mbasic.thread_manager.RosettaThreadManager: {3} \u001b[0mThread 3 completed 3 of 14 work units.\n",
      "\u001b[0mbasic.random.init_random_generator: {6} \u001b[0m'RNG device' seed mode, using '/dev/urandom', seed=1020875076 seed_offset=0 real_seed=1020875082 thread_index=6\n",
      "\u001b[0mbasic.random.init_random_generator: {5} \u001b[0m'RNG device' seed mode, using '/dev/urandom', seed=-1967010703 seed_offset=0 real_seed=-1967010698 thread_index=5\n",
      "\u001b[0mbasic.random.init_random_generator: {5} \u001b[0mRandomGenerator:init: Normal mode, seed=-1967010698 RG_type=mt19937\n",
      "\u001b[0mbasic.random.init_random_generator: {6} \u001b[0mRandomGenerator:init: Normal mode, seed=1020875082 RG_type=mt19937\n",
      "\u001b[0mbasic.random.init_random_generator: {1} \u001b[0m'RNG device' seed mode, using '/dev/urandom', seed=-968251480 seed_offset=0 real_seed=-968251479 thread_index=1\n",
      "\u001b[0mbasic.random.init_random_generator: {1} \u001b[0mRandomGenerator:init: Normal mode, seed=-968251479 RG_type=mt19937\n",
      "\u001b[0mbasic.thread_manager.RosettaThreadManager: {0} \u001b[0mThread 0 completed 5 of 14 work units.\n",
      "\u001b[0mbasic.thread_manager.RosettaThreadManager: {5} \u001b[0mThread 5 completed 0 of 14 work units.\n",
      "\u001b[0mbasic.thread_manager.RosettaThreadManager: {4} \u001b[0mThread 4 completed 1 of 14 work units.\n",
      "\u001b[0mbasic.thread_manager.RosettaThreadManager: {1} \u001b[0mThread 1 completed 0 of 14 work units.\n",
      "\u001b[0mbasic.thread_manager.RosettaThreadManager: {6} \u001b[0mThread 6 completed 0 of 14 work units.\n",
      "\u001b[0mbasic.random.init_random_generator: {7} \u001b[0m'RNG device' seed mode, using '/dev/urandom', seed=-1792141110 seed_offset=0 real_seed=-1792141103 thread_index=7\n",
      "\u001b[0mbasic.random.init_random_generator: {7} \u001b[0mRandomGenerator:init: Normal mode, seed=-1792141103 RG_type=mt19937\n",
      "\u001b[0mbasic.thread_manager.RosettaThreadManager: {7} \u001b[0mThread 7 completed 0 of 14 work units.\n",
      "\u001b[0mcore.pack.rotamer_set.RotamerSets: {0} \u001b[0mCompleted interaction graph pre-calculation in 8 available threads (8 had been requested).\n"
     ]
    }
   ],
   "source": [
    "pose = pose_from_pdb(\"5tj3.pdb\")"
   ]
  },
  {
   "cell_type": "code",
   "execution_count": 3,
   "metadata": {},
   "outputs": [
    {
     "name": "stdout",
     "output_type": "stream",
     "text": [
      "ATOM      1  N   ASN A  24      25.188 -20.017  58.979  1.00 36.24           N  \r\n",
      "ATOM      2  CA  ASN A  24      25.350 -19.016  57.930  1.00 34.85           C  \r\n",
      "ATOM      3  C   ASN A  24      24.773 -19.505  56.606  1.00 30.92           C  \r\n",
      "ATOM      4  O   ASN A  24      25.214 -19.083  55.540  1.00 30.95           O  \r\n",
      "ATOM      5  CB  ASN A  24      26.827 -18.654  57.751  1.00 36.14           C  \r\n",
      "ATOM      6  CG  ASN A  24      27.408 -17.948  58.961  1.00 37.74           C  \r\n",
      "ATOM      7  OD1 ASN A  24      26.691 -17.298  59.722  1.00 39.62           O  \r\n",
      "ATOM      8  ND2 ASN A  24      28.719 -18.068  59.141  1.00 36.26           N  \r\n",
      "ATOM      9  N   ALA A  25      23.788 -20.392  56.674  1.00 26.11           N  \r\n",
      "ATOM     10  CA  ALA A  25      23.162 -20.941  55.482  1.00 23.29           C  \r\n"
     ]
    }
   ],
   "source": [
    "!grep \"^ATOM\" 5tj3.pdb | head -n 10"
   ]
  },
  {
   "cell_type": "markdown",
   "metadata": {},
   "source": [
    "We can take a look at the sequence with the following command."
   ]
  },
  {
   "cell_type": "code",
   "execution_count": 4,
   "metadata": {
    "scrolled": true
   },
   "outputs": [
    {
     "data": {
      "text/plain": [
       "'NAVPRPKLVVGLVVDQMRWDYLYRYYSKYGEGGFKRMLNTGYSLNNVHIDYVPTVTAIGHTSIFTGSVPSIHGIAGNDWYDKELGKSVYCTSDETVQPVGTTSNSVGQHSPRNLWSTTVTDQLGLATNFTSKVVGVSLKDRASILPAGHNPTGAFWFDDTTGKFITSTYYTKELPKWVNDFNNKNVPAQLVANGWNTLLPINQYTESSEDNVEWEGLLGSKKTPTFPYTDLAKDYEAKKGLIRTTPFGNTLTLQMADAAIDGNQMGVDDITDFLTVNLASTDYVGHNFGPNSIEVEDTYLRLDRDLADFFNNLDKKVGKGNYLVFLSADHGAAHSVGFMQAHKMPTGFFDMKKEMNAKLKQKFGADNIIAAAMNYQVYFDRKVLADSKLELDDVRDYVMTELKKEPSVLYVLSTDEIWESSIPEPIKSRVINGYNWKRSGDIQIISKDGYLSAYSKKGTTHSVWNSYDSHIPLLFMGWGIKQGESNQPYHMTDIAPTVSSLLKIQFPSGAVGKPITEVIGZZZZ'"
      ]
     },
     "execution_count": 4,
     "metadata": {},
     "output_type": "execute_result"
    }
   ],
   "source": [
    "pose.sequence()"
   ]
  },
  {
   "cell_type": "markdown",
   "metadata": {},
   "source": [
    "Sometimes PDB files do not conform to standards and need to be cleaned to be loaded successfully with PyRosetta. One way to make sure the file is loaded successfully is to only ATOM lines from the PDB file. Alternatively, you could use the cleanATOM function in pyrosetta.toolbox to achieve the same: "
   ]
  },
  {
   "cell_type": "code",
   "execution_count": 5,
   "metadata": {},
   "outputs": [],
   "source": [
    "from pyrosetta.toolbox import cleanATOM\n",
    "cleanATOM(\"5tj3.pdb\")"
   ]
  },
  {
   "cell_type": "code",
   "execution_count": 6,
   "metadata": {},
   "outputs": [
    {
     "name": "stdout",
     "output_type": "stream",
     "text": [
      "\u001b[0mcore.import_pose.import_pose: {0} \u001b[0mFile '5tj3.clean.pdb' automatically determined to be of type PDB\n",
      "\u001b[0mcore.conformation.Conformation: {0} \u001b[0m\u001b[1m[ WARNING ]\u001b[0m missing heavyatom:  CG  on residue LYS 232\n",
      "\u001b[0mcore.conformation.Conformation: {0} \u001b[0m\u001b[1m[ WARNING ]\u001b[0m missing heavyatom:  CD  on residue LYS 232\n",
      "\u001b[0mcore.conformation.Conformation: {0} \u001b[0m\u001b[1m[ WARNING ]\u001b[0m missing heavyatom:  CE  on residue LYS 232\n",
      "\u001b[0mcore.conformation.Conformation: {0} \u001b[0m\u001b[1m[ WARNING ]\u001b[0m missing heavyatom:  NZ  on residue LYS 232\n",
      "\u001b[0mcore.conformation.Conformation: {0} \u001b[0m\u001b[1m[ WARNING ]\u001b[0m missing heavyatom:  CG  on residue ASP 349\n",
      "\u001b[0mcore.conformation.Conformation: {0} \u001b[0m\u001b[1m[ WARNING ]\u001b[0m missing heavyatom:  OD1 on residue ASP 349\n",
      "\u001b[0mcore.conformation.Conformation: {0} \u001b[0m\u001b[1m[ WARNING ]\u001b[0m missing heavyatom:  OD2 on residue ASP 349\n",
      "\u001b[0mcore.conformation.Conformation: {0} \u001b[0m\u001b[1m[ WARNING ]\u001b[0m missing heavyatom:  CG  on residue LYS 352\n",
      "\u001b[0mcore.conformation.Conformation: {0} \u001b[0m\u001b[1m[ WARNING ]\u001b[0m missing heavyatom:  CD  on residue LYS 352\n",
      "\u001b[0mcore.conformation.Conformation: {0} \u001b[0m\u001b[1m[ WARNING ]\u001b[0m missing heavyatom:  CE  on residue LYS 352\n",
      "\u001b[0mcore.conformation.Conformation: {0} \u001b[0m\u001b[1m[ WARNING ]\u001b[0m missing heavyatom:  NZ  on residue LYS 352\n",
      "\u001b[0mcore.conformation.Conformation: {0} \u001b[0m\u001b[1m[ WARNING ]\u001b[0m missing heavyatom:  CG  on residue GLU 353\n",
      "\u001b[0mcore.conformation.Conformation: {0} \u001b[0m\u001b[1m[ WARNING ]\u001b[0m missing heavyatom:  CD  on residue GLU 353\n",
      "\u001b[0mcore.conformation.Conformation: {0} \u001b[0m\u001b[1m[ WARNING ]\u001b[0m missing heavyatom:  OE1 on residue GLU 353\n",
      "\u001b[0mcore.conformation.Conformation: {0} \u001b[0m\u001b[1m[ WARNING ]\u001b[0m missing heavyatom:  OE2 on residue GLU 353\n",
      "\u001b[0mcore.conformation.Conformation: {0} \u001b[0m\u001b[1m[ WARNING ]\u001b[0m missing heavyatom:  CG  on residue LYS 381\n",
      "\u001b[0mcore.conformation.Conformation: {0} \u001b[0m\u001b[1m[ WARNING ]\u001b[0m missing heavyatom:  CD  on residue LYS 381\n",
      "\u001b[0mcore.conformation.Conformation: {0} \u001b[0m\u001b[1m[ WARNING ]\u001b[0m missing heavyatom:  CE  on residue LYS 381\n",
      "\u001b[0mcore.conformation.Conformation: {0} \u001b[0m\u001b[1m[ WARNING ]\u001b[0m missing heavyatom:  NZ  on residue LYS 381\n",
      "\u001b[0mcore.conformation.Conformation: {0} \u001b[0m\u001b[1m[ WARNING ]\u001b[0m missing heavyatom:  CG  on residue TYR 453\n",
      "\u001b[0mcore.conformation.Conformation: {0} \u001b[0m\u001b[1m[ WARNING ]\u001b[0m missing heavyatom:  CD1 on residue TYR 453\n",
      "\u001b[0mcore.conformation.Conformation: {0} \u001b[0m\u001b[1m[ WARNING ]\u001b[0m missing heavyatom:  CD2 on residue TYR 453\n",
      "\u001b[0mcore.conformation.Conformation: {0} \u001b[0m\u001b[1m[ WARNING ]\u001b[0m missing heavyatom:  CE1 on residue TYR 453\n",
      "\u001b[0mcore.conformation.Conformation: {0} \u001b[0m\u001b[1m[ WARNING ]\u001b[0m missing heavyatom:  CE2 on residue TYR 453\n",
      "\u001b[0mcore.conformation.Conformation: {0} \u001b[0m\u001b[1m[ WARNING ]\u001b[0m missing heavyatom:  CZ  on residue TYR 453\n",
      "\u001b[0mcore.conformation.Conformation: {0} \u001b[0m\u001b[1m[ WARNING ]\u001b[0m missing heavyatom:  OH  on residue TYR 453\n",
      "\u001b[0mcore.conformation.Conformation: {0} \u001b[0m\u001b[1m[ WARNING ]\u001b[0m missing heavyatom:  OXT on residue GLY:CtermProteinFull 519\n",
      "\u001b[0mcore.pack.pack_missing_sidechains: {0} \u001b[0mpacking residue number 232 because of missing atom number 6 atom name  CG\n",
      "\u001b[0mcore.pack.pack_missing_sidechains: {0} \u001b[0mpacking residue number 349 because of missing atom number 6 atom name  CG\n",
      "\u001b[0mcore.pack.pack_missing_sidechains: {0} \u001b[0mpacking residue number 352 because of missing atom number 6 atom name  CG\n",
      "\u001b[0mcore.pack.pack_missing_sidechains: {0} \u001b[0mpacking residue number 353 because of missing atom number 6 atom name  CG\n",
      "\u001b[0mcore.pack.pack_missing_sidechains: {0} \u001b[0mpacking residue number 381 because of missing atom number 6 atom name  CG\n",
      "\u001b[0mcore.pack.pack_missing_sidechains: {0} \u001b[0mpacking residue number 453 because of missing atom number 6 atom name  CG\n",
      "\u001b[0mcore.pack.task: {0} \u001b[0mPacker task: initialize from command line()\n",
      "\u001b[0mcore.scoring.ScoreFunctionFactory: {0} \u001b[0mSCOREFUNCTION: \u001b[32mref2015\u001b[0m\n",
      "\u001b[0mcore.pack.pack_rotamers: {0} \u001b[0mbuilt 90 rotamers at 6 positions.\n",
      "\u001b[0mcore.pack.pack_rotamers: {0} \u001b[0mRequesting all available threads for interaction graph computation.\n",
      "\u001b[0mcore.pack.interaction_graph.interaction_graph_factory: {0} \u001b[0mInstantiating DensePDInteractionGraph\n",
      "\u001b[0mbasic.thread_manager.RosettaThreadManager: {6} \u001b[0mThread 6 completed 5 of 14 work units.\n",
      "\u001b[0mbasic.thread_manager.RosettaThreadManager: {7} \u001b[0mThread 7 completed 3 of 14 work units.\n",
      "\u001b[0mbasic.thread_manager.RosettaThreadManager: {5} \u001b[0mThread 5 completed 1 of 14 work units.\n",
      "\u001b[0mbasic.thread_manager.RosettaThreadManager: {3} \u001b[0mThread 3 completed 1 of 14 work units.\n",
      "\u001b[0mbasic.thread_manager.RosettaThreadManager: {0} \u001b[0mThread 0 completed 1 of 14 work units.\n",
      "\u001b[0mbasic.thread_manager.RosettaThreadManager: {1} \u001b[0mThread 1 completed 1 of 14 work units.\n",
      "\u001b[0mbasic.thread_manager.RosettaThreadManager: {4} \u001b[0mThread 4 completed 1 of 14 work units.\n",
      "\u001b[0mbasic.thread_manager.RosettaThreadManager: {2} \u001b[0mThread 2 completed 1 of 14 work units.\n",
      "\u001b[0mcore.pack.rotamer_set.RotamerSets: {0} \u001b[0mCompleted interaction graph pre-calculation in 8 available threads (8 had been requested).\n"
     ]
    }
   ],
   "source": [
    "pose_clean = pose_from_pdb(\"5tj3.clean.pdb\")"
   ]
  },
  {
   "cell_type": "markdown",
   "metadata": {},
   "source": [
    "In our case, we could load in the PDB file for 5tj3 without cleaning it. In fact, we've lost some residues when cleaning the PDB file with cleanATOM. What is the difference in the sequence of the pose now, compared to before?"
   ]
  },
  {
   "cell_type": "code",
   "execution_count": 7,
   "metadata": {},
   "outputs": [
    {
     "data": {
      "text/plain": [
       "'NAVPRPKLVVGLVVDQMRWDYLYRYYSKYGEGGFKRMLNTGYSLNNVHIDYVPTVAIGHTSIFTGSVPSIHGIAGNDWYDKELGKSVYCTSDETVQPVGTTSNSVGQHSPRNLWSTTVTDQLGLATNFTSKVVGVSLKDRASILPAGHNPTGAFWFDDTTGKFITSTYYTKELPKWVNDFNNKNVPAQLVANGWNTLLPINQYTESSEDNVEWEGLLGSKKTPTFPYTDLAKDYEAKKGLIRTTPFGNTLTLQMADAAIDGNQMGVDDITDFLTVNLASTDYVGHNFGPNSIEVEDTYLRLDRDLADFFNNLDKKVGKGNYLVFLSADHGAAHSVGFMQAHKMPTGFFDMKKEMNAKLKQKFGADNIIAAAMNYQVYFDRKVLADSKLELDDVRDYVMTELKKEPSVLYVLSTDEIWESSIPEPIKSRVINGYNWKRSGDIQIISKDGYLSAYSKKGTTHSVWNSYDSHIPLLFMGWGIKQGESNQPYHMTDIAPTVSSLLKIQFPSGAVGKPITEVIG'"
      ]
     },
     "execution_count": 7,
     "metadata": {},
     "output_type": "execute_result"
    }
   ],
   "source": [
    "pose_clean.sequence()"
   ]
  },
  {
   "cell_type": "markdown",
   "metadata": {},
   "source": [
    "Write code below to find the difference(s) between the pose_clean.sequence() and pose.sequence():"
   ]
  },
  {
   "cell_type": "code",
   "execution_count": 8,
   "metadata": {
    "nbgrader": {
     "grade": true,
     "grade_id": "cell-b7e183785aad92fc",
     "locked": false,
     "points": 0,
     "schema_version": 3,
     "solution": true
    }
   },
   "outputs": [
    {
     "name": "stdout",
     "output_type": "stream",
     "text": [
      "55 A T\n",
      "56 I A\n",
      "57 G I\n",
      "58 H G\n",
      "59 T H\n",
      "60 S T\n",
      "61 I S\n",
      "62 F I\n",
      "63 T F\n",
      "64 G T\n",
      "65 S G\n",
      "66 V S\n",
      "67 P V\n",
      "68 S P\n",
      "69 I S\n",
      "70 H I\n",
      "71 G H\n",
      "72 I G\n",
      "73 A I\n",
      "74 G A\n",
      "75 N G\n",
      "76 D N\n",
      "77 W D\n",
      "78 Y W\n",
      "79 D Y\n",
      "80 K D\n",
      "81 E K\n",
      "82 L E\n",
      "83 G L\n",
      "84 K G\n",
      "85 S K\n",
      "86 V S\n",
      "87 Y V\n",
      "88 C Y\n",
      "89 T C\n",
      "90 S T\n",
      "91 D S\n",
      "92 E D\n",
      "93 T E\n",
      "94 V T\n",
      "95 Q V\n",
      "96 P Q\n",
      "97 V P\n",
      "98 G V\n",
      "99 T G\n",
      "101 S T\n",
      "102 N S\n",
      "103 S N\n",
      "104 V S\n",
      "105 G V\n",
      "106 Q G\n",
      "107 H Q\n",
      "108 S H\n",
      "109 P S\n",
      "110 R P\n",
      "111 N R\n",
      "112 L N\n",
      "113 W L\n",
      "114 S W\n",
      "115 T S\n",
      "117 V T\n",
      "118 T V\n",
      "119 D T\n",
      "120 Q D\n",
      "121 L Q\n",
      "122 G L\n",
      "123 L G\n",
      "124 A L\n",
      "125 T A\n",
      "126 N T\n",
      "127 F N\n",
      "128 T F\n",
      "129 S T\n",
      "130 K S\n",
      "131 V K\n",
      "133 G V\n",
      "134 V G\n",
      "135 S V\n",
      "136 L S\n",
      "137 K L\n",
      "138 D K\n",
      "139 R D\n",
      "140 A R\n",
      "141 S A\n",
      "142 I S\n",
      "143 L I\n",
      "144 P L\n",
      "145 A P\n",
      "146 G A\n",
      "147 H G\n",
      "148 N H\n",
      "149 P N\n",
      "150 T P\n",
      "151 G T\n",
      "152 A G\n",
      "153 F A\n",
      "154 W F\n",
      "155 F W\n",
      "156 D F\n",
      "158 T D\n",
      "160 G T\n",
      "161 K G\n",
      "162 F K\n",
      "163 I F\n",
      "164 T I\n",
      "165 S T\n",
      "166 T S\n",
      "167 Y T\n",
      "169 T Y\n",
      "170 K T\n",
      "171 E K\n",
      "172 L E\n",
      "173 P L\n",
      "174 K P\n",
      "175 W K\n",
      "176 V W\n",
      "177 N V\n",
      "178 D N\n",
      "179 F D\n",
      "180 N F\n",
      "182 K N\n",
      "183 N K\n",
      "184 V N\n",
      "185 P V\n",
      "186 A P\n",
      "187 Q A\n",
      "188 L Q\n",
      "189 V L\n",
      "190 A V\n",
      "191 N A\n",
      "192 G N\n",
      "193 W G\n",
      "194 N W\n",
      "195 T N\n",
      "196 L T\n",
      "198 P L\n",
      "199 I P\n",
      "200 N I\n",
      "201 Q N\n",
      "202 Y Q\n",
      "203 T Y\n",
      "204 E T\n",
      "205 S E\n",
      "207 E S\n",
      "208 D E\n",
      "209 N D\n",
      "210 V N\n",
      "211 E V\n",
      "212 W E\n",
      "213 E W\n",
      "214 G E\n",
      "215 L G\n",
      "217 G L\n",
      "218 S G\n",
      "219 K S\n",
      "221 T K\n",
      "222 P T\n",
      "223 T P\n",
      "224 F T\n",
      "225 P F\n",
      "226 Y P\n",
      "227 T Y\n",
      "228 D T\n",
      "229 L D\n",
      "230 A L\n",
      "231 K A\n",
      "232 D K\n",
      "233 Y D\n",
      "234 E Y\n",
      "235 A E\n",
      "236 K A\n",
      "238 G K\n",
      "239 L G\n",
      "240 I L\n",
      "241 R I\n",
      "242 T R\n",
      "244 P T\n",
      "245 F P\n",
      "246 G F\n",
      "247 N G\n",
      "248 T N\n",
      "249 L T\n",
      "250 T L\n",
      "251 L T\n",
      "252 Q L\n",
      "253 M Q\n",
      "254 A M\n",
      "255 D A\n",
      "256 A D\n",
      "258 I A\n",
      "259 D I\n",
      "260 G D\n",
      "261 N G\n",
      "262 Q N\n",
      "263 M Q\n",
      "264 G M\n",
      "265 V G\n",
      "266 D V\n",
      "268 I D\n",
      "269 T I\n",
      "270 D T\n",
      "271 F D\n",
      "272 L F\n",
      "273 T L\n",
      "274 V T\n",
      "275 N V\n",
      "276 L N\n",
      "277 A L\n",
      "278 S A\n",
      "279 T S\n",
      "280 D T\n",
      "281 Y D\n",
      "282 V Y\n",
      "283 G V\n",
      "284 H G\n",
      "285 N H\n",
      "286 F N\n",
      "287 G F\n",
      "288 P G\n",
      "289 N P\n",
      "290 S N\n",
      "291 I S\n",
      "292 E I\n",
      "293 V E\n",
      "294 E V\n",
      "295 D E\n",
      "296 T D\n",
      "297 Y T\n",
      "298 L Y\n",
      "299 R L\n",
      "300 L R\n",
      "301 D L\n",
      "302 R D\n",
      "303 D R\n",
      "304 L D\n",
      "305 A L\n",
      "306 D A\n",
      "307 F D\n",
      "309 N F\n",
      "311 L N\n",
      "312 D L\n",
      "313 K D\n",
      "315 V K\n",
      "316 G V\n",
      "317 K G\n",
      "318 G K\n",
      "319 N G\n",
      "320 Y N\n",
      "321 L Y\n",
      "322 V L\n",
      "323 F V\n",
      "324 L F\n",
      "325 S L\n",
      "326 A S\n",
      "327 D A\n",
      "328 H D\n",
      "329 G H\n",
      "330 A G\n",
      "332 H A\n",
      "333 S H\n",
      "334 V S\n",
      "335 G V\n",
      "336 F G\n",
      "337 M F\n",
      "338 Q M\n",
      "339 A Q\n",
      "340 H A\n",
      "341 K H\n",
      "342 M K\n",
      "343 P M\n",
      "344 T P\n",
      "345 G T\n",
      "346 F G\n",
      "348 D F\n",
      "349 M D\n",
      "350 K M\n",
      "352 E K\n",
      "353 M E\n",
      "354 N M\n",
      "355 A N\n",
      "356 K A\n",
      "357 L K\n",
      "358 K L\n",
      "359 Q K\n",
      "360 K Q\n",
      "361 F K\n",
      "362 G F\n",
      "363 A G\n",
      "364 D A\n",
      "365 N D\n",
      "366 I N\n",
      "368 A I\n",
      "371 M A\n",
      "372 N M\n",
      "373 Y N\n",
      "374 Q Y\n",
      "375 V Q\n",
      "376 Y V\n",
      "377 F Y\n",
      "378 D F\n",
      "379 R D\n",
      "380 K R\n",
      "381 V K\n",
      "382 L V\n",
      "383 A L\n",
      "384 D A\n",
      "385 S D\n",
      "386 K S\n",
      "387 L K\n",
      "388 E L\n",
      "389 L E\n",
      "390 D L\n",
      "392 V D\n",
      "393 R V\n",
      "394 D R\n",
      "395 Y D\n",
      "396 V Y\n",
      "397 M V\n",
      "398 T M\n",
      "399 E T\n",
      "400 L E\n",
      "401 K L\n",
      "403 E K\n",
      "404 P E\n",
      "405 S P\n",
      "406 V S\n",
      "407 L V\n",
      "408 Y L\n",
      "409 V Y\n",
      "410 L V\n",
      "411 S L\n",
      "412 T S\n",
      "413 D T\n",
      "414 E D\n",
      "415 I E\n",
      "416 W I\n",
      "417 E W\n",
      "418 S E\n",
      "420 I S\n",
      "421 P I\n",
      "422 E P\n",
      "423 P E\n",
      "424 I P\n",
      "425 K I\n",
      "426 S K\n",
      "427 R S\n",
      "428 V R\n",
      "429 I V\n",
      "430 N I\n",
      "431 G N\n",
      "432 Y G\n",
      "433 N Y\n",
      "434 W N\n",
      "435 K W\n",
      "436 R K\n",
      "437 S R\n",
      "438 G S\n",
      "439 D G\n",
      "440 I D\n",
      "441 Q I\n",
      "442 I Q\n",
      "444 S I\n",
      "445 K S\n",
      "446 D K\n",
      "447 G D\n",
      "448 Y G\n",
      "449 L Y\n",
      "450 S L\n",
      "451 A S\n",
      "452 Y A\n",
      "453 S Y\n",
      "454 K S\n",
      "456 G K\n",
      "457 T G\n",
      "459 H T\n",
      "460 S H\n",
      "461 V S\n",
      "462 W V\n",
      "463 N W\n",
      "464 S N\n",
      "465 Y S\n",
      "466 D Y\n",
      "467 S D\n",
      "468 H S\n",
      "469 I H\n",
      "470 P I\n",
      "471 L P\n",
      "473 F L\n",
      "474 M F\n",
      "475 G M\n",
      "476 W G\n",
      "477 G W\n",
      "478 I G\n",
      "479 K I\n",
      "480 Q K\n",
      "481 G Q\n",
      "482 E G\n",
      "483 S E\n",
      "484 N S\n",
      "485 Q N\n",
      "486 P Q\n",
      "487 Y P\n",
      "488 H Y\n",
      "489 M H\n",
      "490 T M\n",
      "491 D T\n",
      "492 I D\n",
      "493 A I\n",
      "494 P A\n",
      "495 T P\n",
      "496 V T\n",
      "497 S V\n",
      "499 L S\n",
      "501 K L\n",
      "502 I K\n",
      "503 Q I\n",
      "504 F Q\n",
      "505 P F\n",
      "506 S P\n",
      "507 G S\n",
      "508 A G\n",
      "509 V A\n",
      "510 G V\n",
      "511 K G\n",
      "512 P K\n",
      "513 I P\n",
      "514 T I\n",
      "515 E T\n",
      "516 V E\n",
      "517 I V\n",
      "518 G I\n",
      "pseq end:  GZZZZ\n"
     ]
    }
   ],
   "source": [
    "### BEGIN SOLUTION\n",
    "\n",
    "# This doesn't do a good job of illustrating where things\n",
    "# differ between these two sequences. The question is dangerously\n",
    "# close to \"solve the problem of optimal sequence alignment\"\n",
    "# which is a fair question to ask a graduate student in\n",
    "# bioinformatics on their take-home qualifying exam, but perhaps,\n",
    "# not a great question to ask undergraduates who only have an\n",
    "# hour!\n",
    "pcseq = pose_clean.sequence()\n",
    "pseq = pose.sequence()\n",
    "for i in range(min(len(pcseq),len(pseq))):\n",
    "    if pcseq[i] != pseq[i]:\n",
    "        print(i, pcseq[i], pseq[i])\n",
    "if len(pcseq)>len(pseq):\n",
    "    print(\"pcseq end: \", pcseq[len(pseq):])\n",
    "elif len(pseq) > len(pcseq):\n",
    "    print(\"pseq end: \", pseq[len(pcseq):])\n",
    "    \n",
    "### END SOLUTION"
   ]
  },
  {
   "cell_type": "markdown",
   "metadata": {},
   "source": [
    "With the function annotated_sequence below, we can start to see in more detail what the differences are. Note that non-canonical amino acids and hetatms are spelled out more explicitly now."
   ]
  },
  {
   "cell_type": "code",
   "execution_count": 9,
   "metadata": {},
   "outputs": [
    {
     "data": {
      "text/plain": [
       "'N[ASN:NtermProteinFull]AVPRPKLVVGLVVDQMRWDYLYRYYSKYGEGGFKRMLNTGYSLNNVHIDYVPTVT[THR:phosphorylated]AIGHTSIFTGSVPSIHGIAGNDWYDKELGKSVYCTSDETVQPVGTTSNSVGQHSPRNLWSTTVTDQLGLATNFTSKVVGVSLKDRASILPAGHNPTGAFWFDDTTGKFITSTYYTKELPKWVNDFNNKNVPAQLVANGWNTLLPINQYTESSEDNVEWEGLLGSKKTPTFPYTDLAKDYEAKKGLIRTTPFGNTLTLQMADAAIDGNQMGVDDITDFLTVNLASTDYVGHNFGPNSIEVEDTYLRLDRDLADFFNNLDKKVGKGNYLVFLSADHGAAHSVGFMQAHKMPTGFFDMKKEMNAKLKQKFGADNIIAAAMNYQVYFDRKVLADSKLELDDVRDYVMTELKKEPSVLYVLSTDEIWESSIPEPIKSRVINGYNWKRSGDIQIISKDGYLSAYSKKGTTHSVWNSYDSHIPLLFMGWGIKQGESNQPYHMTDIAPTVSSLLKIQFPSGAVGKPITEVIG[GLY:CtermProteinFull]Z[ZN]Z[ZN]Z[ZN]Z[ZN]'"
      ]
     },
     "execution_count": 9,
     "metadata": {},
     "output_type": "execute_result"
    }
   ],
   "source": [
    "pose.annotated_sequence()"
   ]
  },
  {
   "cell_type": "code",
   "execution_count": 10,
   "metadata": {
    "scrolled": true
   },
   "outputs": [
    {
     "data": {
      "text/plain": [
       "'N[ASN:NtermProteinFull]AVPRPKLVVGLVVDQMRWDYLYRYYSKYGEGGFKRMLNTGYSLNNVHIDYVPTVAIGHTSIFTGSVPSIHGIAGNDWYDKELGKSVYCTSDETVQPVGTTSNSVGQHSPRNLWSTTVTDQLGLATNFTSKVVGVSLKDRASILPAGHNPTGAFWFDDTTGKFITSTYYTKELPKWVNDFNNKNVPAQLVANGWNTLLPINQYTESSEDNVEWEGLLGSKKTPTFPYTDLAKDYEAKKGLIRTTPFGNTLTLQMADAAIDGNQMGVDDITDFLTVNLASTDYVGHNFGPNSIEVEDTYLRLDRDLADFFNNLDKKVGKGNYLVFLSADHGAAHSVGFMQAHKMPTGFFDMKKEMNAKLKQKFGADNIIAAAMNYQVYFDRKVLADSKLELDDVRDYVMTELKKEPSVLYVLSTDEIWESSIPEPIKSRVINGYNWKRSGDIQIISKDGYLSAYSKKGTTHSVWNSYDSHIPLLFMGWGIKQGESNQPYHMTDIAPTVSSLLKIQFPSGAVGKPITEVIG[GLY:CtermProteinFull]'"
      ]
     },
     "execution_count": 10,
     "metadata": {},
     "output_type": "execute_result"
    }
   ],
   "source": [
    "pose_clean.annotated_sequence()"
   ]
  },
  {
   "cell_type": "markdown",
   "metadata": {},
   "source": [
    "Because this PDB file was able to load into PyRosetta successfully without the cleanATOM method, we're going to stick with this slightly larger `pose` through the rest of this lab."
   ]
  },
  {
   "cell_type": "markdown",
   "metadata": {},
   "source": [
    "## Working with Pose residues ##"
   ]
  },
  {
   "cell_type": "markdown",
   "metadata": {},
   "source": [
    "   We can use methods in `Pose` to count residues and pick out residues from the pose. Remember that `Pose` is a python class, and to access methods it implements, you need an instance of the class (here `pose` or `pose_clean`) and you then use a dot after the instance. Here's a couple examples."
   ]
  },
  {
   "cell_type": "code",
   "execution_count": 11,
   "metadata": {
    "scrolled": true
   },
   "outputs": [
    {
     "name": "stdout",
     "output_type": "stream",
     "text": [
      "524\n",
      "519\n"
     ]
    }
   ],
   "source": [
    "print(pose.total_residue())\n",
    "print(pose_clean.total_residue())\n",
    "# Did you catch all the missing residues before?"
   ]
  },
  {
   "cell_type": "code",
   "execution_count": 12,
   "metadata": {},
   "outputs": [
    {
     "name": "stdout",
     "output_type": "stream",
     "text": [
      "ARG\n"
     ]
    }
   ],
   "source": [
    "res = pose.residue(24)\n",
    "print(res.name())"
   ]
  },
  {
   "cell_type": "markdown",
   "metadata": {},
   "source": [
    "What is the 24th residue of the protein pose? What is the 24th residue in the PDB file (look in the PDB file)?\n",
    "\n",
    "We can immediately see that the numbering Pyrosetta internally uses for pose residues is different from the PDB file. The information corresponding to the PDB file can be accessed through the `pose.pdb_info()` object."
   ]
  },
  {
   "cell_type": "code",
   "execution_count": 13,
   "metadata": {},
   "outputs": [
    {
     "name": "stdout",
     "output_type": "stream",
     "text": [
      "A\n",
      "47\n"
     ]
    }
   ],
   "source": [
    "print(pose.pdb_info().chain(24))\n",
    "print(pose.pdb_info().number(24))"
   ]
  },
  {
   "cell_type": "code",
   "execution_count": 14,
   "metadata": {
    "scrolled": false
   },
   "outputs": [
    {
     "name": "stdout",
     "output_type": "stream",
     "text": [
      "47 A \n"
     ]
    }
   ],
   "source": [
    "print(pose.pdb_info().pose2pdb(24))"
   ]
  },
  {
   "cell_type": "code",
   "execution_count": 15,
   "metadata": {},
   "outputs": [
    {
     "name": "stdout",
     "output_type": "stream",
     "text": [
      "1\n"
     ]
    }
   ],
   "source": [
    "print(pose.pdb_info().pdb2pose('A', 24))"
   ]
  },
  {
   "cell_type": "markdown",
   "metadata": {},
   "source": [
    "Note that Rosetta counts from 1. Lots of programming languages encourage developers to count from 0, including python. This will come up any time you try to use the `range` function in a for loop. If you write:\n",
    "```\n",
    "    for i in range(4):\n",
    "        print(i)\n",
    "```\n",
    "then it will output numbers 0, 1, 2, and 3. In order to iterate from 1 to 4, you have to write:\n",
    "```\n",
    "    for i in range(1,4+1):\n",
    "        print(i)\n",
    "```\n",
    "which is ever so slightly annoying. If you want to iterate over all of the residues in a Pose, you will need to construct your range like this:\n",
    "```\n",
    "    for i in range(1,pose.total_residue()+1):\n",
    "        # whatever you were going to do\n",
    "        pass\n",
    "```\n",
    "You will use this for-loop construct in this lab.\n",
    "\n",
    "===\n",
    "\n",
    "Now we can see how to examine the identity of a residue by PDB chain and residue number.\n",
    "\n",
    "Once we get a residue, there are various methods in the `Residue` class that might let us read useful information about a residue. We can get instances of the `Residue` class from `Pose`. For instance, we can do the following:"
   ]
  },
  {
   "cell_type": "code",
   "execution_count": 16,
   "metadata": {},
   "outputs": [
    {
     "name": "stdout",
     "output_type": "stream",
     "text": [
      "ARG\n",
      "True\n"
     ]
    }
   ],
   "source": [
    "res_24 = pose.residue(24)\n",
    "print(res_24.name())\n",
    "print(res_24.is_charged())"
   ]
  },
  {
   "cell_type": "markdown",
   "metadata": {},
   "source": [
    "## Accessing PyRosetta Documentation ##"
   ]
  },
  {
   "cell_type": "markdown",
   "metadata": {},
   "source": [
    "One benefit of working within Jupyter notebooks is that we can make use of its autocomplete features. To see an example, try typing `res.is_` and pressing `tab` to find other features of residues you can examine. Note that you can scroll down to see more features."
   ]
  },
  {
   "cell_type": "code",
   "execution_count": 17,
   "metadata": {},
   "outputs": [],
   "source": [
    "#res.is_"
   ]
  },
  {
   "cell_type": "markdown",
   "metadata": {},
   "source": [
    "Some atom-level information is described by funtions starting with `atom_is_`. Press tab to find these functions\n"
   ]
  },
  {
   "cell_type": "code",
   "execution_count": 18,
   "metadata": {},
   "outputs": [],
   "source": [
    "#res.atom_is_"
   ]
  },
  {
   "cell_type": "markdown",
   "metadata": {},
   "source": [
    "You will be using this feature *extensively* this week. Lots of problems give you too little information to figure out the answer: the point of these questions will be to get you to dig through class methods to find the ones that are appropriate.\n",
    "\n",
    "It is worth noting that the autocomplete feature doesn't work well for function results. You have to store the results in a variable in one cell, evaluate that cell, and then you can autocomplete in the next cell. What do I mean?\n",
    "\n",
    "Well, we ran\n",
    "```\n",
    "    res = pose.residue(24)\n",
    "```\n",
    "and then followed it with\n",
    "```\n",
    "    res.is_<tab>\n",
    "```\n",
    "It would have been nice if we could have just typed:\n",
    "```\n",
    "    pose.residue(24).is_<tab>\n",
    "```\n",
    "without first assigning the result of the `pose.residue(24)` function call to a variable. Sadly, it doesn't work that way.\n",
    "\n"
   ]
  },
  {
   "cell_type": "markdown",
   "metadata": {},
   "source": [
    "There is additional information available about a residue's chemistry that is stored in the `ResidueType` for a the `Residue`. Every `Residue` represents a concrete representative of a more abstract `ResidueType`. A `ResidueType` holds general information about the chemistry of a group of atoms: how many atoms there are and their names, what bonds are present, the element for each atom. `Residue` holds the concrete information about a particular instance, including its coordinates and the information about how it is chemically bound to other `Residue`s in the structure. Under the hood, many of the functions you see in `Residue` simply defer to `ResidueType` to provide the data that you're looking for. \n",
    "\n",
    "To get the `ResidueType` for a `Residue`, use the `type()` method:"
   ]
  },
  {
   "cell_type": "code",
   "execution_count": 19,
   "metadata": {},
   "outputs": [],
   "source": [
    "restype = res.type()"
   ]
  },
  {
   "cell_type": "markdown",
   "metadata": {},
   "source": [
    "Similarly, we can get the atom type for a particular atom"
   ]
  },
  {
   "cell_type": "code",
   "execution_count": 20,
   "metadata": {},
   "outputs": [],
   "source": [
    "Otype = restype.atom_type(restype.atom_index(\"O\"))"
   ]
  },
  {
   "cell_type": "markdown",
   "metadata": {},
   "source": [
    "Now let's look at the methods for thh `AtomType` class using the tab key"
   ]
  },
  {
   "cell_type": "code",
   "execution_count": 21,
   "metadata": {},
   "outputs": [],
   "source": [
    "#Otype."
   ]
  },
  {
   "cell_type": "markdown",
   "metadata": {},
   "source": [
    "Now that we've looked through several functions, we know how to confirm that PyRosetta has loaded in the zinc ions as metal ions. "
   ]
  },
  {
   "cell_type": "code",
   "execution_count": 22,
   "metadata": {
    "scrolled": true
   },
   "outputs": [
    {
     "data": {
      "text/plain": [
       "True"
      ]
     },
     "execution_count": 22,
     "metadata": {},
     "output_type": "execute_result"
    }
   ],
   "source": [
    "zn_resid = pose.pdb_info().pdb2pose('A', 601)\n",
    "res_zn = pose.residue(zn_resid) \n",
    "res_zn.is_metal() "
   ]
  },
  {
   "cell_type": "markdown",
   "metadata": {},
   "source": [
    "We can also explore documentation for objects and methods from Jupyter notebooks. Say you wanted to find out more about the Pose object. Try typing in `Pose?`, `?Pose` or `help(Pose)`."
   ]
  },
  {
   "cell_type": "code",
   "execution_count": 23,
   "metadata": {},
   "outputs": [],
   "source": [
    "Pose?"
   ]
  },
  {
   "cell_type": "markdown",
   "metadata": {},
   "source": [
    "By the way, now if you ever go on to develop some PyRosetta functions, you can see the importance of docstrings!\n",
    "\n",
    "This works for PyRosetta methods as well:"
   ]
  },
  {
   "cell_type": "code",
   "execution_count": 24,
   "metadata": {},
   "outputs": [],
   "source": [
    "res_24 = pose.residue(24)\n",
    "res_24.atom_index?"
   ]
  },
  {
   "cell_type": "markdown",
   "metadata": {},
   "source": [
    "Now use the method below to find out whether the \"CA\" atom in res_24 is a backbone atom. "
   ]
  },
  {
   "cell_type": "code",
   "execution_count": 25,
   "metadata": {
    "nbgrader": {
     "grade": true,
     "grade_id": "cell-211c100adf4d6e74",
     "locked": false,
     "points": 0,
     "schema_version": 3,
     "solution": true
    }
   },
   "outputs": [
    {
     "data": {
      "text/plain": [
       "True"
      ]
     },
     "execution_count": 25,
     "metadata": {},
     "output_type": "execute_result"
    }
   ],
   "source": [
    "### BEGIN SOLUTION\n",
    "res_24.atom_is_backbone(res_24.atom_index(\"CA\"))\n",
    "### END SOLUTION"
   ]
  },
  {
   "cell_type": "markdown",
   "metadata": {},
   "source": [
    "## Getting spatial features from a Pose ## "
   ]
  },
  {
   "cell_type": "markdown",
   "metadata": {},
   "source": [
    "`Pose` objects make it easy to access angles, distances, and torsions for analysis. Lets take a look at how to get backbone torsions first."
   ]
  },
  {
   "cell_type": "code",
   "execution_count": 26,
   "metadata": {},
   "outputs": [
    {
     "name": "stdout",
     "output_type": "stream",
     "text": [
      "-149.17513487055064\n",
      "151.30037995499168\n",
      "-82.850785668982\n"
     ]
    }
   ],
   "source": [
    "resid = pose.pdb_info().pdb2pose('A', 28)\n",
    "print(pose.phi(resid))\n",
    "print(pose.psi(resid))\n",
    "print(pose.chi(1, resid))"
   ]
  },
  {
   "cell_type": "markdown",
   "metadata": {},
   "source": [
    "Say we want to find the length of the $N$-$C_\\alpha$ and $C_\\alpha$-$C$ bonds for residue A:28 from the PDB file. We can use a couple of approaches. The first involves using the bond length in the `Conformation` class, which stores some info on protein geometry. Take a look at some of the methods in the `Conformation` class using tab completion."
   ]
  },
  {
   "cell_type": "code",
   "execution_count": 27,
   "metadata": {},
   "outputs": [],
   "source": [
    "conformation = pose.conformation()"
   ]
  },
  {
   "cell_type": "markdown",
   "metadata": {},
   "source": [
    "Look at the documentation for the method `conformation.bond_length` below."
   ]
  },
  {
   "cell_type": "code",
   "execution_count": 28,
   "metadata": {},
   "outputs": [],
   "source": [
    "conformation.bond_length?"
   ]
  },
  {
   "cell_type": "markdown",
   "metadata": {},
   "source": [
    "To use the bond_length method in the `Conformation` class, it looks like we'll need to make `AtomID` objects. We can do this using an atom index and residue ID as follows:"
   ]
  },
  {
   "cell_type": "code",
   "execution_count": 29,
   "metadata": {},
   "outputs": [],
   "source": [
    "res_28 = pose.residue(resid)\n",
    "N28 = AtomID(res_28.atom_index(\"N\"), resid)\n",
    "CA28 = AtomID(res_28.atom_index(\"CA\"), resid)\n",
    "C28 = AtomID(res_28.atom_index(\"C\"), resid)"
   ]
  },
  {
   "cell_type": "markdown",
   "metadata": {},
   "source": [
    "As usual, if you did not know how to construct an `AtomID`, you could check the documentation using `?AtomID`.\n",
    "\n",
    "Now we can compute the bond lengths:"
   ]
  },
  {
   "cell_type": "code",
   "execution_count": 30,
   "metadata": {},
   "outputs": [
    {
     "name": "stdout",
     "output_type": "stream",
     "text": [
      "1.456100614655453\n",
      "1.5184027792387658\n"
     ]
    }
   ],
   "source": [
    "print(pose.conformation().bond_length(N28, CA28))\n",
    "print(pose.conformation().bond_length(CA28, C28))"
   ]
  },
  {
   "cell_type": "markdown",
   "metadata": {},
   "source": [
    "Alternatively, we can compute bond lengths ourselves starting from the xyz coordinates of the atoms. \n",
    "\n",
    "The method `xyz` of `Residue` returns a `Vector` class. The `Vector` class has various useful builtin methods including computing dot products, cross products, and norms. Through operator overloading in the `Vector` class, you can just subtract and add vector objects and they will manipulate the corresponding vectors appropriately."
   ]
  },
  {
   "cell_type": "code",
   "execution_count": 31,
   "metadata": {},
   "outputs": [
    {
     "name": "stdout",
     "output_type": "stream",
     "text": [
      "1.456100614655453\n",
      "1.5184027792387658\n"
     ]
    }
   ],
   "source": [
    "N_xyz = res_28.xyz(\"N\")\n",
    "CA_xyz = res_28.xyz(\"CA\")\n",
    "C_xyz = res_28.xyz(\"C\")\n",
    "print((CA_xyz - N_xyz).norm())\n",
    "print((CA_xyz - C_xyz).norm())"
   ]
  },
  {
   "cell_type": "markdown",
   "metadata": {},
   "source": [
    "Thankfully, the two approaches for computing distances check out!\n",
    "\n",
    "**Note**: Not all bond lengths, angles, and torsions will be accessible using the `Conformation` object. That is because the `Conformation` object stores only the subset it needs to generate xyz locations for the atoms in the pose. The most stable way to get this information is to compute it using the xyz Cartesian coordinate vectors as a starting point."
   ]
  },
  {
   "cell_type": "markdown",
   "metadata": {},
   "source": [
    "Let's take a look at Rosetta's ideal values for this amino acid's bond lengths and see how these values compare. First find Pyrosetta's database directory on your computer (hint: it should have shown up when you ran `init()` at the beginning of this Jupyter notebook.) Head to the subdirectory `chemical/residue_type_sets/fa_standard/` to find the residue you're looking at. Residue `A:28` can be found in the `l-caa` folder, since it is a standard amino acid. The `ICOOR_INTERNAL` lines will provide torsion angles, (improper) bond angles, and bond lengths between subsequent atoms in this residue. From this you should be able to deduce Rosetta's ideal $N$-$C_\\alpha$ and $C_\\alpha$-$C$ bond lengths.\n",
    "\n",
    "These ideal values would for instance be used if we generated a new pose from an amino acid sequence. In fact, let's try that here:"
   ]
  },
  {
   "cell_type": "code",
   "execution_count": 32,
   "metadata": {},
   "outputs": [
    {
     "name": "stdout",
     "output_type": "stream",
     "text": [
      "R\n"
     ]
    }
   ],
   "source": [
    "tiny_seq = res_28.name1()\n",
    "pose_tiny = pose_from_sequence(tiny_seq)\n",
    "print(pose_tiny.sequence())"
   ]
  },
  {
   "cell_type": "code",
   "execution_count": 33,
   "metadata": {},
   "outputs": [
    {
     "name": "stdout",
     "output_type": "stream",
     "text": [
      "1.458001\n",
      "1.5232569999999999\n"
     ]
    }
   ],
   "source": [
    "N_xyz = pose_tiny.residue(1).xyz(\"N\")\n",
    "CA_xyz = pose_tiny.residue(1).xyz(\"CA\")\n",
    "C_xyz = pose_tiny.residue(1).xyz(\"C\")\n",
    "print((CA_xyz - N_xyz).norm())\n",
    "print((CA_xyz - C_xyz).norm())"
   ]
  },
  {
   "cell_type": "markdown",
   "metadata": {},
   "source": [
    "Efficiency Tip:\n",
    "\n",
    "When you are computing the distance between two points, you use\n",
    "\\begin{equation}\n",
    "    dist = \\sqrt{ (x_1-x_2)^2 + (y_1-y_2)^2 + (z_1-z_2)^2 }\n",
    "\\end{equation}\n",
    "which requires the somwhat slow evaluation of a square root. If you are computing the distance between two points to learn whether or not they are closer than some threshold, $\\tau$, you can actually avoid that square root.\n",
    "\n",
    "\\begin{align}\n",
    "    \\sqrt{ (x_1-x_2)^2 + (y_1-y_2)^2 + (z_1-z_2)^2 }     <= \\tau     \\tag{1} \\\\\n",
    "    \\sqrt{ (x_1-x_2)^2 + (y_1-y_2)^2 + (z_1-z_2)^2 } ^ 2 <= \\tau ^ 2 \\tag{2} \\\\\n",
    "           (x_1-x_2)^2 + (y_1-y_2)^2 + (z_1-z_2)^2       <= \\tau ^ 2 \\tag{3} \\\\\n",
    "\\end{align}\n",
    "\n",
    "The inequality holds when you square both sides in Eqn 2. So instead of comparing a distance to a threshold distance, compare a square distance against a squared threshold distance. Squaring a distance is fast; squarerooting a squared distance is slow. Use square distances instead of distances when you can.\n",
    "\n",
    "(That said: you're using *python*, even if the distance functions themselves are written in C++. The overhead of calling the C++ function from python dwarfs the cost of a square root. If you're using vector operations in numpy, then the sqrt can make a difference, but if you're writing python for loops to iterate over atom pairs, you're already spending vastly more time in the python layer than you are down in the actual calculations.)\n",
    "\n",
    "===\n",
    "\n",
    "Now lets figure out how to get angles in the protein. If the `Conformation` class has the angle we're looking for, we can use the AtomID objects we've already created:"
   ]
  },
  {
   "cell_type": "code",
   "execution_count": 34,
   "metadata": {},
   "outputs": [
    {
     "name": "stdout",
     "output_type": "stream",
     "text": [
      "1.913188766577386\n"
     ]
    }
   ],
   "source": [
    "angle = pose.conformation().bond_angle(N28, CA28, C28)\n",
    "print(angle)\n"
   ]
  },
  {
   "cell_type": "markdown",
   "metadata": {},
   "source": [
    "We can compute the above angle in degrees:"
   ]
  },
  {
   "cell_type": "code",
   "execution_count": 35,
   "metadata": {},
   "outputs": [
    {
     "data": {
      "text/plain": [
       "109.61764173672383"
      ]
     },
     "execution_count": 35,
     "metadata": {},
     "output_type": "execute_result"
    }
   ],
   "source": [
    "import math\n",
    "angle*180/math.pi"
   ]
  },
  {
   "cell_type": "markdown",
   "metadata": {},
   "source": [
    "Note how this compares to the expected angle based on a tetrahedral geometry for the $C_\\alpha$ carbon."
   ]
  },
  {
   "cell_type": "markdown",
   "metadata": {},
   "source": [
    "**Problem:** Try to calculate this angle using the xyz atom positions for N, CA, and C of residue A:28 in the protein. You can use the `Vector` function `v3 = v1.dot(v2)` along with `v1.norm()`. The vector angle between two vectors BA and BC is $arccos(\\frac{BA \\cdot BC}{|BA| |BC|})$."
   ]
  },
  {
   "cell_type": "code",
   "execution_count": 36,
   "metadata": {
    "nbgrader": {
     "grade": true,
     "grade_id": "cell-e3d56bfd9f54d62a",
     "locked": false,
     "points": 0,
     "schema_version": 3,
     "solution": true
    }
   },
   "outputs": [
    {
     "data": {
      "text/plain": [
       "1.913188766577386"
      ]
     },
     "execution_count": 36,
     "metadata": {},
     "output_type": "execute_result"
    }
   ],
   "source": [
    "### BEGIN SOLUTION\n",
    "\n",
    "N_xyz = res_28.xyz(\"N\")\n",
    "CA_xyz = res_28.xyz(\"CA\")\n",
    "C_xyz = res_28.xyz(\"C\")\n",
    "\n",
    "N_CA = N_xyz - CA_xyz\n",
    "C_CA = C_xyz - CA_xyz\n",
    "norm_N_CA = N_CA.length()\n",
    "norm_C_CA = C_CA.length()\n",
    "math.acos((N_CA.dot(C_CA))/(norm_N_CA*norm_C_CA))\n",
    "\n",
    "### END SOLUTION"
   ]
  },
  {
   "cell_type": "markdown",
   "metadata": {},
   "source": [
    "## Pose Scoring"
   ]
  },
  {
   "cell_type": "markdown",
   "metadata": {},
   "source": [
    "The `Pose` class not only contains information about pose geometry, but also contains information about the energy, or score, of the conformation. The energy stored in a Pose object reflects the last time it was scored.\n",
    "\n",
    "Below, we show how to get Rosetta's default score function (which has the weights of different types of energy terms already set). Then we score a pose, which will update its energy values. We can see the energy function used along with the score in Rosetta Energy Units."
   ]
  },
  {
   "cell_type": "code",
   "execution_count": 37,
   "metadata": {},
   "outputs": [
    {
     "name": "stdout",
     "output_type": "stream",
     "text": [
      "\u001b[0mcore.scoring.ScoreFunctionFactory: {0} \u001b[0mSCOREFUNCTION: \u001b[32mref2015\u001b[0m\n"
     ]
    },
    {
     "data": {
      "text/plain": [
       "-538.7690318782074"
      ]
     },
     "execution_count": 37,
     "metadata": {},
     "output_type": "execute_result"
    }
   ],
   "source": [
    "sf = get_fa_scorefxn()\n",
    "sf(pose)"
   ]
  },
  {
   "cell_type": "markdown",
   "metadata": {},
   "source": [
    "The `Pose` object can then be the gateway to all sorts of useful energy information. Here we're printing out a pretty cryptic set of energy information for the 5th residue in the protein."
   ]
  },
  {
   "cell_type": "code",
   "execution_count": 38,
   "metadata": {},
   "outputs": [
    {
     "name": "stdout",
     "output_type": "stream",
     "text": [
      "( fa_atr; -6.77693) ( fa_rep; 1.02435) ( fa_sol; 4.3255) ( fa_intra_atr; -1.74456) ( fa_intra_rep; 2.53725) ( fa_intra_sol; 1.05863) ( fa_intra_atr_xover4; -0.430578) ( fa_intra_rep_xover4; 0.157688) ( fa_intra_sol_xover4; 0.197035) ( fa_intra_atr_nonprotein; 0) ( fa_intra_rep_nonprotein; 0) ( fa_intra_sol_nonprotein; 0) ( fa_intra_RNA_base_phos_atr; 0) ( fa_intra_RNA_base_phos_rep; 0) ( fa_intra_RNA_base_phos_sol; 0) ( fa_atr_dummy; 0) ( fa_rep_dummy; 0) ( fa_sol_dummy; 0) ( fa_vdw_tinker; 0) ( lk_hack; 0) ( lk_ball; 0) ( lk_ball_wtd; -0.117032) ( lk_ball_iso; 0) ( lk_ball_bridge; 0) ( lk_ball_bridge_uncpl; 0) ( coarse_fa_atr; 0) ( coarse_fa_rep; 0) ( coarse_fa_sol; 0) ( coarse_beadlj; 0) ( mm_lj_intra_rep; 0) ( mm_lj_intra_atr; 0) ( mm_lj_inter_rep; 0) ( mm_lj_inter_atr; 0) ( mm_twist; 0) ( mm_bend; 0) ( mm_stretch; 0) ( lk_costheta; 0) ( lk_polar; 0) ( lk_nonpolar; 0) ( lk_polar_intra_RNA; 0) ( lk_nonpolar_intra_RNA; 0) ( fa_elec; -2.04284) ( fa_elec_bb_bb; 0) ( fa_elec_bb_sc; 0) ( fa_elec_sc_sc; 0) ( fa_intra_elec; 0) ( h2o_hbond; 0) ( dna_dr; 0) ( dna_bp; 0) ( dna_bs; 0) ( dna_ref; 0) ( peptide_bond; 0) ( pcs; 0) ( pcsTs1; 0) ( pcsTs2; 0) ( pcsTs3; 0) ( pcsTs4; 0) ( pcs2; 0) ( fastsaxs; 0) ( saxs_score; 0) ( saxs_cen_score; 0) ( saxs_fa_score; 0) ( pddf_score; 0) ( fiberdiffraction; 0) ( fiberdiffractiondens; 0) ( fa_mbenv; 0) ( fa_mbsolv; 0) ( fa_elec_rna_phos_phos; 0) ( fa_elec_rna_phos_sugr; 0) ( fa_elec_rna_phos_base; 0) ( fa_elec_rna_sugr_sugr; 0) ( fa_elec_rna_sugr_base; 0) ( fa_elec_rna_base_base; 0) ( fa_elec_rna_phos_phos_fast; 0) ( fa_elec_rna_phos_sugr_fast; 0) ( fa_elec_rna_phos_base_fast; 0) ( fa_elec_rna_sugr_sugr_fast; 0) ( fa_elec_rna_sugr_base_fast; 0) ( fa_elec_rna_base_base_fast; 0) ( fa_elec_aro_aro; 0) ( fa_elec_aro_all; 0) ( hack_aro; 0) ( rna_fa_atr_base; 0) ( rna_fa_rep_base; 0) ( rna_data_backbone; 0) ( ch_bond; 0) ( ch_bond_bb_bb; 0) ( ch_bond_sc_sc; 0) ( ch_bond_bb_sc; 0) ( pro_close; 0.0266449) ( rama2b; 0) ( vdw; 0) ( cenpack; 0) ( cenpack_smooth; 0) ( cen_hb; 0) ( hybrid_vdw; 0) ( gauss; 0) ( rna_vdw; 0) ( rnp_vdw; 0) ( rna_base_backbone; 0) ( rna_backbone_backbone; 0) ( rna_repulsive; 0) ( rna_base_pair_pairwise; 0) ( rna_base_axis_pairwise; 0) ( rna_base_stagger_pairwise; 0) ( rna_base_stack_pairwise; 0) ( rna_base_stack_axis_pairwise; 0) ( rna_data_base; 0) ( rna_base_pair; 0) ( rna_base_axis; 0) ( rna_base_stagger; 0) ( rna_base_stack; 0) ( rna_base_stack_axis; 0) ( rnp_base_pair; 0) ( rnp_stack; 0) ( rnp_stack_xy; 0) ( rnp_pair; 0) ( rnp_pair_dist; 0) ( rnp_aa_to_rna_backbone; 0) ( rna_mg_point; 0) ( rna_mg_point_indirect; 0) ( mg; 0) ( mg_lig; 0) ( mg_sol; 0) ( mg_ref; 0) ( hoh_ref; 0) ( rna_torsion; 0) ( rna_torsion_sc; 0) ( rna_suite; 0) ( rna_jr_suite; 0) ( suiteness_bonus; 0) ( tna_suite; 0) ( rna_sugar_close; 0) ( fa_stack; 0) ( fa_stack_lower; 0) ( fa_stack_upper; 0) ( fa_stack_aro; 0) ( fa_stack_ext; 0) ( fa_stack_sol; 0) ( fa_stack_lr; 0) ( fa_stack_rna_protein; 0) ( fa_stack_rna_protein_aro; 0) ( ss_contact_worst; 0) ( stack_elec; 0) ( stack_elec_base_base; 0) ( stack_elec_base_bb; 0) ( alignment; 0) ( dna_bb_torsion; 0) ( dna_sugar_close; 0) ( dna_base_distance; 0) ( geom_sol_fast; 0) ( geom_sol_fast_intra_RNA; 0) ( fa_cust_pair_dist; 0) ( custom_atom_pair; 0) ( orbitals_hpol_bb; 0) ( pci_cation_pi; 0) ( pci_pi_pi; 0) ( pci_salt_bridge; 0) ( pci_hbond; 0) ( arg_cation_pi; 0) ( PyRosettaTwoBodyContextIndepenedentEnergy_first; 0) ( PyRosettaTwoBodyContextIndepenedentEnergy_162; 0) ( PyRosettaTwoBodyContextIndepenedentEnergy_163; 0) ( PyRosettaTwoBodyContextIndepenedentEnergy_164; 0) ( PyRosettaTwoBodyContextIndepenedentEnergy_165; 0) ( PyRosettaTwoBodyContextIndepenedentEnergy_166; 0) ( PyRosettaTwoBodyContextIndepenedentEnergy_167; 0) ( PyRosettaTwoBodyContextIndepenedentEnergy_168; 0) ( PyRosettaTwoBodyContextIndepenedentEnergy_169; 0) ( PyRosettaTwoBodyContextIndepenedentEnergy_170; 0) ( PyRosettaTwoBodyContextIndepenedentEnergy_last; 0) ( python; 0) ( fa_pair; 0) ( fa_pair_aro_aro; 0) ( fa_pair_aro_pol; 0) ( fa_pair_pol_pol; 0) ( hbond_sr_bb; 0) ( hbond_lr_bb; 0) ( hbond_bb_sc; -0.138824) ( hbond_sr_bb_sc; 0) ( hbond_lr_bb_sc; 0) ( hbond_sc; 0) ( hbond_intra; 0) ( hbond_wat; 0) ( wat_entropy; 0) ( hbond; 0) ( npd_hbond_sr_bb; 0) ( npd_hbond_lr_bb; 0) ( npd_hbond_bb_sc; 0) ( npd_hbond_sr_bb_sc; 0) ( npd_hbond_lr_bb_sc; 0) ( npd_hbond_sc; 0) ( npd_hbond_intra; 0) ( npd_hbond; 0) ( fa_grpelec; 0) ( PyRosettaTwoBodyContextDependentEnergy_first; 0) ( PyRosettaTwoBodyContextDependentEnergy_197; 0) ( PyRosettaTwoBodyContextDependentEnergy_198; 0) ( PyRosettaTwoBodyContextDependentEnergy_199; 0) ( PyRosettaTwoBodyContextDependentEnergy_200; 0) ( PyRosettaTwoBodyContextDependentEnergy_201; 0) ( PyRosettaTwoBodyContextDependentEnergy_202; 0) ( PyRosettaTwoBodyContextDependentEnergy_203; 0) ( PyRosettaTwoBodyContextDependentEnergy_204; 0) ( PyRosettaTwoBodyContextDependentEnergy_205; 0) ( PyRosettaTwoBodyContextDependentEnergy_last; 0) ( interface_dd_pair; 0) ( geom_sol; 0) ( geom_sol_intra_RNA; 0) ( occ_sol_fitted; 0) ( occ_sol_fitted_onebody; 0) ( occ_sol_exact; 0) ( cen_rot_pair; 0) ( cen_rot_pair_ang; 0) ( cen_rot_pair_dih; 0) ( pair; 0) ( cen_pair_smooth; 0) ( Mpair; 0) ( mp_pair; 0) ( fa_mpsolv; 0) ( suck; 0) ( rna_rg; 0) ( rna_motif; 0) ( facts_elec; 0) ( facts_solv; 0) ( facts_sasa; 0) ( motif_dock; 0) ( pointwater; 0) ( goap; 0) ( goap_dist; 0) ( goap_angle; 0) ( approximate_buried_unsat_penalty; 0) ( interchain_pair; 0) ( interchain_vdw; 0) ( gb_elec; 0) ( multipole_elec; 0) ( fa_sasa; 0) ( dslf_ss_dst; 0) ( dslf_cs_ang; 0) ( dslf_ss_dih; 0) ( dslf_ca_dih; 0) ( dslf_cbs_ds; 0) ( dslf_fa13; 0) ( dslfc_cen_dst; 0) ( dslfc_cb_dst; 0) ( dslfc_ang; 0) ( dslfc_cb_dih; 0) ( dslfc_bb_dih; 0) ( dslfc_rot; 0) ( dslfc_trans; 0) ( dslfc_RT; 0) ( atom_pair_constraint; 0) ( base_pair_constraint; 0) ( coarse_chainbreak_constraint; 0) ( constant_constraint; 0) ( coordinate_constraint; 0) ( angle_constraint; 0) ( dihedral_constraint; 0) ( big_bin_constraint; 0) ( dunbrack_constraint; 0) ( site_constraint; 0) ( metalhash_constraint; 0) ( metalbinding_constraint; 0) ( rna_stub_coord_hack; 0) ( bond_geometry; 0) ( rna_bond_geometry; 0) ( Hpol_bond_geometry; 0) ( rama; 0) ( omega; 0.153002) ( fa_dun; 5.71334) ( fa_dun_dev; 2.50582) ( fa_dun_rot; 3.20752) ( fa_dun_semi; 0) ( cen_rot_dun; 0) ( dna_chi; 0) ( p_aa_pp; -0.249304) ( p_aa_ss; 0) ( yhh_planarity; 0) ( hxl_tors; 0) ( h2o_intra; 0) ( ref; -0.09474) ( ref_nc; 0) ( seqdep_ref; 0) ( nmer_ref; 0) ( nmer_pssm; 0) ( nmer_svm; 0) ( envsmooth; 0) ( e_pH; 0) ( rna_bulge; 0) ( dna_dihedral_bb; 0) ( dna_dihedral_chi; 0) ( dna_dihedral_sugar; 0) ( sugar_bb; 0) ( free_suite; 0) ( free_2HOprime; 0) ( free_side_chain; 0) ( free_base; 0) ( free_res; 0) ( free_dof; 0) ( intermol; 0) ( other_pose; 0) ( special_rot; 0) ( PB_elec; 0) ( cen_env_smooth; 0) ( cbeta_smooth; 0) ( cen_rot_env; 0) ( cen_rot_cbeta; 0) ( env; 0) ( cbeta; 0) ( DFIRE; 0) ( Menv; 0) ( Mcbeta; 0) ( Menv_non_helix; 0) ( Menv_termini; 0) ( Menv_tm_proj; 0) ( Mlipo; 0) ( rg; 0) ( rg_local; 0) ( co; 0) ( hs_pair; 0) ( ss_pair; 0) ( rsigma; 0) ( sheet; 0) ( burial_v2; 0) ( burial; 0) ( abego; 0) ( covalent_labeling; 0) ( covalent_labeling_fa; 0) ( hrf_ms_labeling; 0) ( rnp_env; 0) ( loop_close; 0) ( missing_res; 0) ( mp_env; 0) ( mp_cbeta; 0) ( mp_lipo; 0) ( mp_termini; 0) ( mp_nonhelix; 0) ( mp_tmproj; 0) ( fa_mpenv; 0) ( fa_mpenv_smooth; 0) ( fa_water_to_bilayer; 0) ( mp_res_lipo; 0) ( span_ins; 0) ( mp_span_ang; 0) ( mp_helicality; 0) ( natbias_ss; 0) ( natbias_hs; 0) ( natbias_hh; 0) ( natbias_stwist; 0) ( aa_cmp; 0) ( dock_ens_conf; 0) ( csa; 0) ( dc; 0) ( rdc; 0) ( rdc_segments; 0) ( rdc_rohl; 0) ( nmr_pcs; 0) ( nmr_rdc; 0) ( nmr_pre; 0) ( cen_pair_motifs; 0) ( cen_pair_motif_degree; 0) ( holes; 0) ( holes_decoy; 0) ( holes_resl; 0) ( holes_min; 0) ( holes_min_mean; 0) ( rna_chem_shift; 0) ( rna_chem_map; 0) ( rna_chem_map_lores; 0) ( rna_partition; 0) ( dab_sasa; 0) ( dab_sev; 0) ( sa; 0) ( d2h_sa; 0) ( ProQM; 0) ( ProQ; 0) ( interchain_env; 0) ( interchain_contact; 0) ( chainbreak; 0) ( linear_chainbreak; 0) ( overlap_chainbreak; 0) ( distance_chainbreak; 0) ( dof_constraint; 0) ( branch_conn; 0) ( linear_branch_conn; 0) ( rama_prepro; 0.374753) ( paa_abego3; 0) ( cart_bonded; 0) ( cart_bonded_angle; 0) ( cart_bonded_length; 0) ( cart_bonded_ring; 0) ( cart_bonded_torsion; 0) ( cart_bonded_proper; 0) ( cart_bonded_improper; 0) ( gen_bonded; 0) ( gen_bonded_bond; 0) ( gen_bonded_angle; 0) ( gen_bonded_torsion; 0) ( gen_bonded_improper; 0) ( neigh_vect; 0) ( neigh_count; 0) ( neigh_vect_raw; 0) ( symE_bonus; 0) ( sym_lig; 0) ( mhc_epitope; 0) ( pack_stat; 0) ( rms_energy; 0) ( res_type_constraint; 0) ( res_type_linking_constraint; 0) ( pocket_constraint; 0) ( backbone_stub_constraint; 0) ( backbone_stub_linear_constraint; 0) ( surface; 0) ( p_aa; 0) ( unfolded; 0) ( split_unfolded_two_body; 0) ( fa_atr_ref; 0) ( fa_rep_ref; 0) ( fa_sol_ref; 0) ( fa_elec_ref; 0) ( hbond_ref; 0) ( dslf_fa13_ref; 0) ( fa_intra_atr_ref; 0) ( fa_intra_rep_ref; 0) ( fa_intra_sol_ref; 0) ( pro_close_ref; 0) ( fa_dun_ref; 0) ( fa_dun_dev_ref; 0) ( fa_dun_rot_ref; 0) ( fa_dun_semi_ref; 0) ( rama_ref; 0) ( p_aa_pp_ref; 0) ( omega_ref; 0) ( mm_lj_intra_rep_ref; 0) ( mm_lj_intra_atr_ref; 0) ( mm_twist_ref; 0) ( elec_dens_fast; 0) ( elec_dens_window; 0) ( elec_dens_whole_structure_ca; 0) ( elec_dens_whole_structure_allatom; 0) ( elec_dens_atomwise; 0) ( grid_vdw; 0) ( xtal_ml; 0) ( xtal_rwork; 0) ( xtal_rfree; 0) ( hpatch; 0) ( Menv_smooth; 0) ( wat_desolv; 0) ( ring_close; 0) ( aa_repeat; 0) ( aa_composition; 0) ( aspartimide_penalty; 0) ( hbnet; 0) ( buried_unsatisfied_penalty; 0) ( netcharge; 0) ( voids_penalty; 0) ( dna_env; 0) ( dna_pair; 0) ( dump_trajectory; 0) ( PyRosettaEnergy_first; 0) ( PyRosettaEnergy_461; 0) ( PyRosettaEnergy_462; 0) ( PyRosettaEnergy_463; 0) ( PyRosettaEnergy_464; 0) ( PyRosettaEnergy_465; 0) ( PyRosettaEnergy_466; 0) ( PyRosettaEnergy_467; 0) ( PyRosettaEnergy_468; 0) ( PyRosettaEnergy_469; 0) ( PyRosettaEnergy_last; 0) ( sidechain_neighbors; 0) ( membrane_span_constraint; 0) ( membrane_span_term_z_constraint; 0) ( aromatic_restraint; 0) ( total_score; 0.0411527) ( dummy_score_type; 0) \n"
     ]
    }
   ],
   "source": [
    "energy = pose.energies()\n",
    "print(energy.residue_total_energies(5))"
   ]
  },
  {
   "cell_type": "markdown",
   "metadata": {},
   "source": [
    "Scoring will be covered in much more detail in a subsequent lecture.\n",
    "\n",
    "Various score terms pertain to hydrogen bonds between residues. The `Pose` object can also give you easy access to the hydrogen bonds in the protein, including donor and acceptor atoms / residues."
   ]
  },
  {
   "cell_type": "markdown",
   "metadata": {},
   "source": [
    "The following gives information about all the hydrogen bonds in a pose:"
   ]
  },
  {
   "cell_type": "code",
   "execution_count": 39,
   "metadata": {
    "scrolled": true
   },
   "outputs": [],
   "source": [
    "hbond_set = pose.get_hbonds()"
   ]
  },
  {
   "cell_type": "markdown",
   "metadata": {},
   "source": [
    "We can then access all the hydrogen bonds that involve a particular residue, below residue 5 in the pose's numbering scheme."
   ]
  },
  {
   "cell_type": "code",
   "execution_count": 40,
   "metadata": {},
   "outputs": [],
   "source": [
    "res_hbonds = hbond_set.residue_hbonds(5, False)"
   ]
  },
  {
   "cell_type": "markdown",
   "metadata": {},
   "source": [
    "Lets take a look at the first hydrogen bond this residue forms."
   ]
  },
  {
   "cell_type": "code",
   "execution_count": 41,
   "metadata": {},
   "outputs": [
    {
     "name": "stdout",
     "output_type": "stream",
     "text": [
      "5\n",
      "20\n",
      "502\n",
      "4\n"
     ]
    }
   ],
   "source": [
    "res_hbond = res_hbonds[1]\n",
    "don_res = res_hbond.don_res()\n",
    "acc_res = res_hbond.acc_res()\n",
    "don_hatm = res_hbond.don_hatm()\n",
    "acc_atm = res_hbond.acc_atm()\n",
    "print(don_res)\n",
    "print(don_hatm)\n",
    "print(acc_res)\n",
    "print(acc_atm)"
   ]
  },
  {
   "cell_type": "markdown",
   "metadata": {},
   "source": [
    "Can you figure out the atom names for the donor and acceptor atoms for the hydrogen bond above?"
   ]
  },
  {
   "cell_type": "code",
   "execution_count": 42,
   "metadata": {
    "nbgrader": {
     "grade": true,
     "grade_id": "cell-57b7144a32fbadcb",
     "locked": false,
     "points": 0,
     "schema_version": 3,
     "solution": true
    }
   },
   "outputs": [
    {
     "name": "stdout",
     "output_type": "stream",
     "text": [
      "donor h:  HE \n",
      "acceptor:  O  \n"
     ]
    }
   ],
   "source": [
    "### BEGIN SOLUTION\n",
    "\n",
    "hbond_set.hbonds\n",
    "res5 = pose.residue(5)\n",
    "res502 = pose.residue(502)\n",
    "print(\"donor h:\", res5.atom_name(20))\n",
    "print(\"acceptor:\", res502.atom_name(4))\n",
    "\n",
    "### END SOLUTION"
   ]
  },
  {
   "cell_type": "markdown",
   "metadata": {},
   "source": [
    "## Exercises ##"
   ]
  },
  {
   "cell_type": "markdown",
   "metadata": {},
   "source": [
    "The following exercises are meant to get you more comfortable with `Pose` methods and python coding. Many will require looping through the residues in a pose. As you find residues that answer these questions, zoom in on them in PyMOL to check your work.\n",
    "\n",
    "**PyMOL Instructios:** View the protein in PyMOL, view as cartoon, view Zn2+ atoms as spheres, and color the substrate mimic residue distinctly.\n",
    "```\n",
    "show cartoon; show spheres, resn zn; color orange, resn tpo\n",
    "```"
   ]
  },
  {
   "cell_type": "markdown",
   "metadata": {},
   "source": [
    "### Active Site Residues"
   ]
  },
  {
   "cell_type": "markdown",
   "metadata": {},
   "source": [
    "1. Find all residues that have any side-chain atoms in hydrogen bonding distance (< 2.5 A) to the active site. Find all residues that coordinate with the Zn2+ atoms (< 2.3 A). These residues may have a role in catalysis.\n",
    "\n",
    "Hint: iterate across all residues, and then across all atoms"
   ]
  },
  {
   "cell_type": "code",
   "execution_count": 43,
   "metadata": {
    "nbgrader": {
     "grade": true,
     "grade_id": "cell-5025dd3880de6fb2",
     "locked": false,
     "points": 0,
     "schema_version": 3,
     "solution": true
    }
   },
   "outputs": [
    {
     "name": "stdout",
     "output_type": "stream",
     "text": [
      "actres_index 56\n",
      "[55, 57, 60, 77, 139, 141, 329, 461, 521, 522]\n"
     ]
    }
   ],
   "source": [
    "### BEGIN SOLUTION\n",
    "\n",
    "actres_index = pose.pdb_info().pdb2pose(\"A\",79)\n",
    "print(\"actres_index\", actres_index)\n",
    "actres = pose.residue(actres_index)\n",
    "nearby = []\n",
    "for i in range(1,pose.total_residue()+1):\n",
    "    if i == actres_index:\n",
    "        continue\n",
    "    ires = pose.residue(i)\n",
    "    for j in range(1,ires.natoms()+1):\n",
    "        jxyz = ires.xyz(j)\n",
    "        found = False\n",
    "        for k in range(1,actres.natoms()+1):\n",
    "            kxyz = actres.xyz(k)\n",
    "            if jxyz.distance_squared(kxyz) <= 2.5*2.5:\n",
    "                nearby.append(i)\n",
    "                found = True\n",
    "                break\n",
    "        if found:\n",
    "            break\n",
    "print(nearby)\n",
    "            \n",
    "### END SOLUTION"
   ]
  },
  {
   "cell_type": "markdown",
   "metadata": {},
   "source": [
    "2. Get all residue types within 8 A of the active site. Are there any patterns in terms of residue types here?"
   ]
  },
  {
   "cell_type": "code",
   "execution_count": 44,
   "metadata": {
    "nbgrader": {
     "grade": true,
     "grade_id": "cell-396a392024f0864c",
     "locked": false,
     "points": 0,
     "schema_version": 3,
     "solution": true
    }
   },
   "outputs": [
    {
     "name": "stdout",
     "output_type": "stream",
     "text": [
      "nearby 55 VAL\n",
      "nearby 57 ALA\n",
      "nearby 60 HIS\n",
      "nearby 77 ASN\n",
      "nearby 139 LYS\n",
      "nearby 141 ARG\n",
      "nearby 329 ASP\n",
      "nearby 461 HIS\n",
      "nearby 521 ZN\n",
      "nearby 522 ZN\n"
     ]
    }
   ],
   "source": [
    "### BEGIN SOLUTION\n",
    "for i in nearby:\n",
    "    print(\"nearby\", i, pose.residue_type(i).name())\n",
    "    \n",
    "### END SOLUTION"
   ]
  },
  {
   "cell_type": "markdown",
   "metadata": {},
   "source": [
    "### Checking Protein Structure"
   ]
  },
  {
   "cell_type": "markdown",
   "metadata": {},
   "source": [
    "1. Get the cartesian distances for all hbond donor and acceptor atoms in the protein, and plot with matplotlib in a histogram. Does this align with your expectation?"
   ]
  },
  {
   "cell_type": "code",
   "execution_count": 45,
   "metadata": {
    "nbgrader": {
     "grade": true,
     "grade_id": "cell-a186c2d9640243ec",
     "locked": false,
     "points": 0,
     "schema_version": 3,
     "solution": true
    }
   },
   "outputs": [
    {
     "data": {
      "image/png": "[encoded data removed]",
      "text/plain": [
       "<Figure size 432x288 with 1 Axes>"
      ]
     },
     "metadata": {
      "needs_background": "light"
     },
     "output_type": "display_data"
    }
   ],
   "source": [
    "### BEGIN SOLUTION\n",
    "\n",
    "hb_dists = [pose.residue(hb.don_res()).xyz(hb.don_hatm()).distance(\n",
    "            pose.residue(hb.acc_res()).xyz(hb.acc_atm()))\n",
    "            for hb in [ pose.get_hbonds().hbond(i) for i in range(1,pose.get_hbonds().nhbonds()+1) ]]\n",
    "import matplotlib.pyplot as plt\n",
    "plt.hist(hb_dists)\n",
    "plt.show()\n",
    "\n",
    "### END SOLUTION\n"
   ]
  },
  {
   "cell_type": "markdown",
   "metadata": {},
   "source": [
    "2. Check all $N$-$C_\\alpha$-$C$ bond angles in the protein to make sure they are reasonable.\n",
    "\n",
    "(Not all residues have an $N$, $C_\\alpha$, and $C$ atoms. You can ask a `Residue` if it has an atom, by name, with the `has` method)"
   ]
  },
  {
   "cell_type": "code",
   "execution_count": 46,
   "metadata": {
    "nbgrader": {
     "grade": true,
     "grade_id": "cell-fedb8e14e128bce1",
     "locked": false,
     "points": 0,
     "schema_version": 3,
     "solution": true
    }
   },
   "outputs": [
    {
     "data": {
      "image/png": "[encoded data removed]",
      "text/plain": [
       "<Figure size 432x288 with 1 Axes>"
      ]
     },
     "metadata": {
      "needs_background": "light"
     },
     "output_type": "display_data"
    }
   ],
   "source": [
    "### BEGIN SOLUTION\n",
    "\n",
    "def res_tau_angle(res):\n",
    "    N_xyz = res.xyz(\"N\")\n",
    "    CA_xyz = res.xyz(\"CA\")\n",
    "    C_xyz = res.xyz(\"C\")\n",
    "\n",
    "    N_CA = N_xyz - CA_xyz\n",
    "    C_CA = C_xyz - CA_xyz\n",
    "    norm_N_CA = N_CA.length()\n",
    "    norm_C_CA = C_CA.length()\n",
    "    return math.acos((N_CA.dot(C_CA))/(norm_N_CA*norm_C_CA)) * 180 / math.pi\n",
    "\n",
    "tau_angles = [res_tau_angle(pose.residue(i)) for i in range(1,pose.total_residue()+1) if pose.residue(i).has(\"N\") and pose.residue(i).has(\"CA\") and pose.residue(i).has(\"C\") ]\n",
    "\n",
    "plt.hist(tau_angles)\n",
    "plt.show()\n",
    "\n",
    "### END SOLUTION"
   ]
  },
  {
   "cell_type": "markdown",
   "metadata": {},
   "source": [
    "3. Plot the Ramachandran plot for the protein to check that it makes sense. Are any phi/psi where they shouldn't be?"
   ]
  },
  {
   "cell_type": "code",
   "execution_count": 47,
   "metadata": {
    "nbgrader": {
     "grade": true,
     "grade_id": "cell-f8e2f40d1c803da9",
     "locked": false,
     "points": 0,
     "schema_version": 3,
     "solution": true
    }
   },
   "outputs": [
    {
     "data": {
      "text/plain": [
       "<matplotlib.collections.PathCollection at 0x151912990>"
      ]
     },
     "execution_count": 47,
     "metadata": {},
     "output_type": "execute_result"
    },
    {
     "data": {
      "image/png": "[encoded data removed]",
      "text/plain": [
       "<Figure size 432x288 with 1 Axes>"
      ]
     },
     "metadata": {
      "needs_background": "light"
     },
     "output_type": "display_data"
    }
   ],
   "source": [
    "### BEGIN SOLUTION\n",
    "\n",
    "phi = [pose.phi(i) for i in range(1,pose.total_residue() + 1) if pose.residue(i).is_protein()]\n",
    "psi = [pose.psi(i) for i in range(1,pose.total_residue() + 1) if pose.residue(i).is_protein()]\n",
    "plt.scatter(phi,psi)\n",
    "\n",
    "### END SOLUTION"
   ]
  },
  {
   "cell_type": "markdown",
   "metadata": {},
   "source": [
    "### Analyzing Amino Acid Patterns"
   ]
  },
  {
   "cell_type": "markdown",
   "metadata": {},
   "source": [
    "1. Using PyMOL, find all the polar amino acids in the protein. Do you see a pattern here?"
   ]
  },
  {
   "cell_type": "code",
   "execution_count": null,
   "metadata": {},
   "outputs": [],
   "source": []
  },
  {
   "cell_type": "markdown",
   "metadata": {},
   "source": [
    "2. For each side chain, find its closest side-chain neighbor in 3D space. Plot a histogram of these distances. Which amino acids have side chains that are the furthest from another side chain? Where are they located in the protein?\n",
    "\n",
    "Note: in `Residue`, each atom is either a backbone atom or it is a side-chain atom."
   ]
  },
  {
   "cell_type": "code",
   "execution_count": 48,
   "metadata": {
    "nbgrader": {
     "grade": true,
     "grade_id": "cell-b0b868b90775da11",
     "locked": false,
     "points": 0,
     "schema_version": 3,
     "solution": true
    }
   },
   "outputs": [
    {
     "name": "stdout",
     "output_type": "stream",
     "text": [
      "1\n",
      "2\n",
      "3\n",
      "4\n",
      "5\n",
      "6\n",
      "7\n",
      "8\n",
      "9\n",
      "10\n",
      "11\n",
      "12\n",
      "13\n",
      "14\n",
      "15\n",
      "16\n",
      "17\n",
      "18\n",
      "19\n",
      "20\n",
      "21\n",
      "22\n",
      "23\n",
      "24\n",
      "25\n",
      "26\n",
      "27\n",
      "28\n",
      "29\n",
      "30\n",
      "31\n",
      "32\n",
      "33\n",
      "34\n",
      "35\n",
      "36\n",
      "37\n",
      "38\n",
      "39\n",
      "40\n",
      "41\n",
      "42\n",
      "43\n",
      "44\n",
      "45\n",
      "46\n",
      "47\n",
      "48\n",
      "49\n",
      "50\n",
      "51\n",
      "52\n",
      "53\n",
      "54\n",
      "55\n",
      "56\n",
      "57\n",
      "58\n",
      "59\n",
      "60\n",
      "61\n",
      "62\n",
      "63\n",
      "64\n",
      "65\n",
      "66\n",
      "67\n",
      "68\n",
      "69\n",
      "70\n",
      "71\n",
      "72\n",
      "73\n",
      "74\n",
      "75\n",
      "76\n",
      "77\n",
      "78\n",
      "79\n",
      "80\n",
      "81\n",
      "82\n",
      "83\n",
      "84\n",
      "85\n",
      "86\n",
      "87\n",
      "88\n",
      "89\n",
      "90\n",
      "91\n",
      "92\n",
      "93\n",
      "94\n",
      "95\n",
      "96\n",
      "97\n",
      "98\n",
      "99\n",
      "100\n",
      "101\n",
      "102\n",
      "103\n",
      "104\n",
      "105\n",
      "106\n",
      "107\n",
      "108\n",
      "109\n",
      "110\n",
      "111\n",
      "112\n",
      "113\n",
      "114\n",
      "115\n",
      "116\n",
      "117\n",
      "118\n",
      "119\n",
      "120\n",
      "121\n",
      "122\n",
      "123\n",
      "124\n",
      "125\n",
      "126\n",
      "127\n",
      "128\n",
      "129\n",
      "130\n",
      "131\n",
      "132\n",
      "133\n",
      "134\n",
      "135\n",
      "136\n",
      "137\n",
      "138\n",
      "139\n",
      "140\n",
      "141\n",
      "142\n",
      "143\n",
      "144\n",
      "145\n",
      "146\n",
      "147\n",
      "148\n",
      "149\n",
      "150\n",
      "151\n",
      "152\n",
      "153\n",
      "154\n",
      "155\n",
      "156\n",
      "157\n",
      "158\n",
      "159\n",
      "160\n",
      "161\n",
      "162\n",
      "163\n",
      "164\n",
      "165\n",
      "166\n",
      "167\n",
      "168\n",
      "169\n",
      "170\n",
      "171\n",
      "172\n",
      "173\n",
      "174\n",
      "175\n",
      "176\n",
      "177\n",
      "178\n",
      "179\n",
      "180\n",
      "181\n",
      "182\n",
      "183\n",
      "184\n",
      "185\n",
      "186\n",
      "187\n",
      "188\n",
      "189\n",
      "190\n",
      "191\n",
      "192\n",
      "193\n",
      "194\n",
      "195\n",
      "196\n",
      "197\n",
      "198\n",
      "199\n",
      "200\n",
      "201\n",
      "202\n",
      "203\n",
      "204\n",
      "205\n",
      "206\n",
      "207\n",
      "208\n",
      "209\n",
      "210\n",
      "211\n",
      "212\n",
      "213\n",
      "214\n",
      "215\n",
      "216\n",
      "217\n",
      "218\n",
      "219\n",
      "220\n",
      "221\n",
      "222\n",
      "223\n",
      "224\n",
      "225\n",
      "226\n",
      "227\n",
      "228\n",
      "229\n",
      "230\n",
      "231\n",
      "232\n",
      "233\n",
      "234\n",
      "235\n",
      "236\n",
      "237\n",
      "238\n",
      "239\n",
      "240\n",
      "241\n",
      "242\n",
      "243\n",
      "244\n",
      "245\n",
      "246\n",
      "247\n",
      "248\n",
      "249\n",
      "250\n",
      "251\n",
      "252\n",
      "253\n",
      "254\n",
      "255\n",
      "256\n",
      "257\n",
      "258\n",
      "259\n",
      "260\n",
      "261\n",
      "262\n",
      "263\n",
      "264\n",
      "265\n",
      "266\n",
      "267\n",
      "268\n",
      "269\n",
      "270\n",
      "271\n",
      "272\n",
      "273\n",
      "274\n",
      "275\n",
      "276\n",
      "277\n",
      "278\n",
      "279\n",
      "280\n",
      "281\n",
      "282\n",
      "283\n",
      "284\n",
      "285\n",
      "286\n",
      "287\n",
      "288\n",
      "289\n",
      "290\n",
      "291\n",
      "292\n",
      "293\n",
      "294\n",
      "295\n",
      "296\n",
      "297\n",
      "298\n",
      "299\n",
      "300\n",
      "301\n",
      "302\n",
      "303\n",
      "304\n",
      "305\n",
      "306\n",
      "307\n",
      "308\n",
      "309\n",
      "310\n",
      "311\n",
      "312\n",
      "313\n",
      "314\n",
      "315\n",
      "316\n",
      "317\n",
      "318\n",
      "319\n",
      "320\n",
      "321\n",
      "322\n",
      "323\n",
      "324\n",
      "325\n",
      "326\n",
      "327\n",
      "328\n",
      "329\n",
      "330\n",
      "331\n",
      "332\n",
      "333\n",
      "334\n",
      "335\n",
      "336\n",
      "337\n",
      "338\n",
      "339\n",
      "340\n",
      "341\n",
      "342\n",
      "343\n",
      "344\n",
      "345\n",
      "346\n",
      "347\n",
      "348\n",
      "349\n",
      "350\n",
      "351\n",
      "352\n",
      "353\n",
      "354\n",
      "355\n",
      "356\n",
      "357\n",
      "358\n",
      "359\n",
      "360\n",
      "361\n",
      "362\n",
      "363\n",
      "364\n",
      "365\n",
      "366\n",
      "367\n",
      "368\n",
      "369\n",
      "370\n",
      "371\n",
      "372\n",
      "373\n",
      "374\n",
      "375\n",
      "376\n",
      "377\n",
      "378\n",
      "379\n",
      "380\n",
      "381\n",
      "382\n",
      "383\n",
      "384\n",
      "385\n",
      "386\n",
      "387\n",
      "388\n",
      "389\n",
      "390\n",
      "391\n",
      "392\n",
      "393\n",
      "394\n",
      "395\n",
      "396\n",
      "397\n",
      "398\n",
      "399\n",
      "400\n",
      "401\n",
      "402\n",
      "403\n",
      "404\n",
      "405\n",
      "406\n",
      "407\n",
      "408\n",
      "409\n",
      "410\n",
      "411\n",
      "412\n",
      "413\n",
      "414\n",
      "415\n",
      "416\n",
      "417\n",
      "418\n",
      "419\n",
      "420\n",
      "421\n",
      "422\n",
      "423\n",
      "424\n",
      "425\n",
      "426\n",
      "427\n",
      "428\n",
      "429\n",
      "430\n",
      "431\n",
      "432\n",
      "433\n",
      "434\n",
      "435\n",
      "436\n",
      "437\n",
      "438\n",
      "439\n",
      "440\n",
      "441\n",
      "442\n",
      "443\n",
      "444\n",
      "445\n",
      "446\n",
      "447\n",
      "448\n",
      "449\n",
      "450\n",
      "451\n",
      "452\n",
      "453\n",
      "454\n",
      "455\n",
      "456\n",
      "457\n",
      "458\n",
      "459\n",
      "460\n",
      "461\n",
      "462\n",
      "463\n",
      "464\n",
      "465\n",
      "466\n",
      "467\n",
      "468\n",
      "469\n",
      "470\n",
      "471\n",
      "472\n",
      "473\n",
      "474\n",
      "475\n",
      "476\n",
      "477\n",
      "478\n",
      "479\n",
      "480\n",
      "481\n",
      "482\n",
      "483\n",
      "484\n",
      "485\n",
      "486\n",
      "487\n",
      "488\n",
      "489\n",
      "490\n",
      "491\n",
      "492\n",
      "493\n",
      "494\n",
      "495\n",
      "496\n",
      "497\n",
      "498\n",
      "499\n",
      "500\n",
      "501\n",
      "502\n",
      "503\n",
      "504\n",
      "505\n",
      "506\n",
      "507\n",
      "508\n",
      "509\n",
      "510\n",
      "511\n",
      "512\n",
      "513\n",
      "514\n",
      "515\n",
      "516\n",
      "517\n",
      "518\n",
      "519\n",
      "520\n",
      "521\n",
      "522\n",
      "523\n",
      "524\n"
     ]
    },
    {
     "data": {
      "image/png": "[encoded data removed]",
      "text/plain": [
       "<Figure size 432x288 with 1 Axes>"
      ]
     },
     "metadata": {
      "needs_background": "light"
     },
     "output_type": "display_data"
    }
   ],
   "source": [
    "### BEGIN SOLUTION\n",
    "\n",
    "nearest_dist2 = []\n",
    "for i in range(1,pose.total_residue()+1):\n",
    "    #print(i)\n",
    "    ires = pose.residue(i)\n",
    "    if not ires.is_protein():\n",
    "        continue\n",
    "    idist2_min = -1\n",
    "    for j in range(1,pose.total_residue()+1):\n",
    "        if i == j:\n",
    "            continue\n",
    "        jres = pose.residue(j)\n",
    "        if not jres.is_protein():\n",
    "            continue\n",
    "        for k in range(1,ires.natoms()+1):\n",
    "            if ires.atom_is_backbone(k):\n",
    "                continue\n",
    "            for l in range(1,jres.natoms()+1):\n",
    "                if jres.atom_is_backbone(l):\n",
    "                    continue\n",
    "                d2 = ires.xyz(k).distance_squared(jres.xyz(l))\n",
    "                if idist2_min < 0 or idist2_min > d2:\n",
    "                    idist2_min = d2\n",
    "    #print(\"i dists\", i, [math.sqrt(d2) for d2 in idists2])\n",
    "    #if len(idists2) == 0:\n",
    "    #    continue\n",
    "    if idist2_min < 0:\n",
    "        continue\n",
    "    nearest_dist2.append((i, ires.name(), idist2_min))\n",
    "nearest_dists = [math.sqrt(d2) for i, _, d2 in nearest_dist2]\n",
    "plt.hist(nearest_dists)\n",
    "plt.show()\n",
    "\n",
    "### END SOLUTION"
   ]
  },
  {
   "cell_type": "code",
   "execution_count": 49,
   "metadata": {
    "nbgrader": {
     "grade": true,
     "grade_id": "cell-8378961153435df5",
     "locked": false,
     "points": 0,
     "schema_version": 3,
     "solution": true
    }
   },
   "outputs": [
    {
     "name": "stdout",
     "output_type": "stream",
     "text": [
      "[]\n"
     ]
    }
   ],
   "source": [
    "### BEGIN SOLUTION\n",
    "print([pose.pdb_info().pose2pdb(i) for i,_,d2 in nearest_dist2 if d2 > 30*30])\n",
    "### END SOLUTION"
   ]
  },
  {
   "cell_type": "code",
   "execution_count": 50,
   "metadata": {
    "nbgrader": {
     "grade": true,
     "grade_id": "cell-632f87a108fc53d6",
     "locked": false,
     "points": 0,
     "schema_version": 3,
     "solution": true
    }
   },
   "outputs": [
    {
     "name": "stdout",
     "output_type": "stream",
     "text": [
      "AA: ASN:NtermProteinFull\n"
     ]
    },
    {
     "data": {
      "image/png": "[encoded data removed]",
      "text/plain": [
       "<Figure size 432x288 with 1 Axes>"
      ]
     },
     "metadata": {
      "needs_background": "light"
     },
     "output_type": "display_data"
    },
    {
     "name": "stdout",
     "output_type": "stream",
     "text": [
      "AA: ALA\n"
     ]
    },
    {
     "data": {
      "image/png": "[encoded data removed]",
      "text/plain": [
       "<Figure size 432x288 with 1 Axes>"
      ]
     },
     "metadata": {
      "needs_background": "light"
     },
     "output_type": "display_data"
    },
    {
     "name": "stdout",
     "output_type": "stream",
     "text": [
      "AA: VAL\n"
     ]
    },
    {
     "data": {
      "image/png": "[encoded data removed]",
      "text/plain": [
       "<Figure size 432x288 with 1 Axes>"
      ]
     },
     "metadata": {
      "needs_background": "light"
     },
     "output_type": "display_data"
    },
    {
     "name": "stdout",
     "output_type": "stream",
     "text": [
      "AA: PRO\n"
     ]
    },
    {
     "data": {
      "image/png": "[encoded data removed]",
      "text/plain": [
       "<Figure size 432x288 with 1 Axes>"
      ]
     },
     "metadata": {
      "needs_background": "light"
     },
     "output_type": "display_data"
    },
    {
     "name": "stdout",
     "output_type": "stream",
     "text": [
      "AA: ARG\n"
     ]
    },
    {
     "data": {
      "image/png": "[encoded data removed]",
      "text/plain": [
       "<Figure size 432x288 with 1 Axes>"
      ]
     },
     "metadata": {
      "needs_background": "light"
     },
     "output_type": "display_data"
    },
    {
     "name": "stdout",
     "output_type": "stream",
     "text": [
      "AA: LYS\n"
     ]
    },
    {
     "data": {
      "image/png": "[encoded data removed]",
      "text/plain": [
       "<Figure size 432x288 with 1 Axes>"
      ]
     },
     "metadata": {
      "needs_background": "light"
     },
     "output_type": "display_data"
    },
    {
     "name": "stdout",
     "output_type": "stream",
     "text": [
      "AA: LEU\n"
     ]
    },
    {
     "data": {
      "image/png": "[encoded data removed]",
      "text/plain": [
       "<Figure size 432x288 with 1 Axes>"
      ]
     },
     "metadata": {
      "needs_background": "light"
     },
     "output_type": "display_data"
    },
    {
     "name": "stdout",
     "output_type": "stream",
     "text": [
      "AA: ASP\n"
     ]
    },
    {
     "data": {
      "image/png": "[encoded data removed]",
      "text/plain": [
       "<Figure size 432x288 with 1 Axes>"
      ]
     },
     "metadata": {
      "needs_background": "light"
     },
     "output_type": "display_data"
    },
    {
     "name": "stdout",
     "output_type": "stream",
     "text": [
      "AA: GLN\n"
     ]
    },
    {
     "data": {
      "image/png": "[encoded data removed]",
      "text/plain": [
       "<Figure size 432x288 with 1 Axes>"
      ]
     },
     "metadata": {
      "needs_background": "light"
     },
     "output_type": "display_data"
    },
    {
     "name": "stdout",
     "output_type": "stream",
     "text": [
      "AA: MET\n"
     ]
    },
    {
     "data": {
      "image/png": "[encoded data removed]",
      "text/plain": [
       "<Figure size 432x288 with 1 Axes>"
      ]
     },
     "metadata": {
      "needs_background": "light"
     },
     "output_type": "display_data"
    },
    {
     "name": "stdout",
     "output_type": "stream",
     "text": [
      "AA: TRP\n"
     ]
    },
    {
     "data": {
      "image/png": "[encoded data removed]",
      "text/plain": [
       "<Figure size 432x288 with 1 Axes>"
      ]
     },
     "metadata": {
      "needs_background": "light"
     },
     "output_type": "display_data"
    },
    {
     "name": "stdout",
     "output_type": "stream",
     "text": [
      "AA: TYR\n"
     ]
    },
    {
     "data": {
      "image/png": "[encoded data removed]",
      "text/plain": [
       "<Figure size 432x288 with 1 Axes>"
      ]
     },
     "metadata": {
      "needs_background": "light"
     },
     "output_type": "display_data"
    },
    {
     "name": "stdout",
     "output_type": "stream",
     "text": [
      "AA: SER\n"
     ]
    },
    {
     "data": {
      "image/png": "[encoded data removed]",
      "text/plain": [
       "<Figure size 432x288 with 1 Axes>"
      ]
     },
     "metadata": {
      "needs_background": "light"
     },
     "output_type": "display_data"
    },
    {
     "name": "stdout",
     "output_type": "stream",
     "text": [
      "AA: GLU\n"
     ]
    },
    {
     "data": {
      "image/png": "[encoded data removed]",
      "text/plain": [
       "<Figure size 432x288 with 1 Axes>"
      ]
     },
     "metadata": {
      "needs_background": "light"
     },
     "output_type": "display_data"
    },
    {
     "name": "stdout",
     "output_type": "stream",
     "text": [
      "AA: PHE\n"
     ]
    },
    {
     "data": {
      "image/png": "[encoded data removed]",
      "text/plain": [
       "<Figure size 432x288 with 1 Axes>"
      ]
     },
     "metadata": {
      "needs_background": "light"
     },
     "output_type": "display_data"
    },
    {
     "name": "stdout",
     "output_type": "stream",
     "text": [
      "AA: ASN\n"
     ]
    },
    {
     "data": {
      "image/png": "[encoded data removed]",
      "text/plain": [
       "<Figure size 432x288 with 1 Axes>"
      ]
     },
     "metadata": {
      "needs_background": "light"
     },
     "output_type": "display_data"
    },
    {
     "name": "stdout",
     "output_type": "stream",
     "text": [
      "AA: THR\n"
     ]
    },
    {
     "data": {
      "image/png": "[encoded data removed]",
      "text/plain": [
       "<Figure size 432x288 with 1 Axes>"
      ]
     },
     "metadata": {
      "needs_background": "light"
     },
     "output_type": "display_data"
    },
    {
     "name": "stdout",
     "output_type": "stream",
     "text": [
      "AA: HIS\n"
     ]
    },
    {
     "data": {
      "image/png": "[encoded data removed]",
      "text/plain": [
       "<Figure size 432x288 with 1 Axes>"
      ]
     },
     "metadata": {
      "needs_background": "light"
     },
     "output_type": "display_data"
    },
    {
     "name": "stdout",
     "output_type": "stream",
     "text": [
      "AA: ILE\n"
     ]
    },
    {
     "data": {
      "image/png": "[encoded data removed]",
      "text/plain": [
       "<Figure size 432x288 with 1 Axes>"
      ]
     },
     "metadata": {
      "needs_background": "light"
     },
     "output_type": "display_data"
    },
    {
     "name": "stdout",
     "output_type": "stream",
     "text": [
      "AA: THR:phosphorylated\n"
     ]
    },
    {
     "data": {
      "image/png": "[encoded data removed]",
      "text/plain": [
       "<Figure size 432x288 with 1 Axes>"
      ]
     },
     "metadata": {
      "needs_background": "light"
     },
     "output_type": "display_data"
    },
    {
     "name": "stdout",
     "output_type": "stream",
     "text": [
      "AA: CYS\n"
     ]
    },
    {
     "data": {
      "image/png": "[encoded data removed]",
      "text/plain": [
       "<Figure size 432x288 with 1 Axes>"
      ]
     },
     "metadata": {
      "needs_background": "light"
     },
     "output_type": "display_data"
    }
   ],
   "source": [
    "### BEGIN SOLUTION\n",
    "from collections import defaultdict\n",
    "\n",
    "near_by_aa = defaultdict(list)\n",
    "for i, t, d2 in nearest_dist2:\n",
    "    near_by_aa[t].append(math.sqrt(d2))\n",
    "\n",
    "for t, dists in near_by_aa.items():\n",
    "    print(\"AA:\", t)\n",
    "    plt.hist(dists)\n",
    "    plt.gca().set_xlim(0,5)\n",
    "    plt.show()\n",
    "    \n",
    "### END SOLUTION"
   ]
  },
  {
   "cell_type": "code",
   "execution_count": null,
   "metadata": {},
   "outputs": [],
   "source": []
  },
  {
   "cell_type": "markdown",
   "metadata": {},
   "source": [
    "## Manipulating Protein Geometry"
   ]
  },
  {
   "cell_type": "markdown",
   "metadata": {},
   "source": [
    "We can also easily alter protein geometry using the Pose object. First, let's make a copy of the Pose object we loaded in initially so that we don't mess it up."
   ]
  },
  {
   "cell_type": "code",
   "execution_count": 51,
   "metadata": {},
   "outputs": [
    {
     "data": {
      "text/plain": [
       "<pyrosetta.rosetta.core.pose.Pose at 0x1537c2c30>"
      ]
     },
     "execution_count": 51,
     "metadata": {},
     "output_type": "execute_result"
    }
   ],
   "source": [
    "pose_change = Pose()\n",
    "pose_change.assign(pose)\n",
    "# pose.clone() or new_pose = Pose(pose) also work"
   ]
  },
  {
   "cell_type": "markdown",
   "metadata": {},
   "source": [
    "Let's check that it looks the same."
   ]
  },
  {
   "cell_type": "code",
   "execution_count": 52,
   "metadata": {},
   "outputs": [
    {
     "data": {
      "text/plain": [
       "'NAVPRPKLVVGLVVDQMRWDYLYRYYSKYGEGGFKRMLNTGYSLNNVHIDYVPTVTAIGHTSIFTGSVPSIHGIAGNDWYDKELGKSVYCTSDETVQPVGTTSNSVGQHSPRNLWSTTVTDQLGLATNFTSKVVGVSLKDRASILPAGHNPTGAFWFDDTTGKFITSTYYTKELPKWVNDFNNKNVPAQLVANGWNTLLPINQYTESSEDNVEWEGLLGSKKTPTFPYTDLAKDYEAKKGLIRTTPFGNTLTLQMADAAIDGNQMGVDDITDFLTVNLASTDYVGHNFGPNSIEVEDTYLRLDRDLADFFNNLDKKVGKGNYLVFLSADHGAAHSVGFMQAHKMPTGFFDMKKEMNAKLKQKFGADNIIAAAMNYQVYFDRKVLADSKLELDDVRDYVMTELKKEPSVLYVLSTDEIWESSIPEPIKSRVINGYNWKRSGDIQIISKDGYLSAYSKKGTTHSVWNSYDSHIPLLFMGWGIKQGESNQPYHMTDIAPTVSSLLKIQFPSGAVGKPITEVIGZZZZ'"
      ]
     },
     "execution_count": 52,
     "metadata": {},
     "output_type": "execute_result"
    }
   ],
   "source": [
    "pose_change.sequence()"
   ]
  },
  {
   "cell_type": "markdown",
   "metadata": {},
   "source": [
    "**Note**: It would not be correct above to just write `pose_change = pose`. That would make a new pointer to the same instance of `Pose`, and changing `pose_change` would also change `pose`. Variables in Python are all pointers except for \"primatives\": ints, floats, etc. `Pose::assign` is a function you will use a lot this week."
   ]
  },
  {
   "cell_type": "code",
   "execution_count": 53,
   "metadata": {},
   "outputs": [],
   "source": [
    "resid = pose_change.pdb_info().pdb2pose('A', 28)\n",
    "res_28 = pose_change.residue(resid)\n",
    "N28 = AtomID(res_28.atom_index(\"N\"), resid)\n",
    "CA28 = AtomID(res_28.atom_index(\"CA\"), resid)\n",
    "C28 = AtomID(res_28.atom_index(\"C\"), resid)"
   ]
  },
  {
   "cell_type": "code",
   "execution_count": 54,
   "metadata": {},
   "outputs": [
    {
     "name": "stdout",
     "output_type": "stream",
     "text": [
      "1.456100614655453\n"
     ]
    }
   ],
   "source": [
    "print(pose_change.conformation().bond_length(N28, CA28))"
   ]
  },
  {
   "cell_type": "code",
   "execution_count": 55,
   "metadata": {},
   "outputs": [],
   "source": [
    "pose_change.conformation().set_bond_length(N28, CA28, 1.5)"
   ]
  },
  {
   "cell_type": "code",
   "execution_count": 56,
   "metadata": {},
   "outputs": [
    {
     "name": "stdout",
     "output_type": "stream",
     "text": [
      "1.5\n"
     ]
    }
   ],
   "source": [
    "print(pose_change.conformation().bond_length(N28, CA28))"
   ]
  },
  {
   "cell_type": "markdown",
   "metadata": {},
   "source": [
    "Again not all arbitrary bond lengths, angles, and torsions are available in the `Conformation` object. You can also set xyz coordinates for pose residues directly. \n",
    "\n",
    "Changing torsion angles for residues is also easy:"
   ]
  },
  {
   "cell_type": "code",
   "execution_count": 57,
   "metadata": {},
   "outputs": [],
   "source": [
    "pose_change.set_phi(resid, -60)\n",
    "pose_change.set_psi(resid, -43)"
   ]
  },
  {
   "cell_type": "markdown",
   "metadata": {},
   "source": [
    "To understand what these changes are doing, we are going to briefly look at the **fold tree** for PafA."
   ]
  },
  {
   "cell_type": "code",
   "execution_count": 58,
   "metadata": {
    "scrolled": true
   },
   "outputs": [
    {
     "name": "stdout",
     "output_type": "stream",
     "text": [
      "FOLD_TREE  EDGE 1 520 -1  EDGE 1 521 1  EDGE 1 522 2  EDGE 1 523 3  EDGE 1 524 4 \n"
     ]
    }
   ],
   "source": [
    "print(pose_change.fold_tree())\n",
    "fold_tree = pose_change.fold_tree()"
   ]
  },
  {
   "cell_type": "markdown",
   "metadata": {},
   "source": [
    "This looks a bit cryptic. The -1 edges indicate continuous stretches of bonded residues, and the numbered edges (here 1, 2, 3, 4) indicate non-bonded jumps from one residue to another. In this case, what are identities of residues 521, 522, 523, and 524? Why are these jump residues?"
   ]
  },
  {
   "cell_type": "code",
   "execution_count": 59,
   "metadata": {},
   "outputs": [
    {
     "name": "stdout",
     "output_type": "stream",
     "text": [
      "res 521 ZN\n",
      "res 522 ZN\n",
      "res 523 ZN\n",
      "res 524 ZN\n"
     ]
    }
   ],
   "source": [
    "for i in (521, 522, 523, 524):\n",
    "    print(\"res\", i, pose_change.residue(i).name())\n",
    "    "
   ]
  },
  {
   "cell_type": "markdown",
   "metadata": {},
   "source": [
    "We can see that the whole protein is in a single chain from residue 1 to 520. The fold tree controls how changes to residue geometry propagate through the protein (left to right in the fold tree chain.) Based on the fold tree setup above, if you changed a torsion angle for residue 5, would the Cartesian coordinaes for residue 7 change? What about the coordinates for residue 3?"
   ]
  },
  {
   "cell_type": "markdown",
   "metadata": {},
   "source": [
    "Lets test it out."
   ]
  },
  {
   "cell_type": "code",
   "execution_count": 60,
   "metadata": {
    "scrolled": true
   },
   "outputs": [
    {
     "name": "stdout",
     "output_type": "stream",
     "text": [
      "      20.27700000000000      -19.64300000000000       53.38600000000000\n",
      "      11.14907956191098      -17.85994267886465       52.86201473975477\n"
     ]
    }
   ],
   "source": [
    "print(pose_change.residue(3).xyz(\"CA\"))\n",
    "print(pose_change.residue(7).xyz(\"CA\"))"
   ]
  },
  {
   "cell_type": "code",
   "execution_count": 61,
   "metadata": {},
   "outputs": [],
   "source": [
    "pose_change.set_phi(resid, -30)"
   ]
  },
  {
   "cell_type": "code",
   "execution_count": 62,
   "metadata": {},
   "outputs": [
    {
     "name": "stdout",
     "output_type": "stream",
     "text": [
      "      20.27700000000000      -19.64300000000000       53.38600000000000\n",
      "      13.61648406895901      -17.09989314303723       50.68110766078932\n"
     ]
    }
   ],
   "source": [
    "print(pose_change.residue(3).xyz(\"CA\"))\n",
    "print(pose_change.residue(7).xyz(\"CA\"))"
   ]
  },
  {
   "cell_type": "markdown",
   "metadata": {},
   "source": [
    "In a later lecture, we will learn more about the FoldTree and we will see how and why you might change a FoldTree."
   ]
  },
  {
   "cell_type": "markdown",
   "metadata": {},
   "source": [
    "## PyMOL Mover"
   ]
  },
  {
   "cell_type": "markdown",
   "metadata": {},
   "source": [
    "For the next step, you're going to need to locate the PyMOLRosettaServer.py file in your pyrosetta installation. It probably lives here:\n",
    "\n",
    "`/Users/andrew/anaconda3/envs/pyrosetta_env/lib/python3.7/site-packages/pyrosetta/PyMOLRosettaServer.py`\n",
    "\n",
    "except that instead of `/Users/andrew` it will be wherever your home directory is.\n",
    "\n",
    "\n",
    "(Or download the `PyMOLPyRosettaServer.py` script from the google drive to some reasonable location on your computer, *e.g.* `/Users/andrew/rosetta/pymol_setup/`).\n",
    "\n",
    "Add the following line to the file `.pymolrc` in your home directory (or create it if it doesn't exist yet): \n",
    "\n",
    "`run /Users/andrew/anaconda3/envs/pyrosetta_env/lib/python3.7/site-packages/pyrosetta/PyMOLRosettaServer.py`\n",
    "\n",
    "except with the `/Users/andrew` part replaced with your home directory\n",
    "\n",
    "(or with the directory wherever you stored that file if you downloaded it from the google drive)\n",
    "\n",
    "\n",
    "\n",
    "To check that these commands are run by PyMOL, open up PyMOL and check for a message like `PyMOL <--> PyRosetta link started!` in the dialog box. PyMOL is now listening for updates from PyRosetta on port 127.0.0.1 by default."
   ]
  },
  {
   "cell_type": "markdown",
   "metadata": {},
   "source": [
    "The `PyMOLMover` class will let us send information from PyRosetta to PyMOL for quick visualization. First we're going to make an instance of PyMOLMover."
   ]
  },
  {
   "cell_type": "code",
   "execution_count": 73,
   "metadata": {},
   "outputs": [],
   "source": [
    "from pyrosetta import PyMOLMover\n",
    "pmm = PyMOLMover()"
   ]
  },
  {
   "cell_type": "markdown",
   "metadata": {},
   "source": [
    "To view the pose, you can use the apply method on your pose."
   ]
  },
  {
   "cell_type": "code",
   "execution_count": 74,
   "metadata": {},
   "outputs": [],
   "source": [
    "pmm.apply(pose)"
   ]
  },
  {
   "cell_type": "markdown",
   "metadata": {},
   "source": [
    "The PyMOLMover has useful helper functions. For example, you can visualize all the hydrogen bonds in your protein with the following:"
   ]
  },
  {
   "cell_type": "code",
   "execution_count": 75,
   "metadata": {},
   "outputs": [],
   "source": [
    "pmm.send_hbonds(pose)"
   ]
  },
  {
   "cell_type": "markdown",
   "metadata": {},
   "source": [
    "Just deselect the hydrogen bonds in PyMOL if you want to hide them temporarily. You can also color the pose based on energies of each residue **after** scoring the pose."
   ]
  },
  {
   "cell_type": "code",
   "execution_count": 76,
   "metadata": {},
   "outputs": [
    {
     "name": "stdout",
     "output_type": "stream",
     "text": [
      "\u001b[0mcore.scoring.ScoreFunctionFactory: {0} \u001b[0mSCOREFUNCTION: \u001b[32mref2015\u001b[0m\n"
     ]
    },
    {
     "data": {
      "text/plain": [
       "-538.7690318782074"
      ]
     },
     "execution_count": 76,
     "metadata": {},
     "output_type": "execute_result"
    }
   ],
   "source": [
    "sf = get_fa_scorefxn()\n",
    "sf(pose)"
   ]
  },
  {
   "cell_type": "code",
   "execution_count": 77,
   "metadata": {},
   "outputs": [],
   "source": [
    "pmm.send_energy(pose)"
   ]
  },
  {
   "cell_type": "markdown",
   "metadata": {},
   "source": [
    "The structure colored from blue (low / favorable energy) to red (high / unfavorable energy). You can also color based on a specific energy term, for instsance the solvation energy below."
   ]
  },
  {
   "cell_type": "code",
   "execution_count": 78,
   "metadata": {},
   "outputs": [],
   "source": [
    "pmm.send_energy(pose, \"fa_sol\")"
   ]
  },
  {
   "cell_type": "markdown",
   "metadata": {},
   "source": [
    "Which buried residues have high solvation energies?\n",
    "\n",
    "Instead of calling `send_energy` every time, if you activate `update_energy`, the coloring will be updated every time you call the PyMOLMover's `apply` method."
   ]
  },
  {
   "cell_type": "code",
   "execution_count": 79,
   "metadata": {
    "scrolled": true
   },
   "outputs": [],
   "source": [
    "pmm.update_energy(True) \n",
    "pmm.apply(pose)"
   ]
  },
  {
   "cell_type": "markdown",
   "metadata": {},
   "source": [
    "The method `keep_history`, if set to True, allows you to load in structures with the same name into states of the same object in PyMOL. This is the starting point for creating a PyMOL movie of your structure, and allows you to loop through structures in different geometries efficiently."
   ]
  },
  {
   "cell_type": "code",
   "execution_count": 80,
   "metadata": {},
   "outputs": [],
   "source": [
    "pmm.keep_history(True) \n",
    "pmm.apply(pose_change)\n",
    "pose_change.set_phi(5, -90)\n",
    "pmm.apply(pose_change)"
   ]
  },
  {
   "cell_type": "markdown",
   "metadata": {},
   "source": [
    "## Exercises"
   ]
  },
  {
   "cell_type": "markdown",
   "metadata": {},
   "source": [
    "1. View PafA using the PyMOL mover apply function. Color the structure by VDW score (use fa_rep as your score term). Set the torsion angle of residue 28 to make some clashes. View the structure colored by VDW score again."
   ]
  },
  {
   "cell_type": "code",
   "execution_count": 81,
   "metadata": {
    "nbgrader": {
     "grade": true,
     "grade_id": "cell-e82bd80c5b5c5a6f",
     "locked": false,
     "points": 0,
     "schema_version": 3,
     "solution": true
    }
   },
   "outputs": [
    {
     "name": "stdout",
     "output_type": "stream",
     "text": [
      "phi 28 -104.80654298373821\n"
     ]
    }
   ],
   "source": [
    "### BEGIN SOLUTION\n",
    "\n",
    "pmm.send_energy(pose, \"fa_rep\")\n",
    "pmm.keep_history(False)\n",
    "pose_change.assign(pose)\n",
    "print(\"phi 28\", pose_change.phi(28))\n",
    "pose_change.set_phi(28, 180)\n",
    "pmm.apply(pose_change)\n",
    "\n",
    "### END SOLUTION"
   ]
  },
  {
   "cell_type": "markdown",
   "metadata": {},
   "source": [
    "2. Make an ideal helix consisting of 12 A residues by setting torsion angles. View the structure in PyMOL using the PyMOL mover. Bonus: Make a PyMOL movie that shows the Pose shifting from its starting configuration to its final ideal helix step by step, with one residue changing its torsion angles at a time."
   ]
  },
  {
   "cell_type": "code",
   "execution_count": 82,
   "metadata": {
    "nbgrader": {
     "grade": true,
     "grade_id": "cell-2d9d645833f9ab6a",
     "locked": false,
     "points": 0,
     "schema_version": 3,
     "solution": true
    }
   },
   "outputs": [],
   "source": [
    "### BEGIN SOLUTION\n",
    "\n",
    "helix = pose_from_sequence(\"A\"*12)\n",
    "pmm.apply(helix)\n",
    "pmm.keep_history(True)\n",
    "for i in range(1,helix.total_residue()+1):\n",
    "    helix.set_phi(i,-64)\n",
    "    helix.set_psi(i,-41)\n",
    "    pmm.apply(helix)\n",
    "\n",
    "### END SOLUTION"
   ]
  },
  {
   "cell_type": "markdown",
   "metadata": {},
   "source": [
    "## References\n",
    "This notebook includes some concepts and exercises from:\n",
    "\n",
    "\"Workshop #2: PyRosetta\" in the PyRosetta workbook: https://graylab.jhu.edu/pyrosetta/downloads/documentation/pyrosetta4_online_format/PyRosetta4_Workshop2_PyRosetta.pdf\n",
    "\n",
    "\"Workshop #4.1: PyMOL_Mover\" in the PyRosetta workbook: \n",
    "http://www.pyrosetta.org/pymol_mover-tutorial"
   ]
  }
 ],
 "metadata": {
  "celltoolbar": "Create Assignment",
  "kernelspec": {
   "display_name": "Python 3",
   "language": "python",
   "name": "python3"
  },
  "language_info": {
   "codemirror_mode": {
    "name": "ipython",
    "version": 3
   },
   "file_extension": ".py",
   "mimetype": "text/x-python",
   "name": "python",
   "nbconvert_exporter": "python",
   "pygments_lexer": "ipython3",
   "version": "3.7.7"
  }
 },
 "nbformat": 4,
 "nbformat_minor": 2
}
