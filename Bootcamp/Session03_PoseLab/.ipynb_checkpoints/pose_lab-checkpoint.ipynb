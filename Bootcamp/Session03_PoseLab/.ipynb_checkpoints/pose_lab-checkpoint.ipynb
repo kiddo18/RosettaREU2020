{
 "cells": [
  {
   "cell_type": "markdown",
   "metadata": {},
   "source": [
    "# Pose Lab"
   ]
  },
  {
   "cell_type": "markdown",
   "metadata": {},
   "source": [
    "In this lab, we will get practice working with the `Pose` class in PyRosetta. We will load in a protein from a PDB files, use the `Pose` class to learn about the geometry of the protein, make changes to this geometry, and visualize the changes easily with `PyMOL` and PyRosetta's `PyMOLMover`. \n",
    "\n",
    "On the attached cheatsheet you will find various useful commands to interrogate poses; these may come in handy for the exercises.\n",
    "\n",
    "**PyRosetta Installation:**\n",
    "The following two lines will load in the PyRosetta library and load in database files. If this does not work, you may have to revisit your PyRosetta installation."
   ]
  },
  {
   "cell_type": "code",
   "execution_count": 1,
   "metadata": {},
   "outputs": [
    {
     "name": "stdout",
     "output_type": "stream",
     "text": [
      "PyRosetta-4 2020 [Rosetta PyRosetta4.conda.mac.python37.Release 2020.02+release.22ef835b4a2647af94fcd6421a85720f07eddf12 2020-01-05T17:31:56] retrieved from: http://www.pyrosetta.org\n",
      "(C) Copyright Rosetta Commons Member Institutions. Created in JHU by Sergey Lyskov and PyRosetta Team.\n",
      "\u001b[0mcore.init: {0} \u001b[0mChecking for fconfig files in pwd and ./rosetta/flags\n",
      "\u001b[0mcore.init: {0} \u001b[0mRosetta version: PyRosetta4.conda.mac.python37.Release r242 2020.02+release.22ef835b4a2 22ef835b4a2647af94fcd6421a85720f07eddf12 http://www.pyrosetta.org 2020-01-05T17:31:56\n",
      "\u001b[0mcore.init: {0} \u001b[0mcommand: PyRosetta -ex1 -ex2aro -database /Users/paul/anaconda3/envs/pyrosetta_env/lib/python3.7/site-packages/pyrosetta/database\n",
      "\u001b[0mbasic.random.init_random_generator: {0} \u001b[0m'RNG device' seed mode, using '/dev/urandom', seed=796361877 seed_offset=0 real_seed=796361877 thread_index=0\n",
      "\u001b[0mbasic.random.init_random_generator: {0} \u001b[0mRandomGenerator:init: Normal mode, seed=796361877 RG_type=mt19937\n"
     ]
    }
   ],
   "source": [
    "from pyrosetta import *\n",
    "init()"
   ]
  },
  {
   "cell_type": "markdown",
   "metadata": {},
   "source": [
    "## Loading in a PDB File ##"
   ]
  },
  {
   "cell_type": "markdown",
   "metadata": {},
   "source": [
    "We will spend some time today looking at the crystal structure for the protein **PafA** (PDB ID: 5tj3) using Pyrosetta and PyMOL. PafA is an alkaline phosphatase, which removes a phosphate group from a phosphate monoester. In this structure, a modified amino acid, phosphothreonine, is used to mimic the substrate in the active site. Let's load in this structure with PyRosetta:"
   ]
  },
  {
   "cell_type": "code",
   "execution_count": 2,
   "metadata": {},
   "outputs": [
    {
     "name": "stdout",
     "output_type": "stream",
     "text": [
      "\u001b[0mcore.chemical.GlobalResidueTypeSet: {0} \u001b[0mFinished initializing fa_standard residue type set.  Created 980 residue types\n",
      "\u001b[0mcore.chemical.GlobalResidueTypeSet: {0} \u001b[0mTotal time to initialize 1.50146 seconds.\n",
      "\u001b[0mcore.import_pose.import_pose: {0} \u001b[0mFile '5tj3.pdb' automatically determined to be of type PDB\n",
      "\u001b[0mcore.conformation.Conformation: {0} \u001b[0m\u001b[1m[ WARNING ]\u001b[0m missing heavyatom:  CG  on residue LYS 233\n",
      "\u001b[0mcore.conformation.Conformation: {0} \u001b[0m\u001b[1m[ WARNING ]\u001b[0m missing heavyatom:  CD  on residue LYS 233\n",
      "\u001b[0mcore.conformation.Conformation: {0} \u001b[0m\u001b[1m[ WARNING ]\u001b[0m missing heavyatom:  CE  on residue LYS 233\n",
      "\u001b[0mcore.conformation.Conformation: {0} \u001b[0m\u001b[1m[ WARNING ]\u001b[0m missing heavyatom:  NZ  on residue LYS 233\n",
      "\u001b[0mcore.conformation.Conformation: {0} \u001b[0m\u001b[1m[ WARNING ]\u001b[0m missing heavyatom:  CG  on residue ASP 350\n",
      "\u001b[0mcore.conformation.Conformation: {0} \u001b[0m\u001b[1m[ WARNING ]\u001b[0m missing heavyatom:  OD1 on residue ASP 350\n",
      "\u001b[0mcore.conformation.Conformation: {0} \u001b[0m\u001b[1m[ WARNING ]\u001b[0m missing heavyatom:  OD2 on residue ASP 350\n",
      "\u001b[0mcore.conformation.Conformation: {0} \u001b[0m\u001b[1m[ WARNING ]\u001b[0m missing heavyatom:  CG  on residue LYS 353\n",
      "\u001b[0mcore.conformation.Conformation: {0} \u001b[0m\u001b[1m[ WARNING ]\u001b[0m missing heavyatom:  CD  on residue LYS 353\n",
      "\u001b[0mcore.conformation.Conformation: {0} \u001b[0m\u001b[1m[ WARNING ]\u001b[0m missing heavyatom:  CE  on residue LYS 353\n",
      "\u001b[0mcore.conformation.Conformation: {0} \u001b[0m\u001b[1m[ WARNING ]\u001b[0m missing heavyatom:  NZ  on residue LYS 353\n",
      "\u001b[0mcore.conformation.Conformation: {0} \u001b[0m\u001b[1m[ WARNING ]\u001b[0m missing heavyatom:  CG  on residue GLU 354\n",
      "\u001b[0mcore.conformation.Conformation: {0} \u001b[0m\u001b[1m[ WARNING ]\u001b[0m missing heavyatom:  CD  on residue GLU 354\n",
      "\u001b[0mcore.conformation.Conformation: {0} \u001b[0m\u001b[1m[ WARNING ]\u001b[0m missing heavyatom:  OE1 on residue GLU 354\n",
      "\u001b[0mcore.conformation.Conformation: {0} \u001b[0m\u001b[1m[ WARNING ]\u001b[0m missing heavyatom:  OE2 on residue GLU 354\n",
      "\u001b[0mcore.conformation.Conformation: {0} \u001b[0m\u001b[1m[ WARNING ]\u001b[0m missing heavyatom:  CG  on residue LYS 382\n",
      "\u001b[0mcore.conformation.Conformation: {0} \u001b[0m\u001b[1m[ WARNING ]\u001b[0m missing heavyatom:  CD  on residue LYS 382\n",
      "\u001b[0mcore.conformation.Conformation: {0} \u001b[0m\u001b[1m[ WARNING ]\u001b[0m missing heavyatom:  CE  on residue LYS 382\n",
      "\u001b[0mcore.conformation.Conformation: {0} \u001b[0m\u001b[1m[ WARNING ]\u001b[0m missing heavyatom:  NZ  on residue LYS 382\n",
      "\u001b[0mcore.conformation.Conformation: {0} \u001b[0m\u001b[1m[ WARNING ]\u001b[0m missing heavyatom:  CG  on residue TYR 454\n",
      "\u001b[0mcore.conformation.Conformation: {0} \u001b[0m\u001b[1m[ WARNING ]\u001b[0m missing heavyatom:  CD1 on residue TYR 454\n",
      "\u001b[0mcore.conformation.Conformation: {0} \u001b[0m\u001b[1m[ WARNING ]\u001b[0m missing heavyatom:  CD2 on residue TYR 454\n",
      "\u001b[0mcore.conformation.Conformation: {0} \u001b[0m\u001b[1m[ WARNING ]\u001b[0m missing heavyatom:  CE1 on residue TYR 454\n",
      "\u001b[0mcore.conformation.Conformation: {0} \u001b[0m\u001b[1m[ WARNING ]\u001b[0m missing heavyatom:  CE2 on residue TYR 454\n",
      "\u001b[0mcore.conformation.Conformation: {0} \u001b[0m\u001b[1m[ WARNING ]\u001b[0m missing heavyatom:  CZ  on residue TYR 454\n",
      "\u001b[0mcore.conformation.Conformation: {0} \u001b[0m\u001b[1m[ WARNING ]\u001b[0m missing heavyatom:  OH  on residue TYR 454\n",
      "\u001b[0mcore.conformation.Conformation: {0} \u001b[0m\u001b[1m[ WARNING ]\u001b[0m missing heavyatom:  OXT on residue GLY:CtermProteinFull 520\n",
      "\u001b[0mcore.pack.pack_missing_sidechains: {0} \u001b[0mpacking residue number 233 because of missing atom number 6 atom name  CG\n",
      "\u001b[0mcore.pack.pack_missing_sidechains: {0} \u001b[0mpacking residue number 350 because of missing atom number 6 atom name  CG\n",
      "\u001b[0mcore.pack.pack_missing_sidechains: {0} \u001b[0mpacking residue number 353 because of missing atom number 6 atom name  CG\n",
      "\u001b[0mcore.pack.pack_missing_sidechains: {0} \u001b[0mpacking residue number 354 because of missing atom number 6 atom name  CG\n",
      "\u001b[0mcore.pack.pack_missing_sidechains: {0} \u001b[0mpacking residue number 382 because of missing atom number 6 atom name  CG\n",
      "\u001b[0mcore.pack.pack_missing_sidechains: {0} \u001b[0mpacking residue number 454 because of missing atom number 6 atom name  CG\n",
      "\u001b[0mcore.pack.task: {0} \u001b[0mPacker task: initialize from command line()\n",
      "\u001b[0mcore.scoring.ScoreFunctionFactory: {0} \u001b[0mSCOREFUNCTION: \u001b[32mref2015\u001b[0m\n",
      "\u001b[0mcore.scoring.etable: {0} \u001b[0mStarting energy table calculation\n",
      "\u001b[0mcore.scoring.etable: {0} \u001b[0msmooth_etable: changing atr/rep split to bottom of energy well\n",
      "\u001b[0mcore.scoring.etable: {0} \u001b[0msmooth_etable: spline smoothing lj etables (maxdis = 6)\n",
      "\u001b[0mcore.scoring.etable: {0} \u001b[0msmooth_etable: spline smoothing solvation etables (max_dis = 6)\n",
      "\u001b[0mcore.scoring.etable: {0} \u001b[0mFinished calculating energy tables.\n",
      "\u001b[0mbasic.io.database: {0} \u001b[0mDatabase file opened: scoring/score_functions/hbonds/ref2015_params/HBPoly1D.csv\n",
      "\u001b[0mbasic.io.database: {0} \u001b[0mDatabase file opened: scoring/score_functions/hbonds/ref2015_params/HBFadeIntervals.csv\n",
      "\u001b[0mbasic.io.database: {0} \u001b[0mDatabase file opened: scoring/score_functions/hbonds/ref2015_params/HBEval.csv\n",
      "\u001b[0mbasic.io.database: {0} \u001b[0mDatabase file opened: scoring/score_functions/hbonds/ref2015_params/DonStrength.csv\n",
      "\u001b[0mbasic.io.database: {0} \u001b[0mDatabase file opened: scoring/score_functions/hbonds/ref2015_params/AccStrength.csv\n",
      "\u001b[0mbasic.io.database: {0} \u001b[0mDatabase file opened: scoring/score_functions/rama/fd/all.ramaProb\n",
      "\u001b[0mbasic.io.database: {0} \u001b[0mDatabase file opened: scoring/score_functions/rama/fd/prepro.ramaProb\n",
      "\u001b[0mbasic.io.database: {0} \u001b[0mDatabase file opened: scoring/score_functions/omega/omega_ppdep.all.txt\n",
      "\u001b[0mbasic.io.database: {0} \u001b[0mDatabase file opened: scoring/score_functions/omega/omega_ppdep.gly.txt\n",
      "\u001b[0mbasic.io.database: {0} \u001b[0mDatabase file opened: scoring/score_functions/omega/omega_ppdep.pro.txt\n",
      "\u001b[0mbasic.io.database: {0} \u001b[0mDatabase file opened: scoring/score_functions/omega/omega_ppdep.valile.txt\n",
      "\u001b[0mbasic.io.database: {0} \u001b[0mDatabase file opened: scoring/score_functions/P_AA_pp/P_AA\n",
      "\u001b[0mbasic.io.database: {0} \u001b[0mDatabase file opened: scoring/score_functions/P_AA_pp/P_AA_n\n",
      "\u001b[0mcore.scoring.P_AA: {0} \u001b[0mshapovalov_lib::shap_p_aa_pp_smooth_level of 1( aka low_smooth ) got activated.\n",
      "\u001b[0mbasic.io.database: {0} \u001b[0mDatabase file opened: scoring/score_functions/P_AA_pp/shapovalov/10deg/kappa131/a20.prop\n",
      "\u001b[0mbasic.io.database: {0} \u001b[0mDatabase file opened: scoring/score_functions/elec_cp_reps.dat\n",
      "\u001b[0mcore.scoring.elec.util: {0} \u001b[0mRead 40 countpair representative atoms\n",
      "\u001b[0mcore.pack.dunbrack.RotamerLibrary: {0} \u001b[0mshapovalov_lib_fixes_enable option is true.\n",
      "\u001b[0mcore.pack.dunbrack.RotamerLibrary: {0} \u001b[0mshapovalov_lib::shap_dun10_smooth_level of 1( aka lowest_smooth ) got activated.\n",
      "\u001b[0mcore.pack.dunbrack.RotamerLibrary: {0} \u001b[0mBinary rotamer library selected: /Users/paul/anaconda3/envs/pyrosetta_env/lib/python3.7/site-packages/pyrosetta/database/rotamer/shapovalov/StpDwn_0-0-0/Dunbrack10.lib.bin\n",
      "\u001b[0mcore.pack.dunbrack.RotamerLibrary: {0} \u001b[0mUsing Dunbrack library binary file '/Users/paul/anaconda3/envs/pyrosetta_env/lib/python3.7/site-packages/pyrosetta/database/rotamer/shapovalov/StpDwn_0-0-0/Dunbrack10.lib.bin'.\n",
      "\u001b[0mcore.pack.dunbrack.RotamerLibrary: {0} \u001b[0mDunbrack 2010 library took 0.349493 seconds to load from binary\n",
      "\u001b[0mcore.pack.pack_rotamers: {0} \u001b[0mbuilt 90 rotamers at 6 positions.\n",
      "\u001b[0mcore.pack.pack_rotamers: {0} \u001b[0mRequesting all available threads for interaction graph computation.\n",
      "\u001b[0mcore.pack.interaction_graph.interaction_graph_factory: {0} \u001b[0mInstantiating DensePDInteractionGraph\n",
      "\u001b[0mbasic.thread_manager.RosettaThreadManager: {?} \u001b[0mCreating a thread pool of 8 threads.\n",
      "\u001b[0mbasic.thread_manager.RosettaThread: {?} \u001b[0mLaunching thread 1.\n",
      "\u001b[0mbasic.thread_manager.RosettaThreadPool: {?} \u001b[0mLaunched 7 new threads.\n",
      "\u001b[0mbasic.thread_manager.RosettaThread: {2} \u001b[0mLaunching thread 2.\n",
      "\u001b[0mbasic.thread_manager.RosettaThread: {7} \u001b[0mLaunching thread 7.\n",
      "\u001b[0mbasic.thread_manager.RosettaThread: {5} \u001b[0mLaunching thread 5.\n",
      "\u001b[0mbasic.random.init_random_generator: {1} \u001b[0m'RNG device' seed mode, using '/dev/urandom', seed=-475598532 seed_offset=0 real_seed=-475598531 thread_index=1\n",
      "\u001b[0mbasic.random.init_random_generator: {1} \u001b[0mRandomGenerator:init: Normal mode, seed=-475598531 RG_type=mt19937\n",
      "\u001b[0mbasic.thread_manager.RosettaThread: {3} \u001b[0mLaunching thread 3.\n",
      "\u001b[0mbasic.thread_manager.RosettaThread: {6} \u001b[0mLaunching thread 6.\n",
      "\u001b[0mbasic.thread_manager.RosettaThread: {4} \u001b[0mLaunching thread 4.\n"
     ]
    },
    {
     "name": "stdout",
     "output_type": "stream",
     "text": [
      "\u001b[0mbasic.random.init_random_generator: {2} \u001b[0m'RNG device' seed mode, using '/dev/urandom', seed=458185754 seed_offset=0 real_seed=458185756 thread_index=2\n",
      "\u001b[0mbasic.random.init_random_generator: {2} \u001b[0mRandomGenerator:init: Normal mode, seed=458185756 RG_type=mt19937\n",
      "\u001b[0mbasic.random.init_random_generator: {5} \u001b[0m'RNG device' seed mode, using '/dev/urandom', seed=970425619 seed_offset=0 real_seed=970425624 thread_index=5\n",
      "\u001b[0mbasic.random.init_random_generator: {5} \u001b[0mRandomGenerator:init: Normal mode, seed=970425624 RG_type=mt19937\n",
      "\u001b[0mbasic.random.init_random_generator: {3} \u001b[0m'RNG device' seed mode, using '/dev/urandom', seed=-399945103 seed_offset=0 real_seed=-399945100 thread_index=3\n",
      "\u001b[0mbasic.random.init_random_generator: {3} \u001b[0mRandomGenerator:init: Normal mode, seed=-399945100 RG_type=mt19937\n",
      "\u001b[0mbasic.random.init_random_generator: {7} \u001b[0m'RNG device' seed mode, using '/dev/urandom', seed=2082639372 seed_offset=0 real_seed=2082639379 thread_index=7\n",
      "\u001b[0mbasic.random.init_random_generator: {7} \u001b[0mRandomGenerator:init: Normal mode, seed=2082639379 RG_type=mt19937\n",
      "\u001b[0mbasic.random.init_random_generator: {4} \u001b[0m'RNG device' seed mode, using '/dev/urandom', seed=138255685 seed_offset=0 real_seed=138255689 thread_index=4\n",
      "\u001b[0mbasic.random.init_random_generator: {4} \u001b[0mRandomGenerator:init: Normal mode, seed=138255689 RG_type=mt19937\n",
      "\u001b[0mbasic.thread_manager.RosettaThreadManager: {4} \u001b[0mThread 4 completed 0 of 14 work units.\n",
      "\u001b[0mbasic.thread_manager.RosettaThreadManager: {5} \u001b[0mThread 5 completed 1 of 14 work units.\n",
      "\u001b[0mbasic.thread_manager.RosettaThreadManager: {0} \u001b[0mThread 0 completed 5 of 14 work units.\n",
      "\u001b[0mbasic.thread_manager.RosettaThreadManager: {3} \u001b[0mThread 3 completed 1 of 14 work units.\n",
      "\u001b[0mbasic.thread_manager.RosettaThreadManager: {2} \u001b[0mThread 2 completed 2 of 14 work units.\n",
      "\u001b[0mbasic.thread_manager.RosettaThreadManager: {1} \u001b[0mThread 1 completed 4 of 14 work units.\n",
      "\u001b[0mbasic.thread_manager.RosettaThreadManager: {7} \u001b[0mThread 7 completed 1 of 14 work units.\n",
      "\u001b[0mbasic.random.init_random_generator: {6} \u001b[0m'RNG device' seed mode, using '/dev/urandom', seed=-1383900093 seed_offset=0 real_seed=-1383900087 thread_index=6\n",
      "\u001b[0mbasic.random.init_random_generator: {6} \u001b[0mRandomGenerator:init: Normal mode, seed=-1383900087 RG_type=mt19937\n",
      "\u001b[0mbasic.thread_manager.RosettaThreadManager: {6} \u001b[0mThread 6 completed 0 of 14 work units.\n",
      "\u001b[0mcore.pack.rotamer_set.RotamerSets: {0} \u001b[0mCompleted interaction graph pre-calculation in 8 available threads (8 had been requested).\n"
     ]
    }
   ],
   "source": [
    "pose = pose_from_pdb(\"5tj3.pdb\")"
   ]
  },
  {
   "cell_type": "code",
   "execution_count": 3,
   "metadata": {},
   "outputs": [
    {
     "name": "stdout",
     "output_type": "stream",
     "text": [
      "ATOM      1  N   ASN A  24      25.188 -20.017  58.979  1.00 36.24           N  \r\n",
      "ATOM      2  CA  ASN A  24      25.350 -19.016  57.930  1.00 34.85           C  \r\n",
      "ATOM      3  C   ASN A  24      24.773 -19.505  56.606  1.00 30.92           C  \r\n",
      "ATOM      4  O   ASN A  24      25.214 -19.083  55.540  1.00 30.95           O  \r\n",
      "ATOM      5  CB  ASN A  24      26.827 -18.654  57.751  1.00 36.14           C  \r\n",
      "ATOM      6  CG  ASN A  24      27.408 -17.948  58.961  1.00 37.74           C  \r\n",
      "ATOM      7  OD1 ASN A  24      26.691 -17.298  59.722  1.00 39.62           O  \r\n",
      "ATOM      8  ND2 ASN A  24      28.719 -18.068  59.141  1.00 36.26           N  \r\n",
      "ATOM      9  N   ALA A  25      23.788 -20.392  56.674  1.00 26.11           N  \r\n",
      "ATOM     10  CA  ALA A  25      23.162 -20.941  55.482  1.00 23.29           C  \r\n"
     ]
    }
   ],
   "source": [
    "!grep \"^ATOM\" 5tj3.pdb | head -n 10"
   ]
  },
  {
   "cell_type": "markdown",
   "metadata": {},
   "source": [
    "We can take a look at the sequence with the following command."
   ]
  },
  {
   "cell_type": "code",
   "execution_count": 4,
   "metadata": {},
   "outputs": [
    {
     "data": {
      "text/plain": [
       "'NAVPRPKLVVGLVVDQMRWDYLYRYYSKYGEGGFKRMLNTGYSLNNVHIDYVPTVTAIGHTSIFTGSVPSIHGIAGNDWYDKELGKSVYCTSDETVQPVGTTSNSVGQHSPRNLWSTTVTDQLGLATNFTSKVVGVSLKDRASILPAGHNPTGAFWFDDTTGKFITSTYYTKELPKWVNDFNNKNVPAQLVANGWNTLLPINQYTESSEDNVEWEGLLGSKKTPTFPYTDLAKDYEAKKGLIRTTPFGNTLTLQMADAAIDGNQMGVDDITDFLTVNLASTDYVGHNFGPNSIEVEDTYLRLDRDLADFFNNLDKKVGKGNYLVFLSADHGAAHSVGFMQAHKMPTGFFDMKKEMNAKLKQKFGADNIIAAAMNYQVYFDRKVLADSKLELDDVRDYVMTELKKEPSVLYVLSTDEIWESSIPEPIKSRVINGYNWKRSGDIQIISKDGYLSAYSKKGTTHSVWNSYDSHIPLLFMGWGIKQGESNQPYHMTDIAPTVSSLLKIQFPSGAVGKPITEVIGZZZZ'"
      ]
     },
     "execution_count": 4,
     "metadata": {},
     "output_type": "execute_result"
    }
   ],
   "source": [
    "pose.sequence()"
   ]
  },
  {
   "cell_type": "markdown",
   "metadata": {},
   "source": [
    "Sometimes PDB files do not conform to standards and need to be cleaned to be loaded successfully with PyRosetta. One way to make sure the file is loaded successfully is to only ATOM lines from the PDB file. Alternatively, you could use the cleanATOM function in pyrosetta.toolbox to achieve the same: "
   ]
  },
  {
   "cell_type": "code",
   "execution_count": 5,
   "metadata": {},
   "outputs": [],
   "source": [
    "from pyrosetta.toolbox import cleanATOM\n",
    "cleanATOM(\"5tj3.pdb\")"
   ]
  },
  {
   "cell_type": "code",
   "execution_count": 6,
   "metadata": {},
   "outputs": [
    {
     "name": "stdout",
     "output_type": "stream",
     "text": [
      "\u001b[0mcore.import_pose.import_pose: {0} \u001b[0mFile '5tj3.clean.pdb' automatically determined to be of type PDB\n",
      "\u001b[0mcore.conformation.Conformation: {0} \u001b[0m\u001b[1m[ WARNING ]\u001b[0m missing heavyatom:  CG  on residue LYS 232\n",
      "\u001b[0mcore.conformation.Conformation: {0} \u001b[0m\u001b[1m[ WARNING ]\u001b[0m missing heavyatom:  CD  on residue LYS 232\n",
      "\u001b[0mcore.conformation.Conformation: {0} \u001b[0m\u001b[1m[ WARNING ]\u001b[0m missing heavyatom:  CE  on residue LYS 232\n",
      "\u001b[0mcore.conformation.Conformation: {0} \u001b[0m\u001b[1m[ WARNING ]\u001b[0m missing heavyatom:  NZ  on residue LYS 232\n",
      "\u001b[0mcore.conformation.Conformation: {0} \u001b[0m\u001b[1m[ WARNING ]\u001b[0m missing heavyatom:  CG  on residue ASP 349\n",
      "\u001b[0mcore.conformation.Conformation: {0} \u001b[0m\u001b[1m[ WARNING ]\u001b[0m missing heavyatom:  OD1 on residue ASP 349\n",
      "\u001b[0mcore.conformation.Conformation: {0} \u001b[0m\u001b[1m[ WARNING ]\u001b[0m missing heavyatom:  OD2 on residue ASP 349\n",
      "\u001b[0mcore.conformation.Conformation: {0} \u001b[0m\u001b[1m[ WARNING ]\u001b[0m missing heavyatom:  CG  on residue LYS 352\n",
      "\u001b[0mcore.conformation.Conformation: {0} \u001b[0m\u001b[1m[ WARNING ]\u001b[0m missing heavyatom:  CD  on residue LYS 352\n",
      "\u001b[0mcore.conformation.Conformation: {0} \u001b[0m\u001b[1m[ WARNING ]\u001b[0m missing heavyatom:  CE  on residue LYS 352\n",
      "\u001b[0mcore.conformation.Conformation: {0} \u001b[0m\u001b[1m[ WARNING ]\u001b[0m missing heavyatom:  NZ  on residue LYS 352\n",
      "\u001b[0mcore.conformation.Conformation: {0} \u001b[0m\u001b[1m[ WARNING ]\u001b[0m missing heavyatom:  CG  on residue GLU 353\n",
      "\u001b[0mcore.conformation.Conformation: {0} \u001b[0m\u001b[1m[ WARNING ]\u001b[0m missing heavyatom:  CD  on residue GLU 353\n",
      "\u001b[0mcore.conformation.Conformation: {0} \u001b[0m\u001b[1m[ WARNING ]\u001b[0m missing heavyatom:  OE1 on residue GLU 353\n",
      "\u001b[0mcore.conformation.Conformation: {0} \u001b[0m\u001b[1m[ WARNING ]\u001b[0m missing heavyatom:  OE2 on residue GLU 353\n",
      "\u001b[0mcore.conformation.Conformation: {0} \u001b[0m\u001b[1m[ WARNING ]\u001b[0m missing heavyatom:  CG  on residue LYS 381\n",
      "\u001b[0mcore.conformation.Conformation: {0} \u001b[0m\u001b[1m[ WARNING ]\u001b[0m missing heavyatom:  CD  on residue LYS 381\n",
      "\u001b[0mcore.conformation.Conformation: {0} \u001b[0m\u001b[1m[ WARNING ]\u001b[0m missing heavyatom:  CE  on residue LYS 381\n",
      "\u001b[0mcore.conformation.Conformation: {0} \u001b[0m\u001b[1m[ WARNING ]\u001b[0m missing heavyatom:  NZ  on residue LYS 381\n",
      "\u001b[0mcore.conformation.Conformation: {0} \u001b[0m\u001b[1m[ WARNING ]\u001b[0m missing heavyatom:  CG  on residue TYR 453\n",
      "\u001b[0mcore.conformation.Conformation: {0} \u001b[0m\u001b[1m[ WARNING ]\u001b[0m missing heavyatom:  CD1 on residue TYR 453\n",
      "\u001b[0mcore.conformation.Conformation: {0} \u001b[0m\u001b[1m[ WARNING ]\u001b[0m missing heavyatom:  CD2 on residue TYR 453\n",
      "\u001b[0mcore.conformation.Conformation: {0} \u001b[0m\u001b[1m[ WARNING ]\u001b[0m missing heavyatom:  CE1 on residue TYR 453\n",
      "\u001b[0mcore.conformation.Conformation: {0} \u001b[0m\u001b[1m[ WARNING ]\u001b[0m missing heavyatom:  CE2 on residue TYR 453\n",
      "\u001b[0mcore.conformation.Conformation: {0} \u001b[0m\u001b[1m[ WARNING ]\u001b[0m missing heavyatom:  CZ  on residue TYR 453\n",
      "\u001b[0mcore.conformation.Conformation: {0} \u001b[0m\u001b[1m[ WARNING ]\u001b[0m missing heavyatom:  OH  on residue TYR 453\n",
      "\u001b[0mcore.conformation.Conformation: {0} \u001b[0m\u001b[1m[ WARNING ]\u001b[0m missing heavyatom:  OXT on residue GLY:CtermProteinFull 519\n",
      "\u001b[0mcore.pack.pack_missing_sidechains: {0} \u001b[0mpacking residue number 232 because of missing atom number 6 atom name  CG\n",
      "\u001b[0mcore.pack.pack_missing_sidechains: {0} \u001b[0mpacking residue number 349 because of missing atom number 6 atom name  CG\n",
      "\u001b[0mcore.pack.pack_missing_sidechains: {0} \u001b[0mpacking residue number 352 because of missing atom number 6 atom name  CG\n",
      "\u001b[0mcore.pack.pack_missing_sidechains: {0} \u001b[0mpacking residue number 353 because of missing atom number 6 atom name  CG\n",
      "\u001b[0mcore.pack.pack_missing_sidechains: {0} \u001b[0mpacking residue number 381 because of missing atom number 6 atom name  CG\n",
      "\u001b[0mcore.pack.pack_missing_sidechains: {0} \u001b[0mpacking residue number 453 because of missing atom number 6 atom name  CG\n",
      "\u001b[0mcore.pack.task: {0} \u001b[0mPacker task: initialize from command line()\n",
      "\u001b[0mcore.scoring.ScoreFunctionFactory: {0} \u001b[0mSCOREFUNCTION: \u001b[32mref2015\u001b[0m\n",
      "\u001b[0mcore.pack.pack_rotamers: {0} \u001b[0mbuilt 90 rotamers at 6 positions.\n",
      "\u001b[0mcore.pack.pack_rotamers: {0} \u001b[0mRequesting all available threads for interaction graph computation.\n",
      "\u001b[0mcore.pack.interaction_graph.interaction_graph_factory: {0} \u001b[0mInstantiating DensePDInteractionGraph\n",
      "\u001b[0mbasic.thread_manager.RosettaThreadManager: {1} \u001b[0mThread 1 completed 3 of 14 work units.\n",
      "\u001b[0mbasic.thread_manager.RosettaThreadManager: {7} \u001b[0mThread 7 completed 5 of 14 work units.\n",
      "\u001b[0mbasic.thread_manager.RosettaThreadManager: {4} \u001b[0mThread 4 completed 1 of 14 work units.\n",
      "\u001b[0mbasic.thread_manager.RosettaThreadManager: {6} \u001b[0mThread 6 completed 1 of 14 work units.\n",
      "\u001b[0mbasic.thread_manager.RosettaThreadManager: {2} \u001b[0mThread 2 completed 1 of 14 work units.\n",
      "\u001b[0mbasic.thread_manager.RosettaThreadManager: {0} \u001b[0mThread 0 completed 1 of 14 work units.\n",
      "\u001b[0mbasic.thread_manager.RosettaThreadManager: {3} \u001b[0mThread 3 completed 1 of 14 work units.\n",
      "\u001b[0mbasic.thread_manager.RosettaThreadManager: {5} \u001b[0mThread 5 completed 1 of 14 work units.\n",
      "\u001b[0mcore.pack.rotamer_set.RotamerSets: {0} \u001b[0mCompleted interaction graph pre-calculation in 8 available threads (8 had been requested).\n"
     ]
    }
   ],
   "source": [
    "pose_clean = pose_from_pdb(\"5tj3.clean.pdb\")"
   ]
  },
  {
   "cell_type": "markdown",
   "metadata": {},
   "source": [
    "In our case, we could load in the PDB file for 5tj3 without cleaning it. In fact, we've lost some residues when cleaning the PDB file with cleanATOM. What is the difference in the sequence of the pose now, compared to before?"
   ]
  },
  {
   "cell_type": "code",
   "execution_count": 7,
   "metadata": {},
   "outputs": [
    {
     "data": {
      "text/plain": [
       "'NAVPRPKLVVGLVVDQMRWDYLYRYYSKYGEGGFKRMLNTGYSLNNVHIDYVPTVAIGHTSIFTGSVPSIHGIAGNDWYDKELGKSVYCTSDETVQPVGTTSNSVGQHSPRNLWSTTVTDQLGLATNFTSKVVGVSLKDRASILPAGHNPTGAFWFDDTTGKFITSTYYTKELPKWVNDFNNKNVPAQLVANGWNTLLPINQYTESSEDNVEWEGLLGSKKTPTFPYTDLAKDYEAKKGLIRTTPFGNTLTLQMADAAIDGNQMGVDDITDFLTVNLASTDYVGHNFGPNSIEVEDTYLRLDRDLADFFNNLDKKVGKGNYLVFLSADHGAAHSVGFMQAHKMPTGFFDMKKEMNAKLKQKFGADNIIAAAMNYQVYFDRKVLADSKLELDDVRDYVMTELKKEPSVLYVLSTDEIWESSIPEPIKSRVINGYNWKRSGDIQIISKDGYLSAYSKKGTTHSVWNSYDSHIPLLFMGWGIKQGESNQPYHMTDIAPTVSSLLKIQFPSGAVGKPITEVIG'"
      ]
     },
     "execution_count": 7,
     "metadata": {},
     "output_type": "execute_result"
    }
   ],
   "source": [
    "pose_clean.sequence()"
   ]
  },
  {
   "cell_type": "markdown",
   "metadata": {},
   "source": [
    "Write code below to find the difference(s) between the pose_clean.sequence() and pose.sequence():"
   ]
  },
  {
   "cell_type": "code",
   "execution_count": 8,
   "metadata": {
    "deletable": false,
    "nbgrader": {
     "cell_type": "code",
     "checksum": "0660c82ba84c7df8807f2d457474811e",
     "grade": true,
     "grade_id": "cell-b7e183785aad92fc",
     "locked": false,
     "points": 0,
     "schema_version": 3,
     "solution": true
    }
   },
   "outputs": [
    {
     "name": "stdout",
     "output_type": "stream",
     "text": [
      "55T56A57I58G59H60T61S62I63F64T65G66S67V68P69S70I71H72G73I74A75G76N77D78W79Y80D81K82E83L84G85K86S87V88Y89C90T91S92D93E94T95V96Q97P98V99G101T102S103N104S105V106G107Q108H109S110P111R112N113L114W115S117T118V119T120D121Q122L123G124L125A126T127N128F129T130S131K133V134G135V136S137L138K139D140R141A142S143I144L145P146A147G148H149N150P151T152G153A154F155W156F158D160T161G162K163F164I165T166S167T169Y170T171K172E173L174P175K176W177V178N179D180F182N183K184N185V186P187A188Q189L190V191A192N193G194W195N196T198L199P200I201N202Q203Y204T205E207S208E209D210N211V212E213W214E215G217L218G219S221K222T223P224T225F226P227Y228T229D230L231A232K233D234Y235E236A238K239G240L241I242R244T245P246F247G248N249T250L251T252L253Q254M255A256D258A259I260D261G262N263Q264M265G266V268D269I270T271D272F273L274T275V276N277L278A279S280T281D282Y283V284G285H286N287F288G289P290N291S292I293E294V295E296D297T298Y299L300R301L302D303R304D305L306A307D309F311N312L313D315K316V317G318K319G320N321Y322L323V324F325L326S327A328D329H330G332A333H334S335V336G337F338M339Q340A341H342K343M344P345T346G348F349D350M352K353E354M355N356A357K358L359K360Q361K362F363G364A365D366N368I371A372M373N374Y375Q376V377Y378F379D380R381K382V383L384A385D386S387K388L389E390L392D393V394R395D396Y397V398M399T400E401L403K404E405P406S407V408L409Y410V411L412S413T414D415E416I417W418E420S421I422P423E424P425I426K427S428R429V430I431N432G433Y434N435W436K437R438S439G440D441I442Q444I445S446K447D448G449Y450L451S452A453Y454S456K457G459T460H461S462V463W464N465S466Y467D468S469H470I471P473L474F475M476G477W478G479I480K481Q482G483E484S485N486Q487P488Y489H490M491T492D493I494A495P496T497V499S501L502K503I504Q505F506P507S508G509A510V511G512K513P514I515T516E517V518I"
     ]
    }
   ],
   "source": [
    "# YOUR CODE HERE\n",
    "sequence_pose_clean = pose_clean.sequence()\n",
    "sequence_pose = pose.sequence()\n",
    "\n",
    "for i in range(len(sequence_pose_clean)):\n",
    "    if sequence_pose_clean[i] != sequence_pose[i]:\n",
    "        print(i, end='')\n",
    "        print(sequence_pose[i], end='')\n",
    "        "
   ]
  },
  {
   "cell_type": "code",
   "execution_count": null,
   "metadata": {},
   "outputs": [],
   "source": []
  },
  {
   "cell_type": "markdown",
   "metadata": {},
   "source": [
    "With the function annotated_sequence below, we can start to see in more detail what the differences are. Note that non-canonical amino acids and hetatms are spelled out more explicitly now."
   ]
  },
  {
   "cell_type": "code",
   "execution_count": 9,
   "metadata": {},
   "outputs": [
    {
     "data": {
      "text/plain": [
       "'N[ASN:NtermProteinFull]AVPRPKLVVGLVVDQMRWDYLYRYYSKYGEGGFKRMLNTGYSLNNVHIDYVPTVT[THR:phosphorylated]AIGHTSIFTGSVPSIHGIAGNDWYDKELGKSVYCTSDETVQPVGTTSNSVGQHSPRNLWSTTVTDQLGLATNFTSKVVGVSLKDRASILPAGHNPTGAFWFDDTTGKFITSTYYTKELPKWVNDFNNKNVPAQLVANGWNTLLPINQYTESSEDNVEWEGLLGSKKTPTFPYTDLAKDYEAKKGLIRTTPFGNTLTLQMADAAIDGNQMGVDDITDFLTVNLASTDYVGHNFGPNSIEVEDTYLRLDRDLADFFNNLDKKVGKGNYLVFLSADHGAAHSVGFMQAHKMPTGFFDMKKEMNAKLKQKFGADNIIAAAMNYQVYFDRKVLADSKLELDDVRDYVMTELKKEPSVLYVLSTDEIWESSIPEPIKSRVINGYNWKRSGDIQIISKDGYLSAYSKKGTTHSVWNSYDSHIPLLFMGWGIKQGESNQPYHMTDIAPTVSSLLKIQFPSGAVGKPITEVIG[GLY:CtermProteinFull]Z[ZN]Z[ZN]Z[ZN]Z[ZN]'"
      ]
     },
     "execution_count": 9,
     "metadata": {},
     "output_type": "execute_result"
    }
   ],
   "source": [
    "pose.annotated_sequence()"
   ]
  },
  {
   "cell_type": "code",
   "execution_count": 10,
   "metadata": {},
   "outputs": [
    {
     "data": {
      "text/plain": [
       "'N[ASN:NtermProteinFull]AVPRPKLVVGLVVDQMRWDYLYRYYSKYGEGGFKRMLNTGYSLNNVHIDYVPTVAIGHTSIFTGSVPSIHGIAGNDWYDKELGKSVYCTSDETVQPVGTTSNSVGQHSPRNLWSTTVTDQLGLATNFTSKVVGVSLKDRASILPAGHNPTGAFWFDDTTGKFITSTYYTKELPKWVNDFNNKNVPAQLVANGWNTLLPINQYTESSEDNVEWEGLLGSKKTPTFPYTDLAKDYEAKKGLIRTTPFGNTLTLQMADAAIDGNQMGVDDITDFLTVNLASTDYVGHNFGPNSIEVEDTYLRLDRDLADFFNNLDKKVGKGNYLVFLSADHGAAHSVGFMQAHKMPTGFFDMKKEMNAKLKQKFGADNIIAAAMNYQVYFDRKVLADSKLELDDVRDYVMTELKKEPSVLYVLSTDEIWESSIPEPIKSRVINGYNWKRSGDIQIISKDGYLSAYSKKGTTHSVWNSYDSHIPLLFMGWGIKQGESNQPYHMTDIAPTVSSLLKIQFPSGAVGKPITEVIG[GLY:CtermProteinFull]'"
      ]
     },
     "execution_count": 10,
     "metadata": {},
     "output_type": "execute_result"
    }
   ],
   "source": [
    "pose_clean.annotated_sequence()"
   ]
  },
  {
   "cell_type": "markdown",
   "metadata": {},
   "source": [
    "Because this PDB file was able to load into PyRosetta successfully without the cleanATOM method, we're going to stick with this slightly larger `pose` through the rest of this lab."
   ]
  },
  {
   "cell_type": "markdown",
   "metadata": {},
   "source": [
    "## Working with Pose residues ##"
   ]
  },
  {
   "cell_type": "markdown",
   "metadata": {},
   "source": [
    "   We can use methods in `Pose` to count residues and pick out residues from the pose. Remember that `Pose` is a python class, and to access methods it implements, you need an instance of the class (here `pose` or `pose_clean`) and you then use a dot after the instance. Here's a couple examples."
   ]
  },
  {
   "cell_type": "code",
   "execution_count": 11,
   "metadata": {},
   "outputs": [
    {
     "name": "stdout",
     "output_type": "stream",
     "text": [
      "524\n",
      "519\n"
     ]
    }
   ],
   "source": [
    "print(pose.total_residue())\n",
    "print(pose_clean.total_residue())\n",
    "# Did you catch all the missing residues before?"
   ]
  },
  {
   "cell_type": "code",
   "execution_count": 12,
   "metadata": {},
   "outputs": [
    {
     "name": "stdout",
     "output_type": "stream",
     "text": [
      "ARG\n"
     ]
    }
   ],
   "source": [
    "res = pose.residue(24)\n",
    "print(res.name())"
   ]
  },
  {
   "cell_type": "markdown",
   "metadata": {},
   "source": [
    "What is the 24th residue of the protein pose? What is the 24th residue in the PDB file (look in the PDB file)?\n",
    "\n",
    "We can immediately see that the numbering Pyrosetta internally uses for pose residues is different from the PDB file. The information corresponding to the PDB file can be accessed through the `pose.pdb_info()` object."
   ]
  },
  {
   "cell_type": "code",
   "execution_count": 13,
   "metadata": {},
   "outputs": [
    {
     "name": "stdout",
     "output_type": "stream",
     "text": [
      "A\n",
      "47\n"
     ]
    }
   ],
   "source": [
    "print(pose.pdb_info().chain(24))\n",
    "print(pose.pdb_info().number(24))"
   ]
  },
  {
   "cell_type": "code",
   "execution_count": 14,
   "metadata": {},
   "outputs": [
    {
     "name": "stdout",
     "output_type": "stream",
     "text": [
      "47 A \n"
     ]
    }
   ],
   "source": [
    "print(pose.pdb_info().pose2pdb(24))"
   ]
  },
  {
   "cell_type": "code",
   "execution_count": 15,
   "metadata": {},
   "outputs": [
    {
     "name": "stdout",
     "output_type": "stream",
     "text": [
      "1\n"
     ]
    }
   ],
   "source": [
    "print(pose.pdb_info().pdb2pose('A', 24))"
   ]
  },
  {
   "cell_type": "markdown",
   "metadata": {},
   "source": [
    "Note that Rosetta counts from 1. Lots of programming languages encourage developers to count from 0, including python. This will come up any time you try to use the `range` function in a for loop. If you write:\n",
    "```\n",
    "    for i in range(4):\n",
    "        print(i)\n",
    "```\n",
    "then it will output numbers 0, 1, 2, and 3. In order to iterate from 1 to 4, you have to write:\n",
    "```\n",
    "    for i in range(1,4+1):\n",
    "        print(i)\n",
    "```\n",
    "which is ever so slightly annoying. If you want to iterate over all of the residues in a Pose, you will need to construct your range like this:\n",
    "```\n",
    "    for i in range(1,pose.total_residue()+1):\n",
    "        # whatever you were going to do\n",
    "        pass\n",
    "```\n",
    "You will use this for-loop construct in this lab.\n",
    "\n",
    "===\n",
    "\n",
    "Now we can see how to examine the identity of a residue by PDB chain and residue number.\n",
    "\n",
    "Once we get a residue, there are various methods in the `Residue` class that might let us read useful information about a residue. We can get instances of the `Residue` class from `Pose`. For instance, we can do the following:"
   ]
  },
  {
   "cell_type": "code",
   "execution_count": 16,
   "metadata": {},
   "outputs": [
    {
     "name": "stdout",
     "output_type": "stream",
     "text": [
      "ARG\n",
      "True\n"
     ]
    }
   ],
   "source": [
    "res_24 = pose.residue(24)\n",
    "print(res_24.name())\n",
    "print(res_24.is_charged())"
   ]
  },
  {
   "cell_type": "markdown",
   "metadata": {},
   "source": [
    "## Accessing PyRosetta Documentation ##"
   ]
  },
  {
   "cell_type": "markdown",
   "metadata": {},
   "source": [
    "One benefit of working within Jupyter notebooks is that we can make use of its autocomplete features. To see an example, try typing `res.is_` and pressing `tab` to find other features of residues you can examine. Note that you can scroll down to see more features."
   ]
  },
  {
   "cell_type": "code",
   "execution_count": 17,
   "metadata": {},
   "outputs": [],
   "source": [
    "#res.is_"
   ]
  },
  {
   "cell_type": "markdown",
   "metadata": {},
   "source": [
    "Some atom-level information is described by funtions starting with `atom_is_`. Press tab to find these functions\n"
   ]
  },
  {
   "cell_type": "code",
   "execution_count": 18,
   "metadata": {},
   "outputs": [],
   "source": [
    "#res.atom_is_"
   ]
  },
  {
   "cell_type": "markdown",
   "metadata": {},
   "source": [
    "You will be using this feature *extensively* this week. Lots of problems give you too little information to figure out the answer: the point of these questions will be to get you to dig through class methods to find the ones that are appropriate.\n",
    "\n",
    "It is worth noting that the autocomplete feature doesn't work well for function results. You have to store the results in a variable in one cell, evaluate that cell, and then you can autocomplete in the next cell. What do I mean?\n",
    "\n",
    "Well, we ran\n",
    "```\n",
    "    res = pose.residue(24)\n",
    "```\n",
    "and then followed it with\n",
    "```\n",
    "    res.is_<tab>\n",
    "```\n",
    "It would have been nice if we could have just typed:\n",
    "```\n",
    "    pose.residue(24).is_<tab>\n",
    "```\n",
    "without first assigning the result of the `pose.residue(24)` function call to a variable. Sadly, it doesn't work that way.\n",
    "\n"
   ]
  },
  {
   "cell_type": "markdown",
   "metadata": {},
   "source": [
    "There is additional information available about a residue's chemistry that is stored in the `ResidueType` for a the `Residue`. Every `Residue` represents a concrete representative of a more abstract `ResidueType`. A `ResidueType` holds general information about the chemistry of a group of atoms: how many atoms there are and their names, what bonds are present, the element for each atom. `Residue` holds the concrete information about a particular instance, including its coordinates and the information about how it is chemically bound to other `Residue`s in the structure. Under the hood, many of the functions you see in `Residue` simply defer to `ResidueType` to provide the data that you're looking for. \n",
    "\n",
    "To get the `ResidueType` for a `Residue`, use the `type()` method:"
   ]
  },
  {
   "cell_type": "code",
   "execution_count": 19,
   "metadata": {},
   "outputs": [
    {
     "name": "stdout",
     "output_type": "stream",
     "text": [
      "ARG (ARG, R):\n",
      "Base: ARG\n",
      " Properties: POLYMER PROTEIN CANONICAL_AA SC_ORBITALS POLAR CHARGED POSITIVE_CHARGE METALBINDING ALPHA_AA L_AA\n",
      " Variant types:\n",
      " Main-chain atoms:  N    CA   C  \n",
      " Backbone atoms:    N    CA   C    O    H    HA \n",
      " Side-chain atoms:  CB   CG   CD   NE   CZ   NH1  NH2 1HB  2HB  1HG  2HG  1HD  2HD   HE  1HH1 2HH1 1HH2 2HH2\n",
      "\n"
     ]
    }
   ],
   "source": [
    "restype = res.type()\n",
    "print(restype)"
   ]
  },
  {
   "cell_type": "markdown",
   "metadata": {},
   "source": [
    "Similarly, we can get the atom type for a particular atom"
   ]
  },
  {
   "cell_type": "code",
   "execution_count": 20,
   "metadata": {},
   "outputs": [],
   "source": [
    "Otype = restype.atom_type(restype.atom_index(\"O\"))"
   ]
  },
  {
   "cell_type": "markdown",
   "metadata": {},
   "source": [
    "Now let's look at the methods for thh `AtomType` class using the tab key"
   ]
  },
  {
   "cell_type": "code",
   "execution_count": 21,
   "metadata": {},
   "outputs": [],
   "source": [
    "#Otype."
   ]
  },
  {
   "cell_type": "markdown",
   "metadata": {},
   "source": [
    "Now that we've looked through several functions, we know how to confirm that PyRosetta has loaded in the zinc ions as metal ions. "
   ]
  },
  {
   "cell_type": "code",
   "execution_count": 22,
   "metadata": {},
   "outputs": [
    {
     "data": {
      "text/plain": [
       "True"
      ]
     },
     "execution_count": 22,
     "metadata": {},
     "output_type": "execute_result"
    }
   ],
   "source": [
    "zn_resid = pose.pdb_info().pdb2pose('A', 601)\n",
    "res_zn = pose.residue(zn_resid) \n",
    "res_zn.is_metal() "
   ]
  },
  {
   "cell_type": "markdown",
   "metadata": {},
   "source": [
    "We can also explore documentation for objects and methods from Jupyter notebooks. Say you wanted to find out more about the Pose object. Try typing in `Pose?`, `?Pose` or `help(Pose)`."
   ]
  },
  {
   "cell_type": "code",
   "execution_count": 23,
   "metadata": {},
   "outputs": [],
   "source": [
    "Pose?"
   ]
  },
  {
   "cell_type": "markdown",
   "metadata": {},
   "source": [
    "By the way, now if you ever go on to develop some PyRosetta functions, you can see the importance of docstrings!\n",
    "\n",
    "This works for PyRosetta methods as well:"
   ]
  },
  {
   "cell_type": "code",
   "execution_count": 24,
   "metadata": {},
   "outputs": [
    {
     "name": "stdout",
     "output_type": "stream",
     "text": [
      "Residue 24: ARG (ARG, R):\n",
      "Base: ARG\n",
      " Properties: POLYMER PROTEIN CANONICAL_AA SC_ORBITALS POLAR CHARGED POSITIVE_CHARGE METALBINDING ALPHA_AA L_AA\n",
      " Variant types:\n",
      " Main-chain atoms:  N    CA   C  \n",
      " Backbone atoms:    N    CA   C    O    H    HA \n",
      " Side-chain atoms:  CB   CG   CD   NE   CZ   NH1  NH2 1HB  2HB  1HG  2HG  1HD  2HD   HE  1HH1 2HH1 1HH2 2HH2\n",
      "Atom Coordinates:\n",
      "   N  : -17.974, -24.283, 46.344\n",
      "   CA : -19.214, -24.992, 46.048\n",
      "   C  : -19.399, -26.191, 46.969\n",
      "   O  : -20.513, -26.461, 47.43\n",
      "   CB : -19.234, -25.433, 44.587\n",
      "   CG : -19.612, -24.338, 43.614\n",
      "   CD : -19.743, -24.908, 42.22\n",
      "   NE : -20.788, -25.924, 42.162\n",
      "   CZ : -20.737, -27.002, 41.388\n",
      "   NH1: -19.683, -27.217, 40.612\n",
      "   NH2: -21.736, -27.874, 41.399\n",
      "   H  : -17.2751, -24.1911, 45.6206\n",
      "   HA : -20.0501, -24.3138, 46.2211\n",
      "  1HB : -18.2503, -25.8069, 44.3066\n",
      "  2HB : -19.9428, -26.252, 44.4638\n",
      "  1HG : -20.564, -23.8986, 43.9126\n",
      "  2HG : -18.8402, -23.5674, 43.6153\n",
      "  1HD : -19.9956, -24.1096, 41.5229\n",
      "  2HD : -18.799, -25.3634, 41.9231\n",
      "   HE : -21.6011, -25.7961, 42.7496\n",
      "  1HH1: -18.9158, -26.5597, 40.6085\n",
      "  2HH1: -19.6474, -28.0376, 40.0248\n",
      "  1HH2: -22.5364, -27.7182, 41.9965\n",
      "  2HH2: -21.6973, -28.6931, 40.8109\n",
      "Mirrored relative to coordinates in ResidueType: FALSE\n",
      "\n"
     ]
    }
   ],
   "source": [
    "res_24 = pose.residue(24)\n",
    "print(res_24)\n",
    "res_24.atom_index?"
   ]
  },
  {
   "cell_type": "markdown",
   "metadata": {},
   "source": [
    "Now use the method below to find out whether the \"CA\" atom in res_24 is a backbone atom. "
   ]
  },
  {
   "cell_type": "code",
   "execution_count": 25,
   "metadata": {
    "deletable": false,
    "nbgrader": {
     "cell_type": "code",
     "checksum": "14bfd18e97d6405728623cb00961cf3c",
     "grade": true,
     "grade_id": "cell-211c100adf4d6e74",
     "locked": false,
     "points": 0,
     "schema_version": 3,
     "solution": true
    }
   },
   "outputs": [
    {
     "name": "stdout",
     "output_type": "stream",
     "text": [
      "2\n",
      "True\n"
     ]
    }
   ],
   "source": [
    "# YOUR CODE HERE\n",
    "CA_index = res_24.atom_index(\"CA\")\n",
    "print(CA_index)\n",
    "print(res_24.atom_is_backbone(CA_index))"
   ]
  },
  {
   "cell_type": "markdown",
   "metadata": {},
   "source": [
    "## Getting spatial features from a Pose ## "
   ]
  },
  {
   "cell_type": "markdown",
   "metadata": {},
   "source": [
    "`Pose` objects make it easy to access angles, distances, and torsions for analysis. Lets take a look at how to get backbone torsions first."
   ]
  },
  {
   "cell_type": "code",
   "execution_count": 26,
   "metadata": {},
   "outputs": [
    {
     "name": "stdout",
     "output_type": "stream",
     "text": [
      "-149.17513487055064\n",
      "151.30037995499168\n",
      "-82.850785668982\n"
     ]
    }
   ],
   "source": [
    "resid = pose.pdb_info().pdb2pose('A', 28)\n",
    "print(pose.phi(resid))\n",
    "print(pose.psi(resid))\n",
    "print(pose.chi(1, resid))"
   ]
  },
  {
   "cell_type": "markdown",
   "metadata": {},
   "source": [
    "Say we want to find the length of the $N$-$C_\\alpha$ and $C_\\alpha$-$C$ bonds for residue A:28 from the PDB file. We can use a couple of approaches. The first involves using the bond length in the `Conformation` class, which stores some info on protein geometry. Take a look at some of the methods in the `Conformation` class using tab completion."
   ]
  },
  {
   "cell_type": "code",
   "execution_count": 27,
   "metadata": {},
   "outputs": [],
   "source": [
    "conformation = pose.conformation()"
   ]
  },
  {
   "cell_type": "markdown",
   "metadata": {},
   "source": [
    "Look at the documentation for the method `conformation.bond_length` below."
   ]
  },
  {
   "cell_type": "code",
   "execution_count": 28,
   "metadata": {},
   "outputs": [],
   "source": [
    "conformation.bond_length?"
   ]
  },
  {
   "cell_type": "markdown",
   "metadata": {},
   "source": [
    "To use the bond_length method in the `Conformation` class, it looks like we'll need to make `AtomID` objects. We can do this using an atom index and residue ID as follows:"
   ]
  },
  {
   "cell_type": "code",
   "execution_count": 29,
   "metadata": {},
   "outputs": [],
   "source": [
    "res_28 = pose.residue(resid)\n",
    "N28 = AtomID(res_28.atom_index(\"N\"), resid)\n",
    "CA28 = AtomID(res_28.atom_index(\"CA\"), resid)\n",
    "C28 = AtomID(res_28.atom_index(\"C\"), resid)"
   ]
  },
  {
   "cell_type": "markdown",
   "metadata": {},
   "source": [
    "As usual, if you did not know how to construct an `AtomID`, you could check the documentation using `?AtomID`.\n",
    "\n",
    "Now we can compute the bond lengths:"
   ]
  },
  {
   "cell_type": "code",
   "execution_count": 30,
   "metadata": {},
   "outputs": [],
   "source": [
    "AtomID?"
   ]
  },
  {
   "cell_type": "code",
   "execution_count": 31,
   "metadata": {},
   "outputs": [
    {
     "name": "stdout",
     "output_type": "stream",
     "text": [
      "1.456100614655453\n",
      "1.5184027792387658\n"
     ]
    }
   ],
   "source": [
    "print(pose.conformation().bond_length(N28, CA28))\n",
    "print(pose.conformation().bond_length(CA28, C28))"
   ]
  },
  {
   "cell_type": "markdown",
   "metadata": {},
   "source": [
    "Alternatively, we can compute bond lengths ourselves starting from the xyz coordinates of the atoms. \n",
    "\n",
    "The method `xyz` of `Residue` returns a `Vector` class. The `Vector` class has various useful builtin methods including computing dot products, cross products, and norms. Through operator overloading in the `Vector` class, you can just subtract and add vector objects and they will manipulate the corresponding vectors appropriately."
   ]
  },
  {
   "cell_type": "code",
   "execution_count": 32,
   "metadata": {},
   "outputs": [
    {
     "name": "stdout",
     "output_type": "stream",
     "text": [
      "1.456100614655453\n",
      "1.5184027792387658\n"
     ]
    }
   ],
   "source": [
    "N_xyz = res_28.xyz(\"N\") # returns a Vector\n",
    "CA_xyz = res_28.xyz(\"CA\")\n",
    "C_xyz = res_28.xyz(\"C\")\n",
    "print((CA_xyz - N_xyz).norm())\n",
    "print((CA_xyz - C_xyz).norm())"
   ]
  },
  {
   "cell_type": "markdown",
   "metadata": {},
   "source": [
    "Thankfully, the two approaches for computing distances check out!\n",
    "\n",
    "**Note**: Not all bond lengths, angles, and torsions will be accessible using the `Conformation` object. That is because the `Conformation` object stores only the subset it needs to generate xyz locations for the atoms in the pose. The most stable way to get this information is to compute it using the xyz Cartesian coordinate vectors as a starting point."
   ]
  },
  {
   "cell_type": "markdown",
   "metadata": {},
   "source": [
    "Let's take a look at Rosetta's ideal values for this amino acid's bond lengths and see how these values compare. First find Pyrosetta's database directory on your computer (hint: it should have shown up when you ran `init()` at the beginning of this Jupyter notebook.) Head to the subdirectory `chemical/residue_type_sets/fa_standard/` to find the residue you're looking at. Residue `A:28` can be found in the `l-caa` folder, since it is a standard amino acid. The `ICOOR_INTERNAL` lines will provide torsion angles, (improper) bond angles, and bond lengths between subsequent atoms in this residue. From this you should be able to deduce Rosetta's ideal $N$-$C_\\alpha$ and $C_\\alpha$-$C$ bond lengths.\n",
    "\n",
    "These ideal values would for instance be used if we generated a new pose from an amino acid sequence. In fact, let's try that here:"
   ]
  },
  {
   "cell_type": "code",
   "execution_count": 33,
   "metadata": {},
   "outputs": [],
   "source": [
    "#! cd /Users/paul/anaconda3/envs/pyrosetta_env/lib/python3.7/site-packages/pyrosetta/database/chemical/residue_type_sets/fa_standard/\n",
    "#! ls"
   ]
  },
  {
   "cell_type": "code",
   "execution_count": 34,
   "metadata": {},
   "outputs": [
    {
     "name": "stdout",
     "output_type": "stream",
     "text": [
      "R\n",
      "R\n"
     ]
    }
   ],
   "source": [
    "tiny_seq = res_28.name1()\n",
    "print(tiny_seq)\n",
    "pose_tiny = pose_from_sequence(tiny_seq)\n",
    "print(pose_tiny.sequence())"
   ]
  },
  {
   "cell_type": "code",
   "execution_count": 35,
   "metadata": {},
   "outputs": [],
   "source": [
    "#xyz.Residue?"
   ]
  },
  {
   "cell_type": "code",
   "execution_count": 36,
   "metadata": {},
   "outputs": [
    {
     "name": "stdout",
     "output_type": "stream",
     "text": [
      "1.458001\n",
      "1.5232569999999999\n"
     ]
    }
   ],
   "source": [
    "N_xyz = pose_tiny.residue(1).xyz(\"N\")\n",
    "CA_xyz = pose_tiny.residue(1).xyz(\"CA\")\n",
    "C_xyz = pose_tiny.residue(1).xyz(\"C\")\n",
    "print((CA_xyz - N_xyz).norm())\n",
    "print((CA_xyz - C_xyz).norm())"
   ]
  },
  {
   "cell_type": "markdown",
   "metadata": {},
   "source": [
    "Efficiency Tip:\n",
    "\n",
    "When you are computing the distance between two points, you use\n",
    "\\begin{equation}\n",
    "    dist = \\sqrt{ (x_1-x_2)^2 + (y_1-y_2)^2 + (z_1-z_2)^2 }\n",
    "\\end{equation}\n",
    "which requires the somwhat slow evaluation of a square root. If you are computing the distance between two points to learn whether or not they are closer than some threshold, $\\tau$, you can actually avoid that square root.\n",
    "\n",
    "\\begin{align}\n",
    "    \\sqrt{ (x_1-x_2)^2 + (y_1-y_2)^2 + (z_1-z_2)^2 }     <= \\tau     \\tag{1} \\\\\n",
    "    \\sqrt{ (x_1-x_2)^2 + (y_1-y_2)^2 + (z_1-z_2)^2 } ^ 2 <= \\tau ^ 2 \\tag{2} \\\\\n",
    "           (x_1-x_2)^2 + (y_1-y_2)^2 + (z_1-z_2)^2       <= \\tau ^ 2 \\tag{3} \\\\\n",
    "\\end{align}\n",
    "\n",
    "The inequality holds when you square both sides in Eqn 2. So instead of comparing a distance to a threshold distance, compare a square distance against a squared threshold distance. Squaring a distance is fast; squarerooting a squared distance is slow. Use square distances instead of distances when you can.\n",
    "\n",
    "(That said: you're using *python*, even if the distance functions themselves are written in C++. The overhead of calling the C++ function from python dwarfs the cost of a square root. If you're using vector operations in numpy, then the sqrt can make a difference, but if you're writing python for loops to iterate over atom pairs, you're already spending vastly more time in the python layer than you are down in the actual calculations.)\n",
    "\n",
    "===\n",
    "\n",
    "Now lets figure out how to get angles in the protein. If the `Conformation` class has the angle we're looking for, we can use the AtomID objects we've already created:"
   ]
  },
  {
   "cell_type": "code",
   "execution_count": 37,
   "metadata": {},
   "outputs": [
    {
     "name": "stdout",
     "output_type": "stream",
     "text": [
      "1.913188766577386\n"
     ]
    }
   ],
   "source": [
    "angle = pose.conformation().bond_angle(N28, CA28, C28)\n",
    "print(angle)"
   ]
  },
  {
   "cell_type": "markdown",
   "metadata": {},
   "source": [
    "We can compute the above angle in degrees:"
   ]
  },
  {
   "cell_type": "code",
   "execution_count": 38,
   "metadata": {},
   "outputs": [
    {
     "data": {
      "text/plain": [
       "109.61764173672383"
      ]
     },
     "execution_count": 38,
     "metadata": {},
     "output_type": "execute_result"
    }
   ],
   "source": [
    "import math\n",
    "angle*180/math.pi # radian to degree"
   ]
  },
  {
   "cell_type": "markdown",
   "metadata": {},
   "source": [
    "Note how this compares to the expected angle based on a tetrahedral geometry for the $C_\\alpha$ carbon."
   ]
  },
  {
   "cell_type": "markdown",
   "metadata": {},
   "source": [
    "**Problem:** Try to calculate this angle using the xyz atom positions for N, CA, and C of residue A:28 in the protein. You can use the `Vector` function `v3 = v1.dot(v2)` along with `v1.norm()`. The vector angle between two vectors BA and BC is $arccos(\\frac{BA \\cdot BC}{|BA| |BC|})$."
   ]
  },
  {
   "cell_type": "code",
   "execution_count": 39,
   "metadata": {
    "deletable": false,
    "nbgrader": {
     "cell_type": "code",
     "checksum": "e9322fb59e7cc340903673d46081665d",
     "grade": true,
     "grade_id": "cell-e3d56bfd9f54d62a",
     "locked": false,
     "points": 0,
     "schema_version": 3,
     "solution": true
    }
   },
   "outputs": [
    {
     "name": "stdout",
     "output_type": "stream",
     "text": [
      "1.940806215484157 radian\n",
      "111.20000499999999 degree\n"
     ]
    }
   ],
   "source": [
    "# YOUR CODE HERE\n",
    "N_xyz = pose_tiny.residue(1).xyz(\"N\")\n",
    "CA_xyz = pose_tiny.residue(1).xyz(\"CA\")\n",
    "C_xyz = pose_tiny.residue(1).xyz(\"C\")\n",
    "\n",
    "# Find vector between atoms\n",
    "BA_vector = N_xyz - CA_xyz # CA and N\n",
    "BC_vector = C_xyz - CA_xyz # CA and C\n",
    "\n",
    "# Find dot product and norms\n",
    "dot_prod = BA_vector.dot(BC_vector) \n",
    "BA_norm = BA_vector.norm()\n",
    "BC_norm = BC_vector.norm()\n",
    "\n",
    "# Find vector angle between CA, C, and N\n",
    "vector_angle = math.acos(dot_prod/ ((BA_norm)*(BC_norm)))\n",
    "print(vector_angle, 'radian')\n",
    "print(vector_angle *180/math.pi, 'degree')"
   ]
  },
  {
   "cell_type": "markdown",
   "metadata": {},
   "source": [
    "## Pose Scoring"
   ]
  },
  {
   "cell_type": "markdown",
   "metadata": {},
   "source": [
    "The `Pose` class not only contains information about pose geometry, but also contains information about the energy, or score, of the conformation. The energy stored in a Pose object reflects the last time it was scored.\n",
    "\n",
    "Below, we show how to get Rosetta's default score function (which has the weights of different types of energy terms already set). Then we score a pose, which will update its energy values. We can see the energy function used along with the score in Rosetta Energy Units."
   ]
  },
  {
   "cell_type": "code",
   "execution_count": 40,
   "metadata": {},
   "outputs": [
    {
     "name": "stdout",
     "output_type": "stream",
     "text": [
      "\u001b[0mcore.scoring.ScoreFunctionFactory: {0} \u001b[0mSCOREFUNCTION: \u001b[32mref2015\u001b[0m\n"
     ]
    },
    {
     "data": {
      "text/plain": [
       "-538.7690318782074"
      ]
     },
     "execution_count": 40,
     "metadata": {},
     "output_type": "execute_result"
    }
   ],
   "source": [
    "sf = get_fa_scorefxn()\n",
    "sf(pose)"
   ]
  },
  {
   "cell_type": "markdown",
   "metadata": {},
   "source": [
    "The `Pose` object can then be the gateway to all sorts of useful energy information. Here we're printing out a pretty cryptic set of energy information for the 5th residue in the protein."
   ]
  },
  {
   "cell_type": "code",
   "execution_count": 41,
   "metadata": {},
   "outputs": [
    {
     "name": "stdout",
     "output_type": "stream",
     "text": [
      "( fa_atr; -6.77693) ( fa_rep; 1.02435) ( fa_sol; 4.3255) ( fa_intra_atr; -1.74456) ( fa_intra_rep; 2.53725) ( fa_intra_sol; 1.05863) ( fa_intra_atr_xover4; -0.430578) ( fa_intra_rep_xover4; 0.157688) ( fa_intra_sol_xover4; 0.197035) ( fa_intra_atr_nonprotein; 0) ( fa_intra_rep_nonprotein; 0) ( fa_intra_sol_nonprotein; 0) ( fa_intra_RNA_base_phos_atr; 0) ( fa_intra_RNA_base_phos_rep; 0) ( fa_intra_RNA_base_phos_sol; 0) ( fa_atr_dummy; 0) ( fa_rep_dummy; 0) ( fa_sol_dummy; 0) ( fa_vdw_tinker; 0) ( lk_hack; 0) ( lk_ball; 0) ( lk_ball_wtd; -0.117032) ( lk_ball_iso; 0) ( lk_ball_bridge; 0) ( lk_ball_bridge_uncpl; 0) ( coarse_fa_atr; 0) ( coarse_fa_rep; 0) ( coarse_fa_sol; 0) ( coarse_beadlj; 0) ( mm_lj_intra_rep; 0) ( mm_lj_intra_atr; 0) ( mm_lj_inter_rep; 0) ( mm_lj_inter_atr; 0) ( mm_twist; 0) ( mm_bend; 0) ( mm_stretch; 0) ( lk_costheta; 0) ( lk_polar; 0) ( lk_nonpolar; 0) ( lk_polar_intra_RNA; 0) ( lk_nonpolar_intra_RNA; 0) ( fa_elec; -2.04284) ( fa_elec_bb_bb; 0) ( fa_elec_bb_sc; 0) ( fa_elec_sc_sc; 0) ( fa_intra_elec; 0) ( h2o_hbond; 0) ( dna_dr; 0) ( dna_bp; 0) ( dna_bs; 0) ( dna_ref; 0) ( peptide_bond; 0) ( pcs; 0) ( pcsTs1; 0) ( pcsTs2; 0) ( pcsTs3; 0) ( pcsTs4; 0) ( pcs2; 0) ( fastsaxs; 0) ( saxs_score; 0) ( saxs_cen_score; 0) ( saxs_fa_score; 0) ( pddf_score; 0) ( fiberdiffraction; 0) ( fiberdiffractiondens; 0) ( fa_mbenv; 0) ( fa_mbsolv; 0) ( fa_elec_rna_phos_phos; 0) ( fa_elec_rna_phos_sugr; 0) ( fa_elec_rna_phos_base; 0) ( fa_elec_rna_sugr_sugr; 0) ( fa_elec_rna_sugr_base; 0) ( fa_elec_rna_base_base; 0) ( fa_elec_rna_phos_phos_fast; 0) ( fa_elec_rna_phos_sugr_fast; 0) ( fa_elec_rna_phos_base_fast; 0) ( fa_elec_rna_sugr_sugr_fast; 0) ( fa_elec_rna_sugr_base_fast; 0) ( fa_elec_rna_base_base_fast; 0) ( fa_elec_aro_aro; 0) ( fa_elec_aro_all; 0) ( hack_aro; 0) ( rna_fa_atr_base; 0) ( rna_fa_rep_base; 0) ( rna_data_backbone; 0) ( ch_bond; 0) ( ch_bond_bb_bb; 0) ( ch_bond_sc_sc; 0) ( ch_bond_bb_sc; 0) ( pro_close; 0.0266449) ( rama2b; 0) ( vdw; 0) ( cenpack; 0) ( cenpack_smooth; 0) ( cen_hb; 0) ( hybrid_vdw; 0) ( gauss; 0) ( rna_vdw; 0) ( rnp_vdw; 0) ( rna_base_backbone; 0) ( rna_backbone_backbone; 0) ( rna_repulsive; 0) ( rna_base_pair_pairwise; 0) ( rna_base_axis_pairwise; 0) ( rna_base_stagger_pairwise; 0) ( rna_base_stack_pairwise; 0) ( rna_base_stack_axis_pairwise; 0) ( rna_data_base; 0) ( rna_base_pair; 0) ( rna_base_axis; 0) ( rna_base_stagger; 0) ( rna_base_stack; 0) ( rna_base_stack_axis; 0) ( rnp_base_pair; 0) ( rnp_stack; 0) ( rnp_stack_xy; 0) ( rnp_pair; 0) ( rnp_pair_dist; 0) ( rnp_aa_to_rna_backbone; 0) ( rna_mg_point; 0) ( rna_mg_point_indirect; 0) ( mg; 0) ( mg_lig; 0) ( mg_sol; 0) ( mg_ref; 0) ( hoh_ref; 0) ( rna_torsion; 0) ( rna_torsion_sc; 0) ( rna_suite; 0) ( rna_jr_suite; 0) ( suiteness_bonus; 0) ( tna_suite; 0) ( rna_sugar_close; 0) ( fa_stack; 0) ( fa_stack_lower; 0) ( fa_stack_upper; 0) ( fa_stack_aro; 0) ( fa_stack_ext; 0) ( fa_stack_sol; 0) ( fa_stack_lr; 0) ( fa_stack_rna_protein; 0) ( fa_stack_rna_protein_aro; 0) ( ss_contact_worst; 0) ( stack_elec; 0) ( stack_elec_base_base; 0) ( stack_elec_base_bb; 0) ( alignment; 0) ( dna_bb_torsion; 0) ( dna_sugar_close; 0) ( dna_base_distance; 0) ( geom_sol_fast; 0) ( geom_sol_fast_intra_RNA; 0) ( fa_cust_pair_dist; 0) ( custom_atom_pair; 0) ( orbitals_hpol_bb; 0) ( pci_cation_pi; 0) ( pci_pi_pi; 0) ( pci_salt_bridge; 0) ( pci_hbond; 0) ( arg_cation_pi; 0) ( PyRosettaTwoBodyContextIndepenedentEnergy_first; 0) ( PyRosettaTwoBodyContextIndepenedentEnergy_162; 0) ( PyRosettaTwoBodyContextIndepenedentEnergy_163; 0) ( PyRosettaTwoBodyContextIndepenedentEnergy_164; 0) ( PyRosettaTwoBodyContextIndepenedentEnergy_165; 0) ( PyRosettaTwoBodyContextIndepenedentEnergy_166; 0) ( PyRosettaTwoBodyContextIndepenedentEnergy_167; 0) ( PyRosettaTwoBodyContextIndepenedentEnergy_168; 0) ( PyRosettaTwoBodyContextIndepenedentEnergy_169; 0) ( PyRosettaTwoBodyContextIndepenedentEnergy_170; 0) ( PyRosettaTwoBodyContextIndepenedentEnergy_last; 0) ( python; 0) ( fa_pair; 0) ( fa_pair_aro_aro; 0) ( fa_pair_aro_pol; 0) ( fa_pair_pol_pol; 0) ( hbond_sr_bb; 0) ( hbond_lr_bb; 0) ( hbond_bb_sc; -0.138824) ( hbond_sr_bb_sc; 0) ( hbond_lr_bb_sc; 0) ( hbond_sc; 0) ( hbond_intra; 0) ( hbond_wat; 0) ( wat_entropy; 0) ( hbond; 0) ( npd_hbond_sr_bb; 0) ( npd_hbond_lr_bb; 0) ( npd_hbond_bb_sc; 0) ( npd_hbond_sr_bb_sc; 0) ( npd_hbond_lr_bb_sc; 0) ( npd_hbond_sc; 0) ( npd_hbond_intra; 0) ( npd_hbond; 0) ( fa_grpelec; 0) ( PyRosettaTwoBodyContextDependentEnergy_first; 0) ( PyRosettaTwoBodyContextDependentEnergy_197; 0) ( PyRosettaTwoBodyContextDependentEnergy_198; 0) ( PyRosettaTwoBodyContextDependentEnergy_199; 0) ( PyRosettaTwoBodyContextDependentEnergy_200; 0) ( PyRosettaTwoBodyContextDependentEnergy_201; 0) ( PyRosettaTwoBodyContextDependentEnergy_202; 0) ( PyRosettaTwoBodyContextDependentEnergy_203; 0) ( PyRosettaTwoBodyContextDependentEnergy_204; 0) ( PyRosettaTwoBodyContextDependentEnergy_205; 0) ( PyRosettaTwoBodyContextDependentEnergy_last; 0) ( interface_dd_pair; 0) ( geom_sol; 0) ( geom_sol_intra_RNA; 0) ( occ_sol_fitted; 0) ( occ_sol_fitted_onebody; 0) ( occ_sol_exact; 0) ( cen_rot_pair; 0) ( cen_rot_pair_ang; 0) ( cen_rot_pair_dih; 0) ( pair; 0) ( cen_pair_smooth; 0) ( Mpair; 0) ( mp_pair; 0) ( fa_mpsolv; 0) ( suck; 0) ( rna_rg; 0) ( rna_motif; 0) ( facts_elec; 0) ( facts_solv; 0) ( facts_sasa; 0) ( motif_dock; 0) ( pointwater; 0) ( goap; 0) ( goap_dist; 0) ( goap_angle; 0) ( approximate_buried_unsat_penalty; 0) ( interchain_pair; 0) ( interchain_vdw; 0) ( gb_elec; 0) ( multipole_elec; 0) ( fa_sasa; 0) ( dslf_ss_dst; 0) ( dslf_cs_ang; 0) ( dslf_ss_dih; 0) ( dslf_ca_dih; 0) ( dslf_cbs_ds; 0) ( dslf_fa13; 0) ( dslfc_cen_dst; 0) ( dslfc_cb_dst; 0) ( dslfc_ang; 0) ( dslfc_cb_dih; 0) ( dslfc_bb_dih; 0) ( dslfc_rot; 0) ( dslfc_trans; 0) ( dslfc_RT; 0) ( atom_pair_constraint; 0) ( base_pair_constraint; 0) ( coarse_chainbreak_constraint; 0) ( constant_constraint; 0) ( coordinate_constraint; 0) ( angle_constraint; 0) ( dihedral_constraint; 0) ( big_bin_constraint; 0) ( dunbrack_constraint; 0) ( site_constraint; 0) ( metalhash_constraint; 0) ( metalbinding_constraint; 0) ( rna_stub_coord_hack; 0) ( bond_geometry; 0) ( rna_bond_geometry; 0) ( Hpol_bond_geometry; 0) ( rama; 0) ( omega; 0.153002) ( fa_dun; 5.71334) ( fa_dun_dev; 2.50582) ( fa_dun_rot; 3.20752) ( fa_dun_semi; 0) ( cen_rot_dun; 0) ( dna_chi; 0) ( p_aa_pp; -0.249304) ( p_aa_ss; 0) ( yhh_planarity; 0) ( hxl_tors; 0) ( h2o_intra; 0) ( ref; -0.09474) ( ref_nc; 0) ( seqdep_ref; 0) ( nmer_ref; 0) ( nmer_pssm; 0) ( nmer_svm; 0) ( envsmooth; 0) ( e_pH; 0) ( rna_bulge; 0) ( dna_dihedral_bb; 0) ( dna_dihedral_chi; 0) ( dna_dihedral_sugar; 0) ( sugar_bb; 0) ( free_suite; 0) ( free_2HOprime; 0) ( free_side_chain; 0) ( free_base; 0) ( free_res; 0) ( free_dof; 0) ( intermol; 0) ( other_pose; 0) ( special_rot; 0) ( PB_elec; 0) ( cen_env_smooth; 0) ( cbeta_smooth; 0) ( cen_rot_env; 0) ( cen_rot_cbeta; 0) ( env; 0) ( cbeta; 0) ( DFIRE; 0) ( Menv; 0) ( Mcbeta; 0) ( Menv_non_helix; 0) ( Menv_termini; 0) ( Menv_tm_proj; 0) ( Mlipo; 0) ( rg; 0) ( rg_local; 0) ( co; 0) ( hs_pair; 0) ( ss_pair; 0) ( rsigma; 0) ( sheet; 0) ( burial_v2; 0) ( burial; 0) ( abego; 0) ( covalent_labeling; 0) ( covalent_labeling_fa; 0) ( hrf_ms_labeling; 0) ( rnp_env; 0) ( loop_close; 0) ( missing_res; 0) ( mp_env; 0) ( mp_cbeta; 0) ( mp_lipo; 0) ( mp_termini; 0) ( mp_nonhelix; 0) ( mp_tmproj; 0) ( fa_mpenv; 0) ( fa_mpenv_smooth; 0) ( fa_water_to_bilayer; 0) ( mp_res_lipo; 0) ( span_ins; 0) ( mp_span_ang; 0) ( mp_helicality; 0) ( natbias_ss; 0) ( natbias_hs; 0) ( natbias_hh; 0) ( natbias_stwist; 0) ( aa_cmp; 0) ( dock_ens_conf; 0) ( csa; 0) ( dc; 0) ( rdc; 0) ( rdc_segments; 0) ( rdc_rohl; 0) ( nmr_pcs; 0) ( nmr_rdc; 0) ( nmr_pre; 0) ( cen_pair_motifs; 0) ( cen_pair_motif_degree; 0) ( holes; 0) ( holes_decoy; 0) ( holes_resl; 0) ( holes_min; 0) ( holes_min_mean; 0) ( rna_chem_shift; 0) ( rna_chem_map; 0) ( rna_chem_map_lores; 0) ( rna_partition; 0) ( dab_sasa; 0) ( dab_sev; 0) ( sa; 0) ( d2h_sa; 0) ( ProQM; 0) ( ProQ; 0) ( interchain_env; 0) ( interchain_contact; 0) ( chainbreak; 0) ( linear_chainbreak; 0) ( overlap_chainbreak; 0) ( distance_chainbreak; 0) ( dof_constraint; 0) ( branch_conn; 0) ( linear_branch_conn; 0) ( rama_prepro; 0.374753) ( paa_abego3; 0) ( cart_bonded; 0) ( cart_bonded_angle; 0) ( cart_bonded_length; 0) ( cart_bonded_ring; 0) ( cart_bonded_torsion; 0) ( cart_bonded_proper; 0) ( cart_bonded_improper; 0) ( gen_bonded; 0) ( gen_bonded_bond; 0) ( gen_bonded_angle; 0) ( gen_bonded_torsion; 0) ( gen_bonded_improper; 0) ( neigh_vect; 0) ( neigh_count; 0) ( neigh_vect_raw; 0) ( symE_bonus; 0) ( sym_lig; 0) ( mhc_epitope; 0) ( pack_stat; 0) ( rms_energy; 0) ( res_type_constraint; 0) ( res_type_linking_constraint; 0) ( pocket_constraint; 0) ( backbone_stub_constraint; 0) ( backbone_stub_linear_constraint; 0) ( surface; 0) ( p_aa; 0) ( unfolded; 0) ( split_unfolded_two_body; 0) ( fa_atr_ref; 0) ( fa_rep_ref; 0) ( fa_sol_ref; 0) ( fa_elec_ref; 0) ( hbond_ref; 0) ( dslf_fa13_ref; 0) ( fa_intra_atr_ref; 0) ( fa_intra_rep_ref; 0) ( fa_intra_sol_ref; 0) ( pro_close_ref; 0) ( fa_dun_ref; 0) ( fa_dun_dev_ref; 0) ( fa_dun_rot_ref; 0) ( fa_dun_semi_ref; 0) ( rama_ref; 0) ( p_aa_pp_ref; 0) ( omega_ref; 0) ( mm_lj_intra_rep_ref; 0) ( mm_lj_intra_atr_ref; 0) ( mm_twist_ref; 0) ( elec_dens_fast; 0) ( elec_dens_window; 0) ( elec_dens_whole_structure_ca; 0) ( elec_dens_whole_structure_allatom; 0) ( elec_dens_atomwise; 0) ( grid_vdw; 0) ( xtal_ml; 0) ( xtal_rwork; 0) ( xtal_rfree; 0) ( hpatch; 0) ( Menv_smooth; 0) ( wat_desolv; 0) ( ring_close; 0) ( aa_repeat; 0) ( aa_composition; 0) ( aspartimide_penalty; 0) ( hbnet; 0) ( buried_unsatisfied_penalty; 0) ( netcharge; 0) ( voids_penalty; 0) ( dna_env; 0) ( dna_pair; 0) ( dump_trajectory; 0) ( PyRosettaEnergy_first; 0) ( PyRosettaEnergy_461; 0) ( PyRosettaEnergy_462; 0) ( PyRosettaEnergy_463; 0) ( PyRosettaEnergy_464; 0) ( PyRosettaEnergy_465; 0) ( PyRosettaEnergy_466; 0) ( PyRosettaEnergy_467; 0) ( PyRosettaEnergy_468; 0) ( PyRosettaEnergy_469; 0) ( PyRosettaEnergy_last; 0) ( sidechain_neighbors; 0) ( membrane_span_constraint; 0) ( membrane_span_term_z_constraint; 0) ( aromatic_restraint; 0) ( total_score; 0.0411527) ( dummy_score_type; 0) \n"
     ]
    }
   ],
   "source": [
    "energy = pose.energies()\n",
    "print(energy.residue_total_energies(5))"
   ]
  },
  {
   "cell_type": "markdown",
   "metadata": {},
   "source": [
    "Scoring will be covered in much more detail in a subsequent lecture.\n",
    "\n",
    "Various score terms pertain to hydrogen bonds between residues. The `Pose` object can also give you easy access to the hydrogen bonds in the protein, including donor and acceptor atoms / residues."
   ]
  },
  {
   "cell_type": "markdown",
   "metadata": {},
   "source": [
    "The following gives information about all the hydrogen bonds in a pose:"
   ]
  },
  {
   "cell_type": "code",
   "execution_count": 42,
   "metadata": {},
   "outputs": [],
   "source": [
    "hbond_set = pose.get_hbonds()"
   ]
  },
  {
   "cell_type": "markdown",
   "metadata": {},
   "source": [
    "We can then access all the hydrogen bonds that involve a particular residue, below residue 5 in the pose's numbering scheme."
   ]
  },
  {
   "cell_type": "code",
   "execution_count": 43,
   "metadata": {},
   "outputs": [],
   "source": [
    "res_hbonds = hbond_set.residue_hbonds(5, False) # hydrogen-bond in residue 5"
   ]
  },
  {
   "cell_type": "markdown",
   "metadata": {},
   "source": [
    "Lets take a look at the first hydrogen bond this residue forms."
   ]
  },
  {
   "cell_type": "code",
   "execution_count": 44,
   "metadata": {},
   "outputs": [
    {
     "name": "stdout",
     "output_type": "stream",
     "text": [
      "Object `res_hbond.don_hatm` not found.\n"
     ]
    }
   ],
   "source": [
    "res_hbond.don_hatm?"
   ]
  },
  {
   "cell_type": "code",
   "execution_count": 45,
   "metadata": {},
   "outputs": [
    {
     "name": "stdout",
     "output_type": "stream",
     "text": [
      "5\n",
      "20\n",
      "502\n",
      "4\n"
     ]
    }
   ],
   "source": [
    "res_hbond = res_hbonds[1]\n",
    "don_res = res_hbond.don_res()\n",
    "acc_res = res_hbond.acc_res()\n",
    "don_hatm = res_hbond.don_hatm()\n",
    "acc_atm = res_hbond.acc_atm()\n",
    "print(don_res)\n",
    "print(don_hatm)\n",
    "print(acc_res)\n",
    "print(acc_atm)"
   ]
  },
  {
   "cell_type": "markdown",
   "metadata": {},
   "source": [
    "Can you figure out the atom names for the donor and acceptor atoms for the hydrogen bond above?"
   ]
  },
  {
   "cell_type": "code",
   "execution_count": 46,
   "metadata": {
    "deletable": false,
    "nbgrader": {
     "cell_type": "code",
     "checksum": "da42c12afc54aedfcf5e1a995a86b691",
     "grade": true,
     "grade_id": "cell-57b7144a32fbadcb",
     "locked": false,
     "points": 0,
     "schema_version": 3,
     "solution": true
    }
   },
   "outputs": [
    {
     "name": "stdout",
     "output_type": "stream",
     "text": [
      "Heteroatom on the donor residue:  HE \n",
      "Atom on the acceptor residue:  O  \n"
     ]
    }
   ],
   "source": [
    "# YOUR CODE HERE\n",
    "donor_residue = pose.residue(don_res) # residue 5\n",
    "print(\"Heteroatom on the donor residue:\", donor_residue.atom_name(don_hatm))\n",
    "\n",
    "acceptor_residue = pose.residue(acc_res) # residue 502\n",
    "print(\"Atom on the acceptor residue:\", acceptor_residue.atom_name(acc_atm))"
   ]
  },
  {
   "cell_type": "markdown",
   "metadata": {},
   "source": [
    "## Exercises ##"
   ]
  },
  {
   "cell_type": "markdown",
   "metadata": {},
   "source": [
    "The following exercises are meant to get you more comfortable with `Pose` methods and python coding. Many will require looping through the residues in a pose. As you find residues that answer these questions, zoom in on them in PyMOL to check your work.\n",
    "\n",
    "**PyMOL Instructios:** View the protein in PyMOL, view as cartoon, view Zn2+ atoms as spheres, and color the substrate mimic residue distinctly.\n",
    "```\n",
    "show cartoon; show spheres, resn zn; color orange, resn tpo\n",
    "```"
   ]
  },
  {
   "cell_type": "markdown",
   "metadata": {},
   "source": [
    "### Active Site Residues"
   ]
  },
  {
   "cell_type": "markdown",
   "metadata": {},
   "source": [
    "1. Find all residues that have any side-chain atoms in hydrogen bonding distance (< 2.5 A) to the active site. Find all residues that coordinate with the Zn2+ atoms (< 2.3 A). These residues may have a role in catalysis.\n",
    "\n",
    "Hint: iterate across all residues, and then across all atoms"
   ]
  },
  {
   "cell_type": "code",
   "execution_count": 47,
   "metadata": {
    "deletable": false,
    "nbgrader": {
     "cell_type": "code",
     "checksum": "38bd93ec06f91f83c3167d3c3eb4ebf1",
     "grade": true,
     "grade_id": "cell-5025dd3880de6fb2",
     "locked": false,
     "points": 0,
     "schema_version": 3,
     "solution": true
    }
   },
   "outputs": [
    {
     "name": "stdout",
     "output_type": "stream",
     "text": [
      "Residue number 55 is H-bonding with active residue\n",
      "Residue number 57 is H-bonding with active residue\n",
      "Residue number 60 is H-bonding with active residue\n",
      "Residue number 77 is H-bonding with active residue\n",
      "Residue number 139 is H-bonding with active residue\n",
      "Residue number 141 is H-bonding with active residue\n",
      "Residue number 329 is H-bonding with active residue\n",
      "Residue number 461 is H-bonding with active residue\n",
      "Residue number 521 is H-bonding with active residue\n",
      "Residue number 522 is H-bonding with active residue\n"
     ]
    }
   ],
   "source": [
    "# YOUR CODE HERE\n",
    "# Reference residue\n",
    "active_resid_index = pose.pdb_info().pdb2pose(\"A\",79)\n",
    "active_residue = pose.residue(active_resid_index)\n",
    "\n",
    "# Initialize\n",
    "res_out_hbond = []\n",
    "total_number_of_residues = pose.total_residue()\n",
    "total_no_of_atoms_in_active_res = active_residue.natoms()\n",
    "\n",
    "# Loop\n",
    "for i in range(1, total_number_of_residues + 1):\n",
    "    if i == active_resid_index:\n",
    "        continue\n",
    "        \n",
    "    res = pose.residue(i)\n",
    "    total_no_of_atoms_in_res_i = res.natoms()\n",
    "    \n",
    "    for j in range(1, total_no_of_atoms_in_res_i + 1):\n",
    "        # Coord of atom in question\n",
    "        atom_xyz = res.xyz(j) \n",
    "\n",
    "        for k in range(1, total_no_of_atoms_in_active_res + 1):\n",
    "            # Coord of atom in active residue\n",
    "            active_xyz = active_residue.xyz(k)\n",
    "            \n",
    "            # Calculate the distance between reference residue and atom in question\n",
    "            dist = atom_xyz.distance_squared(active_xyz)\n",
    "            \n",
    "            if dist < (2.5**2):\n",
    "                if i not in res_out_hbond:\n",
    "                    res_out_hbond.append(i)\n",
    "                \n",
    "# Print output\n",
    "for item in res_out_hbond:\n",
    "    print(\"Residue number\", item, \"is H-bonding with active residue\")"
   ]
  },
  {
   "cell_type": "code",
   "execution_count": 48,
   "metadata": {},
   "outputs": [
    {
     "name": "stdout",
     "output_type": "stream",
     "text": [
      "Residue 521: ZN ( ZN, Z):\n",
      "Base: ZN\n",
      " Properties: LIGAND METAL\n",
      " Variant types:\n",
      " Main-chain atoms:\n",
      " Backbone atoms:  \n",
      " Side-chain atoms: ZN    V1   V2   V3   V4 \n",
      "Atom Coordinates:\n",
      "  ZN  : -5.484, -29.855, 32.338\n",
      "   V1 : -5.79775, -31.3542, 33.9173 (virtual)\n",
      "   V2 : -6.83218, -30.2729, 30.6505 (virtual)\n",
      "   V3 : -5.90849, -27.8489, 33.135 (virtual)\n",
      "   V4 : -3.39714, -29.942, 31.647 (virtual)\n",
      "Mirrored relative to coordinates in ResidueType: FALSE\n",
      "\n"
     ]
    }
   ],
   "source": [
    "zn_resid = pose.pdb_info().pdb2pose('A', 601)\n",
    "res_zn = pose.residue(zn_resid) \n",
    "print(res_zn)"
   ]
  },
  {
   "cell_type": "code",
   "execution_count": 49,
   "metadata": {},
   "outputs": [
    {
     "name": "stdout",
     "output_type": "stream",
     "text": [
      "Residue number 15 is coordinating with Zn\n",
      "Residue number 56 is coordinating with Zn\n",
      "Residue number 329 is coordinating with Zn\n",
      "Residue number 330 is coordinating with Zn\n",
      "Residue number 461 is coordinating with Zn\n",
      "Residue number 522 is coordinating with Zn\n"
     ]
    }
   ],
   "source": [
    "# Reference Zn\n",
    "zn_resid = pose.pdb_info().pdb2pose('A', 601)\n",
    "res_zn = pose.residue(zn_resid) \n",
    "\n",
    "# Initialize\n",
    "res_out_Zn = []\n",
    "total_number_of_residues = pose.total_residue()\n",
    "total_no_of_atoms_in_active_res = active_residue.natoms()\n",
    "\n",
    "# Loop\n",
    "for i in range(1, total_number_of_residues + 1):\n",
    "    if i == zn_resid:\n",
    "        continue\n",
    "        \n",
    "    res = pose.residue(i)\n",
    "    total_no_of_atoms_in_res_i = res.natoms()\n",
    "    \n",
    "    for j in range(1, total_no_of_atoms_in_res_i + 1):\n",
    "        # Coord of atom in question\n",
    "        atom_xyz = res.xyz(j) \n",
    "\n",
    "        for k in range(1, total_no_of_atoms_in_active_res + 1):\n",
    "            # Coord of atom in active residue Zn\n",
    "            active_xyz = res_zn.xyz(k)\n",
    "            \n",
    "            # Calculate the distance between reference residue and atom in question\n",
    "            dist = atom_xyz.distance_squared(active_xyz)\n",
    "            \n",
    "            if dist < (2.3**2):\n",
    "                if i not in res_out_Zn:\n",
    "                    res_out_Zn.append(i)\n",
    "                \n",
    "# Print output\n",
    "for item in res_out_Zn:\n",
    "    print(\"Residue number\", item, \"is coordinating with Zn\")"
   ]
  },
  {
   "cell_type": "markdown",
   "metadata": {},
   "source": [
    "2. Get all residue types within 8 A of the active site. Are there any patterns in terms of residue types here?"
   ]
  },
  {
   "cell_type": "code",
   "execution_count": 50,
   "metadata": {
    "deletable": false,
    "nbgrader": {
     "cell_type": "code",
     "checksum": "eab6f803fb5b4501e3637cc28b1aef08",
     "grade": true,
     "grade_id": "cell-396a392024f0864c",
     "locked": false,
     "points": 0,
     "schema_version": 3,
     "solution": true
    }
   },
   "outputs": [
    {
     "name": "stdout",
     "output_type": "stream",
     "text": [
      "13 Residue 13: VAL (VAL, V):\n",
      "Base: VAL\n",
      " Properties: POLYMER PROTEIN CANONICAL_AA HYDROPHOBIC ALIPHATIC METALBINDING ALPHA_AA L_AA\n",
      " Variant types:\n",
      " Main-chain atoms:  N    CA   C  \n",
      " Backbone atoms:    N    CA   C    O    H    HA \n",
      " Side-chain atoms:  CB   CG1  CG2  HB  1HG1 2HG1 3HG1 1HG2 2HG2 3HG2\n",
      "Atom Coordinates:\n",
      "   N  : -0.834, -29.491, 41.205\n",
      "   CA : -1.754, -28.823, 40.296\n",
      "   C  : -2.902, -29.782, 40.01\n",
      "   O  : -2.699, -30.873, 39.461\n",
      "   CB : -1.059, -28.316, 39.018\n",
      "   CG1: 0.35, -28.863, 38.894\n",
      "   CG2: -1.91, -28.531, 37.769\n",
      "   H  : -0.445882, -30.3857, 40.9425\n",
      "   HA : -2.17786, -27.9576, 40.8068\n",
      "   HB : -0.865477, -27.2481, 39.12\n",
      "  1HG1: 0.808741, -28.4834, 37.9806\n",
      "  2HG1: 0.939952, -28.5469, 39.7541\n",
      "  3HG1: 0.315615, -29.9516, 38.8564\n",
      "  1HG2: -1.37607, -28.1564, 36.8962\n",
      "  2HG2: -2.10975, -29.5954, 37.6435\n",
      "  3HG2: -2.85332, -27.9949, 37.8747\n",
      "Mirrored relative to coordinates in ResidueType: FALSE\n",
      "\n",
      "14 Residue 14: VAL (VAL, V):\n",
      "Base: VAL\n",
      " Properties: POLYMER PROTEIN CANONICAL_AA HYDROPHOBIC ALIPHATIC METALBINDING ALPHA_AA L_AA\n",
      " Variant types:\n",
      " Main-chain atoms:  N    CA   C  \n",
      " Backbone atoms:    N    CA   C    O    H    HA \n",
      " Side-chain atoms:  CB   CG1  CG2  HB  1HG1 2HG1 3HG1 1HG2 2HG2 3HG2\n",
      "Atom Coordinates:\n",
      "   N  : -4.095, -29.393, 40.451\n",
      "   CA : -5.302, -30.196, 40.295\n",
      "   C  : -5.867, -29.898, 38.915\n",
      "   O  : -6.309, -28.781, 38.639\n",
      "   CB : -6.326, -29.894, 41.392\n",
      "   CG1: -7.555, -30.77, 41.22\n",
      "   CG2: -5.703, -30.092, 42.762\n",
      "   H  : -4.15627, -28.4976, 40.9142\n",
      "   HA : -5.02866, -31.2493, 40.3676\n",
      "   HB : -6.65737, -28.8603, 41.2923\n",
      "  1HG1: -8.27554, -30.5447, 42.0067\n",
      "  2HG1: -8.0074, -30.5752, 40.2478\n",
      "  3HG1: -7.26592, -31.8189, 41.2834\n",
      "  1HG2: -6.44168, -29.8732, 43.5325\n",
      "  2HG2: -5.36714, -31.1242, 42.8633\n",
      "  3HG2: -4.8515, -29.4207, 42.875\n",
      "Mirrored relative to coordinates in ResidueType: FALSE\n",
      "\n",
      "15 Residue 15: ASP (ASP, D):\n",
      "Base: ASP\n",
      " Properties: POLYMER PROTEIN CANONICAL_AA SC_ORBITALS POLAR CHARGED NEGATIVE_CHARGE METALBINDING ALPHA_AA L_AA\n",
      " Variant types:\n",
      " Main-chain atoms:  N    CA   C  \n",
      " Backbone atoms:    N    CA   C    O    H    HA \n",
      " Side-chain atoms:  CB   CG   OD1  OD2 1HB  2HB \n",
      "Atom Coordinates:\n",
      "   N  : -5.847, -30.899, 38.049\n",
      "   CA : -6.173, -30.689, 36.649\n",
      "   C  : -7.645, -30.32, 36.488\n",
      "   O  : -8.531, -31.025, 36.98\n",
      "   CB : -5.832, -31.949, 35.862\n",
      "   CG : -5.532, -31.66, 34.423\n",
      "   OD1: -6.277, -30.86, 33.828\n",
      "   OD2: -4.55, -32.222, 33.893\n",
      "   H  : -5.60123, -31.8269, 38.3631\n",
      "   HA : -5.5743, -29.8579, 36.2752\n",
      "  1HB : -4.967, -32.4364, 36.3123\n",
      "  2HB : -6.66668, -32.6486, 35.9154\n",
      "Mirrored relative to coordinates in ResidueType: FALSE\n",
      "\n",
      "16 Residue 16: GLN (GLN, Q):\n",
      "Base: GLN\n",
      " Properties: POLYMER PROTEIN CANONICAL_AA SC_ORBITALS POLAR METALBINDING ALPHA_AA L_AA\n",
      " Variant types:\n",
      " Main-chain atoms:  N    CA   C  \n",
      " Backbone atoms:    N    CA   C    O    H    HA \n",
      " Side-chain atoms:  CB   CG   CD   OE1  NE2 1HB  2HB  1HG  2HG  1HE2 2HE2\n",
      "Atom Coordinates:\n",
      "   N  : -7.893, -29.192, 35.816\n",
      "   CA : -9.224, -28.671, 35.51\n",
      "   C  : -9.962, -28.154, 36.741\n",
      "   O  : -11.194, -28.055, 36.73\n",
      "   CB : -10.088, -29.717, 34.788\n",
      "   CG : -11.139, -29.125, 33.868\n",
      "   CD : -12.132, -30.156, 33.364\n",
      "   OE1: -13.272, -30.209, 33.825\n",
      "   NE2: -11.705, -30.975, 32.409\n",
      "   H  : -7.08042, -28.6781, 35.5065\n",
      "   HA : -9.1151, -27.809, 34.8521\n",
      "  1HB : -9.44851, -30.3694, 34.1934\n",
      "  2HB : -10.5965, -30.3395, 35.524\n",
      "  1HG : -11.6936, -28.3601, 34.4115\n",
      "  2HG : -10.6432, -28.6834, 33.0035\n",
      "  1HE2: -12.3173, -31.6749, 32.0387\n",
      "  2HE2: -10.7716, -30.8928, 32.0595\n",
      "Mirrored relative to coordinates in ResidueType: FALSE\n",
      "\n",
      "49 Residue 49: ILE (ILE, I):\n",
      "Base: ILE\n",
      " Properties: POLYMER PROTEIN CANONICAL_AA HYDROPHOBIC ALIPHATIC METALBINDING ALPHA_AA L_AA\n",
      " Variant types:\n",
      " Main-chain atoms:  N    CA   C  \n",
      " Backbone atoms:    N    CA   C    O    H    HA \n",
      " Side-chain atoms:  CB   CG1  CG2  CD1  HB  1HG1 2HG1 1HG2 2HG2 3HG2 1HD1 2HD1 3HD1\n",
      "Atom Coordinates:\n",
      "   N  : -5.18, -16.986, 34.296\n",
      "   CA : -4.193, -17.425, 33.32\n",
      "   C  : -4.025, -16.336, 32.271\n",
      "   O  : -5.005, -15.898, 31.658\n",
      "   CB : -4.631, -18.75, 32.68\n",
      "   CG1: -4.792, -19.831, 33.751\n",
      "   CG2: -3.649, -19.167, 31.623\n",
      "   CD1: -5.369, -21.122, 33.228\n",
      "   H  : -6.11573, -17.3638, 34.2535\n",
      "   HA : -3.24485, -17.5806, 33.8333\n",
      "   HB : -5.61302, -18.6267, 32.2244\n",
      "  1HG1: -3.82258, -20.0461, 34.1992\n",
      "  2HG1: -5.44341, -19.4633, 34.5443\n",
      "  1HG2: -3.97131, -20.1081, 31.178\n",
      "  2HG2: -3.59758, -18.3999, 30.8516\n",
      "  3HG2: -2.66413, -19.2966, 32.0721\n",
      "  1HD1: -5.45394, -21.8398, 34.0443\n",
      "  2HD1: -6.35674, -20.9345, 32.8054\n",
      "  3HD1: -4.71493, -21.5265, 32.4569\n",
      "Mirrored relative to coordinates in ResidueType: FALSE\n",
      "\n",
      "51 Residue 51: TYR (TYR, Y):\n",
      "Base: TYR\n",
      " Properties: POLYMER PROTEIN CANONICAL_AA SC_ORBITALS HYDROPHOBIC AROMATIC CYCLIC METALBINDING ALPHA_AA L_AA\n",
      " Variant types:\n",
      " Main-chain atoms:  N    CA   C  \n",
      " Backbone atoms:    N    CA   C    O    H    HA \n",
      " Ring atoms:    CG   CD1  CE1  CZ   CE2  CD2\n",
      " Side-chain atoms:  CB   CG   CD1  CD2  CE1  CE2  CZ   OH  1HB  2HB   HD1  HD2  HE1  HE2  HH \n",
      "Ring Conformer: P (planar): C-P parameters (q, phi, theta): 0, 0, 0; nu angles (degrees): 0, 0, 0, 0, 0, 0\n",
      "  CB : equatorial\n",
      "  OH : equatorial\n",
      "Atom Coordinates:\n",
      "   N  : -2.689, -16.195, 29.235\n",
      "   CA : -2.488, -16.574, 27.841\n",
      "   C  : -3.692, -17.385, 27.384\n",
      "   O  : -4.56, -17.749, 28.179\n",
      "   CB : -1.209, -17.394, 27.654\n",
      "   CG : -1.215, -18.647, 28.496\n",
      "   CD1: -1.921, -19.782, 28.097\n",
      "   CD2: -0.541, -18.687, 29.704\n",
      "   CE1: -1.949, -20.911, 28.876\n",
      "   CE2: -0.553, -19.815, 30.483\n",
      "   CZ : -1.261, -20.921, 30.067\n",
      "   OH : -1.273, -22.041, 30.853\n",
      "   H  : -3.3104, -16.7459, 29.8099\n",
      "   HA : -2.39606, -15.6655, 27.2453\n",
      "  1HB : -1.10282, -17.6687, 26.6035\n",
      "  2HB : -0.345095, -16.7867, 27.9223\n",
      "   HD1: -2.46336, -19.7821, 27.1512\n",
      "   HD2: 0.00984383, -17.8124, 30.05\n",
      "   HE1: -2.50662, -21.787, 28.5459\n",
      "   HE2: -0.00516001, -19.8325, 31.4255\n",
      "   HH : -0.746841, -21.8835, 31.6407\n",
      "Mirrored relative to coordinates in ResidueType: FALSE\n",
      "\n",
      "53 Residue 53: PRO (PRO, P):\n",
      "Base: PRO\n",
      " Properties: POLYMER PROTEIN CANONICAL_AA ALIPHATIC METALBINDING ALPHA_AA L_AA\n",
      " Variant types:\n",
      " Main-chain atoms:  N    CA   C  \n",
      " Backbone atoms:    N    CA   C    O    HA \n",
      " Side-chain atoms:  CB   CG   CD   NV  1HB  2HB  1HG  2HG  1HD  2HD \n",
      "Atom Coordinates:\n",
      "   N  : -4.142, -20.835, 24.397\n",
      "   CA : -5.291, -21.53, 24.987\n",
      "   C  : -5.029, -22.073, 26.388\n",
      "   O  : -3.891, -22.399, 26.727\n",
      "   CB : -5.531, -22.675, 24.007\n",
      "   CG : -4.165, -23.003, 23.515\n",
      "   CD : -3.437, -21.689, 23.422\n",
      "   NV : -4.15445, -20.8507, 24.4014 (virtual)\n",
      "   HA : -6.152, -20.846, 25.0153\n",
      "  1HB : -6.01888, -23.5154, 24.5225\n",
      "  2HB : -6.21253, -22.3492, 23.2074\n",
      "  1HG : -3.66925, -23.6998, 24.2068\n",
      "  2HG : -4.22384, -23.5105, 22.5408\n",
      "  1HD : -2.38259, -21.8329, 23.7004\n",
      "  2HD : -3.51786, -21.2961, 22.3977\n",
      "Mirrored relative to coordinates in ResidueType: FALSE\n",
      "\n",
      "54 Residue 54: THR (THR, T):\n",
      "Base: THR\n",
      " Properties: POLYMER PROTEIN CANONICAL_AA SC_ORBITALS POLAR METALBINDING ALPHA_AA L_AA\n",
      " Variant types:\n",
      " Main-chain atoms:  N    CA   C  \n",
      " Backbone atoms:    N    CA   C    O    H    HA \n",
      " Side-chain atoms:  CB   OG1  CG2  HB   HG1 1HG2 2HG2 3HG2\n",
      "Atom Coordinates:\n",
      "   N  : -6.085, -22.178, 27.192\n",
      "   CA : -5.966, -22.679, 28.561\n",
      "   C  : -6.086, -24.206, 28.566\n",
      "   O  : -7.083, -24.794, 28.99\n",
      "   CB : -7.005, -22.02, 29.459\n",
      "   OG1: -8.297, -22.098, 28.844\n",
      "   CG2: -6.647, -20.558, 29.693\n",
      "   H  : -6.99326, -21.9037, 26.8457\n",
      "   HA : -4.97259, -22.4305, 28.9352\n",
      "   HB : -7.04103, -22.5401, 30.416\n",
      "   HG1: -8.22215, -22.5495, 27.9998\n",
      "  1HG2: -7.3969, -20.0983, 30.3365\n",
      "  2HG2: -5.66981, -20.4948, 30.1715\n",
      "  3HG2: -6.61787, -20.0336, 28.7388\n",
      "Mirrored relative to coordinates in ResidueType: FALSE\n",
      "\n",
      "55 Residue 55: VAL (VAL, V):\n",
      "Base: VAL\n",
      " Properties: POLYMER PROTEIN CANONICAL_AA HYDROPHOBIC ALIPHATIC METALBINDING ALPHA_AA L_AA\n",
      " Variant types:\n",
      " Main-chain atoms:  N    CA   C  \n",
      " Backbone atoms:    N    CA   C    O    H    HA \n",
      " Side-chain atoms:  CB   CG1  CG2  HB  1HG1 2HG1 3HG1 1HG2 2HG2 3HG2\n",
      "Atom Coordinates:\n",
      "   N  : -5.023, -24.847, 28.084\n",
      "   CA : -4.942, -26.305, 28.06\n",
      "   C  : -3.832, -26.797, 28.99\n",
      "   O  : -3.107, -25.996, 29.581\n",
      "   CB : -4.732, -26.824, 26.629\n",
      "   CG1: -5.847, -26.329, 25.729\n",
      "   CG2: -3.375, -26.391, 26.099\n",
      "   H  : -4.25007, -24.3053, 27.7244\n",
      "   HA : -5.88163, -26.7101, 28.4375\n",
      "   HB : -4.78345, -27.9129, 26.6361\n",
      "  1HG1: -5.6902, -26.702, 24.7165\n",
      "  2HG1: -6.8045, -26.6901, 26.1039\n",
      "  3HG1: -5.84825, -25.2393, 25.7171\n",
      "  1HG2: -3.24332, -26.768, 25.0852\n",
      "  2HG2: -3.31746, -25.3024, 26.0922\n",
      "  3HG2: -2.5893, -26.7918, 26.7397\n",
      "Mirrored relative to coordinates in ResidueType: FALSE\n",
      "\n",
      "57 Residue 57: ALA (ALA, A):\n",
      "Base: ALA\n",
      " Properties: POLYMER PROTEIN CANONICAL_AA ALIPHATIC METALBINDING ALPHA_AA L_AA\n",
      " Variant types:\n",
      " Main-chain atoms:  N    CA   C  \n",
      " Backbone atoms:    N    CA   C    O    H    HA \n",
      " Side-chain atoms:  CB  1HB  2HB  3HB \n",
      "Atom Coordinates:\n",
      "   N  : -0.821, -28.829, 28.767\n",
      "   CA : 0.616, -28.74, 28.533\n",
      "   C  : 1.124, -27.34, 28.839\n",
      "   O  : 2.157, -27.182, 29.483\n",
      "   CB : 0.956, -29.128, 27.107\n",
      "   H  : -1.42251, -29.1449, 28.0197\n",
      "   HA : 1.11316, -29.4337, 29.2112\n",
      "  1HB : 2.03307, -29.0538, 26.9567\n",
      "  2HB : 0.633553, -30.1527, 26.922\n",
      "  3HB : 0.446687, -28.4576, 26.4166\n",
      "Mirrored relative to coordinates in ResidueType: FALSE\n",
      "\n",
      "58 Residue 58: ILE (ILE, I):\n",
      "Base: ILE\n",
      " Properties: POLYMER PROTEIN CANONICAL_AA HYDROPHOBIC ALIPHATIC METALBINDING ALPHA_AA L_AA\n",
      " Variant types:\n",
      " Main-chain atoms:  N    CA   C  \n",
      " Backbone atoms:    N    CA   C    O    H    HA \n",
      " Side-chain atoms:  CB   CG1  CG2  CD1  HB  1HG1 2HG1 1HG2 2HG2 3HG2 1HD1 2HD1 3HD1\n",
      "Atom Coordinates:\n",
      "   N  : 0.383, -26.323, 28.391\n",
      "   CA : 0.801, -24.951, 28.649\n",
      "   C  : 0.647, -24.61, 30.123\n",
      "   O  : 1.51, -23.95, 30.712\n",
      "   CB : 0.014, -23.961, 27.779\n",
      "   CG1: -0.1, -24.456, 26.344\n",
      "   CG2: 0.717, -22.636, 27.794\n",
      "   CD1: -0.886, -23.515, 25.461\n",
      "   H  : -0.467972, -26.4889, 27.8729\n",
      "   HA : 1.85801, -24.8595, 28.4021\n",
      "   HB : -0.993612, -23.8477, 28.1777\n",
      "  1HG1: 0.896713, -24.5827, 25.9227\n",
      "  2HG1: -0.584872, -25.4325, 26.3333\n",
      "  1HG2: 0.166474, -21.9251, 27.1783\n",
      "  2HG2: 0.770887, -22.2646, 28.8164\n",
      "  3HG2: 1.7255, -22.7546, 27.3974\n",
      "  1HD1: -0.934569, -23.92, 24.4499\n",
      "  2HD1: -1.89634, -23.4036, 25.8562\n",
      "  3HD1: -0.395617, -22.5429, 25.4384\n",
      "Mirrored relative to coordinates in ResidueType: FALSE\n",
      "\n",
      "59 Residue 59: GLY (GLY, G):\n",
      "Base: GLY\n",
      " Properties: POLYMER PROTEIN CANONICAL_AA METALBINDING ALPHA_AA ACHIRAL_BACKBONE ACHIRAL_SIDECHAIN\n",
      " Variant types:\n",
      " Main-chain atoms:  N    CA   C  \n",
      " Backbone atoms:    N    CA   C    O    H   1HA  2HA \n",
      " Side-chain atoms:\n",
      "Atom Coordinates:\n",
      "   N  : -0.464, -25.031, 30.733\n",
      "   CA : -0.701, -24.706, 32.13\n",
      "   C  : 0.409, -25.195, 33.037\n",
      "   O  : 0.941, -24.438, 33.851\n",
      "   H  : -1.14948, -25.578, 30.232\n",
      "  1HA : -0.799661, -23.626, 32.2407\n",
      "  2HA : -1.64273, -25.1491, 32.4517\n",
      "Mirrored relative to coordinates in ResidueType: FALSE\n",
      "\n",
      "60 Residue 60: HIS (HIS, H):\n",
      "Base: HIS\n",
      " Properties: POLYMER PROTEIN CANONICAL_AA SC_ORBITALS POLAR CYCLIC METALBINDING ALPHA_AA L_AA\n",
      " Variant types:\n",
      " Main-chain atoms:  N    CA   C  \n",
      " Backbone atoms:    N    CA   C    O    H    HA \n",
      " Ring atoms:    CG   ND1  CE1  NE2  CD2\n",
      " Side-chain atoms:  CB   CG   ND1  CD2  CE1  NE2 1HB  2HB   HD2  HE1  HE2\n",
      "Ring Conformer: P (planar): C-P parameters (q, phi, theta): 0, 0; nu angles (degrees): 0, 0, 0, 0, 0\n",
      "  CB : equatorial\n",
      "Atom Coordinates:\n",
      "   N  : 0.78, -26.468, 32.903\n",
      "   CA : 1.866, -26.997, 33.72\n",
      "   C  : 3.19, -26.331, 33.373\n",
      "   O  : 3.997, -26.041, 34.263\n",
      "   CB : 1.951, -28.514, 33.558\n",
      "   CG : 0.841, -29.246, 34.244\n",
      "   ND1: -0.416, -29.374, 33.696\n",
      "   CD2: 0.789, -29.854, 35.452\n",
      "   CE1: -1.191, -30.045, 34.529\n",
      "   NE2: -0.483, -30.346, 35.603\n",
      "   H  : 0.32001, -27.0773, 32.2418\n",
      "   HA : 1.67389, -26.7739, 34.7691\n",
      "  1HB : 1.9287, -28.7687, 32.4978\n",
      "  2HB : 2.89901, -28.8702, 33.9602\n",
      "   HD2: 1.6059, -29.9414, 36.1688\n",
      "   HE1: -2.23534, -30.3055, 34.3584\n",
      "   HE2: -0.818306, -30.8557, 36.408\n",
      "Mirrored relative to coordinates in ResidueType: FALSE\n",
      "\n",
      "61 Residue 61: THR (THR, T):\n",
      "Base: THR\n",
      " Properties: POLYMER PROTEIN CANONICAL_AA SC_ORBITALS POLAR METALBINDING ALPHA_AA L_AA\n",
      " Variant types:\n",
      " Main-chain atoms:  N    CA   C  \n",
      " Backbone atoms:    N    CA   C    O    H    HA \n",
      " Side-chain atoms:  CB   OG1  CG2  HB   HG1 1HG2 2HG2 3HG2\n",
      "Atom Coordinates:\n",
      "   N  : 3.424, -26.059, 32.088\n",
      "   CA : 4.65, -25.374, 31.694\n",
      "   C  : 4.709, -23.97, 32.282\n",
      "   O  : 5.731, -23.564, 32.842\n",
      "   CB : 4.759, -25.32, 30.17\n",
      "   OG1: 4.76, -26.653, 29.643\n",
      "   CG2: 6.038, -24.606, 29.749\n",
      "   H  : 2.75766, -26.3232, 31.3765\n",
      "   HA : 5.49991, -25.9326, 32.0868\n",
      "   HB : 3.901, -24.7856, 29.7626\n",
      "   HG1: 4.69195, -27.2821, 30.3654\n",
      "  1HG2: 6.09741, -24.5773, 28.6612\n",
      "  2HG2: 6.03201, -23.5885, 30.1394\n",
      "  3HG2: 6.90025, -25.141, 30.1449\n",
      "Mirrored relative to coordinates in ResidueType: FALSE\n",
      "\n",
      "62 Residue 62: SER (SER, S):\n",
      "Base: SER\n",
      " Properties: POLYMER PROTEIN CANONICAL_AA SC_ORBITALS POLAR METALBINDING ALPHA_AA L_AA\n",
      " Variant types:\n",
      " Main-chain atoms:  N    CA   C  \n",
      " Backbone atoms:    N    CA   C    O    H    HA \n",
      " Side-chain atoms:  CB   OG  1HB  2HB   HG \n",
      "Atom Coordinates:\n",
      "   N  : 3.613, -23.216, 32.178\n",
      "   CA : 3.646, -21.827, 32.625\n",
      "   C  : 3.666, -21.713, 34.144\n",
      "   O  : 4.23, -20.753, 34.677\n",
      "   CB : 2.462, -21.062, 32.042\n",
      "   OG : 2.63, -20.892, 30.644\n",
      "   H  : 2.75651, -23.5891, 31.7942\n",
      "   HA : 4.57059, -21.3706, 32.2687\n",
      "  1HB : 1.54094, -21.608, 32.2444\n",
      "  2HB : 2.38064, -20.0914, 32.5295\n",
      "   HG : 3.46474, -21.3128, 30.4246\n",
      "Mirrored relative to coordinates in ResidueType: FALSE\n",
      "\n",
      "63 Residue 63: ILE (ILE, I):\n",
      "Base: ILE\n",
      " Properties: POLYMER PROTEIN CANONICAL_AA HYDROPHOBIC ALIPHATIC METALBINDING ALPHA_AA L_AA\n",
      " Variant types:\n",
      " Main-chain atoms:  N    CA   C  \n",
      " Backbone atoms:    N    CA   C    O    H    HA \n",
      " Side-chain atoms:  CB   CG1  CG2  CD1  HB  1HG1 2HG1 1HG2 2HG2 3HG2 1HD1 2HD1 3HD1\n",
      "Atom Coordinates:\n",
      "   N  : 3.064, -22.668, 34.856\n",
      "   CA : 3.152, -22.652, 36.315\n",
      "   C  : 4.606, -22.749, 36.758\n",
      "   O  : 5.039, -22.047, 37.681\n",
      "   CB : 2.306, -23.784, 36.929\n",
      "   CG1: 0.811, -23.506, 36.758\n",
      "   CG2: 2.624, -23.946, 38.409\n",
      "   CD1: -0.071, -24.668, 37.174\n",
      "   H  : 2.54529, -23.4065, 34.4025\n",
      "   HA : 2.76526, -21.6991, 36.6742\n",
      "   HB : 2.52422, -24.7203, 36.4162\n",
      "  1HG1: 0.533399, -22.6337, 37.3487\n",
      "  2HG1: 0.60131, -23.2726, 35.7138\n",
      "  1HG2: 2.0168, -24.7492, 38.8257\n",
      "  2HG2: 3.67886, -24.1888, 38.5298\n",
      "  3HG2: 2.40353, -23.0156, 38.9325\n",
      "  1HD1: -1.11781, -24.4016, 37.0258\n",
      "  2HD1: 0.169971, -25.5428, 36.569\n",
      "  3HD1: 0.0993214, -24.8955, 38.2253\n",
      "Mirrored relative to coordinates in ResidueType: FALSE\n",
      "\n",
      "64 Residue 64: PHE (PHE, F):\n",
      "Base: PHE\n",
      " Properties: POLYMER PROTEIN CANONICAL_AA SC_ORBITALS HYDROPHOBIC AROMATIC CYCLIC METALBINDING ALPHA_AA L_AA\n",
      " Variant types:\n",
      " Main-chain atoms:  N    CA   C  \n",
      " Backbone atoms:    N    CA   C    O    H    HA \n",
      " Ring atoms:    CG   CD1  CE1  CZ   CE2  CD2\n",
      " Side-chain atoms:  CB   CG   CD1  CD2  CE1  CE2  CZ  1HB  2HB   HD1  HD2  HE1  HE2  HZ \n",
      "Ring Conformer: P (planar): C-P parameters (q, phi, theta): 0, 0, 0; nu angles (degrees): 0, 0, 0, 0, 0, 0\n",
      "  CB : equatorial\n",
      "Atom Coordinates:\n",
      "   N  : 5.388, -23.597, 36.092\n",
      "   CA : 6.738, -23.911, 36.541\n",
      "   C  : 7.83, -23.138, 35.81\n",
      "   O  : 8.98, -23.163, 36.257\n",
      "   CB : 6.98, -25.421, 36.424\n",
      "   CG : 6.209, -26.216, 37.434\n",
      "   CD1: 6.776, -26.536, 38.656\n",
      "   CD2: 4.902, -26.598, 37.186\n",
      "   CE1: 6.061, -27.249, 39.603\n",
      "   CE2: 4.179, -27.311, 38.129\n",
      "   CZ : 4.762, -27.636, 39.339\n",
      "   H  : 5.03456, -24.0339, 35.2528\n",
      "   HA : 6.83278, -23.6145, 37.5866\n",
      "  1HB : 6.69873, -25.7581, 35.4272\n",
      "  2HB : 8.04114, -25.6302, 36.5527\n",
      "   HD1: 7.7974, -26.2191, 38.8684\n",
      "   HD2: 4.44511, -26.3402, 36.2299\n",
      "   HE1: 6.52374, -27.504, 40.5561\n",
      "   HE2: 3.15408, -27.6164, 37.9192\n",
      "   HZ : 4.19798, -28.1977, 40.0823\n",
      "Mirrored relative to coordinates in ResidueType: FALSE\n",
      "\n",
      "74 Residue 74: ILE (ILE, I):\n",
      "Base: ILE\n",
      " Properties: POLYMER PROTEIN CANONICAL_AA HYDROPHOBIC ALIPHATIC METALBINDING ALPHA_AA L_AA\n",
      " Variant types:\n",
      " Main-chain atoms:  N    CA   C  \n",
      " Backbone atoms:    N    CA   C    O    H    HA \n",
      " Side-chain atoms:  CB   CG1  CG2  CD1  HB  1HG1 2HG1 1HG2 2HG2 3HG2 1HD1 2HD1 3HD1\n",
      "Atom Coordinates:\n",
      "   N  : 5.961, -24.127, 24.373\n",
      "   CA : 4.896, -25.117, 24.499\n",
      "   C  : 3.592, -24.413, 24.134\n",
      "   O  : 2.964, -23.761, 24.97\n",
      "   CB : 4.843, -25.73, 25.9\n",
      "   CG1: 6.2, -26.335, 26.272\n",
      "   CG2: 3.747, -26.79, 25.974\n",
      "   CD1: 6.691, -27.386, 25.297\n",
      "   H  : 6.22648, -23.5843, 25.1824\n",
      "   HA : 5.08604, -25.9213, 23.7894\n",
      "   HB : 4.63236, -24.9497, 26.6307\n",
      "  1HG1: 6.9479, -25.5447, 26.3265\n",
      "  2HG1: 6.13624, -26.792, 27.2599\n",
      "  1HG2: 3.72158, -27.2176, 26.976\n",
      "  2HG2: 2.78388, -26.3334, 25.75\n",
      "  3HG2: 3.95271, -27.5774, 25.2487\n",
      "  1HD1: 7.65711, -27.7672, 25.6288\n",
      "  2HD1: 5.97306, -28.2058, 25.2533\n",
      "  3HD1: 6.79697, -26.943, 24.3078\n",
      "Mirrored relative to coordinates in ResidueType: FALSE\n",
      "\n",
      "76 Residue 76: GLY (GLY, G):\n",
      "Base: GLY\n",
      " Properties: POLYMER PROTEIN CANONICAL_AA METALBINDING ALPHA_AA ACHIRAL_BACKBONE ACHIRAL_SIDECHAIN\n",
      " Variant types:\n",
      " Main-chain atoms:  N    CA   C  \n",
      " Backbone atoms:    N    CA   C    O    H   1HA  2HA \n",
      " Side-chain atoms:\n",
      "Atom Coordinates:\n",
      "   N  : 0.685, -25.636, 23.272\n",
      "   CA : -0.514, -26.439, 23.432\n",
      "   C  : -0.152, -27.879, 23.715\n",
      "   O  : 1.015, -28.261, 23.729\n",
      "   H  : 1.50533, -25.863, 23.8157\n",
      "  1HA : -1.11511, -26.0369, 24.2477\n",
      "  2HA : -1.11735, -26.3759, 22.5272\n",
      "Mirrored relative to coordinates in ResidueType: FALSE\n",
      "\n",
      "77 Residue 77: ASN (ASN, N):\n",
      "Base: ASN\n",
      " Properties: POLYMER PROTEIN CANONICAL_AA SC_ORBITALS POLAR METALBINDING ALPHA_AA L_AA\n",
      " Variant types:\n",
      " Main-chain atoms:  N    CA   C  \n",
      " Backbone atoms:    N    CA   C    O    H    HA \n",
      " Side-chain atoms:  CB   CG   OD1  ND2 1HB  2HB  1HD2 2HD2\n",
      "Atom Coordinates:\n",
      "   N  : -1.187, -28.687, 23.967\n",
      "   CA : -0.976, -30.13, 24.039\n",
      "   C  : -0.453, -30.655, 22.712\n",
      "   O  : 0.385, -31.563, 22.674\n",
      "   CB : -2.273, -30.847, 24.414\n",
      "   CG : -2.762, -30.486, 25.798\n",
      "   OD1: -1.975, -30.129, 26.666\n",
      "   ND2: -4.066, -30.594, 26.015\n",
      "   H  : -2.11635, -28.318, 24.1093\n",
      "   HA : -0.231562, -30.333, 24.8105\n",
      "  1HB : -3.05026, -30.5953, 23.6912\n",
      "  2HB : -2.11935, -31.9252, 24.3673\n",
      "  1HD2: -4.44405, -30.3678, 26.9133\n",
      "  2HD2: -4.67098, -30.9013, 25.2811\n",
      "Mirrored relative to coordinates in ResidueType: FALSE\n",
      "\n",
      "78 Residue 78: ASP (ASP, D):\n",
      "Base: ASP\n",
      " Properties: POLYMER PROTEIN CANONICAL_AA SC_ORBITALS POLAR CHARGED NEGATIVE_CHARGE METALBINDING ALPHA_AA L_AA\n",
      " Variant types:\n",
      " Main-chain atoms:  N    CA   C  \n",
      " Backbone atoms:    N    CA   C    O    H    HA \n",
      " Side-chain atoms:  CB   CG   OD1  OD2 1HB  2HB \n",
      "Atom Coordinates:\n",
      "   N  : -0.946, -30.088, 21.616\n",
      "   CA : -0.454, -30.339, 20.275\n",
      "   C  : -0.35, -29.01, 19.546\n",
      "   O  : -0.99, -28.023, 19.917\n",
      "   CB : -1.375, -31.28, 19.484\n",
      "   CG : -1.565, -32.616, 20.157\n",
      "   OD1: -0.819, -33.557, 19.821\n",
      "   OD2: -2.466, -32.73, 21.014\n",
      "   H  : -1.71266, -29.4435, 21.7461\n",
      "   HA : 0.524203, -30.815, 20.3488\n",
      "  1HB : -2.35107, -30.8114, 19.3563\n",
      "  2HB : -0.958853, -31.4458, 18.4899\n",
      "Mirrored relative to coordinates in ResidueType: FALSE\n",
      "\n",
      "89 Residue 89: TYR (TYR, Y):\n",
      "Base: TYR\n",
      " Properties: POLYMER PROTEIN CANONICAL_AA SC_ORBITALS HYDROPHOBIC AROMATIC CYCLIC METALBINDING ALPHA_AA L_AA\n",
      " Variant types:\n",
      " Main-chain atoms:  N    CA   C  \n",
      " Backbone atoms:    N    CA   C    O    H    HA \n",
      " Ring atoms:    CG   CD1  CE1  CZ   CE2  CD2\n",
      " Side-chain atoms:  CB   CG   CD1  CD2  CE1  CE2  CZ   OH  1HB  2HB   HD1  HD2  HE1  HE2  HH \n",
      "Ring Conformer: P (planar): C-P parameters (q, phi, theta): 0, 0, 0; nu angles (degrees): 0, 0, 0, 0, 0, 0\n",
      "  CB : equatorial\n",
      "  OH : equatorial\n",
      "Atom Coordinates:\n",
      "   N  : 2.946, -33.665, 19.094\n",
      "   CA : 2.559, -33.783, 20.493\n",
      "   C  : 3.632, -33.159, 21.375\n",
      "   O  : 4.828, -33.281, 21.098\n",
      "   CB : 2.336, -35.242, 20.889\n",
      "   CG : 1.817, -35.404, 22.301\n",
      "   CD1: 0.578, -34.891, 22.668\n",
      "   CD2: 2.562, -36.07, 23.264\n",
      "   CE1: 0.099, -35.036, 23.958\n",
      "   CE2: 2.092, -36.221, 24.554\n",
      "   CZ : 0.861, -35.703, 24.897\n",
      "   OH : 0.396, -35.857, 26.184\n",
      "   H  : 3.41332, -34.4401, 18.6458\n",
      "   HA : 1.62288, -33.2436, 20.6397\n",
      "  1HB : 1.62213, -35.7005, 20.2031\n",
      "  2HB : 3.27336, -35.7903, 20.8002\n",
      "   HD1: -0.0330002, -34.3645, 21.9344\n",
      "   HD2: 3.5373, -36.4843, 23.0084\n",
      "   HE1: -0.874573, -34.6271, 24.2269\n",
      "   HE2: 2.69397, -36.7469, 25.2955\n",
      "   HH : 1.04421, -36.3407, 26.7016\n",
      "Mirrored relative to coordinates in ResidueType: FALSE\n",
      "\n",
      "90 Residue 90: CYS (CYS, C):\n",
      "Base: CYS\n",
      " Properties: POLYMER PROTEIN CANONICAL_AA SC_ORBITALS METALBINDING SIDECHAIN_THIOL ALPHA_AA L_AA\n",
      " Variant types:\n",
      " Main-chain atoms:  N    CA   C  \n",
      " Backbone atoms:    N    CA   C    O    H    HA \n",
      " Side-chain atoms:  CB   SG  1HB  2HB   HG \n",
      "Atom Coordinates:\n",
      "   N  : 3.187, -32.519, 22.46\n",
      "   CA : 4.053, -31.613, 23.211\n",
      "   C  : 5.307, -32.306, 23.739\n",
      "   O  : 6.388, -31.705, 23.757\n",
      "   CB : 3.264, -30.98, 24.355\n",
      "   SG : 2.442, -32.173, 25.423\n",
      "   H  : 2.23632, -32.6608, 22.7702\n",
      "   HA : 4.39745, -30.8271, 22.5387\n",
      "  1HB : 3.93402, -30.3793, 24.9705\n",
      "  2HB : 2.50603, -30.3112, 23.9478\n",
      "   HG : 1.89932, -31.2763, 26.2407\n",
      "Mirrored relative to coordinates in ResidueType: FALSE\n",
      "\n",
      "91 Residue 91: THR (THR, T):\n",
      "Base: THR\n",
      " Properties: POLYMER PROTEIN CANONICAL_AA SC_ORBITALS POLAR METALBINDING ALPHA_AA L_AA\n",
      " Variant types:\n",
      " Main-chain atoms:  N    CA   C  \n",
      " Backbone atoms:    N    CA   C    O    H    HA \n",
      " Side-chain atoms:  CB   OG1  CG2  HB   HG1 1HG2 2HG2 3HG2\n",
      "Atom Coordinates:\n",
      "   N  : 5.196, -33.564, 24.173\n",
      "   CA : 6.335, -34.258, 24.765\n",
      "   C  : 6.902, -35.377, 23.905\n",
      "   O  : 7.922, -35.96, 24.286\n",
      "   CB : 5.967, -34.843, 26.139\n",
      "   OG1: 4.751, -35.592, 26.037\n",
      "   CG2: 5.814, -33.741, 27.173\n",
      "   H  : 4.31282, -34.0474, 24.0929\n",
      "   HA : 7.14458, -33.5406, 24.9011\n",
      "   HB : 6.74969, -35.5281, 26.4642\n",
      "   HG1: 4.43331, -35.5635, 25.1312\n",
      "  1HG2: 5.55413, -34.1795, 28.1363\n",
      "  2HG2: 6.75261, -33.1946, 27.264\n",
      "  3HG2: 5.02536, -33.0572, 26.8617\n",
      "Mirrored relative to coordinates in ResidueType: FALSE\n",
      "\n",
      "137 Residue 137: SER (SER, S):\n",
      "Base: SER\n",
      " Properties: POLYMER PROTEIN CANONICAL_AA SC_ORBITALS POLAR METALBINDING ALPHA_AA L_AA\n",
      " Variant types:\n",
      " Main-chain atoms:  N    CA   C  \n",
      " Backbone atoms:    N    CA   C    O    H    HA \n",
      " Side-chain atoms:  CB   OG  1HB  2HB   HG \n",
      "Atom Coordinates:\n",
      "   N  : 2.555, -37.997, 37.549\n",
      "   CA : 1.226, -37.744, 37.007\n",
      "   C  : 0.781, -38.974, 36.235\n",
      "   O  : 1.602, -39.796, 35.823\n",
      "   CB : 1.199, -36.517, 36.092\n",
      "   OG : -0.068, -36.388, 35.467\n",
      "   H  : 3.05978, -38.8192, 37.2503\n",
      "   HA : 0.543557, -37.5564, 37.8372\n",
      "  1HB : 1.41633, -35.623, 36.6759\n",
      "  2HB : 1.97686, -36.6105, 35.3354\n",
      "   HG : -0.59694, -37.1227, 35.7869\n",
      "Mirrored relative to coordinates in ResidueType: FALSE\n",
      "\n",
      "139 Residue 139: LYS (LYS, K):\n",
      "Base: LYS\n",
      " Properties: POLYMER PROTEIN CANONICAL_AA POLAR CHARGED POSITIVE_CHARGE METALBINDING SIDECHAIN_AMINE ALPHA_AA L_AA\n",
      " Variant types:\n",
      " Main-chain atoms:  N    CA   C  \n",
      " Backbone atoms:    N    CA   C    O    H    HA \n",
      " Side-chain atoms:  CB   CG   CD   CE   NZ  1HB  2HB  1HG  2HG  1HD  2HD  1HE  2HE  1HZ  2HZ  3HZ \n",
      "Atom Coordinates:\n",
      "   N  : -0.64, -38.395, 33.38\n",
      "   CA : -0.366, -37.903, 32.038\n",
      "   C  : 1.12, -37.63, 31.867\n",
      "   O  : 1.753, -37.024, 32.736\n",
      "   CB : -1.135, -36.613, 31.752\n",
      "   CG : -2.629, -36.652, 31.988\n",
      "   CD : -3.211, -35.263, 31.758\n",
      "   CE : -4.725, -35.254, 31.868\n",
      "   NZ : -5.301, -33.921, 31.53\n",
      "   H  : -0.794386, -37.7312, 34.1254\n",
      "   HA : -0.68732, -38.6585, 31.3202\n",
      "  1HB : -0.739609, -35.8084, 32.3725\n",
      "  2HB : -0.98867, -36.3254, 30.7107\n",
      "  1HG : -3.08717, -37.3669, 31.3035\n",
      "  2HG : -2.82756, -36.9755, 33.0093\n",
      "  1HD : -2.80351, -34.5707, 32.496\n",
      "  2HD : -2.93306, -34.912, 30.7642\n",
      "  1HE : -5.14301, -35.9986, 31.1922\n",
      "  2HE : -5.01743, -35.5142, 32.8852\n",
      "  1HZ : -6.30695, -33.9568, 31.6155\n",
      "  2HZ : -4.93409, -33.2245, 32.1636\n",
      "  3HZ : -5.05279, -33.6771, 30.5819\n",
      "Mirrored relative to coordinates in ResidueType: FALSE\n",
      "\n",
      "140 Residue 140: ASP (ASP, D):\n",
      "Base: ASP\n",
      " Properties: POLYMER PROTEIN CANONICAL_AA SC_ORBITALS POLAR CHARGED NEGATIVE_CHARGE METALBINDING ALPHA_AA L_AA\n",
      " Variant types:\n",
      " Main-chain atoms:  N    CA   C  \n",
      " Backbone atoms:    N    CA   C    O    H    HA \n",
      " Side-chain atoms:  CB   CG   OD1  OD2 1HB  2HB \n",
      "Atom Coordinates:\n",
      "   N  : 1.663, -38.047, 30.722\n",
      "   CA : 3.067, -37.779, 30.43\n",
      "   C  : 3.365, -36.285, 30.483\n",
      "   O  : 4.308, -35.853, 31.156\n",
      "   CB : 3.448, -38.365, 29.065\n",
      "   CG : 2.402, -38.103, 27.991\n",
      "   OD1: 1.66, -37.101, 28.094\n",
      "   OD2: 2.326, -38.904, 27.034\n",
      "   H  : 1.10769, -38.5521, 30.0463\n",
      "   HA : 3.67714, -38.2552, 31.198\n",
      "  1HB : 4.39637, -37.9383, 28.7377\n",
      "  2HB : 3.58837, -39.4423, 29.1578\n",
      "Mirrored relative to coordinates in ResidueType: FALSE\n",
      "\n",
      "141 Residue 141: ARG (ARG, R):\n",
      "Base: ARG\n",
      " Properties: POLYMER PROTEIN CANONICAL_AA SC_ORBITALS POLAR CHARGED POSITIVE_CHARGE METALBINDING ALPHA_AA L_AA\n",
      " Variant types:\n",
      " Main-chain atoms:  N    CA   C  \n",
      " Backbone atoms:    N    CA   C    O    H    HA \n",
      " Side-chain atoms:  CB   CG   CD   NE   CZ   NH1  NH2 1HB  2HB  1HG  2HG  1HD  2HD   HE  1HH1 2HH1 1HH2 2HH2\n",
      "Atom Coordinates:\n",
      "   N  : 2.553, -35.477, 29.796\n",
      "   CA : 2.825, -34.045, 29.703\n",
      "   C  : 2.812, -33.375, 31.074\n",
      "   O  : 3.605, -32.463, 31.334\n",
      "   CB : 1.812, -33.38, 28.769\n",
      "   CG : 0.344, -33.649, 29.103\n",
      "   CD : -0.566, -33.057, 28.031\n",
      "   NE : -1.987, -33.292, 28.279\n",
      "   CZ : -2.654, -34.359, 27.852\n",
      "   NH1: -2.03, -35.3, 27.16\n",
      "   NH2: -3.947, -34.488, 28.119\n",
      "   H  : 1.73879, -35.8542, 29.3325\n",
      "   HA : 3.82595, -33.9089, 29.2924\n",
      "  1HB : 1.95768, -32.3009, 28.7839\n",
      "  2HB : 1.98201, -33.7192, 27.7471\n",
      "  1HG : 0.174097, -34.7246, 29.1564\n",
      "  2HG : 0.100174, -33.1948, 30.0641\n",
      "  1HD : -0.417296, -31.9787, 27.9826\n",
      "  2HD : -0.325924, -33.4999, 27.0651\n",
      "   HE : -2.49293, -32.5958, 28.8102\n",
      "  1HH1: -1.04493, -35.2075, 26.9558\n",
      "  2HH1: -2.53874, -36.1099, 26.8365\n",
      "  1HH2: -4.4275, -33.7735, 28.6486\n",
      "  2HH2: -4.45093, -35.2994, 27.7934\n",
      "Mirrored relative to coordinates in ResidueType: FALSE\n",
      "\n",
      "142 Residue 142: ALA (ALA, A):\n",
      "Base: ALA\n",
      " Properties: POLYMER PROTEIN CANONICAL_AA ALIPHATIC METALBINDING ALPHA_AA L_AA\n",
      " Variant types:\n",
      " Main-chain atoms:  N    CA   C  \n",
      " Backbone atoms:    N    CA   C    O    H    HA \n",
      " Side-chain atoms:  CB  1HB  2HB  3HB \n",
      "Atom Coordinates:\n",
      "   N  : 1.928, -33.818, 31.965\n",
      "   CA : 1.785, -33.19, 33.271\n",
      "   C  : 2.826, -33.657, 34.28\n",
      "   O  : 2.899, -33.091, 35.377\n",
      "   CB : 0.381, -33.448, 33.819\n",
      "   H  : 1.34246, -34.6072, 31.7319\n",
      "   HA : 1.92958, -32.1165, 33.1483\n",
      "  1HB : 0.279421, -32.976, 34.7963\n",
      "  2HB : -0.358686, -33.0305, 33.1358\n",
      "  3HB : 0.220131, -34.5205, 33.9161\n",
      "Mirrored relative to coordinates in ResidueType: FALSE\n",
      "\n",
      "143 Residue 143: SER (SER, S):\n",
      "Base: SER\n",
      " Properties: POLYMER PROTEIN CANONICAL_AA SC_ORBITALS POLAR METALBINDING ALPHA_AA L_AA\n",
      " Variant types:\n",
      " Main-chain atoms:  N    CA   C  \n",
      " Backbone atoms:    N    CA   C    O    H    HA \n",
      " Side-chain atoms:  CB   OG  1HB  2HB   HG \n",
      "Atom Coordinates:\n",
      "   N  : 3.617, -34.674, 33.95\n",
      "   CA : 4.746, -35.087, 34.772\n",
      "   C  : 6.07, -34.568, 34.233\n",
      "   O  : 6.91, -34.088, 34.999\n",
      "   CB : 4.799, -36.617, 34.866\n",
      "   OG : 5.964, -37.046, 35.547\n",
      "   H  : 3.42161, -35.175, 33.095\n",
      "   HA : 4.61259, -34.6774, 35.7743\n",
      "  1HB : 3.91505, -36.9801, 35.3897\n",
      "  2HB : 4.78374, -37.0436, 33.8639\n",
      "   HG : 6.4407, -36.2472, 35.785\n",
      "Mirrored relative to coordinates in ResidueType: FALSE\n",
      "\n",
      "144 Residue 144: ILE (ILE, I):\n",
      "Base: ILE\n",
      " Properties: POLYMER PROTEIN CANONICAL_AA HYDROPHOBIC ALIPHATIC METALBINDING ALPHA_AA L_AA\n",
      " Variant types:\n",
      " Main-chain atoms:  N    CA   C  \n",
      " Backbone atoms:    N    CA   C    O    H    HA \n",
      " Side-chain atoms:  CB   CG1  CG2  CD1  HB  1HG1 2HG1 1HG2 2HG2 3HG2 1HD1 2HD1 3HD1\n",
      "Atom Coordinates:\n",
      "   N  : 6.242, -34.623, 32.915\n",
      "   CA : 7.515, -34.275, 32.294\n",
      "   C  : 7.773, -32.775, 32.38\n",
      "   O  : 8.864, -32.338, 32.767\n",
      "   CB : 7.527, -34.771, 30.839\n",
      "   CG1: 7.635, -36.296, 30.817\n",
      "   CG2: 8.638, -34.11, 30.046\n",
      "   CD1: 7.37, -36.894, 29.478\n",
      "   H  : 5.47192, -34.913, 32.3294\n",
      "   HA : 8.31482, -34.7673, 32.8459\n",
      "   HB : 6.57404, -34.535, 30.3664\n",
      "  1HG1: 8.6334, -36.5945, 31.1349\n",
      "  2HG1: 6.92595, -36.7214, 31.5277\n",
      "  1HG2: 8.62312, -34.48, 29.0211\n",
      "  2HG2: 8.49093, -33.0308, 30.0442\n",
      "  3HG2: 9.59991, -34.3444, 30.5023\n",
      "  1HD1: 7.46398, -37.9785, 29.5387\n",
      "  2HD1: 6.36058, -36.6347, 29.1568\n",
      "  3HD1: 8.09052, -36.5079, 28.7584\n",
      "Mirrored relative to coordinates in ResidueType: FALSE\n",
      "\n",
      "145 Residue 145: LEU (LEU, L):\n",
      "Base: LEU\n",
      " Properties: POLYMER PROTEIN CANONICAL_AA HYDROPHOBIC ALIPHATIC METALBINDING ALPHA_AA L_AA\n",
      " Variant types:\n",
      " Main-chain atoms:  N    CA   C  \n",
      " Backbone atoms:    N    CA   C    O    H    HA \n",
      " Side-chain atoms:  CB   CG   CD1  CD2 1HB  2HB   HG  1HD1 2HD1 3HD1 1HD2 2HD2 3HD2\n",
      "Atom Coordinates:\n",
      "   N  : 6.785, -31.965, 32.02\n",
      "   CA : 7.01, -30.532, 31.868\n",
      "   C  : 7.25, -29.822, 33.204\n",
      "   O  : 8.155, -28.981, 33.282\n",
      "   CB : 5.845, -29.908, 31.093\n",
      "   CG : 5.821, -30.407, 29.643\n",
      "   CD1: 4.571, -29.966, 28.888\n",
      "   CD2: 7.08, -29.95, 28.915\n",
      "   H  : 5.86289, -32.3392, 31.8475\n",
      "   HA : 7.9312, -30.3845, 31.3054\n",
      "  1HB : 4.91466, -30.169, 31.5949\n",
      "  2HB : 5.95386, -28.8238, 31.1151\n",
      "   HG : 5.7764, -31.4964, 29.6337\n",
      "  1HD1: 4.60838, -30.3481, 27.8677\n",
      "  2HD1: 3.68591, -30.3581, 29.3892\n",
      "  3HD1: 4.52435, -28.8778, 28.8661\n",
      "  1HD2: 7.0559, -30.3091, 27.8856\n",
      "  2HD2: 7.12721, -28.8608, 28.9183\n",
      "  3HD2: 7.95846, -30.3528, 29.4194\n",
      "Mirrored relative to coordinates in ResidueType: FALSE\n",
      "\n",
      "146 Residue 146: PRO (PRO, P):\n",
      "Base: PRO\n",
      " Properties: POLYMER PROTEIN CANONICAL_AA ALIPHATIC METALBINDING ALPHA_AA L_AA\n",
      " Variant types:\n",
      " Main-chain atoms:  N    CA   C  \n",
      " Backbone atoms:    N    CA   C    O    HA \n",
      " Side-chain atoms:  CB   CG   CD   NV  1HB  2HB  1HG  2HG  1HD  2HD \n",
      "Atom Coordinates:\n",
      "   N  : 6.496, -30.113, 34.273\n",
      "   CA : 6.857, -29.523, 35.575\n",
      "   C  : 8.227, -29.948, 36.081\n",
      "   O  : 8.907, -29.153, 36.742\n",
      "   CB : 5.742, -30.017, 36.507\n",
      "   CG : 4.592, -30.282, 35.619\n",
      "   CD : 5.184, -30.788, 34.335\n",
      "   NV : 6.4911, -30.1052, 34.2892 (virtual)\n",
      "   HA : 6.84089, -28.4262, 35.4921\n",
      "  1HB : 6.0731, -30.9172, 37.0456\n",
      "  2HB : 5.51946, -29.2523, 37.2657\n",
      "  1HG : 3.91674, -31.0171, 36.0812\n",
      "  2HG : 4.00687, -29.3624, 35.4706\n",
      "  1HD : 5.29446, -31.8812, 34.3873\n",
      "  2HD : 4.53469, -30.5033, 33.494\n",
      "Mirrored relative to coordinates in ResidueType: FALSE\n",
      "\n",
      "277 Residue 277: ASN (ASN, N):\n",
      "Base: ASN\n",
      " Properties: POLYMER PROTEIN CANONICAL_AA SC_ORBITALS POLAR METALBINDING ALPHA_AA L_AA\n",
      " Variant types:\n",
      " Main-chain atoms:  N    CA   C  \n",
      " Backbone atoms:    N    CA   C    O    H    HA \n",
      " Side-chain atoms:  CB   CG   OD1  ND2 1HB  2HB  1HD2 2HD2\n",
      "Atom Coordinates:\n",
      "   N  : 0.722, -33.83, 39.469\n",
      "   CA : -0.516, -33.396, 38.841\n",
      "   C  : -1.605, -34.411, 39.156\n",
      "   O  : -1.39, -35.618, 39.007\n",
      "   CB : -0.334, -33.268, 37.329\n",
      "   CG : -1.62, -33.499, 36.56\n",
      "   OD1: -1.943, -34.626, 36.186\n",
      "   ND2: -2.353, -32.428, 36.308\n",
      "   H  : 1.28782, -34.5293, 39.0097\n",
      "   HA : -0.784105, -32.4179, 39.2436\n",
      "  1HB : 0.0419077, -32.2722, 37.0905\n",
      "  2HB : 0.410206, -33.9887, 36.9898\n",
      "  1HD2: -3.21263, -32.5174, 35.804\n",
      "  2HD2: -2.04837, -31.529, 36.621\n",
      "Mirrored relative to coordinates in ResidueType: FALSE\n",
      "\n",
      "279 Residue 279: ALA (ALA, A):\n",
      "Base: ALA\n",
      " Properties: POLYMER PROTEIN CANONICAL_AA ALIPHATIC METALBINDING ALPHA_AA L_AA\n",
      " Variant types:\n",
      " Main-chain atoms:  N    CA   C  \n",
      " Backbone atoms:    N    CA   C    O    H    HA \n",
      " Side-chain atoms:  CB  1HB  2HB  3HB \n",
      "Atom Coordinates:\n",
      "   N  : -4.697, -35.725, 37.781\n",
      "   CA : -5.304, -35.655, 36.456\n",
      "   C  : -6.762, -36.097, 36.421\n",
      "   O  : -7.478, -35.725, 35.485\n",
      "   CB : -4.5, -36.501, 35.467\n",
      "   H  : -4.17701, -36.5509, 38.0409\n",
      "   HA : -5.28766, -34.6148, 36.1305\n",
      "  1HB : -4.96012, -36.443, 34.4805\n",
      "  2HB : -3.47816, -36.1252, 35.4134\n",
      "  3HB : -4.48801, -37.5372, 35.801\n",
      "Mirrored relative to coordinates in ResidueType: FALSE\n",
      "\n",
      "281 Residue 281: THR (THR, T):\n",
      "Base: THR\n",
      " Properties: POLYMER PROTEIN CANONICAL_AA SC_ORBITALS POLAR METALBINDING ALPHA_AA L_AA\n",
      " Variant types:\n",
      " Main-chain atoms:  N    CA   C  \n",
      " Backbone atoms:    N    CA   C    O    H    HA \n",
      " Side-chain atoms:  CB   OG1  CG2  HB   HG1 1HG2 2HG2 3HG2\n",
      "Atom Coordinates:\n",
      "   N  : -9.437, -35.336, 38.045\n",
      "   CA : -10.444, -34.28, 38.05\n",
      "   C  : -10.685, -33.747, 36.645\n",
      "   O  : -11.774, -33.247, 36.342\n",
      "   CB : -10.017, -33.147, 38.984\n",
      "   OG1: -8.674, -32.752, 38.678\n",
      "   CG2: -10.082, -33.6, 40.435\n",
      "   H  : -8.56872, -35.1902, 38.5399\n",
      "   HA : -11.3828, -34.6989, 38.413\n",
      "   HB : -10.679, -32.2924, 38.8456\n",
      "   HG1: -8.34079, -33.2873, 37.9537\n",
      "  1HG2: -9.77529, -32.7814, 41.0858\n",
      "  2HG2: -11.1025, -33.8949, 40.6787\n",
      "  3HG2: -9.41484, -34.4485, 40.5812\n",
      "Mirrored relative to coordinates in ResidueType: FALSE\n",
      "\n",
      "282 Residue 282: ASP (ASP, D):\n",
      "Base: ASP\n",
      " Properties: POLYMER PROTEIN CANONICAL_AA SC_ORBITALS POLAR CHARGED NEGATIVE_CHARGE METALBINDING ALPHA_AA L_AA\n",
      " Variant types:\n",
      " Main-chain atoms:  N    CA   C  \n",
      " Backbone atoms:    N    CA   C    O    H    HA \n",
      " Side-chain atoms:  CB   CG   OD1  OD2 1HB  2HB \n",
      "Atom Coordinates:\n",
      "   N  : -9.682, -33.856, 35.775\n",
      "   CA : -9.835, -33.428, 34.391\n",
      "   C  : -10.566, -34.474, 33.562\n",
      "   O  : -11.46, -34.135, 32.778\n",
      "   CB : -8.466, -33.139, 33.785\n",
      "   CG : -8.551, -32.683, 32.348\n",
      "   OD1: -8.958, -31.524, 32.118\n",
      "   OD2: -8.205, -33.483, 31.453\n",
      "   H  : -8.79831, -34.2415, 36.0759\n",
      "   HA : -10.4296, -32.5141, 34.3752\n",
      "  1HB : -7.96492, -32.367, 34.3695\n",
      "  2HB : -7.84986, -34.0374, 33.8327\n",
      "Mirrored relative to coordinates in ResidueType: FALSE\n",
      "\n",
      "283 Residue 283: TYR (TYR, Y):\n",
      "Base: TYR\n",
      " Properties: POLYMER PROTEIN CANONICAL_AA SC_ORBITALS HYDROPHOBIC AROMATIC CYCLIC METALBINDING ALPHA_AA L_AA\n",
      " Variant types:\n",
      " Main-chain atoms:  N    CA   C  \n",
      " Backbone atoms:    N    CA   C    O    H    HA \n",
      " Ring atoms:    CG   CD1  CE1  CZ   CE2  CD2\n",
      " Side-chain atoms:  CB   CG   CD1  CD2  CE1  CE2  CZ   OH  1HB  2HB   HD1  HD2  HE1  HE2  HH \n",
      "Ring Conformer: P (planar): C-P parameters (q, phi, theta): 0, 0, 0; nu angles (degrees): 0, 0, 0, 0, 0, 0\n",
      "  CB : equatorial\n",
      "  OH : equatorial\n",
      "Atom Coordinates:\n",
      "   N  : -10.187, -35.744, 33.708\n",
      "   CA : -10.872, -36.806, 32.982\n",
      "   C  : -12.334, -36.894, 33.397\n",
      "   O  : -13.229, -36.962, 32.547\n",
      "   CB : -10.162, -38.138, 33.207\n",
      "   CG : -8.855, -38.249, 32.461\n",
      "   CD1: -8.838, -38.506, 31.098\n",
      "   CD2: -7.639, -38.097, 33.114\n",
      "   CE1: -7.65, -38.61, 30.403\n",
      "   CE2: -6.442, -38.203, 32.427\n",
      "   CZ : -6.456, -38.456, 31.069\n",
      "   OH : -5.276, -38.565, 30.372\n",
      "   H  : -9.42196, -35.9825, 34.3227\n",
      "   HA : -10.8471, -36.5695, 31.9179\n",
      "  1HB : -9.96493, -38.2703, 34.2718\n",
      "  2HB : -10.8109, -38.954, 32.8905\n",
      "   HD1: -9.77518, -38.63, 30.5549\n",
      "   HD2: -7.61705, -37.8918, 34.1843\n",
      "   HE1: -7.66105, -38.8124, 29.3324\n",
      "   HE2: -5.4967, -38.0878, 32.9579\n",
      "   HH : -4.53774, -38.4401, 30.9732\n",
      "Mirrored relative to coordinates in ResidueType: FALSE\n",
      "\n",
      "286 Residue 286: HIS (HIS, H):\n",
      "Base: HIS\n",
      " Properties: POLYMER PROTEIN CANONICAL_AA SC_ORBITALS POLAR CYCLIC METALBINDING ALPHA_AA L_AA\n",
      " Variant types:\n",
      " Main-chain atoms:  N    CA   C  \n",
      " Backbone atoms:    N    CA   C    O    H    HA \n",
      " Ring atoms:    CG   ND1  CE1  NE2  CD2\n",
      " Side-chain atoms:  CB   CG   ND1  CD2  CE1  NE2 1HB  2HB   HD2  HE1  HE2\n",
      "Ring Conformer: P (planar): C-P parameters (q, phi, theta): 0, 0; nu angles (degrees): 0, 0, 0, 0, 0\n",
      "  CB : equatorial\n",
      "Atom Coordinates:\n",
      "   N  : -14.139, -33.766, 32.099\n",
      "   CA : -14.35, -33.825, 30.655\n",
      "   C  : -15.555, -34.681, 30.302\n",
      "   O  : -16.276, -34.389, 29.34\n",
      "   CB : -13.109, -34.381, 29.967\n",
      "   CG : -12.125, -33.333, 29.563\n",
      "   ND1: -12.388, -32.411, 28.574\n",
      "   CD2: -10.872, -33.069, 30.002\n",
      "   CE1: -11.342, -31.618, 28.427\n",
      "   NE2: -10.409, -31.997, 29.28\n",
      "   H  : -13.267, -34.1012, 32.4829\n",
      "   HA : -14.533, -32.8211, 30.2728\n",
      "  1HB : -12.606, -35.0818, 30.6343\n",
      "  2HB : -13.4041, -34.933, 29.0751\n",
      "   HD2: -10.3319, -33.605, 30.7829\n",
      "   HE1: -11.2631, -30.7911, 27.7215\n",
      "   HE2: -9.49961, -31.571, 29.3888\n",
      "Mirrored relative to coordinates in ResidueType: FALSE\n",
      "\n",
      "328 Residue 328: ALA (ALA, A):\n",
      "Base: ALA\n",
      " Properties: POLYMER PROTEIN CANONICAL_AA ALIPHATIC METALBINDING ALPHA_AA L_AA\n",
      " Variant types:\n",
      " Main-chain atoms:  N    CA   C  \n",
      " Backbone atoms:    N    CA   C    O    H    HA \n",
      " Side-chain atoms:  CB  1HB  2HB  3HB \n",
      "Atom Coordinates:\n",
      "   N  : -4.115, -24.91, 39.633\n",
      "   CA : -4.7, -25.676, 38.549\n",
      "   C  : -4.115, -25.177, 37.241\n",
      "   O  : -3.658, -24.037, 37.14\n",
      "   CB : -6.23, -25.565, 38.531\n",
      "   H  : -3.96415, -23.919, 39.5096\n",
      "   HA : -4.43693, -26.7238, 38.6943\n",
      "  1HB : -6.6278, -26.1533, 37.7041\n",
      "  2HB : -6.63323, -25.9416, 39.4711\n",
      "  3HB : -6.51731, -24.5224, 38.4052\n",
      "Mirrored relative to coordinates in ResidueType: FALSE\n",
      "\n",
      "329 Residue 329: ASP (ASP, D):\n",
      "Base: ASP\n",
      " Properties: POLYMER PROTEIN CANONICAL_AA SC_ORBITALS POLAR CHARGED NEGATIVE_CHARGE METALBINDING ALPHA_AA L_AA\n",
      " Variant types:\n",
      " Main-chain atoms:  N    CA   C  \n",
      " Backbone atoms:    N    CA   C    O    H    HA \n",
      " Side-chain atoms:  CB   CG   OD1  OD2 1HB  2HB \n",
      "Atom Coordinates:\n",
      "   N  : -4.116, -26.05, 36.239\n",
      "   CA : -3.641, -25.645, 34.924\n",
      "   C  : -4.703, -24.909, 34.121\n",
      "   O  : -4.364, -24.291, 33.105\n",
      "   CB : -3.13, -26.862, 34.145\n",
      "   CG : -4.136, -27.992, 34.087\n",
      "   OD1: -5.11, -27.986, 34.87\n",
      "   OD2: -3.941, -28.901, 33.256\n",
      "   H  : -4.44265, -26.9961, 36.3742\n",
      "   HA : -2.81768, -24.9422, 35.0549\n",
      "  1HB : -2.88229, -26.564, 33.1259\n",
      "  2HB : -2.21578, -27.2334, 34.6089\n",
      "Mirrored relative to coordinates in ResidueType: FALSE\n",
      "\n",
      "330 Residue 330: HIS (HIS, H):\n",
      "Base: HIS\n",
      " Properties: POLYMER PROTEIN CANONICAL_AA SC_ORBITALS POLAR CYCLIC METALBINDING ALPHA_AA L_AA\n",
      " Variant types:\n",
      " Main-chain atoms:  N    CA   C  \n",
      " Backbone atoms:    N    CA   C    O    H    HA \n",
      " Ring atoms:    CG   ND1  CE1  NE2  CD2\n",
      " Side-chain atoms:  CB   CG   ND1  CD2  CE1  NE2 1HB  2HB   HD2  HE1  HE2\n",
      "Ring Conformer: P (planar): C-P parameters (q, phi, theta): 0, 0; nu angles (degrees): 0, 0, 0, 0, 0\n",
      "  CB : equatorial\n",
      "Atom Coordinates:\n",
      "   N  : -5.96, -24.947, 34.574\n",
      "   CA : -7.091, -24.273, 33.946\n",
      "   C  : -8.367, -24.635, 34.694\n",
      "   O  : -8.366, -25.542, 35.532\n",
      "   CB : -7.227, -24.674, 32.479\n",
      "   CG : -7.23, -26.153, 32.274\n",
      "   ND1: -8.315, -26.942, 32.587\n",
      "   CD2: -6.266, -26.995, 31.833\n",
      "   CE1: -8.026, -28.205, 32.331\n",
      "   NE2: -6.789, -28.264, 31.872\n",
      "   H  : -6.11363, -25.4876, 35.4132\n",
      "   HA : -6.93843, -23.1948, 33.9836\n",
      "  1HB : -8.15376, -24.2656, 32.0744\n",
      "  2HB : -6.40391, -24.2463, 31.9072\n",
      "   HD2: -5.26514, -26.7176, 31.5011\n",
      "   HE1: -8.69469, -29.0536, 32.4739\n",
      "   HE2: -6.30167, -29.1037, 31.5931\n",
      "Mirrored relative to coordinates in ResidueType: FALSE\n",
      "\n",
      "331 Residue 331: GLY (GLY, G):\n",
      "Base: GLY\n",
      " Properties: POLYMER PROTEIN CANONICAL_AA METALBINDING ALPHA_AA ACHIRAL_BACKBONE ACHIRAL_SIDECHAIN\n",
      " Variant types:\n",
      " Main-chain atoms:  N    CA   C  \n",
      " Backbone atoms:    N    CA   C    O    H   1HA  2HA \n",
      " Side-chain atoms:\n",
      "Atom Coordinates:\n",
      "   N  : -9.455, -23.943, 34.395\n",
      "   CA : -10.775, -24.303, 34.879\n",
      "   C  : -11.528, -25.128, 33.86\n",
      "   O  : -10.944, -25.949, 33.144\n",
      "   H  : -9.35246, -23.1306, 33.8037\n",
      "  1HA : -10.681, -24.8651, 35.8084\n",
      "  2HA : -11.3381, -23.3986, 35.1063\n",
      "Mirrored relative to coordinates in ResidueType: FALSE\n",
      "\n",
      "332 Residue 332: ALA (ALA, A):\n",
      "Base: ALA\n",
      " Properties: POLYMER PROTEIN CANONICAL_AA ALIPHATIC METALBINDING ALPHA_AA L_AA\n",
      " Variant types:\n",
      " Main-chain atoms:  N    CA   C  \n",
      " Backbone atoms:    N    CA   C    O    H    HA \n",
      " Side-chain atoms:  CB  1HB  2HB  3HB \n",
      "Atom Coordinates:\n",
      "   N  : -12.836, -24.902, 33.786\n",
      "   CA : -13.674, -25.573, 32.804\n",
      "   C  : -15.006, -24.851, 32.721\n",
      "   O  : -15.476, -24.274, 33.705\n",
      "   CB : -13.901, -27.046, 33.156\n",
      "   H  : -13.2589, -24.2473, 34.4284\n",
      "   HA : -13.1675, -25.5287, 31.8398\n",
      "  1HB : -14.5316, -27.5085, 32.3967\n",
      "  2HB : -12.942, -27.5627, 33.1952\n",
      "  3HB : -14.3906, -27.1166, 34.1259\n",
      "Mirrored relative to coordinates in ResidueType: FALSE\n",
      "\n",
      "374 Residue 374: ASN (ASN, N):\n",
      "Base: ASN\n",
      " Properties: POLYMER PROTEIN CANONICAL_AA SC_ORBITALS POLAR METALBINDING ALPHA_AA L_AA\n",
      " Variant types:\n",
      " Main-chain atoms:  N    CA   C  \n",
      " Backbone atoms:    N    CA   C    O    H    HA \n",
      " Side-chain atoms:  CB   CG   OD1  ND2 1HB  2HB  1HD2 2HD2\n",
      "Atom Coordinates:\n",
      "   N  : -6.452, -25.382, 18.551\n",
      "   CA : -6.157, -24.375, 19.567\n",
      "   C  : -6.747, -23.021, 19.183\n",
      "   O  : -6.158, -21.968, 19.436\n",
      "   CB : -4.652, -24.267, 19.809\n",
      "   CG : -4.046, -25.573, 20.265\n",
      "   OD1: -4.624, -26.28, 21.089\n",
      "   ND2: -2.88, -25.909, 19.721\n",
      "   H  : -6.87724, -26.2541, 18.8316\n",
      "   HA : -6.63551, -24.6747, 20.5007\n",
      "  1HB : -4.15727, -23.9498, 18.89\n",
      "  2HB : -4.45866, -23.5053, 20.5645\n",
      "  1HD2: -2.4322, -26.7636, 19.9858\n",
      "  2HD2: -2.45099, -25.3078, 19.0476\n",
      "Mirrored relative to coordinates in ResidueType: FALSE\n",
      "\n",
      "460 Residue 460: THR (THR, T):\n",
      "Base: THR\n",
      " Properties: POLYMER PROTEIN CANONICAL_AA SC_ORBITALS POLAR METALBINDING ALPHA_AA L_AA\n",
      " Variant types:\n",
      " Main-chain atoms:  N    CA   C  \n",
      " Backbone atoms:    N    CA   C    O    H    HA \n",
      " Side-chain atoms:  CB   OG1  CG2  HB   HG1 1HG2 2HG2 3HG2\n",
      "Atom Coordinates:\n",
      "   N  : -15.178, -28.994, 28.252\n",
      "   CA : -13.801, -28.804, 27.812\n",
      "   C  : -13.348, -27.409, 28.238\n",
      "   O  : -14.067, -26.689, 28.941\n",
      "   CB : -13.671, -29.018, 26.3\n",
      "   OG1: -12.286, -29.037, 25.933\n",
      "   CG2: -14.376, -27.907, 25.54\n",
      "   H  : -15.765, -28.1846, 28.3947\n",
      "   HA : -13.172, -29.5369, 28.3178\n",
      "   HB : -14.1165, -29.9748, 26.0284\n",
      "   HG1: -11.7461, -28.9112, 26.7171\n",
      "  1HG2: -14.2728, -28.0769, 24.4685\n",
      "  2HG2: -15.4328, -27.8979, 25.8062\n",
      "  3HG2: -13.9287, -26.9483, 25.7995\n",
      "Mirrored relative to coordinates in ResidueType: FALSE\n",
      "\n",
      "461 Residue 461: HIS (HIS, H):\n",
      "Base: HIS\n",
      " Properties: POLYMER PROTEIN CANONICAL_AA SC_ORBITALS POLAR CYCLIC METALBINDING ALPHA_AA L_AA\n",
      " Variant types:\n",
      " Main-chain atoms:  N    CA   C  \n",
      " Backbone atoms:    N    CA   C    O    H    HA \n",
      " Ring atoms:    CG   ND1  CE1  NE2  CD2\n",
      " Side-chain atoms:  CB   CG   ND1  CD2  CE1  NE2 1HB  2HB   HD2  HE1  HE2\n",
      "Ring Conformer: P (planar): C-P parameters (q, phi, theta): 0, 0; nu angles (degrees): 0, 0, 0, 0, 0\n",
      "  CB : equatorial\n",
      "Atom Coordinates:\n",
      "   N  : -12.158, -27.017, 27.789\n",
      "   CA : -11.486, -25.831, 28.299\n",
      "   C  : -10.422, -25.405, 27.298\n",
      "   O  : -9.677, -26.252, 26.797\n",
      "   CB : -10.836, -26.146, 29.646\n",
      "   CG : -9.877, -27.291, 29.571\n",
      "   ND1: -8.589, -27.148, 29.103\n",
      "   CD2: -10.035, -28.608, 29.841\n",
      "   CE1: -7.985, -28.322, 29.117\n",
      "   NE2: -8.84, -29.225, 29.562\n",
      "   H  : -11.7096, -27.5652, 27.0689\n",
      "   HA : -12.2148, -25.0342, 28.4443\n",
      "  1HB : -10.3034, -25.2658, 30.0079\n",
      "  2HB : -11.6091, -26.3838, 30.3762\n",
      "   HD2: -10.9367, -29.087, 30.2234\n",
      "   HE1: -6.95596, -28.5131, 28.8134\n",
      "   HE2: -8.65084, -30.2102, 29.68\n",
      "Mirrored relative to coordinates in ResidueType: FALSE\n",
      "\n",
      "462 Residue 462: SER (SER, S):\n",
      "Base: SER\n",
      " Properties: POLYMER PROTEIN CANONICAL_AA SC_ORBITALS POLAR METALBINDING ALPHA_AA L_AA\n",
      " Variant types:\n",
      " Main-chain atoms:  N    CA   C  \n",
      " Backbone atoms:    N    CA   C    O    H    HA \n",
      " Side-chain atoms:  CB   OG  1HB  2HB   HG \n",
      "Atom Coordinates:\n",
      "   N  : -10.346, -24.097, 27.028\n",
      "   CA : -9.336, -23.555, 26.122\n",
      "   C  : -9.401, -22.037, 25.997\n",
      "   O  : -8.48, -21.422, 25.452\n",
      "   CB : -9.475, -24.177, 24.73\n",
      "   OG : -10.837, -24.413, 24.423\n",
      "   H  : -11.0054, -23.4675, 27.4629\n",
      "   HA : -8.34918, -23.801, 26.5167\n",
      "  1HB : -9.03891, -23.5088, 23.9878\n",
      "  2HB : -8.92003, -25.1135, 24.6932\n",
      "   HG : -11.3361, -24.1143, 25.187\n",
      "Mirrored relative to coordinates in ResidueType: FALSE\n",
      "\n",
      "491 Residue 491: MET (MET, M):\n",
      "Base: MET\n",
      " Properties: POLYMER PROTEIN CANONICAL_AA SC_ORBITALS HYDROPHOBIC ALIPHATIC METALBINDING ALPHA_AA L_AA\n",
      " Variant types:\n",
      " Main-chain atoms:  N    CA   C  \n",
      " Backbone atoms:    N    CA   C    O    H    HA \n",
      " Side-chain atoms:  CB   CG   SD   CE  1HB  2HB  1HG  2HG  1HE  2HE  3HE \n",
      "Atom Coordinates:\n",
      "   N  : -1.031, -16.512, 36.515\n",
      "   CA : -0.423, -17.831, 36.64\n",
      "   C  : 1.097, -17.752, 36.559\n",
      "   O  : 1.799, -18.516, 37.234\n",
      "   CB : -0.971, -18.757, 35.556\n",
      "   CG : -0.303, -20.113, 35.497\n",
      "   SD : -0.789, -21.049, 34.038\n",
      "   CE : -2.113, -22.063, 34.696\n",
      "   H  : -1.70609, -16.349, 35.7817\n",
      "   HA : -0.6794, -18.2387, 37.6176\n",
      "  1HB : -2.03617, -18.9158, 35.7179\n",
      "  2HB : -0.855012, -18.2838, 34.5801\n",
      "  1HG : 0.778884, -19.9852, 35.4851\n",
      "  2HG : -0.56819, -20.6881, 36.3839\n",
      "  1HE : -2.51306, -22.6975, 33.9048\n",
      "  2HE : -1.72688, -22.6874, 35.5028\n",
      "  3HE : -2.90576, -21.4211, 35.0819\n",
      "Mirrored relative to coordinates in ResidueType: FALSE\n",
      "\n",
      "521 Residue 521: ZN ( ZN, Z):\n",
      "Base: ZN\n",
      " Properties: LIGAND METAL\n",
      " Variant types:\n",
      " Main-chain atoms:\n",
      " Backbone atoms:  \n",
      " Side-chain atoms: ZN    V1   V2   V3   V4 \n",
      "Atom Coordinates:\n",
      "  ZN  : -5.484, -29.855, 32.338\n",
      "   V1 : -5.79775, -31.3542, 33.9173 (virtual)\n",
      "   V2 : -6.83218, -30.2729, 30.6505 (virtual)\n",
      "   V3 : -5.90849, -27.8489, 33.135 (virtual)\n",
      "   V4 : -3.39714, -29.942, 31.647 (virtual)\n",
      "Mirrored relative to coordinates in ResidueType: FALSE\n",
      "\n",
      "522 Residue 522: ZN ( ZN, Z):\n",
      "Base: ZN\n",
      " Properties: LIGAND METAL\n",
      " Variant types:\n",
      " Main-chain atoms:\n",
      " Backbone atoms:  \n",
      " Side-chain atoms: ZN    V1   V2   V3   V4 \n",
      "Atom Coordinates:\n",
      "  ZN  : -8.604, -31.33, 29.937\n",
      "   V1 : -9.03979, -32.9275, 31.3855 (virtual)\n",
      "   V2 : -9.34954, -31.9154, 27.9517 (virtual)\n",
      "   V3 : -9.59529, -29.4718, 30.5728 (virtual)\n",
      "   V4 : -6.43077, -31.0031, 29.836 (virtual)\n",
      "Mirrored relative to coordinates in ResidueType: FALSE\n",
      "\n"
     ]
    }
   ],
   "source": [
    "# YOUR CODE HERE\n",
    "# Reference residue\n",
    "active_resid_index = pose.pdb_info().pdb2pose(\"A\",79)\n",
    "active_residue = pose.residue(active_resid_index)\n",
    "\n",
    "# Initialize\n",
    "res_out_8a = []\n",
    "total_number_of_residues = pose.total_residue()\n",
    "total_no_of_atoms_in_active_res = active_residue.natoms()\n",
    "\n",
    "# Loop\n",
    "for i in range(1, total_number_of_residues + 1):\n",
    "    if i == active_resid_index:\n",
    "        continue\n",
    "        \n",
    "    res = pose.residue(i)\n",
    "    total_no_of_atoms_in_res_i = res.natoms()\n",
    "    \n",
    "    for j in range(1, total_no_of_atoms_in_res_i + 1):\n",
    "        # Coord of atom in question\n",
    "        atom_xyz = res.xyz(j) \n",
    "\n",
    "        for k in range(1, total_no_of_atoms_in_active_res + 1):\n",
    "            # Coord of atom in active residue\n",
    "            active_xyz = active_residue.xyz(k)\n",
    "            \n",
    "            # Calculate the distance between reference residue and atom in question\n",
    "            dist = atom_xyz.distance_squared(active_xyz)\n",
    "            \n",
    "            if dist < (8**2):\n",
    "                if i not in res_out_8a:\n",
    "                    res_out_8a.append(i)\n",
    "                \n",
    "# Print output\n",
    "for item in res_out_8a:\n",
    "    #print(\"Residue number\", item, \"is within 8A of the active residue\")\n",
    "    print(item,'', end='')\n",
    "    print(pose.residue(item))"
   ]
  },
  {
   "cell_type": "markdown",
   "metadata": {},
   "source": [
    "### Checking Protein Structure"
   ]
  },
  {
   "cell_type": "markdown",
   "metadata": {},
   "source": [
    "1. Get the cartesian distances for all hbond donor and acceptor atoms in the protein, and plot with matplotlib in a histogram. Does this align with your expectation?"
   ]
  },
  {
   "cell_type": "code",
   "execution_count": 51,
   "metadata": {},
   "outputs": [],
   "source": [
    "import matplotlib.pyplot as plt"
   ]
  },
  {
   "cell_type": "code",
   "execution_count": 52,
   "metadata": {
    "deletable": false,
    "nbgrader": {
     "cell_type": "code",
     "checksum": "19b7b0248f7186153bc6864ba19a3a05",
     "grade": true,
     "grade_id": "cell-a186c2d9640243ec",
     "locked": false,
     "points": 0,
     "schema_version": 3,
     "solution": true
    }
   },
   "outputs": [
    {
     "data": {
      "image/png": "[encoded data removed]",
      "text/plain": [
       "<Figure size 432x288 with 1 Axes>"
      ]
     },
     "metadata": {
      "needs_background": "light"
     },
     "output_type": "display_data"
    }
   ],
   "source": [
    "# YOUR CODE HERE\n",
    "hbond_set = pose.get_hbonds() # all h-bonds in a pose\n",
    "no_hbond = hbond_set.nhbonds()\n",
    "\n",
    "dist_list = []\n",
    "\n",
    "for i in range(1, no_hbond + 1):\n",
    "    res_hbonds_i = hbond_set.hbond(i) # all hydrogen-bonds in residue i\n",
    "    \n",
    "    don_res_i = res_hbonds_i.don_res() # donor residue\n",
    "    acc_res_i = res_hbonds_i.acc_res() # acceptor residue\n",
    "    don_hatm_i = res_hbonds_i.don_hatm() # donor atom on donor residue\n",
    "    acc_atm_i = res_hbonds_i.acc_atm() # acceptor atom on acceptor residue\n",
    "    \n",
    "    dxyz = pose.residue(don_res_i).xyz(don_hatm_i)\n",
    "    axyz = pose.residue(acc_res_i).xyz(acc_atm_i)\n",
    "    \n",
    "    dist = dxyz.distance(axyz)\n",
    "    dist_list.append(dist)\n",
    "    \n",
    "plt.hist(dist_list)\n",
    "plt.show()"
   ]
  },
  {
   "cell_type": "markdown",
   "metadata": {},
   "source": [
    "2. Check all $N$-$C_\\alpha$-$C$ bond angles in the protein to make sure they are reasonable.\n",
    "\n",
    "(Not all residues have an $N$, $C_\\alpha$, and $C$ atoms. You can ask a `Residue` if it has an atom, by name, with the `has` method)"
   ]
  },
  {
   "cell_type": "code",
   "execution_count": 53,
   "metadata": {},
   "outputs": [],
   "source": [
    "test_res = pose.residue(25)"
   ]
  },
  {
   "cell_type": "code",
   "execution_count": 54,
   "metadata": {},
   "outputs": [
    {
     "data": {
      "text/plain": [
       "True"
      ]
     },
     "execution_count": 54,
     "metadata": {},
     "output_type": "execute_result"
    }
   ],
   "source": [
    "test_res.has('N')"
   ]
  },
  {
   "cell_type": "code",
   "execution_count": 55,
   "metadata": {},
   "outputs": [],
   "source": [
    "def bond_angle_NCC(i):    \n",
    "    # CALCULATE N-CA-C bond angle\n",
    "    N_xyz = pose.residue(i).xyz(\"N\")\n",
    "    CA_xyz = pose.residue(i).xyz(\"CA\")\n",
    "    C_xyz = pose.residue(i).xyz(\"C\")\n",
    "\n",
    "    # Find vector between atoms\n",
    "    BA_vector = N_xyz - CA_xyz # CA and N\n",
    "    BC_vector = C_xyz - CA_xyz # CA and C\n",
    "\n",
    "    # Find dot product and norms\n",
    "    dot_prod = BA_vector.dot(BC_vector) \n",
    "    BA_norm = BA_vector.norm()\n",
    "    BC_norm = BC_vector.norm()\n",
    "\n",
    "    # Find vector angle between CA, C, and N\n",
    "    vector_angle_rad = math.acos(dot_prod/ ((BA_norm)*(BC_norm)))\n",
    "    vector_angle_deg = vector_angle_rad *180/math.pi\n",
    "    \n",
    "    return vector_angle_deg"
   ]
  },
  {
   "cell_type": "code",
   "execution_count": 56,
   "metadata": {
    "deletable": false,
    "nbgrader": {
     "cell_type": "code",
     "checksum": "8fc373507a10eb231be0c41ad47db056",
     "grade": true,
     "grade_id": "cell-fedb8e14e128bce1",
     "locked": false,
     "points": 0,
     "schema_version": 3,
     "solution": true
    }
   },
   "outputs": [
    {
     "data": {
      "text/plain": [
       "(array([  4.,  26.,  60.,  77., 172.,  91.,  64.,  17.,   7.,   2.]),\n",
       " array([105.73952605, 106.92168833, 108.1038506 , 109.28601288,\n",
       "        110.46817515, 111.65033743, 112.8324997 , 114.01466197,\n",
       "        115.19682425, 116.37898652, 117.5611488 ]),\n",
       " <a list of 10 Patch objects>)"
      ]
     },
     "execution_count": 56,
     "metadata": {},
     "output_type": "execute_result"
    },
    {
     "data": {
      "image/png": "[encoded data removed]",
      "text/plain": [
       "<Figure size 432x288 with 1 Axes>"
      ]
     },
     "metadata": {
      "needs_background": "light"
     },
     "output_type": "display_data"
    }
   ],
   "source": [
    "# YOUR CODE HERE\n",
    "import math\n",
    "total_number_of_residues = pose.total_residue()\n",
    "angle_list = []\n",
    "\n",
    "for i in range(1, total_number_of_residues + 1):\n",
    "    res = pose.residue(i)\n",
    "    \n",
    "    if not(res.has('N') or res.has('CA') or res.has('C')):\n",
    "        continue\n",
    "    else:\n",
    "        angle_list.append(bond_angle_NCC(i))\n",
    "\n",
    "plt.hist(angle_list)"
   ]
  },
  {
   "cell_type": "markdown",
   "metadata": {},
   "source": [
    "3. Plot the Ramachandran plot for the protein to check that it makes sense. Are any phi/psi where they shouldn't be?"
   ]
  },
  {
   "cell_type": "code",
   "execution_count": 57,
   "metadata": {},
   "outputs": [
    {
     "data": {
      "text/plain": [
       "-103.85516470979323"
      ]
     },
     "execution_count": 57,
     "metadata": {},
     "output_type": "execute_result"
    }
   ],
   "source": [
    "pose.phi(25)"
   ]
  },
  {
   "cell_type": "code",
   "execution_count": 61,
   "metadata": {
    "deletable": false,
    "nbgrader": {
     "cell_type": "code",
     "checksum": "0b1bf6254daf2dc35fd97521d2a591e8",
     "grade": true,
     "grade_id": "cell-f8e2f40d1c803da9",
     "locked": false,
     "points": 0,
     "schema_version": 3,
     "solution": true
    }
   },
   "outputs": [
    {
     "data": {
      "text/plain": [
       "<matplotlib.collections.PathCollection at 0x15671fbd0>"
      ]
     },
     "execution_count": 61,
     "metadata": {},
     "output_type": "execute_result"
    },
    {
     "data": {
      "image/png": "[encoded data removed]",
      "text/plain": [
       "<Figure size 432x288 with 1 Axes>"
      ]
     },
     "metadata": {
      "needs_background": "light"
     },
     "output_type": "display_data"
    }
   ],
   "source": [
    "# YOUR CODE HERE\n",
    "phi_list = []\n",
    "psi_list = []\n",
    "\n",
    "for i in range(1, total_number_of_residues + 1):\n",
    "    if pose.residue(i).is_protein():\n",
    "        phi_list.append(pose.phi(i))\n",
    "        psi_list.append(pose.psi(i))\n",
    "        \n",
    "# Plot \n",
    "plt.scatter(phi_list, psi_list)"
   ]
  },
  {
   "cell_type": "markdown",
   "metadata": {},
   "source": [
    "### Analyzing Amino Acid Patterns"
   ]
  },
  {
   "cell_type": "markdown",
   "metadata": {},
   "source": [
    "1. Using PyMOL, find all the polar amino acids in the protein. Do you see a pattern here?"
   ]
  },
  {
   "cell_type": "code",
   "execution_count": null,
   "metadata": {},
   "outputs": [],
   "source": []
  },
  {
   "cell_type": "markdown",
   "metadata": {},
   "source": [
    "2. For each side chain, find its closest side-chain neighbor in 3D space. Plot a histogram of these distances. Which amino acids have side chains that are the furthest from another side chain? Where are they located in the protein?\n",
    "\n",
    "Note: in `Residue`, each atom is either a backbone atom or it is a side-chain atom."
   ]
  },
  {
   "cell_type": "code",
   "execution_count": 63,
   "metadata": {
    "deletable": false,
    "nbgrader": {
     "cell_type": "code",
     "checksum": "e2d24bea37ca7cb7b9209dec3c8a3156",
     "grade": true,
     "grade_id": "cell-b0b868b90775da11",
     "locked": false,
     "points": 0,
     "schema_version": 3,
     "solution": true
    }
   },
   "outputs": [
    {
     "name": "stdout",
     "output_type": "stream",
     "text": [
      "[]\n"
     ]
    },
    {
     "data": {
      "image/png": "[encoded data removed]",
      "text/plain": [
       "<Figure size 432x288 with 1 Axes>"
      ]
     },
     "metadata": {
      "needs_background": "light"
     },
     "output_type": "display_data"
    }
   ],
   "source": [
    "# YOUR CODE HERE\n",
    "nearest_dist2 = []\n",
    "\n",
    "for i in range(1, total_number_of_residues + 1):\n",
    "    resi = pose.residue(i)\n",
    "    \n",
    "    if not resi.is_protein():\n",
    "        continue\n",
    "    \n",
    "    idist2_min = -1 # initalize closest distance variable\n",
    "    \n",
    "    for j in range(1, total_number_of_residues + 1):\n",
    "        if i == j:\n",
    "            continue\n",
    "        \n",
    "        resj = pose.residue(j)\n",
    "        \n",
    "        if not resj.is_protein():\n",
    "            continue\n",
    "            \n",
    "        for k in range(1, resi.natoms() + 1):\n",
    "            if resi.atom_is_backbone(k):\n",
    "                continue\n",
    "                \n",
    "            for l in range(1, resj.natoms() + 1):\n",
    "                if resj.atom_is_backbone(l):\n",
    "                    continue\n",
    "                    \n",
    "                    d2 = resi.xyz(k).distance_squared(resj.xyz(l))\n",
    "                    if idist2_min < 0 or idist2_min > d2:\n",
    "                        idist2_min = d2 \n",
    "                        \n",
    "    if idist2_min < 0:\n",
    "        continue\n",
    "    else:\n",
    "        nearest_dist2.append((i, resi.name(), idist2_min))\n",
    "        \n",
    "nearest_dists = [math.sqrt(d2) for i, _, d2 in nearest_dist2]\n",
    "print(nearest_dists)\n",
    "# Plot\n",
    "plt.hist(nearest_dists)\n",
    "plt.show()"
   ]
  },
  {
   "cell_type": "code",
   "execution_count": null,
   "metadata": {},
   "outputs": [],
   "source": [
    "### BEGIN SOLUTION\n",
    "\n",
    "nearest_dist2 = []\n",
    "for i in range(1,pose.total_residue()+1):\n",
    "    ires = pose.residue(i)\n",
    "    if not ires.is_protein():\n",
    "        continue\n",
    "    idist2_min = -1\n",
    "    for j in range(1,pose.total_residue()+1):\n",
    "        if i == j:\n",
    "            continue\n",
    "        jres = pose.residue(j)\n",
    "        if not jres.is_protein():\n",
    "            continue\n",
    "        for k in range(1,ires.natoms()+1):\n",
    "            if ires.atom_is_backbone(k):\n",
    "                continue\n",
    "            for l in range(1,jres.natoms()+1):\n",
    "                if jres.atom_is_backbone(l):\n",
    "                    continue\n",
    "                d2 = ires.xyz(k).distance_squared(jres.xyz(l))\n",
    "                if idist2_min < 0 or idist2_min > d2:\n",
    "                    idist2_min = d2\n",
    "    #print(\"i dists\", i, [math.sqrt(d2) for d2 in idists2])\n",
    "    #if len(idists2) == 0:\n",
    "    #    continue\n",
    "    if idist2_min < 0:\n",
    "        continue\n",
    "    nearest_dist2.append((i, ires.name(), idist2_min))\n",
    "nearest_dists = [math.sqrt(d2) for i, _, d2 in nearest_dist2]\n",
    "plt.hist(nearest_dists)\n",
    "plt.show()\n",
    "\n",
    "### END SOLUTION"
   ]
  },
  {
   "cell_type": "code",
   "execution_count": null,
   "metadata": {
    "deletable": false,
    "nbgrader": {
     "cell_type": "code",
     "checksum": "451facaea315718e61b556d148509cbc",
     "grade": true,
     "grade_id": "cell-8378961153435df5",
     "locked": false,
     "points": 0,
     "schema_version": 3,
     "solution": true
    }
   },
   "outputs": [],
   "source": [
    "# YOUR CODE HERE\n",
    "raise NotImplementedError()"
   ]
  },
  {
   "cell_type": "code",
   "execution_count": null,
   "metadata": {
    "deletable": false,
    "nbgrader": {
     "cell_type": "code",
     "checksum": "e23b217b41ee2f3e9aef652f9c78a6cd",
     "grade": true,
     "grade_id": "cell-632f87a108fc53d6",
     "locked": false,
     "points": 0,
     "schema_version": 3,
     "solution": true
    }
   },
   "outputs": [],
   "source": [
    "# YOUR CODE HERE\n",
    "raise NotImplementedError()"
   ]
  },
  {
   "cell_type": "code",
   "execution_count": null,
   "metadata": {},
   "outputs": [],
   "source": []
  },
  {
   "cell_type": "markdown",
   "metadata": {},
   "source": [
    "## Manipulating Protein Geometry"
   ]
  },
  {
   "cell_type": "markdown",
   "metadata": {},
   "source": [
    "We can also easily alter protein geometry using the Pose object. First, let's make a copy of the Pose object we loaded in initially so that we don't mess it up."
   ]
  },
  {
   "cell_type": "code",
   "execution_count": null,
   "metadata": {},
   "outputs": [],
   "source": [
    "pose_change = Pose()\n",
    "pose_change.assign(pose)"
   ]
  },
  {
   "cell_type": "markdown",
   "metadata": {},
   "source": [
    "Let's check that it looks the same."
   ]
  },
  {
   "cell_type": "code",
   "execution_count": null,
   "metadata": {},
   "outputs": [],
   "source": [
    "pose_change.sequence()"
   ]
  },
  {
   "cell_type": "markdown",
   "metadata": {},
   "source": [
    "**Note**: It would not be correct above to just write `pose_change = pose`. That would make a new pointer to the same instance of `Pose`, and changing `pose_change` would also change `pose`. Variables in Python are all pointers except for \"primatives\": ints, floats, etc. `Pose::assign` is a function you will use a lot this week."
   ]
  },
  {
   "cell_type": "code",
   "execution_count": null,
   "metadata": {},
   "outputs": [],
   "source": [
    "resid = pose_change.pdb_info().pdb2pose('A', 28)\n",
    "res_28 = pose_change.residue(resid)\n",
    "N28 = AtomID(res_28.atom_index(\"N\"), resid)\n",
    "CA28 = AtomID(res_28.atom_index(\"CA\"), resid)\n",
    "C28 = AtomID(res_28.atom_index(\"C\"), resid)"
   ]
  },
  {
   "cell_type": "code",
   "execution_count": null,
   "metadata": {},
   "outputs": [],
   "source": [
    "print(pose_change.conformation().bond_length(N28, CA28))"
   ]
  },
  {
   "cell_type": "code",
   "execution_count": null,
   "metadata": {},
   "outputs": [],
   "source": [
    "pose_change.conformation().set_bond_length(N28, CA28, 1.5)"
   ]
  },
  {
   "cell_type": "code",
   "execution_count": null,
   "metadata": {},
   "outputs": [],
   "source": [
    "print(pose_change.conformation().bond_length(N28, CA28))"
   ]
  },
  {
   "cell_type": "markdown",
   "metadata": {},
   "source": [
    "Again not all arbitrary bond lengths, angles, and torsions are available in the `Conformation` object. You can also set xyz coordinates for pose residues directly. \n",
    "\n",
    "Changing torsion angles for residues is also easy:"
   ]
  },
  {
   "cell_type": "code",
   "execution_count": null,
   "metadata": {},
   "outputs": [],
   "source": [
    "pose_change.set_phi(resid, -60)\n",
    "pose_change.set_psi(resid, -43)"
   ]
  },
  {
   "cell_type": "markdown",
   "metadata": {},
   "source": [
    "To understand what these changes are doing, we are going to briefly look at the **fold tree** for PafA."
   ]
  },
  {
   "cell_type": "code",
   "execution_count": null,
   "metadata": {},
   "outputs": [],
   "source": [
    "print(pose_change.fold_tree())\n",
    "fold_tree = pose_change.fold_tree()"
   ]
  },
  {
   "cell_type": "markdown",
   "metadata": {},
   "source": [
    "This looks a bit cryptic. The -1 edges indicate continuous stretches of bonded residues, and the numbered edges (here 1, 2, 3, 4) indicate non-bonded jumps from one residue to another. In this case, what are identities of residues 521, 522, 523, and 524? Why are these jump residues?"
   ]
  },
  {
   "cell_type": "code",
   "execution_count": null,
   "metadata": {},
   "outputs": [],
   "source": [
    "for i in (521, 522, 523, 524):\n",
    "    print(\"res\", i, pose_change.residue(i).name())\n",
    "    "
   ]
  },
  {
   "cell_type": "markdown",
   "metadata": {},
   "source": [
    "We can see that the whole protein is in a single chain from residue 1 to 520. The fold tree controls how changes to residue geometry propagate through the protein (left to right in the fold tree chain.) Based on the fold tree setup above, if you changed a torsion angle for residue 5, would the Cartesian coordinaes for residue 7 change? What about the coordinates for residue 3?"
   ]
  },
  {
   "cell_type": "markdown",
   "metadata": {},
   "source": [
    "Lets test it out."
   ]
  },
  {
   "cell_type": "code",
   "execution_count": null,
   "metadata": {},
   "outputs": [],
   "source": [
    "print(pose_change.residue(3).xyz(\"CA\"))\n",
    "print(pose_change.residue(7).xyz(\"CA\"))"
   ]
  },
  {
   "cell_type": "code",
   "execution_count": null,
   "metadata": {},
   "outputs": [],
   "source": [
    "pose_change.set_phi(resid, -30)"
   ]
  },
  {
   "cell_type": "code",
   "execution_count": null,
   "metadata": {},
   "outputs": [],
   "source": [
    "print(pose_change.residue(3).xyz(\"CA\"))\n",
    "print(pose_change.residue(7).xyz(\"CA\"))"
   ]
  },
  {
   "cell_type": "markdown",
   "metadata": {},
   "source": [
    "In a later lecture, we will learn more about the FoldTree and we will see how and why you might change a FoldTree."
   ]
  },
  {
   "cell_type": "markdown",
   "metadata": {},
   "source": [
    "## PyMOL Mover"
   ]
  },
  {
   "cell_type": "markdown",
   "metadata": {},
   "source": [
    "For the next step, you're going to need to locate the PyMOLRosettaServer.py file in your pyrosetta installation. It probably lives here:\n",
    "\n",
    "`/Users/andrew/anaconda3/envs/pyrosetta_env/lib/python3.7/site-packages/pyrosetta/PyMOLRosettaServer.py`\n",
    "\n",
    "except that instead of `/Users/andrew` it will be wherever your home directory is.\n",
    "\n",
    "\n",
    "(Or download the `PyMOLPyRosettaServer.py` script from the google drive to some reasonable location on your computer, *e.g.* `/Users/andrew/rosetta/pymol_setup/`).\n",
    "\n",
    "Add the following line to the file `.pymolrc` in your home directory (or create it if it doesn't exist yet): \n",
    "\n",
    "`run /Users/andrew/anaconda3/envs/pyrosetta_env/lib/python3.7/site-packages/pyrosetta/PyMOLRosettaServer.py`\n",
    "\n",
    "except with the `/Users/andrew` part replaced with your home directory\n",
    "\n",
    "(or with the directory wherever you stored that file if you downloaded it from the google drive)\n",
    "\n",
    "\n",
    "\n",
    "To check that these commands are run by PyMOL, open up PyMOL and check for a message like `PyMOL <--> PyRosetta link started!` in the dialog box. PyMOL is now listening for updates from PyRosetta on port 127.0.0.1 by default."
   ]
  },
  {
   "cell_type": "markdown",
   "metadata": {},
   "source": [
    "The `PyMOLMover` class will let us send information from PyRosetta to PyMOL for quick visualization. First we're going to make an instance of PyMOLMover."
   ]
  },
  {
   "cell_type": "code",
   "execution_count": null,
   "metadata": {},
   "outputs": [],
   "source": [
    "from pyrosetta import PyMOLMover\n",
    "pmm = PyMOLMover()"
   ]
  },
  {
   "cell_type": "markdown",
   "metadata": {},
   "source": [
    "To view the pose, you can use the apply method on your pose."
   ]
  },
  {
   "cell_type": "code",
   "execution_count": null,
   "metadata": {},
   "outputs": [],
   "source": [
    "pmm.apply(pose)"
   ]
  },
  {
   "cell_type": "markdown",
   "metadata": {},
   "source": [
    "The PyMOLMover has useful helper functions. For example, you can visualize all the hydrogen bonds in your protein with the following:"
   ]
  },
  {
   "cell_type": "code",
   "execution_count": null,
   "metadata": {},
   "outputs": [],
   "source": [
    "pmm.send_hbonds(pose)"
   ]
  },
  {
   "cell_type": "markdown",
   "metadata": {},
   "source": [
    "Just deselect the hydrogen bonds in PyMOL if you want to hide them temporarily. You can also color the pose based on energies of each residue **after** scoring the pose."
   ]
  },
  {
   "cell_type": "code",
   "execution_count": null,
   "metadata": {},
   "outputs": [],
   "source": [
    "sf = get_fa_scorefxn()\n",
    "sf(pose)"
   ]
  },
  {
   "cell_type": "code",
   "execution_count": null,
   "metadata": {},
   "outputs": [],
   "source": [
    "pmm.send_energy(pose)"
   ]
  },
  {
   "cell_type": "markdown",
   "metadata": {},
   "source": [
    "The structure colored from blue (low / favorable energy) to red (high / unfavorable energy). You can also color based on a specific energy term, for instsance the solvation energy below."
   ]
  },
  {
   "cell_type": "code",
   "execution_count": null,
   "metadata": {},
   "outputs": [],
   "source": [
    "pmm.send_energy(pose, \"fa_sol\")"
   ]
  },
  {
   "cell_type": "markdown",
   "metadata": {},
   "source": [
    "Which buried residues have high solvation energies?\n",
    "\n",
    "Instead of calling `send_energy` every time, if you activate `update_energy`, the coloring will be updated every time you call the PyMOLMover's `apply` method."
   ]
  },
  {
   "cell_type": "code",
   "execution_count": null,
   "metadata": {},
   "outputs": [],
   "source": [
    "pmm.update_energy(True) \n",
    "pmm.apply(pose)"
   ]
  },
  {
   "cell_type": "markdown",
   "metadata": {},
   "source": [
    "The method `keep_history`, if set to True, allows you to load in structures with the same name into states of the same object in PyMOL. This is the starting point for creating a PyMOL movie of your structure, and allows you to loop through structures in different geometries efficiently."
   ]
  },
  {
   "cell_type": "code",
   "execution_count": null,
   "metadata": {},
   "outputs": [],
   "source": [
    "pmm.keep_history(True) \n",
    "pmm.apply(pose_change)\n",
    "pose_change.set_phi(5, -90)\n",
    "pmm.apply(pose_change)"
   ]
  },
  {
   "cell_type": "markdown",
   "metadata": {},
   "source": [
    "## Exercises"
   ]
  },
  {
   "cell_type": "markdown",
   "metadata": {},
   "source": [
    "1. View PafA using the PyMOL mover apply function. Color the structure by VDW score (use fa_rep as your score term). Set the torsion angle of residue 28 to make some clashes. View the structure colored by VDW score again."
   ]
  },
  {
   "cell_type": "code",
   "execution_count": null,
   "metadata": {
    "deletable": false,
    "nbgrader": {
     "cell_type": "code",
     "checksum": "d7e901c869df83be8d13a2a0b881a37e",
     "grade": true,
     "grade_id": "cell-e82bd80c5b5c5a6f",
     "locked": false,
     "points": 0,
     "schema_version": 3,
     "solution": true
    }
   },
   "outputs": [],
   "source": [
    "# YOUR CODE HERE\n",
    "raise NotImplementedError()"
   ]
  },
  {
   "cell_type": "markdown",
   "metadata": {},
   "source": [
    "2. Make an ideal helix consisting of 12 A residues by setting torsion angles. View the structure in PyMOL using the PyMOL mover. Bonus: Make a PyMOL movie that shows the Pose shifting from its starting configuration to its final ideal helix step by step, with one residue changing its torsion angles at a time."
   ]
  },
  {
   "cell_type": "code",
   "execution_count": null,
   "metadata": {
    "deletable": false,
    "nbgrader": {
     "cell_type": "code",
     "checksum": "c10ac4efb559af2914f15147076e3457",
     "grade": true,
     "grade_id": "cell-2d9d645833f9ab6a",
     "locked": false,
     "points": 0,
     "schema_version": 3,
     "solution": true
    }
   },
   "outputs": [],
   "source": [
    "# YOUR CODE HERE\n",
    "raise NotImplementedError()"
   ]
  },
  {
   "cell_type": "markdown",
   "metadata": {},
   "source": [
    "## References\n",
    "This notebook includes some concepts and exercises from:\n",
    "\n",
    "\"Workshop #2: PyRosetta\" in the PyRosetta workbook: https://graylab.jhu.edu/pyrosetta/downloads/documentation/pyrosetta4_online_format/PyRosetta4_Workshop2_PyRosetta.pdf\n",
    "\n",
    "\"Workshop #4.1: PyMOL_Mover\" in the PyRosetta workbook: \n",
    "http://www.pyrosetta.org/pymol_mover-tutorial"
   ]
  }
 ],
 "metadata": {
  "kernelspec": {
   "display_name": "Python 3",
   "language": "python",
   "name": "python3"
  },
  "language_info": {
   "codemirror_mode": {
    "name": "ipython",
    "version": 3
   },
   "file_extension": ".py",
   "mimetype": "text/x-python",
   "name": "python",
   "nbconvert_exporter": "python",
   "pygments_lexer": "ipython3",
   "version": "3.7.7"
  }
 },
 "nbformat": 4,
 "nbformat_minor": 2
}
