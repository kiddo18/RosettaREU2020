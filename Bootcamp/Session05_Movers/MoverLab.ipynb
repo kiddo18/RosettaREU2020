{
 "cells": [
  {
   "cell_type": "markdown",
   "metadata": {},
   "source": [
    "# Mover Lab\n",
    "In this lab, you will learn to use Movers to manipulate poses. "
   ]
  },
  {
   "cell_type": "code",
   "execution_count": 1,
   "metadata": {},
   "outputs": [
    {
     "name": "stdout",
     "output_type": "stream",
     "text": [
      "PyRosetta-4 2020 [Rosetta PyRosetta4.conda.mac.python37.Release 2020.02+release.22ef835b4a2647af94fcd6421a85720f07eddf12 2020-01-05T17:31:56] retrieved from: http://www.pyrosetta.org\n",
      "(C) Copyright Rosetta Commons Member Institutions. Created in JHU by Sergey Lyskov and PyRosetta Team.\n",
      "\u001b[0mcore.init: {0} \u001b[0mChecking for fconfig files in pwd and ./rosetta/flags\n",
      "\u001b[0mcore.init: {0} \u001b[0mRosetta version: PyRosetta4.conda.mac.python37.Release r242 2020.02+release.22ef835b4a2 22ef835b4a2647af94fcd6421a85720f07eddf12 http://www.pyrosetta.org 2020-01-05T17:31:56\n",
      "\u001b[0mcore.init: {0} \u001b[0mcommand: PyRosetta -ex1 -ex2aro -database /Users/paul/anaconda3/envs/pyrosetta_env/lib/python3.7/site-packages/pyrosetta/database\n",
      "\u001b[0mbasic.random.init_random_generator: {0} \u001b[0m'RNG device' seed mode, using '/dev/urandom', seed=-487033356 seed_offset=0 real_seed=-487033356 thread_index=0\n",
      "\u001b[0mbasic.random.init_random_generator: {0} \u001b[0mRandomGenerator:init: Normal mode, seed=-487033356 RG_type=mt19937\n"
     ]
    }
   ],
   "source": [
    "import pyrosetta\n",
    "\n",
    "pyrosetta.init()"
   ]
  },
  {
   "cell_type": "markdown",
   "metadata": {},
   "source": [
    "Let's load the structure 2WPT, which is a complex of protein Im2 and colicin E9 DNase. Researchers have introduced various mutations to the interface to study the changes of binding free energy."
   ]
  },
  {
   "cell_type": "code",
   "execution_count": 2,
   "metadata": {},
   "outputs": [
    {
     "name": "stdout",
     "output_type": "stream",
     "text": [
      "\u001b[0mcore.chemical.GlobalResidueTypeSet: {0} \u001b[0mFinished initializing fa_standard residue type set.  Created 980 residue types\n",
      "\u001b[0mcore.chemical.GlobalResidueTypeSet: {0} \u001b[0mTotal time to initialize 1.21869 seconds.\n",
      "\u001b[0mcore.import_pose.import_pose: {0} \u001b[0mFile '2wpt.pdb' automatically determined to be of type PDB\n",
      "\u001b[0mcore.chemical.GlobalResidueTypeSet: {0} \u001b[0mLoading (but possibly not actually using) 'GOL' from the PDB components dictionary for residue type 'pdb_GOL'\n",
      "\u001b[0mcore.chemical.GlobalResidueTypeSet: {0} \u001b[0mLoading (but possibly not actually using) 'NO3' from the PDB components dictionary for residue type 'pdb_NO3'\n",
      "\u001b[0mcore.conformation.Conformation: {0} \u001b[0m\u001b[1m[ WARNING ]\u001b[0m missing heavyatom:  OXT on residue GLN:CtermProteinFull 82\n",
      "\u001b[0mcore.conformation.Conformation: {0} \u001b[0m\u001b[1m[ WARNING ]\u001b[0m missing heavyatom:  OXT on residue LYS:CtermProteinFull 198\n"
     ]
    }
   ],
   "source": [
    "pose = pyrosetta.rosetta.core.import_pose.pose_from_file('2wpt.pdb')"
   ]
  },
  {
   "cell_type": "markdown",
   "metadata": {},
   "source": [
    "Open a PyMol window. Initialize a PyMol mover and let it send the pose to a PyMol session. As its name suggested, the PyMOLMover is a mover because it is derived from the Mover class. However, it is a special one, since it does not change the pose, but send the pose to PyMol. In PyMol, if you color the structure by chains, you can see that there are two proteins."
   ]
  },
  {
   "cell_type": "code",
   "execution_count": 3,
   "metadata": {},
   "outputs": [],
   "source": [
    "pmm = pyrosetta.PyMOLMover()\n",
    "pmm.apply(pose)"
   ]
  },
  {
   "cell_type": "markdown",
   "metadata": {},
   "source": [
    "## Backbone movers\n",
    "Let's try to modify the protein backbone. The simplest way to sample backbone conformations is introducing random perturbations. The SmallMover makes small independent random perturbations of the phi and psi torsion angles of random residues. It uses the rama score to ensure that only favorable backbone torsion angles are being selected. Let's initialize a SmallMover and let it introduce 10 random perturbations."
   ]
  },
  {
   "cell_type": "code",
   "execution_count": 4,
   "metadata": {},
   "outputs": [
    {
     "name": "stdout",
     "output_type": "stream",
     "text": [
      "\u001b[0mcore.scoring.ramachandran: {0} \u001b[0mshapovalov_lib::shap_rama_smooth_level of 4( aka highest_smooth ) got activated.\n",
      "\u001b[0mbasic.io.database: {0} \u001b[0mDatabase file opened: scoring/score_functions/rama/shapovalov/kappa25/all.ramaProb\n",
      "\u001b[0mbasic.io.database: {0} \u001b[0mDatabase file opened: scoring/score_functions/rama/flat/avg_L_rama.dat\n",
      "\u001b[0mcore.scoring.ramachandran: {0} \u001b[0mReading custom Ramachandran table from scoring/score_functions/rama/flat/avg_L_rama.dat.\n",
      "\u001b[0mbasic.io.database: {0} \u001b[0mDatabase file opened: scoring/score_functions/rama/flat/sym_all_rama.dat\n",
      "\u001b[0mcore.scoring.ramachandran: {0} \u001b[0mReading custom Ramachandran table from scoring/score_functions/rama/flat/sym_all_rama.dat.\n",
      "\u001b[0mbasic.io.database: {0} \u001b[0mDatabase file opened: scoring/score_functions/rama/flat/sym_G_rama.dat\n",
      "\u001b[0mcore.scoring.ramachandran: {0} \u001b[0mReading custom Ramachandran table from scoring/score_functions/rama/flat/sym_G_rama.dat.\n",
      "\u001b[0mbasic.io.database: {0} \u001b[0mDatabase file opened: scoring/score_functions/rama/flat/sym_P_rama.dat\n",
      "\u001b[0mcore.scoring.ramachandran: {0} \u001b[0mReading custom Ramachandran table from scoring/score_functions/rama/flat/sym_P_rama.dat.\n",
      "\u001b[0mbasic.io.database: {0} \u001b[0mDatabase file opened: scoring/score_functions/rama/flat/avg_L_rama_str.dat\n",
      "\u001b[0mcore.scoring.ramachandran: {0} \u001b[0mReading custom Ramachandran table from scoring/score_functions/rama/flat/avg_L_rama_str.dat.\n",
      "\u001b[0mbasic.io.database: {0} \u001b[0mDatabase file opened: scoring/score_functions/rama/flat/sym_all_rama_str.dat\n",
      "\u001b[0mcore.scoring.ramachandran: {0} \u001b[0mReading custom Ramachandran table from scoring/score_functions/rama/flat/sym_all_rama_str.dat.\n",
      "\u001b[0mbasic.io.database: {0} \u001b[0mDatabase file opened: scoring/score_functions/rama/flat/sym_G_rama_str.dat\n",
      "\u001b[0mcore.scoring.ramachandran: {0} \u001b[0mReading custom Ramachandran table from scoring/score_functions/rama/flat/sym_G_rama_str.dat.\n",
      "\u001b[0mbasic.io.database: {0} \u001b[0mDatabase file opened: scoring/score_functions/rama/flat/sym_P_rama_str.dat\n",
      "\u001b[0mcore.scoring.ramachandran: {0} \u001b[0mReading custom Ramachandran table from scoring/score_functions/rama/flat/sym_P_rama_str.dat.\n"
     ]
    }
   ],
   "source": [
    "small_mover = pyrosetta.rosetta.protocols.simple_moves.SmallMover()\n",
    "small_mover.nmoves(10)\n",
    "small_mover.apply(pose)\n",
    "\n",
    "pmm.pymol_name('small_moved')\n",
    "pmm.apply(pose)"
   ]
  },
  {
   "cell_type": "markdown",
   "metadata": {},
   "source": [
    "In PyMol, compare the structures before and after perturbation. Do you find anything weird? Yes, the C-terminus changes much more than the N-terminus. This is called the lever effect in backbone sampling. The change at a residue will propagate to all its downstream residues. Because of the lever-arm effect, backbone perturbations are not local and bad contacts can be easily introduced.\n",
    "\n",
    "The ShearMover deals with the lever effect. Instead of independently sampling backbone torsions, it changes torsions of two consecutive residues together in a way that the downstream lever effect is reduced. Let's import a fresh pose, initialize a ShearMover and let it introduce 100 perturbations."
   ]
  },
  {
   "cell_type": "code",
   "execution_count": 5,
   "metadata": {},
   "outputs": [
    {
     "name": "stdout",
     "output_type": "stream",
     "text": [
      "\u001b[0mcore.import_pose.import_pose: {0} \u001b[0mFile '2wpt.pdb' automatically determined to be of type PDB\n",
      "\u001b[0mcore.conformation.Conformation: {0} \u001b[0m\u001b[1m[ WARNING ]\u001b[0m missing heavyatom:  OXT on residue GLN:CtermProteinFull 82\n",
      "\u001b[0mcore.conformation.Conformation: {0} \u001b[0m\u001b[1m[ WARNING ]\u001b[0m missing heavyatom:  OXT on residue LYS:CtermProteinFull 198\n"
     ]
    }
   ],
   "source": [
    "pose = pyrosetta.rosetta.core.import_pose.pose_from_file('2wpt.pdb')\n",
    "shear_mover = pyrosetta.rosetta.protocols.simple_moves.ShearMover()\n",
    "shear_mover.nmoves(100)\n",
    "shear_mover.apply(pose)\n",
    "\n",
    "pmm.pymol_name('shear_moved')\n",
    "pmm.apply(pose)"
   ]
  },
  {
   "cell_type": "markdown",
   "metadata": {},
   "source": [
    "Now you should see that the lever-arm effect is reduced, but not completely gone. \n",
    "\n",
    "\"Backrub\" is one method to realize true local sampling. The trade off is that backbone bond angles are changed slightly. Initialize a BackrubMover and apply 100 times."
   ]
  },
  {
   "cell_type": "code",
   "execution_count": 6,
   "metadata": {},
   "outputs": [
    {
     "name": "stdout",
     "output_type": "stream",
     "text": [
      "\u001b[0mcore.import_pose.import_pose: {0} \u001b[0mFile '2wpt.pdb' automatically determined to be of type PDB\n",
      "\u001b[0mcore.conformation.Conformation: {0} \u001b[0m\u001b[1m[ WARNING ]\u001b[0m missing heavyatom:  OXT on residue GLN:CtermProteinFull 82\n",
      "\u001b[0mcore.conformation.Conformation: {0} \u001b[0m\u001b[1m[ WARNING ]\u001b[0m missing heavyatom:  OXT on residue LYS:CtermProteinFull 198\n",
      "\u001b[0mcore.mm.MMBondAngleLibrary: {0} \u001b[0mMM bond angle sets added fully assigned: 603; wildcard: 0 and 1 virtual parameter.\n",
      "\u001b[0mbasic.io.database: {0} \u001b[0mDatabase file opened: sampling/branch_angle/branch_angle_1.txt\n",
      "\u001b[0mbasic.io.database: {0} \u001b[0mDatabase file opened: sampling/branch_angle/branch_angle_2.txt\n",
      "\u001b[0mprotocols.backrub.BackrubMover: {0} \u001b[0mSegment lengths: 3-34 atoms\n",
      "\u001b[0mprotocols.backrub.BackrubMover: {0} \u001b[0mMain chain pivot atoms: CA\n",
      "\u001b[0mprotocols.backrub.BackrubMover: {0} \u001b[0mAdding backrub segments for residues 1-200\n",
      "\u001b[0mprotocols.backrub.BackrubMover: {0} \u001b[0mTotal Segments Added: 1778\n"
     ]
    }
   ],
   "source": [
    "pose = pyrosetta.rosetta.core.import_pose.pose_from_file('2wpt.pdb')\n",
    "br_mover = pyrosetta.rosetta.protocols.backrub.BackrubMover()\n",
    "for i in range(100):\n",
    "    br_mover.apply(pose)\n",
    "\n",
    "pmm.pymol_name('backrub_moved')\n",
    "pmm.apply(pose)"
   ]
  },
  {
   "cell_type": "markdown",
   "metadata": {},
   "source": [
    "Now you can see that the perturbations are evenly distributed throughout the structure."
   ]
  },
  {
   "cell_type": "markdown",
   "metadata": {},
   "source": [
    "## Mutate residues\n",
    "Protein designers constantly explore conformation and sequence spaces of proteins. You already learned methods to sample the backbone conformation space, now it's time to consider introducing mutations.\n",
    "\n",
    "A previous study showed that the N34V R38T mutations on chain A lowers binding free energy by -2.60 kcal/mol. Let's introduce these two mutations to our structure. Again, import a fresh pose."
   ]
  },
  {
   "cell_type": "code",
   "execution_count": 7,
   "metadata": {},
   "outputs": [
    {
     "name": "stdout",
     "output_type": "stream",
     "text": [
      "\u001b[0mcore.import_pose.import_pose: {0} \u001b[0mFile '2wpt.pdb' automatically determined to be of type PDB\n",
      "\u001b[0mcore.conformation.Conformation: {0} \u001b[0m\u001b[1m[ WARNING ]\u001b[0m missing heavyatom:  OXT on residue GLN:CtermProteinFull 82\n",
      "\u001b[0mcore.conformation.Conformation: {0} \u001b[0m\u001b[1m[ WARNING ]\u001b[0m missing heavyatom:  OXT on residue LYS:CtermProteinFull 198\n"
     ]
    }
   ],
   "source": [
    "pose = pyrosetta.rosetta.core.import_pose.pose_from_file('2wpt.pdb')"
   ]
  },
  {
   "cell_type": "markdown",
   "metadata": {},
   "source": [
    "In Rosetta, residues in a pose are numbered from 1 to N which is the total number of residues. This indexing system is different from what you see from a PDB file. For example, the first lysine in our structure has Rosetta index 1 but its pdb index is A4. In order to introduce mutations, we need to first figure out the Rosetta indices of the residues of our interest. As we have done before, we will turn to the PDBInfo object attached to a pose."
   ]
  },
  {
   "cell_type": "code",
   "execution_count": 8,
   "metadata": {},
   "outputs": [
    {
     "name": "stdout",
     "output_type": "stream",
     "text": [
      "31\n",
      "35\n"
     ]
    }
   ],
   "source": [
    "print(pose.pdb_info().pdb2pose('A', 34))\n",
    "print(pose.pdb_info().pdb2pose('A', 38))"
   ]
  },
  {
   "cell_type": "markdown",
   "metadata": {},
   "source": [
    "Use the MutateResidue mover to introduce mutations N34V R38T."
   ]
  },
  {
   "cell_type": "code",
   "execution_count": 9,
   "metadata": {},
   "outputs": [],
   "source": [
    "mutater = pyrosetta.rosetta.protocols.simple_moves.MutateResidue()\n",
    "\n",
    "mutater.set_target(31)\n",
    "mutater.set_res_name('VAL')\n",
    "mutater.apply(pose)\n",
    "\n",
    "mutater.set_target(35)\n",
    "mutater.set_res_name('THR')\n",
    "mutater.apply(pose)\n",
    "\n",
    "pmm.pymol_name('mutated')\n",
    "pmm.apply(pose)"
   ]
  },
  {
   "cell_type": "markdown",
   "metadata": {},
   "source": [
    "Now you should be able to see these mutations in PyMol. Now you learned movers that can help you expore the backbone and sequence spaces. You may have realized that the side chain conformations, which are very important, are not sampled. Side chain sampling will be covered in later labs."
   ]
  },
  {
   "cell_type": "markdown",
   "metadata": {},
   "source": [
    "## Exercises\n",
    "1. Use the functions you learned from the previous lecture to score the poses before and after mutation. What is the change of the score value? Does it match the experimentally measured -2.60 kcal/mol? What score terms change significantly? What 10 residues' scores change the most? Do their changes make sense?\n",
    "\n",
    "(Hint: it is possible to take the difference between two `EMapVector`s, but currently the functionality is half broken. If you have `emap1` and `emap2`, you can calculate the difference as follows:\n",
    "```\n",
    "diff_emap = EnergyMap(emap1)\n",
    "temp_emap = diff_emap # create a reference to the same object\n",
    "temp_emap -= emap2\n",
    "print(temp_emap) # temp_emap is now None. This is the \"half broken\" part\n",
    "print(diff_emap) # diff_emap has been modified\n",
    "```\n",
    "\n",
    "As of 5/27/2019, I have fixed this code in Rosetta's C++ version, but the fix will not make it out to your pyrosetta download in time for the 6/6/2019 code school.)"
   ]
  },
  {
   "cell_type": "code",
   "execution_count": 10,
   "metadata": {},
   "outputs": [
    {
     "name": "stdout",
     "output_type": "stream",
     "text": [
      "\u001b[0mcore.scoring.ScoreFunctionFactory: {0} \u001b[0mSCOREFUNCTION: \u001b[32mref2015\u001b[0m\n",
      "\u001b[0mcore.scoring.etable: {0} \u001b[0mStarting energy table calculation\n",
      "\u001b[0mcore.scoring.etable: {0} \u001b[0msmooth_etable: changing atr/rep split to bottom of energy well\n",
      "\u001b[0mcore.scoring.etable: {0} \u001b[0msmooth_etable: spline smoothing lj etables (maxdis = 6)\n",
      "\u001b[0mcore.scoring.etable: {0} \u001b[0msmooth_etable: spline smoothing solvation etables (max_dis = 6)\n",
      "\u001b[0mcore.scoring.etable: {0} \u001b[0mFinished calculating energy tables.\n",
      "\u001b[0mbasic.io.database: {0} \u001b[0mDatabase file opened: scoring/score_functions/hbonds/ref2015_params/HBPoly1D.csv\n",
      "\u001b[0mbasic.io.database: {0} \u001b[0mDatabase file opened: scoring/score_functions/hbonds/ref2015_params/HBFadeIntervals.csv\n",
      "\u001b[0mbasic.io.database: {0} \u001b[0mDatabase file opened: scoring/score_functions/hbonds/ref2015_params/HBEval.csv\n",
      "\u001b[0mbasic.io.database: {0} \u001b[0mDatabase file opened: scoring/score_functions/hbonds/ref2015_params/DonStrength.csv\n",
      "\u001b[0mbasic.io.database: {0} \u001b[0mDatabase file opened: scoring/score_functions/hbonds/ref2015_params/AccStrength.csv\n",
      "\u001b[0mbasic.io.database: {0} \u001b[0mDatabase file opened: scoring/score_functions/rama/fd/all.ramaProb\n",
      "\u001b[0mbasic.io.database: {0} \u001b[0mDatabase file opened: scoring/score_functions/rama/fd/prepro.ramaProb\n",
      "\u001b[0mbasic.io.database: {0} \u001b[0mDatabase file opened: scoring/score_functions/omega/omega_ppdep.all.txt\n",
      "\u001b[0mbasic.io.database: {0} \u001b[0mDatabase file opened: scoring/score_functions/omega/omega_ppdep.gly.txt\n",
      "\u001b[0mbasic.io.database: {0} \u001b[0mDatabase file opened: scoring/score_functions/omega/omega_ppdep.pro.txt\n",
      "\u001b[0mbasic.io.database: {0} \u001b[0mDatabase file opened: scoring/score_functions/omega/omega_ppdep.valile.txt\n",
      "\u001b[0mbasic.io.database: {0} \u001b[0mDatabase file opened: scoring/score_functions/P_AA_pp/P_AA\n",
      "\u001b[0mbasic.io.database: {0} \u001b[0mDatabase file opened: scoring/score_functions/P_AA_pp/P_AA_n\n",
      "\u001b[0mcore.scoring.P_AA: {0} \u001b[0mshapovalov_lib::shap_p_aa_pp_smooth_level of 1( aka low_smooth ) got activated.\n",
      "\u001b[0mbasic.io.database: {0} \u001b[0mDatabase file opened: scoring/score_functions/P_AA_pp/shapovalov/10deg/kappa131/a20.prop\n"
     ]
    }
   ],
   "source": [
    "from pyrosetta import *\n",
    "sfxn = get_score_function()"
   ]
  },
  {
   "cell_type": "code",
   "execution_count": 11,
   "metadata": {},
   "outputs": [
    {
     "name": "stdout",
     "output_type": "stream",
     "text": [
      "\u001b[0mcore.import_pose.import_pose: {0} \u001b[0mFile '2WPT.clean.pdb' automatically determined to be of type PDB\n",
      "\u001b[0mcore.conformation.Conformation: {0} \u001b[0m\u001b[1m[ WARNING ]\u001b[0m missing heavyatom:  OXT on residue GLN:CtermProteinFull 82\n",
      "\u001b[0mcore.conformation.Conformation: {0} \u001b[0m\u001b[1m[ WARNING ]\u001b[0m missing heavyatom:  OXT on residue LYS:CtermProteinFull 195\n"
     ]
    }
   ],
   "source": [
    "# Initialize poses before and after mutation\n",
    "orig_pose = pyrosetta.toolbox.pose_from_rcsb('2wpt')\n",
    "pose = Pose(orig_pose)\n",
    "mut_pose = Pose(orig_pose)"
   ]
  },
  {
   "cell_type": "code",
   "execution_count": 48,
   "metadata": {},
   "outputs": [],
   "source": [
    "# Apply mutation\n",
    "mutater31 = pyrosetta.rosetta.protocols.simple_moves.MutateResidue()\n",
    "\n",
    "mutater31.set_target(31)\n",
    "mutater31.set_res_name('VAL')\n",
    "mutater31.apply(mut_pose)\n",
    "\n",
    "mutater35 = pyrosetta.rosetta.protocols.simple_moves.MutateResidue()\n",
    "mutater35.set_target(35)\n",
    "mutater35.set_res_name('THR')\n",
    "mutater35.apply(mut_pose)"
   ]
  },
  {
   "cell_type": "code",
   "execution_count": 13,
   "metadata": {
    "deletable": false,
    "nbgrader": {
     "cell_type": "code",
     "checksum": "37d948a3d7643abe8d7adb0d720d4b55",
     "grade": true,
     "grade_id": "cell-435f4bfb81cbae06",
     "locked": false,
     "points": 0,
     "schema_version": 3,
     "solution": true
    }
   },
   "outputs": [
    {
     "name": "stdout",
     "output_type": "stream",
     "text": [
      "\u001b[0mbasic.io.database: {0} \u001b[0mDatabase file opened: scoring/score_functions/elec_cp_reps.dat\n",
      "\u001b[0mcore.scoring.elec.util: {0} \u001b[0mRead 40 countpair representative atoms\n",
      "\u001b[0mcore.pack.dunbrack.RotamerLibrary: {0} \u001b[0mshapovalov_lib_fixes_enable option is true.\n",
      "\u001b[0mcore.pack.dunbrack.RotamerLibrary: {0} \u001b[0mshapovalov_lib::shap_dun10_smooth_level of 1( aka lowest_smooth ) got activated.\n",
      "\u001b[0mcore.pack.dunbrack.RotamerLibrary: {0} \u001b[0mBinary rotamer library selected: /Users/paul/anaconda3/envs/pyrosetta_env/lib/python3.7/site-packages/pyrosetta/database/rotamer/shapovalov/StpDwn_0-0-0/Dunbrack10.lib.bin\n",
      "\u001b[0mcore.pack.dunbrack.RotamerLibrary: {0} \u001b[0mUsing Dunbrack library binary file '/Users/paul/anaconda3/envs/pyrosetta_env/lib/python3.7/site-packages/pyrosetta/database/rotamer/shapovalov/StpDwn_0-0-0/Dunbrack10.lib.bin'.\n",
      "\u001b[0mcore.pack.dunbrack.RotamerLibrary: {0} \u001b[0mDunbrack 2010 library took 0.338424 seconds to load from binary\n",
      "pose_before score: -40.64878956423769\n",
      "pose_mutated score: -16.66274123179836\n",
      "23.986048332439328\n"
     ]
    }
   ],
   "source": [
    "# YOUR CODE HERE PROBLEM 1\n",
    "pose_before_score = sfxn(pose)\n",
    "pose_mutated_score = sfxn(mut_pose)\n",
    "print(\"pose_before score:\", pose_before_score)\n",
    "print(\"pose_mutated score:\", pose_mutated_score)\n",
    "change_score_val = pose_mutated_score - pose_before_score\n",
    "print('ddG =', change_score_val) # experimental result -2.6 kcal/mol"
   ]
  },
  {
   "cell_type": "code",
   "execution_count": 14,
   "metadata": {},
   "outputs": [],
   "source": [
    "total_number_of_residues = pose.total_residue()"
   ]
  },
  {
   "cell_type": "code",
   "execution_count": 15,
   "metadata": {},
   "outputs": [
    {
     "name": "stdout",
     "output_type": "stream",
     "text": [
      "\u001b[0mcore.scoring.ScoreFunctionFactory: {0} \u001b[0mSCOREFUNCTION: \u001b[32mref2015\u001b[0m\n"
     ]
    }
   ],
   "source": [
    "sxfn = get_score_function()"
   ]
  },
  {
   "cell_type": "code",
   "execution_count": 18,
   "metadata": {},
   "outputs": [
    {
     "name": "stdout",
     "output_type": "stream",
     "text": [
      "[(1, '4 A ', 0.0), (2, '5 A ', 0.0), (3, '6 A ', 0.0), (4, '7 A ', 0.0), (5, '8 A ', 0.0), (6, '9 A ', 0.0), (7, '10 A ', 0.0), (8, '11 A ', 0.0), (9, '12 A ', 0.0), (10, '13 A ', 0.0), (11, '14 A ', 0.0), (12, '15 A ', 0.0), (13, '16 A ', 0.0), (14, '17 A ', 0.0), (15, '18 A ', 1.9688592001188e-06), (16, '19 A ', 0.0), (17, '20 A ', 0.0), (18, '21 A ', 0.0), (19, '22 A ', 0.0), (20, '23 A ', 0.0), (21, '24 A ', 0.0), (22, '25 A ', 0.0), (23, '26 A ', 0.0), (24, '27 A ', 7.772449350795796e-12), (25, '28 A ', 0.0), (26, '29 A ', 0.003092827512702234), (27, '30 A ', 1.7464103769968033), (28, '31 A ', 0.1716769465586177), (29, '32 A ', 0.018197432164958227), (30, '33 A ', 0.2825448673479201), (31, '34 A ', 7.964237127748127), (32, '35 A ', 7.673420950866843), (33, '36 A ', 0.18157094803399543), (34, '37 A ', 0.13637798833519252), (35, '38 A ', 7.749985616447871), (36, '39 A ', 0.5153210603025428), (37, '40 A ', 0.008786480769913119), (38, '41 A ', 0.10767258848141525), (39, '42 A ', 0.3543232494303874), (40, '43 A ', 0.004449098507617655), (41, '44 A ', 0.0), (42, '45 A ', 0.0), (43, '46 A ', 0.0), (44, '47 A ', 0.0), (45, '48 A ', 0.0), (46, '49 A ', 0.0), (47, '50 A ', 1.6625380170331994e-06), (48, '51 A ', 0.0), (49, '52 A ', 0.0), (50, '53 A ', 0.0), (51, '54 A ', 1.3595567338597903e-08), (52, '55 A ', 0.0), (53, '56 A ', 0.0), (54, '57 A ', 0.0), (55, '58 A ', 0.0), (56, '59 A ', 0.0), (57, '60 A ', 0.0), (58, '61 A ', 0.0), (59, '62 A ', 0.0), (60, '63 A ', 0.0), (61, '64 A ', 0.0), (62, '65 A ', 0.0), (63, '66 A ', 0.0), (64, '67 A ', 0.0), (65, '68 A ', 0.0), (66, '69 A ', 0.0), (67, '70 A ', 0.0), (68, '71 A ', 0.0), (69, '72 A ', 0.0), (70, '73 A ', 0.0), (71, '74 A ', 0.0), (72, '75 A ', 0.0), (73, '76 A ', 0.0), (74, '77 A ', 0.0), (75, '78 A ', 0.0), (76, '79 A ', 0.0), (77, '80 A ', 0.0), (78, '81 A ', 0.0), (79, '82 A ', 0.0), (80, '83 A ', 0.0), (81, '84 A ', 0.0), (82, '85 A ', 0.0), (83, '8 B ', 0.0), (84, '9 B ', 0.0), (85, '10 B ', 0.0), (86, '11 B ', 0.0), (87, '12 B ', 0.0), (88, '13 B ', 0.0), (89, '14 B ', 0.0), (90, '15 B ', 0.0), (91, '16 B ', 0.0), (92, '17 B ', 0.0), (93, '18 B ', 0.0), (94, '19 B ', 0.0), (95, '20 B ', 0.0), (96, '21 B ', 0.0), (97, '22 B ', 0.0), (98, '23 B ', 0.0), (99, '24 B ', 0.0), (100, '25 B ', 0.0), (101, '26 B ', 0.0), (102, '27 B ', 0.0), (103, '28 B ', 0.0), (104, '29 B ', 0.0), (105, '30 B ', 0.0), (106, '31 B ', 0.0), (107, '32 B ', 0.0), (108, '33 B ', 0.0), (109, '34 B ', 0.0), (110, '35 B ', 0.0), (111, '36 B ', 0.0), (112, '37 B ', 0.0), (113, '38 B ', 0.0), (114, '39 B ', 0.0), (115, '40 B ', 0.0), (116, '41 B ', 0.0), (117, '42 B ', 0.0), (118, '43 B ', 0.0), (119, '44 B ', 0.0), (120, '45 B ', 0.0), (121, '46 B ', 0.0), (122, '47 B ', 0.0), (123, '48 B ', 0.0), (124, '49 B ', 0.0), (125, '50 B ', 0.0), (126, '51 B ', 0.0), (127, '52 B ', 0.0), (128, '53 B ', 0.0), (129, '54 B ', 0.0), (130, '55 B ', 0.0), (131, '56 B ', 0.0), (132, '57 B ', 0.0), (133, '58 B ', 0.0), (134, '59 B ', 0.0), (135, '60 B ', 0.0), (136, '61 B ', 0.0), (137, '62 B ', 0.0), (138, '63 B ', 0.0), (139, '64 B ', 0.0), (140, '65 B ', 0.0), (141, '66 B ', 0.0), (142, '67 B ', 0.0), (143, '68 B ', 0.0), (144, '69 B ', 0.0), (145, '70 B ', 0.0), (146, '71 B ', 0.0), (147, '72 B ', 0.0), (148, '73 B ', 0.0), (149, '74 B ', 0.0), (150, '75 B ', 0.0), (151, '76 B ', 0.0), (152, '77 B ', 0.0), (153, '78 B ', 0.0), (154, '79 B ', 0.0), (155, '80 B ', 0.0), (156, '81 B ', 0.0), (157, '82 B ', 0.0), (158, '83 B ', 0.0), (159, '84 B ', 0.0), (160, '85 B ', 0.0), (161, '86 B ', 0.27589585454304877), (162, '87 B ', 0.0), (163, '88 B ', 0.0), (164, '89 B ', 0.002010362770120011), (165, '90 B ', 0.0), (166, '91 B ', 0.0), (167, '92 B ', 0.0), (168, '93 B ', 0.0), (169, '94 B ', 0.01245591153432521), (170, '95 B ', 0.35920944353042794), (171, '96 B ', 0.012702679752520374), (172, '97 B ', 0.412098976504391), (173, '98 B ', 0.09924914356353037), (174, '99 B ', 0.0), (175, '100 B ', 0.0), (176, '101 B ', 0.0), (177, '102 B ', 0.0), (178, '103 B ', 0.0), (179, '104 B ', 0.0), (180, '105 B ', 0.0), (181, '111 B ', 0.0), (182, '112 B ', 0.0), (183, '113 B ', 0.0), (184, '114 B ', 0.0), (185, '115 B ', 0.0), (186, '116 B ', 0.0), (187, '117 B ', 0.0), (188, '118 B ', 0.0), (189, '119 B ', 0.0), (190, '120 B ', 0.0), (191, '121 B ', 0.0), (192, '122 B ', 0.0), (193, '123 B ', 0.0), (194, '124 B ', 0.0), (195, '125 B ', 0.0)]\n"
     ]
    }
   ],
   "source": [
    "diff_list = []\n",
    "\n",
    "for i in range(1, total_number_of_residues + 1):\n",
    "    orig_emap = pose.energies().residue_total_energies(i)\n",
    "    mut_emap = mut_pose.energies().residue_total_energies(i)\n",
    "    \n",
    "    diff = pyrosetta.rosetta.core.scoring.EMapVector(mut_emap)\n",
    "    temp_diff = diff\n",
    "    temp_diff -= orig_emap\n",
    "    \n",
    "    diffe = temp_diff.dot(sxfn.weights())\n",
    "    \n",
    "    diff_list.append((i, pose.pdb_info().pose2pdb(i), abs(diffe)))\n",
    "\n",
    "print(diff_list)"
   ]
  },
  {
   "cell_type": "code",
   "execution_count": 27,
   "metadata": {},
   "outputs": [
    {
     "name": "stdout",
     "output_type": "stream",
     "text": [
      "(31, '34 A ', 7.964237127748127)\n",
      "(35, '38 A ', 7.749985616447871)\n",
      "(32, '35 A ', 7.673420950866843)\n",
      "(27, '30 A ', 1.7464103769968033)\n",
      "(36, '39 A ', 0.5153210603025428)\n",
      "(172, '97 B ', 0.412098976504391)\n",
      "(170, '95 B ', 0.35920944353042794)\n",
      "(39, '42 A ', 0.3543232494303874)\n",
      "(30, '33 A ', 0.2825448673479201)\n",
      "(161, '86 B ', 0.27589585454304877)\n"
     ]
    }
   ],
   "source": [
    "# Sort diff_list for 10 highest values\n",
    "diff_list.sort(key=lambda x:x[2], reverse=True)\n",
    "for i in range(10):\n",
    "    print(diff_list[i])"
   ]
  },
  {
   "cell_type": "markdown",
   "metadata": {},
   "source": [
    "2. Redo the mutagenesis and ddG calculation on backbone perturbed structures. How much do the results change? Why?"
   ]
  },
  {
   "cell_type": "code",
   "execution_count": 34,
   "metadata": {
    "deletable": false,
    "nbgrader": {
     "cell_type": "code",
     "checksum": "06afa68c1a38f6b554a0432854ae6c8a",
     "grade": true,
     "grade_id": "cell-25c2e1487e8ca68b",
     "locked": false,
     "points": 0,
     "schema_version": 3,
     "solution": true
    }
   },
   "outputs": [
    {
     "name": "stdout",
     "output_type": "stream",
     "text": [
      "\u001b[0mcore.import_pose.import_pose: {0} \u001b[0mFile '2WPT.clean.pdb' automatically determined to be of type PDB\n",
      "\u001b[0mcore.conformation.Conformation: {0} \u001b[0m\u001b[1m[ WARNING ]\u001b[0m missing heavyatom:  OXT on residue GLN:CtermProteinFull 82\n",
      "\u001b[0mcore.conformation.Conformation: {0} \u001b[0m\u001b[1m[ WARNING ]\u001b[0m missing heavyatom:  OXT on residue LYS:CtermProteinFull 195\n"
     ]
    }
   ],
   "source": [
    "# YOUR CODE HERE PROBLEM 2\n",
    "# Initialize poses before and after mutation\n",
    "orig_pose = pyrosetta.toolbox.pose_from_rcsb('2wpt')\n",
    "pose = Pose(orig_pose)\n",
    "mut_pose = Pose(orig_pose)"
   ]
  },
  {
   "cell_type": "code",
   "execution_count": 35,
   "metadata": {},
   "outputs": [
    {
     "name": "stdout",
     "output_type": "stream",
     "text": [
      "\u001b[0mbasic.io.database: {0} \u001b[0mDatabase file opened: sampling/branch_angle/branch_angle_1.txt\n",
      "\u001b[0mbasic.io.database: {0} \u001b[0mDatabase file opened: sampling/branch_angle/branch_angle_2.txt\n",
      "\u001b[0mprotocols.backrub.BackrubMover: {0} \u001b[0mSegment lengths: 3-34 atoms\n",
      "\u001b[0mprotocols.backrub.BackrubMover: {0} \u001b[0mMain chain pivot atoms: CA\n",
      "\u001b[0mprotocols.backrub.BackrubMover: {0} \u001b[0mAdding backrub segments for residues 1-195\n",
      "\u001b[0mprotocols.backrub.BackrubMover: {0} \u001b[0mTotal Segments Added: 1778\n"
     ]
    }
   ],
   "source": [
    "# Backbone perturbation BackrubMover()\n",
    "br_mover = pyrosetta.rosetta.protocols.backrub.BackrubMover()\n",
    "for i in range(100):\n",
    "    br_mover.apply(mut_pose)"
   ]
  },
  {
   "cell_type": "code",
   "execution_count": 37,
   "metadata": {},
   "outputs": [
    {
     "name": "stdout",
     "output_type": "stream",
     "text": [
      "pose_before score: -40.64878956423769\n",
      "pose_mutated score: 6471.843893733009\n",
      "ddG = 6512.492683297247\n"
     ]
    }
   ],
   "source": [
    "# Calculate ddG\n",
    "pose_before_score = sfxn(pose)\n",
    "pose_mutated_score = sfxn(mut_pose)\n",
    "print(\"pose_before score:\", pose_before_score)\n",
    "print(\"pose_mutated score:\", pose_mutated_score)\n",
    "change_score_val = pose_mutated_score - pose_before_score\n",
    "print('ddG =', change_score_val)"
   ]
  },
  {
   "cell_type": "markdown",
   "metadata": {},
   "source": [
    "3. Generate a backbone ensemble made of 20 structures with your favorate backbone sampling method. Redo the mutagenesis and ddG calculation on each structure and take the mean/meadian/mimimal score. How much do the results change? Why?"
   ]
  },
  {
   "cell_type": "code",
   "execution_count": 52,
   "metadata": {
    "deletable": false,
    "nbgrader": {
     "cell_type": "code",
     "checksum": "b599381ee90ecfb936969b6bf9031566",
     "grade": true,
     "grade_id": "cell-d25f5c9053444535",
     "locked": false,
     "points": 0,
     "schema_version": 3,
     "solution": true
    }
   },
   "outputs": [
    {
     "name": "stdout",
     "output_type": "stream",
     "text": [
      "\u001b[0mcore.import_pose.import_pose: {0} \u001b[0mFile '2wpt.pdb' automatically determined to be of type PDB\n",
      "\u001b[0mcore.conformation.Conformation: {0} \u001b[0m\u001b[1m[ WARNING ]\u001b[0m missing heavyatom:  OXT on residue GLN:CtermProteinFull 82\n",
      "\u001b[0mcore.conformation.Conformation: {0} \u001b[0m\u001b[1m[ WARNING ]\u001b[0m missing heavyatom:  OXT on residue LYS:CtermProteinFull 198\n",
      "\u001b[0mbasic.io.database: {0} \u001b[0mDatabase file opened: sampling/branch_angle/branch_angle_1.txt\n",
      "\u001b[0mbasic.io.database: {0} \u001b[0mDatabase file opened: sampling/branch_angle/branch_angle_2.txt\n",
      "\u001b[0mprotocols.backrub.BackrubMover: {0} \u001b[0mSegment lengths: 3-34 atoms\n",
      "\u001b[0mprotocols.backrub.BackrubMover: {0} \u001b[0mMain chain pivot atoms: CA\n",
      "\u001b[0mprotocols.backrub.BackrubMover: {0} \u001b[0mAdding backrub segments for residues 1-200\n",
      "\u001b[0mprotocols.backrub.BackrubMover: {0} \u001b[0mTotal Segments Added: 1778\n"
     ]
    }
   ],
   "source": [
    "# YOUR CODE HERE PROBLEM 3\n",
    "# Initialize poses before and after perturbation\n",
    "pose = pyrosetta.rosetta.core.import_pose.pose_from_file('2wpt.pdb')\n",
    "\n",
    "# Generate 20 new structures\n",
    "pose_list = [pose.clone() for i in range(20)]\n",
    "\n",
    "pose_before_scores = []\n",
    "pose_after_scores = []\n",
    "pose_ddG_list = []\n",
    "\n",
    "# BackrubMover()\n",
    "br_mover = pyrosetta.rosetta.protocols.backrub.BackrubMover()\n",
    "\n",
    "# Run backrub on each of the 20 structures\n",
    "for structure in pose_list:\n",
    "    #\n",
    "    br_mover.apply(structure) # apply mover\n",
    "    #pose_after_scores.append(sfxn(pose))\n",
    "\n",
    "for structure in pose_list:\n",
    "    pose_before_scores.append(sfxn(structure))\n",
    "    mutater31.apply(structure)\n",
    "    mutater35.apply(structure)\n",
    "    pose_after_scores.append(sfxn(structure))\n",
    "\n",
    "for i in range(len(pose_before_scores)):\n",
    "    pose_ddG_list.append(pose_after_scores[i] - pose_before_scores[i])"
   ]
  },
  {
   "cell_type": "code",
   "execution_count": 54,
   "metadata": {},
   "outputs": [
    {
     "name": "stdout",
     "output_type": "stream",
     "text": [
      "191.18826046693317\n",
      "214.4956563689754\n",
      "Mean score = 23.30739590204225\n",
      "Median score = 24.228007767580117\n",
      "Min score = -1.238406967161609\n"
     ]
    }
   ],
   "source": [
    "import numpy as np\n",
    "pose_ddG_array = np.array(pose_ddG_list)\n",
    "pose_before = np.array(pose_before_scores)\n",
    "pose_after = np.array(pose_after_scores)\n",
    "print(pose_before.mean())\n",
    "print(pose_after.mean())\n",
    "print('Mean score =', pose_ddG_array.mean())\n",
    "print('Median score =', np.median(pose_ddG_array))\n",
    "print('Min score =', pose_ddG_array.min())"
   ]
  },
  {
   "cell_type": "markdown",
   "metadata": {},
   "source": [
    "4. The above ddG analysis is very crude and inaccurate. What improvements should be introduced to make it better?"
   ]
  },
  {
   "cell_type": "code",
   "execution_count": null,
   "metadata": {
    "deletable": false,
    "nbgrader": {
     "cell_type": "code",
     "checksum": "0a8a717c531b6329fbfef5eee8c0d6e9",
     "grade": true,
     "grade_id": "cell-717b13f568c710ef",
     "locked": false,
     "points": 0,
     "schema_version": 3,
     "solution": true
    }
   },
   "outputs": [],
   "source": [
    "# YOUR CODE HERE PROBLEM 4\n",
    "The prediction protocol should let random mover, look to see if energy has gotten worse, reject, \n",
    "if energy gets better, accept it\n",
    "MONTE CARLO \n",
    "change\n",
    "score\n",
    "mutate\n",
    "score"
   ]
  },
  {
   "cell_type": "code",
   "execution_count": null,
   "metadata": {
    "deletable": false,
    "nbgrader": {
     "cell_type": "code",
     "checksum": "d52a6190800686ae9a19eb4ee8ee6690",
     "grade": true,
     "grade_id": "cell-e9c6349c815ed0ef",
     "locked": false,
     "points": 0,
     "schema_version": 3,
     "solution": true
    }
   },
   "outputs": [],
   "source": []
  },
  {
   "cell_type": "code",
   "execution_count": null,
   "metadata": {},
   "outputs": [],
   "source": []
  }
 ],
 "metadata": {
  "kernelspec": {
   "display_name": "Python 3",
   "language": "python",
   "name": "python3"
  },
  "language_info": {
   "codemirror_mode": {
    "name": "ipython",
    "version": 3
   },
   "file_extension": ".py",
   "mimetype": "text/x-python",
   "name": "python",
   "nbconvert_exporter": "python",
   "pygments_lexer": "ipython3",
   "version": "3.7.7"
  }
 },
 "nbformat": 4,
 "nbformat_minor": 2
}
