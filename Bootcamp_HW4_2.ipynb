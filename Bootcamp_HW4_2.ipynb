{
  "nbformat": 4,
  "nbformat_minor": 0,
  "metadata": {
    "colab": {
      "name": "Bootcamp-HW4-2.py",
      "provenance": []
    },
    "kernelspec": {
      "name": "python3",
      "display_name": "Python 3"
    }
  },
  "cells": [
    {
      "cell_type": "code",
      "metadata": {
        "id": "BOqUVAgS248E",
        "colab_type": "code",
        "colab": {}
      },
      "source": [
        "import numpy as np\n",
        "import matplotlib.pyplot as plt\n",
        "import time"
      ],
      "execution_count": 0,
      "outputs": []
    },
    {
      "cell_type": "code",
      "metadata": {
        "id": "BWSQrE2a2j7c",
        "colab_type": "code",
        "colab": {}
      },
      "source": [
        "def fib_iterative(n):\n",
        "    fiblist = [1,1]\n",
        "    timelist = [0,0]\n",
        "    for i in range(2, n+1):\n",
        "      start = time.time()\n",
        "      fiblist.append(fiblist[i - 1] + fiblist[i - 2])\n",
        "      stop = time.time()\n",
        "      timelist.append(start - stop)\n",
        "    #print(timelist)\n",
        "    return fiblist, timelist"
      ],
      "execution_count": 0,
      "outputs": []
    },
    {
      "cell_type": "code",
      "metadata": {
        "id": "pMTG1QfL3QYt",
        "colab_type": "code",
        "colab": {}
      },
      "source": [
        "x, y = fib_iterative(40)\n"
      ],
      "execution_count": 0,
      "outputs": []
    },
    {
      "cell_type": "code",
      "metadata": {
        "id": "75p5lhiiWRPn",
        "colab_type": "code",
        "colab": {
          "base_uri": "https://localhost:8080/",
          "height": 290
        },
        "outputId": "0c149636-b8cc-4b06-9be1-10c466008556"
      },
      "source": [
        "plt.plot(x,y)\n",
        "plt.xlabel('Value of the nth Fib number')\n",
        "plt.ylabel('Time')\n",
        "plt.show()\n"
      ],
      "execution_count": 13,
      "outputs": [
        {
          "output_type": "display_data",
          "data": {
            "image/png": "[encoded data removed]",
            "text/plain": [
              "<Figure size 432x288 with 1 Axes>"
            ]
          },
          "metadata": {
            "tags": [],
            "needs_background": "light"
          }
        }
      ]
    }
  ]
}