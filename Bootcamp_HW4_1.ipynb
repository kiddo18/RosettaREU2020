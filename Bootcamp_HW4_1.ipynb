{
  "nbformat": 4,
  "nbformat_minor": 0,
  "metadata": {
    "colab": {
      "name": "Bootcamp-HW4-1",
      "provenance": [],
      "collapsed_sections": []
    },
    "kernelspec": {
      "name": "python3",
      "display_name": "Python 3"
    }
  },
  "cells": [
    {
      "cell_type": "code",
      "metadata": {
        "id": "uid7rkatpxRD",
        "colab_type": "code",
        "colab": {}
      },
      "source": [
        "import numpy as np\n",
        "import matplotlib.pyplot as plt\n",
        "import time"
      ],
      "execution_count": 0,
      "outputs": []
    },
    {
      "cell_type": "code",
      "metadata": {
        "id": "k3eP08Abpztq",
        "colab_type": "code",
        "colab": {}
      },
      "source": [
        "def fib(n):\n",
        "    if n == 1 or n == 2:\n",
        "        return 1\n",
        "    else:\n",
        "        return fib(n-1) + fib(n-2)"
      ],
      "execution_count": 0,
      "outputs": []
    },
    {
      "cell_type": "code",
      "metadata": {
        "id": "4NakI-dxp3cz",
        "colab_type": "code",
        "colab": {}
      },
      "source": [
        "x = np.zeros(40)\n",
        "y = np.zeros(40)\n",
        "for i in range(1, 41):\n",
        "    time_start = time.time()\n",
        "    x[i-1] = fib(i)\n",
        "    time_stop = time.time()\n",
        "    y[i-1] = time_stop - time_start"
      ],
      "execution_count": 0,
      "outputs": []
    },
    {
      "cell_type": "code",
      "metadata": {
        "id": "u7sJUYWmp7B1",
        "colab_type": "code",
        "outputId": "1409def1-d8ab-4152-ab76-b28b6521b4bd",
        "colab": {
          "base_uri": "https://localhost:8080/",
          "height": 619
        }
      },
      "source": [
        "plt.plot(x,y)\n",
        "plt.xlabel('Value of the nth Fib number')\n",
        "plt.ylabel('Time')\n",
        "plt.show()\n",
        "print(x)\n",
        "print(y)"
      ],
      "execution_count": 0,
      "outputs": [
        {
          "output_type": "display_data",
          "data": {
            "image/png": "[encoded data removed]",
            "text/plain": [
              "<Figure size 432x288 with 1 Axes>"
            ]
          },
          "metadata": {
            "tags": [],
            "needs_background": "light"
          }
        },
        {
          "output_type": "stream",
          "text": [
            "[1.00000000e+00 1.00000000e+00 2.00000000e+00 3.00000000e+00\n",
            " 5.00000000e+00 8.00000000e+00 1.30000000e+01 2.10000000e+01\n",
            " 3.40000000e+01 5.50000000e+01 8.90000000e+01 1.44000000e+02\n",
            " 2.33000000e+02 3.77000000e+02 6.10000000e+02 9.87000000e+02\n",
            " 1.59700000e+03 2.58400000e+03 4.18100000e+03 6.76500000e+03\n",
            " 1.09460000e+04 1.77110000e+04 2.86570000e+04 4.63680000e+04\n",
            " 7.50250000e+04 1.21393000e+05 1.96418000e+05 3.17811000e+05\n",
            " 5.14229000e+05 8.32040000e+05 1.34626900e+06 2.17830900e+06\n",
            " 3.52457800e+06 5.70288700e+06 9.22746500e+06 1.49303520e+07\n",
            " 2.41578170e+07 3.90881690e+07 6.32459860e+07 1.02334155e+08]\n",
            "[5.41210175e-05 1.43051147e-06 1.90734863e-06 2.14576721e-06\n",
            " 2.86102295e-06 3.81469727e-06 6.19888306e-06 9.29832458e-06\n",
            " 2.33650208e-05 2.64644623e-05 4.22000885e-05 6.60419464e-05\n",
            " 1.07765198e-04 1.72615051e-04 2.91585922e-04 4.23908234e-04\n",
            " 9.03367996e-04 6.30378723e-04 1.01041794e-03 1.61218643e-03\n",
            " 2.66146660e-03 4.20928001e-03 8.86011124e-03 1.34038925e-02\n",
            " 1.99053288e-02 2.93254852e-02 4.67674732e-02 7.94315338e-02\n",
            " 1.25550270e-01 1.97768688e-01 3.25572729e-01 5.18124819e-01\n",
            " 8.41519833e-01 1.36100531e+00 2.22894573e+00 3.56663013e+00\n",
            " 5.79938221e+00 9.33166766e+00 1.51821017e+01 2.45467579e+01]\n"
          ],
          "name": "stdout"
        }
      ]
    },
    {
      "cell_type": "code",
      "metadata": {
        "id": "WE_jX2f32s7r",
        "colab_type": "code",
        "colab": {}
      },
      "source": [
        ""
      ],
      "execution_count": 0,
      "outputs": []
    }
  ]
}